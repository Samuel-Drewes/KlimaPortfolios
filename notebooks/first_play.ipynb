{
 "cells": [
  {
   "cell_type": "markdown",
   "id": "3677799c",
   "metadata": {},
   "source": [
    "# Imports"
   ]
  },
  {
   "cell_type": "code",
   "execution_count": 1,
   "id": "1f4c57cf",
   "metadata": {},
   "outputs": [],
   "source": [
    "import numpy as np\n",
    "import pandas as pd\n",
    "\n",
    "from functools import reduce\n",
    "\n",
    "\n",
    "import plotly.express as px\n",
    "import plotly.graph_objects as go\n",
    "\n",
    "\n",
    "\n",
    "import warnings\n",
    "warnings.filterwarnings('ignore')"
   ]
  },
  {
   "cell_type": "code",
   "execution_count": 73,
   "id": "133597e2",
   "metadata": {},
   "outputs": [],
   "source": [
    "df_2013 = pd.read_csv('../data/2013.csv')\n",
    "df_2014 = pd.read_csv('../data/2014.csv')\n",
    "df_2015 = pd.read_csv('../data/2015.csv')\n",
    "df_2016 = pd.read_csv('../data/2016.csv')\n",
    "df_2017 = pd.read_csv('../data/2017.csv')\n",
    "df_2018 = pd.read_csv('../data/2018.csv')\n",
    "df_2019 = pd.read_csv('../data/2019.csv')\n",
    "df_2020 = pd.read_csv('../data/2020.csv')\n",
    "df_2021 = pd.read_csv('../data/2021.csv')\n",
    "df_2022 = pd.read_csv('../data/2022.csv')\n"
   ]
  },
  {
   "cell_type": "code",
   "execution_count": 74,
   "id": "bd985f52",
   "metadata": {},
   "outputs": [],
   "source": [
    "dictionary_df = {\n",
    "    '2013': df_2013,\n",
    "    '2014': df_2014,\n",
    "    '2015': df_2015,\n",
    "    '2016': df_2016,\n",
    "    '2017': df_2017,\n",
    "    '2018': df_2018,\n",
    "    '2019': df_2019,\n",
    "    '2020': df_2020,\n",
    "    '2021': df_2021,\n",
    "    '2022': df_2022,\n",
    "}\n",
    "\n",
    "for key, df in dictionary_df.items():\n",
    "    dictionary_df[key] = df[df['Donor Agency'] == 'Bundesministerium fnr Wirtschaftliche Zusammenarbeit und Entwicklung']\n",
    "    \n",
    "    \n",
    "    "
   ]
  },
  {
   "cell_type": "markdown",
   "id": "f82e3b40",
   "metadata": {},
   "source": [
    "## ToDo\n",
    "\n",
    "- % Zuwachs: Either since 2015 or Benutzerdefiniert\n",
    "- Waterfall graphs for %, stacked barchart for Gesamtvolum\n",
    "- Top/Bottom 10\n",
    "- DF to the bottom"
   ]
  },
  {
   "cell_type": "markdown",
   "id": "4a8ce37c",
   "metadata": {},
   "source": [
    "Filter Steps:\n",
    " 1. Only BMZ\n",
    " 2. 100% of full, 50% of Partial Financing"
   ]
  },
  {
   "cell_type": "markdown",
   "id": "a6564ecf",
   "metadata": {},
   "source": [
    "# World"
   ]
  },
  {
   "cell_type": "markdown",
   "id": "c1f235cd",
   "metadata": {},
   "source": [
    "### Basic Processing of Data\n"
   ]
  },
  {
   "cell_type": "code",
   "execution_count": 75,
   "id": "207cf02c",
   "metadata": {},
   "outputs": [],
   "source": [
    "# Basic Processing of Data\n",
    "\n",
    "def determine_value(row):\n",
    "    if 2.0 in row[['Climate Adaptation', 'Climate Mitigation']].values:\n",
    "        return 1\n",
    "    elif 1.0 in row[['Climate Adaptation', 'Climate Mitigation']].values:\n",
    "        return 0.5\n",
    "    else:\n",
    "        return 0\n",
    "\n",
    "# final_dict = dictionary_df.copy()    \n",
    "processed_grouped_dfs = []\n",
    "\n",
    "    \n",
    "for year, df in dictionary_df.items():\n",
    "    \n",
    "    # Data Cleaning\n",
    "    use_df = df[['Recipient Name', 'Amount', 'Climate Mitigation', 'Climate Adaptation']]\n",
    "    use_df['Climate Adaptation'] = use_df['Climate Adaptation'].fillna(0)\n",
    "    use_df['Climate Mitigation'] = use_df['Climate Mitigation'].fillna(0)\n",
    "    \n",
    "    # Applying analysis Rules\n",
    "    \n",
    "    use_df['clim_rel'] = use_df.apply(determine_value, axis=1)\n",
    "    \n",
    "    use_df['clim_rel_amount'] = use_df['Amount'] * use_df['clim_rel']\n",
    "    \n",
    "    # Grouping by Country and calculating\n",
    "    \n",
    "    grouped_df = use_df.groupby(['Recipient Name']).sum()[['Amount', 'clim_rel_amount']]\n",
    "    \n",
    "    grouped_df['clim_rel_percent'] = grouped_df['clim_rel_amount'] / grouped_df['Amount']\n",
    "    \n",
    "    grouped_df = grouped_df.rename(columns= {\n",
    "        'Amount': f\"amount_{year}\",\n",
    "        'clim_rel_amount': f\"clim_rel_amount_{year}\",\n",
    "        'clim_rel_percent': f\"clim_rel_percent_{year}\"\n",
    "    })\n",
    "    \n",
    "    # Merging DF\n",
    "    \n",
    "    processed_grouped_dfs.append(grouped_df)\n",
    "    \n",
    "df_merged = reduce(lambda left, right: pd.merge(left, right, on='Recipient Name', how='outer'), processed_grouped_dfs)\n",
    "\n"
   ]
  },
  {
   "cell_type": "code",
   "execution_count": 82,
   "id": "8bec3711",
   "metadata": {},
   "outputs": [
    {
     "data": {
      "text/html": [
       "<div>\n",
       "<style scoped>\n",
       "    .dataframe tbody tr th:only-of-type {\n",
       "        vertical-align: middle;\n",
       "    }\n",
       "\n",
       "    .dataframe tbody tr th {\n",
       "        vertical-align: top;\n",
       "    }\n",
       "\n",
       "    .dataframe thead th {\n",
       "        text-align: right;\n",
       "    }\n",
       "</style>\n",
       "<table border=\"1\" class=\"dataframe\">\n",
       "  <thead>\n",
       "    <tr style=\"text-align: right;\">\n",
       "      <th></th>\n",
       "      <th>amount_2013</th>\n",
       "      <th>clim_rel_amount_2013</th>\n",
       "      <th>clim_rel_percent_2013</th>\n",
       "      <th>amount_2014</th>\n",
       "      <th>clim_rel_amount_2014</th>\n",
       "      <th>clim_rel_percent_2014</th>\n",
       "      <th>amount_2015</th>\n",
       "      <th>clim_rel_amount_2015</th>\n",
       "      <th>clim_rel_percent_2015</th>\n",
       "      <th>amount_2016</th>\n",
       "      <th>...</th>\n",
       "      <th>clim_rel_percent_2019</th>\n",
       "      <th>amount_2020</th>\n",
       "      <th>clim_rel_amount_2020</th>\n",
       "      <th>clim_rel_percent_2020</th>\n",
       "      <th>amount_2021</th>\n",
       "      <th>clim_rel_amount_2021</th>\n",
       "      <th>clim_rel_percent_2021</th>\n",
       "      <th>amount_2022</th>\n",
       "      <th>clim_rel_amount_2022</th>\n",
       "      <th>clim_rel_percent_2022</th>\n",
       "    </tr>\n",
       "    <tr>\n",
       "      <th>Recipient Name</th>\n",
       "      <th></th>\n",
       "      <th></th>\n",
       "      <th></th>\n",
       "      <th></th>\n",
       "      <th></th>\n",
       "      <th></th>\n",
       "      <th></th>\n",
       "      <th></th>\n",
       "      <th></th>\n",
       "      <th></th>\n",
       "      <th></th>\n",
       "      <th></th>\n",
       "      <th></th>\n",
       "      <th></th>\n",
       "      <th></th>\n",
       "      <th></th>\n",
       "      <th></th>\n",
       "      <th></th>\n",
       "      <th></th>\n",
       "      <th></th>\n",
       "      <th></th>\n",
       "    </tr>\n",
       "  </thead>\n",
       "  <tbody>\n",
       "    <tr>\n",
       "      <th>Argentina</th>\n",
       "      <td>4.394577</td>\n",
       "      <td>1.273991</td>\n",
       "      <td>0.289901</td>\n",
       "      <td>4.975084</td>\n",
       "      <td>1.569978</td>\n",
       "      <td>0.315568</td>\n",
       "      <td>48.619634</td>\n",
       "      <td>1.161736</td>\n",
       "      <td>0.023894</td>\n",
       "      <td>4.122951</td>\n",
       "      <td>...</td>\n",
       "      <td>0.187780</td>\n",
       "      <td>3.203587</td>\n",
       "      <td>0.647809</td>\n",
       "      <td>0.202214</td>\n",
       "      <td>4.035065</td>\n",
       "      <td>0.836634</td>\n",
       "      <td>0.207341</td>\n",
       "      <td>1.199731</td>\n",
       "      <td>0.187548</td>\n",
       "      <td>0.156325</td>\n",
       "    </tr>\n",
       "    <tr>\n",
       "      <th>Brazil</th>\n",
       "      <td>117.984860</td>\n",
       "      <td>84.179631</td>\n",
       "      <td>0.713478</td>\n",
       "      <td>60.828641</td>\n",
       "      <td>35.184794</td>\n",
       "      <td>0.578425</td>\n",
       "      <td>50.015792</td>\n",
       "      <td>27.143116</td>\n",
       "      <td>0.542691</td>\n",
       "      <td>103.262959</td>\n",
       "      <td>...</td>\n",
       "      <td>0.553333</td>\n",
       "      <td>37.305778</td>\n",
       "      <td>18.056351</td>\n",
       "      <td>0.484010</td>\n",
       "      <td>68.298989</td>\n",
       "      <td>32.506532</td>\n",
       "      <td>0.475945</td>\n",
       "      <td>42.928006</td>\n",
       "      <td>13.720415</td>\n",
       "      <td>0.319615</td>\n",
       "    </tr>\n",
       "  </tbody>\n",
       "</table>\n",
       "<p>2 rows × 30 columns</p>\n",
       "</div>"
      ],
      "text/plain": [
       "                amount_2013  clim_rel_amount_2013  clim_rel_percent_2013  \\\n",
       "Recipient Name                                                             \n",
       "Argentina          4.394577              1.273991               0.289901   \n",
       "Brazil           117.984860             84.179631               0.713478   \n",
       "\n",
       "                amount_2014  clim_rel_amount_2014  clim_rel_percent_2014  \\\n",
       "Recipient Name                                                             \n",
       "Argentina          4.975084              1.569978               0.315568   \n",
       "Brazil            60.828641             35.184794               0.578425   \n",
       "\n",
       "                amount_2015  clim_rel_amount_2015  clim_rel_percent_2015  \\\n",
       "Recipient Name                                                             \n",
       "Argentina         48.619634              1.161736               0.023894   \n",
       "Brazil            50.015792             27.143116               0.542691   \n",
       "\n",
       "                amount_2016  ...  clim_rel_percent_2019  amount_2020  \\\n",
       "Recipient Name               ...                                       \n",
       "Argentina          4.122951  ...               0.187780     3.203587   \n",
       "Brazil           103.262959  ...               0.553333    37.305778   \n",
       "\n",
       "                clim_rel_amount_2020  clim_rel_percent_2020  amount_2021  \\\n",
       "Recipient Name                                                             \n",
       "Argentina                   0.647809               0.202214     4.035065   \n",
       "Brazil                     18.056351               0.484010    68.298989   \n",
       "\n",
       "                clim_rel_amount_2021  clim_rel_percent_2021  amount_2022  \\\n",
       "Recipient Name                                                             \n",
       "Argentina                   0.836634               0.207341     1.199731   \n",
       "Brazil                     32.506532               0.475945    42.928006   \n",
       "\n",
       "                clim_rel_amount_2022  clim_rel_percent_2022  \n",
       "Recipient Name                                               \n",
       "Argentina                   0.187548               0.156325  \n",
       "Brazil                     13.720415               0.319615  \n",
       "\n",
       "[2 rows x 30 columns]"
      ]
     },
     "execution_count": 82,
     "metadata": {},
     "output_type": "execute_result"
    }
   ],
   "source": []
  },
  {
   "cell_type": "code",
   "execution_count": null,
   "id": "94956543",
   "metadata": {},
   "outputs": [],
   "source": [
    "selected_columns = [col for col in df_merged.columns if col.startswith('amount_') or col.startswith('clim_rel_amount_')]\n",
    "filtered_df = df_merged[selected_columns]\n",
    "\n",
    "sums = filtered_df.sum()\n",
    "globe_df = filtered_df.append(sums, ignore_index=True)\n",
    "\n",
    "\n",
    "globe_df = globe_df.loc[[142]]\n",
    "\n",
    "globe_df"
   ]
  },
  {
   "cell_type": "markdown",
   "id": "b81cdf20",
   "metadata": {
    "heading_collapsed": true
   },
   "source": [
    "### Prepare data for stacked barchart\n"
   ]
  },
  {
   "cell_type": "code",
   "execution_count": null,
   "id": "89a9a94c",
   "metadata": {
    "hidden": true
   },
   "outputs": [],
   "source": [
    "\n",
    "for year in years:\n",
    "    amount_col = f'amount_{year}'\n",
    "    clim_rel_amount_col = f'clim_rel_amount_{year}'\n",
    "    non_clim_col = f'non_clim_amount_{year}'\n",
    "    globe_df[non_clim_col] = globe_df[amount_col] - globe_df[clim_rel_amount_col]\n",
    "\n",
    "# Step 2: Melt the dataframe for plotting\n",
    "# Including both climatic and non-climatic amounts\n",
    "melted_df = globe_df.melt(value_vars=[f'clim_rel_amount_{year}' for year in years] + \n",
    "                             [f'non_clim_amount_{year}' for year in years],\n",
    "                             var_name='Type_Year', value_name='Amount')\n",
    "\n",
    "\n",
    "\n",
    "# Split 'Type_Year' into separate 'Year' and 'Type' columns\n",
    "melted_df['Year'] = melted_df['Type_Year'].apply(lambda x: x.split('_')[-1])\n",
    "melted_df['Type'] = melted_df['Type_Year'].apply(lambda x: 'Climate Finance' if 'clim_rel_amount' in x else 'Other Funds')\n",
    "\n",
    "melted_df['Amount'] = melted_df['Amount'] * 1_000_000\n",
    "\n",
    "\n",
    "\n",
    "melted_df.to_csv(\"../upload_data/globe_df\")"
   ]
  },
  {
   "cell_type": "markdown",
   "id": "5be41139",
   "metadata": {
    "heading_collapsed": true
   },
   "source": [
    "### Plot stacked bar"
   ]
  },
  {
   "cell_type": "code",
   "execution_count": 15,
   "id": "4c8c4aab",
   "metadata": {
    "hidden": true
   },
   "outputs": [
    {
     "data": {
      "text/html": [
       "<div>\n",
       "<style scoped>\n",
       "    .dataframe tbody tr th:only-of-type {\n",
       "        vertical-align: middle;\n",
       "    }\n",
       "\n",
       "    .dataframe tbody tr th {\n",
       "        vertical-align: top;\n",
       "    }\n",
       "\n",
       "    .dataframe thead th {\n",
       "        text-align: right;\n",
       "    }\n",
       "</style>\n",
       "<table border=\"1\" class=\"dataframe\">\n",
       "  <thead>\n",
       "    <tr style=\"text-align: right;\">\n",
       "      <th></th>\n",
       "      <th>Unnamed: 0</th>\n",
       "      <th>Type_Year</th>\n",
       "      <th>Amount</th>\n",
       "      <th>Year</th>\n",
       "      <th>Type</th>\n",
       "    </tr>\n",
       "  </thead>\n",
       "  <tbody>\n",
       "    <tr>\n",
       "      <th>5</th>\n",
       "      <td>5</td>\n",
       "      <td>clim_rel_amount_2018</td>\n",
       "      <td>1.659673e+09</td>\n",
       "      <td>2018</td>\n",
       "      <td>Climate Finance</td>\n",
       "    </tr>\n",
       "    <tr>\n",
       "      <th>15</th>\n",
       "      <td>15</td>\n",
       "      <td>non_clim_amount_2018</td>\n",
       "      <td>6.837719e+09</td>\n",
       "      <td>2018</td>\n",
       "      <td>Other Funds</td>\n",
       "    </tr>\n",
       "  </tbody>\n",
       "</table>\n",
       "</div>"
      ],
      "text/plain": [
       "    Unnamed: 0             Type_Year        Amount  Year             Type\n",
       "5            5  clim_rel_amount_2018  1.659673e+09  2018  Climate Finance\n",
       "15          15  non_clim_amount_2018  6.837719e+09  2018      Other Funds"
      ]
     },
     "execution_count": 15,
     "metadata": {},
     "output_type": "execute_result"
    }
   ],
   "source": [
    "read_df[read_df['Year'].between(2018,2018)]"
   ]
  },
  {
   "cell_type": "code",
   "execution_count": 18,
   "id": "d513de9a",
   "metadata": {
    "hidden": true
   },
   "outputs": [
    {
     "data": {
      "application/vnd.plotly.v1+json": {
       "config": {
        "plotlyServerURL": "https://plot.ly"
       },
       "data": [
        {
         "alignmentgroup": "True",
         "hovertemplate": "Type=Other Funds<br>Year=%{x}<br>Financing Amount (Euros)=%{y}<extra></extra>",
         "legendgroup": "Other Funds",
         "marker": {
          "color": "orange",
          "pattern": {
           "shape": ""
          }
         },
         "name": "Other Funds",
         "offsetgroup": "Other Funds",
         "orientation": "v",
         "showlegend": true,
         "textposition": "auto",
         "type": "bar",
         "x": [
          2013,
          2014,
          2015,
          2016,
          2017,
          2018,
          2019,
          2020,
          2021,
          2022
         ],
         "xaxis": "x",
         "y": [
          4781689208.000001,
          5835755035.5,
          4884894186,
          6024165664.499999,
          6212956326,
          6837718702.499998,
          7118226759,
          8623937707.500002,
          8626519826,
          9238493687.500002
         ],
         "yaxis": "y"
        },
        {
         "alignmentgroup": "True",
         "hovertemplate": "Type=Climate Finance<br>Year=%{x}<br>Financing Amount (Euros)=%{y}<extra></extra>",
         "legendgroup": "Climate Finance",
         "marker": {
          "color": "green",
          "pattern": {
           "shape": ""
          }
         },
         "name": "Climate Finance",
         "offsetgroup": "Climate Finance",
         "orientation": "v",
         "showlegend": true,
         "textposition": "auto",
         "type": "bar",
         "x": [
          2013,
          2014,
          2015,
          2016,
          2017,
          2018,
          2019,
          2020,
          2021,
          2022
         ],
         "xaxis": "x",
         "y": [
          845563368.0000001,
          1036792467.5,
          995181229,
          1352222298.5,
          1457414366,
          1659672746.5000002,
          2007334822,
          2195044258.5,
          2490046211.0000005,
          2830265129.5
         ],
         "yaxis": "y"
        }
       ],
       "layout": {
        "barmode": "relative",
        "legend": {
         "title": {
          "text": "Type"
         },
         "tracegroupgap": 0
        },
        "template": {
         "data": {
          "bar": [
           {
            "error_x": {
             "color": "#2a3f5f"
            },
            "error_y": {
             "color": "#2a3f5f"
            },
            "marker": {
             "line": {
              "color": "#E5ECF6",
              "width": 0.5
             },
             "pattern": {
              "fillmode": "overlay",
              "size": 10,
              "solidity": 0.2
             }
            },
            "type": "bar"
           }
          ],
          "barpolar": [
           {
            "marker": {
             "line": {
              "color": "#E5ECF6",
              "width": 0.5
             },
             "pattern": {
              "fillmode": "overlay",
              "size": 10,
              "solidity": 0.2
             }
            },
            "type": "barpolar"
           }
          ],
          "carpet": [
           {
            "aaxis": {
             "endlinecolor": "#2a3f5f",
             "gridcolor": "white",
             "linecolor": "white",
             "minorgridcolor": "white",
             "startlinecolor": "#2a3f5f"
            },
            "baxis": {
             "endlinecolor": "#2a3f5f",
             "gridcolor": "white",
             "linecolor": "white",
             "minorgridcolor": "white",
             "startlinecolor": "#2a3f5f"
            },
            "type": "carpet"
           }
          ],
          "choropleth": [
           {
            "colorbar": {
             "outlinewidth": 0,
             "ticks": ""
            },
            "type": "choropleth"
           }
          ],
          "contour": [
           {
            "colorbar": {
             "outlinewidth": 0,
             "ticks": ""
            },
            "colorscale": [
             [
              0,
              "#0d0887"
             ],
             [
              0.1111111111111111,
              "#46039f"
             ],
             [
              0.2222222222222222,
              "#7201a8"
             ],
             [
              0.3333333333333333,
              "#9c179e"
             ],
             [
              0.4444444444444444,
              "#bd3786"
             ],
             [
              0.5555555555555556,
              "#d8576b"
             ],
             [
              0.6666666666666666,
              "#ed7953"
             ],
             [
              0.7777777777777778,
              "#fb9f3a"
             ],
             [
              0.8888888888888888,
              "#fdca26"
             ],
             [
              1,
              "#f0f921"
             ]
            ],
            "type": "contour"
           }
          ],
          "contourcarpet": [
           {
            "colorbar": {
             "outlinewidth": 0,
             "ticks": ""
            },
            "type": "contourcarpet"
           }
          ],
          "heatmap": [
           {
            "colorbar": {
             "outlinewidth": 0,
             "ticks": ""
            },
            "colorscale": [
             [
              0,
              "#0d0887"
             ],
             [
              0.1111111111111111,
              "#46039f"
             ],
             [
              0.2222222222222222,
              "#7201a8"
             ],
             [
              0.3333333333333333,
              "#9c179e"
             ],
             [
              0.4444444444444444,
              "#bd3786"
             ],
             [
              0.5555555555555556,
              "#d8576b"
             ],
             [
              0.6666666666666666,
              "#ed7953"
             ],
             [
              0.7777777777777778,
              "#fb9f3a"
             ],
             [
              0.8888888888888888,
              "#fdca26"
             ],
             [
              1,
              "#f0f921"
             ]
            ],
            "type": "heatmap"
           }
          ],
          "heatmapgl": [
           {
            "colorbar": {
             "outlinewidth": 0,
             "ticks": ""
            },
            "colorscale": [
             [
              0,
              "#0d0887"
             ],
             [
              0.1111111111111111,
              "#46039f"
             ],
             [
              0.2222222222222222,
              "#7201a8"
             ],
             [
              0.3333333333333333,
              "#9c179e"
             ],
             [
              0.4444444444444444,
              "#bd3786"
             ],
             [
              0.5555555555555556,
              "#d8576b"
             ],
             [
              0.6666666666666666,
              "#ed7953"
             ],
             [
              0.7777777777777778,
              "#fb9f3a"
             ],
             [
              0.8888888888888888,
              "#fdca26"
             ],
             [
              1,
              "#f0f921"
             ]
            ],
            "type": "heatmapgl"
           }
          ],
          "histogram": [
           {
            "marker": {
             "pattern": {
              "fillmode": "overlay",
              "size": 10,
              "solidity": 0.2
             }
            },
            "type": "histogram"
           }
          ],
          "histogram2d": [
           {
            "colorbar": {
             "outlinewidth": 0,
             "ticks": ""
            },
            "colorscale": [
             [
              0,
              "#0d0887"
             ],
             [
              0.1111111111111111,
              "#46039f"
             ],
             [
              0.2222222222222222,
              "#7201a8"
             ],
             [
              0.3333333333333333,
              "#9c179e"
             ],
             [
              0.4444444444444444,
              "#bd3786"
             ],
             [
              0.5555555555555556,
              "#d8576b"
             ],
             [
              0.6666666666666666,
              "#ed7953"
             ],
             [
              0.7777777777777778,
              "#fb9f3a"
             ],
             [
              0.8888888888888888,
              "#fdca26"
             ],
             [
              1,
              "#f0f921"
             ]
            ],
            "type": "histogram2d"
           }
          ],
          "histogram2dcontour": [
           {
            "colorbar": {
             "outlinewidth": 0,
             "ticks": ""
            },
            "colorscale": [
             [
              0,
              "#0d0887"
             ],
             [
              0.1111111111111111,
              "#46039f"
             ],
             [
              0.2222222222222222,
              "#7201a8"
             ],
             [
              0.3333333333333333,
              "#9c179e"
             ],
             [
              0.4444444444444444,
              "#bd3786"
             ],
             [
              0.5555555555555556,
              "#d8576b"
             ],
             [
              0.6666666666666666,
              "#ed7953"
             ],
             [
              0.7777777777777778,
              "#fb9f3a"
             ],
             [
              0.8888888888888888,
              "#fdca26"
             ],
             [
              1,
              "#f0f921"
             ]
            ],
            "type": "histogram2dcontour"
           }
          ],
          "mesh3d": [
           {
            "colorbar": {
             "outlinewidth": 0,
             "ticks": ""
            },
            "type": "mesh3d"
           }
          ],
          "parcoords": [
           {
            "line": {
             "colorbar": {
              "outlinewidth": 0,
              "ticks": ""
             }
            },
            "type": "parcoords"
           }
          ],
          "pie": [
           {
            "automargin": true,
            "type": "pie"
           }
          ],
          "scatter": [
           {
            "fillpattern": {
             "fillmode": "overlay",
             "size": 10,
             "solidity": 0.2
            },
            "type": "scatter"
           }
          ],
          "scatter3d": [
           {
            "line": {
             "colorbar": {
              "outlinewidth": 0,
              "ticks": ""
             }
            },
            "marker": {
             "colorbar": {
              "outlinewidth": 0,
              "ticks": ""
             }
            },
            "type": "scatter3d"
           }
          ],
          "scattercarpet": [
           {
            "marker": {
             "colorbar": {
              "outlinewidth": 0,
              "ticks": ""
             }
            },
            "type": "scattercarpet"
           }
          ],
          "scattergeo": [
           {
            "marker": {
             "colorbar": {
              "outlinewidth": 0,
              "ticks": ""
             }
            },
            "type": "scattergeo"
           }
          ],
          "scattergl": [
           {
            "marker": {
             "colorbar": {
              "outlinewidth": 0,
              "ticks": ""
             }
            },
            "type": "scattergl"
           }
          ],
          "scattermapbox": [
           {
            "marker": {
             "colorbar": {
              "outlinewidth": 0,
              "ticks": ""
             }
            },
            "type": "scattermapbox"
           }
          ],
          "scatterpolar": [
           {
            "marker": {
             "colorbar": {
              "outlinewidth": 0,
              "ticks": ""
             }
            },
            "type": "scatterpolar"
           }
          ],
          "scatterpolargl": [
           {
            "marker": {
             "colorbar": {
              "outlinewidth": 0,
              "ticks": ""
             }
            },
            "type": "scatterpolargl"
           }
          ],
          "scatterternary": [
           {
            "marker": {
             "colorbar": {
              "outlinewidth": 0,
              "ticks": ""
             }
            },
            "type": "scatterternary"
           }
          ],
          "surface": [
           {
            "colorbar": {
             "outlinewidth": 0,
             "ticks": ""
            },
            "colorscale": [
             [
              0,
              "#0d0887"
             ],
             [
              0.1111111111111111,
              "#46039f"
             ],
             [
              0.2222222222222222,
              "#7201a8"
             ],
             [
              0.3333333333333333,
              "#9c179e"
             ],
             [
              0.4444444444444444,
              "#bd3786"
             ],
             [
              0.5555555555555556,
              "#d8576b"
             ],
             [
              0.6666666666666666,
              "#ed7953"
             ],
             [
              0.7777777777777778,
              "#fb9f3a"
             ],
             [
              0.8888888888888888,
              "#fdca26"
             ],
             [
              1,
              "#f0f921"
             ]
            ],
            "type": "surface"
           }
          ],
          "table": [
           {
            "cells": {
             "fill": {
              "color": "#EBF0F8"
             },
             "line": {
              "color": "white"
             }
            },
            "header": {
             "fill": {
              "color": "#C8D4E3"
             },
             "line": {
              "color": "white"
             }
            },
            "type": "table"
           }
          ]
         },
         "layout": {
          "annotationdefaults": {
           "arrowcolor": "#2a3f5f",
           "arrowhead": 0,
           "arrowwidth": 1
          },
          "autotypenumbers": "strict",
          "coloraxis": {
           "colorbar": {
            "outlinewidth": 0,
            "ticks": ""
           }
          },
          "colorscale": {
           "diverging": [
            [
             0,
             "#8e0152"
            ],
            [
             0.1,
             "#c51b7d"
            ],
            [
             0.2,
             "#de77ae"
            ],
            [
             0.3,
             "#f1b6da"
            ],
            [
             0.4,
             "#fde0ef"
            ],
            [
             0.5,
             "#f7f7f7"
            ],
            [
             0.6,
             "#e6f5d0"
            ],
            [
             0.7,
             "#b8e186"
            ],
            [
             0.8,
             "#7fbc41"
            ],
            [
             0.9,
             "#4d9221"
            ],
            [
             1,
             "#276419"
            ]
           ],
           "sequential": [
            [
             0,
             "#0d0887"
            ],
            [
             0.1111111111111111,
             "#46039f"
            ],
            [
             0.2222222222222222,
             "#7201a8"
            ],
            [
             0.3333333333333333,
             "#9c179e"
            ],
            [
             0.4444444444444444,
             "#bd3786"
            ],
            [
             0.5555555555555556,
             "#d8576b"
            ],
            [
             0.6666666666666666,
             "#ed7953"
            ],
            [
             0.7777777777777778,
             "#fb9f3a"
            ],
            [
             0.8888888888888888,
             "#fdca26"
            ],
            [
             1,
             "#f0f921"
            ]
           ],
           "sequentialminus": [
            [
             0,
             "#0d0887"
            ],
            [
             0.1111111111111111,
             "#46039f"
            ],
            [
             0.2222222222222222,
             "#7201a8"
            ],
            [
             0.3333333333333333,
             "#9c179e"
            ],
            [
             0.4444444444444444,
             "#bd3786"
            ],
            [
             0.5555555555555556,
             "#d8576b"
            ],
            [
             0.6666666666666666,
             "#ed7953"
            ],
            [
             0.7777777777777778,
             "#fb9f3a"
            ],
            [
             0.8888888888888888,
             "#fdca26"
            ],
            [
             1,
             "#f0f921"
            ]
           ]
          },
          "colorway": [
           "#636efa",
           "#EF553B",
           "#00cc96",
           "#ab63fa",
           "#FFA15A",
           "#19d3f3",
           "#FF6692",
           "#B6E880",
           "#FF97FF",
           "#FECB52"
          ],
          "font": {
           "color": "#2a3f5f"
          },
          "geo": {
           "bgcolor": "white",
           "lakecolor": "white",
           "landcolor": "#E5ECF6",
           "showlakes": true,
           "showland": true,
           "subunitcolor": "white"
          },
          "hoverlabel": {
           "align": "left"
          },
          "hovermode": "closest",
          "mapbox": {
           "style": "light"
          },
          "paper_bgcolor": "white",
          "plot_bgcolor": "#E5ECF6",
          "polar": {
           "angularaxis": {
            "gridcolor": "white",
            "linecolor": "white",
            "ticks": ""
           },
           "bgcolor": "#E5ECF6",
           "radialaxis": {
            "gridcolor": "white",
            "linecolor": "white",
            "ticks": ""
           }
          },
          "scene": {
           "xaxis": {
            "backgroundcolor": "#E5ECF6",
            "gridcolor": "white",
            "gridwidth": 2,
            "linecolor": "white",
            "showbackground": true,
            "ticks": "",
            "zerolinecolor": "white"
           },
           "yaxis": {
            "backgroundcolor": "#E5ECF6",
            "gridcolor": "white",
            "gridwidth": 2,
            "linecolor": "white",
            "showbackground": true,
            "ticks": "",
            "zerolinecolor": "white"
           },
           "zaxis": {
            "backgroundcolor": "#E5ECF6",
            "gridcolor": "white",
            "gridwidth": 2,
            "linecolor": "white",
            "showbackground": true,
            "ticks": "",
            "zerolinecolor": "white"
           }
          },
          "shapedefaults": {
           "line": {
            "color": "#2a3f5f"
           }
          },
          "ternary": {
           "aaxis": {
            "gridcolor": "white",
            "linecolor": "white",
            "ticks": ""
           },
           "baxis": {
            "gridcolor": "white",
            "linecolor": "white",
            "ticks": ""
           },
           "bgcolor": "#E5ECF6",
           "caxis": {
            "gridcolor": "white",
            "linecolor": "white",
            "ticks": ""
           }
          },
          "title": {
           "x": 0.05
          },
          "xaxis": {
           "automargin": true,
           "gridcolor": "white",
           "linecolor": "white",
           "ticks": "",
           "title": {
            "standoff": 15
           },
           "zerolinecolor": "white",
           "zerolinewidth": 2
          },
          "yaxis": {
           "automargin": true,
           "gridcolor": "white",
           "linecolor": "white",
           "ticks": "",
           "title": {
            "standoff": 15
           },
           "zerolinecolor": "white",
           "zerolinewidth": 2
          }
         }
        },
        "title": {
         "text": "Global Financing Totals",
         "x": 0.5
        },
        "xaxis": {
         "anchor": "y",
         "domain": [
          0,
          1
         ],
         "title": {
          "text": "Year"
         }
        },
        "yaxis": {
         "anchor": "x",
         "domain": [
          0,
          1
         ],
         "title": {
          "text": "Financing Amount (Euros)"
         }
        }
       }
      },
      "text/html": [
       "<div>                            <div id=\"274c55e5-89b7-4ee6-adf4-60104baab675\" class=\"plotly-graph-div\" style=\"height:525px; width:100%;\"></div>            <script type=\"text/javascript\">                require([\"plotly\"], function(Plotly) {                    window.PLOTLYENV=window.PLOTLYENV || {};                                    if (document.getElementById(\"274c55e5-89b7-4ee6-adf4-60104baab675\")) {                    Plotly.newPlot(                        \"274c55e5-89b7-4ee6-adf4-60104baab675\",                        [{\"alignmentgroup\":\"True\",\"hovertemplate\":\"Type=Other Funds\\u003cbr\\u003eYear=%{x}\\u003cbr\\u003eFinancing Amount (Euros)=%{y}\\u003cextra\\u003e\\u003c\\u002fextra\\u003e\",\"legendgroup\":\"Other Funds\",\"marker\":{\"color\":\"orange\",\"pattern\":{\"shape\":\"\"}},\"name\":\"Other Funds\",\"offsetgroup\":\"Other Funds\",\"orientation\":\"v\",\"showlegend\":true,\"textposition\":\"auto\",\"x\":[2013,2014,2015,2016,2017,2018,2019,2020,2021,2022],\"xaxis\":\"x\",\"y\":[4781689208.000001,5835755035.5,4884894186.0,6024165664.499999,6212956326.0,6837718702.499998,7118226759.0,8623937707.500002,8626519826.0,9238493687.500002],\"yaxis\":\"y\",\"type\":\"bar\"},{\"alignmentgroup\":\"True\",\"hovertemplate\":\"Type=Climate Finance\\u003cbr\\u003eYear=%{x}\\u003cbr\\u003eFinancing Amount (Euros)=%{y}\\u003cextra\\u003e\\u003c\\u002fextra\\u003e\",\"legendgroup\":\"Climate Finance\",\"marker\":{\"color\":\"green\",\"pattern\":{\"shape\":\"\"}},\"name\":\"Climate Finance\",\"offsetgroup\":\"Climate Finance\",\"orientation\":\"v\",\"showlegend\":true,\"textposition\":\"auto\",\"x\":[2013,2014,2015,2016,2017,2018,2019,2020,2021,2022],\"xaxis\":\"x\",\"y\":[845563368.0000001,1036792467.5,995181229.0,1352222298.5,1457414366.0,1659672746.5000002,2007334822.0,2195044258.5,2490046211.0000005,2830265129.5],\"yaxis\":\"y\",\"type\":\"bar\"}],                        {\"template\":{\"data\":{\"histogram2dcontour\":[{\"type\":\"histogram2dcontour\",\"colorbar\":{\"outlinewidth\":0,\"ticks\":\"\"},\"colorscale\":[[0.0,\"#0d0887\"],[0.1111111111111111,\"#46039f\"],[0.2222222222222222,\"#7201a8\"],[0.3333333333333333,\"#9c179e\"],[0.4444444444444444,\"#bd3786\"],[0.5555555555555556,\"#d8576b\"],[0.6666666666666666,\"#ed7953\"],[0.7777777777777778,\"#fb9f3a\"],[0.8888888888888888,\"#fdca26\"],[1.0,\"#f0f921\"]]}],\"choropleth\":[{\"type\":\"choropleth\",\"colorbar\":{\"outlinewidth\":0,\"ticks\":\"\"}}],\"histogram2d\":[{\"type\":\"histogram2d\",\"colorbar\":{\"outlinewidth\":0,\"ticks\":\"\"},\"colorscale\":[[0.0,\"#0d0887\"],[0.1111111111111111,\"#46039f\"],[0.2222222222222222,\"#7201a8\"],[0.3333333333333333,\"#9c179e\"],[0.4444444444444444,\"#bd3786\"],[0.5555555555555556,\"#d8576b\"],[0.6666666666666666,\"#ed7953\"],[0.7777777777777778,\"#fb9f3a\"],[0.8888888888888888,\"#fdca26\"],[1.0,\"#f0f921\"]]}],\"heatmap\":[{\"type\":\"heatmap\",\"colorbar\":{\"outlinewidth\":0,\"ticks\":\"\"},\"colorscale\":[[0.0,\"#0d0887\"],[0.1111111111111111,\"#46039f\"],[0.2222222222222222,\"#7201a8\"],[0.3333333333333333,\"#9c179e\"],[0.4444444444444444,\"#bd3786\"],[0.5555555555555556,\"#d8576b\"],[0.6666666666666666,\"#ed7953\"],[0.7777777777777778,\"#fb9f3a\"],[0.8888888888888888,\"#fdca26\"],[1.0,\"#f0f921\"]]}],\"heatmapgl\":[{\"type\":\"heatmapgl\",\"colorbar\":{\"outlinewidth\":0,\"ticks\":\"\"},\"colorscale\":[[0.0,\"#0d0887\"],[0.1111111111111111,\"#46039f\"],[0.2222222222222222,\"#7201a8\"],[0.3333333333333333,\"#9c179e\"],[0.4444444444444444,\"#bd3786\"],[0.5555555555555556,\"#d8576b\"],[0.6666666666666666,\"#ed7953\"],[0.7777777777777778,\"#fb9f3a\"],[0.8888888888888888,\"#fdca26\"],[1.0,\"#f0f921\"]]}],\"contourcarpet\":[{\"type\":\"contourcarpet\",\"colorbar\":{\"outlinewidth\":0,\"ticks\":\"\"}}],\"contour\":[{\"type\":\"contour\",\"colorbar\":{\"outlinewidth\":0,\"ticks\":\"\"},\"colorscale\":[[0.0,\"#0d0887\"],[0.1111111111111111,\"#46039f\"],[0.2222222222222222,\"#7201a8\"],[0.3333333333333333,\"#9c179e\"],[0.4444444444444444,\"#bd3786\"],[0.5555555555555556,\"#d8576b\"],[0.6666666666666666,\"#ed7953\"],[0.7777777777777778,\"#fb9f3a\"],[0.8888888888888888,\"#fdca26\"],[1.0,\"#f0f921\"]]}],\"surface\":[{\"type\":\"surface\",\"colorbar\":{\"outlinewidth\":0,\"ticks\":\"\"},\"colorscale\":[[0.0,\"#0d0887\"],[0.1111111111111111,\"#46039f\"],[0.2222222222222222,\"#7201a8\"],[0.3333333333333333,\"#9c179e\"],[0.4444444444444444,\"#bd3786\"],[0.5555555555555556,\"#d8576b\"],[0.6666666666666666,\"#ed7953\"],[0.7777777777777778,\"#fb9f3a\"],[0.8888888888888888,\"#fdca26\"],[1.0,\"#f0f921\"]]}],\"mesh3d\":[{\"type\":\"mesh3d\",\"colorbar\":{\"outlinewidth\":0,\"ticks\":\"\"}}],\"scatter\":[{\"fillpattern\":{\"fillmode\":\"overlay\",\"size\":10,\"solidity\":0.2},\"type\":\"scatter\"}],\"parcoords\":[{\"type\":\"parcoords\",\"line\":{\"colorbar\":{\"outlinewidth\":0,\"ticks\":\"\"}}}],\"scatterpolargl\":[{\"type\":\"scatterpolargl\",\"marker\":{\"colorbar\":{\"outlinewidth\":0,\"ticks\":\"\"}}}],\"bar\":[{\"error_x\":{\"color\":\"#2a3f5f\"},\"error_y\":{\"color\":\"#2a3f5f\"},\"marker\":{\"line\":{\"color\":\"#E5ECF6\",\"width\":0.5},\"pattern\":{\"fillmode\":\"overlay\",\"size\":10,\"solidity\":0.2}},\"type\":\"bar\"}],\"scattergeo\":[{\"type\":\"scattergeo\",\"marker\":{\"colorbar\":{\"outlinewidth\":0,\"ticks\":\"\"}}}],\"scatterpolar\":[{\"type\":\"scatterpolar\",\"marker\":{\"colorbar\":{\"outlinewidth\":0,\"ticks\":\"\"}}}],\"histogram\":[{\"marker\":{\"pattern\":{\"fillmode\":\"overlay\",\"size\":10,\"solidity\":0.2}},\"type\":\"histogram\"}],\"scattergl\":[{\"type\":\"scattergl\",\"marker\":{\"colorbar\":{\"outlinewidth\":0,\"ticks\":\"\"}}}],\"scatter3d\":[{\"type\":\"scatter3d\",\"line\":{\"colorbar\":{\"outlinewidth\":0,\"ticks\":\"\"}},\"marker\":{\"colorbar\":{\"outlinewidth\":0,\"ticks\":\"\"}}}],\"scattermapbox\":[{\"type\":\"scattermapbox\",\"marker\":{\"colorbar\":{\"outlinewidth\":0,\"ticks\":\"\"}}}],\"scatterternary\":[{\"type\":\"scatterternary\",\"marker\":{\"colorbar\":{\"outlinewidth\":0,\"ticks\":\"\"}}}],\"scattercarpet\":[{\"type\":\"scattercarpet\",\"marker\":{\"colorbar\":{\"outlinewidth\":0,\"ticks\":\"\"}}}],\"carpet\":[{\"aaxis\":{\"endlinecolor\":\"#2a3f5f\",\"gridcolor\":\"white\",\"linecolor\":\"white\",\"minorgridcolor\":\"white\",\"startlinecolor\":\"#2a3f5f\"},\"baxis\":{\"endlinecolor\":\"#2a3f5f\",\"gridcolor\":\"white\",\"linecolor\":\"white\",\"minorgridcolor\":\"white\",\"startlinecolor\":\"#2a3f5f\"},\"type\":\"carpet\"}],\"table\":[{\"cells\":{\"fill\":{\"color\":\"#EBF0F8\"},\"line\":{\"color\":\"white\"}},\"header\":{\"fill\":{\"color\":\"#C8D4E3\"},\"line\":{\"color\":\"white\"}},\"type\":\"table\"}],\"barpolar\":[{\"marker\":{\"line\":{\"color\":\"#E5ECF6\",\"width\":0.5},\"pattern\":{\"fillmode\":\"overlay\",\"size\":10,\"solidity\":0.2}},\"type\":\"barpolar\"}],\"pie\":[{\"automargin\":true,\"type\":\"pie\"}]},\"layout\":{\"autotypenumbers\":\"strict\",\"colorway\":[\"#636efa\",\"#EF553B\",\"#00cc96\",\"#ab63fa\",\"#FFA15A\",\"#19d3f3\",\"#FF6692\",\"#B6E880\",\"#FF97FF\",\"#FECB52\"],\"font\":{\"color\":\"#2a3f5f\"},\"hovermode\":\"closest\",\"hoverlabel\":{\"align\":\"left\"},\"paper_bgcolor\":\"white\",\"plot_bgcolor\":\"#E5ECF6\",\"polar\":{\"bgcolor\":\"#E5ECF6\",\"angularaxis\":{\"gridcolor\":\"white\",\"linecolor\":\"white\",\"ticks\":\"\"},\"radialaxis\":{\"gridcolor\":\"white\",\"linecolor\":\"white\",\"ticks\":\"\"}},\"ternary\":{\"bgcolor\":\"#E5ECF6\",\"aaxis\":{\"gridcolor\":\"white\",\"linecolor\":\"white\",\"ticks\":\"\"},\"baxis\":{\"gridcolor\":\"white\",\"linecolor\":\"white\",\"ticks\":\"\"},\"caxis\":{\"gridcolor\":\"white\",\"linecolor\":\"white\",\"ticks\":\"\"}},\"coloraxis\":{\"colorbar\":{\"outlinewidth\":0,\"ticks\":\"\"}},\"colorscale\":{\"sequential\":[[0.0,\"#0d0887\"],[0.1111111111111111,\"#46039f\"],[0.2222222222222222,\"#7201a8\"],[0.3333333333333333,\"#9c179e\"],[0.4444444444444444,\"#bd3786\"],[0.5555555555555556,\"#d8576b\"],[0.6666666666666666,\"#ed7953\"],[0.7777777777777778,\"#fb9f3a\"],[0.8888888888888888,\"#fdca26\"],[1.0,\"#f0f921\"]],\"sequentialminus\":[[0.0,\"#0d0887\"],[0.1111111111111111,\"#46039f\"],[0.2222222222222222,\"#7201a8\"],[0.3333333333333333,\"#9c179e\"],[0.4444444444444444,\"#bd3786\"],[0.5555555555555556,\"#d8576b\"],[0.6666666666666666,\"#ed7953\"],[0.7777777777777778,\"#fb9f3a\"],[0.8888888888888888,\"#fdca26\"],[1.0,\"#f0f921\"]],\"diverging\":[[0,\"#8e0152\"],[0.1,\"#c51b7d\"],[0.2,\"#de77ae\"],[0.3,\"#f1b6da\"],[0.4,\"#fde0ef\"],[0.5,\"#f7f7f7\"],[0.6,\"#e6f5d0\"],[0.7,\"#b8e186\"],[0.8,\"#7fbc41\"],[0.9,\"#4d9221\"],[1,\"#276419\"]]},\"xaxis\":{\"gridcolor\":\"white\",\"linecolor\":\"white\",\"ticks\":\"\",\"title\":{\"standoff\":15},\"zerolinecolor\":\"white\",\"automargin\":true,\"zerolinewidth\":2},\"yaxis\":{\"gridcolor\":\"white\",\"linecolor\":\"white\",\"ticks\":\"\",\"title\":{\"standoff\":15},\"zerolinecolor\":\"white\",\"automargin\":true,\"zerolinewidth\":2},\"scene\":{\"xaxis\":{\"backgroundcolor\":\"#E5ECF6\",\"gridcolor\":\"white\",\"linecolor\":\"white\",\"showbackground\":true,\"ticks\":\"\",\"zerolinecolor\":\"white\",\"gridwidth\":2},\"yaxis\":{\"backgroundcolor\":\"#E5ECF6\",\"gridcolor\":\"white\",\"linecolor\":\"white\",\"showbackground\":true,\"ticks\":\"\",\"zerolinecolor\":\"white\",\"gridwidth\":2},\"zaxis\":{\"backgroundcolor\":\"#E5ECF6\",\"gridcolor\":\"white\",\"linecolor\":\"white\",\"showbackground\":true,\"ticks\":\"\",\"zerolinecolor\":\"white\",\"gridwidth\":2}},\"shapedefaults\":{\"line\":{\"color\":\"#2a3f5f\"}},\"annotationdefaults\":{\"arrowcolor\":\"#2a3f5f\",\"arrowhead\":0,\"arrowwidth\":1},\"geo\":{\"bgcolor\":\"white\",\"landcolor\":\"#E5ECF6\",\"subunitcolor\":\"white\",\"showland\":true,\"showlakes\":true,\"lakecolor\":\"white\"},\"title\":{\"x\":0.05},\"mapbox\":{\"style\":\"light\"}}},\"xaxis\":{\"anchor\":\"y\",\"domain\":[0.0,1.0],\"title\":{\"text\":\"Year\"}},\"yaxis\":{\"anchor\":\"x\",\"domain\":[0.0,1.0],\"title\":{\"text\":\"Financing Amount (Euros)\"}},\"legend\":{\"title\":{\"text\":\"Type\"},\"tracegroupgap\":0},\"title\":{\"text\":\"Global Financing Totals\",\"x\":0.5},\"barmode\":\"relative\"},                        {\"responsive\": true}                    ).then(function(){\n",
       "                            \n",
       "var gd = document.getElementById('274c55e5-89b7-4ee6-adf4-60104baab675');\n",
       "var x = new MutationObserver(function (mutations, observer) {{\n",
       "        var display = window.getComputedStyle(gd).display;\n",
       "        if (!display || display === 'none') {{\n",
       "            console.log([gd, 'removed!']);\n",
       "            Plotly.purge(gd);\n",
       "            observer.disconnect();\n",
       "        }}\n",
       "}});\n",
       "\n",
       "// Listen for the removal of the full notebook cells\n",
       "var notebookContainer = gd.closest('#notebook-container');\n",
       "if (notebookContainer) {{\n",
       "    x.observe(notebookContainer, {childList: true});\n",
       "}}\n",
       "\n",
       "// Listen for the clearing of the current output cell\n",
       "var outputEl = gd.closest('.output');\n",
       "if (outputEl) {{\n",
       "    x.observe(outputEl, {childList: true});\n",
       "}}\n",
       "\n",
       "                        })                };                });            </script>        </div>"
      ]
     },
     "metadata": {},
     "output_type": "display_data"
    }
   ],
   "source": [
    "read_df = pd.read_csv('../upload_data/globe_df')\n",
    "\n",
    "\n",
    "fig = px.bar(read_df, x='Year', y='Amount', color='Type',\n",
    "            title='Global Financing Totals',\n",
    "            labels={'Amount': 'Financing Amount (Euros)', 'Year': 'Year'},\n",
    "            category_orders={'Type': ['Other Funds','Climate Finance']},\n",
    "            color_discrete_map={'Other Funds': 'orange', 'Climate Finance': 'green'})# This ensures consistent color ordering\n",
    "\n",
    "fig.update_layout(title_x=0.5)\n",
    "\n",
    "fig.show()"
   ]
  },
  {
   "cell_type": "markdown",
   "id": "844ed675",
   "metadata": {
    "heading_collapsed": true
   },
   "source": [
    "### Percentage"
   ]
  },
  {
   "cell_type": "code",
   "execution_count": null,
   "id": "0437cd7a",
   "metadata": {
    "hidden": true
   },
   "outputs": [],
   "source": [
    "years = [col.split('_')[-1] for col in globe_df.columns if col.startswith('amount_')]\n",
    "\n",
    "for year in years:\n",
    "    amount_col = f'amount_{year}'\n",
    "    clim_rel_amount_col = f'clim_rel_amount_{year}'\n",
    "    clim_rel_percent_col = f'clim_rel_percent_{year}'\n",
    "    \n",
    "    # Calculate the clim_rel_percent column for the year\n",
    "    # Note: It's a good practice to handle division by zero or check if 'amount_' is not zero to avoid ZeroDivisionError.\n",
    "    globe_df[clim_rel_percent_col] = (globe_df[clim_rel_amount_col] / globe_df[amount_col]) * 100\n",
    "    \n",
    "    "
   ]
  },
  {
   "cell_type": "code",
   "execution_count": null,
   "id": "c92f8a35",
   "metadata": {
    "hidden": true
   },
   "outputs": [],
   "source": [
    "selected_columns = [col for col in globe_df.columns if col.startswith('clim_rel_percent_')]\n",
    "filtered_df = globe_df[selected_columns]"
   ]
  },
  {
   "cell_type": "code",
   "execution_count": null,
   "id": "59fdb86c",
   "metadata": {
    "hidden": true
   },
   "outputs": [],
   "source": [
    "\n",
    "# Melt the DataFrame to get it in the right shape for plotting\n",
    "melted_df = filtered_df.reset_index().melt(id_vars=['index'], var_name='Year', value_name='Percentage')\n",
    "\n",
    "# Clean the 'Year' column to keep only the year part\n",
    "melted_df['Year'] = melted_df['Year'].str.replace('clim_rel_percent_', '')\n",
    "\n",
    "melted_df = melted_df.drop(columns = 'index')"
   ]
  },
  {
   "cell_type": "code",
   "execution_count": null,
   "id": "9ee7586b",
   "metadata": {
    "hidden": true
   },
   "outputs": [],
   "source": [
    "melted_df"
   ]
  },
  {
   "cell_type": "code",
   "execution_count": null,
   "id": "0ee98f0a",
   "metadata": {
    "hidden": true
   },
   "outputs": [],
   "source": []
  },
  {
   "cell_type": "code",
   "execution_count": null,
   "id": "95927d81",
   "metadata": {
    "hidden": true
   },
   "outputs": [],
   "source": [
    "melted_df['Change'] = melted_df['Percentage'].diff()"
   ]
  },
  {
   "cell_type": "code",
   "execution_count": null,
   "id": "95482206",
   "metadata": {
    "hidden": true
   },
   "outputs": [],
   "source": [
    "melted_df.to_csv('../upload_data/globe_waterfall.csv')"
   ]
  },
  {
   "cell_type": "code",
   "execution_count": 19,
   "id": "3f7a8561",
   "metadata": {
    "hidden": true
   },
   "outputs": [],
   "source": [
    "globe_waterfall_df = pd.read_csv('../upload_data/globe_waterfall.csv')\n"
   ]
  },
  {
   "cell_type": "code",
   "execution_count": 22,
   "id": "da164652",
   "metadata": {
    "hidden": true
   },
   "outputs": [
    {
     "data": {
      "text/html": [
       "<div>\n",
       "<style scoped>\n",
       "    .dataframe tbody tr th:only-of-type {\n",
       "        vertical-align: middle;\n",
       "    }\n",
       "\n",
       "    .dataframe tbody tr th {\n",
       "        vertical-align: top;\n",
       "    }\n",
       "\n",
       "    .dataframe thead th {\n",
       "        text-align: right;\n",
       "    }\n",
       "</style>\n",
       "<table border=\"1\" class=\"dataframe\">\n",
       "  <thead>\n",
       "    <tr style=\"text-align: right;\">\n",
       "      <th></th>\n",
       "      <th>Unnamed: 0</th>\n",
       "      <th>Year</th>\n",
       "      <th>Percentage</th>\n",
       "      <th>Change</th>\n",
       "    </tr>\n",
       "  </thead>\n",
       "  <tbody>\n",
       "    <tr>\n",
       "      <th>0</th>\n",
       "      <td>0</td>\n",
       "      <td>2013</td>\n",
       "      <td>15.026220</td>\n",
       "      <td>NaN</td>\n",
       "    </tr>\n",
       "    <tr>\n",
       "      <th>1</th>\n",
       "      <td>1</td>\n",
       "      <td>2014</td>\n",
       "      <td>15.085999</td>\n",
       "      <td>0.059779</td>\n",
       "    </tr>\n",
       "    <tr>\n",
       "      <th>2</th>\n",
       "      <td>2</td>\n",
       "      <td>2015</td>\n",
       "      <td>16.924634</td>\n",
       "      <td>1.838634</td>\n",
       "    </tr>\n",
       "    <tr>\n",
       "      <th>3</th>\n",
       "      <td>3</td>\n",
       "      <td>2016</td>\n",
       "      <td>18.331768</td>\n",
       "      <td>1.407134</td>\n",
       "    </tr>\n",
       "    <tr>\n",
       "      <th>4</th>\n",
       "      <td>4</td>\n",
       "      <td>2017</td>\n",
       "      <td>19.000573</td>\n",
       "      <td>0.668805</td>\n",
       "    </tr>\n",
       "    <tr>\n",
       "      <th>5</th>\n",
       "      <td>5</td>\n",
       "      <td>2018</td>\n",
       "      <td>19.531556</td>\n",
       "      <td>0.530983</td>\n",
       "    </tr>\n",
       "  </tbody>\n",
       "</table>\n",
       "</div>"
      ],
      "text/plain": [
       "   Unnamed: 0  Year  Percentage    Change\n",
       "0           0  2013   15.026220       NaN\n",
       "1           1  2014   15.085999  0.059779\n",
       "2           2  2015   16.924634  1.838634\n",
       "3           3  2016   18.331768  1.407134\n",
       "4           4  2017   19.000573  0.668805\n",
       "5           5  2018   19.531556  0.530983"
      ]
     },
     "execution_count": 22,
     "metadata": {},
     "output_type": "execute_result"
    }
   ],
   "source": [
    "globe_waterfall_df[globe_waterfall_df['Year'].between(2013,2018)]"
   ]
  },
  {
   "cell_type": "code",
   "execution_count": 30,
   "id": "ee3df9b1",
   "metadata": {
    "hidden": true
   },
   "outputs": [
    {
     "data": {
      "application/vnd.plotly.v1+json": {
       "config": {
        "plotlyServerURL": "https://plot.ly"
       },
       "data": [
        {
         "connector": {
          "line": {
           "color": "rgb(63, 63, 63)"
          }
         },
         "measure": [
          "absolute",
          "relative",
          "relative",
          "relative",
          "relative",
          "relative",
          "relative",
          "relative",
          "relative",
          "relative"
         ],
         "name": "20",
         "orientation": "v",
         "text": [
          "nan",
          "0.06",
          "1.84",
          "1.41",
          "0.67",
          "0.53",
          "2.47",
          "-1.71",
          "2.11",
          "1.05"
         ],
         "textposition": "outside",
         "type": "waterfall",
         "x": [
          "2013",
          "2014",
          "2015",
          "2016",
          "2017",
          "2018",
          "2019",
          "2020",
          "2021",
          "2022"
         ],
         "y": [
          14.966441277866474,
          0.0597790060122491,
          1.8386344735009883,
          1.4071338345537292,
          0.6688051842804086,
          0.5309829482718271,
          2.465280345644487,
          -1.708011624838214,
          2.110594602315551,
          1.051750800842008
         ]
        }
       ],
       "layout": {
        "template": {
         "data": {
          "bar": [
           {
            "error_x": {
             "color": "#2a3f5f"
            },
            "error_y": {
             "color": "#2a3f5f"
            },
            "marker": {
             "line": {
              "color": "#E5ECF6",
              "width": 0.5
             },
             "pattern": {
              "fillmode": "overlay",
              "size": 10,
              "solidity": 0.2
             }
            },
            "type": "bar"
           }
          ],
          "barpolar": [
           {
            "marker": {
             "line": {
              "color": "#E5ECF6",
              "width": 0.5
             },
             "pattern": {
              "fillmode": "overlay",
              "size": 10,
              "solidity": 0.2
             }
            },
            "type": "barpolar"
           }
          ],
          "carpet": [
           {
            "aaxis": {
             "endlinecolor": "#2a3f5f",
             "gridcolor": "white",
             "linecolor": "white",
             "minorgridcolor": "white",
             "startlinecolor": "#2a3f5f"
            },
            "baxis": {
             "endlinecolor": "#2a3f5f",
             "gridcolor": "white",
             "linecolor": "white",
             "minorgridcolor": "white",
             "startlinecolor": "#2a3f5f"
            },
            "type": "carpet"
           }
          ],
          "choropleth": [
           {
            "colorbar": {
             "outlinewidth": 0,
             "ticks": ""
            },
            "type": "choropleth"
           }
          ],
          "contour": [
           {
            "colorbar": {
             "outlinewidth": 0,
             "ticks": ""
            },
            "colorscale": [
             [
              0,
              "#0d0887"
             ],
             [
              0.1111111111111111,
              "#46039f"
             ],
             [
              0.2222222222222222,
              "#7201a8"
             ],
             [
              0.3333333333333333,
              "#9c179e"
             ],
             [
              0.4444444444444444,
              "#bd3786"
             ],
             [
              0.5555555555555556,
              "#d8576b"
             ],
             [
              0.6666666666666666,
              "#ed7953"
             ],
             [
              0.7777777777777778,
              "#fb9f3a"
             ],
             [
              0.8888888888888888,
              "#fdca26"
             ],
             [
              1,
              "#f0f921"
             ]
            ],
            "type": "contour"
           }
          ],
          "contourcarpet": [
           {
            "colorbar": {
             "outlinewidth": 0,
             "ticks": ""
            },
            "type": "contourcarpet"
           }
          ],
          "heatmap": [
           {
            "colorbar": {
             "outlinewidth": 0,
             "ticks": ""
            },
            "colorscale": [
             [
              0,
              "#0d0887"
             ],
             [
              0.1111111111111111,
              "#46039f"
             ],
             [
              0.2222222222222222,
              "#7201a8"
             ],
             [
              0.3333333333333333,
              "#9c179e"
             ],
             [
              0.4444444444444444,
              "#bd3786"
             ],
             [
              0.5555555555555556,
              "#d8576b"
             ],
             [
              0.6666666666666666,
              "#ed7953"
             ],
             [
              0.7777777777777778,
              "#fb9f3a"
             ],
             [
              0.8888888888888888,
              "#fdca26"
             ],
             [
              1,
              "#f0f921"
             ]
            ],
            "type": "heatmap"
           }
          ],
          "heatmapgl": [
           {
            "colorbar": {
             "outlinewidth": 0,
             "ticks": ""
            },
            "colorscale": [
             [
              0,
              "#0d0887"
             ],
             [
              0.1111111111111111,
              "#46039f"
             ],
             [
              0.2222222222222222,
              "#7201a8"
             ],
             [
              0.3333333333333333,
              "#9c179e"
             ],
             [
              0.4444444444444444,
              "#bd3786"
             ],
             [
              0.5555555555555556,
              "#d8576b"
             ],
             [
              0.6666666666666666,
              "#ed7953"
             ],
             [
              0.7777777777777778,
              "#fb9f3a"
             ],
             [
              0.8888888888888888,
              "#fdca26"
             ],
             [
              1,
              "#f0f921"
             ]
            ],
            "type": "heatmapgl"
           }
          ],
          "histogram": [
           {
            "marker": {
             "pattern": {
              "fillmode": "overlay",
              "size": 10,
              "solidity": 0.2
             }
            },
            "type": "histogram"
           }
          ],
          "histogram2d": [
           {
            "colorbar": {
             "outlinewidth": 0,
             "ticks": ""
            },
            "colorscale": [
             [
              0,
              "#0d0887"
             ],
             [
              0.1111111111111111,
              "#46039f"
             ],
             [
              0.2222222222222222,
              "#7201a8"
             ],
             [
              0.3333333333333333,
              "#9c179e"
             ],
             [
              0.4444444444444444,
              "#bd3786"
             ],
             [
              0.5555555555555556,
              "#d8576b"
             ],
             [
              0.6666666666666666,
              "#ed7953"
             ],
             [
              0.7777777777777778,
              "#fb9f3a"
             ],
             [
              0.8888888888888888,
              "#fdca26"
             ],
             [
              1,
              "#f0f921"
             ]
            ],
            "type": "histogram2d"
           }
          ],
          "histogram2dcontour": [
           {
            "colorbar": {
             "outlinewidth": 0,
             "ticks": ""
            },
            "colorscale": [
             [
              0,
              "#0d0887"
             ],
             [
              0.1111111111111111,
              "#46039f"
             ],
             [
              0.2222222222222222,
              "#7201a8"
             ],
             [
              0.3333333333333333,
              "#9c179e"
             ],
             [
              0.4444444444444444,
              "#bd3786"
             ],
             [
              0.5555555555555556,
              "#d8576b"
             ],
             [
              0.6666666666666666,
              "#ed7953"
             ],
             [
              0.7777777777777778,
              "#fb9f3a"
             ],
             [
              0.8888888888888888,
              "#fdca26"
             ],
             [
              1,
              "#f0f921"
             ]
            ],
            "type": "histogram2dcontour"
           }
          ],
          "mesh3d": [
           {
            "colorbar": {
             "outlinewidth": 0,
             "ticks": ""
            },
            "type": "mesh3d"
           }
          ],
          "parcoords": [
           {
            "line": {
             "colorbar": {
              "outlinewidth": 0,
              "ticks": ""
             }
            },
            "type": "parcoords"
           }
          ],
          "pie": [
           {
            "automargin": true,
            "type": "pie"
           }
          ],
          "scatter": [
           {
            "fillpattern": {
             "fillmode": "overlay",
             "size": 10,
             "solidity": 0.2
            },
            "type": "scatter"
           }
          ],
          "scatter3d": [
           {
            "line": {
             "colorbar": {
              "outlinewidth": 0,
              "ticks": ""
             }
            },
            "marker": {
             "colorbar": {
              "outlinewidth": 0,
              "ticks": ""
             }
            },
            "type": "scatter3d"
           }
          ],
          "scattercarpet": [
           {
            "marker": {
             "colorbar": {
              "outlinewidth": 0,
              "ticks": ""
             }
            },
            "type": "scattercarpet"
           }
          ],
          "scattergeo": [
           {
            "marker": {
             "colorbar": {
              "outlinewidth": 0,
              "ticks": ""
             }
            },
            "type": "scattergeo"
           }
          ],
          "scattergl": [
           {
            "marker": {
             "colorbar": {
              "outlinewidth": 0,
              "ticks": ""
             }
            },
            "type": "scattergl"
           }
          ],
          "scattermapbox": [
           {
            "marker": {
             "colorbar": {
              "outlinewidth": 0,
              "ticks": ""
             }
            },
            "type": "scattermapbox"
           }
          ],
          "scatterpolar": [
           {
            "marker": {
             "colorbar": {
              "outlinewidth": 0,
              "ticks": ""
             }
            },
            "type": "scatterpolar"
           }
          ],
          "scatterpolargl": [
           {
            "marker": {
             "colorbar": {
              "outlinewidth": 0,
              "ticks": ""
             }
            },
            "type": "scatterpolargl"
           }
          ],
          "scatterternary": [
           {
            "marker": {
             "colorbar": {
              "outlinewidth": 0,
              "ticks": ""
             }
            },
            "type": "scatterternary"
           }
          ],
          "surface": [
           {
            "colorbar": {
             "outlinewidth": 0,
             "ticks": ""
            },
            "colorscale": [
             [
              0,
              "#0d0887"
             ],
             [
              0.1111111111111111,
              "#46039f"
             ],
             [
              0.2222222222222222,
              "#7201a8"
             ],
             [
              0.3333333333333333,
              "#9c179e"
             ],
             [
              0.4444444444444444,
              "#bd3786"
             ],
             [
              0.5555555555555556,
              "#d8576b"
             ],
             [
              0.6666666666666666,
              "#ed7953"
             ],
             [
              0.7777777777777778,
              "#fb9f3a"
             ],
             [
              0.8888888888888888,
              "#fdca26"
             ],
             [
              1,
              "#f0f921"
             ]
            ],
            "type": "surface"
           }
          ],
          "table": [
           {
            "cells": {
             "fill": {
              "color": "#EBF0F8"
             },
             "line": {
              "color": "white"
             }
            },
            "header": {
             "fill": {
              "color": "#C8D4E3"
             },
             "line": {
              "color": "white"
             }
            },
            "type": "table"
           }
          ]
         },
         "layout": {
          "annotationdefaults": {
           "arrowcolor": "#2a3f5f",
           "arrowhead": 0,
           "arrowwidth": 1
          },
          "autotypenumbers": "strict",
          "coloraxis": {
           "colorbar": {
            "outlinewidth": 0,
            "ticks": ""
           }
          },
          "colorscale": {
           "diverging": [
            [
             0,
             "#8e0152"
            ],
            [
             0.1,
             "#c51b7d"
            ],
            [
             0.2,
             "#de77ae"
            ],
            [
             0.3,
             "#f1b6da"
            ],
            [
             0.4,
             "#fde0ef"
            ],
            [
             0.5,
             "#f7f7f7"
            ],
            [
             0.6,
             "#e6f5d0"
            ],
            [
             0.7,
             "#b8e186"
            ],
            [
             0.8,
             "#7fbc41"
            ],
            [
             0.9,
             "#4d9221"
            ],
            [
             1,
             "#276419"
            ]
           ],
           "sequential": [
            [
             0,
             "#0d0887"
            ],
            [
             0.1111111111111111,
             "#46039f"
            ],
            [
             0.2222222222222222,
             "#7201a8"
            ],
            [
             0.3333333333333333,
             "#9c179e"
            ],
            [
             0.4444444444444444,
             "#bd3786"
            ],
            [
             0.5555555555555556,
             "#d8576b"
            ],
            [
             0.6666666666666666,
             "#ed7953"
            ],
            [
             0.7777777777777778,
             "#fb9f3a"
            ],
            [
             0.8888888888888888,
             "#fdca26"
            ],
            [
             1,
             "#f0f921"
            ]
           ],
           "sequentialminus": [
            [
             0,
             "#0d0887"
            ],
            [
             0.1111111111111111,
             "#46039f"
            ],
            [
             0.2222222222222222,
             "#7201a8"
            ],
            [
             0.3333333333333333,
             "#9c179e"
            ],
            [
             0.4444444444444444,
             "#bd3786"
            ],
            [
             0.5555555555555556,
             "#d8576b"
            ],
            [
             0.6666666666666666,
             "#ed7953"
            ],
            [
             0.7777777777777778,
             "#fb9f3a"
            ],
            [
             0.8888888888888888,
             "#fdca26"
            ],
            [
             1,
             "#f0f921"
            ]
           ]
          },
          "colorway": [
           "#636efa",
           "#EF553B",
           "#00cc96",
           "#ab63fa",
           "#FFA15A",
           "#19d3f3",
           "#FF6692",
           "#B6E880",
           "#FF97FF",
           "#FECB52"
          ],
          "font": {
           "color": "#2a3f5f"
          },
          "geo": {
           "bgcolor": "white",
           "lakecolor": "white",
           "landcolor": "#E5ECF6",
           "showlakes": true,
           "showland": true,
           "subunitcolor": "white"
          },
          "hoverlabel": {
           "align": "left"
          },
          "hovermode": "closest",
          "mapbox": {
           "style": "light"
          },
          "paper_bgcolor": "white",
          "plot_bgcolor": "#E5ECF6",
          "polar": {
           "angularaxis": {
            "gridcolor": "white",
            "linecolor": "white",
            "ticks": ""
           },
           "bgcolor": "#E5ECF6",
           "radialaxis": {
            "gridcolor": "white",
            "linecolor": "white",
            "ticks": ""
           }
          },
          "scene": {
           "xaxis": {
            "backgroundcolor": "#E5ECF6",
            "gridcolor": "white",
            "gridwidth": 2,
            "linecolor": "white",
            "showbackground": true,
            "ticks": "",
            "zerolinecolor": "white"
           },
           "yaxis": {
            "backgroundcolor": "#E5ECF6",
            "gridcolor": "white",
            "gridwidth": 2,
            "linecolor": "white",
            "showbackground": true,
            "ticks": "",
            "zerolinecolor": "white"
           },
           "zaxis": {
            "backgroundcolor": "#E5ECF6",
            "gridcolor": "white",
            "gridwidth": 2,
            "linecolor": "white",
            "showbackground": true,
            "ticks": "",
            "zerolinecolor": "white"
           }
          },
          "shapedefaults": {
           "line": {
            "color": "#2a3f5f"
           }
          },
          "ternary": {
           "aaxis": {
            "gridcolor": "white",
            "linecolor": "white",
            "ticks": ""
           },
           "baxis": {
            "gridcolor": "white",
            "linecolor": "white",
            "ticks": ""
           },
           "bgcolor": "#E5ECF6",
           "caxis": {
            "gridcolor": "white",
            "linecolor": "white",
            "ticks": ""
           }
          },
          "title": {
           "x": 0.05
          },
          "xaxis": {
           "automargin": true,
           "gridcolor": "white",
           "linecolor": "white",
           "ticks": "",
           "title": {
            "standoff": 15
           },
           "zerolinecolor": "white",
           "zerolinewidth": 2
          },
          "yaxis": {
           "automargin": true,
           "gridcolor": "white",
           "linecolor": "white",
           "ticks": "",
           "title": {
            "standoff": 15
           },
           "zerolinecolor": "white",
           "zerolinewidth": 2
          }
         }
        },
        "title": {
         "text": "Yearly Percentage Change in Climate Finance",
         "x": 0.5,
         "xanchor": "center",
         "y": 0.9,
         "yanchor": "top"
        },
        "xaxis": {
         "type": "category"
        },
        "yaxis": {
         "title": {
          "text": "Percentage"
         }
        }
       }
      },
      "text/html": [
       "<div>                            <div id=\"891802a0-16e9-42ae-9592-85c0f5a05bd5\" class=\"plotly-graph-div\" style=\"height:525px; width:100%;\"></div>            <script type=\"text/javascript\">                require([\"plotly\"], function(Plotly) {                    window.PLOTLYENV=window.PLOTLYENV || {};                                    if (document.getElementById(\"891802a0-16e9-42ae-9592-85c0f5a05bd5\")) {                    Plotly.newPlot(                        \"891802a0-16e9-42ae-9592-85c0f5a05bd5\",                        [{\"connector\":{\"line\":{\"color\":\"rgb(63, 63, 63)\"}},\"measure\":[\"absolute\",\"relative\",\"relative\",\"relative\",\"relative\",\"relative\",\"relative\",\"relative\",\"relative\",\"relative\"],\"name\":\"20\",\"orientation\":\"v\",\"text\":[\"nan\",\"0.06\",\"1.84\",\"1.41\",\"0.67\",\"0.53\",\"2.47\",\"-1.71\",\"2.11\",\"1.05\"],\"textposition\":\"outside\",\"x\":[\"2013\",\"2014\",\"2015\",\"2016\",\"2017\",\"2018\",\"2019\",\"2020\",\"2021\",\"2022\"],\"y\":[14.966441277866474,0.0597790060122491,1.8386344735009883,1.4071338345537292,0.6688051842804086,0.5309829482718271,2.465280345644487,-1.708011624838214,2.110594602315551,1.051750800842008],\"type\":\"waterfall\"}],                        {\"template\":{\"data\":{\"histogram2dcontour\":[{\"type\":\"histogram2dcontour\",\"colorbar\":{\"outlinewidth\":0,\"ticks\":\"\"},\"colorscale\":[[0.0,\"#0d0887\"],[0.1111111111111111,\"#46039f\"],[0.2222222222222222,\"#7201a8\"],[0.3333333333333333,\"#9c179e\"],[0.4444444444444444,\"#bd3786\"],[0.5555555555555556,\"#d8576b\"],[0.6666666666666666,\"#ed7953\"],[0.7777777777777778,\"#fb9f3a\"],[0.8888888888888888,\"#fdca26\"],[1.0,\"#f0f921\"]]}],\"choropleth\":[{\"type\":\"choropleth\",\"colorbar\":{\"outlinewidth\":0,\"ticks\":\"\"}}],\"histogram2d\":[{\"type\":\"histogram2d\",\"colorbar\":{\"outlinewidth\":0,\"ticks\":\"\"},\"colorscale\":[[0.0,\"#0d0887\"],[0.1111111111111111,\"#46039f\"],[0.2222222222222222,\"#7201a8\"],[0.3333333333333333,\"#9c179e\"],[0.4444444444444444,\"#bd3786\"],[0.5555555555555556,\"#d8576b\"],[0.6666666666666666,\"#ed7953\"],[0.7777777777777778,\"#fb9f3a\"],[0.8888888888888888,\"#fdca26\"],[1.0,\"#f0f921\"]]}],\"heatmap\":[{\"type\":\"heatmap\",\"colorbar\":{\"outlinewidth\":0,\"ticks\":\"\"},\"colorscale\":[[0.0,\"#0d0887\"],[0.1111111111111111,\"#46039f\"],[0.2222222222222222,\"#7201a8\"],[0.3333333333333333,\"#9c179e\"],[0.4444444444444444,\"#bd3786\"],[0.5555555555555556,\"#d8576b\"],[0.6666666666666666,\"#ed7953\"],[0.7777777777777778,\"#fb9f3a\"],[0.8888888888888888,\"#fdca26\"],[1.0,\"#f0f921\"]]}],\"heatmapgl\":[{\"type\":\"heatmapgl\",\"colorbar\":{\"outlinewidth\":0,\"ticks\":\"\"},\"colorscale\":[[0.0,\"#0d0887\"],[0.1111111111111111,\"#46039f\"],[0.2222222222222222,\"#7201a8\"],[0.3333333333333333,\"#9c179e\"],[0.4444444444444444,\"#bd3786\"],[0.5555555555555556,\"#d8576b\"],[0.6666666666666666,\"#ed7953\"],[0.7777777777777778,\"#fb9f3a\"],[0.8888888888888888,\"#fdca26\"],[1.0,\"#f0f921\"]]}],\"contourcarpet\":[{\"type\":\"contourcarpet\",\"colorbar\":{\"outlinewidth\":0,\"ticks\":\"\"}}],\"contour\":[{\"type\":\"contour\",\"colorbar\":{\"outlinewidth\":0,\"ticks\":\"\"},\"colorscale\":[[0.0,\"#0d0887\"],[0.1111111111111111,\"#46039f\"],[0.2222222222222222,\"#7201a8\"],[0.3333333333333333,\"#9c179e\"],[0.4444444444444444,\"#bd3786\"],[0.5555555555555556,\"#d8576b\"],[0.6666666666666666,\"#ed7953\"],[0.7777777777777778,\"#fb9f3a\"],[0.8888888888888888,\"#fdca26\"],[1.0,\"#f0f921\"]]}],\"surface\":[{\"type\":\"surface\",\"colorbar\":{\"outlinewidth\":0,\"ticks\":\"\"},\"colorscale\":[[0.0,\"#0d0887\"],[0.1111111111111111,\"#46039f\"],[0.2222222222222222,\"#7201a8\"],[0.3333333333333333,\"#9c179e\"],[0.4444444444444444,\"#bd3786\"],[0.5555555555555556,\"#d8576b\"],[0.6666666666666666,\"#ed7953\"],[0.7777777777777778,\"#fb9f3a\"],[0.8888888888888888,\"#fdca26\"],[1.0,\"#f0f921\"]]}],\"mesh3d\":[{\"type\":\"mesh3d\",\"colorbar\":{\"outlinewidth\":0,\"ticks\":\"\"}}],\"scatter\":[{\"fillpattern\":{\"fillmode\":\"overlay\",\"size\":10,\"solidity\":0.2},\"type\":\"scatter\"}],\"parcoords\":[{\"type\":\"parcoords\",\"line\":{\"colorbar\":{\"outlinewidth\":0,\"ticks\":\"\"}}}],\"scatterpolargl\":[{\"type\":\"scatterpolargl\",\"marker\":{\"colorbar\":{\"outlinewidth\":0,\"ticks\":\"\"}}}],\"bar\":[{\"error_x\":{\"color\":\"#2a3f5f\"},\"error_y\":{\"color\":\"#2a3f5f\"},\"marker\":{\"line\":{\"color\":\"#E5ECF6\",\"width\":0.5},\"pattern\":{\"fillmode\":\"overlay\",\"size\":10,\"solidity\":0.2}},\"type\":\"bar\"}],\"scattergeo\":[{\"type\":\"scattergeo\",\"marker\":{\"colorbar\":{\"outlinewidth\":0,\"ticks\":\"\"}}}],\"scatterpolar\":[{\"type\":\"scatterpolar\",\"marker\":{\"colorbar\":{\"outlinewidth\":0,\"ticks\":\"\"}}}],\"histogram\":[{\"marker\":{\"pattern\":{\"fillmode\":\"overlay\",\"size\":10,\"solidity\":0.2}},\"type\":\"histogram\"}],\"scattergl\":[{\"type\":\"scattergl\",\"marker\":{\"colorbar\":{\"outlinewidth\":0,\"ticks\":\"\"}}}],\"scatter3d\":[{\"type\":\"scatter3d\",\"line\":{\"colorbar\":{\"outlinewidth\":0,\"ticks\":\"\"}},\"marker\":{\"colorbar\":{\"outlinewidth\":0,\"ticks\":\"\"}}}],\"scattermapbox\":[{\"type\":\"scattermapbox\",\"marker\":{\"colorbar\":{\"outlinewidth\":0,\"ticks\":\"\"}}}],\"scatterternary\":[{\"type\":\"scatterternary\",\"marker\":{\"colorbar\":{\"outlinewidth\":0,\"ticks\":\"\"}}}],\"scattercarpet\":[{\"type\":\"scattercarpet\",\"marker\":{\"colorbar\":{\"outlinewidth\":0,\"ticks\":\"\"}}}],\"carpet\":[{\"aaxis\":{\"endlinecolor\":\"#2a3f5f\",\"gridcolor\":\"white\",\"linecolor\":\"white\",\"minorgridcolor\":\"white\",\"startlinecolor\":\"#2a3f5f\"},\"baxis\":{\"endlinecolor\":\"#2a3f5f\",\"gridcolor\":\"white\",\"linecolor\":\"white\",\"minorgridcolor\":\"white\",\"startlinecolor\":\"#2a3f5f\"},\"type\":\"carpet\"}],\"table\":[{\"cells\":{\"fill\":{\"color\":\"#EBF0F8\"},\"line\":{\"color\":\"white\"}},\"header\":{\"fill\":{\"color\":\"#C8D4E3\"},\"line\":{\"color\":\"white\"}},\"type\":\"table\"}],\"barpolar\":[{\"marker\":{\"line\":{\"color\":\"#E5ECF6\",\"width\":0.5},\"pattern\":{\"fillmode\":\"overlay\",\"size\":10,\"solidity\":0.2}},\"type\":\"barpolar\"}],\"pie\":[{\"automargin\":true,\"type\":\"pie\"}]},\"layout\":{\"autotypenumbers\":\"strict\",\"colorway\":[\"#636efa\",\"#EF553B\",\"#00cc96\",\"#ab63fa\",\"#FFA15A\",\"#19d3f3\",\"#FF6692\",\"#B6E880\",\"#FF97FF\",\"#FECB52\"],\"font\":{\"color\":\"#2a3f5f\"},\"hovermode\":\"closest\",\"hoverlabel\":{\"align\":\"left\"},\"paper_bgcolor\":\"white\",\"plot_bgcolor\":\"#E5ECF6\",\"polar\":{\"bgcolor\":\"#E5ECF6\",\"angularaxis\":{\"gridcolor\":\"white\",\"linecolor\":\"white\",\"ticks\":\"\"},\"radialaxis\":{\"gridcolor\":\"white\",\"linecolor\":\"white\",\"ticks\":\"\"}},\"ternary\":{\"bgcolor\":\"#E5ECF6\",\"aaxis\":{\"gridcolor\":\"white\",\"linecolor\":\"white\",\"ticks\":\"\"},\"baxis\":{\"gridcolor\":\"white\",\"linecolor\":\"white\",\"ticks\":\"\"},\"caxis\":{\"gridcolor\":\"white\",\"linecolor\":\"white\",\"ticks\":\"\"}},\"coloraxis\":{\"colorbar\":{\"outlinewidth\":0,\"ticks\":\"\"}},\"colorscale\":{\"sequential\":[[0.0,\"#0d0887\"],[0.1111111111111111,\"#46039f\"],[0.2222222222222222,\"#7201a8\"],[0.3333333333333333,\"#9c179e\"],[0.4444444444444444,\"#bd3786\"],[0.5555555555555556,\"#d8576b\"],[0.6666666666666666,\"#ed7953\"],[0.7777777777777778,\"#fb9f3a\"],[0.8888888888888888,\"#fdca26\"],[1.0,\"#f0f921\"]],\"sequentialminus\":[[0.0,\"#0d0887\"],[0.1111111111111111,\"#46039f\"],[0.2222222222222222,\"#7201a8\"],[0.3333333333333333,\"#9c179e\"],[0.4444444444444444,\"#bd3786\"],[0.5555555555555556,\"#d8576b\"],[0.6666666666666666,\"#ed7953\"],[0.7777777777777778,\"#fb9f3a\"],[0.8888888888888888,\"#fdca26\"],[1.0,\"#f0f921\"]],\"diverging\":[[0,\"#8e0152\"],[0.1,\"#c51b7d\"],[0.2,\"#de77ae\"],[0.3,\"#f1b6da\"],[0.4,\"#fde0ef\"],[0.5,\"#f7f7f7\"],[0.6,\"#e6f5d0\"],[0.7,\"#b8e186\"],[0.8,\"#7fbc41\"],[0.9,\"#4d9221\"],[1,\"#276419\"]]},\"xaxis\":{\"gridcolor\":\"white\",\"linecolor\":\"white\",\"ticks\":\"\",\"title\":{\"standoff\":15},\"zerolinecolor\":\"white\",\"automargin\":true,\"zerolinewidth\":2},\"yaxis\":{\"gridcolor\":\"white\",\"linecolor\":\"white\",\"ticks\":\"\",\"title\":{\"standoff\":15},\"zerolinecolor\":\"white\",\"automargin\":true,\"zerolinewidth\":2},\"scene\":{\"xaxis\":{\"backgroundcolor\":\"#E5ECF6\",\"gridcolor\":\"white\",\"linecolor\":\"white\",\"showbackground\":true,\"ticks\":\"\",\"zerolinecolor\":\"white\",\"gridwidth\":2},\"yaxis\":{\"backgroundcolor\":\"#E5ECF6\",\"gridcolor\":\"white\",\"linecolor\":\"white\",\"showbackground\":true,\"ticks\":\"\",\"zerolinecolor\":\"white\",\"gridwidth\":2},\"zaxis\":{\"backgroundcolor\":\"#E5ECF6\",\"gridcolor\":\"white\",\"linecolor\":\"white\",\"showbackground\":true,\"ticks\":\"\",\"zerolinecolor\":\"white\",\"gridwidth\":2}},\"shapedefaults\":{\"line\":{\"color\":\"#2a3f5f\"}},\"annotationdefaults\":{\"arrowcolor\":\"#2a3f5f\",\"arrowhead\":0,\"arrowwidth\":1},\"geo\":{\"bgcolor\":\"white\",\"landcolor\":\"#E5ECF6\",\"subunitcolor\":\"white\",\"showland\":true,\"showlakes\":true,\"lakecolor\":\"white\"},\"title\":{\"x\":0.05},\"mapbox\":{\"style\":\"light\"}}},\"title\":{\"text\":\"Yearly Percentage Change in Climate Finance\",\"y\":0.9,\"x\":0.5,\"xanchor\":\"center\",\"yanchor\":\"top\"},\"xaxis\":{\"type\":\"category\"},\"yaxis\":{\"title\":{\"text\":\"Percentage\"}}},                        {\"responsive\": true}                    ).then(function(){\n",
       "                            \n",
       "var gd = document.getElementById('891802a0-16e9-42ae-9592-85c0f5a05bd5');\n",
       "var x = new MutationObserver(function (mutations, observer) {{\n",
       "        var display = window.getComputedStyle(gd).display;\n",
       "        if (!display || display === 'none') {{\n",
       "            console.log([gd, 'removed!']);\n",
       "            Plotly.purge(gd);\n",
       "            observer.disconnect();\n",
       "        }}\n",
       "}});\n",
       "\n",
       "// Listen for the removal of the full notebook cells\n",
       "var notebookContainer = gd.closest('#notebook-container');\n",
       "if (notebookContainer) {{\n",
       "    x.observe(notebookContainer, {childList: true});\n",
       "}}\n",
       "\n",
       "// Listen for the clearing of the current output cell\n",
       "var outputEl = gd.closest('.output');\n",
       "if (outputEl) {{\n",
       "    x.observe(outputEl, {childList: true});\n",
       "}}\n",
       "\n",
       "                        })                };                });            </script>        </div>"
      ]
     },
     "metadata": {},
     "output_type": "display_data"
    }
   ],
   "source": [
    "globe_waterfall_df = pd.read_csv('../upload_data/globe_waterfall.csv')\n",
    "\n",
    "initial_value = globe_waterfall_df['Percentage'].iloc[0] - globe_waterfall_df['Change'].iloc[1] # Subtract the first actual change to get the starting point\n",
    "\n",
    "\n",
    "fig = go.Figure(go.Waterfall(\n",
    "    name = \"20\", orientation = \"v\",\n",
    "    measure = [\"absolute\"] + [\"relative\"] * (len(globe_waterfall_df) - 1), # The first measure is absolute, others are relative\n",
    "    x = globe_waterfall_df['Year'].astype(str),\n",
    "    textposition = \"outside\",\n",
    "    text = globe_waterfall_df['Change'].round(2).astype(str),\n",
    "    y = [initial_value] + globe_waterfall_df['Change'].tolist()[1:], # The initial value plus the changes\n",
    "    connector = {\"line\":{\"color\":\"rgb(63, 63, 63)\"}},\n",
    "))\n",
    "\n",
    "fig.update_layout(\n",
    "        title = {\n",
    "            'text': \"Yearly Percentage Change in Climate Finance\",\n",
    "            'y':0.9,\n",
    "            'x':0.5,\n",
    "            'xanchor': 'center',\n",
    "            'yanchor': 'top'},\n",
    "        xaxis = {\"type\":\"category\"},\n",
    "        yaxis = {\"title\":\"Percentage\"},\n",
    ")\n",
    "fig.show()"
   ]
  },
  {
   "cell_type": "markdown",
   "id": "52772eee",
   "metadata": {
    "heading_collapsed": true
   },
   "source": [
    "### Nice DF"
   ]
  },
  {
   "cell_type": "code",
   "execution_count": null,
   "id": "1759a6bc",
   "metadata": {
    "hidden": true
   },
   "outputs": [],
   "source": [
    "pivot_df = df.pivot_table(index='Year', columns='Type', values='Amount', aggfunc='sum').reset_index()\n"
   ]
  },
  {
   "cell_type": "code",
   "execution_count": 62,
   "id": "d44b0df4",
   "metadata": {
    "hidden": true
   },
   "outputs": [],
   "source": [
    "pivot_df = read_df[['Amount', 'Year', 'Type']].pivot_table(\n",
    "    index='Year', \n",
    "    columns='Type', \n",
    "    values='Amount', aggfunc='sum').reset_index()\n",
    "\n",
    "\n",
    "\n"
   ]
  },
  {
   "cell_type": "code",
   "execution_count": 67,
   "id": "9c24b7db",
   "metadata": {
    "hidden": true
   },
   "outputs": [],
   "source": [
    "full_globe_df = pivot_df.merge(globe_waterfall_df, left_on=\"Year\", right_on=\"Year\").set_index('Year').drop(columns='Unnamed: 0')"
   ]
  },
  {
   "cell_type": "code",
   "execution_count": 69,
   "id": "028e6a42",
   "metadata": {
    "hidden": true
   },
   "outputs": [],
   "source": [
    "full_globe_df.to_csv('../upload_data/globe_df_to_show.csv')"
   ]
  },
  {
   "cell_type": "code",
   "execution_count": 70,
   "id": "744c32f7",
   "metadata": {
    "hidden": true
   },
   "outputs": [],
   "source": [
    "full_globe_df = pd.read_csv('../upload_data/globe_df_to_show.csv')"
   ]
  },
  {
   "cell_type": "code",
   "execution_count": 71,
   "id": "525c34b9",
   "metadata": {
    "hidden": true
   },
   "outputs": [
    {
     "data": {
      "text/html": [
       "<div>\n",
       "<style scoped>\n",
       "    .dataframe tbody tr th:only-of-type {\n",
       "        vertical-align: middle;\n",
       "    }\n",
       "\n",
       "    .dataframe tbody tr th {\n",
       "        vertical-align: top;\n",
       "    }\n",
       "\n",
       "    .dataframe thead th {\n",
       "        text-align: right;\n",
       "    }\n",
       "</style>\n",
       "<table border=\"1\" class=\"dataframe\">\n",
       "  <thead>\n",
       "    <tr style=\"text-align: right;\">\n",
       "      <th></th>\n",
       "      <th>Year</th>\n",
       "      <th>Climate Finance</th>\n",
       "      <th>Other Funds</th>\n",
       "      <th>Percentage</th>\n",
       "      <th>Change</th>\n",
       "    </tr>\n",
       "  </thead>\n",
       "  <tbody>\n",
       "    <tr>\n",
       "      <th>0</th>\n",
       "      <td>2013</td>\n",
       "      <td>8.455634e+08</td>\n",
       "      <td>4.781689e+09</td>\n",
       "      <td>15.026220</td>\n",
       "      <td>NaN</td>\n",
       "    </tr>\n",
       "    <tr>\n",
       "      <th>1</th>\n",
       "      <td>2014</td>\n",
       "      <td>1.036792e+09</td>\n",
       "      <td>5.835755e+09</td>\n",
       "      <td>15.085999</td>\n",
       "      <td>0.059779</td>\n",
       "    </tr>\n",
       "    <tr>\n",
       "      <th>2</th>\n",
       "      <td>2015</td>\n",
       "      <td>9.951812e+08</td>\n",
       "      <td>4.884894e+09</td>\n",
       "      <td>16.924634</td>\n",
       "      <td>1.838634</td>\n",
       "    </tr>\n",
       "    <tr>\n",
       "      <th>3</th>\n",
       "      <td>2016</td>\n",
       "      <td>1.352222e+09</td>\n",
       "      <td>6.024166e+09</td>\n",
       "      <td>18.331768</td>\n",
       "      <td>1.407134</td>\n",
       "    </tr>\n",
       "    <tr>\n",
       "      <th>4</th>\n",
       "      <td>2017</td>\n",
       "      <td>1.457414e+09</td>\n",
       "      <td>6.212956e+09</td>\n",
       "      <td>19.000573</td>\n",
       "      <td>0.668805</td>\n",
       "    </tr>\n",
       "    <tr>\n",
       "      <th>5</th>\n",
       "      <td>2018</td>\n",
       "      <td>1.659673e+09</td>\n",
       "      <td>6.837719e+09</td>\n",
       "      <td>19.531556</td>\n",
       "      <td>0.530983</td>\n",
       "    </tr>\n",
       "    <tr>\n",
       "      <th>6</th>\n",
       "      <td>2019</td>\n",
       "      <td>2.007335e+09</td>\n",
       "      <td>7.118227e+09</td>\n",
       "      <td>21.996836</td>\n",
       "      <td>2.465280</td>\n",
       "    </tr>\n",
       "    <tr>\n",
       "      <th>7</th>\n",
       "      <td>2020</td>\n",
       "      <td>2.195044e+09</td>\n",
       "      <td>8.623938e+09</td>\n",
       "      <td>20.288824</td>\n",
       "      <td>-1.708012</td>\n",
       "    </tr>\n",
       "    <tr>\n",
       "      <th>8</th>\n",
       "      <td>2021</td>\n",
       "      <td>2.490046e+09</td>\n",
       "      <td>8.626520e+09</td>\n",
       "      <td>22.399419</td>\n",
       "      <td>2.110595</td>\n",
       "    </tr>\n",
       "    <tr>\n",
       "      <th>9</th>\n",
       "      <td>2022</td>\n",
       "      <td>2.830265e+09</td>\n",
       "      <td>9.238494e+09</td>\n",
       "      <td>23.451170</td>\n",
       "      <td>1.051751</td>\n",
       "    </tr>\n",
       "  </tbody>\n",
       "</table>\n",
       "</div>"
      ],
      "text/plain": [
       "   Year  Climate Finance   Other Funds  Percentage    Change\n",
       "0  2013     8.455634e+08  4.781689e+09   15.026220       NaN\n",
       "1  2014     1.036792e+09  5.835755e+09   15.085999  0.059779\n",
       "2  2015     9.951812e+08  4.884894e+09   16.924634  1.838634\n",
       "3  2016     1.352222e+09  6.024166e+09   18.331768  1.407134\n",
       "4  2017     1.457414e+09  6.212956e+09   19.000573  0.668805\n",
       "5  2018     1.659673e+09  6.837719e+09   19.531556  0.530983\n",
       "6  2019     2.007335e+09  7.118227e+09   21.996836  2.465280\n",
       "7  2020     2.195044e+09  8.623938e+09   20.288824 -1.708012\n",
       "8  2021     2.490046e+09  8.626520e+09   22.399419  2.110595\n",
       "9  2022     2.830265e+09  9.238494e+09   23.451170  1.051751"
      ]
     },
     "execution_count": 71,
     "metadata": {},
     "output_type": "execute_result"
    }
   ],
   "source": [
    "full_globe_df"
   ]
  },
  {
   "cell_type": "code",
   "execution_count": null,
   "id": "b69f71ec",
   "metadata": {
    "hidden": true
   },
   "outputs": [],
   "source": []
  },
  {
   "cell_type": "code",
   "execution_count": null,
   "id": "b71141e3",
   "metadata": {
    "hidden": true
   },
   "outputs": [],
   "source": []
  },
  {
   "cell_type": "code",
   "execution_count": null,
   "id": "78680d5f",
   "metadata": {
    "hidden": true
   },
   "outputs": [],
   "source": []
  },
  {
   "cell_type": "code",
   "execution_count": null,
   "id": "25be5169",
   "metadata": {
    "hidden": true
   },
   "outputs": [],
   "source": []
  },
  {
   "cell_type": "code",
   "execution_count": null,
   "id": "c3a6c715",
   "metadata": {
    "hidden": true
   },
   "outputs": [],
   "source": []
  },
  {
   "cell_type": "code",
   "execution_count": null,
   "id": "bc6400e0",
   "metadata": {
    "hidden": true
   },
   "outputs": [],
   "source": []
  },
  {
   "cell_type": "markdown",
   "id": "f196600f",
   "metadata": {},
   "source": [
    "# Country Sum"
   ]
  },
  {
   "cell_type": "code",
   "execution_count": 99,
   "id": "387c92fc",
   "metadata": {},
   "outputs": [],
   "source": [
    "# Basic Processing of Data\n",
    "\n",
    "def determine_value(row):\n",
    "    if 2.0 in row[['Climate Adaptation', 'Climate Mitigation']].values:\n",
    "        return 1\n",
    "    elif 1.0 in row[['Climate Adaptation', 'Climate Mitigation']].values:\n",
    "        return 0.5\n",
    "    else:\n",
    "        return 0\n",
    "\n",
    "# final_dict = dictionary_df.copy()    \n",
    "processed_grouped_dfs = []\n",
    "\n",
    "    \n",
    "for year, df in dictionary_df.items():\n",
    "    \n",
    "    # Data Cleaning\n",
    "    use_df = df[['Recipient Name', 'Amount', 'Climate Mitigation', 'Climate Adaptation']]\n",
    "    use_df['Climate Adaptation'] = use_df['Climate Adaptation'].fillna(0)\n",
    "    use_df['Climate Mitigation'] = use_df['Climate Mitigation'].fillna(0)\n",
    "    \n",
    "    # Applying analysis Rules\n",
    "    \n",
    "    use_df['clim_rel'] = use_df.apply(determine_value, axis=1)\n",
    "    \n",
    "    use_df['clim_rel_amount'] = use_df['Amount'] * use_df['clim_rel']\n",
    "    \n",
    "    # Grouping by Country and calculating\n",
    "    \n",
    "    grouped_df = use_df.groupby(['Recipient Name']).sum()[['Amount', 'clim_rel_amount']]\n",
    "    \n",
    "    grouped_df['clim_rel_percent'] = grouped_df['clim_rel_amount'] / grouped_df['Amount']\n",
    "    \n",
    "    grouped_df = grouped_df.rename(columns= {\n",
    "        'Amount': f\"amount_{year}\",\n",
    "        'clim_rel_amount': f\"clim_rel_amount_{year}\",\n",
    "        'clim_rel_percent': f\"clim_rel_percent_{year}\"\n",
    "    })\n",
    "    \n",
    "    # Merging DF\n",
    "    \n",
    "    processed_grouped_dfs.append(grouped_df)\n",
    "    \n",
    "df_merged = reduce(lambda left, right: pd.merge(left, right, on='Recipient Name', how='outer'), processed_grouped_dfs)\n",
    "\n",
    "\n"
   ]
  },
  {
   "cell_type": "code",
   "execution_count": 100,
   "id": "7c8966ba",
   "metadata": {},
   "outputs": [],
   "source": [
    "df_merged.to_csv(\"../upload_data/all_country_df.csv\")"
   ]
  },
  {
   "cell_type": "code",
   "execution_count": 102,
   "id": "8dca5ddb",
   "metadata": {},
   "outputs": [],
   "source": [
    "all_country_df = pd.read_csv(\"../upload_data/all_country_df.csv\")"
   ]
  },
  {
   "cell_type": "code",
   "execution_count": 106,
   "id": "73a2685d",
   "metadata": {},
   "outputs": [],
   "source": [
    "countries = all_country_df['Recipient Name'].unique()"
   ]
  },
  {
   "cell_type": "code",
   "execution_count": 108,
   "id": "f5fcfc0a",
   "metadata": {},
   "outputs": [
    {
     "data": {
      "text/plain": [
       "array(['Afghanistan', 'Africa, regional', 'Albania', 'Algeria',\n",
       "       'America, regional', 'Angola', 'Argentina', 'Armenia',\n",
       "       'Asia, regional', 'Azerbaijan', 'Bangladesh', 'Belarus', 'Belize',\n",
       "       'Benin', 'Bhutan', 'Bilateral, unspecified', 'Bolivia',\n",
       "       'Bosnia and Herzegovina', 'Botswana', 'Brazil', 'Burkina Faso',\n",
       "       'Burundi', \"C(te d'Ivoire\", 'Cabo Verde', 'Cambodia', 'Cameroon',\n",
       "       'Caribbean & Central America, regional',\n",
       "       'Central African Republic', 'Central Asia, regional', 'Chad',\n",
       "       'Chile', \"China (People's Republic of)\", 'Colombia', 'Congo',\n",
       "       'Costa Rica', 'Cuba', \"Democratic People's Republic of Korea\",\n",
       "       'Democratic Republic of the Congo', 'Djibouti',\n",
       "       'Dominican Republic', 'Ecuador', 'Egypt', 'El Salvador', 'Eritrea',\n",
       "       'Eswatini', 'Ethiopia', 'Europe, regional',\n",
       "       'Far East Asia, regional', 'Fiji', 'Gambia', 'Georgia', 'Ghana',\n",
       "       'Guatemala', 'Guinea', 'Guinea-Bissau', 'Guyana', 'Haiti',\n",
       "       'Honduras', 'India', 'Indonesia', 'Iraq', 'Jordan', 'Kazakhstan',\n",
       "       'Kenya', 'Kosovo', 'Kyrgyzstan',\n",
       "       \"Lao People's Democratic Republic\", 'Lebanon', 'Lesotho',\n",
       "       'Liberia', 'Madagascar', 'Malawi', 'Malaysia', 'Mali',\n",
       "       'Mauritania', 'Mexico', 'Micronesia', 'Middle East, regional',\n",
       "       'Moldova', 'Mongolia', 'Montenegro', 'Morocco', 'Mozambique',\n",
       "       'Myanmar', 'Namibia', 'Nepal', 'Nicaragua', 'Niger', 'Nigeria',\n",
       "       'North Macedonia', 'North of Sahara, regional',\n",
       "       'Oceania, regional', 'Pakistan', 'Panama', 'Papua New Guinea',\n",
       "       'Paraguay', 'Peru', 'Philippines', 'Rwanda', 'Samoa',\n",
       "       'Sao Tome and Principe', 'Senegal', 'Serbia', 'Sierra Leone',\n",
       "       'Solomon Islands', 'Somalia', 'South Africa',\n",
       "       'South America, regional', 'South Asia, regional', 'South Sudan',\n",
       "       'South of Sahara, regional', 'Sri Lanka', 'Sudan',\n",
       "       'Syrian Arab Republic', 'Tajikistan', 'Tanzania', 'Thailand',\n",
       "       'Timor-Leste', 'Tnrkiye', 'Togo', 'Tunisia', 'Turkmenistan',\n",
       "       'Uganda', 'Ukraine', 'Uruguay', 'Uzbekistan', 'Vanuatu',\n",
       "       'Venezuela', 'Viet Nam', 'West Bank and Gaza Strip', 'Yemen',\n",
       "       'Zambia', 'Zimbabwe', 'Libya', 'Iran', 'Tonga',\n",
       "       'Caribbean, regional', 'Central America, regional',\n",
       "       'Eastern Africa, regional', 'Middle Africa, regional',\n",
       "       'Western Africa, regional', 'South & Central Asia, regional'],\n",
       "      dtype=object)"
      ]
     },
     "execution_count": 108,
     "metadata": {},
     "output_type": "execute_result"
    }
   ],
   "source": [
    "countries"
   ]
  },
  {
   "cell_type": "code",
   "execution_count": 87,
   "id": "e08cae6a",
   "metadata": {},
   "outputs": [],
   "source": [
    "\n",
    "df_merged = df_merged[df_merged.index.isin(['Argentina', 'Brazil'])]"
   ]
  },
  {
   "cell_type": "code",
   "execution_count": 89,
   "id": "c58965f9",
   "metadata": {},
   "outputs": [
    {
     "data": {
      "text/html": [
       "<div>\n",
       "<style scoped>\n",
       "    .dataframe tbody tr th:only-of-type {\n",
       "        vertical-align: middle;\n",
       "    }\n",
       "\n",
       "    .dataframe tbody tr th {\n",
       "        vertical-align: top;\n",
       "    }\n",
       "\n",
       "    .dataframe thead th {\n",
       "        text-align: right;\n",
       "    }\n",
       "</style>\n",
       "<table border=\"1\" class=\"dataframe\">\n",
       "  <thead>\n",
       "    <tr style=\"text-align: right;\">\n",
       "      <th></th>\n",
       "      <th>amount_2013</th>\n",
       "      <th>clim_rel_amount_2013</th>\n",
       "      <th>clim_rel_percent_2013</th>\n",
       "      <th>amount_2014</th>\n",
       "      <th>clim_rel_amount_2014</th>\n",
       "      <th>clim_rel_percent_2014</th>\n",
       "      <th>amount_2015</th>\n",
       "      <th>clim_rel_amount_2015</th>\n",
       "      <th>clim_rel_percent_2015</th>\n",
       "      <th>amount_2016</th>\n",
       "      <th>...</th>\n",
       "      <th>clim_rel_percent_2019</th>\n",
       "      <th>amount_2020</th>\n",
       "      <th>clim_rel_amount_2020</th>\n",
       "      <th>clim_rel_percent_2020</th>\n",
       "      <th>amount_2021</th>\n",
       "      <th>clim_rel_amount_2021</th>\n",
       "      <th>clim_rel_percent_2021</th>\n",
       "      <th>amount_2022</th>\n",
       "      <th>clim_rel_amount_2022</th>\n",
       "      <th>clim_rel_percent_2022</th>\n",
       "    </tr>\n",
       "    <tr>\n",
       "      <th>Recipient Name</th>\n",
       "      <th></th>\n",
       "      <th></th>\n",
       "      <th></th>\n",
       "      <th></th>\n",
       "      <th></th>\n",
       "      <th></th>\n",
       "      <th></th>\n",
       "      <th></th>\n",
       "      <th></th>\n",
       "      <th></th>\n",
       "      <th></th>\n",
       "      <th></th>\n",
       "      <th></th>\n",
       "      <th></th>\n",
       "      <th></th>\n",
       "      <th></th>\n",
       "      <th></th>\n",
       "      <th></th>\n",
       "      <th></th>\n",
       "      <th></th>\n",
       "      <th></th>\n",
       "    </tr>\n",
       "  </thead>\n",
       "  <tbody>\n",
       "    <tr>\n",
       "      <th>Argentina</th>\n",
       "      <td>4.394577</td>\n",
       "      <td>1.273991</td>\n",
       "      <td>0.289901</td>\n",
       "      <td>4.975084</td>\n",
       "      <td>1.569978</td>\n",
       "      <td>0.315568</td>\n",
       "      <td>48.619634</td>\n",
       "      <td>1.161736</td>\n",
       "      <td>0.023894</td>\n",
       "      <td>4.122951</td>\n",
       "      <td>...</td>\n",
       "      <td>0.187780</td>\n",
       "      <td>3.203587</td>\n",
       "      <td>0.647809</td>\n",
       "      <td>0.202214</td>\n",
       "      <td>4.035065</td>\n",
       "      <td>0.836634</td>\n",
       "      <td>0.207341</td>\n",
       "      <td>1.199731</td>\n",
       "      <td>0.187548</td>\n",
       "      <td>0.156325</td>\n",
       "    </tr>\n",
       "    <tr>\n",
       "      <th>Brazil</th>\n",
       "      <td>117.984860</td>\n",
       "      <td>84.179631</td>\n",
       "      <td>0.713478</td>\n",
       "      <td>60.828641</td>\n",
       "      <td>35.184794</td>\n",
       "      <td>0.578425</td>\n",
       "      <td>50.015792</td>\n",
       "      <td>27.143116</td>\n",
       "      <td>0.542691</td>\n",
       "      <td>103.262959</td>\n",
       "      <td>...</td>\n",
       "      <td>0.553333</td>\n",
       "      <td>37.305778</td>\n",
       "      <td>18.056351</td>\n",
       "      <td>0.484010</td>\n",
       "      <td>68.298989</td>\n",
       "      <td>32.506532</td>\n",
       "      <td>0.475945</td>\n",
       "      <td>42.928006</td>\n",
       "      <td>13.720415</td>\n",
       "      <td>0.319615</td>\n",
       "    </tr>\n",
       "  </tbody>\n",
       "</table>\n",
       "<p>2 rows × 30 columns</p>\n",
       "</div>"
      ],
      "text/plain": [
       "                amount_2013  clim_rel_amount_2013  clim_rel_percent_2013  \\\n",
       "Recipient Name                                                             \n",
       "Argentina          4.394577              1.273991               0.289901   \n",
       "Brazil           117.984860             84.179631               0.713478   \n",
       "\n",
       "                amount_2014  clim_rel_amount_2014  clim_rel_percent_2014  \\\n",
       "Recipient Name                                                             \n",
       "Argentina          4.975084              1.569978               0.315568   \n",
       "Brazil            60.828641             35.184794               0.578425   \n",
       "\n",
       "                amount_2015  clim_rel_amount_2015  clim_rel_percent_2015  \\\n",
       "Recipient Name                                                             \n",
       "Argentina         48.619634              1.161736               0.023894   \n",
       "Brazil            50.015792             27.143116               0.542691   \n",
       "\n",
       "                amount_2016  ...  clim_rel_percent_2019  amount_2020  \\\n",
       "Recipient Name               ...                                       \n",
       "Argentina          4.122951  ...               0.187780     3.203587   \n",
       "Brazil           103.262959  ...               0.553333    37.305778   \n",
       "\n",
       "                clim_rel_amount_2020  clim_rel_percent_2020  amount_2021  \\\n",
       "Recipient Name                                                             \n",
       "Argentina                   0.647809               0.202214     4.035065   \n",
       "Brazil                     18.056351               0.484010    68.298989   \n",
       "\n",
       "                clim_rel_amount_2021  clim_rel_percent_2021  amount_2022  \\\n",
       "Recipient Name                                                             \n",
       "Argentina                   0.836634               0.207341     1.199731   \n",
       "Brazil                     32.506532               0.475945    42.928006   \n",
       "\n",
       "                clim_rel_amount_2022  clim_rel_percent_2022  \n",
       "Recipient Name                                               \n",
       "Argentina                   0.187548               0.156325  \n",
       "Brazil                     13.720415               0.319615  \n",
       "\n",
       "[2 rows x 30 columns]"
      ]
     },
     "execution_count": 89,
     "metadata": {},
     "output_type": "execute_result"
    }
   ],
   "source": [
    "df_merged"
   ]
  },
  {
   "cell_type": "code",
   "execution_count": 94,
   "id": "66160c15",
   "metadata": {},
   "outputs": [
    {
     "data": {
      "text/html": [
       "<div>\n",
       "<style scoped>\n",
       "    .dataframe tbody tr th:only-of-type {\n",
       "        vertical-align: middle;\n",
       "    }\n",
       "\n",
       "    .dataframe tbody tr th {\n",
       "        vertical-align: top;\n",
       "    }\n",
       "\n",
       "    .dataframe thead th {\n",
       "        text-align: right;\n",
       "    }\n",
       "</style>\n",
       "<table border=\"1\" class=\"dataframe\">\n",
       "  <thead>\n",
       "    <tr style=\"text-align: right;\">\n",
       "      <th></th>\n",
       "      <th>amount_2013</th>\n",
       "      <th>clim_rel_amount_2013</th>\n",
       "      <th>amount_2014</th>\n",
       "      <th>clim_rel_amount_2014</th>\n",
       "      <th>amount_2015</th>\n",
       "      <th>clim_rel_amount_2015</th>\n",
       "      <th>amount_2016</th>\n",
       "      <th>clim_rel_amount_2016</th>\n",
       "      <th>amount_2017</th>\n",
       "      <th>clim_rel_amount_2017</th>\n",
       "      <th>amount_2018</th>\n",
       "      <th>clim_rel_amount_2018</th>\n",
       "      <th>amount_2019</th>\n",
       "      <th>clim_rel_amount_2019</th>\n",
       "      <th>amount_2020</th>\n",
       "      <th>clim_rel_amount_2020</th>\n",
       "      <th>amount_2021</th>\n",
       "      <th>clim_rel_amount_2021</th>\n",
       "      <th>amount_2022</th>\n",
       "      <th>clim_rel_amount_2022</th>\n",
       "    </tr>\n",
       "  </thead>\n",
       "  <tbody>\n",
       "    <tr>\n",
       "      <th>2</th>\n",
       "      <td>122.379437</td>\n",
       "      <td>85.453621</td>\n",
       "      <td>65.803725</td>\n",
       "      <td>36.754772</td>\n",
       "      <td>98.635426</td>\n",
       "      <td>28.304852</td>\n",
       "      <td>107.38591</td>\n",
       "      <td>51.585075</td>\n",
       "      <td>111.338307</td>\n",
       "      <td>76.764691</td>\n",
       "      <td>70.240281</td>\n",
       "      <td>36.681652</td>\n",
       "      <td>61.787357</td>\n",
       "      <td>32.796035</td>\n",
       "      <td>40.509365</td>\n",
       "      <td>18.704161</td>\n",
       "      <td>72.334054</td>\n",
       "      <td>33.343165</td>\n",
       "      <td>44.127737</td>\n",
       "      <td>13.907963</td>\n",
       "    </tr>\n",
       "  </tbody>\n",
       "</table>\n",
       "</div>"
      ],
      "text/plain": [
       "   amount_2013  clim_rel_amount_2013  amount_2014  clim_rel_amount_2014  \\\n",
       "2   122.379437             85.453621    65.803725             36.754772   \n",
       "\n",
       "   amount_2015  clim_rel_amount_2015  amount_2016  clim_rel_amount_2016  \\\n",
       "2    98.635426             28.304852    107.38591             51.585075   \n",
       "\n",
       "   amount_2017  clim_rel_amount_2017  amount_2018  clim_rel_amount_2018  \\\n",
       "2   111.338307             76.764691    70.240281             36.681652   \n",
       "\n",
       "   amount_2019  clim_rel_amount_2019  amount_2020  clim_rel_amount_2020  \\\n",
       "2    61.787357             32.796035    40.509365             18.704161   \n",
       "\n",
       "   amount_2021  clim_rel_amount_2021  amount_2022  clim_rel_amount_2022  \n",
       "2    72.334054             33.343165    44.127737             13.907963  "
      ]
     },
     "execution_count": 94,
     "metadata": {},
     "output_type": "execute_result"
    }
   ],
   "source": [
    "selected_columns = [col for col in df_merged.columns if col.startswith('amount_') or col.startswith('clim_rel_amount_')]\n",
    "filtered_df = df_merged[selected_columns]\n",
    "\n",
    "sums = filtered_df.sum()\n",
    "globe_df = filtered_df.append(sums, ignore_index=True)\n",
    "\n",
    "\n",
    "globe_df = globe_df.loc[[globe_df.index[-1]]]\n",
    "\n",
    "globe_df"
   ]
  },
  {
   "cell_type": "code",
   "execution_count": 93,
   "id": "7e64dfab",
   "metadata": {},
   "outputs": [
    {
     "data": {
      "text/plain": [
       "2"
      ]
     },
     "execution_count": 93,
     "metadata": {},
     "output_type": "execute_result"
    }
   ],
   "source": [
    "globe_df.index[-1]"
   ]
  },
  {
   "cell_type": "markdown",
   "id": "e126233c",
   "metadata": {},
   "source": [
    "# Country Compare"
   ]
  },
  {
   "cell_type": "code",
   "execution_count": null,
   "id": "ef92f795",
   "metadata": {},
   "outputs": [],
   "source": []
  },
  {
   "cell_type": "code",
   "execution_count": null,
   "id": "ee642d0b",
   "metadata": {},
   "outputs": [],
   "source": []
  },
  {
   "cell_type": "code",
   "execution_count": null,
   "id": "b00ac287",
   "metadata": {},
   "outputs": [],
   "source": []
  },
  {
   "cell_type": "markdown",
   "id": "ba45ba5a",
   "metadata": {},
   "source": [
    "# Country Breakdown"
   ]
  },
  {
   "cell_type": "code",
   "execution_count": null,
   "id": "1119fc1b",
   "metadata": {},
   "outputs": [],
   "source": [
    "use_df = df_dictionary['2022'][['Recipient Name', 'Amount', 'Climate Mitigation', 'Climate Adaptation']]"
   ]
  },
  {
   "cell_type": "code",
   "execution_count": null,
   "id": "2fede49a",
   "metadata": {},
   "outputs": [],
   "source": [
    "\n",
    "use_df['Climate Adaptation'] = use_df['Climate Adaptation'].fillna(0)\n",
    "use_df['Climate Mitigation'] = use_df['Climate Mitigation'].fillna(0)"
   ]
  },
  {
   "cell_type": "code",
   "execution_count": null,
   "id": "18e3c48b",
   "metadata": {},
   "outputs": [],
   "source": [
    "def determine_value(row):\n",
    "    if 2.0 in row[['Climate Adaptation', 'Climate Mitigation']].values:\n",
    "        return 1\n",
    "    elif 1.0 in row[['Climate Adaptation', 'Climate Mitigation']].values:\n",
    "        return 0.5\n",
    "    else:\n",
    "        return 0"
   ]
  },
  {
   "cell_type": "code",
   "execution_count": null,
   "id": "e169b282",
   "metadata": {},
   "outputs": [],
   "source": [
    "use_df['clim_rel'] = use_df.apply(determine_value, axis=1)\n"
   ]
  },
  {
   "cell_type": "code",
   "execution_count": null,
   "id": "5d8555ef",
   "metadata": {
    "scrolled": true
   },
   "outputs": [],
   "source": [
    "use_df['clim_rel_amount'] = use_df['Amount'] * use_df['clim_rel']"
   ]
  },
  {
   "cell_type": "code",
   "execution_count": null,
   "id": "9f7130c4",
   "metadata": {},
   "outputs": [],
   "source": [
    "grouped_df = use_df.groupby(['Recipient Name']).sum()[['Amount', 'clim_rel_amount']]"
   ]
  },
  {
   "cell_type": "code",
   "execution_count": null,
   "id": "e29e2a30",
   "metadata": {},
   "outputs": [],
   "source": [
    "grouped_df['clim_rel_percent'] = grouped_df['clim_rel_amount'] / grouped_df['Amount']"
   ]
  },
  {
   "cell_type": "code",
   "execution_count": null,
   "id": "6bf029f0",
   "metadata": {},
   "outputs": [],
   "source": [
    "grouped_df"
   ]
  },
  {
   "cell_type": "code",
   "execution_count": null,
   "id": "ef24446f",
   "metadata": {},
   "outputs": [],
   "source": [
    "processed_grouped_dfs = []\n",
    "\n",
    "def determine_value(row):\n",
    "    if 2.0 in row[['Climate Adaptation', 'Climate Mitigation']].values:\n",
    "        return 1\n",
    "    elif 1.0 in row[['Climate Adaptation', 'Climate Mitigation']].values:\n",
    "        return 0.5\n",
    "    else:\n",
    "        return 0\n",
    "\n",
    "for key in df_dictionary.keys():\n",
    "        \n",
    "    use_df = df_dictionary[key][['Recipient Name', 'Amount', 'Climate Mitigation', 'Climate Adaptation']]\n",
    "\n",
    "    use_df['Climate Adaptation'] = use_df['Climate Adaptation'].fillna(0)\n",
    "    use_df['Climate Mitigation'] = use_df['Climate Mitigation'].fillna(0)\n",
    "\n",
    "    use_df['clim_rel'] = use_df.apply(determine_value, axis=1)\n",
    "    use_df['clim_rel_amount'] = use_df['Amount'] * use_df['clim_rel']\n",
    "    \n",
    "    grouped_df = use_df.groupby(['Recipient Name']).sum()[['Amount', 'clim_rel_amount']].reset_index()\n",
    "    \n",
    "    grouped_df['clim_rel_percent'] = grouped_df['clim_rel_amount'] / grouped_df['Amount']\n",
    "    \n",
    "    grouped_processed_df = grouped_df.rename(columns={'clim_rel_percent': key})\n",
    "\n",
    "    processed_grouped_dfs.append(grouped_processed_df[['Recipient Name',key]])\n",
    "\n",
    "    \n",
    "df_merged = reduce(lambda left, right: pd.merge(left, right, on='Recipient Name', how='outer'), processed_grouped_dfs)\n",
    "\n",
    "df_long = df_merged.melt(id_vars=[\"Recipient Name\"], \n",
    "                  var_name=\"Year\", \n",
    "                  value_name=\"Value\")\n",
    "\n",
    "\n",
    "# df_long.to_csv('../upload_data/country_specific_df.csv')\n",
    "\n"
   ]
  },
  {
   "cell_type": "code",
   "execution_count": null,
   "id": "60c46816",
   "metadata": {},
   "outputs": [],
   "source": [
    "df_long.to_csv('../upload_data/newmethod_country_specific_df.csv')\n"
   ]
  },
  {
   "cell_type": "code",
   "execution_count": null,
   "id": "65757858",
   "metadata": {},
   "outputs": [],
   "source": [
    "df_long"
   ]
  },
  {
   "cell_type": "code",
   "execution_count": null,
   "id": "73cae470",
   "metadata": {},
   "outputs": [],
   "source": []
  },
  {
   "cell_type": "code",
   "execution_count": null,
   "id": "4dc5721c",
   "metadata": {},
   "outputs": [],
   "source": []
  },
  {
   "cell_type": "code",
   "execution_count": null,
   "id": "5af5b22a",
   "metadata": {},
   "outputs": [],
   "source": []
  },
  {
   "cell_type": "code",
   "execution_count": null,
   "id": "5e51982c",
   "metadata": {},
   "outputs": [],
   "source": []
  },
  {
   "cell_type": "code",
   "execution_count": null,
   "id": "b1d98b47",
   "metadata": {},
   "outputs": [],
   "source": []
  },
  {
   "cell_type": "code",
   "execution_count": null,
   "id": "3037add7",
   "metadata": {},
   "outputs": [],
   "source": []
  },
  {
   "cell_type": "code",
   "execution_count": null,
   "id": "ebece445",
   "metadata": {},
   "outputs": [],
   "source": []
  },
  {
   "cell_type": "code",
   "execution_count": null,
   "id": "1bf11c01",
   "metadata": {},
   "outputs": [],
   "source": []
  },
  {
   "cell_type": "code",
   "execution_count": null,
   "id": "35bc5641",
   "metadata": {},
   "outputs": [],
   "source": []
  },
  {
   "cell_type": "code",
   "execution_count": null,
   "id": "86cb0125",
   "metadata": {},
   "outputs": [],
   "source": []
  },
  {
   "cell_type": "code",
   "execution_count": null,
   "id": "e8565a80",
   "metadata": {},
   "outputs": [],
   "source": []
  },
  {
   "cell_type": "code",
   "execution_count": null,
   "id": "46fa3ebb",
   "metadata": {},
   "outputs": [],
   "source": []
  },
  {
   "cell_type": "code",
   "execution_count": null,
   "id": "c5724020",
   "metadata": {},
   "outputs": [],
   "source": []
  },
  {
   "cell_type": "code",
   "execution_count": null,
   "id": "0c9dd912",
   "metadata": {},
   "outputs": [],
   "source": [
    "processed_grouped_dfs = []\n",
    "\n",
    "for key in df_dictionary.keys():\n",
    "        \n",
    "    use_df = df_dictionary[key][['Recipient Name', 'Amount', 'Climate Mitigation', 'Climate Adaptation']]\n",
    "\n",
    "    use_df['Climate Adaptation'] = use_df['Climate Adaptation'].fillna(0)\n",
    "    use_df['Climate Mitigation'] = use_df['Climate Mitigation'].fillna(0)\n",
    "\n",
    "    use_df['Climate Relevance'] = use_df['Climate Adaptation'] + use_df['Climate Mitigation']\n",
    "\n",
    "    use_df.loc[use_df['Climate Relevance'] > 1, 'Climate Relevance'] = 1\n",
    "\n",
    "    first_group_df = use_df.groupby(['Recipient Name', 'Climate Relevance']).sum()[['Amount']].reset_index()\n",
    "\n",
    "    df_grouped = first_group_df.groupby('Recipient Name').apply(\n",
    "        lambda x: (x[x['Climate Relevance'] == 1]['Amount'].sum()\\\n",
    "                   / x['Amount'].sum()) * 100).reset_index(name='Climate Relevance %')\n",
    "\n",
    "    grouped_processed_df = df_grouped.rename(columns={'Climate Relevance %': key})\n",
    "\n",
    "    processed_grouped_dfs.append(grouped_processed_df)\n",
    "\n",
    "    \n",
    "df_merged = reduce(lambda left, right: pd.merge(left, right, on='Recipient Name', how='outer'), processed_grouped_dfs)\n",
    "\n",
    "df_long = df_merged.melt(id_vars=[\"Recipient Name\"], \n",
    "                  var_name=\"Year\", \n",
    "                  value_name=\"Value\")\n",
    "\n",
    "\n",
    "df_long.to_csv('../upload_data/country_specific_df.csv')\n",
    "\n"
   ]
  },
  {
   "cell_type": "code",
   "execution_count": null,
   "id": "5496a511",
   "metadata": {},
   "outputs": [],
   "source": [
    "df_long"
   ]
  },
  {
   "cell_type": "code",
   "execution_count": null,
   "id": "d07bc988",
   "metadata": {},
   "outputs": [],
   "source": [
    "df_long = pd.read_csv('../upload_data/country_specific_df.csv')[['Recipient Name', 'Year', 'Value']]"
   ]
  },
  {
   "cell_type": "code",
   "execution_count": null,
   "id": "eff86f67",
   "metadata": {},
   "outputs": [],
   "source": [
    "df_long"
   ]
  },
  {
   "cell_type": "code",
   "execution_count": null,
   "id": "fa9774dd",
   "metadata": {},
   "outputs": [],
   "source": [
    "countries = df_long['Recipient Name'].unique()\n",
    "# countries"
   ]
  },
  {
   "cell_type": "code",
   "execution_count": null,
   "id": "7592e13b",
   "metadata": {},
   "outputs": [],
   "source": [
    "selected_df = df_long[df_long['Recipient Name'].isin(['India', 'Brazil', 'Ukraine', 'Namibia', 'South Africa'])]"
   ]
  },
  {
   "cell_type": "code",
   "execution_count": null,
   "id": "f8f8fb0c",
   "metadata": {},
   "outputs": [],
   "source": [
    "fig = px.line(selected_df, \n",
    "              x='Year', \n",
    "              y='Value', \n",
    "              color='Recipient Name',\n",
    "              title='Value by Year for Selected Country',\n",
    "              labels={'Value': 'Climate Relevant Financing (%)', 'Year': 'Year'},\n",
    "              markers=True)\n",
    "\n",
    "fig.show()"
   ]
  },
  {
   "cell_type": "code",
   "execution_count": null,
   "id": "b0aef969",
   "metadata": {},
   "outputs": [],
   "source": []
  },
  {
   "cell_type": "code",
   "execution_count": null,
   "id": "3e301da6",
   "metadata": {},
   "outputs": [],
   "source": []
  },
  {
   "cell_type": "code",
   "execution_count": null,
   "id": "502c82f3",
   "metadata": {},
   "outputs": [],
   "source": []
  },
  {
   "cell_type": "code",
   "execution_count": null,
   "id": "60b91423",
   "metadata": {},
   "outputs": [],
   "source": []
  },
  {
   "cell_type": "code",
   "execution_count": null,
   "id": "f250a613",
   "metadata": {},
   "outputs": [],
   "source": []
  },
  {
   "cell_type": "code",
   "execution_count": null,
   "id": "82cea0f5",
   "metadata": {},
   "outputs": [],
   "source": []
  },
  {
   "cell_type": "code",
   "execution_count": null,
   "id": "0eda08d7",
   "metadata": {},
   "outputs": [],
   "source": []
  },
  {
   "cell_type": "code",
   "execution_count": null,
   "id": "940e1cb2",
   "metadata": {},
   "outputs": [],
   "source": []
  },
  {
   "cell_type": "code",
   "execution_count": null,
   "id": "56e918be",
   "metadata": {},
   "outputs": [],
   "source": []
  },
  {
   "cell_type": "code",
   "execution_count": null,
   "id": "693c6856",
   "metadata": {},
   "outputs": [],
   "source": []
  },
  {
   "cell_type": "code",
   "execution_count": null,
   "id": "ae5281f8",
   "metadata": {},
   "outputs": [],
   "source": []
  },
  {
   "cell_type": "code",
   "execution_count": null,
   "id": "afdf252e",
   "metadata": {},
   "outputs": [],
   "source": []
  },
  {
   "cell_type": "code",
   "execution_count": null,
   "id": "3a5b6bd2",
   "metadata": {},
   "outputs": [],
   "source": []
  },
  {
   "cell_type": "code",
   "execution_count": null,
   "id": "d1ddd7a4",
   "metadata": {},
   "outputs": [],
   "source": []
  },
  {
   "cell_type": "markdown",
   "id": "65abf492",
   "metadata": {},
   "source": [
    "# Globe Graph"
   ]
  },
  {
   "cell_type": "code",
   "execution_count": null,
   "id": "98c1663f",
   "metadata": {},
   "outputs": [],
   "source": [
    "def df_compiler(dictionary_of_df):\n",
    "    \n",
    "    processed_grouped_dfs = []\n",
    "    \n",
    "    for key in dictionary_of_df.keys():\n",
    "        \n",
    "        use_df = dictionary_of_df[key][['Recipient Name', 'Amount', 'Climate Mitigation', 'Climate Adaptation']]\n",
    "        \n",
    "        use_df['Climate Adaptation'] = use_df['Climate Adaptation'].fillna(0)\n",
    "        use_df['Climate Mitigation'] = use_df['Climate Mitigation'].fillna(0)\n",
    "        \n",
    "        use_df['Climate Relevance'] = use_df['Climate Adaptation'] + use_df['Climate Mitigation']\n",
    "        \n",
    "        use_df.loc[use_df['Climate Relevance'] > 2, 'Climate Relevance'] = 2\n",
    "        \n",
    "        use_df['Amount'] = use_df['Amount'] * 1_000_000\n",
    "        \n",
    "        grouped_processed_df = use_df.groupby(['Climate Relevance']).sum()[['Amount']]\n",
    "        \n",
    "        grouped_processed_df = grouped_processed_df.rename(columns={'Amount': key})\n",
    "        \n",
    "        processed_grouped_dfs.append(grouped_processed_df)\n",
    "        \n",
    "    merged_df = pd.concat(processed_grouped_dfs, axis=1)\n",
    "    \n",
    "    sum_row = merged_df.sum()\n",
    "    sum_df = pd.DataFrame([sum_row], index=['Total Financing'])\n",
    "    \n",
    "    merged_df = merged_df.append(sum_df)\n",
    "\n",
    "    merged_df.index = ['No Climate Relevance','Partial Climate Relevance',\n",
    "                       'High Climate Relevance', 'Total Financing']\n",
    "\n",
    "    return merged_df\n",
    "\n",
    "\n",
    "merged_df = df_compiler(df_dictionary)\n",
    "\n",
    "merged_df.to_csv('../upload_data/global_df.csv')\n",
    "\n",
    "merged_df"
   ]
  },
  {
   "cell_type": "code",
   "execution_count": null,
   "id": "efa61477",
   "metadata": {},
   "outputs": [],
   "source": [
    "globe_df = pd.read_csv('../upload_data/global_df.csv')\n",
    "globe_df"
   ]
  },
  {
   "cell_type": "code",
   "execution_count": null,
   "id": "227ea6bf",
   "metadata": {},
   "outputs": [],
   "source": [
    "\n",
    "df_long = merged_df.stack().reset_index()\n",
    "df_long.columns = ['Climate Relevance', 'Year', 'Financing']\n",
    "df_long = df_long[df_long['Climate Relevance'] != 'Total Financing']\n",
    "\n",
    "\n",
    "\n",
    "fig = px.bar(\n",
    "    df_long,\n",
    "    x='Year',\n",
    "    y='Financing',\n",
    "    color='Climate Relevance',  # This determines the stack segments\n",
    "    hover_data=['Climate Relevance', 'Financing'],  # Customize hover info\n",
    "    title='Global BMZ Financing by Climate Relevance'\n",
    ")\n",
    "\n",
    "# Adjust layout\n",
    "fig.update_layout(\n",
    "    xaxis_title='Year',\n",
    "    yaxis_title='Total Financing',\n",
    "    barmode='stack'\n",
    ")\n",
    "\n",
    "# Show the figure\n",
    "fig.show()"
   ]
  },
  {
   "cell_type": "code",
   "execution_count": null,
   "id": "0713661a",
   "metadata": {},
   "outputs": [],
   "source": []
  },
  {
   "cell_type": "code",
   "execution_count": null,
   "id": "f7b2ffd4",
   "metadata": {},
   "outputs": [],
   "source": []
  },
  {
   "cell_type": "code",
   "execution_count": null,
   "id": "8de54156",
   "metadata": {},
   "outputs": [],
   "source": []
  },
  {
   "cell_type": "code",
   "execution_count": null,
   "id": "0b9c4e86",
   "metadata": {},
   "outputs": [],
   "source": [
    "df_long = df.stack().reset_index()\n",
    "df_long.columns = ['Climate Relevance', 'Year', 'Financing']\n",
    "\n",
    "# Filter out the 'Total Financing' row to avoid double counting in the stacked bar\n",
    "df_long = df_long[df_long['Climate Relevance'] != 'Total Financing']\n",
    "\n",
    "# Create the stacked bar chart\n",
    "fig = px.bar(\n",
    "    df_long,\n",
    "    x='Year',\n",
    "    y='Financing',\n",
    "    color='Climate Relevance',  # This determines the stack segments\n",
    "    hover_data=['Climate Relevance', 'Financing'],  # Customize hover info\n",
    "    title='Total Financing by Climate Relevance'\n",
    ")\n",
    "\n",
    "# Adjust layout\n",
    "fig.update_layout(\n",
    "    xaxis_title='Year',\n",
    "    yaxis_title='Total Financing',\n",
    "    barmode='stack'\n",
    ")\n",
    "\n",
    "# Show the figure\n",
    "fig.show()"
   ]
  },
  {
   "cell_type": "code",
   "execution_count": null,
   "id": "b793b1ef",
   "metadata": {},
   "outputs": [],
   "source": [
    "\n",
    "\n",
    "testing_2022 = df_2022[['Recipient Name', 'Amount', 'Climate Mitigation', 'Climate Adaptation']]"
   ]
  },
  {
   "cell_type": "code",
   "execution_count": null,
   "id": "304d9800",
   "metadata": {},
   "outputs": [],
   "source": [
    "testing_2022['Climate Adaptation'] = testing_2022['Climate Adaptation'].fillna(0)\n",
    "testing_2022['Climate Mitigation'] = testing_2022['Climate Mitigation'].fillna(0)"
   ]
  },
  {
   "cell_type": "code",
   "execution_count": null,
   "id": "521bfaf8",
   "metadata": {},
   "outputs": [],
   "source": [
    "testing_2022['Climate Relevance'] = testing_2022['Climate Adaptation'] + testing_2022['Climate Mitigation']"
   ]
  },
  {
   "cell_type": "code",
   "execution_count": null,
   "id": "faa5e47e",
   "metadata": {},
   "outputs": [],
   "source": [
    "testing_2022.loc[testing_2022['Climate Relevance'] > 2, 'Climate Relevance'] = 2\n"
   ]
  },
  {
   "cell_type": "code",
   "execution_count": null,
   "id": "736d501f",
   "metadata": {},
   "outputs": [],
   "source": [
    "testing_2022.groupby(['Climate Relevance']).sum()[['Amount']].rename(columns={'Amount': '2022'})"
   ]
  },
  {
   "cell_type": "code",
   "execution_count": null,
   "id": "03da3b49",
   "metadata": {},
   "outputs": [],
   "source": []
  },
  {
   "cell_type": "code",
   "execution_count": null,
   "id": "a8ad5499",
   "metadata": {},
   "outputs": [],
   "source": []
  },
  {
   "cell_type": "code",
   "execution_count": null,
   "id": "1240495e",
   "metadata": {},
   "outputs": [],
   "source": []
  },
  {
   "cell_type": "code",
   "execution_count": null,
   "id": "3f879e1d",
   "metadata": {},
   "outputs": [],
   "source": [
    "grouped_test = testing_2022.groupby(['Recipient Name', 'Climate Relevance']).sum()[['Amount']]"
   ]
  },
  {
   "cell_type": "code",
   "execution_count": null,
   "id": "5acdcc41",
   "metadata": {},
   "outputs": [],
   "source": []
  },
  {
   "cell_type": "code",
   "execution_count": null,
   "id": "3b9336a6",
   "metadata": {},
   "outputs": [],
   "source": []
  },
  {
   "cell_type": "code",
   "execution_count": null,
   "id": "f74e5c9c",
   "metadata": {},
   "outputs": [],
   "source": []
  }
 ],
 "metadata": {
  "kernelspec": {
   "display_name": "Python 3 (ipykernel)",
   "language": "python",
   "name": "python3"
  },
  "language_info": {
   "codemirror_mode": {
    "name": "ipython",
    "version": 3
   },
   "file_extension": ".py",
   "mimetype": "text/x-python",
   "name": "python",
   "nbconvert_exporter": "python",
   "pygments_lexer": "ipython3",
   "version": "3.10.6"
  },
  "toc": {
   "base_numbering": 1,
   "nav_menu": {},
   "number_sections": true,
   "sideBar": true,
   "skip_h1_title": false,
   "title_cell": "Table of Contents",
   "title_sidebar": "Contents",
   "toc_cell": false,
   "toc_position": {},
   "toc_section_display": true,
   "toc_window_display": false
  },
  "varInspector": {
   "cols": {
    "lenName": 16,
    "lenType": 16,
    "lenVar": 40
   },
   "kernels_config": {
    "python": {
     "delete_cmd_postfix": "",
     "delete_cmd_prefix": "del ",
     "library": "var_list.py",
     "varRefreshCmd": "print(var_dic_list())"
    },
    "r": {
     "delete_cmd_postfix": ") ",
     "delete_cmd_prefix": "rm(",
     "library": "var_list.r",
     "varRefreshCmd": "cat(var_dic_list()) "
    }
   },
   "types_to_exclude": [
    "module",
    "function",
    "builtin_function_or_method",
    "instance",
    "_Feature"
   ],
   "window_display": false
  }
 },
 "nbformat": 4,
 "nbformat_minor": 5
}
