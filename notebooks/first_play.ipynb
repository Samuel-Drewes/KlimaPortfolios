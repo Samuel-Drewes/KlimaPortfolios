{
 "cells": [
  {
   "cell_type": "markdown",
   "id": "3677799c",
   "metadata": {},
   "source": [
    "# Imports"
   ]
  },
  {
   "cell_type": "code",
   "execution_count": 3,
   "id": "1f4c57cf",
   "metadata": {},
   "outputs": [],
   "source": [
    "import numpy as np\n",
    "import pandas as pd\n",
    "\n",
    "from functools import reduce\n",
    "\n",
    "\n",
    "import plotly.express as px\n",
    "\n",
    "\n",
    "import warnings\n",
    "warnings.filterwarnings('ignore')"
   ]
  },
  {
   "cell_type": "code",
   "execution_count": 4,
   "id": "133597e2",
   "metadata": {},
   "outputs": [],
   "source": [
    "df_2013 = pd.read_csv('../data/2013.csv')\n",
    "df_2014 = pd.read_csv('../data/2014.csv')\n",
    "df_2015 = pd.read_csv('../data/2015.csv')\n",
    "df_2016 = pd.read_csv('../data/2016.csv')\n",
    "df_2017 = pd.read_csv('../data/2017.csv')\n",
    "df_2018 = pd.read_csv('../data/2018.csv')\n",
    "df_2019 = pd.read_csv('../data/2019.csv')\n",
    "df_2020 = pd.read_csv('../data/2020.csv')\n",
    "df_2021 = pd.read_csv('../data/2021.csv')\n",
    "df_2022 = pd.read_csv('../data/2022.csv')\n"
   ]
  },
  {
   "cell_type": "code",
   "execution_count": 6,
   "id": "bd985f52",
   "metadata": {},
   "outputs": [],
   "source": [
    "dictionary_df = {\n",
    "    '2013': df_2013,\n",
    "    '2014': df_2014,\n",
    "    '2015': df_2015,\n",
    "    '2016': df_2016,\n",
    "    '2017': df_2017,\n",
    "    '2018': df_2018,\n",
    "    '2019': df_2019,\n",
    "    '2020': df_2020,\n",
    "    '2021': df_2021,\n",
    "    '2022': df_2022,\n",
    "}\n",
    "\n",
    "for key, df in dictionary_df.items():\n",
    "    dictionary_df[key] = df[df['Donor Agency'] == 'Bundesministerium fnr Wirtschaftliche Zusammenarbeit und Entwicklung']\n",
    "    \n",
    "    \n",
    "    "
   ]
  },
  {
   "cell_type": "markdown",
   "id": "f82e3b40",
   "metadata": {},
   "source": [
    "## ToDo\n",
    "\n",
    "- % Zuwachs: Either since 2015 or Benutzerdefiniert\n",
    "- Waterfall graphs for %, stacked barchart for Gesamtvolum\n",
    "- Top/Bottom 10\n",
    "- DF to the bottom"
   ]
  },
  {
   "cell_type": "markdown",
   "id": "14fc4632",
   "metadata": {},
   "source": [
    "Filter Steps:\n",
    " 1. Only BMZ\n",
    " 2. 100% of full, 50% of Partial Financing"
   ]
  },
  {
   "cell_type": "markdown",
   "id": "f213a8a9",
   "metadata": {},
   "source": [
    "# World"
   ]
  },
  {
   "cell_type": "code",
   "execution_count": 54,
   "id": "431a25d2",
   "metadata": {},
   "outputs": [
    {
     "data": {
      "text/plain": [
       "Amount    1.206876e+10\n",
       "dtype: float64"
      ]
     },
     "execution_count": 54,
     "metadata": {},
     "output_type": "execute_result"
    }
   ],
   "source": [
    "dictionary_df['2022'][['Amount']].sum()*1_000_000"
   ]
  },
  {
   "cell_type": "code",
   "execution_count": 18,
   "id": "a5c0ba56",
   "metadata": {},
   "outputs": [],
   "source": [
    "def determine_value(row):\n",
    "    if 2.0 in row[['Climate Adaptation', 'Climate Mitigation']].values:\n",
    "        return 1\n",
    "    elif 1.0 in row[['Climate Adaptation', 'Climate Mitigation']].values:\n",
    "        return 0.5\n",
    "    else:\n",
    "        return 0\n",
    "\n",
    "# final_dict = dictionary_df.copy()    \n",
    "processed_grouped_dfs = []\n",
    "\n",
    "    \n",
    "for year, df in dictionary_df.items():\n",
    "    \n",
    "    # Data Cleaning\n",
    "    use_df = df[['Recipient Name', 'Amount', 'Climate Mitigation', 'Climate Adaptation']]\n",
    "    use_df['Climate Adaptation'] = use_df['Climate Adaptation'].fillna(0)\n",
    "    use_df['Climate Mitigation'] = use_df['Climate Mitigation'].fillna(0)\n",
    "    \n",
    "    # Applying analysis Rules\n",
    "    \n",
    "    use_df['clim_rel'] = use_df.apply(determine_value, axis=1)\n",
    "    \n",
    "    use_df['clim_rel_amount'] = use_df['Amount'] * use_df['clim_rel']\n",
    "    \n",
    "    # Grouping by Country and calculating\n",
    "    \n",
    "    grouped_df = use_df.groupby(['Recipient Name']).sum()[['Amount', 'clim_rel_amount']]\n",
    "    \n",
    "    grouped_df['clim_rel_percent'] = grouped_df['clim_rel_amount'] / grouped_df['Amount']\n",
    "    \n",
    "    grouped_df = grouped_df.rename(columns= {\n",
    "        'Amount': f\"amount_{year}\",\n",
    "        'clim_rel_amount': f\"clim_rel_amount_{year}\",\n",
    "        'clim_rel_percent': f\"clim_rel_percent_{year}\"\n",
    "    })\n",
    "    \n",
    "    # Overwriting DF\n",
    "    \n",
    "    processed_grouped_dfs.append(grouped_df)\n",
    "    \n",
    "df_merged = reduce(lambda left, right: pd.merge(left, right, on='Recipient Name', how='outer'), processed_grouped_dfs)\n",
    "\n"
   ]
  },
  {
   "cell_type": "code",
   "execution_count": 26,
   "id": "972fab79",
   "metadata": {
    "scrolled": false
   },
   "outputs": [],
   "source": [
    "selected_columns = [col for col in df_merged.columns if col.startswith('amount_') or col.startswith('clim_rel_amount_')]\n",
    "filtered_df = df_merged[selected_columns]"
   ]
  },
  {
   "cell_type": "code",
   "execution_count": 27,
   "id": "a6c4b713",
   "metadata": {},
   "outputs": [],
   "source": [
    "sums = filtered_df.sum()\n",
    "globe_df = filtered_df.append(sums, ignore_index=True)\n"
   ]
  },
  {
   "cell_type": "code",
   "execution_count": 30,
   "id": "50622a3a",
   "metadata": {},
   "outputs": [],
   "source": [
    "globe_df = globe_df.loc[[142]]"
   ]
  },
  {
   "cell_type": "code",
   "execution_count": 31,
   "id": "7ae795d7",
   "metadata": {},
   "outputs": [
    {
     "data": {
      "text/html": [
       "<div>\n",
       "<style scoped>\n",
       "    .dataframe tbody tr th:only-of-type {\n",
       "        vertical-align: middle;\n",
       "    }\n",
       "\n",
       "    .dataframe tbody tr th {\n",
       "        vertical-align: top;\n",
       "    }\n",
       "\n",
       "    .dataframe thead th {\n",
       "        text-align: right;\n",
       "    }\n",
       "</style>\n",
       "<table border=\"1\" class=\"dataframe\">\n",
       "  <thead>\n",
       "    <tr style=\"text-align: right;\">\n",
       "      <th></th>\n",
       "      <th>amount_2013</th>\n",
       "      <th>clim_rel_amount_2013</th>\n",
       "      <th>amount_2014</th>\n",
       "      <th>clim_rel_amount_2014</th>\n",
       "      <th>amount_2015</th>\n",
       "      <th>clim_rel_amount_2015</th>\n",
       "      <th>amount_2016</th>\n",
       "      <th>clim_rel_amount_2016</th>\n",
       "      <th>amount_2017</th>\n",
       "      <th>clim_rel_amount_2017</th>\n",
       "      <th>amount_2018</th>\n",
       "      <th>clim_rel_amount_2018</th>\n",
       "      <th>amount_2019</th>\n",
       "      <th>clim_rel_amount_2019</th>\n",
       "      <th>amount_2020</th>\n",
       "      <th>clim_rel_amount_2020</th>\n",
       "      <th>amount_2021</th>\n",
       "      <th>clim_rel_amount_2021</th>\n",
       "      <th>amount_2022</th>\n",
       "      <th>clim_rel_amount_2022</th>\n",
       "    </tr>\n",
       "  </thead>\n",
       "  <tbody>\n",
       "    <tr>\n",
       "      <th>142</th>\n",
       "      <td>5627.252576</td>\n",
       "      <td>845.563368</td>\n",
       "      <td>6872.547503</td>\n",
       "      <td>1036.792467</td>\n",
       "      <td>5880.075415</td>\n",
       "      <td>995.181229</td>\n",
       "      <td>7376.387963</td>\n",
       "      <td>1352.222299</td>\n",
       "      <td>7670.370692</td>\n",
       "      <td>1457.414366</td>\n",
       "      <td>8497.391449</td>\n",
       "      <td>1659.672747</td>\n",
       "      <td>9125.561581</td>\n",
       "      <td>2007.334822</td>\n",
       "      <td>10818.981966</td>\n",
       "      <td>2195.044259</td>\n",
       "      <td>11116.566037</td>\n",
       "      <td>2490.046211</td>\n",
       "      <td>12068.758817</td>\n",
       "      <td>2830.26513</td>\n",
       "    </tr>\n",
       "  </tbody>\n",
       "</table>\n",
       "</div>"
      ],
      "text/plain": [
       "     amount_2013  clim_rel_amount_2013  amount_2014  clim_rel_amount_2014  \\\n",
       "142  5627.252576            845.563368  6872.547503           1036.792467   \n",
       "\n",
       "     amount_2015  clim_rel_amount_2015  amount_2016  clim_rel_amount_2016  \\\n",
       "142  5880.075415            995.181229  7376.387963           1352.222299   \n",
       "\n",
       "     amount_2017  clim_rel_amount_2017  amount_2018  clim_rel_amount_2018  \\\n",
       "142  7670.370692           1457.414366  8497.391449           1659.672747   \n",
       "\n",
       "     amount_2019  clim_rel_amount_2019   amount_2020  clim_rel_amount_2020  \\\n",
       "142  9125.561581           2007.334822  10818.981966           2195.044259   \n",
       "\n",
       "      amount_2021  clim_rel_amount_2021   amount_2022  clim_rel_amount_2022  \n",
       "142  11116.566037           2490.046211  12068.758817            2830.26513  "
      ]
     },
     "execution_count": 31,
     "metadata": {},
     "output_type": "execute_result"
    }
   ],
   "source": [
    "globe_df"
   ]
  },
  {
   "cell_type": "code",
   "execution_count": 32,
   "id": "68c5c7f5",
   "metadata": {},
   "outputs": [],
   "source": [
    "years = [col.split('_')[-1] for col in globe_df.columns if col.startswith('amount_')]\n",
    "\n",
    "for year in years:\n",
    "    amount_col = f'amount_{year}'\n",
    "    clim_rel_amount_col = f'clim_rel_amount_{year}'\n",
    "    clim_rel_percent_col = f'clim_rel_percent_{year}'\n",
    "    \n",
    "    # Calculate the clim_rel_percent column for the year\n",
    "    # Note: It's a good practice to handle division by zero or check if 'amount_' is not zero to avoid ZeroDivisionError.\n",
    "    globe_df[clim_rel_percent_col] = (globe_df[clim_rel_amount_col] / globe_df[amount_col]) * 100\n",
    "    \n",
    "    \n",
    "    "
   ]
  },
  {
   "cell_type": "code",
   "execution_count": 33,
   "id": "98caabcb",
   "metadata": {},
   "outputs": [
    {
     "data": {
      "text/html": [
       "<div>\n",
       "<style scoped>\n",
       "    .dataframe tbody tr th:only-of-type {\n",
       "        vertical-align: middle;\n",
       "    }\n",
       "\n",
       "    .dataframe tbody tr th {\n",
       "        vertical-align: top;\n",
       "    }\n",
       "\n",
       "    .dataframe thead th {\n",
       "        text-align: right;\n",
       "    }\n",
       "</style>\n",
       "<table border=\"1\" class=\"dataframe\">\n",
       "  <thead>\n",
       "    <tr style=\"text-align: right;\">\n",
       "      <th></th>\n",
       "      <th>amount_2013</th>\n",
       "      <th>clim_rel_amount_2013</th>\n",
       "      <th>amount_2014</th>\n",
       "      <th>clim_rel_amount_2014</th>\n",
       "      <th>amount_2015</th>\n",
       "      <th>clim_rel_amount_2015</th>\n",
       "      <th>amount_2016</th>\n",
       "      <th>clim_rel_amount_2016</th>\n",
       "      <th>amount_2017</th>\n",
       "      <th>clim_rel_amount_2017</th>\n",
       "      <th>...</th>\n",
       "      <th>clim_rel_percent_2013</th>\n",
       "      <th>clim_rel_percent_2014</th>\n",
       "      <th>clim_rel_percent_2015</th>\n",
       "      <th>clim_rel_percent_2016</th>\n",
       "      <th>clim_rel_percent_2017</th>\n",
       "      <th>clim_rel_percent_2018</th>\n",
       "      <th>clim_rel_percent_2019</th>\n",
       "      <th>clim_rel_percent_2020</th>\n",
       "      <th>clim_rel_percent_2021</th>\n",
       "      <th>clim_rel_percent_2022</th>\n",
       "    </tr>\n",
       "  </thead>\n",
       "  <tbody>\n",
       "    <tr>\n",
       "      <th>142</th>\n",
       "      <td>5627.252576</td>\n",
       "      <td>845.563368</td>\n",
       "      <td>6872.547503</td>\n",
       "      <td>1036.792467</td>\n",
       "      <td>5880.075415</td>\n",
       "      <td>995.181229</td>\n",
       "      <td>7376.387963</td>\n",
       "      <td>1352.222299</td>\n",
       "      <td>7670.370692</td>\n",
       "      <td>1457.414366</td>\n",
       "      <td>...</td>\n",
       "      <td>15.02622</td>\n",
       "      <td>15.085999</td>\n",
       "      <td>16.924634</td>\n",
       "      <td>18.331768</td>\n",
       "      <td>19.000573</td>\n",
       "      <td>19.531556</td>\n",
       "      <td>21.996836</td>\n",
       "      <td>20.288824</td>\n",
       "      <td>22.399419</td>\n",
       "      <td>23.45117</td>\n",
       "    </tr>\n",
       "  </tbody>\n",
       "</table>\n",
       "<p>1 rows × 30 columns</p>\n",
       "</div>"
      ],
      "text/plain": [
       "     amount_2013  clim_rel_amount_2013  amount_2014  clim_rel_amount_2014  \\\n",
       "142  5627.252576            845.563368  6872.547503           1036.792467   \n",
       "\n",
       "     amount_2015  clim_rel_amount_2015  amount_2016  clim_rel_amount_2016  \\\n",
       "142  5880.075415            995.181229  7376.387963           1352.222299   \n",
       "\n",
       "     amount_2017  clim_rel_amount_2017  ...  clim_rel_percent_2013  \\\n",
       "142  7670.370692           1457.414366  ...               15.02622   \n",
       "\n",
       "     clim_rel_percent_2014  clim_rel_percent_2015  clim_rel_percent_2016  \\\n",
       "142              15.085999              16.924634              18.331768   \n",
       "\n",
       "     clim_rel_percent_2017  clim_rel_percent_2018  clim_rel_percent_2019  \\\n",
       "142              19.000573              19.531556              21.996836   \n",
       "\n",
       "     clim_rel_percent_2020  clim_rel_percent_2021  clim_rel_percent_2022  \n",
       "142              20.288824              22.399419               23.45117  \n",
       "\n",
       "[1 rows x 30 columns]"
      ]
     },
     "execution_count": 33,
     "metadata": {},
     "output_type": "execute_result"
    }
   ],
   "source": [
    "globe_df"
   ]
  },
  {
   "cell_type": "code",
   "execution_count": 80,
   "id": "f6813938",
   "metadata": {},
   "outputs": [],
   "source": [
    "for year in years:\n",
    "    amount_col = f'amount_{year}'\n",
    "    clim_rel_amount_col = f'clim_rel_amount_{year}'\n",
    "    non_clim_col = f'non_clim_amount_{year}'\n",
    "    globe_df[non_clim_col] = globe_df[amount_col] - globe_df[clim_rel_amount_col]\n",
    "\n",
    "# Step 2: Melt the dataframe for plotting\n",
    "# Including both climatic and non-climatic amounts\n",
    "melted_df = globe_df.melt(value_vars=[f'clim_rel_amount_{year}' for year in years] + \n",
    "                             [f'non_clim_amount_{year}' for year in years],\n",
    "                             var_name='Type_Year', value_name='Amount')\n",
    "\n",
    "\n",
    "\n",
    "# Split 'Type_Year' into separate 'Year' and 'Type' columns\n",
    "melted_df['Year'] = melted_df['Type_Year'].apply(lambda x: x.split('_')[-1])\n",
    "melted_df['Type'] = melted_df['Type_Year'].apply(lambda x: 'Climate Finance' if 'clim_rel_amount' in x else 'Other Funds')\n",
    "\n",
    "melted_df['Amount'] = melted_df['Amount'] * 1_000_000\n",
    "\n"
   ]
  },
  {
   "cell_type": "code",
   "execution_count": 82,
   "id": "e409dd50",
   "metadata": {},
   "outputs": [],
   "source": [
    "melted_df.to_csv(\"../upload_data/globe_df\")"
   ]
  },
  {
   "cell_type": "code",
   "execution_count": 85,
   "id": "f5c06168",
   "metadata": {},
   "outputs": [
    {
     "data": {
      "application/vnd.plotly.v1+json": {
       "config": {
        "plotlyServerURL": "https://plot.ly"
       },
       "data": [
        {
         "alignmentgroup": "True",
         "hovertemplate": "Type=Other Funds<br>Year=%{x}<br>Financing Amount (Euros)=%{y}<extra></extra>",
         "legendgroup": "Other Funds",
         "marker": {
          "color": "orange",
          "pattern": {
           "shape": ""
          }
         },
         "name": "Other Funds",
         "offsetgroup": "Other Funds",
         "orientation": "v",
         "showlegend": true,
         "textposition": "auto",
         "type": "bar",
         "x": [
          2013,
          2014,
          2015,
          2016,
          2017,
          2018,
          2019,
          2020,
          2021,
          2022
         ],
         "xaxis": "x",
         "y": [
          4781689208.000001,
          5835755035.5,
          4884894186,
          6024165664.499999,
          6212956326,
          6837718702.499998,
          7118226759,
          8623937707.500002,
          8626519826,
          9238493687.500002
         ],
         "yaxis": "y"
        },
        {
         "alignmentgroup": "True",
         "hovertemplate": "Type=Climate Finance<br>Year=%{x}<br>Financing Amount (Euros)=%{y}<extra></extra>",
         "legendgroup": "Climate Finance",
         "marker": {
          "color": "green",
          "pattern": {
           "shape": ""
          }
         },
         "name": "Climate Finance",
         "offsetgroup": "Climate Finance",
         "orientation": "v",
         "showlegend": true,
         "textposition": "auto",
         "type": "bar",
         "x": [
          2013,
          2014,
          2015,
          2016,
          2017,
          2018,
          2019,
          2020,
          2021,
          2022
         ],
         "xaxis": "x",
         "y": [
          845563368.0000001,
          1036792467.5,
          995181229,
          1352222298.5,
          1457414366,
          1659672746.5000002,
          2007334822,
          2195044258.5,
          2490046211.0000005,
          2830265129.5
         ],
         "yaxis": "y"
        }
       ],
       "layout": {
        "barmode": "relative",
        "legend": {
         "title": {
          "text": "Type"
         },
         "tracegroupgap": 0
        },
        "template": {
         "data": {
          "bar": [
           {
            "error_x": {
             "color": "#2a3f5f"
            },
            "error_y": {
             "color": "#2a3f5f"
            },
            "marker": {
             "line": {
              "color": "#E5ECF6",
              "width": 0.5
             },
             "pattern": {
              "fillmode": "overlay",
              "size": 10,
              "solidity": 0.2
             }
            },
            "type": "bar"
           }
          ],
          "barpolar": [
           {
            "marker": {
             "line": {
              "color": "#E5ECF6",
              "width": 0.5
             },
             "pattern": {
              "fillmode": "overlay",
              "size": 10,
              "solidity": 0.2
             }
            },
            "type": "barpolar"
           }
          ],
          "carpet": [
           {
            "aaxis": {
             "endlinecolor": "#2a3f5f",
             "gridcolor": "white",
             "linecolor": "white",
             "minorgridcolor": "white",
             "startlinecolor": "#2a3f5f"
            },
            "baxis": {
             "endlinecolor": "#2a3f5f",
             "gridcolor": "white",
             "linecolor": "white",
             "minorgridcolor": "white",
             "startlinecolor": "#2a3f5f"
            },
            "type": "carpet"
           }
          ],
          "choropleth": [
           {
            "colorbar": {
             "outlinewidth": 0,
             "ticks": ""
            },
            "type": "choropleth"
           }
          ],
          "contour": [
           {
            "colorbar": {
             "outlinewidth": 0,
             "ticks": ""
            },
            "colorscale": [
             [
              0,
              "#0d0887"
             ],
             [
              0.1111111111111111,
              "#46039f"
             ],
             [
              0.2222222222222222,
              "#7201a8"
             ],
             [
              0.3333333333333333,
              "#9c179e"
             ],
             [
              0.4444444444444444,
              "#bd3786"
             ],
             [
              0.5555555555555556,
              "#d8576b"
             ],
             [
              0.6666666666666666,
              "#ed7953"
             ],
             [
              0.7777777777777778,
              "#fb9f3a"
             ],
             [
              0.8888888888888888,
              "#fdca26"
             ],
             [
              1,
              "#f0f921"
             ]
            ],
            "type": "contour"
           }
          ],
          "contourcarpet": [
           {
            "colorbar": {
             "outlinewidth": 0,
             "ticks": ""
            },
            "type": "contourcarpet"
           }
          ],
          "heatmap": [
           {
            "colorbar": {
             "outlinewidth": 0,
             "ticks": ""
            },
            "colorscale": [
             [
              0,
              "#0d0887"
             ],
             [
              0.1111111111111111,
              "#46039f"
             ],
             [
              0.2222222222222222,
              "#7201a8"
             ],
             [
              0.3333333333333333,
              "#9c179e"
             ],
             [
              0.4444444444444444,
              "#bd3786"
             ],
             [
              0.5555555555555556,
              "#d8576b"
             ],
             [
              0.6666666666666666,
              "#ed7953"
             ],
             [
              0.7777777777777778,
              "#fb9f3a"
             ],
             [
              0.8888888888888888,
              "#fdca26"
             ],
             [
              1,
              "#f0f921"
             ]
            ],
            "type": "heatmap"
           }
          ],
          "heatmapgl": [
           {
            "colorbar": {
             "outlinewidth": 0,
             "ticks": ""
            },
            "colorscale": [
             [
              0,
              "#0d0887"
             ],
             [
              0.1111111111111111,
              "#46039f"
             ],
             [
              0.2222222222222222,
              "#7201a8"
             ],
             [
              0.3333333333333333,
              "#9c179e"
             ],
             [
              0.4444444444444444,
              "#bd3786"
             ],
             [
              0.5555555555555556,
              "#d8576b"
             ],
             [
              0.6666666666666666,
              "#ed7953"
             ],
             [
              0.7777777777777778,
              "#fb9f3a"
             ],
             [
              0.8888888888888888,
              "#fdca26"
             ],
             [
              1,
              "#f0f921"
             ]
            ],
            "type": "heatmapgl"
           }
          ],
          "histogram": [
           {
            "marker": {
             "pattern": {
              "fillmode": "overlay",
              "size": 10,
              "solidity": 0.2
             }
            },
            "type": "histogram"
           }
          ],
          "histogram2d": [
           {
            "colorbar": {
             "outlinewidth": 0,
             "ticks": ""
            },
            "colorscale": [
             [
              0,
              "#0d0887"
             ],
             [
              0.1111111111111111,
              "#46039f"
             ],
             [
              0.2222222222222222,
              "#7201a8"
             ],
             [
              0.3333333333333333,
              "#9c179e"
             ],
             [
              0.4444444444444444,
              "#bd3786"
             ],
             [
              0.5555555555555556,
              "#d8576b"
             ],
             [
              0.6666666666666666,
              "#ed7953"
             ],
             [
              0.7777777777777778,
              "#fb9f3a"
             ],
             [
              0.8888888888888888,
              "#fdca26"
             ],
             [
              1,
              "#f0f921"
             ]
            ],
            "type": "histogram2d"
           }
          ],
          "histogram2dcontour": [
           {
            "colorbar": {
             "outlinewidth": 0,
             "ticks": ""
            },
            "colorscale": [
             [
              0,
              "#0d0887"
             ],
             [
              0.1111111111111111,
              "#46039f"
             ],
             [
              0.2222222222222222,
              "#7201a8"
             ],
             [
              0.3333333333333333,
              "#9c179e"
             ],
             [
              0.4444444444444444,
              "#bd3786"
             ],
             [
              0.5555555555555556,
              "#d8576b"
             ],
             [
              0.6666666666666666,
              "#ed7953"
             ],
             [
              0.7777777777777778,
              "#fb9f3a"
             ],
             [
              0.8888888888888888,
              "#fdca26"
             ],
             [
              1,
              "#f0f921"
             ]
            ],
            "type": "histogram2dcontour"
           }
          ],
          "mesh3d": [
           {
            "colorbar": {
             "outlinewidth": 0,
             "ticks": ""
            },
            "type": "mesh3d"
           }
          ],
          "parcoords": [
           {
            "line": {
             "colorbar": {
              "outlinewidth": 0,
              "ticks": ""
             }
            },
            "type": "parcoords"
           }
          ],
          "pie": [
           {
            "automargin": true,
            "type": "pie"
           }
          ],
          "scatter": [
           {
            "fillpattern": {
             "fillmode": "overlay",
             "size": 10,
             "solidity": 0.2
            },
            "type": "scatter"
           }
          ],
          "scatter3d": [
           {
            "line": {
             "colorbar": {
              "outlinewidth": 0,
              "ticks": ""
             }
            },
            "marker": {
             "colorbar": {
              "outlinewidth": 0,
              "ticks": ""
             }
            },
            "type": "scatter3d"
           }
          ],
          "scattercarpet": [
           {
            "marker": {
             "colorbar": {
              "outlinewidth": 0,
              "ticks": ""
             }
            },
            "type": "scattercarpet"
           }
          ],
          "scattergeo": [
           {
            "marker": {
             "colorbar": {
              "outlinewidth": 0,
              "ticks": ""
             }
            },
            "type": "scattergeo"
           }
          ],
          "scattergl": [
           {
            "marker": {
             "colorbar": {
              "outlinewidth": 0,
              "ticks": ""
             }
            },
            "type": "scattergl"
           }
          ],
          "scattermapbox": [
           {
            "marker": {
             "colorbar": {
              "outlinewidth": 0,
              "ticks": ""
             }
            },
            "type": "scattermapbox"
           }
          ],
          "scatterpolar": [
           {
            "marker": {
             "colorbar": {
              "outlinewidth": 0,
              "ticks": ""
             }
            },
            "type": "scatterpolar"
           }
          ],
          "scatterpolargl": [
           {
            "marker": {
             "colorbar": {
              "outlinewidth": 0,
              "ticks": ""
             }
            },
            "type": "scatterpolargl"
           }
          ],
          "scatterternary": [
           {
            "marker": {
             "colorbar": {
              "outlinewidth": 0,
              "ticks": ""
             }
            },
            "type": "scatterternary"
           }
          ],
          "surface": [
           {
            "colorbar": {
             "outlinewidth": 0,
             "ticks": ""
            },
            "colorscale": [
             [
              0,
              "#0d0887"
             ],
             [
              0.1111111111111111,
              "#46039f"
             ],
             [
              0.2222222222222222,
              "#7201a8"
             ],
             [
              0.3333333333333333,
              "#9c179e"
             ],
             [
              0.4444444444444444,
              "#bd3786"
             ],
             [
              0.5555555555555556,
              "#d8576b"
             ],
             [
              0.6666666666666666,
              "#ed7953"
             ],
             [
              0.7777777777777778,
              "#fb9f3a"
             ],
             [
              0.8888888888888888,
              "#fdca26"
             ],
             [
              1,
              "#f0f921"
             ]
            ],
            "type": "surface"
           }
          ],
          "table": [
           {
            "cells": {
             "fill": {
              "color": "#EBF0F8"
             },
             "line": {
              "color": "white"
             }
            },
            "header": {
             "fill": {
              "color": "#C8D4E3"
             },
             "line": {
              "color": "white"
             }
            },
            "type": "table"
           }
          ]
         },
         "layout": {
          "annotationdefaults": {
           "arrowcolor": "#2a3f5f",
           "arrowhead": 0,
           "arrowwidth": 1
          },
          "autotypenumbers": "strict",
          "coloraxis": {
           "colorbar": {
            "outlinewidth": 0,
            "ticks": ""
           }
          },
          "colorscale": {
           "diverging": [
            [
             0,
             "#8e0152"
            ],
            [
             0.1,
             "#c51b7d"
            ],
            [
             0.2,
             "#de77ae"
            ],
            [
             0.3,
             "#f1b6da"
            ],
            [
             0.4,
             "#fde0ef"
            ],
            [
             0.5,
             "#f7f7f7"
            ],
            [
             0.6,
             "#e6f5d0"
            ],
            [
             0.7,
             "#b8e186"
            ],
            [
             0.8,
             "#7fbc41"
            ],
            [
             0.9,
             "#4d9221"
            ],
            [
             1,
             "#276419"
            ]
           ],
           "sequential": [
            [
             0,
             "#0d0887"
            ],
            [
             0.1111111111111111,
             "#46039f"
            ],
            [
             0.2222222222222222,
             "#7201a8"
            ],
            [
             0.3333333333333333,
             "#9c179e"
            ],
            [
             0.4444444444444444,
             "#bd3786"
            ],
            [
             0.5555555555555556,
             "#d8576b"
            ],
            [
             0.6666666666666666,
             "#ed7953"
            ],
            [
             0.7777777777777778,
             "#fb9f3a"
            ],
            [
             0.8888888888888888,
             "#fdca26"
            ],
            [
             1,
             "#f0f921"
            ]
           ],
           "sequentialminus": [
            [
             0,
             "#0d0887"
            ],
            [
             0.1111111111111111,
             "#46039f"
            ],
            [
             0.2222222222222222,
             "#7201a8"
            ],
            [
             0.3333333333333333,
             "#9c179e"
            ],
            [
             0.4444444444444444,
             "#bd3786"
            ],
            [
             0.5555555555555556,
             "#d8576b"
            ],
            [
             0.6666666666666666,
             "#ed7953"
            ],
            [
             0.7777777777777778,
             "#fb9f3a"
            ],
            [
             0.8888888888888888,
             "#fdca26"
            ],
            [
             1,
             "#f0f921"
            ]
           ]
          },
          "colorway": [
           "#636efa",
           "#EF553B",
           "#00cc96",
           "#ab63fa",
           "#FFA15A",
           "#19d3f3",
           "#FF6692",
           "#B6E880",
           "#FF97FF",
           "#FECB52"
          ],
          "font": {
           "color": "#2a3f5f"
          },
          "geo": {
           "bgcolor": "white",
           "lakecolor": "white",
           "landcolor": "#E5ECF6",
           "showlakes": true,
           "showland": true,
           "subunitcolor": "white"
          },
          "hoverlabel": {
           "align": "left"
          },
          "hovermode": "closest",
          "mapbox": {
           "style": "light"
          },
          "paper_bgcolor": "white",
          "plot_bgcolor": "#E5ECF6",
          "polar": {
           "angularaxis": {
            "gridcolor": "white",
            "linecolor": "white",
            "ticks": ""
           },
           "bgcolor": "#E5ECF6",
           "radialaxis": {
            "gridcolor": "white",
            "linecolor": "white",
            "ticks": ""
           }
          },
          "scene": {
           "xaxis": {
            "backgroundcolor": "#E5ECF6",
            "gridcolor": "white",
            "gridwidth": 2,
            "linecolor": "white",
            "showbackground": true,
            "ticks": "",
            "zerolinecolor": "white"
           },
           "yaxis": {
            "backgroundcolor": "#E5ECF6",
            "gridcolor": "white",
            "gridwidth": 2,
            "linecolor": "white",
            "showbackground": true,
            "ticks": "",
            "zerolinecolor": "white"
           },
           "zaxis": {
            "backgroundcolor": "#E5ECF6",
            "gridcolor": "white",
            "gridwidth": 2,
            "linecolor": "white",
            "showbackground": true,
            "ticks": "",
            "zerolinecolor": "white"
           }
          },
          "shapedefaults": {
           "line": {
            "color": "#2a3f5f"
           }
          },
          "ternary": {
           "aaxis": {
            "gridcolor": "white",
            "linecolor": "white",
            "ticks": ""
           },
           "baxis": {
            "gridcolor": "white",
            "linecolor": "white",
            "ticks": ""
           },
           "bgcolor": "#E5ECF6",
           "caxis": {
            "gridcolor": "white",
            "linecolor": "white",
            "ticks": ""
           }
          },
          "title": {
           "x": 0.05
          },
          "xaxis": {
           "automargin": true,
           "gridcolor": "white",
           "linecolor": "white",
           "ticks": "",
           "title": {
            "standoff": 15
           },
           "zerolinecolor": "white",
           "zerolinewidth": 2
          },
          "yaxis": {
           "automargin": true,
           "gridcolor": "white",
           "linecolor": "white",
           "ticks": "",
           "title": {
            "standoff": 15
           },
           "zerolinecolor": "white",
           "zerolinewidth": 2
          }
         }
        },
        "title": {
         "text": "Global Financing Totals",
         "x": 0.5
        },
        "xaxis": {
         "anchor": "y",
         "domain": [
          0,
          1
         ],
         "title": {
          "text": "Year"
         }
        },
        "yaxis": {
         "anchor": "x",
         "domain": [
          0,
          1
         ],
         "title": {
          "text": "Financing Amount (Euros)"
         }
        }
       }
      },
      "text/html": [
       "<div>                            <div id=\"019535ab-300d-42a9-ada7-1ba8aa34cc43\" class=\"plotly-graph-div\" style=\"height:525px; width:100%;\"></div>            <script type=\"text/javascript\">                require([\"plotly\"], function(Plotly) {                    window.PLOTLYENV=window.PLOTLYENV || {};                                    if (document.getElementById(\"019535ab-300d-42a9-ada7-1ba8aa34cc43\")) {                    Plotly.newPlot(                        \"019535ab-300d-42a9-ada7-1ba8aa34cc43\",                        [{\"alignmentgroup\":\"True\",\"hovertemplate\":\"Type=Other Funds<br>Year=%{x}<br>Financing Amount (Euros)=%{y}<extra></extra>\",\"legendgroup\":\"Other Funds\",\"marker\":{\"color\":\"orange\",\"pattern\":{\"shape\":\"\"}},\"name\":\"Other Funds\",\"offsetgroup\":\"Other Funds\",\"orientation\":\"v\",\"showlegend\":true,\"textposition\":\"auto\",\"x\":[2013,2014,2015,2016,2017,2018,2019,2020,2021,2022],\"xaxis\":\"x\",\"y\":[4781689208.000001,5835755035.5,4884894186.0,6024165664.499999,6212956326.0,6837718702.499998,7118226759.0,8623937707.500002,8626519826.0,9238493687.500002],\"yaxis\":\"y\",\"type\":\"bar\"},{\"alignmentgroup\":\"True\",\"hovertemplate\":\"Type=Climate Finance<br>Year=%{x}<br>Financing Amount (Euros)=%{y}<extra></extra>\",\"legendgroup\":\"Climate Finance\",\"marker\":{\"color\":\"green\",\"pattern\":{\"shape\":\"\"}},\"name\":\"Climate Finance\",\"offsetgroup\":\"Climate Finance\",\"orientation\":\"v\",\"showlegend\":true,\"textposition\":\"auto\",\"x\":[2013,2014,2015,2016,2017,2018,2019,2020,2021,2022],\"xaxis\":\"x\",\"y\":[845563368.0000001,1036792467.5,995181229.0,1352222298.5,1457414366.0,1659672746.5000002,2007334822.0,2195044258.5,2490046211.0000005,2830265129.5],\"yaxis\":\"y\",\"type\":\"bar\"}],                        {\"template\":{\"data\":{\"histogram2dcontour\":[{\"type\":\"histogram2dcontour\",\"colorbar\":{\"outlinewidth\":0,\"ticks\":\"\"},\"colorscale\":[[0.0,\"#0d0887\"],[0.1111111111111111,\"#46039f\"],[0.2222222222222222,\"#7201a8\"],[0.3333333333333333,\"#9c179e\"],[0.4444444444444444,\"#bd3786\"],[0.5555555555555556,\"#d8576b\"],[0.6666666666666666,\"#ed7953\"],[0.7777777777777778,\"#fb9f3a\"],[0.8888888888888888,\"#fdca26\"],[1.0,\"#f0f921\"]]}],\"choropleth\":[{\"type\":\"choropleth\",\"colorbar\":{\"outlinewidth\":0,\"ticks\":\"\"}}],\"histogram2d\":[{\"type\":\"histogram2d\",\"colorbar\":{\"outlinewidth\":0,\"ticks\":\"\"},\"colorscale\":[[0.0,\"#0d0887\"],[0.1111111111111111,\"#46039f\"],[0.2222222222222222,\"#7201a8\"],[0.3333333333333333,\"#9c179e\"],[0.4444444444444444,\"#bd3786\"],[0.5555555555555556,\"#d8576b\"],[0.6666666666666666,\"#ed7953\"],[0.7777777777777778,\"#fb9f3a\"],[0.8888888888888888,\"#fdca26\"],[1.0,\"#f0f921\"]]}],\"heatmap\":[{\"type\":\"heatmap\",\"colorbar\":{\"outlinewidth\":0,\"ticks\":\"\"},\"colorscale\":[[0.0,\"#0d0887\"],[0.1111111111111111,\"#46039f\"],[0.2222222222222222,\"#7201a8\"],[0.3333333333333333,\"#9c179e\"],[0.4444444444444444,\"#bd3786\"],[0.5555555555555556,\"#d8576b\"],[0.6666666666666666,\"#ed7953\"],[0.7777777777777778,\"#fb9f3a\"],[0.8888888888888888,\"#fdca26\"],[1.0,\"#f0f921\"]]}],\"heatmapgl\":[{\"type\":\"heatmapgl\",\"colorbar\":{\"outlinewidth\":0,\"ticks\":\"\"},\"colorscale\":[[0.0,\"#0d0887\"],[0.1111111111111111,\"#46039f\"],[0.2222222222222222,\"#7201a8\"],[0.3333333333333333,\"#9c179e\"],[0.4444444444444444,\"#bd3786\"],[0.5555555555555556,\"#d8576b\"],[0.6666666666666666,\"#ed7953\"],[0.7777777777777778,\"#fb9f3a\"],[0.8888888888888888,\"#fdca26\"],[1.0,\"#f0f921\"]]}],\"contourcarpet\":[{\"type\":\"contourcarpet\",\"colorbar\":{\"outlinewidth\":0,\"ticks\":\"\"}}],\"contour\":[{\"type\":\"contour\",\"colorbar\":{\"outlinewidth\":0,\"ticks\":\"\"},\"colorscale\":[[0.0,\"#0d0887\"],[0.1111111111111111,\"#46039f\"],[0.2222222222222222,\"#7201a8\"],[0.3333333333333333,\"#9c179e\"],[0.4444444444444444,\"#bd3786\"],[0.5555555555555556,\"#d8576b\"],[0.6666666666666666,\"#ed7953\"],[0.7777777777777778,\"#fb9f3a\"],[0.8888888888888888,\"#fdca26\"],[1.0,\"#f0f921\"]]}],\"surface\":[{\"type\":\"surface\",\"colorbar\":{\"outlinewidth\":0,\"ticks\":\"\"},\"colorscale\":[[0.0,\"#0d0887\"],[0.1111111111111111,\"#46039f\"],[0.2222222222222222,\"#7201a8\"],[0.3333333333333333,\"#9c179e\"],[0.4444444444444444,\"#bd3786\"],[0.5555555555555556,\"#d8576b\"],[0.6666666666666666,\"#ed7953\"],[0.7777777777777778,\"#fb9f3a\"],[0.8888888888888888,\"#fdca26\"],[1.0,\"#f0f921\"]]}],\"mesh3d\":[{\"type\":\"mesh3d\",\"colorbar\":{\"outlinewidth\":0,\"ticks\":\"\"}}],\"scatter\":[{\"fillpattern\":{\"fillmode\":\"overlay\",\"size\":10,\"solidity\":0.2},\"type\":\"scatter\"}],\"parcoords\":[{\"type\":\"parcoords\",\"line\":{\"colorbar\":{\"outlinewidth\":0,\"ticks\":\"\"}}}],\"scatterpolargl\":[{\"type\":\"scatterpolargl\",\"marker\":{\"colorbar\":{\"outlinewidth\":0,\"ticks\":\"\"}}}],\"bar\":[{\"error_x\":{\"color\":\"#2a3f5f\"},\"error_y\":{\"color\":\"#2a3f5f\"},\"marker\":{\"line\":{\"color\":\"#E5ECF6\",\"width\":0.5},\"pattern\":{\"fillmode\":\"overlay\",\"size\":10,\"solidity\":0.2}},\"type\":\"bar\"}],\"scattergeo\":[{\"type\":\"scattergeo\",\"marker\":{\"colorbar\":{\"outlinewidth\":0,\"ticks\":\"\"}}}],\"scatterpolar\":[{\"type\":\"scatterpolar\",\"marker\":{\"colorbar\":{\"outlinewidth\":0,\"ticks\":\"\"}}}],\"histogram\":[{\"marker\":{\"pattern\":{\"fillmode\":\"overlay\",\"size\":10,\"solidity\":0.2}},\"type\":\"histogram\"}],\"scattergl\":[{\"type\":\"scattergl\",\"marker\":{\"colorbar\":{\"outlinewidth\":0,\"ticks\":\"\"}}}],\"scatter3d\":[{\"type\":\"scatter3d\",\"line\":{\"colorbar\":{\"outlinewidth\":0,\"ticks\":\"\"}},\"marker\":{\"colorbar\":{\"outlinewidth\":0,\"ticks\":\"\"}}}],\"scattermapbox\":[{\"type\":\"scattermapbox\",\"marker\":{\"colorbar\":{\"outlinewidth\":0,\"ticks\":\"\"}}}],\"scatterternary\":[{\"type\":\"scatterternary\",\"marker\":{\"colorbar\":{\"outlinewidth\":0,\"ticks\":\"\"}}}],\"scattercarpet\":[{\"type\":\"scattercarpet\",\"marker\":{\"colorbar\":{\"outlinewidth\":0,\"ticks\":\"\"}}}],\"carpet\":[{\"aaxis\":{\"endlinecolor\":\"#2a3f5f\",\"gridcolor\":\"white\",\"linecolor\":\"white\",\"minorgridcolor\":\"white\",\"startlinecolor\":\"#2a3f5f\"},\"baxis\":{\"endlinecolor\":\"#2a3f5f\",\"gridcolor\":\"white\",\"linecolor\":\"white\",\"minorgridcolor\":\"white\",\"startlinecolor\":\"#2a3f5f\"},\"type\":\"carpet\"}],\"table\":[{\"cells\":{\"fill\":{\"color\":\"#EBF0F8\"},\"line\":{\"color\":\"white\"}},\"header\":{\"fill\":{\"color\":\"#C8D4E3\"},\"line\":{\"color\":\"white\"}},\"type\":\"table\"}],\"barpolar\":[{\"marker\":{\"line\":{\"color\":\"#E5ECF6\",\"width\":0.5},\"pattern\":{\"fillmode\":\"overlay\",\"size\":10,\"solidity\":0.2}},\"type\":\"barpolar\"}],\"pie\":[{\"automargin\":true,\"type\":\"pie\"}]},\"layout\":{\"autotypenumbers\":\"strict\",\"colorway\":[\"#636efa\",\"#EF553B\",\"#00cc96\",\"#ab63fa\",\"#FFA15A\",\"#19d3f3\",\"#FF6692\",\"#B6E880\",\"#FF97FF\",\"#FECB52\"],\"font\":{\"color\":\"#2a3f5f\"},\"hovermode\":\"closest\",\"hoverlabel\":{\"align\":\"left\"},\"paper_bgcolor\":\"white\",\"plot_bgcolor\":\"#E5ECF6\",\"polar\":{\"bgcolor\":\"#E5ECF6\",\"angularaxis\":{\"gridcolor\":\"white\",\"linecolor\":\"white\",\"ticks\":\"\"},\"radialaxis\":{\"gridcolor\":\"white\",\"linecolor\":\"white\",\"ticks\":\"\"}},\"ternary\":{\"bgcolor\":\"#E5ECF6\",\"aaxis\":{\"gridcolor\":\"white\",\"linecolor\":\"white\",\"ticks\":\"\"},\"baxis\":{\"gridcolor\":\"white\",\"linecolor\":\"white\",\"ticks\":\"\"},\"caxis\":{\"gridcolor\":\"white\",\"linecolor\":\"white\",\"ticks\":\"\"}},\"coloraxis\":{\"colorbar\":{\"outlinewidth\":0,\"ticks\":\"\"}},\"colorscale\":{\"sequential\":[[0.0,\"#0d0887\"],[0.1111111111111111,\"#46039f\"],[0.2222222222222222,\"#7201a8\"],[0.3333333333333333,\"#9c179e\"],[0.4444444444444444,\"#bd3786\"],[0.5555555555555556,\"#d8576b\"],[0.6666666666666666,\"#ed7953\"],[0.7777777777777778,\"#fb9f3a\"],[0.8888888888888888,\"#fdca26\"],[1.0,\"#f0f921\"]],\"sequentialminus\":[[0.0,\"#0d0887\"],[0.1111111111111111,\"#46039f\"],[0.2222222222222222,\"#7201a8\"],[0.3333333333333333,\"#9c179e\"],[0.4444444444444444,\"#bd3786\"],[0.5555555555555556,\"#d8576b\"],[0.6666666666666666,\"#ed7953\"],[0.7777777777777778,\"#fb9f3a\"],[0.8888888888888888,\"#fdca26\"],[1.0,\"#f0f921\"]],\"diverging\":[[0,\"#8e0152\"],[0.1,\"#c51b7d\"],[0.2,\"#de77ae\"],[0.3,\"#f1b6da\"],[0.4,\"#fde0ef\"],[0.5,\"#f7f7f7\"],[0.6,\"#e6f5d0\"],[0.7,\"#b8e186\"],[0.8,\"#7fbc41\"],[0.9,\"#4d9221\"],[1,\"#276419\"]]},\"xaxis\":{\"gridcolor\":\"white\",\"linecolor\":\"white\",\"ticks\":\"\",\"title\":{\"standoff\":15},\"zerolinecolor\":\"white\",\"automargin\":true,\"zerolinewidth\":2},\"yaxis\":{\"gridcolor\":\"white\",\"linecolor\":\"white\",\"ticks\":\"\",\"title\":{\"standoff\":15},\"zerolinecolor\":\"white\",\"automargin\":true,\"zerolinewidth\":2},\"scene\":{\"xaxis\":{\"backgroundcolor\":\"#E5ECF6\",\"gridcolor\":\"white\",\"linecolor\":\"white\",\"showbackground\":true,\"ticks\":\"\",\"zerolinecolor\":\"white\",\"gridwidth\":2},\"yaxis\":{\"backgroundcolor\":\"#E5ECF6\",\"gridcolor\":\"white\",\"linecolor\":\"white\",\"showbackground\":true,\"ticks\":\"\",\"zerolinecolor\":\"white\",\"gridwidth\":2},\"zaxis\":{\"backgroundcolor\":\"#E5ECF6\",\"gridcolor\":\"white\",\"linecolor\":\"white\",\"showbackground\":true,\"ticks\":\"\",\"zerolinecolor\":\"white\",\"gridwidth\":2}},\"shapedefaults\":{\"line\":{\"color\":\"#2a3f5f\"}},\"annotationdefaults\":{\"arrowcolor\":\"#2a3f5f\",\"arrowhead\":0,\"arrowwidth\":1},\"geo\":{\"bgcolor\":\"white\",\"landcolor\":\"#E5ECF6\",\"subunitcolor\":\"white\",\"showland\":true,\"showlakes\":true,\"lakecolor\":\"white\"},\"title\":{\"x\":0.05},\"mapbox\":{\"style\":\"light\"}}},\"xaxis\":{\"anchor\":\"y\",\"domain\":[0.0,1.0],\"title\":{\"text\":\"Year\"}},\"yaxis\":{\"anchor\":\"x\",\"domain\":[0.0,1.0],\"title\":{\"text\":\"Financing Amount (Euros)\"}},\"legend\":{\"title\":{\"text\":\"Type\"},\"tracegroupgap\":0},\"title\":{\"text\":\"Global Financing Totals\",\"x\":0.5},\"barmode\":\"relative\"},                        {\"responsive\": true}                    ).then(function(){\n",
       "                            \n",
       "var gd = document.getElementById('019535ab-300d-42a9-ada7-1ba8aa34cc43');\n",
       "var x = new MutationObserver(function (mutations, observer) {{\n",
       "        var display = window.getComputedStyle(gd).display;\n",
       "        if (!display || display === 'none') {{\n",
       "            console.log([gd, 'removed!']);\n",
       "            Plotly.purge(gd);\n",
       "            observer.disconnect();\n",
       "        }}\n",
       "}});\n",
       "\n",
       "// Listen for the removal of the full notebook cells\n",
       "var notebookContainer = gd.closest('#notebook-container');\n",
       "if (notebookContainer) {{\n",
       "    x.observe(notebookContainer, {childList: true});\n",
       "}}\n",
       "\n",
       "// Listen for the clearing of the current output cell\n",
       "var outputEl = gd.closest('.output');\n",
       "if (outputEl) {{\n",
       "    x.observe(outputEl, {childList: true});\n",
       "}}\n",
       "\n",
       "                        })                };                });            </script>        </div>"
      ]
     },
     "metadata": {},
     "output_type": "display_data"
    }
   ],
   "source": [
    "# Step 3: Plotting\n",
    "read_df = pd.read_csv('../upload_data/globe_df')\n",
    "\n",
    "fig = px.bar(read_df, x='Year', y='Amount', color='Type',\n",
    "            title='Global Financing Totals',\n",
    "            labels={'Amount': 'Financing Amount (Euros)', 'Year': 'Year'},\n",
    "            category_orders={'Type': ['Other Funds','Climate Finance']},\n",
    "            color_discrete_map={'Other Funds': 'orange', 'Climate Finance': 'green'})# This ensures consistent color ordering\n",
    "\n",
    "fig.update_layout(title_x=0.5)\n",
    "\n",
    "fig.show()"
   ]
  },
  {
   "cell_type": "code",
   "execution_count": 44,
   "id": "9e3754d6",
   "metadata": {},
   "outputs": [
    {
     "ename": "KeyError",
     "evalue": "\"['Clim_Rel_Amount'] not in index\"",
     "output_type": "error",
     "traceback": [
      "\u001b[0;31m---------------------------------------------------------------------------\u001b[0m",
      "\u001b[0;31mKeyError\u001b[0m                                  Traceback (most recent call last)",
      "Cell \u001b[0;32mIn [44], line 14\u001b[0m\n\u001b[1;32m      9\u001b[0m amount_melted[\u001b[38;5;124m'\u001b[39m\u001b[38;5;124mNon_Clim_Rel_Amount\u001b[39m\u001b[38;5;124m'\u001b[39m] \u001b[38;5;241m=\u001b[39m amount_melted[\u001b[38;5;124m'\u001b[39m\u001b[38;5;124mTotal Amount\u001b[39m\u001b[38;5;124m'\u001b[39m] \u001b[38;5;241m-\u001b[39m clim_rel_amount_melted[\u001b[38;5;124m'\u001b[39m\u001b[38;5;124mClim_Rel_Amount\u001b[39m\u001b[38;5;124m'\u001b[39m]\n\u001b[1;32m     11\u001b[0m \u001b[38;5;66;03m# Combine the melted dataframes for plotting\u001b[39;00m\n\u001b[1;32m     12\u001b[0m \u001b[38;5;66;03m# This involves a bit of reshaping and aggregation to get both segments (climatic and non-climatic) under a single column for stacking\u001b[39;00m\n\u001b[1;32m     13\u001b[0m stacked_data \u001b[38;5;241m=\u001b[39m pd\u001b[38;5;241m.\u001b[39mconcat([\n\u001b[0;32m---> 14\u001b[0m     amount_melted[[\u001b[38;5;124m'\u001b[39m\u001b[38;5;124mYear\u001b[39m\u001b[38;5;124m'\u001b[39m, \u001b[38;5;124m'\u001b[39m\u001b[38;5;124mClim_Rel_Amount\u001b[39m\u001b[38;5;124m'\u001b[39m]]\u001b[38;5;241m.\u001b[39massign(Type\u001b[38;5;241m=\u001b[39m\u001b[38;5;124m'\u001b[39m\u001b[38;5;124mClimatic\u001b[39m\u001b[38;5;124m'\u001b[39m),\n\u001b[1;32m     15\u001b[0m     amount_melted[[\u001b[38;5;124m'\u001b[39m\u001b[38;5;124mYear\u001b[39m\u001b[38;5;124m'\u001b[39m, \u001b[38;5;124m'\u001b[39m\u001b[38;5;124mNon_Clim_Rel_Amount\u001b[39m\u001b[38;5;124m'\u001b[39m]]\u001b[38;5;241m.\u001b[39massign(Type\u001b[38;5;241m=\u001b[39m\u001b[38;5;124m'\u001b[39m\u001b[38;5;124mNon-Climatic\u001b[39m\u001b[38;5;124m'\u001b[39m)\n\u001b[1;32m     16\u001b[0m ])\n",
      "File \u001b[0;32m~/.pyenv/versions/3.10.6/envs/lewagon/lib/python3.10/site-packages/pandas/core/frame.py:3511\u001b[0m, in \u001b[0;36mDataFrame.__getitem__\u001b[0;34m(self, key)\u001b[0m\n\u001b[1;32m   3509\u001b[0m     \u001b[38;5;28;01mif\u001b[39;00m is_iterator(key):\n\u001b[1;32m   3510\u001b[0m         key \u001b[38;5;241m=\u001b[39m \u001b[38;5;28mlist\u001b[39m(key)\n\u001b[0;32m-> 3511\u001b[0m     indexer \u001b[38;5;241m=\u001b[39m \u001b[38;5;28;43mself\u001b[39;49m\u001b[38;5;241;43m.\u001b[39;49m\u001b[43mcolumns\u001b[49m\u001b[38;5;241;43m.\u001b[39;49m\u001b[43m_get_indexer_strict\u001b[49m\u001b[43m(\u001b[49m\u001b[43mkey\u001b[49m\u001b[43m,\u001b[49m\u001b[43m \u001b[49m\u001b[38;5;124;43m\"\u001b[39;49m\u001b[38;5;124;43mcolumns\u001b[39;49m\u001b[38;5;124;43m\"\u001b[39;49m\u001b[43m)\u001b[49m[\u001b[38;5;241m1\u001b[39m]\n\u001b[1;32m   3513\u001b[0m \u001b[38;5;66;03m# take() does not accept boolean indexers\u001b[39;00m\n\u001b[1;32m   3514\u001b[0m \u001b[38;5;28;01mif\u001b[39;00m \u001b[38;5;28mgetattr\u001b[39m(indexer, \u001b[38;5;124m\"\u001b[39m\u001b[38;5;124mdtype\u001b[39m\u001b[38;5;124m\"\u001b[39m, \u001b[38;5;28;01mNone\u001b[39;00m) \u001b[38;5;241m==\u001b[39m \u001b[38;5;28mbool\u001b[39m:\n",
      "File \u001b[0;32m~/.pyenv/versions/3.10.6/envs/lewagon/lib/python3.10/site-packages/pandas/core/indexes/base.py:5796\u001b[0m, in \u001b[0;36mIndex._get_indexer_strict\u001b[0;34m(self, key, axis_name)\u001b[0m\n\u001b[1;32m   5793\u001b[0m \u001b[38;5;28;01melse\u001b[39;00m:\n\u001b[1;32m   5794\u001b[0m     keyarr, indexer, new_indexer \u001b[38;5;241m=\u001b[39m \u001b[38;5;28mself\u001b[39m\u001b[38;5;241m.\u001b[39m_reindex_non_unique(keyarr)\n\u001b[0;32m-> 5796\u001b[0m \u001b[38;5;28;43mself\u001b[39;49m\u001b[38;5;241;43m.\u001b[39;49m\u001b[43m_raise_if_missing\u001b[49m\u001b[43m(\u001b[49m\u001b[43mkeyarr\u001b[49m\u001b[43m,\u001b[49m\u001b[43m \u001b[49m\u001b[43mindexer\u001b[49m\u001b[43m,\u001b[49m\u001b[43m \u001b[49m\u001b[43maxis_name\u001b[49m\u001b[43m)\u001b[49m\n\u001b[1;32m   5798\u001b[0m keyarr \u001b[38;5;241m=\u001b[39m \u001b[38;5;28mself\u001b[39m\u001b[38;5;241m.\u001b[39mtake(indexer)\n\u001b[1;32m   5799\u001b[0m \u001b[38;5;28;01mif\u001b[39;00m \u001b[38;5;28misinstance\u001b[39m(key, Index):\n\u001b[1;32m   5800\u001b[0m     \u001b[38;5;66;03m# GH 42790 - Preserve name from an Index\u001b[39;00m\n",
      "File \u001b[0;32m~/.pyenv/versions/3.10.6/envs/lewagon/lib/python3.10/site-packages/pandas/core/indexes/base.py:5859\u001b[0m, in \u001b[0;36mIndex._raise_if_missing\u001b[0;34m(self, key, indexer, axis_name)\u001b[0m\n\u001b[1;32m   5856\u001b[0m     \u001b[38;5;28;01mraise\u001b[39;00m \u001b[38;5;167;01mKeyError\u001b[39;00m(\u001b[38;5;124mf\u001b[39m\u001b[38;5;124m\"\u001b[39m\u001b[38;5;124mNone of [\u001b[39m\u001b[38;5;132;01m{\u001b[39;00mkey\u001b[38;5;132;01m}\u001b[39;00m\u001b[38;5;124m] are in the [\u001b[39m\u001b[38;5;132;01m{\u001b[39;00maxis_name\u001b[38;5;132;01m}\u001b[39;00m\u001b[38;5;124m]\u001b[39m\u001b[38;5;124m\"\u001b[39m)\n\u001b[1;32m   5858\u001b[0m not_found \u001b[38;5;241m=\u001b[39m \u001b[38;5;28mlist\u001b[39m(ensure_index(key)[missing_mask\u001b[38;5;241m.\u001b[39mnonzero()[\u001b[38;5;241m0\u001b[39m]]\u001b[38;5;241m.\u001b[39munique())\n\u001b[0;32m-> 5859\u001b[0m \u001b[38;5;28;01mraise\u001b[39;00m \u001b[38;5;167;01mKeyError\u001b[39;00m(\u001b[38;5;124mf\u001b[39m\u001b[38;5;124m\"\u001b[39m\u001b[38;5;132;01m{\u001b[39;00mnot_found\u001b[38;5;132;01m}\u001b[39;00m\u001b[38;5;124m not in index\u001b[39m\u001b[38;5;124m\"\u001b[39m)\n",
      "\u001b[0;31mKeyError\u001b[0m: \"['Clim_Rel_Amount'] not in index\""
     ]
    }
   ],
   "source": [
    "amount_melted = globe_df.melt(value_vars=[f'amount_{year}' for year in years], var_name='Year', value_name='Total Amount')\n",
    "clim_rel_amount_melted = globe_df.melt(value_vars=[f'clim_rel_amount_{year}' for year in years], var_name='Year', value_name='Clim_Rel_Amount')\n",
    "\n",
    "# Adjust the 'Year' columns to contain only the year part\n",
    "amount_melted['Year'] = amount_melted['Year'].str.split('_').str[-1]\n",
    "clim_rel_amount_melted['Year'] = clim_rel_amount_melted['Year'].str.split('_').str[-1]\n",
    "\n",
    "# Calculate the non-climatic relative amount as a difference and prepare for stacking\n",
    "amount_melted['Non_Clim_Rel_Amount'] = amount_melted['Total Amount'] - clim_rel_amount_melted['Clim_Rel_Amount']\n",
    "\n",
    "# Combine the melted dataframes for plotting\n",
    "# This involves a bit of reshaping and aggregation to get both segments (climatic and non-climatic) under a single column for stacking\n",
    "stacked_data = pd.concat([\n",
    "    amount_melted[['Year', 'Clim_Rel_Amount']].assign(Type='Climatic'),\n",
    "    amount_melted[['Year', 'Non_Clim_Rel_Amount']].assign(Type='Non-Climatic')\n",
    "])\n",
    "\n",
    "# # Now, we pivot the data for a stacked bar chart\n",
    "# stacked_data = stacked_data.melt(id_vars=['Year', 'Type'], var_name='Measure', value_name='Amount')\n",
    "\n",
    "# # Plotting\n",
    "# fig = px.bar(stacked_data, x='Year', y='Amount', color='Type', title='Yearly Amounts with Climatic and Non-Climatic Segments')\n",
    "# fig.show()"
   ]
  },
  {
   "cell_type": "code",
   "execution_count": 42,
   "id": "80dc0f48",
   "metadata": {},
   "outputs": [
    {
     "data": {
      "text/html": [
       "<div>\n",
       "<style scoped>\n",
       "    .dataframe tbody tr th:only-of-type {\n",
       "        vertical-align: middle;\n",
       "    }\n",
       "\n",
       "    .dataframe tbody tr th {\n",
       "        vertical-align: top;\n",
       "    }\n",
       "\n",
       "    .dataframe thead th {\n",
       "        text-align: right;\n",
       "    }\n",
       "</style>\n",
       "<table border=\"1\" class=\"dataframe\">\n",
       "  <thead>\n",
       "    <tr style=\"text-align: right;\">\n",
       "      <th></th>\n",
       "      <th>Year</th>\n",
       "      <th>Total Amount</th>\n",
       "      <th>Non_Clim_Rel_Amount</th>\n",
       "    </tr>\n",
       "  </thead>\n",
       "  <tbody>\n",
       "    <tr>\n",
       "      <th>0</th>\n",
       "      <td>2013</td>\n",
       "      <td>5627.252576</td>\n",
       "      <td>4781.689208</td>\n",
       "    </tr>\n",
       "    <tr>\n",
       "      <th>1</th>\n",
       "      <td>2014</td>\n",
       "      <td>6872.547503</td>\n",
       "      <td>5835.755036</td>\n",
       "    </tr>\n",
       "    <tr>\n",
       "      <th>2</th>\n",
       "      <td>2015</td>\n",
       "      <td>5880.075415</td>\n",
       "      <td>4884.894186</td>\n",
       "    </tr>\n",
       "    <tr>\n",
       "      <th>3</th>\n",
       "      <td>2016</td>\n",
       "      <td>7376.387963</td>\n",
       "      <td>6024.165664</td>\n",
       "    </tr>\n",
       "    <tr>\n",
       "      <th>4</th>\n",
       "      <td>2017</td>\n",
       "      <td>7670.370692</td>\n",
       "      <td>6212.956326</td>\n",
       "    </tr>\n",
       "    <tr>\n",
       "      <th>5</th>\n",
       "      <td>2018</td>\n",
       "      <td>8497.391449</td>\n",
       "      <td>6837.718702</td>\n",
       "    </tr>\n",
       "    <tr>\n",
       "      <th>6</th>\n",
       "      <td>2019</td>\n",
       "      <td>9125.561581</td>\n",
       "      <td>7118.226759</td>\n",
       "    </tr>\n",
       "    <tr>\n",
       "      <th>7</th>\n",
       "      <td>2020</td>\n",
       "      <td>10818.981966</td>\n",
       "      <td>8623.937708</td>\n",
       "    </tr>\n",
       "    <tr>\n",
       "      <th>8</th>\n",
       "      <td>2021</td>\n",
       "      <td>11116.566037</td>\n",
       "      <td>8626.519826</td>\n",
       "    </tr>\n",
       "    <tr>\n",
       "      <th>9</th>\n",
       "      <td>2022</td>\n",
       "      <td>12068.758817</td>\n",
       "      <td>9238.493688</td>\n",
       "    </tr>\n",
       "  </tbody>\n",
       "</table>\n",
       "</div>"
      ],
      "text/plain": [
       "   Year  Total Amount  Non_Clim_Rel_Amount\n",
       "0  2013   5627.252576          4781.689208\n",
       "1  2014   6872.547503          5835.755036\n",
       "2  2015   5880.075415          4884.894186\n",
       "3  2016   7376.387963          6024.165664\n",
       "4  2017   7670.370692          6212.956326\n",
       "5  2018   8497.391449          6837.718702\n",
       "6  2019   9125.561581          7118.226759\n",
       "7  2020  10818.981966          8623.937708\n",
       "8  2021  11116.566037          8626.519826\n",
       "9  2022  12068.758817          9238.493688"
      ]
     },
     "execution_count": 42,
     "metadata": {},
     "output_type": "execute_result"
    }
   ],
   "source": [
    "amount_melted"
   ]
  },
  {
   "cell_type": "code",
   "execution_count": 43,
   "id": "28a24426",
   "metadata": {},
   "outputs": [
    {
     "data": {
      "text/html": [
       "<div>\n",
       "<style scoped>\n",
       "    .dataframe tbody tr th:only-of-type {\n",
       "        vertical-align: middle;\n",
       "    }\n",
       "\n",
       "    .dataframe tbody tr th {\n",
       "        vertical-align: top;\n",
       "    }\n",
       "\n",
       "    .dataframe thead th {\n",
       "        text-align: right;\n",
       "    }\n",
       "</style>\n",
       "<table border=\"1\" class=\"dataframe\">\n",
       "  <thead>\n",
       "    <tr style=\"text-align: right;\">\n",
       "      <th></th>\n",
       "      <th>Year</th>\n",
       "      <th>Clim_Rel_Amount</th>\n",
       "    </tr>\n",
       "  </thead>\n",
       "  <tbody>\n",
       "    <tr>\n",
       "      <th>0</th>\n",
       "      <td>2013</td>\n",
       "      <td>845.563368</td>\n",
       "    </tr>\n",
       "    <tr>\n",
       "      <th>1</th>\n",
       "      <td>2014</td>\n",
       "      <td>1036.792467</td>\n",
       "    </tr>\n",
       "    <tr>\n",
       "      <th>2</th>\n",
       "      <td>2015</td>\n",
       "      <td>995.181229</td>\n",
       "    </tr>\n",
       "    <tr>\n",
       "      <th>3</th>\n",
       "      <td>2016</td>\n",
       "      <td>1352.222299</td>\n",
       "    </tr>\n",
       "    <tr>\n",
       "      <th>4</th>\n",
       "      <td>2017</td>\n",
       "      <td>1457.414366</td>\n",
       "    </tr>\n",
       "    <tr>\n",
       "      <th>5</th>\n",
       "      <td>2018</td>\n",
       "      <td>1659.672747</td>\n",
       "    </tr>\n",
       "    <tr>\n",
       "      <th>6</th>\n",
       "      <td>2019</td>\n",
       "      <td>2007.334822</td>\n",
       "    </tr>\n",
       "    <tr>\n",
       "      <th>7</th>\n",
       "      <td>2020</td>\n",
       "      <td>2195.044259</td>\n",
       "    </tr>\n",
       "    <tr>\n",
       "      <th>8</th>\n",
       "      <td>2021</td>\n",
       "      <td>2490.046211</td>\n",
       "    </tr>\n",
       "    <tr>\n",
       "      <th>9</th>\n",
       "      <td>2022</td>\n",
       "      <td>2830.265130</td>\n",
       "    </tr>\n",
       "  </tbody>\n",
       "</table>\n",
       "</div>"
      ],
      "text/plain": [
       "   Year  Clim_Rel_Amount\n",
       "0  2013       845.563368\n",
       "1  2014      1036.792467\n",
       "2  2015       995.181229\n",
       "3  2016      1352.222299\n",
       "4  2017      1457.414366\n",
       "5  2018      1659.672747\n",
       "6  2019      2007.334822\n",
       "7  2020      2195.044259\n",
       "8  2021      2490.046211\n",
       "9  2022      2830.265130"
      ]
     },
     "execution_count": 43,
     "metadata": {},
     "output_type": "execute_result"
    }
   ],
   "source": [
    "clim_rel_amount_melted"
   ]
  },
  {
   "cell_type": "markdown",
   "id": "8dce8dcf",
   "metadata": {},
   "source": [
    "# Country Sum"
   ]
  },
  {
   "cell_type": "code",
   "execution_count": null,
   "id": "6466cc32",
   "metadata": {},
   "outputs": [],
   "source": []
  },
  {
   "cell_type": "code",
   "execution_count": null,
   "id": "62eb4b59",
   "metadata": {},
   "outputs": [],
   "source": []
  },
  {
   "cell_type": "code",
   "execution_count": null,
   "id": "26385517",
   "metadata": {},
   "outputs": [],
   "source": []
  },
  {
   "cell_type": "code",
   "execution_count": null,
   "id": "6a586fcb",
   "metadata": {},
   "outputs": [],
   "source": []
  },
  {
   "cell_type": "markdown",
   "id": "14de875a",
   "metadata": {},
   "source": [
    "# Country Compare"
   ]
  },
  {
   "cell_type": "code",
   "execution_count": null,
   "id": "ba7951d2",
   "metadata": {},
   "outputs": [],
   "source": []
  },
  {
   "cell_type": "code",
   "execution_count": null,
   "id": "28372579",
   "metadata": {},
   "outputs": [],
   "source": []
  },
  {
   "cell_type": "code",
   "execution_count": null,
   "id": "db522854",
   "metadata": {},
   "outputs": [],
   "source": []
  },
  {
   "cell_type": "markdown",
   "id": "ba45ba5a",
   "metadata": {},
   "source": [
    "# Country Breakdown"
   ]
  },
  {
   "cell_type": "code",
   "execution_count": null,
   "id": "1119fc1b",
   "metadata": {},
   "outputs": [],
   "source": [
    "use_df = df_dictionary['2022'][['Recipient Name', 'Amount', 'Climate Mitigation', 'Climate Adaptation']]"
   ]
  },
  {
   "cell_type": "code",
   "execution_count": null,
   "id": "2fede49a",
   "metadata": {},
   "outputs": [],
   "source": [
    "\n",
    "use_df['Climate Adaptation'] = use_df['Climate Adaptation'].fillna(0)\n",
    "use_df['Climate Mitigation'] = use_df['Climate Mitigation'].fillna(0)"
   ]
  },
  {
   "cell_type": "code",
   "execution_count": null,
   "id": "18e3c48b",
   "metadata": {},
   "outputs": [],
   "source": [
    "def determine_value(row):\n",
    "    if 2.0 in row[['Climate Adaptation', 'Climate Mitigation']].values:\n",
    "        return 1\n",
    "    elif 1.0 in row[['Climate Adaptation', 'Climate Mitigation']].values:\n",
    "        return 0.5\n",
    "    else:\n",
    "        return 0"
   ]
  },
  {
   "cell_type": "code",
   "execution_count": null,
   "id": "e169b282",
   "metadata": {},
   "outputs": [],
   "source": [
    "use_df['clim_rel'] = use_df.apply(determine_value, axis=1)\n"
   ]
  },
  {
   "cell_type": "code",
   "execution_count": null,
   "id": "5d8555ef",
   "metadata": {
    "scrolled": true
   },
   "outputs": [],
   "source": [
    "use_df['clim_rel_amount'] = use_df['Amount'] * use_df['clim_rel']"
   ]
  },
  {
   "cell_type": "code",
   "execution_count": null,
   "id": "9f7130c4",
   "metadata": {},
   "outputs": [],
   "source": [
    "grouped_df = use_df.groupby(['Recipient Name']).sum()[['Amount', 'clim_rel_amount']]"
   ]
  },
  {
   "cell_type": "code",
   "execution_count": null,
   "id": "e29e2a30",
   "metadata": {},
   "outputs": [],
   "source": [
    "grouped_df['clim_rel_percent'] = grouped_df['clim_rel_amount'] / grouped_df['Amount']"
   ]
  },
  {
   "cell_type": "code",
   "execution_count": null,
   "id": "6bf029f0",
   "metadata": {},
   "outputs": [],
   "source": [
    "grouped_df"
   ]
  },
  {
   "cell_type": "code",
   "execution_count": null,
   "id": "ef24446f",
   "metadata": {},
   "outputs": [],
   "source": [
    "processed_grouped_dfs = []\n",
    "\n",
    "def determine_value(row):\n",
    "    if 2.0 in row[['Climate Adaptation', 'Climate Mitigation']].values:\n",
    "        return 1\n",
    "    elif 1.0 in row[['Climate Adaptation', 'Climate Mitigation']].values:\n",
    "        return 0.5\n",
    "    else:\n",
    "        return 0\n",
    "\n",
    "for key in df_dictionary.keys():\n",
    "        \n",
    "    use_df = df_dictionary[key][['Recipient Name', 'Amount', 'Climate Mitigation', 'Climate Adaptation']]\n",
    "\n",
    "    use_df['Climate Adaptation'] = use_df['Climate Adaptation'].fillna(0)\n",
    "    use_df['Climate Mitigation'] = use_df['Climate Mitigation'].fillna(0)\n",
    "\n",
    "    use_df['clim_rel'] = use_df.apply(determine_value, axis=1)\n",
    "    use_df['clim_rel_amount'] = use_df['Amount'] * use_df['clim_rel']\n",
    "    \n",
    "    grouped_df = use_df.groupby(['Recipient Name']).sum()[['Amount', 'clim_rel_amount']].reset_index()\n",
    "    \n",
    "    grouped_df['clim_rel_percent'] = grouped_df['clim_rel_amount'] / grouped_df['Amount']\n",
    "    \n",
    "    grouped_processed_df = grouped_df.rename(columns={'clim_rel_percent': key})\n",
    "\n",
    "    processed_grouped_dfs.append(grouped_processed_df[['Recipient Name',key]])\n",
    "\n",
    "    \n",
    "df_merged = reduce(lambda left, right: pd.merge(left, right, on='Recipient Name', how='outer'), processed_grouped_dfs)\n",
    "\n",
    "df_long = df_merged.melt(id_vars=[\"Recipient Name\"], \n",
    "                  var_name=\"Year\", \n",
    "                  value_name=\"Value\")\n",
    "\n",
    "\n",
    "# df_long.to_csv('../upload_data/country_specific_df.csv')\n",
    "\n"
   ]
  },
  {
   "cell_type": "code",
   "execution_count": null,
   "id": "60c46816",
   "metadata": {},
   "outputs": [],
   "source": [
    "df_long.to_csv('../upload_data/newmethod_country_specific_df.csv')\n"
   ]
  },
  {
   "cell_type": "code",
   "execution_count": null,
   "id": "65757858",
   "metadata": {},
   "outputs": [],
   "source": [
    "df_long"
   ]
  },
  {
   "cell_type": "code",
   "execution_count": null,
   "id": "73cae470",
   "metadata": {},
   "outputs": [],
   "source": []
  },
  {
   "cell_type": "code",
   "execution_count": null,
   "id": "4dc5721c",
   "metadata": {},
   "outputs": [],
   "source": []
  },
  {
   "cell_type": "code",
   "execution_count": null,
   "id": "5af5b22a",
   "metadata": {},
   "outputs": [],
   "source": []
  },
  {
   "cell_type": "code",
   "execution_count": null,
   "id": "5e51982c",
   "metadata": {},
   "outputs": [],
   "source": []
  },
  {
   "cell_type": "code",
   "execution_count": null,
   "id": "b1d98b47",
   "metadata": {},
   "outputs": [],
   "source": []
  },
  {
   "cell_type": "code",
   "execution_count": null,
   "id": "3037add7",
   "metadata": {},
   "outputs": [],
   "source": []
  },
  {
   "cell_type": "code",
   "execution_count": null,
   "id": "ebece445",
   "metadata": {},
   "outputs": [],
   "source": []
  },
  {
   "cell_type": "code",
   "execution_count": null,
   "id": "1bf11c01",
   "metadata": {},
   "outputs": [],
   "source": []
  },
  {
   "cell_type": "code",
   "execution_count": null,
   "id": "35bc5641",
   "metadata": {},
   "outputs": [],
   "source": []
  },
  {
   "cell_type": "code",
   "execution_count": null,
   "id": "86cb0125",
   "metadata": {},
   "outputs": [],
   "source": []
  },
  {
   "cell_type": "code",
   "execution_count": null,
   "id": "e8565a80",
   "metadata": {},
   "outputs": [],
   "source": []
  },
  {
   "cell_type": "code",
   "execution_count": null,
   "id": "46fa3ebb",
   "metadata": {},
   "outputs": [],
   "source": []
  },
  {
   "cell_type": "code",
   "execution_count": null,
   "id": "c5724020",
   "metadata": {},
   "outputs": [],
   "source": []
  },
  {
   "cell_type": "code",
   "execution_count": null,
   "id": "0c9dd912",
   "metadata": {},
   "outputs": [],
   "source": [
    "processed_grouped_dfs = []\n",
    "\n",
    "for key in df_dictionary.keys():\n",
    "        \n",
    "    use_df = df_dictionary[key][['Recipient Name', 'Amount', 'Climate Mitigation', 'Climate Adaptation']]\n",
    "\n",
    "    use_df['Climate Adaptation'] = use_df['Climate Adaptation'].fillna(0)\n",
    "    use_df['Climate Mitigation'] = use_df['Climate Mitigation'].fillna(0)\n",
    "\n",
    "    use_df['Climate Relevance'] = use_df['Climate Adaptation'] + use_df['Climate Mitigation']\n",
    "\n",
    "    use_df.loc[use_df['Climate Relevance'] > 1, 'Climate Relevance'] = 1\n",
    "\n",
    "    first_group_df = use_df.groupby(['Recipient Name', 'Climate Relevance']).sum()[['Amount']].reset_index()\n",
    "\n",
    "    df_grouped = first_group_df.groupby('Recipient Name').apply(\n",
    "        lambda x: (x[x['Climate Relevance'] == 1]['Amount'].sum()\\\n",
    "                   / x['Amount'].sum()) * 100).reset_index(name='Climate Relevance %')\n",
    "\n",
    "    grouped_processed_df = df_grouped.rename(columns={'Climate Relevance %': key})\n",
    "\n",
    "    processed_grouped_dfs.append(grouped_processed_df)\n",
    "\n",
    "    \n",
    "df_merged = reduce(lambda left, right: pd.merge(left, right, on='Recipient Name', how='outer'), processed_grouped_dfs)\n",
    "\n",
    "df_long = df_merged.melt(id_vars=[\"Recipient Name\"], \n",
    "                  var_name=\"Year\", \n",
    "                  value_name=\"Value\")\n",
    "\n",
    "\n",
    "df_long.to_csv('../upload_data/country_specific_df.csv')\n",
    "\n"
   ]
  },
  {
   "cell_type": "code",
   "execution_count": null,
   "id": "5496a511",
   "metadata": {},
   "outputs": [],
   "source": [
    "df_long"
   ]
  },
  {
   "cell_type": "code",
   "execution_count": null,
   "id": "d07bc988",
   "metadata": {},
   "outputs": [],
   "source": [
    "df_long = pd.read_csv('../upload_data/country_specific_df.csv')[['Recipient Name', 'Year', 'Value']]"
   ]
  },
  {
   "cell_type": "code",
   "execution_count": null,
   "id": "eff86f67",
   "metadata": {},
   "outputs": [],
   "source": [
    "df_long"
   ]
  },
  {
   "cell_type": "code",
   "execution_count": null,
   "id": "fa9774dd",
   "metadata": {},
   "outputs": [],
   "source": [
    "countries = df_long['Recipient Name'].unique()\n",
    "# countries"
   ]
  },
  {
   "cell_type": "code",
   "execution_count": null,
   "id": "7592e13b",
   "metadata": {},
   "outputs": [],
   "source": [
    "selected_df = df_long[df_long['Recipient Name'].isin(['India', 'Brazil', 'Ukraine', 'Namibia', 'South Africa'])]"
   ]
  },
  {
   "cell_type": "code",
   "execution_count": null,
   "id": "f8f8fb0c",
   "metadata": {},
   "outputs": [],
   "source": [
    "fig = px.line(selected_df, \n",
    "              x='Year', \n",
    "              y='Value', \n",
    "              color='Recipient Name',\n",
    "              title='Value by Year for Selected Country',\n",
    "              labels={'Value': 'Climate Relevant Financing (%)', 'Year': 'Year'},\n",
    "              markers=True)\n",
    "\n",
    "fig.show()"
   ]
  },
  {
   "cell_type": "code",
   "execution_count": null,
   "id": "b0aef969",
   "metadata": {},
   "outputs": [],
   "source": []
  },
  {
   "cell_type": "code",
   "execution_count": null,
   "id": "3e301da6",
   "metadata": {},
   "outputs": [],
   "source": []
  },
  {
   "cell_type": "code",
   "execution_count": null,
   "id": "502c82f3",
   "metadata": {},
   "outputs": [],
   "source": []
  },
  {
   "cell_type": "code",
   "execution_count": null,
   "id": "60b91423",
   "metadata": {},
   "outputs": [],
   "source": []
  },
  {
   "cell_type": "code",
   "execution_count": null,
   "id": "f250a613",
   "metadata": {},
   "outputs": [],
   "source": []
  },
  {
   "cell_type": "code",
   "execution_count": null,
   "id": "82cea0f5",
   "metadata": {},
   "outputs": [],
   "source": []
  },
  {
   "cell_type": "code",
   "execution_count": null,
   "id": "0eda08d7",
   "metadata": {},
   "outputs": [],
   "source": []
  },
  {
   "cell_type": "code",
   "execution_count": null,
   "id": "940e1cb2",
   "metadata": {},
   "outputs": [],
   "source": []
  },
  {
   "cell_type": "code",
   "execution_count": null,
   "id": "56e918be",
   "metadata": {},
   "outputs": [],
   "source": []
  },
  {
   "cell_type": "code",
   "execution_count": null,
   "id": "693c6856",
   "metadata": {},
   "outputs": [],
   "source": []
  },
  {
   "cell_type": "code",
   "execution_count": null,
   "id": "ae5281f8",
   "metadata": {},
   "outputs": [],
   "source": []
  },
  {
   "cell_type": "code",
   "execution_count": null,
   "id": "afdf252e",
   "metadata": {},
   "outputs": [],
   "source": []
  },
  {
   "cell_type": "code",
   "execution_count": null,
   "id": "3a5b6bd2",
   "metadata": {},
   "outputs": [],
   "source": []
  },
  {
   "cell_type": "code",
   "execution_count": null,
   "id": "d1ddd7a4",
   "metadata": {},
   "outputs": [],
   "source": []
  },
  {
   "cell_type": "markdown",
   "id": "65abf492",
   "metadata": {},
   "source": [
    "# Globe Graph"
   ]
  },
  {
   "cell_type": "code",
   "execution_count": null,
   "id": "98c1663f",
   "metadata": {},
   "outputs": [],
   "source": [
    "def df_compiler(dictionary_of_df):\n",
    "    \n",
    "    processed_grouped_dfs = []\n",
    "    \n",
    "    for key in dictionary_of_df.keys():\n",
    "        \n",
    "        use_df = dictionary_of_df[key][['Recipient Name', 'Amount', 'Climate Mitigation', 'Climate Adaptation']]\n",
    "        \n",
    "        use_df['Climate Adaptation'] = use_df['Climate Adaptation'].fillna(0)\n",
    "        use_df['Climate Mitigation'] = use_df['Climate Mitigation'].fillna(0)\n",
    "        \n",
    "        use_df['Climate Relevance'] = use_df['Climate Adaptation'] + use_df['Climate Mitigation']\n",
    "        \n",
    "        use_df.loc[use_df['Climate Relevance'] > 2, 'Climate Relevance'] = 2\n",
    "        \n",
    "        use_df['Amount'] = use_df['Amount'] * 1_000_000\n",
    "        \n",
    "        grouped_processed_df = use_df.groupby(['Climate Relevance']).sum()[['Amount']]\n",
    "        \n",
    "        grouped_processed_df = grouped_processed_df.rename(columns={'Amount': key})\n",
    "        \n",
    "        processed_grouped_dfs.append(grouped_processed_df)\n",
    "        \n",
    "    merged_df = pd.concat(processed_grouped_dfs, axis=1)\n",
    "    \n",
    "    sum_row = merged_df.sum()\n",
    "    sum_df = pd.DataFrame([sum_row], index=['Total Financing'])\n",
    "    \n",
    "    merged_df = merged_df.append(sum_df)\n",
    "\n",
    "    merged_df.index = ['No Climate Relevance','Partial Climate Relevance',\n",
    "                       'High Climate Relevance', 'Total Financing']\n",
    "\n",
    "    return merged_df\n",
    "\n",
    "\n",
    "merged_df = df_compiler(df_dictionary)\n",
    "\n",
    "merged_df.to_csv('../upload_data/global_df.csv')\n",
    "\n",
    "merged_df"
   ]
  },
  {
   "cell_type": "code",
   "execution_count": null,
   "id": "efa61477",
   "metadata": {},
   "outputs": [],
   "source": [
    "globe_df = pd.read_csv('../upload_data/global_df.csv')\n",
    "globe_df"
   ]
  },
  {
   "cell_type": "code",
   "execution_count": null,
   "id": "227ea6bf",
   "metadata": {},
   "outputs": [],
   "source": [
    "\n",
    "df_long = merged_df.stack().reset_index()\n",
    "df_long.columns = ['Climate Relevance', 'Year', 'Financing']\n",
    "df_long = df_long[df_long['Climate Relevance'] != 'Total Financing']\n",
    "\n",
    "\n",
    "\n",
    "fig = px.bar(\n",
    "    df_long,\n",
    "    x='Year',\n",
    "    y='Financing',\n",
    "    color='Climate Relevance',  # This determines the stack segments\n",
    "    hover_data=['Climate Relevance', 'Financing'],  # Customize hover info\n",
    "    title='Global BMZ Financing by Climate Relevance'\n",
    ")\n",
    "\n",
    "# Adjust layout\n",
    "fig.update_layout(\n",
    "    xaxis_title='Year',\n",
    "    yaxis_title='Total Financing',\n",
    "    barmode='stack'\n",
    ")\n",
    "\n",
    "# Show the figure\n",
    "fig.show()"
   ]
  },
  {
   "cell_type": "code",
   "execution_count": null,
   "id": "0713661a",
   "metadata": {},
   "outputs": [],
   "source": []
  },
  {
   "cell_type": "code",
   "execution_count": null,
   "id": "f7b2ffd4",
   "metadata": {},
   "outputs": [],
   "source": []
  },
  {
   "cell_type": "code",
   "execution_count": null,
   "id": "8de54156",
   "metadata": {},
   "outputs": [],
   "source": []
  },
  {
   "cell_type": "code",
   "execution_count": null,
   "id": "0b9c4e86",
   "metadata": {},
   "outputs": [],
   "source": [
    "df_long = df.stack().reset_index()\n",
    "df_long.columns = ['Climate Relevance', 'Year', 'Financing']\n",
    "\n",
    "# Filter out the 'Total Financing' row to avoid double counting in the stacked bar\n",
    "df_long = df_long[df_long['Climate Relevance'] != 'Total Financing']\n",
    "\n",
    "# Create the stacked bar chart\n",
    "fig = px.bar(\n",
    "    df_long,\n",
    "    x='Year',\n",
    "    y='Financing',\n",
    "    color='Climate Relevance',  # This determines the stack segments\n",
    "    hover_data=['Climate Relevance', 'Financing'],  # Customize hover info\n",
    "    title='Total Financing by Climate Relevance'\n",
    ")\n",
    "\n",
    "# Adjust layout\n",
    "fig.update_layout(\n",
    "    xaxis_title='Year',\n",
    "    yaxis_title='Total Financing',\n",
    "    barmode='stack'\n",
    ")\n",
    "\n",
    "# Show the figure\n",
    "fig.show()"
   ]
  },
  {
   "cell_type": "code",
   "execution_count": null,
   "id": "b793b1ef",
   "metadata": {},
   "outputs": [],
   "source": [
    "\n",
    "\n",
    "testing_2022 = df_2022[['Recipient Name', 'Amount', 'Climate Mitigation', 'Climate Adaptation']]"
   ]
  },
  {
   "cell_type": "code",
   "execution_count": null,
   "id": "304d9800",
   "metadata": {},
   "outputs": [],
   "source": [
    "testing_2022['Climate Adaptation'] = testing_2022['Climate Adaptation'].fillna(0)\n",
    "testing_2022['Climate Mitigation'] = testing_2022['Climate Mitigation'].fillna(0)"
   ]
  },
  {
   "cell_type": "code",
   "execution_count": null,
   "id": "521bfaf8",
   "metadata": {},
   "outputs": [],
   "source": [
    "testing_2022['Climate Relevance'] = testing_2022['Climate Adaptation'] + testing_2022['Climate Mitigation']"
   ]
  },
  {
   "cell_type": "code",
   "execution_count": null,
   "id": "faa5e47e",
   "metadata": {},
   "outputs": [],
   "source": [
    "testing_2022.loc[testing_2022['Climate Relevance'] > 2, 'Climate Relevance'] = 2\n"
   ]
  },
  {
   "cell_type": "code",
   "execution_count": null,
   "id": "736d501f",
   "metadata": {},
   "outputs": [],
   "source": [
    "testing_2022.groupby(['Climate Relevance']).sum()[['Amount']].rename(columns={'Amount': '2022'})"
   ]
  },
  {
   "cell_type": "code",
   "execution_count": null,
   "id": "03da3b49",
   "metadata": {},
   "outputs": [],
   "source": []
  },
  {
   "cell_type": "code",
   "execution_count": null,
   "id": "a8ad5499",
   "metadata": {},
   "outputs": [],
   "source": []
  },
  {
   "cell_type": "code",
   "execution_count": null,
   "id": "1240495e",
   "metadata": {},
   "outputs": [],
   "source": []
  },
  {
   "cell_type": "code",
   "execution_count": null,
   "id": "3f879e1d",
   "metadata": {},
   "outputs": [],
   "source": [
    "grouped_test = testing_2022.groupby(['Recipient Name', 'Climate Relevance']).sum()[['Amount']]"
   ]
  },
  {
   "cell_type": "code",
   "execution_count": null,
   "id": "5acdcc41",
   "metadata": {},
   "outputs": [],
   "source": []
  },
  {
   "cell_type": "code",
   "execution_count": null,
   "id": "3b9336a6",
   "metadata": {},
   "outputs": [],
   "source": []
  },
  {
   "cell_type": "code",
   "execution_count": null,
   "id": "f74e5c9c",
   "metadata": {},
   "outputs": [],
   "source": []
  }
 ],
 "metadata": {
  "kernelspec": {
   "display_name": "Python 3 (ipykernel)",
   "language": "python",
   "name": "python3"
  },
  "language_info": {
   "codemirror_mode": {
    "name": "ipython",
    "version": 3
   },
   "file_extension": ".py",
   "mimetype": "text/x-python",
   "name": "python",
   "nbconvert_exporter": "python",
   "pygments_lexer": "ipython3",
   "version": "3.10.6"
  },
  "toc": {
   "base_numbering": 1,
   "nav_menu": {},
   "number_sections": true,
   "sideBar": true,
   "skip_h1_title": false,
   "title_cell": "Table of Contents",
   "title_sidebar": "Contents",
   "toc_cell": false,
   "toc_position": {},
   "toc_section_display": true,
   "toc_window_display": false
  },
  "varInspector": {
   "cols": {
    "lenName": 16,
    "lenType": 16,
    "lenVar": 40
   },
   "kernels_config": {
    "python": {
     "delete_cmd_postfix": "",
     "delete_cmd_prefix": "del ",
     "library": "var_list.py",
     "varRefreshCmd": "print(var_dic_list())"
    },
    "r": {
     "delete_cmd_postfix": ") ",
     "delete_cmd_prefix": "rm(",
     "library": "var_list.r",
     "varRefreshCmd": "cat(var_dic_list()) "
    }
   },
   "types_to_exclude": [
    "module",
    "function",
    "builtin_function_or_method",
    "instance",
    "_Feature"
   ],
   "window_display": false
  }
 },
 "nbformat": 4,
 "nbformat_minor": 5
}
