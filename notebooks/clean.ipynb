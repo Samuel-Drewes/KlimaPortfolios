{
 "cells": [
  {
   "cell_type": "markdown",
   "id": "7a5a252e",
   "metadata": {},
   "source": [
    "# Imports & Data Loading"
   ]
  },
  {
   "cell_type": "code",
   "execution_count": 125,
   "id": "19c5f963",
   "metadata": {},
   "outputs": [],
   "source": [
    "import numpy as np\n",
    "import pandas as pd\n",
    "\n",
    "from functools import reduce\n",
    "\n",
    "import plotly.express as px\n",
    "import plotly.graph_objects as go\n",
    "\n",
    "import warnings\n",
    "warnings.filterwarnings('ignore')"
   ]
  },
  {
   "cell_type": "code",
   "execution_count": 145,
   "id": "e4a2aad6",
   "metadata": {},
   "outputs": [],
   "source": [
    "df_2013 = pd.read_csv('../data/2013.csv')\n",
    "df_2014 = pd.read_csv('../data/2014.csv')\n",
    "df_2015 = pd.read_csv('../data/2015.csv')\n",
    "df_2016 = pd.read_csv('../data/2016.csv')\n",
    "df_2017 = pd.read_csv('../data/2017.csv')\n",
    "df_2018 = pd.read_csv('../data/2018.csv')\n",
    "df_2019 = pd.read_csv('../data/2019.csv')\n",
    "df_2020 = pd.read_csv('../data/2020.csv')\n",
    "df_2021 = pd.read_csv('../data/2021.csv')\n",
    "df_2022 = pd.read_csv('../data/2022.csv')\n",
    "\n",
    "\n",
    "dictionary_df = {\n",
    "    '2013': df_2013,\n",
    "    '2014': df_2014,\n",
    "    '2015': df_2015,\n",
    "    '2016': df_2016,\n",
    "    '2017': df_2017,\n",
    "    '2018': df_2018,\n",
    "    '2019': df_2019,\n",
    "    '2020': df_2020,\n",
    "    '2021': df_2021,\n",
    "    '2022': df_2022,\n",
    "}\n",
    "\n",
    "for key, df in dictionary_df.items():\n",
    "    dictionary_df[key] = df[(df['Donor Agency'] == 'Bundesministerium fnr Wirtschaftliche Zusammenarbeit und Entwicklung')]\n",
    "    dictionary_df[key] = dictionary_df[key][dictionary_df[key]['Sector'] != 'Administrative Costs of Donors']\n",
    "    \n",
    "    "
   ]
  },
  {
   "cell_type": "markdown",
   "id": "e00a69b5",
   "metadata": {},
   "source": [
    "# Data Processing for Globe Stacked"
   ]
  },
  {
   "cell_type": "code",
   "execution_count": 148,
   "id": "d9d04ad6",
   "metadata": {},
   "outputs": [],
   "source": [
    "# Basic Processing of Data\n",
    "\n",
    "def determine_value(row):\n",
    "    if 2.0 in row[['Climate Adaptation', 'Climate Mitigation']].values:\n",
    "        return 1\n",
    "    elif row['Climate Adaptation'] == 1.0 and row['Climate Mitigation'] == 1.0:\n",
    "        return 1\n",
    "    elif 1.0 in row[['Climate Adaptation', 'Climate Mitigation']].values:\n",
    "        return 0.5\n",
    "    else:\n",
    "        return 0\n",
    "\n",
    "# final_dict = dictionary_df.copy()    \n",
    "processed_grouped_dfs = []\n",
    "\n",
    "    \n",
    "for year, df in dictionary_df.items():\n",
    "    \n",
    "    # Data Cleaning\n",
    "    use_df = df[['Recipient Name', 'Amount', 'Climate Mitigation', 'Climate Adaptation']]\n",
    "    use_df['Climate Adaptation'] = use_df['Climate Adaptation'].fillna(0)\n",
    "    use_df['Climate Mitigation'] = use_df['Climate Mitigation'].fillna(0)\n",
    "    \n",
    "    # Applying analysis Rules\n",
    "    \n",
    "    use_df['clim_rel'] = use_df.apply(determine_value, axis=1)\n",
    "    \n",
    "    use_df['clim_rel_amount'] = use_df['Amount'] * use_df['clim_rel']\n",
    "    use_df['clim_adapt_amount'] = use_df['Amount'] * (use_df['Climate Adaptation'] / 2)\n",
    "    use_df['clim_miti_amount'] = use_df['Amount'] * (use_df['Climate Mitigation'] / 2)\n",
    "    \n",
    "    # Grouping by Country and calculating\n",
    "    \n",
    "    grouped_df = use_df.groupby(['Recipient Name']).sum()[['Amount', 'clim_rel_amount', 'clim_adapt_amount', 'clim_miti_amount']]\n",
    "    \n",
    "    grouped_df['clim_rel_percent'] = grouped_df['clim_rel_amount'] / grouped_df['Amount']\n",
    "    \n",
    "    grouped_df = grouped_df.rename(columns= {\n",
    "        'Amount': f\"amount_{year}\",\n",
    "        'clim_rel_amount': f\"clim_rel_amount_{year}\",\n",
    "        'clim_rel_percent': f\"clim_rel_percent_{year}\",\n",
    "        'clim_adapt_amount': f\"clim_adapt_amount_{year}\",\n",
    "        'clim_miti_amount': f\"clim_miti_amount_{year}\"\n",
    "    })\n",
    "    \n",
    "    # Merging DF\n",
    "    \n",
    "    processed_grouped_dfs.append(grouped_df)\n",
    "    \n",
    "df_merged = reduce(lambda left, right: pd.merge(left, right, on='Recipient Name', how='outer'), processed_grouped_dfs)\n",
    "\n"
   ]
  },
  {
   "cell_type": "markdown",
   "id": "922568a5",
   "metadata": {},
   "source": [
    "## Combined"
   ]
  },
  {
   "cell_type": "code",
   "execution_count": 228,
   "id": "3fc1d247",
   "metadata": {},
   "outputs": [
    {
     "data": {
      "text/html": [
       "<div>\n",
       "<style scoped>\n",
       "    .dataframe tbody tr th:only-of-type {\n",
       "        vertical-align: middle;\n",
       "    }\n",
       "\n",
       "    .dataframe tbody tr th {\n",
       "        vertical-align: top;\n",
       "    }\n",
       "\n",
       "    .dataframe thead th {\n",
       "        text-align: right;\n",
       "    }\n",
       "</style>\n",
       "<table border=\"1\" class=\"dataframe\">\n",
       "  <thead>\n",
       "    <tr style=\"text-align: right;\">\n",
       "      <th></th>\n",
       "      <th>Sector</th>\n",
       "      <th>amount_2013</th>\n",
       "      <th>clim_rel_amount_2013</th>\n",
       "      <th>clim_adapt_amount_2013</th>\n",
       "      <th>clim_miti_amount_2013</th>\n",
       "      <th>non_miti_adapt_2013</th>\n",
       "      <th>non_clim_2013</th>\n",
       "      <th>amount_2014</th>\n",
       "      <th>clim_rel_amount_2014</th>\n",
       "      <th>clim_adapt_amount_2014</th>\n",
       "      <th>...</th>\n",
       "      <th>clim_adapt_amount_2021</th>\n",
       "      <th>clim_miti_amount_2021</th>\n",
       "      <th>non_miti_adapt_2021</th>\n",
       "      <th>non_clim_2021</th>\n",
       "      <th>amount_2022</th>\n",
       "      <th>clim_rel_amount_2022</th>\n",
       "      <th>clim_adapt_amount_2022</th>\n",
       "      <th>clim_miti_amount_2022</th>\n",
       "      <th>non_miti_adapt_2022</th>\n",
       "      <th>non_clim_2022</th>\n",
       "    </tr>\n",
       "  </thead>\n",
       "  <tbody>\n",
       "    <tr>\n",
       "      <th>0</th>\n",
       "      <td>I.1.a. Education, Level Unspecified</td>\n",
       "      <td>87.245749</td>\n",
       "      <td>6.281512</td>\n",
       "      <td>3.838428</td>\n",
       "      <td>2.443084</td>\n",
       "      <td>80.964237</td>\n",
       "      <td>80.964237</td>\n",
       "      <td>73.771448</td>\n",
       "      <td>5.642177</td>\n",
       "      <td>4.251977</td>\n",
       "      <td>...</td>\n",
       "      <td>0.870306</td>\n",
       "      <td>0.666370</td>\n",
       "      <td>250.891593</td>\n",
       "      <td>250.891593</td>\n",
       "      <td>265.014798</td>\n",
       "      <td>2.829080</td>\n",
       "      <td>1.364922</td>\n",
       "      <td>1.464158</td>\n",
       "      <td>262.185718</td>\n",
       "      <td>262.185718</td>\n",
       "    </tr>\n",
       "    <tr>\n",
       "      <th>1</th>\n",
       "      <td>I.1.b. Basic Education</td>\n",
       "      <td>153.930790</td>\n",
       "      <td>0.185664</td>\n",
       "      <td>0.139591</td>\n",
       "      <td>0.046073</td>\n",
       "      <td>153.745126</td>\n",
       "      <td>153.745126</td>\n",
       "      <td>169.047826</td>\n",
       "      <td>0.158667</td>\n",
       "      <td>0.112319</td>\n",
       "      <td>...</td>\n",
       "      <td>0.380428</td>\n",
       "      <td>0.181201</td>\n",
       "      <td>269.793665</td>\n",
       "      <td>269.793665</td>\n",
       "      <td>237.274430</td>\n",
       "      <td>0.830314</td>\n",
       "      <td>0.566782</td>\n",
       "      <td>0.263531</td>\n",
       "      <td>236.444117</td>\n",
       "      <td>236.444117</td>\n",
       "    </tr>\n",
       "    <tr>\n",
       "      <th>2</th>\n",
       "      <td>I.1.c. Secondary Education</td>\n",
       "      <td>110.570602</td>\n",
       "      <td>4.461417</td>\n",
       "      <td>3.382913</td>\n",
       "      <td>1.078504</td>\n",
       "      <td>106.109184</td>\n",
       "      <td>106.109184</td>\n",
       "      <td>123.680119</td>\n",
       "      <td>5.417927</td>\n",
       "      <td>3.629494</td>\n",
       "      <td>...</td>\n",
       "      <td>18.651157</td>\n",
       "      <td>6.372143</td>\n",
       "      <td>313.863098</td>\n",
       "      <td>313.863098</td>\n",
       "      <td>336.204882</td>\n",
       "      <td>24.097309</td>\n",
       "      <td>17.452876</td>\n",
       "      <td>6.644433</td>\n",
       "      <td>312.107573</td>\n",
       "      <td>312.107573</td>\n",
       "    </tr>\n",
       "    <tr>\n",
       "      <th>3</th>\n",
       "      <td>I.1.d. Post-Secondary Education</td>\n",
       "      <td>104.939416</td>\n",
       "      <td>10.369314</td>\n",
       "      <td>3.066040</td>\n",
       "      <td>7.303274</td>\n",
       "      <td>94.570102</td>\n",
       "      <td>94.570102</td>\n",
       "      <td>91.545807</td>\n",
       "      <td>3.192433</td>\n",
       "      <td>2.932056</td>\n",
       "      <td>...</td>\n",
       "      <td>2.036141</td>\n",
       "      <td>2.501237</td>\n",
       "      <td>95.873669</td>\n",
       "      <td>95.873669</td>\n",
       "      <td>107.771939</td>\n",
       "      <td>5.137190</td>\n",
       "      <td>1.959194</td>\n",
       "      <td>3.177997</td>\n",
       "      <td>102.634749</td>\n",
       "      <td>102.634749</td>\n",
       "    </tr>\n",
       "    <tr>\n",
       "      <th>4</th>\n",
       "      <td>I.2.a. Health, General</td>\n",
       "      <td>95.765407</td>\n",
       "      <td>0.024584</td>\n",
       "      <td>0.000000</td>\n",
       "      <td>0.024584</td>\n",
       "      <td>95.740824</td>\n",
       "      <td>95.740824</td>\n",
       "      <td>86.811676</td>\n",
       "      <td>3.661154</td>\n",
       "      <td>3.661154</td>\n",
       "      <td>...</td>\n",
       "      <td>0.843957</td>\n",
       "      <td>0.654806</td>\n",
       "      <td>164.711021</td>\n",
       "      <td>164.711021</td>\n",
       "      <td>174.278158</td>\n",
       "      <td>0.641031</td>\n",
       "      <td>0.493282</td>\n",
       "      <td>0.147749</td>\n",
       "      <td>173.637127</td>\n",
       "      <td>173.637127</td>\n",
       "    </tr>\n",
       "    <tr>\n",
       "      <th>5</th>\n",
       "      <td>I.2.b. Basic Health</td>\n",
       "      <td>158.133749</td>\n",
       "      <td>0.792894</td>\n",
       "      <td>0.214570</td>\n",
       "      <td>0.578325</td>\n",
       "      <td>157.340855</td>\n",
       "      <td>157.340855</td>\n",
       "      <td>173.291741</td>\n",
       "      <td>0.252810</td>\n",
       "      <td>0.192620</td>\n",
       "      <td>...</td>\n",
       "      <td>5.559028</td>\n",
       "      <td>2.666179</td>\n",
       "      <td>450.047339</td>\n",
       "      <td>450.047339</td>\n",
       "      <td>1199.102079</td>\n",
       "      <td>22.426779</td>\n",
       "      <td>19.360655</td>\n",
       "      <td>3.066124</td>\n",
       "      <td>1176.675299</td>\n",
       "      <td>1176.675299</td>\n",
       "    </tr>\n",
       "    <tr>\n",
       "      <th>6</th>\n",
       "      <td>I.3. Population Policies/Programmes &amp; Reproduc...</td>\n",
       "      <td>154.994846</td>\n",
       "      <td>1.018042</td>\n",
       "      <td>0.010408</td>\n",
       "      <td>1.007634</td>\n",
       "      <td>153.976803</td>\n",
       "      <td>153.976803</td>\n",
       "      <td>160.573929</td>\n",
       "      <td>1.003464</td>\n",
       "      <td>0.163170</td>\n",
       "      <td>...</td>\n",
       "      <td>2.332346</td>\n",
       "      <td>0.000000</td>\n",
       "      <td>169.786222</td>\n",
       "      <td>169.786222</td>\n",
       "      <td>179.901281</td>\n",
       "      <td>3.351427</td>\n",
       "      <td>3.351427</td>\n",
       "      <td>0.000000</td>\n",
       "      <td>176.549854</td>\n",
       "      <td>176.549854</td>\n",
       "    </tr>\n",
       "    <tr>\n",
       "      <th>7</th>\n",
       "      <td>I.4. Water Supply &amp; Sanitation</td>\n",
       "      <td>340.989113</td>\n",
       "      <td>102.046666</td>\n",
       "      <td>75.801629</td>\n",
       "      <td>26.245037</td>\n",
       "      <td>238.942447</td>\n",
       "      <td>238.942447</td>\n",
       "      <td>349.651904</td>\n",
       "      <td>115.889128</td>\n",
       "      <td>88.690010</td>\n",
       "      <td>...</td>\n",
       "      <td>154.849054</td>\n",
       "      <td>45.855554</td>\n",
       "      <td>289.587016</td>\n",
       "      <td>289.587016</td>\n",
       "      <td>479.942386</td>\n",
       "      <td>190.660330</td>\n",
       "      <td>141.068684</td>\n",
       "      <td>49.591647</td>\n",
       "      <td>289.282056</td>\n",
       "      <td>289.282056</td>\n",
       "    </tr>\n",
       "    <tr>\n",
       "      <th>8</th>\n",
       "      <td>I.5.a. Government &amp; Civil Society-general</td>\n",
       "      <td>791.300249</td>\n",
       "      <td>56.859578</td>\n",
       "      <td>31.586324</td>\n",
       "      <td>25.273254</td>\n",
       "      <td>734.440671</td>\n",
       "      <td>734.440671</td>\n",
       "      <td>887.065155</td>\n",
       "      <td>27.507943</td>\n",
       "      <td>15.276165</td>\n",
       "      <td>...</td>\n",
       "      <td>69.077470</td>\n",
       "      <td>76.983475</td>\n",
       "      <td>1241.964643</td>\n",
       "      <td>1241.964643</td>\n",
       "      <td>1145.696631</td>\n",
       "      <td>111.030814</td>\n",
       "      <td>57.492710</td>\n",
       "      <td>53.538104</td>\n",
       "      <td>1034.665817</td>\n",
       "      <td>1034.665817</td>\n",
       "    </tr>\n",
       "    <tr>\n",
       "      <th>9</th>\n",
       "      <td>I.5.b. Conflict, Peace &amp; Security</td>\n",
       "      <td>132.299555</td>\n",
       "      <td>0.465190</td>\n",
       "      <td>0.341959</td>\n",
       "      <td>0.123231</td>\n",
       "      <td>131.834365</td>\n",
       "      <td>131.834365</td>\n",
       "      <td>142.017188</td>\n",
       "      <td>0.390373</td>\n",
       "      <td>0.239275</td>\n",
       "      <td>...</td>\n",
       "      <td>25.567888</td>\n",
       "      <td>3.941753</td>\n",
       "      <td>367.004014</td>\n",
       "      <td>367.004014</td>\n",
       "      <td>369.056762</td>\n",
       "      <td>26.374849</td>\n",
       "      <td>21.798283</td>\n",
       "      <td>4.576567</td>\n",
       "      <td>342.681913</td>\n",
       "      <td>342.681913</td>\n",
       "    </tr>\n",
       "    <tr>\n",
       "      <th>10</th>\n",
       "      <td>I.6. Other Social Infrastructure &amp; Services</td>\n",
       "      <td>87.458268</td>\n",
       "      <td>1.510633</td>\n",
       "      <td>1.256876</td>\n",
       "      <td>0.253757</td>\n",
       "      <td>85.947635</td>\n",
       "      <td>85.947635</td>\n",
       "      <td>93.716503</td>\n",
       "      <td>6.637283</td>\n",
       "      <td>5.904850</td>\n",
       "      <td>...</td>\n",
       "      <td>66.361853</td>\n",
       "      <td>34.628000</td>\n",
       "      <td>760.915675</td>\n",
       "      <td>760.915675</td>\n",
       "      <td>1206.424242</td>\n",
       "      <td>194.255176</td>\n",
       "      <td>159.491656</td>\n",
       "      <td>34.763520</td>\n",
       "      <td>1012.169066</td>\n",
       "      <td>1012.169066</td>\n",
       "    </tr>\n",
       "    <tr>\n",
       "      <th>11</th>\n",
       "      <td>II.1. Transport &amp; Storage</td>\n",
       "      <td>51.541005</td>\n",
       "      <td>13.542288</td>\n",
       "      <td>9.637272</td>\n",
       "      <td>3.905017</td>\n",
       "      <td>37.998717</td>\n",
       "      <td>37.998717</td>\n",
       "      <td>48.951315</td>\n",
       "      <td>13.546555</td>\n",
       "      <td>9.673708</td>\n",
       "      <td>...</td>\n",
       "      <td>8.020052</td>\n",
       "      <td>23.830758</td>\n",
       "      <td>36.785044</td>\n",
       "      <td>36.785044</td>\n",
       "      <td>47.373099</td>\n",
       "      <td>34.083233</td>\n",
       "      <td>4.065511</td>\n",
       "      <td>30.017723</td>\n",
       "      <td>13.289865</td>\n",
       "      <td>13.289865</td>\n",
       "    </tr>\n",
       "    <tr>\n",
       "      <th>12</th>\n",
       "      <td>II.2. Communications</td>\n",
       "      <td>4.195314</td>\n",
       "      <td>0.000000</td>\n",
       "      <td>0.000000</td>\n",
       "      <td>0.000000</td>\n",
       "      <td>4.195314</td>\n",
       "      <td>4.195314</td>\n",
       "      <td>3.124732</td>\n",
       "      <td>0.000000</td>\n",
       "      <td>0.000000</td>\n",
       "      <td>...</td>\n",
       "      <td>0.000000</td>\n",
       "      <td>0.000000</td>\n",
       "      <td>56.454292</td>\n",
       "      <td>56.454292</td>\n",
       "      <td>65.428028</td>\n",
       "      <td>0.000000</td>\n",
       "      <td>0.000000</td>\n",
       "      <td>0.000000</td>\n",
       "      <td>65.428028</td>\n",
       "      <td>65.428028</td>\n",
       "    </tr>\n",
       "    <tr>\n",
       "      <th>13</th>\n",
       "      <td>II.3.a. Energy Policy</td>\n",
       "      <td>56.480637</td>\n",
       "      <td>40.238022</td>\n",
       "      <td>1.819371</td>\n",
       "      <td>38.418650</td>\n",
       "      <td>16.242615</td>\n",
       "      <td>16.242615</td>\n",
       "      <td>55.282512</td>\n",
       "      <td>40.238241</td>\n",
       "      <td>0.742954</td>\n",
       "      <td>...</td>\n",
       "      <td>2.118728</td>\n",
       "      <td>76.079891</td>\n",
       "      <td>11.132747</td>\n",
       "      <td>11.312722</td>\n",
       "      <td>154.189699</td>\n",
       "      <td>150.934563</td>\n",
       "      <td>2.765583</td>\n",
       "      <td>148.434683</td>\n",
       "      <td>2.989433</td>\n",
       "      <td>3.255136</td>\n",
       "    </tr>\n",
       "    <tr>\n",
       "      <th>14</th>\n",
       "      <td>II.3.b. Energy generation, renewable sources</td>\n",
       "      <td>126.315398</td>\n",
       "      <td>113.335245</td>\n",
       "      <td>7.041204</td>\n",
       "      <td>106.294040</td>\n",
       "      <td>12.980154</td>\n",
       "      <td>12.980154</td>\n",
       "      <td>139.470585</td>\n",
       "      <td>119.192982</td>\n",
       "      <td>8.054128</td>\n",
       "      <td>...</td>\n",
       "      <td>4.360376</td>\n",
       "      <td>294.567518</td>\n",
       "      <td>15.058144</td>\n",
       "      <td>15.058144</td>\n",
       "      <td>428.966252</td>\n",
       "      <td>425.093092</td>\n",
       "      <td>2.034140</td>\n",
       "      <td>423.058951</td>\n",
       "      <td>3.873161</td>\n",
       "      <td>3.873160</td>\n",
       "    </tr>\n",
       "    <tr>\n",
       "      <th>15</th>\n",
       "      <td>II.3.c. Energy generation, non-renewable sources</td>\n",
       "      <td>8.449438</td>\n",
       "      <td>8.067716</td>\n",
       "      <td>0.000000</td>\n",
       "      <td>8.067716</td>\n",
       "      <td>0.381723</td>\n",
       "      <td>0.381723</td>\n",
       "      <td>2.092299</td>\n",
       "      <td>0.946638</td>\n",
       "      <td>0.000000</td>\n",
       "      <td>...</td>\n",
       "      <td>0.000000</td>\n",
       "      <td>1.105688</td>\n",
       "      <td>0.000000</td>\n",
       "      <td>0.000000</td>\n",
       "      <td>4.350797</td>\n",
       "      <td>0.000000</td>\n",
       "      <td>0.000000</td>\n",
       "      <td>0.000000</td>\n",
       "      <td>4.350797</td>\n",
       "      <td>4.350797</td>\n",
       "    </tr>\n",
       "    <tr>\n",
       "      <th>16</th>\n",
       "      <td>II.3.f. Energy distribution</td>\n",
       "      <td>66.595444</td>\n",
       "      <td>38.826143</td>\n",
       "      <td>0.000000</td>\n",
       "      <td>38.826143</td>\n",
       "      <td>27.769301</td>\n",
       "      <td>27.769301</td>\n",
       "      <td>70.073065</td>\n",
       "      <td>40.590340</td>\n",
       "      <td>0.000000</td>\n",
       "      <td>...</td>\n",
       "      <td>11.956202</td>\n",
       "      <td>81.183165</td>\n",
       "      <td>28.045772</td>\n",
       "      <td>28.045772</td>\n",
       "      <td>60.995089</td>\n",
       "      <td>52.022669</td>\n",
       "      <td>10.630289</td>\n",
       "      <td>41.392381</td>\n",
       "      <td>8.972420</td>\n",
       "      <td>8.972420</td>\n",
       "    </tr>\n",
       "    <tr>\n",
       "      <th>17</th>\n",
       "      <td>II.4. Banking &amp; Financial Services</td>\n",
       "      <td>233.579991</td>\n",
       "      <td>42.202587</td>\n",
       "      <td>0.690925</td>\n",
       "      <td>41.511661</td>\n",
       "      <td>191.377405</td>\n",
       "      <td>191.377405</td>\n",
       "      <td>336.885809</td>\n",
       "      <td>101.030311</td>\n",
       "      <td>70.706144</td>\n",
       "      <td>...</td>\n",
       "      <td>53.952281</td>\n",
       "      <td>86.807961</td>\n",
       "      <td>557.936884</td>\n",
       "      <td>557.936884</td>\n",
       "      <td>350.263712</td>\n",
       "      <td>196.245702</td>\n",
       "      <td>106.360191</td>\n",
       "      <td>89.885512</td>\n",
       "      <td>154.018010</td>\n",
       "      <td>154.018010</td>\n",
       "    </tr>\n",
       "    <tr>\n",
       "      <th>18</th>\n",
       "      <td>II.5. Business &amp; Other Services</td>\n",
       "      <td>219.026229</td>\n",
       "      <td>8.453475</td>\n",
       "      <td>2.474243</td>\n",
       "      <td>5.979232</td>\n",
       "      <td>210.572755</td>\n",
       "      <td>210.572755</td>\n",
       "      <td>196.856040</td>\n",
       "      <td>19.405244</td>\n",
       "      <td>9.778838</td>\n",
       "      <td>...</td>\n",
       "      <td>10.834046</td>\n",
       "      <td>14.531348</td>\n",
       "      <td>447.139274</td>\n",
       "      <td>447.139274</td>\n",
       "      <td>390.354321</td>\n",
       "      <td>20.784399</td>\n",
       "      <td>6.136532</td>\n",
       "      <td>14.647867</td>\n",
       "      <td>369.569922</td>\n",
       "      <td>369.569922</td>\n",
       "    </tr>\n",
       "    <tr>\n",
       "      <th>19</th>\n",
       "      <td>III.1.a. Agriculture</td>\n",
       "      <td>217.667968</td>\n",
       "      <td>114.186722</td>\n",
       "      <td>90.764499</td>\n",
       "      <td>23.422224</td>\n",
       "      <td>103.481246</td>\n",
       "      <td>103.481246</td>\n",
       "      <td>286.655821</td>\n",
       "      <td>148.558349</td>\n",
       "      <td>121.313808</td>\n",
       "      <td>...</td>\n",
       "      <td>290.342487</td>\n",
       "      <td>62.400917</td>\n",
       "      <td>277.959364</td>\n",
       "      <td>277.959364</td>\n",
       "      <td>1065.854451</td>\n",
       "      <td>641.022002</td>\n",
       "      <td>488.403526</td>\n",
       "      <td>152.618475</td>\n",
       "      <td>424.832449</td>\n",
       "      <td>424.832449</td>\n",
       "    </tr>\n",
       "    <tr>\n",
       "      <th>20</th>\n",
       "      <td>III.1.b. Forestry</td>\n",
       "      <td>55.499816</td>\n",
       "      <td>48.708099</td>\n",
       "      <td>18.554948</td>\n",
       "      <td>30.153150</td>\n",
       "      <td>6.791717</td>\n",
       "      <td>6.791717</td>\n",
       "      <td>54.720634</td>\n",
       "      <td>48.824824</td>\n",
       "      <td>15.322452</td>\n",
       "      <td>...</td>\n",
       "      <td>60.567630</td>\n",
       "      <td>177.042145</td>\n",
       "      <td>7.204604</td>\n",
       "      <td>7.204604</td>\n",
       "      <td>230.875591</td>\n",
       "      <td>222.550830</td>\n",
       "      <td>64.111250</td>\n",
       "      <td>158.439580</td>\n",
       "      <td>8.324761</td>\n",
       "      <td>8.324761</td>\n",
       "    </tr>\n",
       "    <tr>\n",
       "      <th>21</th>\n",
       "      <td>III.1.c. Fishing</td>\n",
       "      <td>3.345430</td>\n",
       "      <td>1.003533</td>\n",
       "      <td>0.443831</td>\n",
       "      <td>0.559702</td>\n",
       "      <td>2.341897</td>\n",
       "      <td>2.341897</td>\n",
       "      <td>3.913150</td>\n",
       "      <td>0.823118</td>\n",
       "      <td>0.434450</td>\n",
       "      <td>...</td>\n",
       "      <td>11.744475</td>\n",
       "      <td>0.365854</td>\n",
       "      <td>14.578297</td>\n",
       "      <td>14.578297</td>\n",
       "      <td>26.890918</td>\n",
       "      <td>11.242145</td>\n",
       "      <td>11.155855</td>\n",
       "      <td>0.086290</td>\n",
       "      <td>15.648773</td>\n",
       "      <td>15.648773</td>\n",
       "    </tr>\n",
       "    <tr>\n",
       "      <th>22</th>\n",
       "      <td>III.2.a. Industry</td>\n",
       "      <td>26.041602</td>\n",
       "      <td>0.027588</td>\n",
       "      <td>0.027588</td>\n",
       "      <td>0.000000</td>\n",
       "      <td>26.014014</td>\n",
       "      <td>26.014014</td>\n",
       "      <td>18.876797</td>\n",
       "      <td>0.289503</td>\n",
       "      <td>0.030418</td>\n",
       "      <td>...</td>\n",
       "      <td>27.025399</td>\n",
       "      <td>9.808215</td>\n",
       "      <td>274.403559</td>\n",
       "      <td>274.403559</td>\n",
       "      <td>424.978696</td>\n",
       "      <td>196.498636</td>\n",
       "      <td>26.922328</td>\n",
       "      <td>169.576307</td>\n",
       "      <td>228.480061</td>\n",
       "      <td>228.480061</td>\n",
       "    </tr>\n",
       "    <tr>\n",
       "      <th>23</th>\n",
       "      <td>III.2.b. Mineral Resources &amp; Mining</td>\n",
       "      <td>12.314603</td>\n",
       "      <td>0.166380</td>\n",
       "      <td>0.000000</td>\n",
       "      <td>0.166380</td>\n",
       "      <td>12.148223</td>\n",
       "      <td>12.148223</td>\n",
       "      <td>15.884815</td>\n",
       "      <td>0.259915</td>\n",
       "      <td>0.000000</td>\n",
       "      <td>...</td>\n",
       "      <td>0.801839</td>\n",
       "      <td>1.370143</td>\n",
       "      <td>18.801897</td>\n",
       "      <td>18.801897</td>\n",
       "      <td>19.856553</td>\n",
       "      <td>1.832112</td>\n",
       "      <td>0.605942</td>\n",
       "      <td>1.226169</td>\n",
       "      <td>18.024441</td>\n",
       "      <td>18.024441</td>\n",
       "    </tr>\n",
       "    <tr>\n",
       "      <th>24</th>\n",
       "      <td>III.2.c. Construction</td>\n",
       "      <td>0.817830</td>\n",
       "      <td>0.000000</td>\n",
       "      <td>0.000000</td>\n",
       "      <td>0.000000</td>\n",
       "      <td>0.817830</td>\n",
       "      <td>0.817830</td>\n",
       "      <td>0.280799</td>\n",
       "      <td>0.000000</td>\n",
       "      <td>0.000000</td>\n",
       "      <td>...</td>\n",
       "      <td>0.000000</td>\n",
       "      <td>0.000000</td>\n",
       "      <td>0.185430</td>\n",
       "      <td>0.185430</td>\n",
       "      <td>0.814863</td>\n",
       "      <td>0.300180</td>\n",
       "      <td>0.139859</td>\n",
       "      <td>0.160321</td>\n",
       "      <td>0.514683</td>\n",
       "      <td>0.514683</td>\n",
       "    </tr>\n",
       "    <tr>\n",
       "      <th>25</th>\n",
       "      <td>III.3.a. Trade Policies &amp; Regulations</td>\n",
       "      <td>32.952859</td>\n",
       "      <td>1.967343</td>\n",
       "      <td>0.994889</td>\n",
       "      <td>0.972454</td>\n",
       "      <td>30.985516</td>\n",
       "      <td>30.985516</td>\n",
       "      <td>40.833262</td>\n",
       "      <td>0.830807</td>\n",
       "      <td>0.720023</td>\n",
       "      <td>...</td>\n",
       "      <td>0.491287</td>\n",
       "      <td>0.164044</td>\n",
       "      <td>68.160406</td>\n",
       "      <td>68.160406</td>\n",
       "      <td>80.092880</td>\n",
       "      <td>2.398709</td>\n",
       "      <td>1.440865</td>\n",
       "      <td>0.957843</td>\n",
       "      <td>77.694171</td>\n",
       "      <td>77.694171</td>\n",
       "    </tr>\n",
       "    <tr>\n",
       "      <th>26</th>\n",
       "      <td>III.3.b. Tourism</td>\n",
       "      <td>3.618893</td>\n",
       "      <td>0.057246</td>\n",
       "      <td>0.000000</td>\n",
       "      <td>0.057246</td>\n",
       "      <td>3.561647</td>\n",
       "      <td>3.561647</td>\n",
       "      <td>2.624932</td>\n",
       "      <td>0.401376</td>\n",
       "      <td>0.000000</td>\n",
       "      <td>...</td>\n",
       "      <td>0.985546</td>\n",
       "      <td>0.202665</td>\n",
       "      <td>2.128785</td>\n",
       "      <td>2.128785</td>\n",
       "      <td>5.683969</td>\n",
       "      <td>1.773644</td>\n",
       "      <td>1.616880</td>\n",
       "      <td>0.156765</td>\n",
       "      <td>3.910325</td>\n",
       "      <td>3.910325</td>\n",
       "    </tr>\n",
       "    <tr>\n",
       "      <th>27</th>\n",
       "      <td>IV.1. General Environment Protection</td>\n",
       "      <td>305.865359</td>\n",
       "      <td>252.975516</td>\n",
       "      <td>96.418414</td>\n",
       "      <td>156.557101</td>\n",
       "      <td>52.889844</td>\n",
       "      <td>52.889844</td>\n",
       "      <td>418.243902</td>\n",
       "      <td>354.866535</td>\n",
       "      <td>137.930546</td>\n",
       "      <td>...</td>\n",
       "      <td>305.884775</td>\n",
       "      <td>304.875959</td>\n",
       "      <td>103.935242</td>\n",
       "      <td>103.935242</td>\n",
       "      <td>496.834824</td>\n",
       "      <td>402.039564</td>\n",
       "      <td>209.408906</td>\n",
       "      <td>192.630659</td>\n",
       "      <td>94.795260</td>\n",
       "      <td>94.795260</td>\n",
       "    </tr>\n",
       "    <tr>\n",
       "      <th>28</th>\n",
       "      <td>IV.2. Other Multisector</td>\n",
       "      <td>587.749666</td>\n",
       "      <td>95.604043</td>\n",
       "      <td>57.206913</td>\n",
       "      <td>38.397130</td>\n",
       "      <td>492.145623</td>\n",
       "      <td>492.145623</td>\n",
       "      <td>583.978189</td>\n",
       "      <td>88.944423</td>\n",
       "      <td>55.869991</td>\n",
       "      <td>...</td>\n",
       "      <td>321.713799</td>\n",
       "      <td>63.143533</td>\n",
       "      <td>706.654829</td>\n",
       "      <td>706.654829</td>\n",
       "      <td>1158.109774</td>\n",
       "      <td>256.751282</td>\n",
       "      <td>205.636722</td>\n",
       "      <td>51.114560</td>\n",
       "      <td>901.358492</td>\n",
       "      <td>901.358492</td>\n",
       "    </tr>\n",
       "    <tr>\n",
       "      <th>29</th>\n",
       "      <td>IX. Unallocated / Unspecified</td>\n",
       "      <td>84.971648</td>\n",
       "      <td>1.151959</td>\n",
       "      <td>0.575979</td>\n",
       "      <td>0.575979</td>\n",
       "      <td>83.819689</td>\n",
       "      <td>83.819689</td>\n",
       "      <td>98.560141</td>\n",
       "      <td>2.950666</td>\n",
       "      <td>1.475333</td>\n",
       "      <td>...</td>\n",
       "      <td>0.000000</td>\n",
       "      <td>0.000000</td>\n",
       "      <td>162.020378</td>\n",
       "      <td>162.020378</td>\n",
       "      <td>144.641490</td>\n",
       "      <td>0.000000</td>\n",
       "      <td>0.000000</td>\n",
       "      <td>0.000000</td>\n",
       "      <td>144.641490</td>\n",
       "      <td>144.641490</td>\n",
       "    </tr>\n",
       "    <tr>\n",
       "      <th>30</th>\n",
       "      <td>VI.1. General Budget Support</td>\n",
       "      <td>38.153694</td>\n",
       "      <td>4.138279</td>\n",
       "      <td>4.138279</td>\n",
       "      <td>0.000000</td>\n",
       "      <td>34.015416</td>\n",
       "      <td>34.015416</td>\n",
       "      <td>39.508887</td>\n",
       "      <td>0.000000</td>\n",
       "      <td>0.000000</td>\n",
       "      <td>...</td>\n",
       "      <td>0.000000</td>\n",
       "      <td>0.000000</td>\n",
       "      <td>0.010062</td>\n",
       "      <td>0.010062</td>\n",
       "      <td>NaN</td>\n",
       "      <td>NaN</td>\n",
       "      <td>NaN</td>\n",
       "      <td>NaN</td>\n",
       "      <td>NaN</td>\n",
       "      <td>NaN</td>\n",
       "    </tr>\n",
       "    <tr>\n",
       "      <th>31</th>\n",
       "      <td>VI.2. Development Food Assistance</td>\n",
       "      <td>55.682635</td>\n",
       "      <td>6.183624</td>\n",
       "      <td>5.976710</td>\n",
       "      <td>0.206914</td>\n",
       "      <td>49.499012</td>\n",
       "      <td>49.499012</td>\n",
       "      <td>104.820569</td>\n",
       "      <td>8.563239</td>\n",
       "      <td>8.157004</td>\n",
       "      <td>...</td>\n",
       "      <td>125.631018</td>\n",
       "      <td>3.152399</td>\n",
       "      <td>282.244675</td>\n",
       "      <td>282.244675</td>\n",
       "      <td>466.497989</td>\n",
       "      <td>124.343179</td>\n",
       "      <td>123.735541</td>\n",
       "      <td>0.607638</td>\n",
       "      <td>342.154810</td>\n",
       "      <td>342.154810</td>\n",
       "    </tr>\n",
       "    <tr>\n",
       "      <th>32</th>\n",
       "      <td>VII. Action Relating to Debt</td>\n",
       "      <td>549.473939</td>\n",
       "      <td>0.000000</td>\n",
       "      <td>0.000000</td>\n",
       "      <td>0.000000</td>\n",
       "      <td>549.473939</td>\n",
       "      <td>549.473939</td>\n",
       "      <td>1080.558919</td>\n",
       "      <td>0.000000</td>\n",
       "      <td>0.000000</td>\n",
       "      <td>...</td>\n",
       "      <td>0.000000</td>\n",
       "      <td>0.000000</td>\n",
       "      <td>14.147029</td>\n",
       "      <td>14.147029</td>\n",
       "      <td>NaN</td>\n",
       "      <td>NaN</td>\n",
       "      <td>NaN</td>\n",
       "      <td>NaN</td>\n",
       "      <td>NaN</td>\n",
       "      <td>NaN</td>\n",
       "    </tr>\n",
       "    <tr>\n",
       "      <th>33</th>\n",
       "      <td>VIII.1. Emergency Response</td>\n",
       "      <td>92.040798</td>\n",
       "      <td>2.503770</td>\n",
       "      <td>2.210464</td>\n",
       "      <td>0.293307</td>\n",
       "      <td>89.537028</td>\n",
       "      <td>89.537028</td>\n",
       "      <td>230.063528</td>\n",
       "      <td>4.840238</td>\n",
       "      <td>4.427626</td>\n",
       "      <td>...</td>\n",
       "      <td>0.195542</td>\n",
       "      <td>0.000000</td>\n",
       "      <td>5.882481</td>\n",
       "      <td>5.882481</td>\n",
       "      <td>20.348848</td>\n",
       "      <td>7.832136</td>\n",
       "      <td>0.000000</td>\n",
       "      <td>7.832136</td>\n",
       "      <td>12.516712</td>\n",
       "      <td>12.516712</td>\n",
       "    </tr>\n",
       "    <tr>\n",
       "      <th>34</th>\n",
       "      <td>VIII.2. Reconstruction Relief &amp; Rehabilitation</td>\n",
       "      <td>40.832671</td>\n",
       "      <td>4.367000</td>\n",
       "      <td>2.733083</td>\n",
       "      <td>1.633917</td>\n",
       "      <td>36.465671</td>\n",
       "      <td>36.465671</td>\n",
       "      <td>100.558166</td>\n",
       "      <td>4.279336</td>\n",
       "      <td>3.816842</td>\n",
       "      <td>...</td>\n",
       "      <td>9.556774</td>\n",
       "      <td>0.709555</td>\n",
       "      <td>128.252574</td>\n",
       "      <td>128.252574</td>\n",
       "      <td>70.098900</td>\n",
       "      <td>3.565052</td>\n",
       "      <td>3.005562</td>\n",
       "      <td>0.559489</td>\n",
       "      <td>66.533848</td>\n",
       "      <td>66.533848</td>\n",
       "    </tr>\n",
       "    <tr>\n",
       "      <th>35</th>\n",
       "      <td>VIII.3. Disaster Prevention &amp; Preparedness</td>\n",
       "      <td>24.944317</td>\n",
       "      <td>10.393681</td>\n",
       "      <td>9.433338</td>\n",
       "      <td>0.960342</td>\n",
       "      <td>14.550636</td>\n",
       "      <td>14.550636</td>\n",
       "      <td>39.127662</td>\n",
       "      <td>28.270246</td>\n",
       "      <td>26.356617</td>\n",
       "      <td>...</td>\n",
       "      <td>3.475938</td>\n",
       "      <td>0.000000</td>\n",
       "      <td>1.210245</td>\n",
       "      <td>1.210245</td>\n",
       "      <td>6.987604</td>\n",
       "      <td>0.797127</td>\n",
       "      <td>0.797127</td>\n",
       "      <td>0.000000</td>\n",
       "      <td>6.190476</td>\n",
       "      <td>6.190476</td>\n",
       "    </tr>\n",
       "    <tr>\n",
       "      <th>36</th>\n",
       "      <td>II.3.d. Hybrid energy plants</td>\n",
       "      <td>NaN</td>\n",
       "      <td>NaN</td>\n",
       "      <td>NaN</td>\n",
       "      <td>NaN</td>\n",
       "      <td>NaN</td>\n",
       "      <td>NaN</td>\n",
       "      <td>NaN</td>\n",
       "      <td>NaN</td>\n",
       "      <td>NaN</td>\n",
       "      <td>...</td>\n",
       "      <td>0.000000</td>\n",
       "      <td>0.242877</td>\n",
       "      <td>0.000000</td>\n",
       "      <td>0.000000</td>\n",
       "      <td>0.219371</td>\n",
       "      <td>0.219371</td>\n",
       "      <td>0.000000</td>\n",
       "      <td>0.219371</td>\n",
       "      <td>0.000000</td>\n",
       "      <td>0.000000</td>\n",
       "    </tr>\n",
       "    <tr>\n",
       "      <th>37</th>\n",
       "      <td>I.2.c. Non-communicable diseases (NCDs)</td>\n",
       "      <td>NaN</td>\n",
       "      <td>NaN</td>\n",
       "      <td>NaN</td>\n",
       "      <td>NaN</td>\n",
       "      <td>NaN</td>\n",
       "      <td>NaN</td>\n",
       "      <td>NaN</td>\n",
       "      <td>NaN</td>\n",
       "      <td>NaN</td>\n",
       "      <td>...</td>\n",
       "      <td>0.000000</td>\n",
       "      <td>0.000000</td>\n",
       "      <td>26.421984</td>\n",
       "      <td>26.421984</td>\n",
       "      <td>30.878856</td>\n",
       "      <td>0.033566</td>\n",
       "      <td>0.033566</td>\n",
       "      <td>0.000000</td>\n",
       "      <td>30.845289</td>\n",
       "      <td>30.845289</td>\n",
       "    </tr>\n",
       "  </tbody>\n",
       "</table>\n",
       "<p>38 rows × 61 columns</p>\n",
       "</div>"
      ],
      "text/plain": [
       "                                               Sector  amount_2013  \\\n",
       "0                 I.1.a. Education, Level Unspecified    87.245749   \n",
       "1                              I.1.b. Basic Education   153.930790   \n",
       "2                          I.1.c. Secondary Education   110.570602   \n",
       "3                     I.1.d. Post-Secondary Education   104.939416   \n",
       "4                              I.2.a. Health, General    95.765407   \n",
       "5                                 I.2.b. Basic Health   158.133749   \n",
       "6   I.3. Population Policies/Programmes & Reproduc...   154.994846   \n",
       "7                      I.4. Water Supply & Sanitation   340.989113   \n",
       "8           I.5.a. Government & Civil Society-general   791.300249   \n",
       "9                   I.5.b. Conflict, Peace & Security   132.299555   \n",
       "10        I.6. Other Social Infrastructure & Services    87.458268   \n",
       "11                          II.1. Transport & Storage    51.541005   \n",
       "12                               II.2. Communications     4.195314   \n",
       "13                              II.3.a. Energy Policy    56.480637   \n",
       "14       II.3.b. Energy generation, renewable sources   126.315398   \n",
       "15   II.3.c. Energy generation, non-renewable sources     8.449438   \n",
       "16                        II.3.f. Energy distribution    66.595444   \n",
       "17                 II.4. Banking & Financial Services   233.579991   \n",
       "18                    II.5. Business & Other Services   219.026229   \n",
       "19                               III.1.a. Agriculture   217.667968   \n",
       "20                                  III.1.b. Forestry    55.499816   \n",
       "21                                   III.1.c. Fishing     3.345430   \n",
       "22                                  III.2.a. Industry    26.041602   \n",
       "23                III.2.b. Mineral Resources & Mining    12.314603   \n",
       "24                              III.2.c. Construction     0.817830   \n",
       "25              III.3.a. Trade Policies & Regulations    32.952859   \n",
       "26                                   III.3.b. Tourism     3.618893   \n",
       "27               IV.1. General Environment Protection   305.865359   \n",
       "28                            IV.2. Other Multisector   587.749666   \n",
       "29                      IX. Unallocated / Unspecified    84.971648   \n",
       "30                       VI.1. General Budget Support    38.153694   \n",
       "31                  VI.2. Development Food Assistance    55.682635   \n",
       "32                       VII. Action Relating to Debt   549.473939   \n",
       "33                         VIII.1. Emergency Response    92.040798   \n",
       "34     VIII.2. Reconstruction Relief & Rehabilitation    40.832671   \n",
       "35         VIII.3. Disaster Prevention & Preparedness    24.944317   \n",
       "36                       II.3.d. Hybrid energy plants          NaN   \n",
       "37            I.2.c. Non-communicable diseases (NCDs)          NaN   \n",
       "\n",
       "    clim_rel_amount_2013  clim_adapt_amount_2013  clim_miti_amount_2013  \\\n",
       "0               6.281512                3.838428               2.443084   \n",
       "1               0.185664                0.139591               0.046073   \n",
       "2               4.461417                3.382913               1.078504   \n",
       "3              10.369314                3.066040               7.303274   \n",
       "4               0.024584                0.000000               0.024584   \n",
       "5               0.792894                0.214570               0.578325   \n",
       "6               1.018042                0.010408               1.007634   \n",
       "7             102.046666               75.801629              26.245037   \n",
       "8              56.859578               31.586324              25.273254   \n",
       "9               0.465190                0.341959               0.123231   \n",
       "10              1.510633                1.256876               0.253757   \n",
       "11             13.542288                9.637272               3.905017   \n",
       "12              0.000000                0.000000               0.000000   \n",
       "13             40.238022                1.819371              38.418650   \n",
       "14            113.335245                7.041204             106.294040   \n",
       "15              8.067716                0.000000               8.067716   \n",
       "16             38.826143                0.000000              38.826143   \n",
       "17             42.202587                0.690925              41.511661   \n",
       "18              8.453475                2.474243               5.979232   \n",
       "19            114.186722               90.764499              23.422224   \n",
       "20             48.708099               18.554948              30.153150   \n",
       "21              1.003533                0.443831               0.559702   \n",
       "22              0.027588                0.027588               0.000000   \n",
       "23              0.166380                0.000000               0.166380   \n",
       "24              0.000000                0.000000               0.000000   \n",
       "25              1.967343                0.994889               0.972454   \n",
       "26              0.057246                0.000000               0.057246   \n",
       "27            252.975516               96.418414             156.557101   \n",
       "28             95.604043               57.206913              38.397130   \n",
       "29              1.151959                0.575979               0.575979   \n",
       "30              4.138279                4.138279               0.000000   \n",
       "31              6.183624                5.976710               0.206914   \n",
       "32              0.000000                0.000000               0.000000   \n",
       "33              2.503770                2.210464               0.293307   \n",
       "34              4.367000                2.733083               1.633917   \n",
       "35             10.393681                9.433338               0.960342   \n",
       "36                   NaN                     NaN                    NaN   \n",
       "37                   NaN                     NaN                    NaN   \n",
       "\n",
       "    non_miti_adapt_2013  non_clim_2013  amount_2014  clim_rel_amount_2014  \\\n",
       "0             80.964237      80.964237    73.771448              5.642177   \n",
       "1            153.745126     153.745126   169.047826              0.158667   \n",
       "2            106.109184     106.109184   123.680119              5.417927   \n",
       "3             94.570102      94.570102    91.545807              3.192433   \n",
       "4             95.740824      95.740824    86.811676              3.661154   \n",
       "5            157.340855     157.340855   173.291741              0.252810   \n",
       "6            153.976803     153.976803   160.573929              1.003464   \n",
       "7            238.942447     238.942447   349.651904            115.889128   \n",
       "8            734.440671     734.440671   887.065155             27.507943   \n",
       "9            131.834365     131.834365   142.017188              0.390373   \n",
       "10            85.947635      85.947635    93.716503              6.637283   \n",
       "11            37.998717      37.998717    48.951315             13.546555   \n",
       "12             4.195314       4.195314     3.124732              0.000000   \n",
       "13            16.242615      16.242615    55.282512             40.238241   \n",
       "14            12.980154      12.980154   139.470585            119.192982   \n",
       "15             0.381723       0.381723     2.092299              0.946638   \n",
       "16            27.769301      27.769301    70.073065             40.590340   \n",
       "17           191.377405     191.377405   336.885809            101.030311   \n",
       "18           210.572755     210.572755   196.856040             19.405244   \n",
       "19           103.481246     103.481246   286.655821            148.558349   \n",
       "20             6.791717       6.791717    54.720634             48.824824   \n",
       "21             2.341897       2.341897     3.913150              0.823118   \n",
       "22            26.014014      26.014014    18.876797              0.289503   \n",
       "23            12.148223      12.148223    15.884815              0.259915   \n",
       "24             0.817830       0.817830     0.280799              0.000000   \n",
       "25            30.985516      30.985516    40.833262              0.830807   \n",
       "26             3.561647       3.561647     2.624932              0.401376   \n",
       "27            52.889844      52.889844   418.243902            354.866535   \n",
       "28           492.145623     492.145623   583.978189             88.944423   \n",
       "29            83.819689      83.819689    98.560141              2.950666   \n",
       "30            34.015416      34.015416    39.508887              0.000000   \n",
       "31            49.499012      49.499012   104.820569              8.563239   \n",
       "32           549.473939     549.473939  1080.558919              0.000000   \n",
       "33            89.537028      89.537028   230.063528              4.840238   \n",
       "34            36.465671      36.465671   100.558166              4.279336   \n",
       "35            14.550636      14.550636    39.127662             28.270246   \n",
       "36                  NaN            NaN          NaN                   NaN   \n",
       "37                  NaN            NaN          NaN                   NaN   \n",
       "\n",
       "    clim_adapt_amount_2014  ...  clim_adapt_amount_2021  \\\n",
       "0                 4.251977  ...                0.870306   \n",
       "1                 0.112319  ...                0.380428   \n",
       "2                 3.629494  ...               18.651157   \n",
       "3                 2.932056  ...                2.036141   \n",
       "4                 3.661154  ...                0.843957   \n",
       "5                 0.192620  ...                5.559028   \n",
       "6                 0.163170  ...                2.332346   \n",
       "7                88.690010  ...              154.849054   \n",
       "8                15.276165  ...               69.077470   \n",
       "9                 0.239275  ...               25.567888   \n",
       "10                5.904850  ...               66.361853   \n",
       "11                9.673708  ...                8.020052   \n",
       "12                0.000000  ...                0.000000   \n",
       "13                0.742954  ...                2.118728   \n",
       "14                8.054128  ...                4.360376   \n",
       "15                0.000000  ...                0.000000   \n",
       "16                0.000000  ...               11.956202   \n",
       "17               70.706144  ...               53.952281   \n",
       "18                9.778838  ...               10.834046   \n",
       "19              121.313808  ...              290.342487   \n",
       "20               15.322452  ...               60.567630   \n",
       "21                0.434450  ...               11.744475   \n",
       "22                0.030418  ...               27.025399   \n",
       "23                0.000000  ...                0.801839   \n",
       "24                0.000000  ...                0.000000   \n",
       "25                0.720023  ...                0.491287   \n",
       "26                0.000000  ...                0.985546   \n",
       "27              137.930546  ...              305.884775   \n",
       "28               55.869991  ...              321.713799   \n",
       "29                1.475333  ...                0.000000   \n",
       "30                0.000000  ...                0.000000   \n",
       "31                8.157004  ...              125.631018   \n",
       "32                0.000000  ...                0.000000   \n",
       "33                4.427626  ...                0.195542   \n",
       "34                3.816842  ...                9.556774   \n",
       "35               26.356617  ...                3.475938   \n",
       "36                     NaN  ...                0.000000   \n",
       "37                     NaN  ...                0.000000   \n",
       "\n",
       "    clim_miti_amount_2021  non_miti_adapt_2021  non_clim_2021  amount_2022  \\\n",
       "0                0.666370           250.891593     250.891593   265.014798   \n",
       "1                0.181201           269.793665     269.793665   237.274430   \n",
       "2                6.372143           313.863098     313.863098   336.204882   \n",
       "3                2.501237            95.873669      95.873669   107.771939   \n",
       "4                0.654806           164.711021     164.711021   174.278158   \n",
       "5                2.666179           450.047339     450.047339  1199.102079   \n",
       "6                0.000000           169.786222     169.786222   179.901281   \n",
       "7               45.855554           289.587016     289.587016   479.942386   \n",
       "8               76.983475          1241.964643    1241.964643  1145.696631   \n",
       "9                3.941753           367.004014     367.004014   369.056762   \n",
       "10              34.628000           760.915675     760.915675  1206.424242   \n",
       "11              23.830758            36.785044      36.785044    47.373099   \n",
       "12               0.000000            56.454292      56.454292    65.428028   \n",
       "13              76.079891            11.132747      11.312722   154.189699   \n",
       "14             294.567518            15.058144      15.058144   428.966252   \n",
       "15               1.105688             0.000000       0.000000     4.350797   \n",
       "16              81.183165            28.045772      28.045772    60.995089   \n",
       "17              86.807961           557.936884     557.936884   350.263712   \n",
       "18              14.531348           447.139274     447.139274   390.354321   \n",
       "19              62.400917           277.959364     277.959364  1065.854451   \n",
       "20             177.042145             7.204604       7.204604   230.875591   \n",
       "21               0.365854            14.578297      14.578297    26.890918   \n",
       "22               9.808215           274.403559     274.403559   424.978696   \n",
       "23               1.370143            18.801897      18.801897    19.856553   \n",
       "24               0.000000             0.185430       0.185430     0.814863   \n",
       "25               0.164044            68.160406      68.160406    80.092880   \n",
       "26               0.202665             2.128785       2.128785     5.683969   \n",
       "27             304.875959           103.935242     103.935242   496.834824   \n",
       "28              63.143533           706.654829     706.654829  1158.109774   \n",
       "29               0.000000           162.020378     162.020378   144.641490   \n",
       "30               0.000000             0.010062       0.010062          NaN   \n",
       "31               3.152399           282.244675     282.244675   466.497989   \n",
       "32               0.000000            14.147029      14.147029          NaN   \n",
       "33               0.000000             5.882481       5.882481    20.348848   \n",
       "34               0.709555           128.252574     128.252574    70.098900   \n",
       "35               0.000000             1.210245       1.210245     6.987604   \n",
       "36               0.242877             0.000000       0.000000     0.219371   \n",
       "37               0.000000            26.421984      26.421984    30.878856   \n",
       "\n",
       "    clim_rel_amount_2022  clim_adapt_amount_2022  clim_miti_amount_2022  \\\n",
       "0               2.829080                1.364922               1.464158   \n",
       "1               0.830314                0.566782               0.263531   \n",
       "2              24.097309               17.452876               6.644433   \n",
       "3               5.137190                1.959194               3.177997   \n",
       "4               0.641031                0.493282               0.147749   \n",
       "5              22.426779               19.360655               3.066124   \n",
       "6               3.351427                3.351427               0.000000   \n",
       "7             190.660330              141.068684              49.591647   \n",
       "8             111.030814               57.492710              53.538104   \n",
       "9              26.374849               21.798283               4.576567   \n",
       "10            194.255176              159.491656              34.763520   \n",
       "11             34.083233                4.065511              30.017723   \n",
       "12              0.000000                0.000000               0.000000   \n",
       "13            150.934563                2.765583             148.434683   \n",
       "14            425.093092                2.034140             423.058951   \n",
       "15              0.000000                0.000000               0.000000   \n",
       "16             52.022669               10.630289              41.392381   \n",
       "17            196.245702              106.360191              89.885512   \n",
       "18             20.784399                6.136532              14.647867   \n",
       "19            641.022002              488.403526             152.618475   \n",
       "20            222.550830               64.111250             158.439580   \n",
       "21             11.242145               11.155855               0.086290   \n",
       "22            196.498636               26.922328             169.576307   \n",
       "23              1.832112                0.605942               1.226169   \n",
       "24              0.300180                0.139859               0.160321   \n",
       "25              2.398709                1.440865               0.957843   \n",
       "26              1.773644                1.616880               0.156765   \n",
       "27            402.039564              209.408906             192.630659   \n",
       "28            256.751282              205.636722              51.114560   \n",
       "29              0.000000                0.000000               0.000000   \n",
       "30                   NaN                     NaN                    NaN   \n",
       "31            124.343179              123.735541               0.607638   \n",
       "32                   NaN                     NaN                    NaN   \n",
       "33              7.832136                0.000000               7.832136   \n",
       "34              3.565052                3.005562               0.559489   \n",
       "35              0.797127                0.797127               0.000000   \n",
       "36              0.219371                0.000000               0.219371   \n",
       "37              0.033566                0.033566               0.000000   \n",
       "\n",
       "    non_miti_adapt_2022  non_clim_2022  \n",
       "0            262.185718     262.185718  \n",
       "1            236.444117     236.444117  \n",
       "2            312.107573     312.107573  \n",
       "3            102.634749     102.634749  \n",
       "4            173.637127     173.637127  \n",
       "5           1176.675299    1176.675299  \n",
       "6            176.549854     176.549854  \n",
       "7            289.282056     289.282056  \n",
       "8           1034.665817    1034.665817  \n",
       "9            342.681913     342.681913  \n",
       "10          1012.169066    1012.169066  \n",
       "11            13.289865      13.289865  \n",
       "12            65.428028      65.428028  \n",
       "13             2.989433       3.255136  \n",
       "14             3.873161       3.873160  \n",
       "15             4.350797       4.350797  \n",
       "16             8.972420       8.972420  \n",
       "17           154.018010     154.018010  \n",
       "18           369.569922     369.569922  \n",
       "19           424.832449     424.832449  \n",
       "20             8.324761       8.324761  \n",
       "21            15.648773      15.648773  \n",
       "22           228.480061     228.480061  \n",
       "23            18.024441      18.024441  \n",
       "24             0.514683       0.514683  \n",
       "25            77.694171      77.694171  \n",
       "26             3.910325       3.910325  \n",
       "27            94.795260      94.795260  \n",
       "28           901.358492     901.358492  \n",
       "29           144.641490     144.641490  \n",
       "30                  NaN            NaN  \n",
       "31           342.154810     342.154810  \n",
       "32                  NaN            NaN  \n",
       "33            12.516712      12.516712  \n",
       "34            66.533848      66.533848  \n",
       "35             6.190476       6.190476  \n",
       "36             0.000000       0.000000  \n",
       "37            30.845289      30.845289  \n",
       "\n",
       "[38 rows x 61 columns]"
      ]
     },
     "execution_count": 228,
     "metadata": {},
     "output_type": "execute_result"
    }
   ],
   "source": [
    "df_merged"
   ]
  },
  {
   "cell_type": "code",
   "execution_count": 229,
   "id": "b08b104b",
   "metadata": {},
   "outputs": [],
   "source": [
    "selected_columns = [col for col in df_merged.columns if col.startswith('amount_') or col.startswith('clim_rel_amount_')]\n",
    "filtered_df = df_merged[selected_columns]\n",
    "\n",
    "sums = filtered_df.sum()\n",
    "globe_df = filtered_df.append(sums, ignore_index=True)\n",
    "\n",
    "\n",
    "globe_df = globe_df.loc[[38]]"
   ]
  },
  {
   "cell_type": "code",
   "execution_count": 230,
   "id": "83c4b552",
   "metadata": {},
   "outputs": [
    {
     "data": {
      "text/html": [
       "<div>\n",
       "<style scoped>\n",
       "    .dataframe tbody tr th:only-of-type {\n",
       "        vertical-align: middle;\n",
       "    }\n",
       "\n",
       "    .dataframe tbody tr th {\n",
       "        vertical-align: top;\n",
       "    }\n",
       "\n",
       "    .dataframe thead th {\n",
       "        text-align: right;\n",
       "    }\n",
       "</style>\n",
       "<table border=\"1\" class=\"dataframe\">\n",
       "  <thead>\n",
       "    <tr style=\"text-align: right;\">\n",
       "      <th></th>\n",
       "      <th>amount_2013</th>\n",
       "      <th>clim_rel_amount_2013</th>\n",
       "      <th>amount_2014</th>\n",
       "      <th>clim_rel_amount_2014</th>\n",
       "      <th>amount_2015</th>\n",
       "      <th>clim_rel_amount_2015</th>\n",
       "      <th>amount_2016</th>\n",
       "      <th>clim_rel_amount_2016</th>\n",
       "      <th>amount_2017</th>\n",
       "      <th>clim_rel_amount_2017</th>\n",
       "      <th>amount_2018</th>\n",
       "      <th>clim_rel_amount_2018</th>\n",
       "      <th>amount_2019</th>\n",
       "      <th>clim_rel_amount_2019</th>\n",
       "      <th>amount_2020</th>\n",
       "      <th>clim_rel_amount_2020</th>\n",
       "      <th>amount_2021</th>\n",
       "      <th>clim_rel_amount_2021</th>\n",
       "      <th>amount_2022</th>\n",
       "      <th>clim_rel_amount_2022</th>\n",
       "    </tr>\n",
       "  </thead>\n",
       "  <tbody>\n",
       "    <tr>\n",
       "      <th>38</th>\n",
       "      <td>5115.784928</td>\n",
       "      <td>992.115751</td>\n",
       "      <td>6323.119826</td>\n",
       "      <td>1197.406246</td>\n",
       "      <td>5316.503434</td>\n",
       "      <td>1152.733316</td>\n",
       "      <td>6897.008022</td>\n",
       "      <td>1660.725243</td>\n",
       "      <td>7204.68697</td>\n",
       "      <td>1715.085188</td>\n",
       "      <td>8012.691583</td>\n",
       "      <td>1904.175131</td>\n",
       "      <td>8632.582927</td>\n",
       "      <td>2310.213481</td>\n",
       "      <td>10294.707282</td>\n",
       "      <td>2563.918782</td>\n",
       "      <td>10593.415129</td>\n",
       "      <td>2972.043199</td>\n",
       "      <td>11452.254162</td>\n",
       "      <td>3333.997494</td>\n",
       "    </tr>\n",
       "  </tbody>\n",
       "</table>\n",
       "</div>"
      ],
      "text/plain": [
       "    amount_2013  clim_rel_amount_2013  amount_2014  clim_rel_amount_2014  \\\n",
       "38  5115.784928            992.115751  6323.119826           1197.406246   \n",
       "\n",
       "    amount_2015  clim_rel_amount_2015  amount_2016  clim_rel_amount_2016  \\\n",
       "38  5316.503434           1152.733316  6897.008022           1660.725243   \n",
       "\n",
       "    amount_2017  clim_rel_amount_2017  amount_2018  clim_rel_amount_2018  \\\n",
       "38   7204.68697           1715.085188  8012.691583           1904.175131   \n",
       "\n",
       "    amount_2019  clim_rel_amount_2019   amount_2020  clim_rel_amount_2020  \\\n",
       "38  8632.582927           2310.213481  10294.707282           2563.918782   \n",
       "\n",
       "     amount_2021  clim_rel_amount_2021   amount_2022  clim_rel_amount_2022  \n",
       "38  10593.415129           2972.043199  11452.254162           3333.997494  "
      ]
     },
     "execution_count": 230,
     "metadata": {},
     "output_type": "execute_result"
    }
   ],
   "source": [
    "globe_df"
   ]
  },
  {
   "cell_type": "code",
   "execution_count": 231,
   "id": "6bc262a8",
   "metadata": {},
   "outputs": [],
   "source": [
    "years = range(2013, 2023)\n",
    "\n",
    "for year in years:\n",
    "    amount_col = f'amount_{year}'\n",
    "    clim_rel_amount_col = f'clim_rel_amount_{year}'\n",
    "    non_clim_col = f'non_clim_amount_{year}'\n",
    "    globe_df[non_clim_col] = globe_df[amount_col] - globe_df[clim_rel_amount_col]\n",
    "\n",
    "# Step 2: Melt the dataframe for plotting\n",
    "# Including both climatic and non-climatic amounts\n",
    "melted_df = globe_df.melt(value_vars=[f'clim_rel_amount_{year}' for year in years] + \n",
    "                             [f'non_clim_amount_{year}' for year in years],\n",
    "                             var_name='Type_Year', value_name='Amount')\n",
    "\n",
    "\n",
    "\n",
    "# Split 'Type_Year' into separate 'Year' and 'Type' columns\n",
    "melted_df['Year'] = melted_df['Type_Year'].apply(lambda x: x.split('_')[-1])\n",
    "melted_df['Type'] = melted_df['Type_Year'].apply(lambda x: 'Climate Finance' if 'clim_rel_amount' in x else 'Other Funds')\n",
    "\n",
    "melted_df['Amount'] = melted_df['Amount'] * 1_000_000\n",
    "\n",
    "\n",
    "\n",
    "melted_df.to_csv(\"../upload_data/globe_df.csv\")"
   ]
  },
  {
   "cell_type": "markdown",
   "id": "b9ece72a",
   "metadata": {},
   "source": [
    "## Split"
   ]
  },
  {
   "cell_type": "code",
   "execution_count": 177,
   "id": "76590e3c",
   "metadata": {},
   "outputs": [],
   "source": [
    "selected_columns = [col for col in df_merged.columns if col.startswith('amount_') or col.startswith('clim_rel_amount_')\\\n",
    "                   or col.startswith('clim_adapt_') or col.startswith('clim_miti_')]\n",
    "filtered_df = df_merged[selected_columns]\n",
    "\n",
    "sums = filtered_df.sum()\n",
    "globe_df = filtered_df.append(sums, ignore_index=True)\n",
    "globe_df = globe_df.loc[[142]]\n",
    "\n",
    "\n",
    "years = range(2013, 2023)\n",
    "\n",
    "for year in years:\n",
    "    amount_col = f'amount_{year}'\n",
    "    clim_adapt_col = f'clim_adapt_amount_{year}'\n",
    "    clim_miti_col = f'clim_miti_amount_{year}'\n",
    "    non_clim_col = f'non_clim_amount_{year}'\n",
    "    globe_df[non_clim_col] = globe_df[amount_col] - (globe_df[clim_adapt_col] + globe_df[clim_miti_col])\n",
    "\n",
    "\n",
    "# Step 2: Melt the dataframe for plotting\n",
    "# Including both climatic and non-climatic amounts\n",
    "melted_df = globe_df.melt(value_vars=[f'clim_adapt_amount_{year}' for year in years] +\n",
    "                          [f'clim_miti_amount_{year}' for year in years] +\n",
    "                             [f'non_clim_amount_{year}' for year in years],\n",
    "                             var_name='Type_Year', value_name='Amount')\n",
    "\n",
    "\n",
    "# Split 'Type_Year' into separate 'Year' and 'Type' columns\n",
    "melted_df['Year'] = melted_df['Type_Year'].apply(lambda x: x.split('_')[-1])\n",
    "melted_df['Type'] = melted_df['Type_Year'].apply(\n",
    "    lambda x: 'Klimaanpassung Finanzierung' if 'clim_adapt_amount' in x \n",
    "    else ('Klimaschutz Finanzierung' if 'clim_miti_amount' in x \n",
    "    else 'Andere ODA')\n",
    ")\n",
    "melted_df['Amount'] = melted_df['Amounbt'] * 1_000_000\n",
    "\n",
    "\n"
   ]
  },
  {
   "cell_type": "code",
   "execution_count": 178,
   "id": "20868545",
   "metadata": {},
   "outputs": [],
   "source": [
    "melted_df.to_csv(\"../upload_data/split_globe.csv\")\n",
    "\n",
    "read_df = pd.read_csv('../upload_data/split_globe.csv')\n"
   ]
  },
  {
   "cell_type": "code",
   "execution_count": 179,
   "id": "e29277a2",
   "metadata": {},
   "outputs": [
    {
     "data": {
      "application/vnd.plotly.v1+json": {
       "config": {
        "plotlyServerURL": "https://plot.ly"
       },
       "data": [
        {
         "alignmentgroup": "True",
         "hovertemplate": "Type=Andere ODA<br>Jahr=%{x}<br>Finanzierungssumme ($)=%{y}<extra></extra>",
         "legendgroup": "Andere ODA",
         "marker": {
          "color": "orange",
          "pattern": {
           "shape": ""
          }
         },
         "name": "Andere ODA",
         "offsetgroup": "Andere ODA",
         "orientation": "v",
         "showlegend": true,
         "textposition": "auto",
         "type": "bar",
         "x": [
          2013,
          2014,
          2015,
          2016,
          2017,
          2018,
          2019,
          2020,
          2021,
          2022
         ],
         "xaxis": "x",
         "y": [
          4123669176.5000014,
          5125713580.5,
          4163770118.000001,
          5236282779.499999,
          5489601781.5,
          6108516452.5,
          6322369446,
          7730788500.000002,
          7621191955.5,
          8117990964.500001
         ],
         "yaxis": "y"
        },
        {
         "alignmentgroup": "True",
         "hovertemplate": "Type=Klimaschutz Finanzierung<br>Jahr=%{x}<br>Finanzierungssumme ($)=%{y}<extra></extra>",
         "legendgroup": "Klimaschutz Finanzierung",
         "marker": {
          "color": "green",
          "pattern": {
           "shape": ""
          }
         },
         "name": "Klimaschutz Finanzierung",
         "offsetgroup": "Klimaschutz Finanzierung",
         "orientation": "v",
         "showlegend": true,
         "textposition": "auto",
         "type": "bar",
         "x": [
          2013,
          2014,
          2015,
          2016,
          2017,
          2018,
          2019,
          2020,
          2021,
          2022
         ],
         "xaxis": "x",
         "y": [
          561335063,
          597542272.4999999,
          491370373.5,
          767379752.9999999,
          849431274.5000001,
          855800231,
          1067214184.5,
          1054035251.5,
          1376035352.5,
          1640856550.0000002
         ],
         "yaxis": "y"
        },
        {
         "alignmentgroup": "True",
         "hovertemplate": "Type=Klimaanpassung Finanzierung<br>Jahr=%{x}<br>Finanzierungssumme ($)=%{y}<extra></extra>",
         "legendgroup": "Klimaanpassung Finanzierung",
         "marker": {
          "color": "blue",
          "pattern": {
           "shape": ""
          }
         },
         "name": "Klimaanpassung Finanzierung",
         "offsetgroup": "Klimaanpassung Finanzierung",
         "orientation": "v",
         "showlegend": true,
         "textposition": "auto",
         "type": "bar",
         "x": [
          2013,
          2014,
          2015,
          2016,
          2017,
          2018,
          2019,
          2020,
          2021,
          2022
         ],
         "xaxis": "x",
         "y": [
          430780688.5,
          599863973,
          661362942.5,
          893345489.5,
          865653914,
          1048374899.5,
          1242999296.5,
          1509883530.5,
          1596187821,
          1693406647.5
         ],
         "yaxis": "y"
        }
       ],
       "layout": {
        "barmode": "relative",
        "legend": {
         "title": {
          "text": "Type"
         },
         "tracegroupgap": 0
        },
        "template": {
         "data": {
          "bar": [
           {
            "error_x": {
             "color": "#2a3f5f"
            },
            "error_y": {
             "color": "#2a3f5f"
            },
            "marker": {
             "line": {
              "color": "#E5ECF6",
              "width": 0.5
             },
             "pattern": {
              "fillmode": "overlay",
              "size": 10,
              "solidity": 0.2
             }
            },
            "type": "bar"
           }
          ],
          "barpolar": [
           {
            "marker": {
             "line": {
              "color": "#E5ECF6",
              "width": 0.5
             },
             "pattern": {
              "fillmode": "overlay",
              "size": 10,
              "solidity": 0.2
             }
            },
            "type": "barpolar"
           }
          ],
          "carpet": [
           {
            "aaxis": {
             "endlinecolor": "#2a3f5f",
             "gridcolor": "white",
             "linecolor": "white",
             "minorgridcolor": "white",
             "startlinecolor": "#2a3f5f"
            },
            "baxis": {
             "endlinecolor": "#2a3f5f",
             "gridcolor": "white",
             "linecolor": "white",
             "minorgridcolor": "white",
             "startlinecolor": "#2a3f5f"
            },
            "type": "carpet"
           }
          ],
          "choropleth": [
           {
            "colorbar": {
             "outlinewidth": 0,
             "ticks": ""
            },
            "type": "choropleth"
           }
          ],
          "contour": [
           {
            "colorbar": {
             "outlinewidth": 0,
             "ticks": ""
            },
            "colorscale": [
             [
              0,
              "#0d0887"
             ],
             [
              0.1111111111111111,
              "#46039f"
             ],
             [
              0.2222222222222222,
              "#7201a8"
             ],
             [
              0.3333333333333333,
              "#9c179e"
             ],
             [
              0.4444444444444444,
              "#bd3786"
             ],
             [
              0.5555555555555556,
              "#d8576b"
             ],
             [
              0.6666666666666666,
              "#ed7953"
             ],
             [
              0.7777777777777778,
              "#fb9f3a"
             ],
             [
              0.8888888888888888,
              "#fdca26"
             ],
             [
              1,
              "#f0f921"
             ]
            ],
            "type": "contour"
           }
          ],
          "contourcarpet": [
           {
            "colorbar": {
             "outlinewidth": 0,
             "ticks": ""
            },
            "type": "contourcarpet"
           }
          ],
          "heatmap": [
           {
            "colorbar": {
             "outlinewidth": 0,
             "ticks": ""
            },
            "colorscale": [
             [
              0,
              "#0d0887"
             ],
             [
              0.1111111111111111,
              "#46039f"
             ],
             [
              0.2222222222222222,
              "#7201a8"
             ],
             [
              0.3333333333333333,
              "#9c179e"
             ],
             [
              0.4444444444444444,
              "#bd3786"
             ],
             [
              0.5555555555555556,
              "#d8576b"
             ],
             [
              0.6666666666666666,
              "#ed7953"
             ],
             [
              0.7777777777777778,
              "#fb9f3a"
             ],
             [
              0.8888888888888888,
              "#fdca26"
             ],
             [
              1,
              "#f0f921"
             ]
            ],
            "type": "heatmap"
           }
          ],
          "heatmapgl": [
           {
            "colorbar": {
             "outlinewidth": 0,
             "ticks": ""
            },
            "colorscale": [
             [
              0,
              "#0d0887"
             ],
             [
              0.1111111111111111,
              "#46039f"
             ],
             [
              0.2222222222222222,
              "#7201a8"
             ],
             [
              0.3333333333333333,
              "#9c179e"
             ],
             [
              0.4444444444444444,
              "#bd3786"
             ],
             [
              0.5555555555555556,
              "#d8576b"
             ],
             [
              0.6666666666666666,
              "#ed7953"
             ],
             [
              0.7777777777777778,
              "#fb9f3a"
             ],
             [
              0.8888888888888888,
              "#fdca26"
             ],
             [
              1,
              "#f0f921"
             ]
            ],
            "type": "heatmapgl"
           }
          ],
          "histogram": [
           {
            "marker": {
             "pattern": {
              "fillmode": "overlay",
              "size": 10,
              "solidity": 0.2
             }
            },
            "type": "histogram"
           }
          ],
          "histogram2d": [
           {
            "colorbar": {
             "outlinewidth": 0,
             "ticks": ""
            },
            "colorscale": [
             [
              0,
              "#0d0887"
             ],
             [
              0.1111111111111111,
              "#46039f"
             ],
             [
              0.2222222222222222,
              "#7201a8"
             ],
             [
              0.3333333333333333,
              "#9c179e"
             ],
             [
              0.4444444444444444,
              "#bd3786"
             ],
             [
              0.5555555555555556,
              "#d8576b"
             ],
             [
              0.6666666666666666,
              "#ed7953"
             ],
             [
              0.7777777777777778,
              "#fb9f3a"
             ],
             [
              0.8888888888888888,
              "#fdca26"
             ],
             [
              1,
              "#f0f921"
             ]
            ],
            "type": "histogram2d"
           }
          ],
          "histogram2dcontour": [
           {
            "colorbar": {
             "outlinewidth": 0,
             "ticks": ""
            },
            "colorscale": [
             [
              0,
              "#0d0887"
             ],
             [
              0.1111111111111111,
              "#46039f"
             ],
             [
              0.2222222222222222,
              "#7201a8"
             ],
             [
              0.3333333333333333,
              "#9c179e"
             ],
             [
              0.4444444444444444,
              "#bd3786"
             ],
             [
              0.5555555555555556,
              "#d8576b"
             ],
             [
              0.6666666666666666,
              "#ed7953"
             ],
             [
              0.7777777777777778,
              "#fb9f3a"
             ],
             [
              0.8888888888888888,
              "#fdca26"
             ],
             [
              1,
              "#f0f921"
             ]
            ],
            "type": "histogram2dcontour"
           }
          ],
          "mesh3d": [
           {
            "colorbar": {
             "outlinewidth": 0,
             "ticks": ""
            },
            "type": "mesh3d"
           }
          ],
          "parcoords": [
           {
            "line": {
             "colorbar": {
              "outlinewidth": 0,
              "ticks": ""
             }
            },
            "type": "parcoords"
           }
          ],
          "pie": [
           {
            "automargin": true,
            "type": "pie"
           }
          ],
          "scatter": [
           {
            "fillpattern": {
             "fillmode": "overlay",
             "size": 10,
             "solidity": 0.2
            },
            "type": "scatter"
           }
          ],
          "scatter3d": [
           {
            "line": {
             "colorbar": {
              "outlinewidth": 0,
              "ticks": ""
             }
            },
            "marker": {
             "colorbar": {
              "outlinewidth": 0,
              "ticks": ""
             }
            },
            "type": "scatter3d"
           }
          ],
          "scattercarpet": [
           {
            "marker": {
             "colorbar": {
              "outlinewidth": 0,
              "ticks": ""
             }
            },
            "type": "scattercarpet"
           }
          ],
          "scattergeo": [
           {
            "marker": {
             "colorbar": {
              "outlinewidth": 0,
              "ticks": ""
             }
            },
            "type": "scattergeo"
           }
          ],
          "scattergl": [
           {
            "marker": {
             "colorbar": {
              "outlinewidth": 0,
              "ticks": ""
             }
            },
            "type": "scattergl"
           }
          ],
          "scattermapbox": [
           {
            "marker": {
             "colorbar": {
              "outlinewidth": 0,
              "ticks": ""
             }
            },
            "type": "scattermapbox"
           }
          ],
          "scatterpolar": [
           {
            "marker": {
             "colorbar": {
              "outlinewidth": 0,
              "ticks": ""
             }
            },
            "type": "scatterpolar"
           }
          ],
          "scatterpolargl": [
           {
            "marker": {
             "colorbar": {
              "outlinewidth": 0,
              "ticks": ""
             }
            },
            "type": "scatterpolargl"
           }
          ],
          "scatterternary": [
           {
            "marker": {
             "colorbar": {
              "outlinewidth": 0,
              "ticks": ""
             }
            },
            "type": "scatterternary"
           }
          ],
          "surface": [
           {
            "colorbar": {
             "outlinewidth": 0,
             "ticks": ""
            },
            "colorscale": [
             [
              0,
              "#0d0887"
             ],
             [
              0.1111111111111111,
              "#46039f"
             ],
             [
              0.2222222222222222,
              "#7201a8"
             ],
             [
              0.3333333333333333,
              "#9c179e"
             ],
             [
              0.4444444444444444,
              "#bd3786"
             ],
             [
              0.5555555555555556,
              "#d8576b"
             ],
             [
              0.6666666666666666,
              "#ed7953"
             ],
             [
              0.7777777777777778,
              "#fb9f3a"
             ],
             [
              0.8888888888888888,
              "#fdca26"
             ],
             [
              1,
              "#f0f921"
             ]
            ],
            "type": "surface"
           }
          ],
          "table": [
           {
            "cells": {
             "fill": {
              "color": "#EBF0F8"
             },
             "line": {
              "color": "white"
             }
            },
            "header": {
             "fill": {
              "color": "#C8D4E3"
             },
             "line": {
              "color": "white"
             }
            },
            "type": "table"
           }
          ]
         },
         "layout": {
          "annotationdefaults": {
           "arrowcolor": "#2a3f5f",
           "arrowhead": 0,
           "arrowwidth": 1
          },
          "autotypenumbers": "strict",
          "coloraxis": {
           "colorbar": {
            "outlinewidth": 0,
            "ticks": ""
           }
          },
          "colorscale": {
           "diverging": [
            [
             0,
             "#8e0152"
            ],
            [
             0.1,
             "#c51b7d"
            ],
            [
             0.2,
             "#de77ae"
            ],
            [
             0.3,
             "#f1b6da"
            ],
            [
             0.4,
             "#fde0ef"
            ],
            [
             0.5,
             "#f7f7f7"
            ],
            [
             0.6,
             "#e6f5d0"
            ],
            [
             0.7,
             "#b8e186"
            ],
            [
             0.8,
             "#7fbc41"
            ],
            [
             0.9,
             "#4d9221"
            ],
            [
             1,
             "#276419"
            ]
           ],
           "sequential": [
            [
             0,
             "#0d0887"
            ],
            [
             0.1111111111111111,
             "#46039f"
            ],
            [
             0.2222222222222222,
             "#7201a8"
            ],
            [
             0.3333333333333333,
             "#9c179e"
            ],
            [
             0.4444444444444444,
             "#bd3786"
            ],
            [
             0.5555555555555556,
             "#d8576b"
            ],
            [
             0.6666666666666666,
             "#ed7953"
            ],
            [
             0.7777777777777778,
             "#fb9f3a"
            ],
            [
             0.8888888888888888,
             "#fdca26"
            ],
            [
             1,
             "#f0f921"
            ]
           ],
           "sequentialminus": [
            [
             0,
             "#0d0887"
            ],
            [
             0.1111111111111111,
             "#46039f"
            ],
            [
             0.2222222222222222,
             "#7201a8"
            ],
            [
             0.3333333333333333,
             "#9c179e"
            ],
            [
             0.4444444444444444,
             "#bd3786"
            ],
            [
             0.5555555555555556,
             "#d8576b"
            ],
            [
             0.6666666666666666,
             "#ed7953"
            ],
            [
             0.7777777777777778,
             "#fb9f3a"
            ],
            [
             0.8888888888888888,
             "#fdca26"
            ],
            [
             1,
             "#f0f921"
            ]
           ]
          },
          "colorway": [
           "#636efa",
           "#EF553B",
           "#00cc96",
           "#ab63fa",
           "#FFA15A",
           "#19d3f3",
           "#FF6692",
           "#B6E880",
           "#FF97FF",
           "#FECB52"
          ],
          "font": {
           "color": "#2a3f5f"
          },
          "geo": {
           "bgcolor": "white",
           "lakecolor": "white",
           "landcolor": "#E5ECF6",
           "showlakes": true,
           "showland": true,
           "subunitcolor": "white"
          },
          "hoverlabel": {
           "align": "left"
          },
          "hovermode": "closest",
          "mapbox": {
           "style": "light"
          },
          "paper_bgcolor": "white",
          "plot_bgcolor": "#E5ECF6",
          "polar": {
           "angularaxis": {
            "gridcolor": "white",
            "linecolor": "white",
            "ticks": ""
           },
           "bgcolor": "#E5ECF6",
           "radialaxis": {
            "gridcolor": "white",
            "linecolor": "white",
            "ticks": ""
           }
          },
          "scene": {
           "xaxis": {
            "backgroundcolor": "#E5ECF6",
            "gridcolor": "white",
            "gridwidth": 2,
            "linecolor": "white",
            "showbackground": true,
            "ticks": "",
            "zerolinecolor": "white"
           },
           "yaxis": {
            "backgroundcolor": "#E5ECF6",
            "gridcolor": "white",
            "gridwidth": 2,
            "linecolor": "white",
            "showbackground": true,
            "ticks": "",
            "zerolinecolor": "white"
           },
           "zaxis": {
            "backgroundcolor": "#E5ECF6",
            "gridcolor": "white",
            "gridwidth": 2,
            "linecolor": "white",
            "showbackground": true,
            "ticks": "",
            "zerolinecolor": "white"
           }
          },
          "shapedefaults": {
           "line": {
            "color": "#2a3f5f"
           }
          },
          "ternary": {
           "aaxis": {
            "gridcolor": "white",
            "linecolor": "white",
            "ticks": ""
           },
           "baxis": {
            "gridcolor": "white",
            "linecolor": "white",
            "ticks": ""
           },
           "bgcolor": "#E5ECF6",
           "caxis": {
            "gridcolor": "white",
            "linecolor": "white",
            "ticks": ""
           }
          },
          "title": {
           "x": 0.05
          },
          "xaxis": {
           "automargin": true,
           "gridcolor": "white",
           "linecolor": "white",
           "ticks": "",
           "title": {
            "standoff": 15
           },
           "zerolinecolor": "white",
           "zerolinewidth": 2
          },
          "yaxis": {
           "automargin": true,
           "gridcolor": "white",
           "linecolor": "white",
           "ticks": "",
           "title": {
            "standoff": 15
           },
           "zerolinecolor": "white",
           "zerolinewidth": 2
          }
         }
        },
        "title": {
         "text": "Globale Finanzierungssummen",
         "x": 0.5
        },
        "xaxis": {
         "anchor": "y",
         "domain": [
          0,
          1
         ],
         "title": {
          "text": "Jahr"
         }
        },
        "yaxis": {
         "anchor": "x",
         "domain": [
          0,
          1
         ],
         "title": {
          "text": "Finanzierungssumme ($)"
         }
        }
       }
      },
      "text/html": [
       "<div>                            <div id=\"a6d0daa5-41a4-4a2f-b527-bf539999d4da\" class=\"plotly-graph-div\" style=\"height:525px; width:100%;\"></div>            <script type=\"text/javascript\">                require([\"plotly\"], function(Plotly) {                    window.PLOTLYENV=window.PLOTLYENV || {};                                    if (document.getElementById(\"a6d0daa5-41a4-4a2f-b527-bf539999d4da\")) {                    Plotly.newPlot(                        \"a6d0daa5-41a4-4a2f-b527-bf539999d4da\",                        [{\"alignmentgroup\":\"True\",\"hovertemplate\":\"Type=Andere ODA\\u003cbr\\u003eJahr=%{x}\\u003cbr\\u003eFinanzierungssumme ($)=%{y}\\u003cextra\\u003e\\u003c\\u002fextra\\u003e\",\"legendgroup\":\"Andere ODA\",\"marker\":{\"color\":\"orange\",\"pattern\":{\"shape\":\"\"}},\"name\":\"Andere ODA\",\"offsetgroup\":\"Andere ODA\",\"orientation\":\"v\",\"showlegend\":true,\"textposition\":\"auto\",\"x\":[2013,2014,2015,2016,2017,2018,2019,2020,2021,2022],\"xaxis\":\"x\",\"y\":[4123669176.5000014,5125713580.5,4163770118.000001,5236282779.499999,5489601781.5,6108516452.5,6322369446.0,7730788500.000002,7621191955.5,8117990964.500001],\"yaxis\":\"y\",\"type\":\"bar\"},{\"alignmentgroup\":\"True\",\"hovertemplate\":\"Type=Klimaschutz Finanzierung\\u003cbr\\u003eJahr=%{x}\\u003cbr\\u003eFinanzierungssumme ($)=%{y}\\u003cextra\\u003e\\u003c\\u002fextra\\u003e\",\"legendgroup\":\"Klimaschutz Finanzierung\",\"marker\":{\"color\":\"green\",\"pattern\":{\"shape\":\"\"}},\"name\":\"Klimaschutz Finanzierung\",\"offsetgroup\":\"Klimaschutz Finanzierung\",\"orientation\":\"v\",\"showlegend\":true,\"textposition\":\"auto\",\"x\":[2013,2014,2015,2016,2017,2018,2019,2020,2021,2022],\"xaxis\":\"x\",\"y\":[561335063.0,597542272.4999999,491370373.5,767379752.9999999,849431274.5000001,855800231.0,1067214184.5,1054035251.5,1376035352.5,1640856550.0000002],\"yaxis\":\"y\",\"type\":\"bar\"},{\"alignmentgroup\":\"True\",\"hovertemplate\":\"Type=Klimaanpassung Finanzierung\\u003cbr\\u003eJahr=%{x}\\u003cbr\\u003eFinanzierungssumme ($)=%{y}\\u003cextra\\u003e\\u003c\\u002fextra\\u003e\",\"legendgroup\":\"Klimaanpassung Finanzierung\",\"marker\":{\"color\":\"blue\",\"pattern\":{\"shape\":\"\"}},\"name\":\"Klimaanpassung Finanzierung\",\"offsetgroup\":\"Klimaanpassung Finanzierung\",\"orientation\":\"v\",\"showlegend\":true,\"textposition\":\"auto\",\"x\":[2013,2014,2015,2016,2017,2018,2019,2020,2021,2022],\"xaxis\":\"x\",\"y\":[430780688.5,599863973.0,661362942.5,893345489.5,865653914.0,1048374899.5,1242999296.5,1509883530.5,1596187821.0,1693406647.5],\"yaxis\":\"y\",\"type\":\"bar\"}],                        {\"template\":{\"data\":{\"histogram2dcontour\":[{\"type\":\"histogram2dcontour\",\"colorbar\":{\"outlinewidth\":0,\"ticks\":\"\"},\"colorscale\":[[0.0,\"#0d0887\"],[0.1111111111111111,\"#46039f\"],[0.2222222222222222,\"#7201a8\"],[0.3333333333333333,\"#9c179e\"],[0.4444444444444444,\"#bd3786\"],[0.5555555555555556,\"#d8576b\"],[0.6666666666666666,\"#ed7953\"],[0.7777777777777778,\"#fb9f3a\"],[0.8888888888888888,\"#fdca26\"],[1.0,\"#f0f921\"]]}],\"choropleth\":[{\"type\":\"choropleth\",\"colorbar\":{\"outlinewidth\":0,\"ticks\":\"\"}}],\"histogram2d\":[{\"type\":\"histogram2d\",\"colorbar\":{\"outlinewidth\":0,\"ticks\":\"\"},\"colorscale\":[[0.0,\"#0d0887\"],[0.1111111111111111,\"#46039f\"],[0.2222222222222222,\"#7201a8\"],[0.3333333333333333,\"#9c179e\"],[0.4444444444444444,\"#bd3786\"],[0.5555555555555556,\"#d8576b\"],[0.6666666666666666,\"#ed7953\"],[0.7777777777777778,\"#fb9f3a\"],[0.8888888888888888,\"#fdca26\"],[1.0,\"#f0f921\"]]}],\"heatmap\":[{\"type\":\"heatmap\",\"colorbar\":{\"outlinewidth\":0,\"ticks\":\"\"},\"colorscale\":[[0.0,\"#0d0887\"],[0.1111111111111111,\"#46039f\"],[0.2222222222222222,\"#7201a8\"],[0.3333333333333333,\"#9c179e\"],[0.4444444444444444,\"#bd3786\"],[0.5555555555555556,\"#d8576b\"],[0.6666666666666666,\"#ed7953\"],[0.7777777777777778,\"#fb9f3a\"],[0.8888888888888888,\"#fdca26\"],[1.0,\"#f0f921\"]]}],\"heatmapgl\":[{\"type\":\"heatmapgl\",\"colorbar\":{\"outlinewidth\":0,\"ticks\":\"\"},\"colorscale\":[[0.0,\"#0d0887\"],[0.1111111111111111,\"#46039f\"],[0.2222222222222222,\"#7201a8\"],[0.3333333333333333,\"#9c179e\"],[0.4444444444444444,\"#bd3786\"],[0.5555555555555556,\"#d8576b\"],[0.6666666666666666,\"#ed7953\"],[0.7777777777777778,\"#fb9f3a\"],[0.8888888888888888,\"#fdca26\"],[1.0,\"#f0f921\"]]}],\"contourcarpet\":[{\"type\":\"contourcarpet\",\"colorbar\":{\"outlinewidth\":0,\"ticks\":\"\"}}],\"contour\":[{\"type\":\"contour\",\"colorbar\":{\"outlinewidth\":0,\"ticks\":\"\"},\"colorscale\":[[0.0,\"#0d0887\"],[0.1111111111111111,\"#46039f\"],[0.2222222222222222,\"#7201a8\"],[0.3333333333333333,\"#9c179e\"],[0.4444444444444444,\"#bd3786\"],[0.5555555555555556,\"#d8576b\"],[0.6666666666666666,\"#ed7953\"],[0.7777777777777778,\"#fb9f3a\"],[0.8888888888888888,\"#fdca26\"],[1.0,\"#f0f921\"]]}],\"surface\":[{\"type\":\"surface\",\"colorbar\":{\"outlinewidth\":0,\"ticks\":\"\"},\"colorscale\":[[0.0,\"#0d0887\"],[0.1111111111111111,\"#46039f\"],[0.2222222222222222,\"#7201a8\"],[0.3333333333333333,\"#9c179e\"],[0.4444444444444444,\"#bd3786\"],[0.5555555555555556,\"#d8576b\"],[0.6666666666666666,\"#ed7953\"],[0.7777777777777778,\"#fb9f3a\"],[0.8888888888888888,\"#fdca26\"],[1.0,\"#f0f921\"]]}],\"mesh3d\":[{\"type\":\"mesh3d\",\"colorbar\":{\"outlinewidth\":0,\"ticks\":\"\"}}],\"scatter\":[{\"fillpattern\":{\"fillmode\":\"overlay\",\"size\":10,\"solidity\":0.2},\"type\":\"scatter\"}],\"parcoords\":[{\"type\":\"parcoords\",\"line\":{\"colorbar\":{\"outlinewidth\":0,\"ticks\":\"\"}}}],\"scatterpolargl\":[{\"type\":\"scatterpolargl\",\"marker\":{\"colorbar\":{\"outlinewidth\":0,\"ticks\":\"\"}}}],\"bar\":[{\"error_x\":{\"color\":\"#2a3f5f\"},\"error_y\":{\"color\":\"#2a3f5f\"},\"marker\":{\"line\":{\"color\":\"#E5ECF6\",\"width\":0.5},\"pattern\":{\"fillmode\":\"overlay\",\"size\":10,\"solidity\":0.2}},\"type\":\"bar\"}],\"scattergeo\":[{\"type\":\"scattergeo\",\"marker\":{\"colorbar\":{\"outlinewidth\":0,\"ticks\":\"\"}}}],\"scatterpolar\":[{\"type\":\"scatterpolar\",\"marker\":{\"colorbar\":{\"outlinewidth\":0,\"ticks\":\"\"}}}],\"histogram\":[{\"marker\":{\"pattern\":{\"fillmode\":\"overlay\",\"size\":10,\"solidity\":0.2}},\"type\":\"histogram\"}],\"scattergl\":[{\"type\":\"scattergl\",\"marker\":{\"colorbar\":{\"outlinewidth\":0,\"ticks\":\"\"}}}],\"scatter3d\":[{\"type\":\"scatter3d\",\"line\":{\"colorbar\":{\"outlinewidth\":0,\"ticks\":\"\"}},\"marker\":{\"colorbar\":{\"outlinewidth\":0,\"ticks\":\"\"}}}],\"scattermapbox\":[{\"type\":\"scattermapbox\",\"marker\":{\"colorbar\":{\"outlinewidth\":0,\"ticks\":\"\"}}}],\"scatterternary\":[{\"type\":\"scatterternary\",\"marker\":{\"colorbar\":{\"outlinewidth\":0,\"ticks\":\"\"}}}],\"scattercarpet\":[{\"type\":\"scattercarpet\",\"marker\":{\"colorbar\":{\"outlinewidth\":0,\"ticks\":\"\"}}}],\"carpet\":[{\"aaxis\":{\"endlinecolor\":\"#2a3f5f\",\"gridcolor\":\"white\",\"linecolor\":\"white\",\"minorgridcolor\":\"white\",\"startlinecolor\":\"#2a3f5f\"},\"baxis\":{\"endlinecolor\":\"#2a3f5f\",\"gridcolor\":\"white\",\"linecolor\":\"white\",\"minorgridcolor\":\"white\",\"startlinecolor\":\"#2a3f5f\"},\"type\":\"carpet\"}],\"table\":[{\"cells\":{\"fill\":{\"color\":\"#EBF0F8\"},\"line\":{\"color\":\"white\"}},\"header\":{\"fill\":{\"color\":\"#C8D4E3\"},\"line\":{\"color\":\"white\"}},\"type\":\"table\"}],\"barpolar\":[{\"marker\":{\"line\":{\"color\":\"#E5ECF6\",\"width\":0.5},\"pattern\":{\"fillmode\":\"overlay\",\"size\":10,\"solidity\":0.2}},\"type\":\"barpolar\"}],\"pie\":[{\"automargin\":true,\"type\":\"pie\"}]},\"layout\":{\"autotypenumbers\":\"strict\",\"colorway\":[\"#636efa\",\"#EF553B\",\"#00cc96\",\"#ab63fa\",\"#FFA15A\",\"#19d3f3\",\"#FF6692\",\"#B6E880\",\"#FF97FF\",\"#FECB52\"],\"font\":{\"color\":\"#2a3f5f\"},\"hovermode\":\"closest\",\"hoverlabel\":{\"align\":\"left\"},\"paper_bgcolor\":\"white\",\"plot_bgcolor\":\"#E5ECF6\",\"polar\":{\"bgcolor\":\"#E5ECF6\",\"angularaxis\":{\"gridcolor\":\"white\",\"linecolor\":\"white\",\"ticks\":\"\"},\"radialaxis\":{\"gridcolor\":\"white\",\"linecolor\":\"white\",\"ticks\":\"\"}},\"ternary\":{\"bgcolor\":\"#E5ECF6\",\"aaxis\":{\"gridcolor\":\"white\",\"linecolor\":\"white\",\"ticks\":\"\"},\"baxis\":{\"gridcolor\":\"white\",\"linecolor\":\"white\",\"ticks\":\"\"},\"caxis\":{\"gridcolor\":\"white\",\"linecolor\":\"white\",\"ticks\":\"\"}},\"coloraxis\":{\"colorbar\":{\"outlinewidth\":0,\"ticks\":\"\"}},\"colorscale\":{\"sequential\":[[0.0,\"#0d0887\"],[0.1111111111111111,\"#46039f\"],[0.2222222222222222,\"#7201a8\"],[0.3333333333333333,\"#9c179e\"],[0.4444444444444444,\"#bd3786\"],[0.5555555555555556,\"#d8576b\"],[0.6666666666666666,\"#ed7953\"],[0.7777777777777778,\"#fb9f3a\"],[0.8888888888888888,\"#fdca26\"],[1.0,\"#f0f921\"]],\"sequentialminus\":[[0.0,\"#0d0887\"],[0.1111111111111111,\"#46039f\"],[0.2222222222222222,\"#7201a8\"],[0.3333333333333333,\"#9c179e\"],[0.4444444444444444,\"#bd3786\"],[0.5555555555555556,\"#d8576b\"],[0.6666666666666666,\"#ed7953\"],[0.7777777777777778,\"#fb9f3a\"],[0.8888888888888888,\"#fdca26\"],[1.0,\"#f0f921\"]],\"diverging\":[[0,\"#8e0152\"],[0.1,\"#c51b7d\"],[0.2,\"#de77ae\"],[0.3,\"#f1b6da\"],[0.4,\"#fde0ef\"],[0.5,\"#f7f7f7\"],[0.6,\"#e6f5d0\"],[0.7,\"#b8e186\"],[0.8,\"#7fbc41\"],[0.9,\"#4d9221\"],[1,\"#276419\"]]},\"xaxis\":{\"gridcolor\":\"white\",\"linecolor\":\"white\",\"ticks\":\"\",\"title\":{\"standoff\":15},\"zerolinecolor\":\"white\",\"automargin\":true,\"zerolinewidth\":2},\"yaxis\":{\"gridcolor\":\"white\",\"linecolor\":\"white\",\"ticks\":\"\",\"title\":{\"standoff\":15},\"zerolinecolor\":\"white\",\"automargin\":true,\"zerolinewidth\":2},\"scene\":{\"xaxis\":{\"backgroundcolor\":\"#E5ECF6\",\"gridcolor\":\"white\",\"linecolor\":\"white\",\"showbackground\":true,\"ticks\":\"\",\"zerolinecolor\":\"white\",\"gridwidth\":2},\"yaxis\":{\"backgroundcolor\":\"#E5ECF6\",\"gridcolor\":\"white\",\"linecolor\":\"white\",\"showbackground\":true,\"ticks\":\"\",\"zerolinecolor\":\"white\",\"gridwidth\":2},\"zaxis\":{\"backgroundcolor\":\"#E5ECF6\",\"gridcolor\":\"white\",\"linecolor\":\"white\",\"showbackground\":true,\"ticks\":\"\",\"zerolinecolor\":\"white\",\"gridwidth\":2}},\"shapedefaults\":{\"line\":{\"color\":\"#2a3f5f\"}},\"annotationdefaults\":{\"arrowcolor\":\"#2a3f5f\",\"arrowhead\":0,\"arrowwidth\":1},\"geo\":{\"bgcolor\":\"white\",\"landcolor\":\"#E5ECF6\",\"subunitcolor\":\"white\",\"showland\":true,\"showlakes\":true,\"lakecolor\":\"white\"},\"title\":{\"x\":0.05},\"mapbox\":{\"style\":\"light\"}}},\"xaxis\":{\"anchor\":\"y\",\"domain\":[0.0,1.0],\"title\":{\"text\":\"Jahr\"}},\"yaxis\":{\"anchor\":\"x\",\"domain\":[0.0,1.0],\"title\":{\"text\":\"Finanzierungssumme ($)\"}},\"legend\":{\"title\":{\"text\":\"Type\"},\"tracegroupgap\":0},\"title\":{\"text\":\"Globale Finanzierungssummen\",\"x\":0.5},\"barmode\":\"relative\"},                        {\"responsive\": true}                    ).then(function(){\n",
       "                            \n",
       "var gd = document.getElementById('a6d0daa5-41a4-4a2f-b527-bf539999d4da');\n",
       "var x = new MutationObserver(function (mutations, observer) {{\n",
       "        var display = window.getComputedStyle(gd).display;\n",
       "        if (!display || display === 'none') {{\n",
       "            console.log([gd, 'removed!']);\n",
       "            Plotly.purge(gd);\n",
       "            observer.disconnect();\n",
       "        }}\n",
       "}});\n",
       "\n",
       "// Listen for the removal of the full notebook cells\n",
       "var notebookContainer = gd.closest('#notebook-container');\n",
       "if (notebookContainer) {{\n",
       "    x.observe(notebookContainer, {childList: true});\n",
       "}}\n",
       "\n",
       "// Listen for the clearing of the current output cell\n",
       "var outputEl = gd.closest('.output');\n",
       "if (outputEl) {{\n",
       "    x.observe(outputEl, {childList: true});\n",
       "}}\n",
       "\n",
       "                        })                };                });            </script>        </div>"
      ]
     },
     "metadata": {},
     "output_type": "display_data"
    }
   ],
   "source": [
    "split_df = pd.read_csv('../upload_data/split_globe.csv')\n",
    "\n",
    "\n",
    "fig = px.bar(split_df, x='Year', y='Amount', color='Type',\n",
    "            title='Globale Finanzierungssummen',\n",
    "            labels={'Amount': 'Finanzierungssumme ($)', 'Year': 'Jahr'},\n",
    "            category_orders={'Type': ['Andere ODA','Klimaschutz Finanzierung', 'Klimaanpassung Finanzierung']},\n",
    "            color_discrete_map={'Andere ODA': 'orange', 'Klimaschutz Finanzierung': 'green', 'Klimaanpassung Finanzierung': 'blue'}\n",
    "            )# This ensures consistent color ordering\n",
    "\n",
    "fig.update_layout(title_x=0.5)\n",
    "\n",
    "fig.show()"
   ]
  },
  {
   "cell_type": "markdown",
   "id": "b4230c3e",
   "metadata": {},
   "source": [
    "# Data Processing For Sector Breakdown"
   ]
  },
  {
   "cell_type": "code",
   "execution_count": 203,
   "id": "9c3bfd41",
   "metadata": {},
   "outputs": [],
   "source": [
    "def determine_value(row):\n",
    "    if 2.0 in row[['Climate Adaptation', 'Climate Mitigation']].values:\n",
    "        return 1\n",
    "    elif row['Climate Adaptation'] == 1.0 and row['Climate Mitigation'] == 1.0:\n",
    "        return 1\n",
    "    elif 1.0 in row[['Climate Adaptation', 'Climate Mitigation']].values:\n",
    "        return 0.5\n",
    "    else:\n",
    "        return 0\n",
    "\n",
    "# final_dict = dictionary_df.copy()    \n",
    "processed_grouped_dfs = []\n",
    "\n",
    "    \n",
    "for year, df in dictionary_df.items():\n",
    "    \n",
    "    # Data Cleaning\n",
    "    use_df = df[['Recipient Name', 'Amount', 'Climate Mitigation', 'Climate Adaptation', 'Sector']]\n",
    "    use_df['Climate Adaptation'] = use_df['Climate Adaptation'].fillna(0)\n",
    "    use_df['Climate Mitigation'] = use_df['Climate Mitigation'].fillna(0)\n",
    "    \n",
    "    # Applying analysis Rules\n",
    "    \n",
    "    use_df['clim_rel'] = use_df.apply(determine_value, axis=1)\n",
    "    \n",
    "    use_df['clim_rel_amount'] = use_df['Amount'] * use_df['clim_rel']\n",
    "    use_df['clim_adapt_amount'] = use_df['Amount'] * (use_df['Climate Adaptation'] / 2)\n",
    "    use_df['clim_miti_amount'] = use_df['Amount'] * (use_df['Climate Mitigation'] / 2)\n",
    "    \n",
    "    \n",
    "    # Grouping by Country and calculating\n",
    "    \n",
    "    grouped_df = use_df.groupby('Sector').sum()[['Amount','clim_rel_amount', 'clim_adapt_amount', 'clim_miti_amount']]\n",
    "    \n",
    "    grouped_df['non_miti_adapt'] =grouped_df['Amount'] - (grouped_df['clim_miti_amount'] + grouped_df['clim_adapt_amount'])\n",
    "    grouped_df['non_clim'] =grouped_df['Amount'] - grouped_df['clim_rel_amount']\n",
    "    \n",
    "        \n",
    "    grouped_df = grouped_df.rename(columns= {\n",
    "        'Amount': f\"amount_{year}\",\n",
    "        'non_miti_adapt': f\"non_miti_adapt_{year}\",\n",
    "        'clim_rel_amount': f\"clim_rel_amount_{year}\",\n",
    "        'non_clim': f\"non_clim_{year}\",\n",
    "        'clim_adapt_amount': f\"clim_adapt_amount_{year}\",\n",
    "        'clim_miti_amount': f\"clim_miti_amount_{year}\"\n",
    "    })\n",
    "    \n",
    "    # Merging DF\n",
    "    \n",
    "    processed_grouped_dfs.append(grouped_df)\n",
    "    \n",
    "\n"
   ]
  },
  {
   "cell_type": "code",
   "execution_count": 204,
   "id": "0c33f60f",
   "metadata": {},
   "outputs": [],
   "source": [
    "df_merged = reduce(lambda left, right: pd.merge(left, right, on='Sector', how='outer'), processed_grouped_dfs)\n"
   ]
  },
  {
   "cell_type": "code",
   "execution_count": 205,
   "id": "dacb113e",
   "metadata": {},
   "outputs": [],
   "source": [
    "df_merged.to_csv('../upload_data/sector_analysis.csv')\n",
    "\n",
    "df_merged = pd.read_csv('../upload_data/sector_analysis.csv')"
   ]
  },
  {
   "cell_type": "code",
   "execution_count": 218,
   "id": "c29b2c8c",
   "metadata": {},
   "outputs": [
    {
     "data": {
      "text/plain": [
       "[2013, 2014, 2015, 2016, 2017, 2018, 2019, 2020, 2021, 2022]"
      ]
     },
     "execution_count": 218,
     "metadata": {},
     "output_type": "execute_result"
    }
   ],
   "source": [
    "list(range(2013,2023))"
   ]
  },
  {
   "cell_type": "code",
   "execution_count": 206,
   "id": "da008c5e",
   "metadata": {},
   "outputs": [],
   "source": [
    "year = 2013"
   ]
  },
  {
   "cell_type": "code",
   "execution_count": 207,
   "id": "5124387c",
   "metadata": {},
   "outputs": [],
   "source": [
    "selected_year = [col for col in df_merged.columns if col.endswith(f'{year}')]\n",
    "selected_year.append('Sector')\n",
    "filtered_year_df = df_merged[selected_year]"
   ]
  },
  {
   "cell_type": "code",
   "execution_count": 209,
   "id": "f81bb980",
   "metadata": {},
   "outputs": [
    {
     "data": {
      "application/vnd.plotly.v1+json": {
       "config": {
        "plotlyServerURL": "https://plot.ly"
       },
       "data": [
        {
         "branchvalues": "total",
         "domain": {
          "x": [
           0,
           1
          ],
          "y": [
           0,
           1
          ]
         },
         "hovertemplate": "labels=%{label}<br>clim_rel_amount_2013=%{value}<br>parent=%{parent}<br>id=%{id}<extra></extra>",
         "ids": [
          "I.1.a. Education, Level Unspecified",
          "I.1.b. Basic Education",
          "I.1.c. Secondary Education",
          "I.1.d. Post-Secondary Education",
          "I.2.a. Health, General",
          "I.2.b. Basic Health",
          "I.2.c. Non-communicable diseases (NCDs)",
          "I.3. Population Policies/Programmes & Reproductive Health",
          "I.4. Water Supply & Sanitation",
          "I.5.a. Government & Civil Society-general",
          "I.5.b. Conflict, Peace & Security",
          "I.6. Other Social Infrastructure & Services",
          "II.1. Transport & Storage",
          "II.2. Communications",
          "II.3.a. Energy Policy",
          "II.3.b. Energy generation, renewable sources",
          "II.3.c. Energy generation, non-renewable sources",
          "II.3.d. Hybrid energy plants",
          "II.3.f. Energy distribution",
          "II.4. Banking & Financial Services",
          "II.5. Business & Other Services",
          "III.1.a. Agriculture",
          "III.1.b. Forestry",
          "III.1.c. Fishing",
          "III.2.a. Industry",
          "III.2.b. Mineral Resources & Mining",
          "III.2.c. Construction",
          "III.3.a. Trade Policies & Regulations",
          "III.3.b. Tourism",
          "IV.1. General Environment Protection",
          "IV.2. Other Multisector",
          "IX. Unallocated / Unspecified",
          "VI.1. General Budget Support",
          "VI.2. Development Food Assistance",
          "VII. Action Relating to Debt",
          "VIII.1. Emergency Response",
          "VIII.2. Reconstruction Relief & Rehabilitation",
          "VIII.3. Disaster Prevention & Preparedness"
         ],
         "labels": [
          "I.1.a. Education, Level Unspecified",
          "I.1.b. Basic Education",
          "I.1.c. Secondary Education",
          "I.1.d. Post-Secondary Education",
          "I.2.a. Health, General",
          "I.2.b. Basic Health",
          "I.2.c. Non-communicable diseases (NCDs)",
          "I.3. Population Policies/Programmes & Reproductive Health",
          "I.4. Water Supply & Sanitation",
          "I.5.a. Government & Civil Society-general",
          "I.5.b. Conflict, Peace & Security",
          "I.6. Other Social Infrastructure & Services",
          "II.1. Transport & Storage",
          "II.2. Communications",
          "II.3.a. Energy Policy",
          "II.3.b. Energy generation, renewable sources",
          "II.3.c. Energy generation, non-renewable sources",
          "II.3.d. Hybrid energy plants",
          "II.3.f. Energy distribution",
          "II.4. Banking & Financial Services",
          "II.5. Business & Other Services",
          "III.1.a. Agriculture",
          "III.1.b. Forestry",
          "III.1.c. Fishing",
          "III.2.a. Industry",
          "III.2.b. Mineral Resources & Mining",
          "III.2.c. Construction",
          "III.3.a. Trade Policies & Regulations",
          "III.3.b. Tourism",
          "IV.1. General Environment Protection",
          "IV.2. Other Multisector",
          "IX. Unallocated / Unspecified",
          "VI.1. General Budget Support",
          "VI.2. Development Food Assistance",
          "VII. Action Relating to Debt",
          "VIII.1. Emergency Response",
          "VIII.2. Reconstruction Relief & Rehabilitation",
          "VIII.3. Disaster Prevention & Preparedness"
         ],
         "name": "",
         "parents": [
          "",
          "",
          "",
          "",
          "",
          "",
          "",
          "",
          "",
          "",
          "",
          "",
          "",
          "",
          "",
          "",
          "",
          "",
          "",
          "",
          "",
          "",
          "",
          "",
          "",
          "",
          "",
          "",
          "",
          "",
          "",
          "",
          "",
          "",
          "",
          "",
          "",
          ""
         ],
         "type": "sunburst",
         "values": [
          6.281511999999999,
          0.1856635,
          4.4614175,
          10.3693145,
          0.0245835,
          0.7928945,
          0,
          1.0180425,
          102.046666,
          56.859578,
          0.46519,
          1.510633,
          13.5422885,
          0,
          40.2380215,
          113.3352445,
          8.0677155,
          0,
          38.826143,
          42.2025865,
          8.4534745,
          114.186722,
          48.708099,
          1.003533,
          0.0275885,
          0.16638,
          0,
          1.9673435,
          0.057246,
          252.9755155,
          95.604043,
          1.151959,
          4.1382785,
          6.1836235,
          0,
          2.5037705,
          4.367,
          10.3936805
         ]
        }
       ],
       "layout": {
        "legend": {
         "tracegroupgap": 0
        },
        "template": {
         "data": {
          "bar": [
           {
            "error_x": {
             "color": "#2a3f5f"
            },
            "error_y": {
             "color": "#2a3f5f"
            },
            "marker": {
             "line": {
              "color": "#E5ECF6",
              "width": 0.5
             },
             "pattern": {
              "fillmode": "overlay",
              "size": 10,
              "solidity": 0.2
             }
            },
            "type": "bar"
           }
          ],
          "barpolar": [
           {
            "marker": {
             "line": {
              "color": "#E5ECF6",
              "width": 0.5
             },
             "pattern": {
              "fillmode": "overlay",
              "size": 10,
              "solidity": 0.2
             }
            },
            "type": "barpolar"
           }
          ],
          "carpet": [
           {
            "aaxis": {
             "endlinecolor": "#2a3f5f",
             "gridcolor": "white",
             "linecolor": "white",
             "minorgridcolor": "white",
             "startlinecolor": "#2a3f5f"
            },
            "baxis": {
             "endlinecolor": "#2a3f5f",
             "gridcolor": "white",
             "linecolor": "white",
             "minorgridcolor": "white",
             "startlinecolor": "#2a3f5f"
            },
            "type": "carpet"
           }
          ],
          "choropleth": [
           {
            "colorbar": {
             "outlinewidth": 0,
             "ticks": ""
            },
            "type": "choropleth"
           }
          ],
          "contour": [
           {
            "colorbar": {
             "outlinewidth": 0,
             "ticks": ""
            },
            "colorscale": [
             [
              0,
              "#0d0887"
             ],
             [
              0.1111111111111111,
              "#46039f"
             ],
             [
              0.2222222222222222,
              "#7201a8"
             ],
             [
              0.3333333333333333,
              "#9c179e"
             ],
             [
              0.4444444444444444,
              "#bd3786"
             ],
             [
              0.5555555555555556,
              "#d8576b"
             ],
             [
              0.6666666666666666,
              "#ed7953"
             ],
             [
              0.7777777777777778,
              "#fb9f3a"
             ],
             [
              0.8888888888888888,
              "#fdca26"
             ],
             [
              1,
              "#f0f921"
             ]
            ],
            "type": "contour"
           }
          ],
          "contourcarpet": [
           {
            "colorbar": {
             "outlinewidth": 0,
             "ticks": ""
            },
            "type": "contourcarpet"
           }
          ],
          "heatmap": [
           {
            "colorbar": {
             "outlinewidth": 0,
             "ticks": ""
            },
            "colorscale": [
             [
              0,
              "#0d0887"
             ],
             [
              0.1111111111111111,
              "#46039f"
             ],
             [
              0.2222222222222222,
              "#7201a8"
             ],
             [
              0.3333333333333333,
              "#9c179e"
             ],
             [
              0.4444444444444444,
              "#bd3786"
             ],
             [
              0.5555555555555556,
              "#d8576b"
             ],
             [
              0.6666666666666666,
              "#ed7953"
             ],
             [
              0.7777777777777778,
              "#fb9f3a"
             ],
             [
              0.8888888888888888,
              "#fdca26"
             ],
             [
              1,
              "#f0f921"
             ]
            ],
            "type": "heatmap"
           }
          ],
          "heatmapgl": [
           {
            "colorbar": {
             "outlinewidth": 0,
             "ticks": ""
            },
            "colorscale": [
             [
              0,
              "#0d0887"
             ],
             [
              0.1111111111111111,
              "#46039f"
             ],
             [
              0.2222222222222222,
              "#7201a8"
             ],
             [
              0.3333333333333333,
              "#9c179e"
             ],
             [
              0.4444444444444444,
              "#bd3786"
             ],
             [
              0.5555555555555556,
              "#d8576b"
             ],
             [
              0.6666666666666666,
              "#ed7953"
             ],
             [
              0.7777777777777778,
              "#fb9f3a"
             ],
             [
              0.8888888888888888,
              "#fdca26"
             ],
             [
              1,
              "#f0f921"
             ]
            ],
            "type": "heatmapgl"
           }
          ],
          "histogram": [
           {
            "marker": {
             "pattern": {
              "fillmode": "overlay",
              "size": 10,
              "solidity": 0.2
             }
            },
            "type": "histogram"
           }
          ],
          "histogram2d": [
           {
            "colorbar": {
             "outlinewidth": 0,
             "ticks": ""
            },
            "colorscale": [
             [
              0,
              "#0d0887"
             ],
             [
              0.1111111111111111,
              "#46039f"
             ],
             [
              0.2222222222222222,
              "#7201a8"
             ],
             [
              0.3333333333333333,
              "#9c179e"
             ],
             [
              0.4444444444444444,
              "#bd3786"
             ],
             [
              0.5555555555555556,
              "#d8576b"
             ],
             [
              0.6666666666666666,
              "#ed7953"
             ],
             [
              0.7777777777777778,
              "#fb9f3a"
             ],
             [
              0.8888888888888888,
              "#fdca26"
             ],
             [
              1,
              "#f0f921"
             ]
            ],
            "type": "histogram2d"
           }
          ],
          "histogram2dcontour": [
           {
            "colorbar": {
             "outlinewidth": 0,
             "ticks": ""
            },
            "colorscale": [
             [
              0,
              "#0d0887"
             ],
             [
              0.1111111111111111,
              "#46039f"
             ],
             [
              0.2222222222222222,
              "#7201a8"
             ],
             [
              0.3333333333333333,
              "#9c179e"
             ],
             [
              0.4444444444444444,
              "#bd3786"
             ],
             [
              0.5555555555555556,
              "#d8576b"
             ],
             [
              0.6666666666666666,
              "#ed7953"
             ],
             [
              0.7777777777777778,
              "#fb9f3a"
             ],
             [
              0.8888888888888888,
              "#fdca26"
             ],
             [
              1,
              "#f0f921"
             ]
            ],
            "type": "histogram2dcontour"
           }
          ],
          "mesh3d": [
           {
            "colorbar": {
             "outlinewidth": 0,
             "ticks": ""
            },
            "type": "mesh3d"
           }
          ],
          "parcoords": [
           {
            "line": {
             "colorbar": {
              "outlinewidth": 0,
              "ticks": ""
             }
            },
            "type": "parcoords"
           }
          ],
          "pie": [
           {
            "automargin": true,
            "type": "pie"
           }
          ],
          "scatter": [
           {
            "fillpattern": {
             "fillmode": "overlay",
             "size": 10,
             "solidity": 0.2
            },
            "type": "scatter"
           }
          ],
          "scatter3d": [
           {
            "line": {
             "colorbar": {
              "outlinewidth": 0,
              "ticks": ""
             }
            },
            "marker": {
             "colorbar": {
              "outlinewidth": 0,
              "ticks": ""
             }
            },
            "type": "scatter3d"
           }
          ],
          "scattercarpet": [
           {
            "marker": {
             "colorbar": {
              "outlinewidth": 0,
              "ticks": ""
             }
            },
            "type": "scattercarpet"
           }
          ],
          "scattergeo": [
           {
            "marker": {
             "colorbar": {
              "outlinewidth": 0,
              "ticks": ""
             }
            },
            "type": "scattergeo"
           }
          ],
          "scattergl": [
           {
            "marker": {
             "colorbar": {
              "outlinewidth": 0,
              "ticks": ""
             }
            },
            "type": "scattergl"
           }
          ],
          "scattermapbox": [
           {
            "marker": {
             "colorbar": {
              "outlinewidth": 0,
              "ticks": ""
             }
            },
            "type": "scattermapbox"
           }
          ],
          "scatterpolar": [
           {
            "marker": {
             "colorbar": {
              "outlinewidth": 0,
              "ticks": ""
             }
            },
            "type": "scatterpolar"
           }
          ],
          "scatterpolargl": [
           {
            "marker": {
             "colorbar": {
              "outlinewidth": 0,
              "ticks": ""
             }
            },
            "type": "scatterpolargl"
           }
          ],
          "scatterternary": [
           {
            "marker": {
             "colorbar": {
              "outlinewidth": 0,
              "ticks": ""
             }
            },
            "type": "scatterternary"
           }
          ],
          "surface": [
           {
            "colorbar": {
             "outlinewidth": 0,
             "ticks": ""
            },
            "colorscale": [
             [
              0,
              "#0d0887"
             ],
             [
              0.1111111111111111,
              "#46039f"
             ],
             [
              0.2222222222222222,
              "#7201a8"
             ],
             [
              0.3333333333333333,
              "#9c179e"
             ],
             [
              0.4444444444444444,
              "#bd3786"
             ],
             [
              0.5555555555555556,
              "#d8576b"
             ],
             [
              0.6666666666666666,
              "#ed7953"
             ],
             [
              0.7777777777777778,
              "#fb9f3a"
             ],
             [
              0.8888888888888888,
              "#fdca26"
             ],
             [
              1,
              "#f0f921"
             ]
            ],
            "type": "surface"
           }
          ],
          "table": [
           {
            "cells": {
             "fill": {
              "color": "#EBF0F8"
             },
             "line": {
              "color": "white"
             }
            },
            "header": {
             "fill": {
              "color": "#C8D4E3"
             },
             "line": {
              "color": "white"
             }
            },
            "type": "table"
           }
          ]
         },
         "layout": {
          "annotationdefaults": {
           "arrowcolor": "#2a3f5f",
           "arrowhead": 0,
           "arrowwidth": 1
          },
          "autotypenumbers": "strict",
          "coloraxis": {
           "colorbar": {
            "outlinewidth": 0,
            "ticks": ""
           }
          },
          "colorscale": {
           "diverging": [
            [
             0,
             "#8e0152"
            ],
            [
             0.1,
             "#c51b7d"
            ],
            [
             0.2,
             "#de77ae"
            ],
            [
             0.3,
             "#f1b6da"
            ],
            [
             0.4,
             "#fde0ef"
            ],
            [
             0.5,
             "#f7f7f7"
            ],
            [
             0.6,
             "#e6f5d0"
            ],
            [
             0.7,
             "#b8e186"
            ],
            [
             0.8,
             "#7fbc41"
            ],
            [
             0.9,
             "#4d9221"
            ],
            [
             1,
             "#276419"
            ]
           ],
           "sequential": [
            [
             0,
             "#0d0887"
            ],
            [
             0.1111111111111111,
             "#46039f"
            ],
            [
             0.2222222222222222,
             "#7201a8"
            ],
            [
             0.3333333333333333,
             "#9c179e"
            ],
            [
             0.4444444444444444,
             "#bd3786"
            ],
            [
             0.5555555555555556,
             "#d8576b"
            ],
            [
             0.6666666666666666,
             "#ed7953"
            ],
            [
             0.7777777777777778,
             "#fb9f3a"
            ],
            [
             0.8888888888888888,
             "#fdca26"
            ],
            [
             1,
             "#f0f921"
            ]
           ],
           "sequentialminus": [
            [
             0,
             "#0d0887"
            ],
            [
             0.1111111111111111,
             "#46039f"
            ],
            [
             0.2222222222222222,
             "#7201a8"
            ],
            [
             0.3333333333333333,
             "#9c179e"
            ],
            [
             0.4444444444444444,
             "#bd3786"
            ],
            [
             0.5555555555555556,
             "#d8576b"
            ],
            [
             0.6666666666666666,
             "#ed7953"
            ],
            [
             0.7777777777777778,
             "#fb9f3a"
            ],
            [
             0.8888888888888888,
             "#fdca26"
            ],
            [
             1,
             "#f0f921"
            ]
           ]
          },
          "colorway": [
           "#636efa",
           "#EF553B",
           "#00cc96",
           "#ab63fa",
           "#FFA15A",
           "#19d3f3",
           "#FF6692",
           "#B6E880",
           "#FF97FF",
           "#FECB52"
          ],
          "font": {
           "color": "#2a3f5f"
          },
          "geo": {
           "bgcolor": "white",
           "lakecolor": "white",
           "landcolor": "#E5ECF6",
           "showlakes": true,
           "showland": true,
           "subunitcolor": "white"
          },
          "hoverlabel": {
           "align": "left"
          },
          "hovermode": "closest",
          "mapbox": {
           "style": "light"
          },
          "paper_bgcolor": "white",
          "plot_bgcolor": "#E5ECF6",
          "polar": {
           "angularaxis": {
            "gridcolor": "white",
            "linecolor": "white",
            "ticks": ""
           },
           "bgcolor": "#E5ECF6",
           "radialaxis": {
            "gridcolor": "white",
            "linecolor": "white",
            "ticks": ""
           }
          },
          "scene": {
           "xaxis": {
            "backgroundcolor": "#E5ECF6",
            "gridcolor": "white",
            "gridwidth": 2,
            "linecolor": "white",
            "showbackground": true,
            "ticks": "",
            "zerolinecolor": "white"
           },
           "yaxis": {
            "backgroundcolor": "#E5ECF6",
            "gridcolor": "white",
            "gridwidth": 2,
            "linecolor": "white",
            "showbackground": true,
            "ticks": "",
            "zerolinecolor": "white"
           },
           "zaxis": {
            "backgroundcolor": "#E5ECF6",
            "gridcolor": "white",
            "gridwidth": 2,
            "linecolor": "white",
            "showbackground": true,
            "ticks": "",
            "zerolinecolor": "white"
           }
          },
          "shapedefaults": {
           "line": {
            "color": "#2a3f5f"
           }
          },
          "ternary": {
           "aaxis": {
            "gridcolor": "white",
            "linecolor": "white",
            "ticks": ""
           },
           "baxis": {
            "gridcolor": "white",
            "linecolor": "white",
            "ticks": ""
           },
           "bgcolor": "#E5ECF6",
           "caxis": {
            "gridcolor": "white",
            "linecolor": "white",
            "ticks": ""
           }
          },
          "title": {
           "x": 0.05
          },
          "xaxis": {
           "automargin": true,
           "gridcolor": "white",
           "linecolor": "white",
           "ticks": "",
           "title": {
            "standoff": 15
           },
           "zerolinecolor": "white",
           "zerolinewidth": 2
          },
          "yaxis": {
           "automargin": true,
           "gridcolor": "white",
           "linecolor": "white",
           "ticks": "",
           "title": {
            "standoff": 15
           },
           "zerolinecolor": "white",
           "zerolinewidth": 2
          }
         }
        },
        "title": {
         "text": "Climate Related Amount by Sector"
        }
       }
      },
      "text/html": [
       "<div>                            <div id=\"f036f33a-8576-4f4a-88bd-c9db23ab1526\" class=\"plotly-graph-div\" style=\"height:525px; width:100%;\"></div>            <script type=\"text/javascript\">                require([\"plotly\"], function(Plotly) {                    window.PLOTLYENV=window.PLOTLYENV || {};                                    if (document.getElementById(\"f036f33a-8576-4f4a-88bd-c9db23ab1526\")) {                    Plotly.newPlot(                        \"f036f33a-8576-4f4a-88bd-c9db23ab1526\",                        [{\"branchvalues\":\"total\",\"domain\":{\"x\":[0.0,1.0],\"y\":[0.0,1.0]},\"hovertemplate\":\"labels=%{label}\\u003cbr\\u003eclim_rel_amount_2013=%{value}\\u003cbr\\u003eparent=%{parent}\\u003cbr\\u003eid=%{id}\\u003cextra\\u003e\\u003c\\u002fextra\\u003e\",\"ids\":[\"I.1.a. Education, Level Unspecified\",\"I.1.b. Basic Education\",\"I.1.c. Secondary Education\",\"I.1.d. Post-Secondary Education\",\"I.2.a. Health, General\",\"I.2.b. Basic Health\",\"I.2.c. Non-communicable diseases (NCDs)\",\"I.3. Population Policies\\u002fProgrammes & Reproductive Health\",\"I.4. Water Supply & Sanitation\",\"I.5.a. Government & Civil Society-general\",\"I.5.b. Conflict, Peace & Security\",\"I.6. Other Social Infrastructure & Services\",\"II.1. Transport & Storage\",\"II.2. Communications\",\"II.3.a. Energy Policy\",\"II.3.b. Energy generation, renewable sources\",\"II.3.c. Energy generation, non-renewable sources\",\"II.3.d. Hybrid energy plants\",\"II.3.f. Energy distribution\",\"II.4. Banking & Financial Services\",\"II.5. Business & Other Services\",\"III.1.a. Agriculture\",\"III.1.b. Forestry\",\"III.1.c. Fishing\",\"III.2.a. Industry\",\"III.2.b. Mineral Resources & Mining\",\"III.2.c. Construction\",\"III.3.a. Trade Policies & Regulations\",\"III.3.b. Tourism\",\"IV.1. General Environment Protection\",\"IV.2. Other Multisector\",\"IX. Unallocated \\u002f Unspecified\",\"VI.1. General Budget Support\",\"VI.2. Development Food Assistance\",\"VII. Action Relating to Debt\",\"VIII.1. Emergency Response\",\"VIII.2. Reconstruction Relief & Rehabilitation\",\"VIII.3. Disaster Prevention & Preparedness\"],\"labels\":[\"I.1.a. Education, Level Unspecified\",\"I.1.b. Basic Education\",\"I.1.c. Secondary Education\",\"I.1.d. Post-Secondary Education\",\"I.2.a. Health, General\",\"I.2.b. Basic Health\",\"I.2.c. Non-communicable diseases (NCDs)\",\"I.3. Population Policies\\u002fProgrammes & Reproductive Health\",\"I.4. Water Supply & Sanitation\",\"I.5.a. Government & Civil Society-general\",\"I.5.b. Conflict, Peace & Security\",\"I.6. Other Social Infrastructure & Services\",\"II.1. Transport & Storage\",\"II.2. Communications\",\"II.3.a. Energy Policy\",\"II.3.b. Energy generation, renewable sources\",\"II.3.c. Energy generation, non-renewable sources\",\"II.3.d. Hybrid energy plants\",\"II.3.f. Energy distribution\",\"II.4. Banking & Financial Services\",\"II.5. Business & Other Services\",\"III.1.a. Agriculture\",\"III.1.b. Forestry\",\"III.1.c. Fishing\",\"III.2.a. Industry\",\"III.2.b. Mineral Resources & Mining\",\"III.2.c. Construction\",\"III.3.a. Trade Policies & Regulations\",\"III.3.b. Tourism\",\"IV.1. General Environment Protection\",\"IV.2. Other Multisector\",\"IX. Unallocated \\u002f Unspecified\",\"VI.1. General Budget Support\",\"VI.2. Development Food Assistance\",\"VII. Action Relating to Debt\",\"VIII.1. Emergency Response\",\"VIII.2. Reconstruction Relief & Rehabilitation\",\"VIII.3. Disaster Prevention & Preparedness\"],\"name\":\"\",\"parents\":[\"\",\"\",\"\",\"\",\"\",\"\",\"\",\"\",\"\",\"\",\"\",\"\",\"\",\"\",\"\",\"\",\"\",\"\",\"\",\"\",\"\",\"\",\"\",\"\",\"\",\"\",\"\",\"\",\"\",\"\",\"\",\"\",\"\",\"\",\"\",\"\",\"\",\"\"],\"values\":[6.281511999999999,0.1856635,4.4614175,10.3693145,0.0245835,0.7928945,0.0,1.0180425,102.046666,56.859578,0.46519,1.510633,13.5422885,0.0,40.2380215,113.3352445,8.0677155,0.0,38.826143,42.2025865,8.4534745,114.186722,48.708099,1.003533,0.0275885,0.16638,0.0,1.9673435,0.057246,252.9755155,95.604043,1.151959,4.1382785,6.1836235,0.0,2.5037705,4.367,10.3936805],\"type\":\"sunburst\"}],                        {\"template\":{\"data\":{\"histogram2dcontour\":[{\"type\":\"histogram2dcontour\",\"colorbar\":{\"outlinewidth\":0,\"ticks\":\"\"},\"colorscale\":[[0.0,\"#0d0887\"],[0.1111111111111111,\"#46039f\"],[0.2222222222222222,\"#7201a8\"],[0.3333333333333333,\"#9c179e\"],[0.4444444444444444,\"#bd3786\"],[0.5555555555555556,\"#d8576b\"],[0.6666666666666666,\"#ed7953\"],[0.7777777777777778,\"#fb9f3a\"],[0.8888888888888888,\"#fdca26\"],[1.0,\"#f0f921\"]]}],\"choropleth\":[{\"type\":\"choropleth\",\"colorbar\":{\"outlinewidth\":0,\"ticks\":\"\"}}],\"histogram2d\":[{\"type\":\"histogram2d\",\"colorbar\":{\"outlinewidth\":0,\"ticks\":\"\"},\"colorscale\":[[0.0,\"#0d0887\"],[0.1111111111111111,\"#46039f\"],[0.2222222222222222,\"#7201a8\"],[0.3333333333333333,\"#9c179e\"],[0.4444444444444444,\"#bd3786\"],[0.5555555555555556,\"#d8576b\"],[0.6666666666666666,\"#ed7953\"],[0.7777777777777778,\"#fb9f3a\"],[0.8888888888888888,\"#fdca26\"],[1.0,\"#f0f921\"]]}],\"heatmap\":[{\"type\":\"heatmap\",\"colorbar\":{\"outlinewidth\":0,\"ticks\":\"\"},\"colorscale\":[[0.0,\"#0d0887\"],[0.1111111111111111,\"#46039f\"],[0.2222222222222222,\"#7201a8\"],[0.3333333333333333,\"#9c179e\"],[0.4444444444444444,\"#bd3786\"],[0.5555555555555556,\"#d8576b\"],[0.6666666666666666,\"#ed7953\"],[0.7777777777777778,\"#fb9f3a\"],[0.8888888888888888,\"#fdca26\"],[1.0,\"#f0f921\"]]}],\"heatmapgl\":[{\"type\":\"heatmapgl\",\"colorbar\":{\"outlinewidth\":0,\"ticks\":\"\"},\"colorscale\":[[0.0,\"#0d0887\"],[0.1111111111111111,\"#46039f\"],[0.2222222222222222,\"#7201a8\"],[0.3333333333333333,\"#9c179e\"],[0.4444444444444444,\"#bd3786\"],[0.5555555555555556,\"#d8576b\"],[0.6666666666666666,\"#ed7953\"],[0.7777777777777778,\"#fb9f3a\"],[0.8888888888888888,\"#fdca26\"],[1.0,\"#f0f921\"]]}],\"contourcarpet\":[{\"type\":\"contourcarpet\",\"colorbar\":{\"outlinewidth\":0,\"ticks\":\"\"}}],\"contour\":[{\"type\":\"contour\",\"colorbar\":{\"outlinewidth\":0,\"ticks\":\"\"},\"colorscale\":[[0.0,\"#0d0887\"],[0.1111111111111111,\"#46039f\"],[0.2222222222222222,\"#7201a8\"],[0.3333333333333333,\"#9c179e\"],[0.4444444444444444,\"#bd3786\"],[0.5555555555555556,\"#d8576b\"],[0.6666666666666666,\"#ed7953\"],[0.7777777777777778,\"#fb9f3a\"],[0.8888888888888888,\"#fdca26\"],[1.0,\"#f0f921\"]]}],\"surface\":[{\"type\":\"surface\",\"colorbar\":{\"outlinewidth\":0,\"ticks\":\"\"},\"colorscale\":[[0.0,\"#0d0887\"],[0.1111111111111111,\"#46039f\"],[0.2222222222222222,\"#7201a8\"],[0.3333333333333333,\"#9c179e\"],[0.4444444444444444,\"#bd3786\"],[0.5555555555555556,\"#d8576b\"],[0.6666666666666666,\"#ed7953\"],[0.7777777777777778,\"#fb9f3a\"],[0.8888888888888888,\"#fdca26\"],[1.0,\"#f0f921\"]]}],\"mesh3d\":[{\"type\":\"mesh3d\",\"colorbar\":{\"outlinewidth\":0,\"ticks\":\"\"}}],\"scatter\":[{\"fillpattern\":{\"fillmode\":\"overlay\",\"size\":10,\"solidity\":0.2},\"type\":\"scatter\"}],\"parcoords\":[{\"type\":\"parcoords\",\"line\":{\"colorbar\":{\"outlinewidth\":0,\"ticks\":\"\"}}}],\"scatterpolargl\":[{\"type\":\"scatterpolargl\",\"marker\":{\"colorbar\":{\"outlinewidth\":0,\"ticks\":\"\"}}}],\"bar\":[{\"error_x\":{\"color\":\"#2a3f5f\"},\"error_y\":{\"color\":\"#2a3f5f\"},\"marker\":{\"line\":{\"color\":\"#E5ECF6\",\"width\":0.5},\"pattern\":{\"fillmode\":\"overlay\",\"size\":10,\"solidity\":0.2}},\"type\":\"bar\"}],\"scattergeo\":[{\"type\":\"scattergeo\",\"marker\":{\"colorbar\":{\"outlinewidth\":0,\"ticks\":\"\"}}}],\"scatterpolar\":[{\"type\":\"scatterpolar\",\"marker\":{\"colorbar\":{\"outlinewidth\":0,\"ticks\":\"\"}}}],\"histogram\":[{\"marker\":{\"pattern\":{\"fillmode\":\"overlay\",\"size\":10,\"solidity\":0.2}},\"type\":\"histogram\"}],\"scattergl\":[{\"type\":\"scattergl\",\"marker\":{\"colorbar\":{\"outlinewidth\":0,\"ticks\":\"\"}}}],\"scatter3d\":[{\"type\":\"scatter3d\",\"line\":{\"colorbar\":{\"outlinewidth\":0,\"ticks\":\"\"}},\"marker\":{\"colorbar\":{\"outlinewidth\":0,\"ticks\":\"\"}}}],\"scattermapbox\":[{\"type\":\"scattermapbox\",\"marker\":{\"colorbar\":{\"outlinewidth\":0,\"ticks\":\"\"}}}],\"scatterternary\":[{\"type\":\"scatterternary\",\"marker\":{\"colorbar\":{\"outlinewidth\":0,\"ticks\":\"\"}}}],\"scattercarpet\":[{\"type\":\"scattercarpet\",\"marker\":{\"colorbar\":{\"outlinewidth\":0,\"ticks\":\"\"}}}],\"carpet\":[{\"aaxis\":{\"endlinecolor\":\"#2a3f5f\",\"gridcolor\":\"white\",\"linecolor\":\"white\",\"minorgridcolor\":\"white\",\"startlinecolor\":\"#2a3f5f\"},\"baxis\":{\"endlinecolor\":\"#2a3f5f\",\"gridcolor\":\"white\",\"linecolor\":\"white\",\"minorgridcolor\":\"white\",\"startlinecolor\":\"#2a3f5f\"},\"type\":\"carpet\"}],\"table\":[{\"cells\":{\"fill\":{\"color\":\"#EBF0F8\"},\"line\":{\"color\":\"white\"}},\"header\":{\"fill\":{\"color\":\"#C8D4E3\"},\"line\":{\"color\":\"white\"}},\"type\":\"table\"}],\"barpolar\":[{\"marker\":{\"line\":{\"color\":\"#E5ECF6\",\"width\":0.5},\"pattern\":{\"fillmode\":\"overlay\",\"size\":10,\"solidity\":0.2}},\"type\":\"barpolar\"}],\"pie\":[{\"automargin\":true,\"type\":\"pie\"}]},\"layout\":{\"autotypenumbers\":\"strict\",\"colorway\":[\"#636efa\",\"#EF553B\",\"#00cc96\",\"#ab63fa\",\"#FFA15A\",\"#19d3f3\",\"#FF6692\",\"#B6E880\",\"#FF97FF\",\"#FECB52\"],\"font\":{\"color\":\"#2a3f5f\"},\"hovermode\":\"closest\",\"hoverlabel\":{\"align\":\"left\"},\"paper_bgcolor\":\"white\",\"plot_bgcolor\":\"#E5ECF6\",\"polar\":{\"bgcolor\":\"#E5ECF6\",\"angularaxis\":{\"gridcolor\":\"white\",\"linecolor\":\"white\",\"ticks\":\"\"},\"radialaxis\":{\"gridcolor\":\"white\",\"linecolor\":\"white\",\"ticks\":\"\"}},\"ternary\":{\"bgcolor\":\"#E5ECF6\",\"aaxis\":{\"gridcolor\":\"white\",\"linecolor\":\"white\",\"ticks\":\"\"},\"baxis\":{\"gridcolor\":\"white\",\"linecolor\":\"white\",\"ticks\":\"\"},\"caxis\":{\"gridcolor\":\"white\",\"linecolor\":\"white\",\"ticks\":\"\"}},\"coloraxis\":{\"colorbar\":{\"outlinewidth\":0,\"ticks\":\"\"}},\"colorscale\":{\"sequential\":[[0.0,\"#0d0887\"],[0.1111111111111111,\"#46039f\"],[0.2222222222222222,\"#7201a8\"],[0.3333333333333333,\"#9c179e\"],[0.4444444444444444,\"#bd3786\"],[0.5555555555555556,\"#d8576b\"],[0.6666666666666666,\"#ed7953\"],[0.7777777777777778,\"#fb9f3a\"],[0.8888888888888888,\"#fdca26\"],[1.0,\"#f0f921\"]],\"sequentialminus\":[[0.0,\"#0d0887\"],[0.1111111111111111,\"#46039f\"],[0.2222222222222222,\"#7201a8\"],[0.3333333333333333,\"#9c179e\"],[0.4444444444444444,\"#bd3786\"],[0.5555555555555556,\"#d8576b\"],[0.6666666666666666,\"#ed7953\"],[0.7777777777777778,\"#fb9f3a\"],[0.8888888888888888,\"#fdca26\"],[1.0,\"#f0f921\"]],\"diverging\":[[0,\"#8e0152\"],[0.1,\"#c51b7d\"],[0.2,\"#de77ae\"],[0.3,\"#f1b6da\"],[0.4,\"#fde0ef\"],[0.5,\"#f7f7f7\"],[0.6,\"#e6f5d0\"],[0.7,\"#b8e186\"],[0.8,\"#7fbc41\"],[0.9,\"#4d9221\"],[1,\"#276419\"]]},\"xaxis\":{\"gridcolor\":\"white\",\"linecolor\":\"white\",\"ticks\":\"\",\"title\":{\"standoff\":15},\"zerolinecolor\":\"white\",\"automargin\":true,\"zerolinewidth\":2},\"yaxis\":{\"gridcolor\":\"white\",\"linecolor\":\"white\",\"ticks\":\"\",\"title\":{\"standoff\":15},\"zerolinecolor\":\"white\",\"automargin\":true,\"zerolinewidth\":2},\"scene\":{\"xaxis\":{\"backgroundcolor\":\"#E5ECF6\",\"gridcolor\":\"white\",\"linecolor\":\"white\",\"showbackground\":true,\"ticks\":\"\",\"zerolinecolor\":\"white\",\"gridwidth\":2},\"yaxis\":{\"backgroundcolor\":\"#E5ECF6\",\"gridcolor\":\"white\",\"linecolor\":\"white\",\"showbackground\":true,\"ticks\":\"\",\"zerolinecolor\":\"white\",\"gridwidth\":2},\"zaxis\":{\"backgroundcolor\":\"#E5ECF6\",\"gridcolor\":\"white\",\"linecolor\":\"white\",\"showbackground\":true,\"ticks\":\"\",\"zerolinecolor\":\"white\",\"gridwidth\":2}},\"shapedefaults\":{\"line\":{\"color\":\"#2a3f5f\"}},\"annotationdefaults\":{\"arrowcolor\":\"#2a3f5f\",\"arrowhead\":0,\"arrowwidth\":1},\"geo\":{\"bgcolor\":\"white\",\"landcolor\":\"#E5ECF6\",\"subunitcolor\":\"white\",\"showland\":true,\"showlakes\":true,\"lakecolor\":\"white\"},\"title\":{\"x\":0.05},\"mapbox\":{\"style\":\"light\"}}},\"legend\":{\"tracegroupgap\":0},\"title\":{\"text\":\"Climate Related Amount by Sector\"}},                        {\"responsive\": true}                    ).then(function(){\n",
       "                            \n",
       "var gd = document.getElementById('f036f33a-8576-4f4a-88bd-c9db23ab1526');\n",
       "var x = new MutationObserver(function (mutations, observer) {{\n",
       "        var display = window.getComputedStyle(gd).display;\n",
       "        if (!display || display === 'none') {{\n",
       "            console.log([gd, 'removed!']);\n",
       "            Plotly.purge(gd);\n",
       "            observer.disconnect();\n",
       "        }}\n",
       "}});\n",
       "\n",
       "// Listen for the removal of the full notebook cells\n",
       "var notebookContainer = gd.closest('#notebook-container');\n",
       "if (notebookContainer) {{\n",
       "    x.observe(notebookContainer, {childList: true});\n",
       "}}\n",
       "\n",
       "// Listen for the clearing of the current output cell\n",
       "var outputEl = gd.closest('.output');\n",
       "if (outputEl) {{\n",
       "    x.observe(outputEl, {childList: true});\n",
       "}}\n",
       "\n",
       "                        })                };                });            </script>        </div>"
      ]
     },
     "metadata": {},
     "output_type": "display_data"
    }
   ],
   "source": [
    "clim_rel_fig = px.sunburst(filtered_year_df, path=['Sector'], values=f'clim_rel_amount_{year}', title='Climate Related Amount by Sector')\n",
    "clim_rel_fig.show()\n"
   ]
  },
  {
   "cell_type": "code",
   "execution_count": 213,
   "id": "2ec2233f",
   "metadata": {},
   "outputs": [
    {
     "data": {
      "application/vnd.plotly.v1+json": {
       "config": {
        "plotlyServerURL": "https://plot.ly"
       },
       "data": [
        {
         "branchvalues": "total",
         "domain": {
          "x": [
           0,
           1
          ],
          "y": [
           0,
           1
          ]
         },
         "hovertemplate": "labels=%{label}<br>non_clim_2013=%{value}<br>parent=%{parent}<br>id=%{id}<extra></extra>",
         "ids": [
          "I.1.a. Education, Level Unspecified",
          "I.1.b. Basic Education",
          "I.1.c. Secondary Education",
          "I.1.d. Post-Secondary Education",
          "I.2.a. Health, General",
          "I.2.b. Basic Health",
          "I.2.c. Non-communicable diseases (NCDs)",
          "I.3. Population Policies/Programmes & Reproductive Health",
          "I.4. Water Supply & Sanitation",
          "I.5.a. Government & Civil Society-general",
          "I.5.b. Conflict, Peace & Security",
          "I.6. Other Social Infrastructure & Services",
          "II.1. Transport & Storage",
          "II.2. Communications",
          "II.3.a. Energy Policy",
          "II.3.b. Energy generation, renewable sources",
          "II.3.c. Energy generation, non-renewable sources",
          "II.3.d. Hybrid energy plants",
          "II.3.f. Energy distribution",
          "II.4. Banking & Financial Services",
          "II.5. Business & Other Services",
          "III.1.a. Agriculture",
          "III.1.b. Forestry",
          "III.1.c. Fishing",
          "III.2.a. Industry",
          "III.2.b. Mineral Resources & Mining",
          "III.2.c. Construction",
          "III.3.a. Trade Policies & Regulations",
          "III.3.b. Tourism",
          "IV.1. General Environment Protection",
          "IV.2. Other Multisector",
          "IX. Unallocated / Unspecified",
          "VI.1. General Budget Support",
          "VI.2. Development Food Assistance",
          "VII. Action Relating to Debt",
          "VIII.1. Emergency Response",
          "VIII.2. Reconstruction Relief & Rehabilitation",
          "VIII.3. Disaster Prevention & Preparedness"
         ],
         "labels": [
          "I.1.a. Education, Level Unspecified",
          "I.1.b. Basic Education",
          "I.1.c. Secondary Education",
          "I.1.d. Post-Secondary Education",
          "I.2.a. Health, General",
          "I.2.b. Basic Health",
          "I.2.c. Non-communicable diseases (NCDs)",
          "I.3. Population Policies/Programmes & Reproductive Health",
          "I.4. Water Supply & Sanitation",
          "I.5.a. Government & Civil Society-general",
          "I.5.b. Conflict, Peace & Security",
          "I.6. Other Social Infrastructure & Services",
          "II.1. Transport & Storage",
          "II.2. Communications",
          "II.3.a. Energy Policy",
          "II.3.b. Energy generation, renewable sources",
          "II.3.c. Energy generation, non-renewable sources",
          "II.3.d. Hybrid energy plants",
          "II.3.f. Energy distribution",
          "II.4. Banking & Financial Services",
          "II.5. Business & Other Services",
          "III.1.a. Agriculture",
          "III.1.b. Forestry",
          "III.1.c. Fishing",
          "III.2.a. Industry",
          "III.2.b. Mineral Resources & Mining",
          "III.2.c. Construction",
          "III.3.a. Trade Policies & Regulations",
          "III.3.b. Tourism",
          "IV.1. General Environment Protection",
          "IV.2. Other Multisector",
          "IX. Unallocated / Unspecified",
          "VI.1. General Budget Support",
          "VI.2. Development Food Assistance",
          "VII. Action Relating to Debt",
          "VIII.1. Emergency Response",
          "VIII.2. Reconstruction Relief & Rehabilitation",
          "VIII.3. Disaster Prevention & Preparedness"
         ],
         "name": "",
         "parents": [
          "",
          "",
          "",
          "",
          "",
          "",
          "",
          "",
          "",
          "",
          "",
          "",
          "",
          "",
          "",
          "",
          "",
          "",
          "",
          "",
          "",
          "",
          "",
          "",
          "",
          "",
          "",
          "",
          "",
          "",
          "",
          "",
          "",
          "",
          "",
          "",
          "",
          ""
         ],
         "type": "sunburst",
         "values": [
          80.964237,
          153.7451265,
          106.1091845,
          94.5701015,
          95.7408235,
          157.3408545,
          0,
          153.9768035,
          238.942447,
          734.4406710000001,
          131.834365,
          85.947635,
          37.9987165,
          4.195314,
          16.2426155,
          12.9801535,
          0.3817225000000004,
          0,
          27.769301,
          191.3774045,
          210.5727545,
          103.481246,
          6.7917170000000056,
          2.341897,
          26.0140135,
          12.148223,
          0.81783,
          30.985515500000005,
          3.561647,
          52.88984350000001,
          492.14562300000006,
          83.819689,
          34.0154155,
          49.4990115,
          549.4739390000001,
          89.53702750000001,
          36.465671,
          14.550636499999998
         ]
        }
       ],
       "layout": {
        "legend": {
         "tracegroupgap": 0
        },
        "template": {
         "data": {
          "bar": [
           {
            "error_x": {
             "color": "#2a3f5f"
            },
            "error_y": {
             "color": "#2a3f5f"
            },
            "marker": {
             "line": {
              "color": "#E5ECF6",
              "width": 0.5
             },
             "pattern": {
              "fillmode": "overlay",
              "size": 10,
              "solidity": 0.2
             }
            },
            "type": "bar"
           }
          ],
          "barpolar": [
           {
            "marker": {
             "line": {
              "color": "#E5ECF6",
              "width": 0.5
             },
             "pattern": {
              "fillmode": "overlay",
              "size": 10,
              "solidity": 0.2
             }
            },
            "type": "barpolar"
           }
          ],
          "carpet": [
           {
            "aaxis": {
             "endlinecolor": "#2a3f5f",
             "gridcolor": "white",
             "linecolor": "white",
             "minorgridcolor": "white",
             "startlinecolor": "#2a3f5f"
            },
            "baxis": {
             "endlinecolor": "#2a3f5f",
             "gridcolor": "white",
             "linecolor": "white",
             "minorgridcolor": "white",
             "startlinecolor": "#2a3f5f"
            },
            "type": "carpet"
           }
          ],
          "choropleth": [
           {
            "colorbar": {
             "outlinewidth": 0,
             "ticks": ""
            },
            "type": "choropleth"
           }
          ],
          "contour": [
           {
            "colorbar": {
             "outlinewidth": 0,
             "ticks": ""
            },
            "colorscale": [
             [
              0,
              "#0d0887"
             ],
             [
              0.1111111111111111,
              "#46039f"
             ],
             [
              0.2222222222222222,
              "#7201a8"
             ],
             [
              0.3333333333333333,
              "#9c179e"
             ],
             [
              0.4444444444444444,
              "#bd3786"
             ],
             [
              0.5555555555555556,
              "#d8576b"
             ],
             [
              0.6666666666666666,
              "#ed7953"
             ],
             [
              0.7777777777777778,
              "#fb9f3a"
             ],
             [
              0.8888888888888888,
              "#fdca26"
             ],
             [
              1,
              "#f0f921"
             ]
            ],
            "type": "contour"
           }
          ],
          "contourcarpet": [
           {
            "colorbar": {
             "outlinewidth": 0,
             "ticks": ""
            },
            "type": "contourcarpet"
           }
          ],
          "heatmap": [
           {
            "colorbar": {
             "outlinewidth": 0,
             "ticks": ""
            },
            "colorscale": [
             [
              0,
              "#0d0887"
             ],
             [
              0.1111111111111111,
              "#46039f"
             ],
             [
              0.2222222222222222,
              "#7201a8"
             ],
             [
              0.3333333333333333,
              "#9c179e"
             ],
             [
              0.4444444444444444,
              "#bd3786"
             ],
             [
              0.5555555555555556,
              "#d8576b"
             ],
             [
              0.6666666666666666,
              "#ed7953"
             ],
             [
              0.7777777777777778,
              "#fb9f3a"
             ],
             [
              0.8888888888888888,
              "#fdca26"
             ],
             [
              1,
              "#f0f921"
             ]
            ],
            "type": "heatmap"
           }
          ],
          "heatmapgl": [
           {
            "colorbar": {
             "outlinewidth": 0,
             "ticks": ""
            },
            "colorscale": [
             [
              0,
              "#0d0887"
             ],
             [
              0.1111111111111111,
              "#46039f"
             ],
             [
              0.2222222222222222,
              "#7201a8"
             ],
             [
              0.3333333333333333,
              "#9c179e"
             ],
             [
              0.4444444444444444,
              "#bd3786"
             ],
             [
              0.5555555555555556,
              "#d8576b"
             ],
             [
              0.6666666666666666,
              "#ed7953"
             ],
             [
              0.7777777777777778,
              "#fb9f3a"
             ],
             [
              0.8888888888888888,
              "#fdca26"
             ],
             [
              1,
              "#f0f921"
             ]
            ],
            "type": "heatmapgl"
           }
          ],
          "histogram": [
           {
            "marker": {
             "pattern": {
              "fillmode": "overlay",
              "size": 10,
              "solidity": 0.2
             }
            },
            "type": "histogram"
           }
          ],
          "histogram2d": [
           {
            "colorbar": {
             "outlinewidth": 0,
             "ticks": ""
            },
            "colorscale": [
             [
              0,
              "#0d0887"
             ],
             [
              0.1111111111111111,
              "#46039f"
             ],
             [
              0.2222222222222222,
              "#7201a8"
             ],
             [
              0.3333333333333333,
              "#9c179e"
             ],
             [
              0.4444444444444444,
              "#bd3786"
             ],
             [
              0.5555555555555556,
              "#d8576b"
             ],
             [
              0.6666666666666666,
              "#ed7953"
             ],
             [
              0.7777777777777778,
              "#fb9f3a"
             ],
             [
              0.8888888888888888,
              "#fdca26"
             ],
             [
              1,
              "#f0f921"
             ]
            ],
            "type": "histogram2d"
           }
          ],
          "histogram2dcontour": [
           {
            "colorbar": {
             "outlinewidth": 0,
             "ticks": ""
            },
            "colorscale": [
             [
              0,
              "#0d0887"
             ],
             [
              0.1111111111111111,
              "#46039f"
             ],
             [
              0.2222222222222222,
              "#7201a8"
             ],
             [
              0.3333333333333333,
              "#9c179e"
             ],
             [
              0.4444444444444444,
              "#bd3786"
             ],
             [
              0.5555555555555556,
              "#d8576b"
             ],
             [
              0.6666666666666666,
              "#ed7953"
             ],
             [
              0.7777777777777778,
              "#fb9f3a"
             ],
             [
              0.8888888888888888,
              "#fdca26"
             ],
             [
              1,
              "#f0f921"
             ]
            ],
            "type": "histogram2dcontour"
           }
          ],
          "mesh3d": [
           {
            "colorbar": {
             "outlinewidth": 0,
             "ticks": ""
            },
            "type": "mesh3d"
           }
          ],
          "parcoords": [
           {
            "line": {
             "colorbar": {
              "outlinewidth": 0,
              "ticks": ""
             }
            },
            "type": "parcoords"
           }
          ],
          "pie": [
           {
            "automargin": true,
            "type": "pie"
           }
          ],
          "scatter": [
           {
            "fillpattern": {
             "fillmode": "overlay",
             "size": 10,
             "solidity": 0.2
            },
            "type": "scatter"
           }
          ],
          "scatter3d": [
           {
            "line": {
             "colorbar": {
              "outlinewidth": 0,
              "ticks": ""
             }
            },
            "marker": {
             "colorbar": {
              "outlinewidth": 0,
              "ticks": ""
             }
            },
            "type": "scatter3d"
           }
          ],
          "scattercarpet": [
           {
            "marker": {
             "colorbar": {
              "outlinewidth": 0,
              "ticks": ""
             }
            },
            "type": "scattercarpet"
           }
          ],
          "scattergeo": [
           {
            "marker": {
             "colorbar": {
              "outlinewidth": 0,
              "ticks": ""
             }
            },
            "type": "scattergeo"
           }
          ],
          "scattergl": [
           {
            "marker": {
             "colorbar": {
              "outlinewidth": 0,
              "ticks": ""
             }
            },
            "type": "scattergl"
           }
          ],
          "scattermapbox": [
           {
            "marker": {
             "colorbar": {
              "outlinewidth": 0,
              "ticks": ""
             }
            },
            "type": "scattermapbox"
           }
          ],
          "scatterpolar": [
           {
            "marker": {
             "colorbar": {
              "outlinewidth": 0,
              "ticks": ""
             }
            },
            "type": "scatterpolar"
           }
          ],
          "scatterpolargl": [
           {
            "marker": {
             "colorbar": {
              "outlinewidth": 0,
              "ticks": ""
             }
            },
            "type": "scatterpolargl"
           }
          ],
          "scatterternary": [
           {
            "marker": {
             "colorbar": {
              "outlinewidth": 0,
              "ticks": ""
             }
            },
            "type": "scatterternary"
           }
          ],
          "surface": [
           {
            "colorbar": {
             "outlinewidth": 0,
             "ticks": ""
            },
            "colorscale": [
             [
              0,
              "#0d0887"
             ],
             [
              0.1111111111111111,
              "#46039f"
             ],
             [
              0.2222222222222222,
              "#7201a8"
             ],
             [
              0.3333333333333333,
              "#9c179e"
             ],
             [
              0.4444444444444444,
              "#bd3786"
             ],
             [
              0.5555555555555556,
              "#d8576b"
             ],
             [
              0.6666666666666666,
              "#ed7953"
             ],
             [
              0.7777777777777778,
              "#fb9f3a"
             ],
             [
              0.8888888888888888,
              "#fdca26"
             ],
             [
              1,
              "#f0f921"
             ]
            ],
            "type": "surface"
           }
          ],
          "table": [
           {
            "cells": {
             "fill": {
              "color": "#EBF0F8"
             },
             "line": {
              "color": "white"
             }
            },
            "header": {
             "fill": {
              "color": "#C8D4E3"
             },
             "line": {
              "color": "white"
             }
            },
            "type": "table"
           }
          ]
         },
         "layout": {
          "annotationdefaults": {
           "arrowcolor": "#2a3f5f",
           "arrowhead": 0,
           "arrowwidth": 1
          },
          "autotypenumbers": "strict",
          "coloraxis": {
           "colorbar": {
            "outlinewidth": 0,
            "ticks": ""
           }
          },
          "colorscale": {
           "diverging": [
            [
             0,
             "#8e0152"
            ],
            [
             0.1,
             "#c51b7d"
            ],
            [
             0.2,
             "#de77ae"
            ],
            [
             0.3,
             "#f1b6da"
            ],
            [
             0.4,
             "#fde0ef"
            ],
            [
             0.5,
             "#f7f7f7"
            ],
            [
             0.6,
             "#e6f5d0"
            ],
            [
             0.7,
             "#b8e186"
            ],
            [
             0.8,
             "#7fbc41"
            ],
            [
             0.9,
             "#4d9221"
            ],
            [
             1,
             "#276419"
            ]
           ],
           "sequential": [
            [
             0,
             "#0d0887"
            ],
            [
             0.1111111111111111,
             "#46039f"
            ],
            [
             0.2222222222222222,
             "#7201a8"
            ],
            [
             0.3333333333333333,
             "#9c179e"
            ],
            [
             0.4444444444444444,
             "#bd3786"
            ],
            [
             0.5555555555555556,
             "#d8576b"
            ],
            [
             0.6666666666666666,
             "#ed7953"
            ],
            [
             0.7777777777777778,
             "#fb9f3a"
            ],
            [
             0.8888888888888888,
             "#fdca26"
            ],
            [
             1,
             "#f0f921"
            ]
           ],
           "sequentialminus": [
            [
             0,
             "#0d0887"
            ],
            [
             0.1111111111111111,
             "#46039f"
            ],
            [
             0.2222222222222222,
             "#7201a8"
            ],
            [
             0.3333333333333333,
             "#9c179e"
            ],
            [
             0.4444444444444444,
             "#bd3786"
            ],
            [
             0.5555555555555556,
             "#d8576b"
            ],
            [
             0.6666666666666666,
             "#ed7953"
            ],
            [
             0.7777777777777778,
             "#fb9f3a"
            ],
            [
             0.8888888888888888,
             "#fdca26"
            ],
            [
             1,
             "#f0f921"
            ]
           ]
          },
          "colorway": [
           "#636efa",
           "#EF553B",
           "#00cc96",
           "#ab63fa",
           "#FFA15A",
           "#19d3f3",
           "#FF6692",
           "#B6E880",
           "#FF97FF",
           "#FECB52"
          ],
          "font": {
           "color": "#2a3f5f"
          },
          "geo": {
           "bgcolor": "white",
           "lakecolor": "white",
           "landcolor": "#E5ECF6",
           "showlakes": true,
           "showland": true,
           "subunitcolor": "white"
          },
          "hoverlabel": {
           "align": "left"
          },
          "hovermode": "closest",
          "mapbox": {
           "style": "light"
          },
          "paper_bgcolor": "white",
          "plot_bgcolor": "#E5ECF6",
          "polar": {
           "angularaxis": {
            "gridcolor": "white",
            "linecolor": "white",
            "ticks": ""
           },
           "bgcolor": "#E5ECF6",
           "radialaxis": {
            "gridcolor": "white",
            "linecolor": "white",
            "ticks": ""
           }
          },
          "scene": {
           "xaxis": {
            "backgroundcolor": "#E5ECF6",
            "gridcolor": "white",
            "gridwidth": 2,
            "linecolor": "white",
            "showbackground": true,
            "ticks": "",
            "zerolinecolor": "white"
           },
           "yaxis": {
            "backgroundcolor": "#E5ECF6",
            "gridcolor": "white",
            "gridwidth": 2,
            "linecolor": "white",
            "showbackground": true,
            "ticks": "",
            "zerolinecolor": "white"
           },
           "zaxis": {
            "backgroundcolor": "#E5ECF6",
            "gridcolor": "white",
            "gridwidth": 2,
            "linecolor": "white",
            "showbackground": true,
            "ticks": "",
            "zerolinecolor": "white"
           }
          },
          "shapedefaults": {
           "line": {
            "color": "#2a3f5f"
           }
          },
          "ternary": {
           "aaxis": {
            "gridcolor": "white",
            "linecolor": "white",
            "ticks": ""
           },
           "baxis": {
            "gridcolor": "white",
            "linecolor": "white",
            "ticks": ""
           },
           "bgcolor": "#E5ECF6",
           "caxis": {
            "gridcolor": "white",
            "linecolor": "white",
            "ticks": ""
           }
          },
          "title": {
           "x": 0.05
          },
          "xaxis": {
           "automargin": true,
           "gridcolor": "white",
           "linecolor": "white",
           "ticks": "",
           "title": {
            "standoff": 15
           },
           "zerolinecolor": "white",
           "zerolinewidth": 2
          },
          "yaxis": {
           "automargin": true,
           "gridcolor": "white",
           "linecolor": "white",
           "ticks": "",
           "title": {
            "standoff": 15
           },
           "zerolinecolor": "white",
           "zerolinewidth": 2
          }
         }
        },
        "title": {
         "text": "Non Climate Related Amount by Sector"
        }
       }
      },
      "text/html": [
       "<div>                            <div id=\"e80909a7-60f6-4d00-9bd4-a002083554b7\" class=\"plotly-graph-div\" style=\"height:525px; width:100%;\"></div>            <script type=\"text/javascript\">                require([\"plotly\"], function(Plotly) {                    window.PLOTLYENV=window.PLOTLYENV || {};                                    if (document.getElementById(\"e80909a7-60f6-4d00-9bd4-a002083554b7\")) {                    Plotly.newPlot(                        \"e80909a7-60f6-4d00-9bd4-a002083554b7\",                        [{\"branchvalues\":\"total\",\"domain\":{\"x\":[0.0,1.0],\"y\":[0.0,1.0]},\"hovertemplate\":\"labels=%{label}\\u003cbr\\u003enon_clim_2013=%{value}\\u003cbr\\u003eparent=%{parent}\\u003cbr\\u003eid=%{id}\\u003cextra\\u003e\\u003c\\u002fextra\\u003e\",\"ids\":[\"I.1.a. Education, Level Unspecified\",\"I.1.b. Basic Education\",\"I.1.c. Secondary Education\",\"I.1.d. Post-Secondary Education\",\"I.2.a. Health, General\",\"I.2.b. Basic Health\",\"I.2.c. Non-communicable diseases (NCDs)\",\"I.3. Population Policies\\u002fProgrammes & Reproductive Health\",\"I.4. Water Supply & Sanitation\",\"I.5.a. Government & Civil Society-general\",\"I.5.b. Conflict, Peace & Security\",\"I.6. Other Social Infrastructure & Services\",\"II.1. Transport & Storage\",\"II.2. Communications\",\"II.3.a. Energy Policy\",\"II.3.b. Energy generation, renewable sources\",\"II.3.c. Energy generation, non-renewable sources\",\"II.3.d. Hybrid energy plants\",\"II.3.f. Energy distribution\",\"II.4. Banking & Financial Services\",\"II.5. Business & Other Services\",\"III.1.a. Agriculture\",\"III.1.b. Forestry\",\"III.1.c. Fishing\",\"III.2.a. Industry\",\"III.2.b. Mineral Resources & Mining\",\"III.2.c. Construction\",\"III.3.a. Trade Policies & Regulations\",\"III.3.b. Tourism\",\"IV.1. General Environment Protection\",\"IV.2. Other Multisector\",\"IX. Unallocated \\u002f Unspecified\",\"VI.1. General Budget Support\",\"VI.2. Development Food Assistance\",\"VII. Action Relating to Debt\",\"VIII.1. Emergency Response\",\"VIII.2. Reconstruction Relief & Rehabilitation\",\"VIII.3. Disaster Prevention & Preparedness\"],\"labels\":[\"I.1.a. Education, Level Unspecified\",\"I.1.b. Basic Education\",\"I.1.c. Secondary Education\",\"I.1.d. Post-Secondary Education\",\"I.2.a. Health, General\",\"I.2.b. Basic Health\",\"I.2.c. Non-communicable diseases (NCDs)\",\"I.3. Population Policies\\u002fProgrammes & Reproductive Health\",\"I.4. Water Supply & Sanitation\",\"I.5.a. Government & Civil Society-general\",\"I.5.b. Conflict, Peace & Security\",\"I.6. Other Social Infrastructure & Services\",\"II.1. Transport & Storage\",\"II.2. Communications\",\"II.3.a. Energy Policy\",\"II.3.b. Energy generation, renewable sources\",\"II.3.c. Energy generation, non-renewable sources\",\"II.3.d. Hybrid energy plants\",\"II.3.f. Energy distribution\",\"II.4. Banking & Financial Services\",\"II.5. Business & Other Services\",\"III.1.a. Agriculture\",\"III.1.b. Forestry\",\"III.1.c. Fishing\",\"III.2.a. Industry\",\"III.2.b. Mineral Resources & Mining\",\"III.2.c. Construction\",\"III.3.a. Trade Policies & Regulations\",\"III.3.b. Tourism\",\"IV.1. General Environment Protection\",\"IV.2. Other Multisector\",\"IX. Unallocated \\u002f Unspecified\",\"VI.1. General Budget Support\",\"VI.2. Development Food Assistance\",\"VII. Action Relating to Debt\",\"VIII.1. Emergency Response\",\"VIII.2. Reconstruction Relief & Rehabilitation\",\"VIII.3. Disaster Prevention & Preparedness\"],\"name\":\"\",\"parents\":[\"\",\"\",\"\",\"\",\"\",\"\",\"\",\"\",\"\",\"\",\"\",\"\",\"\",\"\",\"\",\"\",\"\",\"\",\"\",\"\",\"\",\"\",\"\",\"\",\"\",\"\",\"\",\"\",\"\",\"\",\"\",\"\",\"\",\"\",\"\",\"\",\"\",\"\"],\"values\":[80.964237,153.7451265,106.1091845,94.5701015,95.7408235,157.3408545,0.0,153.9768035,238.942447,734.4406710000001,131.834365,85.947635,37.9987165,4.195314,16.2426155,12.9801535,0.3817225000000004,0.0,27.769301,191.3774045,210.5727545,103.481246,6.7917170000000056,2.341897,26.0140135,12.148223,0.81783,30.985515500000005,3.561647,52.88984350000001,492.14562300000006,83.819689,34.0154155,49.4990115,549.4739390000001,89.53702750000001,36.465671,14.550636499999998],\"type\":\"sunburst\"}],                        {\"template\":{\"data\":{\"histogram2dcontour\":[{\"type\":\"histogram2dcontour\",\"colorbar\":{\"outlinewidth\":0,\"ticks\":\"\"},\"colorscale\":[[0.0,\"#0d0887\"],[0.1111111111111111,\"#46039f\"],[0.2222222222222222,\"#7201a8\"],[0.3333333333333333,\"#9c179e\"],[0.4444444444444444,\"#bd3786\"],[0.5555555555555556,\"#d8576b\"],[0.6666666666666666,\"#ed7953\"],[0.7777777777777778,\"#fb9f3a\"],[0.8888888888888888,\"#fdca26\"],[1.0,\"#f0f921\"]]}],\"choropleth\":[{\"type\":\"choropleth\",\"colorbar\":{\"outlinewidth\":0,\"ticks\":\"\"}}],\"histogram2d\":[{\"type\":\"histogram2d\",\"colorbar\":{\"outlinewidth\":0,\"ticks\":\"\"},\"colorscale\":[[0.0,\"#0d0887\"],[0.1111111111111111,\"#46039f\"],[0.2222222222222222,\"#7201a8\"],[0.3333333333333333,\"#9c179e\"],[0.4444444444444444,\"#bd3786\"],[0.5555555555555556,\"#d8576b\"],[0.6666666666666666,\"#ed7953\"],[0.7777777777777778,\"#fb9f3a\"],[0.8888888888888888,\"#fdca26\"],[1.0,\"#f0f921\"]]}],\"heatmap\":[{\"type\":\"heatmap\",\"colorbar\":{\"outlinewidth\":0,\"ticks\":\"\"},\"colorscale\":[[0.0,\"#0d0887\"],[0.1111111111111111,\"#46039f\"],[0.2222222222222222,\"#7201a8\"],[0.3333333333333333,\"#9c179e\"],[0.4444444444444444,\"#bd3786\"],[0.5555555555555556,\"#d8576b\"],[0.6666666666666666,\"#ed7953\"],[0.7777777777777778,\"#fb9f3a\"],[0.8888888888888888,\"#fdca26\"],[1.0,\"#f0f921\"]]}],\"heatmapgl\":[{\"type\":\"heatmapgl\",\"colorbar\":{\"outlinewidth\":0,\"ticks\":\"\"},\"colorscale\":[[0.0,\"#0d0887\"],[0.1111111111111111,\"#46039f\"],[0.2222222222222222,\"#7201a8\"],[0.3333333333333333,\"#9c179e\"],[0.4444444444444444,\"#bd3786\"],[0.5555555555555556,\"#d8576b\"],[0.6666666666666666,\"#ed7953\"],[0.7777777777777778,\"#fb9f3a\"],[0.8888888888888888,\"#fdca26\"],[1.0,\"#f0f921\"]]}],\"contourcarpet\":[{\"type\":\"contourcarpet\",\"colorbar\":{\"outlinewidth\":0,\"ticks\":\"\"}}],\"contour\":[{\"type\":\"contour\",\"colorbar\":{\"outlinewidth\":0,\"ticks\":\"\"},\"colorscale\":[[0.0,\"#0d0887\"],[0.1111111111111111,\"#46039f\"],[0.2222222222222222,\"#7201a8\"],[0.3333333333333333,\"#9c179e\"],[0.4444444444444444,\"#bd3786\"],[0.5555555555555556,\"#d8576b\"],[0.6666666666666666,\"#ed7953\"],[0.7777777777777778,\"#fb9f3a\"],[0.8888888888888888,\"#fdca26\"],[1.0,\"#f0f921\"]]}],\"surface\":[{\"type\":\"surface\",\"colorbar\":{\"outlinewidth\":0,\"ticks\":\"\"},\"colorscale\":[[0.0,\"#0d0887\"],[0.1111111111111111,\"#46039f\"],[0.2222222222222222,\"#7201a8\"],[0.3333333333333333,\"#9c179e\"],[0.4444444444444444,\"#bd3786\"],[0.5555555555555556,\"#d8576b\"],[0.6666666666666666,\"#ed7953\"],[0.7777777777777778,\"#fb9f3a\"],[0.8888888888888888,\"#fdca26\"],[1.0,\"#f0f921\"]]}],\"mesh3d\":[{\"type\":\"mesh3d\",\"colorbar\":{\"outlinewidth\":0,\"ticks\":\"\"}}],\"scatter\":[{\"fillpattern\":{\"fillmode\":\"overlay\",\"size\":10,\"solidity\":0.2},\"type\":\"scatter\"}],\"parcoords\":[{\"type\":\"parcoords\",\"line\":{\"colorbar\":{\"outlinewidth\":0,\"ticks\":\"\"}}}],\"scatterpolargl\":[{\"type\":\"scatterpolargl\",\"marker\":{\"colorbar\":{\"outlinewidth\":0,\"ticks\":\"\"}}}],\"bar\":[{\"error_x\":{\"color\":\"#2a3f5f\"},\"error_y\":{\"color\":\"#2a3f5f\"},\"marker\":{\"line\":{\"color\":\"#E5ECF6\",\"width\":0.5},\"pattern\":{\"fillmode\":\"overlay\",\"size\":10,\"solidity\":0.2}},\"type\":\"bar\"}],\"scattergeo\":[{\"type\":\"scattergeo\",\"marker\":{\"colorbar\":{\"outlinewidth\":0,\"ticks\":\"\"}}}],\"scatterpolar\":[{\"type\":\"scatterpolar\",\"marker\":{\"colorbar\":{\"outlinewidth\":0,\"ticks\":\"\"}}}],\"histogram\":[{\"marker\":{\"pattern\":{\"fillmode\":\"overlay\",\"size\":10,\"solidity\":0.2}},\"type\":\"histogram\"}],\"scattergl\":[{\"type\":\"scattergl\",\"marker\":{\"colorbar\":{\"outlinewidth\":0,\"ticks\":\"\"}}}],\"scatter3d\":[{\"type\":\"scatter3d\",\"line\":{\"colorbar\":{\"outlinewidth\":0,\"ticks\":\"\"}},\"marker\":{\"colorbar\":{\"outlinewidth\":0,\"ticks\":\"\"}}}],\"scattermapbox\":[{\"type\":\"scattermapbox\",\"marker\":{\"colorbar\":{\"outlinewidth\":0,\"ticks\":\"\"}}}],\"scatterternary\":[{\"type\":\"scatterternary\",\"marker\":{\"colorbar\":{\"outlinewidth\":0,\"ticks\":\"\"}}}],\"scattercarpet\":[{\"type\":\"scattercarpet\",\"marker\":{\"colorbar\":{\"outlinewidth\":0,\"ticks\":\"\"}}}],\"carpet\":[{\"aaxis\":{\"endlinecolor\":\"#2a3f5f\",\"gridcolor\":\"white\",\"linecolor\":\"white\",\"minorgridcolor\":\"white\",\"startlinecolor\":\"#2a3f5f\"},\"baxis\":{\"endlinecolor\":\"#2a3f5f\",\"gridcolor\":\"white\",\"linecolor\":\"white\",\"minorgridcolor\":\"white\",\"startlinecolor\":\"#2a3f5f\"},\"type\":\"carpet\"}],\"table\":[{\"cells\":{\"fill\":{\"color\":\"#EBF0F8\"},\"line\":{\"color\":\"white\"}},\"header\":{\"fill\":{\"color\":\"#C8D4E3\"},\"line\":{\"color\":\"white\"}},\"type\":\"table\"}],\"barpolar\":[{\"marker\":{\"line\":{\"color\":\"#E5ECF6\",\"width\":0.5},\"pattern\":{\"fillmode\":\"overlay\",\"size\":10,\"solidity\":0.2}},\"type\":\"barpolar\"}],\"pie\":[{\"automargin\":true,\"type\":\"pie\"}]},\"layout\":{\"autotypenumbers\":\"strict\",\"colorway\":[\"#636efa\",\"#EF553B\",\"#00cc96\",\"#ab63fa\",\"#FFA15A\",\"#19d3f3\",\"#FF6692\",\"#B6E880\",\"#FF97FF\",\"#FECB52\"],\"font\":{\"color\":\"#2a3f5f\"},\"hovermode\":\"closest\",\"hoverlabel\":{\"align\":\"left\"},\"paper_bgcolor\":\"white\",\"plot_bgcolor\":\"#E5ECF6\",\"polar\":{\"bgcolor\":\"#E5ECF6\",\"angularaxis\":{\"gridcolor\":\"white\",\"linecolor\":\"white\",\"ticks\":\"\"},\"radialaxis\":{\"gridcolor\":\"white\",\"linecolor\":\"white\",\"ticks\":\"\"}},\"ternary\":{\"bgcolor\":\"#E5ECF6\",\"aaxis\":{\"gridcolor\":\"white\",\"linecolor\":\"white\",\"ticks\":\"\"},\"baxis\":{\"gridcolor\":\"white\",\"linecolor\":\"white\",\"ticks\":\"\"},\"caxis\":{\"gridcolor\":\"white\",\"linecolor\":\"white\",\"ticks\":\"\"}},\"coloraxis\":{\"colorbar\":{\"outlinewidth\":0,\"ticks\":\"\"}},\"colorscale\":{\"sequential\":[[0.0,\"#0d0887\"],[0.1111111111111111,\"#46039f\"],[0.2222222222222222,\"#7201a8\"],[0.3333333333333333,\"#9c179e\"],[0.4444444444444444,\"#bd3786\"],[0.5555555555555556,\"#d8576b\"],[0.6666666666666666,\"#ed7953\"],[0.7777777777777778,\"#fb9f3a\"],[0.8888888888888888,\"#fdca26\"],[1.0,\"#f0f921\"]],\"sequentialminus\":[[0.0,\"#0d0887\"],[0.1111111111111111,\"#46039f\"],[0.2222222222222222,\"#7201a8\"],[0.3333333333333333,\"#9c179e\"],[0.4444444444444444,\"#bd3786\"],[0.5555555555555556,\"#d8576b\"],[0.6666666666666666,\"#ed7953\"],[0.7777777777777778,\"#fb9f3a\"],[0.8888888888888888,\"#fdca26\"],[1.0,\"#f0f921\"]],\"diverging\":[[0,\"#8e0152\"],[0.1,\"#c51b7d\"],[0.2,\"#de77ae\"],[0.3,\"#f1b6da\"],[0.4,\"#fde0ef\"],[0.5,\"#f7f7f7\"],[0.6,\"#e6f5d0\"],[0.7,\"#b8e186\"],[0.8,\"#7fbc41\"],[0.9,\"#4d9221\"],[1,\"#276419\"]]},\"xaxis\":{\"gridcolor\":\"white\",\"linecolor\":\"white\",\"ticks\":\"\",\"title\":{\"standoff\":15},\"zerolinecolor\":\"white\",\"automargin\":true,\"zerolinewidth\":2},\"yaxis\":{\"gridcolor\":\"white\",\"linecolor\":\"white\",\"ticks\":\"\",\"title\":{\"standoff\":15},\"zerolinecolor\":\"white\",\"automargin\":true,\"zerolinewidth\":2},\"scene\":{\"xaxis\":{\"backgroundcolor\":\"#E5ECF6\",\"gridcolor\":\"white\",\"linecolor\":\"white\",\"showbackground\":true,\"ticks\":\"\",\"zerolinecolor\":\"white\",\"gridwidth\":2},\"yaxis\":{\"backgroundcolor\":\"#E5ECF6\",\"gridcolor\":\"white\",\"linecolor\":\"white\",\"showbackground\":true,\"ticks\":\"\",\"zerolinecolor\":\"white\",\"gridwidth\":2},\"zaxis\":{\"backgroundcolor\":\"#E5ECF6\",\"gridcolor\":\"white\",\"linecolor\":\"white\",\"showbackground\":true,\"ticks\":\"\",\"zerolinecolor\":\"white\",\"gridwidth\":2}},\"shapedefaults\":{\"line\":{\"color\":\"#2a3f5f\"}},\"annotationdefaults\":{\"arrowcolor\":\"#2a3f5f\",\"arrowhead\":0,\"arrowwidth\":1},\"geo\":{\"bgcolor\":\"white\",\"landcolor\":\"#E5ECF6\",\"subunitcolor\":\"white\",\"showland\":true,\"showlakes\":true,\"lakecolor\":\"white\"},\"title\":{\"x\":0.05},\"mapbox\":{\"style\":\"light\"}}},\"legend\":{\"tracegroupgap\":0},\"title\":{\"text\":\"Non Climate Related Amount by Sector\"}},                        {\"responsive\": true}                    ).then(function(){\n",
       "                            \n",
       "var gd = document.getElementById('e80909a7-60f6-4d00-9bd4-a002083554b7');\n",
       "var x = new MutationObserver(function (mutations, observer) {{\n",
       "        var display = window.getComputedStyle(gd).display;\n",
       "        if (!display || display === 'none') {{\n",
       "            console.log([gd, 'removed!']);\n",
       "            Plotly.purge(gd);\n",
       "            observer.disconnect();\n",
       "        }}\n",
       "}});\n",
       "\n",
       "// Listen for the removal of the full notebook cells\n",
       "var notebookContainer = gd.closest('#notebook-container');\n",
       "if (notebookContainer) {{\n",
       "    x.observe(notebookContainer, {childList: true});\n",
       "}}\n",
       "\n",
       "// Listen for the clearing of the current output cell\n",
       "var outputEl = gd.closest('.output');\n",
       "if (outputEl) {{\n",
       "    x.observe(outputEl, {childList: true});\n",
       "}}\n",
       "\n",
       "                        })                };                });            </script>        </div>"
      ]
     },
     "metadata": {},
     "output_type": "display_data"
    }
   ],
   "source": [
    "non_clim_fig = px.sunburst(filtered_year_df, path=['Sector'], values=f'non_clim_{year}', title='Non Climate Related Amount by Sector')\n",
    "non_clim_fig.show()\n"
   ]
  },
  {
   "cell_type": "code",
   "execution_count": 214,
   "id": "751901ff",
   "metadata": {},
   "outputs": [
    {
     "data": {
      "application/vnd.plotly.v1+json": {
       "config": {
        "plotlyServerURL": "https://plot.ly"
       },
       "data": [
        {
         "branchvalues": "total",
         "domain": {
          "x": [
           0,
           1
          ],
          "y": [
           0,
           1
          ]
         },
         "hovertemplate": "labels=%{label}<br>clim_adapt_amount_2013=%{value}<br>parent=%{parent}<br>id=%{id}<extra></extra>",
         "ids": [
          "I.1.a. Education, Level Unspecified",
          "I.1.b. Basic Education",
          "I.1.c. Secondary Education",
          "I.1.d. Post-Secondary Education",
          "I.2.a. Health, General",
          "I.2.b. Basic Health",
          "I.2.c. Non-communicable diseases (NCDs)",
          "I.3. Population Policies/Programmes & Reproductive Health",
          "I.4. Water Supply & Sanitation",
          "I.5.a. Government & Civil Society-general",
          "I.5.b. Conflict, Peace & Security",
          "I.6. Other Social Infrastructure & Services",
          "II.1. Transport & Storage",
          "II.2. Communications",
          "II.3.a. Energy Policy",
          "II.3.b. Energy generation, renewable sources",
          "II.3.c. Energy generation, non-renewable sources",
          "II.3.d. Hybrid energy plants",
          "II.3.f. Energy distribution",
          "II.4. Banking & Financial Services",
          "II.5. Business & Other Services",
          "III.1.a. Agriculture",
          "III.1.b. Forestry",
          "III.1.c. Fishing",
          "III.2.a. Industry",
          "III.2.b. Mineral Resources & Mining",
          "III.2.c. Construction",
          "III.3.a. Trade Policies & Regulations",
          "III.3.b. Tourism",
          "IV.1. General Environment Protection",
          "IV.2. Other Multisector",
          "IX. Unallocated / Unspecified",
          "VI.1. General Budget Support",
          "VI.2. Development Food Assistance",
          "VII. Action Relating to Debt",
          "VIII.1. Emergency Response",
          "VIII.2. Reconstruction Relief & Rehabilitation",
          "VIII.3. Disaster Prevention & Preparedness"
         ],
         "labels": [
          "I.1.a. Education, Level Unspecified",
          "I.1.b. Basic Education",
          "I.1.c. Secondary Education",
          "I.1.d. Post-Secondary Education",
          "I.2.a. Health, General",
          "I.2.b. Basic Health",
          "I.2.c. Non-communicable diseases (NCDs)",
          "I.3. Population Policies/Programmes & Reproductive Health",
          "I.4. Water Supply & Sanitation",
          "I.5.a. Government & Civil Society-general",
          "I.5.b. Conflict, Peace & Security",
          "I.6. Other Social Infrastructure & Services",
          "II.1. Transport & Storage",
          "II.2. Communications",
          "II.3.a. Energy Policy",
          "II.3.b. Energy generation, renewable sources",
          "II.3.c. Energy generation, non-renewable sources",
          "II.3.d. Hybrid energy plants",
          "II.3.f. Energy distribution",
          "II.4. Banking & Financial Services",
          "II.5. Business & Other Services",
          "III.1.a. Agriculture",
          "III.1.b. Forestry",
          "III.1.c. Fishing",
          "III.2.a. Industry",
          "III.2.b. Mineral Resources & Mining",
          "III.2.c. Construction",
          "III.3.a. Trade Policies & Regulations",
          "III.3.b. Tourism",
          "IV.1. General Environment Protection",
          "IV.2. Other Multisector",
          "IX. Unallocated / Unspecified",
          "VI.1. General Budget Support",
          "VI.2. Development Food Assistance",
          "VII. Action Relating to Debt",
          "VIII.1. Emergency Response",
          "VIII.2. Reconstruction Relief & Rehabilitation",
          "VIII.3. Disaster Prevention & Preparedness"
         ],
         "name": "",
         "parents": [
          "",
          "",
          "",
          "",
          "",
          "",
          "",
          "",
          "",
          "",
          "",
          "",
          "",
          "",
          "",
          "",
          "",
          "",
          "",
          "",
          "",
          "",
          "",
          "",
          "",
          "",
          "",
          "",
          "",
          "",
          "",
          "",
          "",
          "",
          "",
          "",
          "",
          ""
         ],
         "type": "sunburst",
         "values": [
          3.838428,
          0.1395905,
          3.3829130000000003,
          3.06604,
          0,
          0.2145699999999999,
          0,
          0.0104085,
          75.8016285,
          31.586324,
          0.3419594999999999,
          1.2568755,
          9.6372715,
          0,
          1.8193715,
          7.041204,
          0,
          0,
          0,
          0.6909255,
          2.474243,
          90.7644985,
          18.5549485,
          0.4438305,
          0.0275885,
          0,
          0,
          0.9948895,
          0,
          96.4184145,
          57.206913,
          0.5759795,
          4.1382785,
          5.9767095,
          0,
          2.210464,
          2.733083,
          9.433338
         ]
        }
       ],
       "layout": {
        "legend": {
         "tracegroupgap": 0
        },
        "template": {
         "data": {
          "bar": [
           {
            "error_x": {
             "color": "#2a3f5f"
            },
            "error_y": {
             "color": "#2a3f5f"
            },
            "marker": {
             "line": {
              "color": "#E5ECF6",
              "width": 0.5
             },
             "pattern": {
              "fillmode": "overlay",
              "size": 10,
              "solidity": 0.2
             }
            },
            "type": "bar"
           }
          ],
          "barpolar": [
           {
            "marker": {
             "line": {
              "color": "#E5ECF6",
              "width": 0.5
             },
             "pattern": {
              "fillmode": "overlay",
              "size": 10,
              "solidity": 0.2
             }
            },
            "type": "barpolar"
           }
          ],
          "carpet": [
           {
            "aaxis": {
             "endlinecolor": "#2a3f5f",
             "gridcolor": "white",
             "linecolor": "white",
             "minorgridcolor": "white",
             "startlinecolor": "#2a3f5f"
            },
            "baxis": {
             "endlinecolor": "#2a3f5f",
             "gridcolor": "white",
             "linecolor": "white",
             "minorgridcolor": "white",
             "startlinecolor": "#2a3f5f"
            },
            "type": "carpet"
           }
          ],
          "choropleth": [
           {
            "colorbar": {
             "outlinewidth": 0,
             "ticks": ""
            },
            "type": "choropleth"
           }
          ],
          "contour": [
           {
            "colorbar": {
             "outlinewidth": 0,
             "ticks": ""
            },
            "colorscale": [
             [
              0,
              "#0d0887"
             ],
             [
              0.1111111111111111,
              "#46039f"
             ],
             [
              0.2222222222222222,
              "#7201a8"
             ],
             [
              0.3333333333333333,
              "#9c179e"
             ],
             [
              0.4444444444444444,
              "#bd3786"
             ],
             [
              0.5555555555555556,
              "#d8576b"
             ],
             [
              0.6666666666666666,
              "#ed7953"
             ],
             [
              0.7777777777777778,
              "#fb9f3a"
             ],
             [
              0.8888888888888888,
              "#fdca26"
             ],
             [
              1,
              "#f0f921"
             ]
            ],
            "type": "contour"
           }
          ],
          "contourcarpet": [
           {
            "colorbar": {
             "outlinewidth": 0,
             "ticks": ""
            },
            "type": "contourcarpet"
           }
          ],
          "heatmap": [
           {
            "colorbar": {
             "outlinewidth": 0,
             "ticks": ""
            },
            "colorscale": [
             [
              0,
              "#0d0887"
             ],
             [
              0.1111111111111111,
              "#46039f"
             ],
             [
              0.2222222222222222,
              "#7201a8"
             ],
             [
              0.3333333333333333,
              "#9c179e"
             ],
             [
              0.4444444444444444,
              "#bd3786"
             ],
             [
              0.5555555555555556,
              "#d8576b"
             ],
             [
              0.6666666666666666,
              "#ed7953"
             ],
             [
              0.7777777777777778,
              "#fb9f3a"
             ],
             [
              0.8888888888888888,
              "#fdca26"
             ],
             [
              1,
              "#f0f921"
             ]
            ],
            "type": "heatmap"
           }
          ],
          "heatmapgl": [
           {
            "colorbar": {
             "outlinewidth": 0,
             "ticks": ""
            },
            "colorscale": [
             [
              0,
              "#0d0887"
             ],
             [
              0.1111111111111111,
              "#46039f"
             ],
             [
              0.2222222222222222,
              "#7201a8"
             ],
             [
              0.3333333333333333,
              "#9c179e"
             ],
             [
              0.4444444444444444,
              "#bd3786"
             ],
             [
              0.5555555555555556,
              "#d8576b"
             ],
             [
              0.6666666666666666,
              "#ed7953"
             ],
             [
              0.7777777777777778,
              "#fb9f3a"
             ],
             [
              0.8888888888888888,
              "#fdca26"
             ],
             [
              1,
              "#f0f921"
             ]
            ],
            "type": "heatmapgl"
           }
          ],
          "histogram": [
           {
            "marker": {
             "pattern": {
              "fillmode": "overlay",
              "size": 10,
              "solidity": 0.2
             }
            },
            "type": "histogram"
           }
          ],
          "histogram2d": [
           {
            "colorbar": {
             "outlinewidth": 0,
             "ticks": ""
            },
            "colorscale": [
             [
              0,
              "#0d0887"
             ],
             [
              0.1111111111111111,
              "#46039f"
             ],
             [
              0.2222222222222222,
              "#7201a8"
             ],
             [
              0.3333333333333333,
              "#9c179e"
             ],
             [
              0.4444444444444444,
              "#bd3786"
             ],
             [
              0.5555555555555556,
              "#d8576b"
             ],
             [
              0.6666666666666666,
              "#ed7953"
             ],
             [
              0.7777777777777778,
              "#fb9f3a"
             ],
             [
              0.8888888888888888,
              "#fdca26"
             ],
             [
              1,
              "#f0f921"
             ]
            ],
            "type": "histogram2d"
           }
          ],
          "histogram2dcontour": [
           {
            "colorbar": {
             "outlinewidth": 0,
             "ticks": ""
            },
            "colorscale": [
             [
              0,
              "#0d0887"
             ],
             [
              0.1111111111111111,
              "#46039f"
             ],
             [
              0.2222222222222222,
              "#7201a8"
             ],
             [
              0.3333333333333333,
              "#9c179e"
             ],
             [
              0.4444444444444444,
              "#bd3786"
             ],
             [
              0.5555555555555556,
              "#d8576b"
             ],
             [
              0.6666666666666666,
              "#ed7953"
             ],
             [
              0.7777777777777778,
              "#fb9f3a"
             ],
             [
              0.8888888888888888,
              "#fdca26"
             ],
             [
              1,
              "#f0f921"
             ]
            ],
            "type": "histogram2dcontour"
           }
          ],
          "mesh3d": [
           {
            "colorbar": {
             "outlinewidth": 0,
             "ticks": ""
            },
            "type": "mesh3d"
           }
          ],
          "parcoords": [
           {
            "line": {
             "colorbar": {
              "outlinewidth": 0,
              "ticks": ""
             }
            },
            "type": "parcoords"
           }
          ],
          "pie": [
           {
            "automargin": true,
            "type": "pie"
           }
          ],
          "scatter": [
           {
            "fillpattern": {
             "fillmode": "overlay",
             "size": 10,
             "solidity": 0.2
            },
            "type": "scatter"
           }
          ],
          "scatter3d": [
           {
            "line": {
             "colorbar": {
              "outlinewidth": 0,
              "ticks": ""
             }
            },
            "marker": {
             "colorbar": {
              "outlinewidth": 0,
              "ticks": ""
             }
            },
            "type": "scatter3d"
           }
          ],
          "scattercarpet": [
           {
            "marker": {
             "colorbar": {
              "outlinewidth": 0,
              "ticks": ""
             }
            },
            "type": "scattercarpet"
           }
          ],
          "scattergeo": [
           {
            "marker": {
             "colorbar": {
              "outlinewidth": 0,
              "ticks": ""
             }
            },
            "type": "scattergeo"
           }
          ],
          "scattergl": [
           {
            "marker": {
             "colorbar": {
              "outlinewidth": 0,
              "ticks": ""
             }
            },
            "type": "scattergl"
           }
          ],
          "scattermapbox": [
           {
            "marker": {
             "colorbar": {
              "outlinewidth": 0,
              "ticks": ""
             }
            },
            "type": "scattermapbox"
           }
          ],
          "scatterpolar": [
           {
            "marker": {
             "colorbar": {
              "outlinewidth": 0,
              "ticks": ""
             }
            },
            "type": "scatterpolar"
           }
          ],
          "scatterpolargl": [
           {
            "marker": {
             "colorbar": {
              "outlinewidth": 0,
              "ticks": ""
             }
            },
            "type": "scatterpolargl"
           }
          ],
          "scatterternary": [
           {
            "marker": {
             "colorbar": {
              "outlinewidth": 0,
              "ticks": ""
             }
            },
            "type": "scatterternary"
           }
          ],
          "surface": [
           {
            "colorbar": {
             "outlinewidth": 0,
             "ticks": ""
            },
            "colorscale": [
             [
              0,
              "#0d0887"
             ],
             [
              0.1111111111111111,
              "#46039f"
             ],
             [
              0.2222222222222222,
              "#7201a8"
             ],
             [
              0.3333333333333333,
              "#9c179e"
             ],
             [
              0.4444444444444444,
              "#bd3786"
             ],
             [
              0.5555555555555556,
              "#d8576b"
             ],
             [
              0.6666666666666666,
              "#ed7953"
             ],
             [
              0.7777777777777778,
              "#fb9f3a"
             ],
             [
              0.8888888888888888,
              "#fdca26"
             ],
             [
              1,
              "#f0f921"
             ]
            ],
            "type": "surface"
           }
          ],
          "table": [
           {
            "cells": {
             "fill": {
              "color": "#EBF0F8"
             },
             "line": {
              "color": "white"
             }
            },
            "header": {
             "fill": {
              "color": "#C8D4E3"
             },
             "line": {
              "color": "white"
             }
            },
            "type": "table"
           }
          ]
         },
         "layout": {
          "annotationdefaults": {
           "arrowcolor": "#2a3f5f",
           "arrowhead": 0,
           "arrowwidth": 1
          },
          "autotypenumbers": "strict",
          "coloraxis": {
           "colorbar": {
            "outlinewidth": 0,
            "ticks": ""
           }
          },
          "colorscale": {
           "diverging": [
            [
             0,
             "#8e0152"
            ],
            [
             0.1,
             "#c51b7d"
            ],
            [
             0.2,
             "#de77ae"
            ],
            [
             0.3,
             "#f1b6da"
            ],
            [
             0.4,
             "#fde0ef"
            ],
            [
             0.5,
             "#f7f7f7"
            ],
            [
             0.6,
             "#e6f5d0"
            ],
            [
             0.7,
             "#b8e186"
            ],
            [
             0.8,
             "#7fbc41"
            ],
            [
             0.9,
             "#4d9221"
            ],
            [
             1,
             "#276419"
            ]
           ],
           "sequential": [
            [
             0,
             "#0d0887"
            ],
            [
             0.1111111111111111,
             "#46039f"
            ],
            [
             0.2222222222222222,
             "#7201a8"
            ],
            [
             0.3333333333333333,
             "#9c179e"
            ],
            [
             0.4444444444444444,
             "#bd3786"
            ],
            [
             0.5555555555555556,
             "#d8576b"
            ],
            [
             0.6666666666666666,
             "#ed7953"
            ],
            [
             0.7777777777777778,
             "#fb9f3a"
            ],
            [
             0.8888888888888888,
             "#fdca26"
            ],
            [
             1,
             "#f0f921"
            ]
           ],
           "sequentialminus": [
            [
             0,
             "#0d0887"
            ],
            [
             0.1111111111111111,
             "#46039f"
            ],
            [
             0.2222222222222222,
             "#7201a8"
            ],
            [
             0.3333333333333333,
             "#9c179e"
            ],
            [
             0.4444444444444444,
             "#bd3786"
            ],
            [
             0.5555555555555556,
             "#d8576b"
            ],
            [
             0.6666666666666666,
             "#ed7953"
            ],
            [
             0.7777777777777778,
             "#fb9f3a"
            ],
            [
             0.8888888888888888,
             "#fdca26"
            ],
            [
             1,
             "#f0f921"
            ]
           ]
          },
          "colorway": [
           "#636efa",
           "#EF553B",
           "#00cc96",
           "#ab63fa",
           "#FFA15A",
           "#19d3f3",
           "#FF6692",
           "#B6E880",
           "#FF97FF",
           "#FECB52"
          ],
          "font": {
           "color": "#2a3f5f"
          },
          "geo": {
           "bgcolor": "white",
           "lakecolor": "white",
           "landcolor": "#E5ECF6",
           "showlakes": true,
           "showland": true,
           "subunitcolor": "white"
          },
          "hoverlabel": {
           "align": "left"
          },
          "hovermode": "closest",
          "mapbox": {
           "style": "light"
          },
          "paper_bgcolor": "white",
          "plot_bgcolor": "#E5ECF6",
          "polar": {
           "angularaxis": {
            "gridcolor": "white",
            "linecolor": "white",
            "ticks": ""
           },
           "bgcolor": "#E5ECF6",
           "radialaxis": {
            "gridcolor": "white",
            "linecolor": "white",
            "ticks": ""
           }
          },
          "scene": {
           "xaxis": {
            "backgroundcolor": "#E5ECF6",
            "gridcolor": "white",
            "gridwidth": 2,
            "linecolor": "white",
            "showbackground": true,
            "ticks": "",
            "zerolinecolor": "white"
           },
           "yaxis": {
            "backgroundcolor": "#E5ECF6",
            "gridcolor": "white",
            "gridwidth": 2,
            "linecolor": "white",
            "showbackground": true,
            "ticks": "",
            "zerolinecolor": "white"
           },
           "zaxis": {
            "backgroundcolor": "#E5ECF6",
            "gridcolor": "white",
            "gridwidth": 2,
            "linecolor": "white",
            "showbackground": true,
            "ticks": "",
            "zerolinecolor": "white"
           }
          },
          "shapedefaults": {
           "line": {
            "color": "#2a3f5f"
           }
          },
          "ternary": {
           "aaxis": {
            "gridcolor": "white",
            "linecolor": "white",
            "ticks": ""
           },
           "baxis": {
            "gridcolor": "white",
            "linecolor": "white",
            "ticks": ""
           },
           "bgcolor": "#E5ECF6",
           "caxis": {
            "gridcolor": "white",
            "linecolor": "white",
            "ticks": ""
           }
          },
          "title": {
           "x": 0.05
          },
          "xaxis": {
           "automargin": true,
           "gridcolor": "white",
           "linecolor": "white",
           "ticks": "",
           "title": {
            "standoff": 15
           },
           "zerolinecolor": "white",
           "zerolinewidth": 2
          },
          "yaxis": {
           "automargin": true,
           "gridcolor": "white",
           "linecolor": "white",
           "ticks": "",
           "title": {
            "standoff": 15
           },
           "zerolinecolor": "white",
           "zerolinewidth": 2
          }
         }
        },
        "title": {
         "text": "Climate Apaptation Amount by Sector"
        }
       }
      },
      "text/html": [
       "<div>                            <div id=\"d001da55-361c-4f37-88fe-fd8c369c3188\" class=\"plotly-graph-div\" style=\"height:525px; width:100%;\"></div>            <script type=\"text/javascript\">                require([\"plotly\"], function(Plotly) {                    window.PLOTLYENV=window.PLOTLYENV || {};                                    if (document.getElementById(\"d001da55-361c-4f37-88fe-fd8c369c3188\")) {                    Plotly.newPlot(                        \"d001da55-361c-4f37-88fe-fd8c369c3188\",                        [{\"branchvalues\":\"total\",\"domain\":{\"x\":[0.0,1.0],\"y\":[0.0,1.0]},\"hovertemplate\":\"labels=%{label}\\u003cbr\\u003eclim_adapt_amount_2013=%{value}\\u003cbr\\u003eparent=%{parent}\\u003cbr\\u003eid=%{id}\\u003cextra\\u003e\\u003c\\u002fextra\\u003e\",\"ids\":[\"I.1.a. Education, Level Unspecified\",\"I.1.b. Basic Education\",\"I.1.c. Secondary Education\",\"I.1.d. Post-Secondary Education\",\"I.2.a. Health, General\",\"I.2.b. Basic Health\",\"I.2.c. Non-communicable diseases (NCDs)\",\"I.3. Population Policies\\u002fProgrammes & Reproductive Health\",\"I.4. Water Supply & Sanitation\",\"I.5.a. Government & Civil Society-general\",\"I.5.b. Conflict, Peace & Security\",\"I.6. Other Social Infrastructure & Services\",\"II.1. Transport & Storage\",\"II.2. Communications\",\"II.3.a. Energy Policy\",\"II.3.b. Energy generation, renewable sources\",\"II.3.c. Energy generation, non-renewable sources\",\"II.3.d. Hybrid energy plants\",\"II.3.f. Energy distribution\",\"II.4. Banking & Financial Services\",\"II.5. Business & Other Services\",\"III.1.a. Agriculture\",\"III.1.b. Forestry\",\"III.1.c. Fishing\",\"III.2.a. Industry\",\"III.2.b. Mineral Resources & Mining\",\"III.2.c. Construction\",\"III.3.a. Trade Policies & Regulations\",\"III.3.b. Tourism\",\"IV.1. General Environment Protection\",\"IV.2. Other Multisector\",\"IX. Unallocated \\u002f Unspecified\",\"VI.1. General Budget Support\",\"VI.2. Development Food Assistance\",\"VII. Action Relating to Debt\",\"VIII.1. Emergency Response\",\"VIII.2. Reconstruction Relief & Rehabilitation\",\"VIII.3. Disaster Prevention & Preparedness\"],\"labels\":[\"I.1.a. Education, Level Unspecified\",\"I.1.b. Basic Education\",\"I.1.c. Secondary Education\",\"I.1.d. Post-Secondary Education\",\"I.2.a. Health, General\",\"I.2.b. Basic Health\",\"I.2.c. Non-communicable diseases (NCDs)\",\"I.3. Population Policies\\u002fProgrammes & Reproductive Health\",\"I.4. Water Supply & Sanitation\",\"I.5.a. Government & Civil Society-general\",\"I.5.b. Conflict, Peace & Security\",\"I.6. Other Social Infrastructure & Services\",\"II.1. Transport & Storage\",\"II.2. Communications\",\"II.3.a. Energy Policy\",\"II.3.b. Energy generation, renewable sources\",\"II.3.c. Energy generation, non-renewable sources\",\"II.3.d. Hybrid energy plants\",\"II.3.f. Energy distribution\",\"II.4. Banking & Financial Services\",\"II.5. Business & Other Services\",\"III.1.a. Agriculture\",\"III.1.b. Forestry\",\"III.1.c. Fishing\",\"III.2.a. Industry\",\"III.2.b. Mineral Resources & Mining\",\"III.2.c. Construction\",\"III.3.a. Trade Policies & Regulations\",\"III.3.b. Tourism\",\"IV.1. General Environment Protection\",\"IV.2. Other Multisector\",\"IX. Unallocated \\u002f Unspecified\",\"VI.1. General Budget Support\",\"VI.2. Development Food Assistance\",\"VII. Action Relating to Debt\",\"VIII.1. Emergency Response\",\"VIII.2. Reconstruction Relief & Rehabilitation\",\"VIII.3. Disaster Prevention & Preparedness\"],\"name\":\"\",\"parents\":[\"\",\"\",\"\",\"\",\"\",\"\",\"\",\"\",\"\",\"\",\"\",\"\",\"\",\"\",\"\",\"\",\"\",\"\",\"\",\"\",\"\",\"\",\"\",\"\",\"\",\"\",\"\",\"\",\"\",\"\",\"\",\"\",\"\",\"\",\"\",\"\",\"\",\"\"],\"values\":[3.838428,0.1395905,3.3829130000000003,3.06604,0.0,0.2145699999999999,0.0,0.0104085,75.8016285,31.586324,0.3419594999999999,1.2568755,9.6372715,0.0,1.8193715,7.041204,0.0,0.0,0.0,0.6909255,2.474243,90.7644985,18.5549485,0.4438305,0.0275885,0.0,0.0,0.9948895,0.0,96.4184145,57.206913,0.5759795,4.1382785,5.9767095,0.0,2.210464,2.733083,9.433338],\"type\":\"sunburst\"}],                        {\"template\":{\"data\":{\"histogram2dcontour\":[{\"type\":\"histogram2dcontour\",\"colorbar\":{\"outlinewidth\":0,\"ticks\":\"\"},\"colorscale\":[[0.0,\"#0d0887\"],[0.1111111111111111,\"#46039f\"],[0.2222222222222222,\"#7201a8\"],[0.3333333333333333,\"#9c179e\"],[0.4444444444444444,\"#bd3786\"],[0.5555555555555556,\"#d8576b\"],[0.6666666666666666,\"#ed7953\"],[0.7777777777777778,\"#fb9f3a\"],[0.8888888888888888,\"#fdca26\"],[1.0,\"#f0f921\"]]}],\"choropleth\":[{\"type\":\"choropleth\",\"colorbar\":{\"outlinewidth\":0,\"ticks\":\"\"}}],\"histogram2d\":[{\"type\":\"histogram2d\",\"colorbar\":{\"outlinewidth\":0,\"ticks\":\"\"},\"colorscale\":[[0.0,\"#0d0887\"],[0.1111111111111111,\"#46039f\"],[0.2222222222222222,\"#7201a8\"],[0.3333333333333333,\"#9c179e\"],[0.4444444444444444,\"#bd3786\"],[0.5555555555555556,\"#d8576b\"],[0.6666666666666666,\"#ed7953\"],[0.7777777777777778,\"#fb9f3a\"],[0.8888888888888888,\"#fdca26\"],[1.0,\"#f0f921\"]]}],\"heatmap\":[{\"type\":\"heatmap\",\"colorbar\":{\"outlinewidth\":0,\"ticks\":\"\"},\"colorscale\":[[0.0,\"#0d0887\"],[0.1111111111111111,\"#46039f\"],[0.2222222222222222,\"#7201a8\"],[0.3333333333333333,\"#9c179e\"],[0.4444444444444444,\"#bd3786\"],[0.5555555555555556,\"#d8576b\"],[0.6666666666666666,\"#ed7953\"],[0.7777777777777778,\"#fb9f3a\"],[0.8888888888888888,\"#fdca26\"],[1.0,\"#f0f921\"]]}],\"heatmapgl\":[{\"type\":\"heatmapgl\",\"colorbar\":{\"outlinewidth\":0,\"ticks\":\"\"},\"colorscale\":[[0.0,\"#0d0887\"],[0.1111111111111111,\"#46039f\"],[0.2222222222222222,\"#7201a8\"],[0.3333333333333333,\"#9c179e\"],[0.4444444444444444,\"#bd3786\"],[0.5555555555555556,\"#d8576b\"],[0.6666666666666666,\"#ed7953\"],[0.7777777777777778,\"#fb9f3a\"],[0.8888888888888888,\"#fdca26\"],[1.0,\"#f0f921\"]]}],\"contourcarpet\":[{\"type\":\"contourcarpet\",\"colorbar\":{\"outlinewidth\":0,\"ticks\":\"\"}}],\"contour\":[{\"type\":\"contour\",\"colorbar\":{\"outlinewidth\":0,\"ticks\":\"\"},\"colorscale\":[[0.0,\"#0d0887\"],[0.1111111111111111,\"#46039f\"],[0.2222222222222222,\"#7201a8\"],[0.3333333333333333,\"#9c179e\"],[0.4444444444444444,\"#bd3786\"],[0.5555555555555556,\"#d8576b\"],[0.6666666666666666,\"#ed7953\"],[0.7777777777777778,\"#fb9f3a\"],[0.8888888888888888,\"#fdca26\"],[1.0,\"#f0f921\"]]}],\"surface\":[{\"type\":\"surface\",\"colorbar\":{\"outlinewidth\":0,\"ticks\":\"\"},\"colorscale\":[[0.0,\"#0d0887\"],[0.1111111111111111,\"#46039f\"],[0.2222222222222222,\"#7201a8\"],[0.3333333333333333,\"#9c179e\"],[0.4444444444444444,\"#bd3786\"],[0.5555555555555556,\"#d8576b\"],[0.6666666666666666,\"#ed7953\"],[0.7777777777777778,\"#fb9f3a\"],[0.8888888888888888,\"#fdca26\"],[1.0,\"#f0f921\"]]}],\"mesh3d\":[{\"type\":\"mesh3d\",\"colorbar\":{\"outlinewidth\":0,\"ticks\":\"\"}}],\"scatter\":[{\"fillpattern\":{\"fillmode\":\"overlay\",\"size\":10,\"solidity\":0.2},\"type\":\"scatter\"}],\"parcoords\":[{\"type\":\"parcoords\",\"line\":{\"colorbar\":{\"outlinewidth\":0,\"ticks\":\"\"}}}],\"scatterpolargl\":[{\"type\":\"scatterpolargl\",\"marker\":{\"colorbar\":{\"outlinewidth\":0,\"ticks\":\"\"}}}],\"bar\":[{\"error_x\":{\"color\":\"#2a3f5f\"},\"error_y\":{\"color\":\"#2a3f5f\"},\"marker\":{\"line\":{\"color\":\"#E5ECF6\",\"width\":0.5},\"pattern\":{\"fillmode\":\"overlay\",\"size\":10,\"solidity\":0.2}},\"type\":\"bar\"}],\"scattergeo\":[{\"type\":\"scattergeo\",\"marker\":{\"colorbar\":{\"outlinewidth\":0,\"ticks\":\"\"}}}],\"scatterpolar\":[{\"type\":\"scatterpolar\",\"marker\":{\"colorbar\":{\"outlinewidth\":0,\"ticks\":\"\"}}}],\"histogram\":[{\"marker\":{\"pattern\":{\"fillmode\":\"overlay\",\"size\":10,\"solidity\":0.2}},\"type\":\"histogram\"}],\"scattergl\":[{\"type\":\"scattergl\",\"marker\":{\"colorbar\":{\"outlinewidth\":0,\"ticks\":\"\"}}}],\"scatter3d\":[{\"type\":\"scatter3d\",\"line\":{\"colorbar\":{\"outlinewidth\":0,\"ticks\":\"\"}},\"marker\":{\"colorbar\":{\"outlinewidth\":0,\"ticks\":\"\"}}}],\"scattermapbox\":[{\"type\":\"scattermapbox\",\"marker\":{\"colorbar\":{\"outlinewidth\":0,\"ticks\":\"\"}}}],\"scatterternary\":[{\"type\":\"scatterternary\",\"marker\":{\"colorbar\":{\"outlinewidth\":0,\"ticks\":\"\"}}}],\"scattercarpet\":[{\"type\":\"scattercarpet\",\"marker\":{\"colorbar\":{\"outlinewidth\":0,\"ticks\":\"\"}}}],\"carpet\":[{\"aaxis\":{\"endlinecolor\":\"#2a3f5f\",\"gridcolor\":\"white\",\"linecolor\":\"white\",\"minorgridcolor\":\"white\",\"startlinecolor\":\"#2a3f5f\"},\"baxis\":{\"endlinecolor\":\"#2a3f5f\",\"gridcolor\":\"white\",\"linecolor\":\"white\",\"minorgridcolor\":\"white\",\"startlinecolor\":\"#2a3f5f\"},\"type\":\"carpet\"}],\"table\":[{\"cells\":{\"fill\":{\"color\":\"#EBF0F8\"},\"line\":{\"color\":\"white\"}},\"header\":{\"fill\":{\"color\":\"#C8D4E3\"},\"line\":{\"color\":\"white\"}},\"type\":\"table\"}],\"barpolar\":[{\"marker\":{\"line\":{\"color\":\"#E5ECF6\",\"width\":0.5},\"pattern\":{\"fillmode\":\"overlay\",\"size\":10,\"solidity\":0.2}},\"type\":\"barpolar\"}],\"pie\":[{\"automargin\":true,\"type\":\"pie\"}]},\"layout\":{\"autotypenumbers\":\"strict\",\"colorway\":[\"#636efa\",\"#EF553B\",\"#00cc96\",\"#ab63fa\",\"#FFA15A\",\"#19d3f3\",\"#FF6692\",\"#B6E880\",\"#FF97FF\",\"#FECB52\"],\"font\":{\"color\":\"#2a3f5f\"},\"hovermode\":\"closest\",\"hoverlabel\":{\"align\":\"left\"},\"paper_bgcolor\":\"white\",\"plot_bgcolor\":\"#E5ECF6\",\"polar\":{\"bgcolor\":\"#E5ECF6\",\"angularaxis\":{\"gridcolor\":\"white\",\"linecolor\":\"white\",\"ticks\":\"\"},\"radialaxis\":{\"gridcolor\":\"white\",\"linecolor\":\"white\",\"ticks\":\"\"}},\"ternary\":{\"bgcolor\":\"#E5ECF6\",\"aaxis\":{\"gridcolor\":\"white\",\"linecolor\":\"white\",\"ticks\":\"\"},\"baxis\":{\"gridcolor\":\"white\",\"linecolor\":\"white\",\"ticks\":\"\"},\"caxis\":{\"gridcolor\":\"white\",\"linecolor\":\"white\",\"ticks\":\"\"}},\"coloraxis\":{\"colorbar\":{\"outlinewidth\":0,\"ticks\":\"\"}},\"colorscale\":{\"sequential\":[[0.0,\"#0d0887\"],[0.1111111111111111,\"#46039f\"],[0.2222222222222222,\"#7201a8\"],[0.3333333333333333,\"#9c179e\"],[0.4444444444444444,\"#bd3786\"],[0.5555555555555556,\"#d8576b\"],[0.6666666666666666,\"#ed7953\"],[0.7777777777777778,\"#fb9f3a\"],[0.8888888888888888,\"#fdca26\"],[1.0,\"#f0f921\"]],\"sequentialminus\":[[0.0,\"#0d0887\"],[0.1111111111111111,\"#46039f\"],[0.2222222222222222,\"#7201a8\"],[0.3333333333333333,\"#9c179e\"],[0.4444444444444444,\"#bd3786\"],[0.5555555555555556,\"#d8576b\"],[0.6666666666666666,\"#ed7953\"],[0.7777777777777778,\"#fb9f3a\"],[0.8888888888888888,\"#fdca26\"],[1.0,\"#f0f921\"]],\"diverging\":[[0,\"#8e0152\"],[0.1,\"#c51b7d\"],[0.2,\"#de77ae\"],[0.3,\"#f1b6da\"],[0.4,\"#fde0ef\"],[0.5,\"#f7f7f7\"],[0.6,\"#e6f5d0\"],[0.7,\"#b8e186\"],[0.8,\"#7fbc41\"],[0.9,\"#4d9221\"],[1,\"#276419\"]]},\"xaxis\":{\"gridcolor\":\"white\",\"linecolor\":\"white\",\"ticks\":\"\",\"title\":{\"standoff\":15},\"zerolinecolor\":\"white\",\"automargin\":true,\"zerolinewidth\":2},\"yaxis\":{\"gridcolor\":\"white\",\"linecolor\":\"white\",\"ticks\":\"\",\"title\":{\"standoff\":15},\"zerolinecolor\":\"white\",\"automargin\":true,\"zerolinewidth\":2},\"scene\":{\"xaxis\":{\"backgroundcolor\":\"#E5ECF6\",\"gridcolor\":\"white\",\"linecolor\":\"white\",\"showbackground\":true,\"ticks\":\"\",\"zerolinecolor\":\"white\",\"gridwidth\":2},\"yaxis\":{\"backgroundcolor\":\"#E5ECF6\",\"gridcolor\":\"white\",\"linecolor\":\"white\",\"showbackground\":true,\"ticks\":\"\",\"zerolinecolor\":\"white\",\"gridwidth\":2},\"zaxis\":{\"backgroundcolor\":\"#E5ECF6\",\"gridcolor\":\"white\",\"linecolor\":\"white\",\"showbackground\":true,\"ticks\":\"\",\"zerolinecolor\":\"white\",\"gridwidth\":2}},\"shapedefaults\":{\"line\":{\"color\":\"#2a3f5f\"}},\"annotationdefaults\":{\"arrowcolor\":\"#2a3f5f\",\"arrowhead\":0,\"arrowwidth\":1},\"geo\":{\"bgcolor\":\"white\",\"landcolor\":\"#E5ECF6\",\"subunitcolor\":\"white\",\"showland\":true,\"showlakes\":true,\"lakecolor\":\"white\"},\"title\":{\"x\":0.05},\"mapbox\":{\"style\":\"light\"}}},\"legend\":{\"tracegroupgap\":0},\"title\":{\"text\":\"Climate Apaptation Amount by Sector\"}},                        {\"responsive\": true}                    ).then(function(){\n",
       "                            \n",
       "var gd = document.getElementById('d001da55-361c-4f37-88fe-fd8c369c3188');\n",
       "var x = new MutationObserver(function (mutations, observer) {{\n",
       "        var display = window.getComputedStyle(gd).display;\n",
       "        if (!display || display === 'none') {{\n",
       "            console.log([gd, 'removed!']);\n",
       "            Plotly.purge(gd);\n",
       "            observer.disconnect();\n",
       "        }}\n",
       "}});\n",
       "\n",
       "// Listen for the removal of the full notebook cells\n",
       "var notebookContainer = gd.closest('#notebook-container');\n",
       "if (notebookContainer) {{\n",
       "    x.observe(notebookContainer, {childList: true});\n",
       "}}\n",
       "\n",
       "// Listen for the clearing of the current output cell\n",
       "var outputEl = gd.closest('.output');\n",
       "if (outputEl) {{\n",
       "    x.observe(outputEl, {childList: true});\n",
       "}}\n",
       "\n",
       "                        })                };                });            </script>        </div>"
      ]
     },
     "metadata": {},
     "output_type": "display_data"
    }
   ],
   "source": [
    "clim_adapt_fig = px.sunburst(filtered_year_df, path=['Sector'], values=f'clim_adapt_amount_{year}', title='Climate Apaptation Amount by Sector')\n",
    "clim_adapt_fig.show()\n"
   ]
  },
  {
   "cell_type": "code",
   "execution_count": 215,
   "id": "3be32ce1",
   "metadata": {},
   "outputs": [
    {
     "data": {
      "application/vnd.plotly.v1+json": {
       "config": {
        "plotlyServerURL": "https://plot.ly"
       },
       "data": [
        {
         "branchvalues": "total",
         "domain": {
          "x": [
           0,
           1
          ],
          "y": [
           0,
           1
          ]
         },
         "hovertemplate": "labels=%{label}<br>clim_miti_amount_2013=%{value}<br>parent=%{parent}<br>id=%{id}<extra></extra>",
         "ids": [
          "I.1.a. Education, Level Unspecified",
          "I.1.b. Basic Education",
          "I.1.c. Secondary Education",
          "I.1.d. Post-Secondary Education",
          "I.2.a. Health, General",
          "I.2.b. Basic Health",
          "I.2.c. Non-communicable diseases (NCDs)",
          "I.3. Population Policies/Programmes & Reproductive Health",
          "I.4. Water Supply & Sanitation",
          "I.5.a. Government & Civil Society-general",
          "I.5.b. Conflict, Peace & Security",
          "I.6. Other Social Infrastructure & Services",
          "II.1. Transport & Storage",
          "II.2. Communications",
          "II.3.a. Energy Policy",
          "II.3.b. Energy generation, renewable sources",
          "II.3.c. Energy generation, non-renewable sources",
          "II.3.d. Hybrid energy plants",
          "II.3.f. Energy distribution",
          "II.4. Banking & Financial Services",
          "II.5. Business & Other Services",
          "III.1.a. Agriculture",
          "III.1.b. Forestry",
          "III.1.c. Fishing",
          "III.2.a. Industry",
          "III.2.b. Mineral Resources & Mining",
          "III.2.c. Construction",
          "III.3.a. Trade Policies & Regulations",
          "III.3.b. Tourism",
          "IV.1. General Environment Protection",
          "IV.2. Other Multisector",
          "IX. Unallocated / Unspecified",
          "VI.1. General Budget Support",
          "VI.2. Development Food Assistance",
          "VII. Action Relating to Debt",
          "VIII.1. Emergency Response",
          "VIII.2. Reconstruction Relief & Rehabilitation",
          "VIII.3. Disaster Prevention & Preparedness"
         ],
         "labels": [
          "I.1.a. Education, Level Unspecified",
          "I.1.b. Basic Education",
          "I.1.c. Secondary Education",
          "I.1.d. Post-Secondary Education",
          "I.2.a. Health, General",
          "I.2.b. Basic Health",
          "I.2.c. Non-communicable diseases (NCDs)",
          "I.3. Population Policies/Programmes & Reproductive Health",
          "I.4. Water Supply & Sanitation",
          "I.5.a. Government & Civil Society-general",
          "I.5.b. Conflict, Peace & Security",
          "I.6. Other Social Infrastructure & Services",
          "II.1. Transport & Storage",
          "II.2. Communications",
          "II.3.a. Energy Policy",
          "II.3.b. Energy generation, renewable sources",
          "II.3.c. Energy generation, non-renewable sources",
          "II.3.d. Hybrid energy plants",
          "II.3.f. Energy distribution",
          "II.4. Banking & Financial Services",
          "II.5. Business & Other Services",
          "III.1.a. Agriculture",
          "III.1.b. Forestry",
          "III.1.c. Fishing",
          "III.2.a. Industry",
          "III.2.b. Mineral Resources & Mining",
          "III.2.c. Construction",
          "III.3.a. Trade Policies & Regulations",
          "III.3.b. Tourism",
          "IV.1. General Environment Protection",
          "IV.2. Other Multisector",
          "IX. Unallocated / Unspecified",
          "VI.1. General Budget Support",
          "VI.2. Development Food Assistance",
          "VII. Action Relating to Debt",
          "VIII.1. Emergency Response",
          "VIII.2. Reconstruction Relief & Rehabilitation",
          "VIII.3. Disaster Prevention & Preparedness"
         ],
         "name": "",
         "parents": [
          "",
          "",
          "",
          "",
          "",
          "",
          "",
          "",
          "",
          "",
          "",
          "",
          "",
          "",
          "",
          "",
          "",
          "",
          "",
          "",
          "",
          "",
          "",
          "",
          "",
          "",
          "",
          "",
          "",
          "",
          "",
          "",
          "",
          "",
          "",
          "",
          "",
          ""
         ],
         "type": "sunburst",
         "values": [
          2.443084,
          0.046073,
          1.0785045,
          7.3032745,
          0.0245835,
          0.5783245,
          0,
          1.007634,
          26.2450375,
          25.273254,
          0.1232305,
          0.2537574999999999,
          3.905017,
          0,
          38.41865,
          106.2940405,
          8.0677155,
          0,
          38.826143,
          41.511661,
          5.9792315,
          23.4222235,
          30.1531505,
          0.5597025,
          0,
          0.16638,
          0,
          0.972454,
          0.057246,
          156.557101,
          38.39713,
          0.5759795,
          0,
          0.206914,
          0,
          0.2933065,
          1.6339169999999998,
          0.9603425
         ]
        }
       ],
       "layout": {
        "legend": {
         "tracegroupgap": 0
        },
        "template": {
         "data": {
          "bar": [
           {
            "error_x": {
             "color": "#2a3f5f"
            },
            "error_y": {
             "color": "#2a3f5f"
            },
            "marker": {
             "line": {
              "color": "#E5ECF6",
              "width": 0.5
             },
             "pattern": {
              "fillmode": "overlay",
              "size": 10,
              "solidity": 0.2
             }
            },
            "type": "bar"
           }
          ],
          "barpolar": [
           {
            "marker": {
             "line": {
              "color": "#E5ECF6",
              "width": 0.5
             },
             "pattern": {
              "fillmode": "overlay",
              "size": 10,
              "solidity": 0.2
             }
            },
            "type": "barpolar"
           }
          ],
          "carpet": [
           {
            "aaxis": {
             "endlinecolor": "#2a3f5f",
             "gridcolor": "white",
             "linecolor": "white",
             "minorgridcolor": "white",
             "startlinecolor": "#2a3f5f"
            },
            "baxis": {
             "endlinecolor": "#2a3f5f",
             "gridcolor": "white",
             "linecolor": "white",
             "minorgridcolor": "white",
             "startlinecolor": "#2a3f5f"
            },
            "type": "carpet"
           }
          ],
          "choropleth": [
           {
            "colorbar": {
             "outlinewidth": 0,
             "ticks": ""
            },
            "type": "choropleth"
           }
          ],
          "contour": [
           {
            "colorbar": {
             "outlinewidth": 0,
             "ticks": ""
            },
            "colorscale": [
             [
              0,
              "#0d0887"
             ],
             [
              0.1111111111111111,
              "#46039f"
             ],
             [
              0.2222222222222222,
              "#7201a8"
             ],
             [
              0.3333333333333333,
              "#9c179e"
             ],
             [
              0.4444444444444444,
              "#bd3786"
             ],
             [
              0.5555555555555556,
              "#d8576b"
             ],
             [
              0.6666666666666666,
              "#ed7953"
             ],
             [
              0.7777777777777778,
              "#fb9f3a"
             ],
             [
              0.8888888888888888,
              "#fdca26"
             ],
             [
              1,
              "#f0f921"
             ]
            ],
            "type": "contour"
           }
          ],
          "contourcarpet": [
           {
            "colorbar": {
             "outlinewidth": 0,
             "ticks": ""
            },
            "type": "contourcarpet"
           }
          ],
          "heatmap": [
           {
            "colorbar": {
             "outlinewidth": 0,
             "ticks": ""
            },
            "colorscale": [
             [
              0,
              "#0d0887"
             ],
             [
              0.1111111111111111,
              "#46039f"
             ],
             [
              0.2222222222222222,
              "#7201a8"
             ],
             [
              0.3333333333333333,
              "#9c179e"
             ],
             [
              0.4444444444444444,
              "#bd3786"
             ],
             [
              0.5555555555555556,
              "#d8576b"
             ],
             [
              0.6666666666666666,
              "#ed7953"
             ],
             [
              0.7777777777777778,
              "#fb9f3a"
             ],
             [
              0.8888888888888888,
              "#fdca26"
             ],
             [
              1,
              "#f0f921"
             ]
            ],
            "type": "heatmap"
           }
          ],
          "heatmapgl": [
           {
            "colorbar": {
             "outlinewidth": 0,
             "ticks": ""
            },
            "colorscale": [
             [
              0,
              "#0d0887"
             ],
             [
              0.1111111111111111,
              "#46039f"
             ],
             [
              0.2222222222222222,
              "#7201a8"
             ],
             [
              0.3333333333333333,
              "#9c179e"
             ],
             [
              0.4444444444444444,
              "#bd3786"
             ],
             [
              0.5555555555555556,
              "#d8576b"
             ],
             [
              0.6666666666666666,
              "#ed7953"
             ],
             [
              0.7777777777777778,
              "#fb9f3a"
             ],
             [
              0.8888888888888888,
              "#fdca26"
             ],
             [
              1,
              "#f0f921"
             ]
            ],
            "type": "heatmapgl"
           }
          ],
          "histogram": [
           {
            "marker": {
             "pattern": {
              "fillmode": "overlay",
              "size": 10,
              "solidity": 0.2
             }
            },
            "type": "histogram"
           }
          ],
          "histogram2d": [
           {
            "colorbar": {
             "outlinewidth": 0,
             "ticks": ""
            },
            "colorscale": [
             [
              0,
              "#0d0887"
             ],
             [
              0.1111111111111111,
              "#46039f"
             ],
             [
              0.2222222222222222,
              "#7201a8"
             ],
             [
              0.3333333333333333,
              "#9c179e"
             ],
             [
              0.4444444444444444,
              "#bd3786"
             ],
             [
              0.5555555555555556,
              "#d8576b"
             ],
             [
              0.6666666666666666,
              "#ed7953"
             ],
             [
              0.7777777777777778,
              "#fb9f3a"
             ],
             [
              0.8888888888888888,
              "#fdca26"
             ],
             [
              1,
              "#f0f921"
             ]
            ],
            "type": "histogram2d"
           }
          ],
          "histogram2dcontour": [
           {
            "colorbar": {
             "outlinewidth": 0,
             "ticks": ""
            },
            "colorscale": [
             [
              0,
              "#0d0887"
             ],
             [
              0.1111111111111111,
              "#46039f"
             ],
             [
              0.2222222222222222,
              "#7201a8"
             ],
             [
              0.3333333333333333,
              "#9c179e"
             ],
             [
              0.4444444444444444,
              "#bd3786"
             ],
             [
              0.5555555555555556,
              "#d8576b"
             ],
             [
              0.6666666666666666,
              "#ed7953"
             ],
             [
              0.7777777777777778,
              "#fb9f3a"
             ],
             [
              0.8888888888888888,
              "#fdca26"
             ],
             [
              1,
              "#f0f921"
             ]
            ],
            "type": "histogram2dcontour"
           }
          ],
          "mesh3d": [
           {
            "colorbar": {
             "outlinewidth": 0,
             "ticks": ""
            },
            "type": "mesh3d"
           }
          ],
          "parcoords": [
           {
            "line": {
             "colorbar": {
              "outlinewidth": 0,
              "ticks": ""
             }
            },
            "type": "parcoords"
           }
          ],
          "pie": [
           {
            "automargin": true,
            "type": "pie"
           }
          ],
          "scatter": [
           {
            "fillpattern": {
             "fillmode": "overlay",
             "size": 10,
             "solidity": 0.2
            },
            "type": "scatter"
           }
          ],
          "scatter3d": [
           {
            "line": {
             "colorbar": {
              "outlinewidth": 0,
              "ticks": ""
             }
            },
            "marker": {
             "colorbar": {
              "outlinewidth": 0,
              "ticks": ""
             }
            },
            "type": "scatter3d"
           }
          ],
          "scattercarpet": [
           {
            "marker": {
             "colorbar": {
              "outlinewidth": 0,
              "ticks": ""
             }
            },
            "type": "scattercarpet"
           }
          ],
          "scattergeo": [
           {
            "marker": {
             "colorbar": {
              "outlinewidth": 0,
              "ticks": ""
             }
            },
            "type": "scattergeo"
           }
          ],
          "scattergl": [
           {
            "marker": {
             "colorbar": {
              "outlinewidth": 0,
              "ticks": ""
             }
            },
            "type": "scattergl"
           }
          ],
          "scattermapbox": [
           {
            "marker": {
             "colorbar": {
              "outlinewidth": 0,
              "ticks": ""
             }
            },
            "type": "scattermapbox"
           }
          ],
          "scatterpolar": [
           {
            "marker": {
             "colorbar": {
              "outlinewidth": 0,
              "ticks": ""
             }
            },
            "type": "scatterpolar"
           }
          ],
          "scatterpolargl": [
           {
            "marker": {
             "colorbar": {
              "outlinewidth": 0,
              "ticks": ""
             }
            },
            "type": "scatterpolargl"
           }
          ],
          "scatterternary": [
           {
            "marker": {
             "colorbar": {
              "outlinewidth": 0,
              "ticks": ""
             }
            },
            "type": "scatterternary"
           }
          ],
          "surface": [
           {
            "colorbar": {
             "outlinewidth": 0,
             "ticks": ""
            },
            "colorscale": [
             [
              0,
              "#0d0887"
             ],
             [
              0.1111111111111111,
              "#46039f"
             ],
             [
              0.2222222222222222,
              "#7201a8"
             ],
             [
              0.3333333333333333,
              "#9c179e"
             ],
             [
              0.4444444444444444,
              "#bd3786"
             ],
             [
              0.5555555555555556,
              "#d8576b"
             ],
             [
              0.6666666666666666,
              "#ed7953"
             ],
             [
              0.7777777777777778,
              "#fb9f3a"
             ],
             [
              0.8888888888888888,
              "#fdca26"
             ],
             [
              1,
              "#f0f921"
             ]
            ],
            "type": "surface"
           }
          ],
          "table": [
           {
            "cells": {
             "fill": {
              "color": "#EBF0F8"
             },
             "line": {
              "color": "white"
             }
            },
            "header": {
             "fill": {
              "color": "#C8D4E3"
             },
             "line": {
              "color": "white"
             }
            },
            "type": "table"
           }
          ]
         },
         "layout": {
          "annotationdefaults": {
           "arrowcolor": "#2a3f5f",
           "arrowhead": 0,
           "arrowwidth": 1
          },
          "autotypenumbers": "strict",
          "coloraxis": {
           "colorbar": {
            "outlinewidth": 0,
            "ticks": ""
           }
          },
          "colorscale": {
           "diverging": [
            [
             0,
             "#8e0152"
            ],
            [
             0.1,
             "#c51b7d"
            ],
            [
             0.2,
             "#de77ae"
            ],
            [
             0.3,
             "#f1b6da"
            ],
            [
             0.4,
             "#fde0ef"
            ],
            [
             0.5,
             "#f7f7f7"
            ],
            [
             0.6,
             "#e6f5d0"
            ],
            [
             0.7,
             "#b8e186"
            ],
            [
             0.8,
             "#7fbc41"
            ],
            [
             0.9,
             "#4d9221"
            ],
            [
             1,
             "#276419"
            ]
           ],
           "sequential": [
            [
             0,
             "#0d0887"
            ],
            [
             0.1111111111111111,
             "#46039f"
            ],
            [
             0.2222222222222222,
             "#7201a8"
            ],
            [
             0.3333333333333333,
             "#9c179e"
            ],
            [
             0.4444444444444444,
             "#bd3786"
            ],
            [
             0.5555555555555556,
             "#d8576b"
            ],
            [
             0.6666666666666666,
             "#ed7953"
            ],
            [
             0.7777777777777778,
             "#fb9f3a"
            ],
            [
             0.8888888888888888,
             "#fdca26"
            ],
            [
             1,
             "#f0f921"
            ]
           ],
           "sequentialminus": [
            [
             0,
             "#0d0887"
            ],
            [
             0.1111111111111111,
             "#46039f"
            ],
            [
             0.2222222222222222,
             "#7201a8"
            ],
            [
             0.3333333333333333,
             "#9c179e"
            ],
            [
             0.4444444444444444,
             "#bd3786"
            ],
            [
             0.5555555555555556,
             "#d8576b"
            ],
            [
             0.6666666666666666,
             "#ed7953"
            ],
            [
             0.7777777777777778,
             "#fb9f3a"
            ],
            [
             0.8888888888888888,
             "#fdca26"
            ],
            [
             1,
             "#f0f921"
            ]
           ]
          },
          "colorway": [
           "#636efa",
           "#EF553B",
           "#00cc96",
           "#ab63fa",
           "#FFA15A",
           "#19d3f3",
           "#FF6692",
           "#B6E880",
           "#FF97FF",
           "#FECB52"
          ],
          "font": {
           "color": "#2a3f5f"
          },
          "geo": {
           "bgcolor": "white",
           "lakecolor": "white",
           "landcolor": "#E5ECF6",
           "showlakes": true,
           "showland": true,
           "subunitcolor": "white"
          },
          "hoverlabel": {
           "align": "left"
          },
          "hovermode": "closest",
          "mapbox": {
           "style": "light"
          },
          "paper_bgcolor": "white",
          "plot_bgcolor": "#E5ECF6",
          "polar": {
           "angularaxis": {
            "gridcolor": "white",
            "linecolor": "white",
            "ticks": ""
           },
           "bgcolor": "#E5ECF6",
           "radialaxis": {
            "gridcolor": "white",
            "linecolor": "white",
            "ticks": ""
           }
          },
          "scene": {
           "xaxis": {
            "backgroundcolor": "#E5ECF6",
            "gridcolor": "white",
            "gridwidth": 2,
            "linecolor": "white",
            "showbackground": true,
            "ticks": "",
            "zerolinecolor": "white"
           },
           "yaxis": {
            "backgroundcolor": "#E5ECF6",
            "gridcolor": "white",
            "gridwidth": 2,
            "linecolor": "white",
            "showbackground": true,
            "ticks": "",
            "zerolinecolor": "white"
           },
           "zaxis": {
            "backgroundcolor": "#E5ECF6",
            "gridcolor": "white",
            "gridwidth": 2,
            "linecolor": "white",
            "showbackground": true,
            "ticks": "",
            "zerolinecolor": "white"
           }
          },
          "shapedefaults": {
           "line": {
            "color": "#2a3f5f"
           }
          },
          "ternary": {
           "aaxis": {
            "gridcolor": "white",
            "linecolor": "white",
            "ticks": ""
           },
           "baxis": {
            "gridcolor": "white",
            "linecolor": "white",
            "ticks": ""
           },
           "bgcolor": "#E5ECF6",
           "caxis": {
            "gridcolor": "white",
            "linecolor": "white",
            "ticks": ""
           }
          },
          "title": {
           "x": 0.05
          },
          "xaxis": {
           "automargin": true,
           "gridcolor": "white",
           "linecolor": "white",
           "ticks": "",
           "title": {
            "standoff": 15
           },
           "zerolinecolor": "white",
           "zerolinewidth": 2
          },
          "yaxis": {
           "automargin": true,
           "gridcolor": "white",
           "linecolor": "white",
           "ticks": "",
           "title": {
            "standoff": 15
           },
           "zerolinecolor": "white",
           "zerolinewidth": 2
          }
         }
        },
        "title": {
         "text": "Climate Mitigation Amount by Sector"
        }
       }
      },
      "text/html": [
       "<div>                            <div id=\"59e2384c-2bca-42fc-93f0-4a80a24a92df\" class=\"plotly-graph-div\" style=\"height:525px; width:100%;\"></div>            <script type=\"text/javascript\">                require([\"plotly\"], function(Plotly) {                    window.PLOTLYENV=window.PLOTLYENV || {};                                    if (document.getElementById(\"59e2384c-2bca-42fc-93f0-4a80a24a92df\")) {                    Plotly.newPlot(                        \"59e2384c-2bca-42fc-93f0-4a80a24a92df\",                        [{\"branchvalues\":\"total\",\"domain\":{\"x\":[0.0,1.0],\"y\":[0.0,1.0]},\"hovertemplate\":\"labels=%{label}\\u003cbr\\u003eclim_miti_amount_2013=%{value}\\u003cbr\\u003eparent=%{parent}\\u003cbr\\u003eid=%{id}\\u003cextra\\u003e\\u003c\\u002fextra\\u003e\",\"ids\":[\"I.1.a. Education, Level Unspecified\",\"I.1.b. Basic Education\",\"I.1.c. Secondary Education\",\"I.1.d. Post-Secondary Education\",\"I.2.a. Health, General\",\"I.2.b. Basic Health\",\"I.2.c. Non-communicable diseases (NCDs)\",\"I.3. Population Policies\\u002fProgrammes & Reproductive Health\",\"I.4. Water Supply & Sanitation\",\"I.5.a. Government & Civil Society-general\",\"I.5.b. Conflict, Peace & Security\",\"I.6. Other Social Infrastructure & Services\",\"II.1. Transport & Storage\",\"II.2. Communications\",\"II.3.a. Energy Policy\",\"II.3.b. Energy generation, renewable sources\",\"II.3.c. Energy generation, non-renewable sources\",\"II.3.d. Hybrid energy plants\",\"II.3.f. Energy distribution\",\"II.4. Banking & Financial Services\",\"II.5. Business & Other Services\",\"III.1.a. Agriculture\",\"III.1.b. Forestry\",\"III.1.c. Fishing\",\"III.2.a. Industry\",\"III.2.b. Mineral Resources & Mining\",\"III.2.c. Construction\",\"III.3.a. Trade Policies & Regulations\",\"III.3.b. Tourism\",\"IV.1. General Environment Protection\",\"IV.2. Other Multisector\",\"IX. Unallocated \\u002f Unspecified\",\"VI.1. General Budget Support\",\"VI.2. Development Food Assistance\",\"VII. Action Relating to Debt\",\"VIII.1. Emergency Response\",\"VIII.2. Reconstruction Relief & Rehabilitation\",\"VIII.3. Disaster Prevention & Preparedness\"],\"labels\":[\"I.1.a. Education, Level Unspecified\",\"I.1.b. Basic Education\",\"I.1.c. Secondary Education\",\"I.1.d. Post-Secondary Education\",\"I.2.a. Health, General\",\"I.2.b. Basic Health\",\"I.2.c. Non-communicable diseases (NCDs)\",\"I.3. Population Policies\\u002fProgrammes & Reproductive Health\",\"I.4. Water Supply & Sanitation\",\"I.5.a. Government & Civil Society-general\",\"I.5.b. Conflict, Peace & Security\",\"I.6. Other Social Infrastructure & Services\",\"II.1. Transport & Storage\",\"II.2. Communications\",\"II.3.a. Energy Policy\",\"II.3.b. Energy generation, renewable sources\",\"II.3.c. Energy generation, non-renewable sources\",\"II.3.d. Hybrid energy plants\",\"II.3.f. Energy distribution\",\"II.4. Banking & Financial Services\",\"II.5. Business & Other Services\",\"III.1.a. Agriculture\",\"III.1.b. Forestry\",\"III.1.c. Fishing\",\"III.2.a. Industry\",\"III.2.b. Mineral Resources & Mining\",\"III.2.c. Construction\",\"III.3.a. Trade Policies & Regulations\",\"III.3.b. Tourism\",\"IV.1. General Environment Protection\",\"IV.2. Other Multisector\",\"IX. Unallocated \\u002f Unspecified\",\"VI.1. General Budget Support\",\"VI.2. Development Food Assistance\",\"VII. Action Relating to Debt\",\"VIII.1. Emergency Response\",\"VIII.2. Reconstruction Relief & Rehabilitation\",\"VIII.3. Disaster Prevention & Preparedness\"],\"name\":\"\",\"parents\":[\"\",\"\",\"\",\"\",\"\",\"\",\"\",\"\",\"\",\"\",\"\",\"\",\"\",\"\",\"\",\"\",\"\",\"\",\"\",\"\",\"\",\"\",\"\",\"\",\"\",\"\",\"\",\"\",\"\",\"\",\"\",\"\",\"\",\"\",\"\",\"\",\"\",\"\"],\"values\":[2.443084,0.046073,1.0785045,7.3032745,0.0245835,0.5783245,0.0,1.007634,26.2450375,25.273254,0.1232305,0.2537574999999999,3.905017,0.0,38.41865,106.2940405,8.0677155,0.0,38.826143,41.511661,5.9792315,23.4222235,30.1531505,0.5597025,0.0,0.16638,0.0,0.972454,0.057246,156.557101,38.39713,0.5759795,0.0,0.206914,0.0,0.2933065,1.6339169999999998,0.9603425],\"type\":\"sunburst\"}],                        {\"template\":{\"data\":{\"histogram2dcontour\":[{\"type\":\"histogram2dcontour\",\"colorbar\":{\"outlinewidth\":0,\"ticks\":\"\"},\"colorscale\":[[0.0,\"#0d0887\"],[0.1111111111111111,\"#46039f\"],[0.2222222222222222,\"#7201a8\"],[0.3333333333333333,\"#9c179e\"],[0.4444444444444444,\"#bd3786\"],[0.5555555555555556,\"#d8576b\"],[0.6666666666666666,\"#ed7953\"],[0.7777777777777778,\"#fb9f3a\"],[0.8888888888888888,\"#fdca26\"],[1.0,\"#f0f921\"]]}],\"choropleth\":[{\"type\":\"choropleth\",\"colorbar\":{\"outlinewidth\":0,\"ticks\":\"\"}}],\"histogram2d\":[{\"type\":\"histogram2d\",\"colorbar\":{\"outlinewidth\":0,\"ticks\":\"\"},\"colorscale\":[[0.0,\"#0d0887\"],[0.1111111111111111,\"#46039f\"],[0.2222222222222222,\"#7201a8\"],[0.3333333333333333,\"#9c179e\"],[0.4444444444444444,\"#bd3786\"],[0.5555555555555556,\"#d8576b\"],[0.6666666666666666,\"#ed7953\"],[0.7777777777777778,\"#fb9f3a\"],[0.8888888888888888,\"#fdca26\"],[1.0,\"#f0f921\"]]}],\"heatmap\":[{\"type\":\"heatmap\",\"colorbar\":{\"outlinewidth\":0,\"ticks\":\"\"},\"colorscale\":[[0.0,\"#0d0887\"],[0.1111111111111111,\"#46039f\"],[0.2222222222222222,\"#7201a8\"],[0.3333333333333333,\"#9c179e\"],[0.4444444444444444,\"#bd3786\"],[0.5555555555555556,\"#d8576b\"],[0.6666666666666666,\"#ed7953\"],[0.7777777777777778,\"#fb9f3a\"],[0.8888888888888888,\"#fdca26\"],[1.0,\"#f0f921\"]]}],\"heatmapgl\":[{\"type\":\"heatmapgl\",\"colorbar\":{\"outlinewidth\":0,\"ticks\":\"\"},\"colorscale\":[[0.0,\"#0d0887\"],[0.1111111111111111,\"#46039f\"],[0.2222222222222222,\"#7201a8\"],[0.3333333333333333,\"#9c179e\"],[0.4444444444444444,\"#bd3786\"],[0.5555555555555556,\"#d8576b\"],[0.6666666666666666,\"#ed7953\"],[0.7777777777777778,\"#fb9f3a\"],[0.8888888888888888,\"#fdca26\"],[1.0,\"#f0f921\"]]}],\"contourcarpet\":[{\"type\":\"contourcarpet\",\"colorbar\":{\"outlinewidth\":0,\"ticks\":\"\"}}],\"contour\":[{\"type\":\"contour\",\"colorbar\":{\"outlinewidth\":0,\"ticks\":\"\"},\"colorscale\":[[0.0,\"#0d0887\"],[0.1111111111111111,\"#46039f\"],[0.2222222222222222,\"#7201a8\"],[0.3333333333333333,\"#9c179e\"],[0.4444444444444444,\"#bd3786\"],[0.5555555555555556,\"#d8576b\"],[0.6666666666666666,\"#ed7953\"],[0.7777777777777778,\"#fb9f3a\"],[0.8888888888888888,\"#fdca26\"],[1.0,\"#f0f921\"]]}],\"surface\":[{\"type\":\"surface\",\"colorbar\":{\"outlinewidth\":0,\"ticks\":\"\"},\"colorscale\":[[0.0,\"#0d0887\"],[0.1111111111111111,\"#46039f\"],[0.2222222222222222,\"#7201a8\"],[0.3333333333333333,\"#9c179e\"],[0.4444444444444444,\"#bd3786\"],[0.5555555555555556,\"#d8576b\"],[0.6666666666666666,\"#ed7953\"],[0.7777777777777778,\"#fb9f3a\"],[0.8888888888888888,\"#fdca26\"],[1.0,\"#f0f921\"]]}],\"mesh3d\":[{\"type\":\"mesh3d\",\"colorbar\":{\"outlinewidth\":0,\"ticks\":\"\"}}],\"scatter\":[{\"fillpattern\":{\"fillmode\":\"overlay\",\"size\":10,\"solidity\":0.2},\"type\":\"scatter\"}],\"parcoords\":[{\"type\":\"parcoords\",\"line\":{\"colorbar\":{\"outlinewidth\":0,\"ticks\":\"\"}}}],\"scatterpolargl\":[{\"type\":\"scatterpolargl\",\"marker\":{\"colorbar\":{\"outlinewidth\":0,\"ticks\":\"\"}}}],\"bar\":[{\"error_x\":{\"color\":\"#2a3f5f\"},\"error_y\":{\"color\":\"#2a3f5f\"},\"marker\":{\"line\":{\"color\":\"#E5ECF6\",\"width\":0.5},\"pattern\":{\"fillmode\":\"overlay\",\"size\":10,\"solidity\":0.2}},\"type\":\"bar\"}],\"scattergeo\":[{\"type\":\"scattergeo\",\"marker\":{\"colorbar\":{\"outlinewidth\":0,\"ticks\":\"\"}}}],\"scatterpolar\":[{\"type\":\"scatterpolar\",\"marker\":{\"colorbar\":{\"outlinewidth\":0,\"ticks\":\"\"}}}],\"histogram\":[{\"marker\":{\"pattern\":{\"fillmode\":\"overlay\",\"size\":10,\"solidity\":0.2}},\"type\":\"histogram\"}],\"scattergl\":[{\"type\":\"scattergl\",\"marker\":{\"colorbar\":{\"outlinewidth\":0,\"ticks\":\"\"}}}],\"scatter3d\":[{\"type\":\"scatter3d\",\"line\":{\"colorbar\":{\"outlinewidth\":0,\"ticks\":\"\"}},\"marker\":{\"colorbar\":{\"outlinewidth\":0,\"ticks\":\"\"}}}],\"scattermapbox\":[{\"type\":\"scattermapbox\",\"marker\":{\"colorbar\":{\"outlinewidth\":0,\"ticks\":\"\"}}}],\"scatterternary\":[{\"type\":\"scatterternary\",\"marker\":{\"colorbar\":{\"outlinewidth\":0,\"ticks\":\"\"}}}],\"scattercarpet\":[{\"type\":\"scattercarpet\",\"marker\":{\"colorbar\":{\"outlinewidth\":0,\"ticks\":\"\"}}}],\"carpet\":[{\"aaxis\":{\"endlinecolor\":\"#2a3f5f\",\"gridcolor\":\"white\",\"linecolor\":\"white\",\"minorgridcolor\":\"white\",\"startlinecolor\":\"#2a3f5f\"},\"baxis\":{\"endlinecolor\":\"#2a3f5f\",\"gridcolor\":\"white\",\"linecolor\":\"white\",\"minorgridcolor\":\"white\",\"startlinecolor\":\"#2a3f5f\"},\"type\":\"carpet\"}],\"table\":[{\"cells\":{\"fill\":{\"color\":\"#EBF0F8\"},\"line\":{\"color\":\"white\"}},\"header\":{\"fill\":{\"color\":\"#C8D4E3\"},\"line\":{\"color\":\"white\"}},\"type\":\"table\"}],\"barpolar\":[{\"marker\":{\"line\":{\"color\":\"#E5ECF6\",\"width\":0.5},\"pattern\":{\"fillmode\":\"overlay\",\"size\":10,\"solidity\":0.2}},\"type\":\"barpolar\"}],\"pie\":[{\"automargin\":true,\"type\":\"pie\"}]},\"layout\":{\"autotypenumbers\":\"strict\",\"colorway\":[\"#636efa\",\"#EF553B\",\"#00cc96\",\"#ab63fa\",\"#FFA15A\",\"#19d3f3\",\"#FF6692\",\"#B6E880\",\"#FF97FF\",\"#FECB52\"],\"font\":{\"color\":\"#2a3f5f\"},\"hovermode\":\"closest\",\"hoverlabel\":{\"align\":\"left\"},\"paper_bgcolor\":\"white\",\"plot_bgcolor\":\"#E5ECF6\",\"polar\":{\"bgcolor\":\"#E5ECF6\",\"angularaxis\":{\"gridcolor\":\"white\",\"linecolor\":\"white\",\"ticks\":\"\"},\"radialaxis\":{\"gridcolor\":\"white\",\"linecolor\":\"white\",\"ticks\":\"\"}},\"ternary\":{\"bgcolor\":\"#E5ECF6\",\"aaxis\":{\"gridcolor\":\"white\",\"linecolor\":\"white\",\"ticks\":\"\"},\"baxis\":{\"gridcolor\":\"white\",\"linecolor\":\"white\",\"ticks\":\"\"},\"caxis\":{\"gridcolor\":\"white\",\"linecolor\":\"white\",\"ticks\":\"\"}},\"coloraxis\":{\"colorbar\":{\"outlinewidth\":0,\"ticks\":\"\"}},\"colorscale\":{\"sequential\":[[0.0,\"#0d0887\"],[0.1111111111111111,\"#46039f\"],[0.2222222222222222,\"#7201a8\"],[0.3333333333333333,\"#9c179e\"],[0.4444444444444444,\"#bd3786\"],[0.5555555555555556,\"#d8576b\"],[0.6666666666666666,\"#ed7953\"],[0.7777777777777778,\"#fb9f3a\"],[0.8888888888888888,\"#fdca26\"],[1.0,\"#f0f921\"]],\"sequentialminus\":[[0.0,\"#0d0887\"],[0.1111111111111111,\"#46039f\"],[0.2222222222222222,\"#7201a8\"],[0.3333333333333333,\"#9c179e\"],[0.4444444444444444,\"#bd3786\"],[0.5555555555555556,\"#d8576b\"],[0.6666666666666666,\"#ed7953\"],[0.7777777777777778,\"#fb9f3a\"],[0.8888888888888888,\"#fdca26\"],[1.0,\"#f0f921\"]],\"diverging\":[[0,\"#8e0152\"],[0.1,\"#c51b7d\"],[0.2,\"#de77ae\"],[0.3,\"#f1b6da\"],[0.4,\"#fde0ef\"],[0.5,\"#f7f7f7\"],[0.6,\"#e6f5d0\"],[0.7,\"#b8e186\"],[0.8,\"#7fbc41\"],[0.9,\"#4d9221\"],[1,\"#276419\"]]},\"xaxis\":{\"gridcolor\":\"white\",\"linecolor\":\"white\",\"ticks\":\"\",\"title\":{\"standoff\":15},\"zerolinecolor\":\"white\",\"automargin\":true,\"zerolinewidth\":2},\"yaxis\":{\"gridcolor\":\"white\",\"linecolor\":\"white\",\"ticks\":\"\",\"title\":{\"standoff\":15},\"zerolinecolor\":\"white\",\"automargin\":true,\"zerolinewidth\":2},\"scene\":{\"xaxis\":{\"backgroundcolor\":\"#E5ECF6\",\"gridcolor\":\"white\",\"linecolor\":\"white\",\"showbackground\":true,\"ticks\":\"\",\"zerolinecolor\":\"white\",\"gridwidth\":2},\"yaxis\":{\"backgroundcolor\":\"#E5ECF6\",\"gridcolor\":\"white\",\"linecolor\":\"white\",\"showbackground\":true,\"ticks\":\"\",\"zerolinecolor\":\"white\",\"gridwidth\":2},\"zaxis\":{\"backgroundcolor\":\"#E5ECF6\",\"gridcolor\":\"white\",\"linecolor\":\"white\",\"showbackground\":true,\"ticks\":\"\",\"zerolinecolor\":\"white\",\"gridwidth\":2}},\"shapedefaults\":{\"line\":{\"color\":\"#2a3f5f\"}},\"annotationdefaults\":{\"arrowcolor\":\"#2a3f5f\",\"arrowhead\":0,\"arrowwidth\":1},\"geo\":{\"bgcolor\":\"white\",\"landcolor\":\"#E5ECF6\",\"subunitcolor\":\"white\",\"showland\":true,\"showlakes\":true,\"lakecolor\":\"white\"},\"title\":{\"x\":0.05},\"mapbox\":{\"style\":\"light\"}}},\"legend\":{\"tracegroupgap\":0},\"title\":{\"text\":\"Climate Mitigation Amount by Sector\"}},                        {\"responsive\": true}                    ).then(function(){\n",
       "                            \n",
       "var gd = document.getElementById('59e2384c-2bca-42fc-93f0-4a80a24a92df');\n",
       "var x = new MutationObserver(function (mutations, observer) {{\n",
       "        var display = window.getComputedStyle(gd).display;\n",
       "        if (!display || display === 'none') {{\n",
       "            console.log([gd, 'removed!']);\n",
       "            Plotly.purge(gd);\n",
       "            observer.disconnect();\n",
       "        }}\n",
       "}});\n",
       "\n",
       "// Listen for the removal of the full notebook cells\n",
       "var notebookContainer = gd.closest('#notebook-container');\n",
       "if (notebookContainer) {{\n",
       "    x.observe(notebookContainer, {childList: true});\n",
       "}}\n",
       "\n",
       "// Listen for the clearing of the current output cell\n",
       "var outputEl = gd.closest('.output');\n",
       "if (outputEl) {{\n",
       "    x.observe(outputEl, {childList: true});\n",
       "}}\n",
       "\n",
       "                        })                };                });            </script>        </div>"
      ]
     },
     "metadata": {},
     "output_type": "display_data"
    }
   ],
   "source": [
    "clim_miti_fig = px.sunburst(filtered_year_df, path=['Sector'], values=f'clim_miti_amount_{year}', title='Climate Mitigation Amount by Sector')\n",
    "clim_miti_fig.show()\n"
   ]
  },
  {
   "cell_type": "code",
   "execution_count": null,
   "id": "a0df7b4d",
   "metadata": {},
   "outputs": [],
   "source": []
  },
  {
   "cell_type": "code",
   "execution_count": null,
   "id": "c8fc5425",
   "metadata": {},
   "outputs": [],
   "source": []
  },
  {
   "cell_type": "code",
   "execution_count": null,
   "id": "a025ad94",
   "metadata": {},
   "outputs": [],
   "source": []
  },
  {
   "cell_type": "code",
   "execution_count": null,
   "id": "fb93d3ef",
   "metadata": {},
   "outputs": [],
   "source": []
  },
  {
   "cell_type": "code",
   "execution_count": null,
   "id": "f2eb3ed8",
   "metadata": {},
   "outputs": [],
   "source": []
  },
  {
   "cell_type": "code",
   "execution_count": null,
   "id": "7bfd3b97",
   "metadata": {},
   "outputs": [],
   "source": []
  },
  {
   "cell_type": "code",
   "execution_count": null,
   "id": "c56fea45",
   "metadata": {},
   "outputs": [],
   "source": []
  },
  {
   "cell_type": "code",
   "execution_count": null,
   "id": "5cf8a462",
   "metadata": {},
   "outputs": [],
   "source": []
  },
  {
   "cell_type": "code",
   "execution_count": null,
   "id": "cbf01360",
   "metadata": {},
   "outputs": [],
   "source": []
  },
  {
   "cell_type": "code",
   "execution_count": null,
   "id": "9447cd80",
   "metadata": {},
   "outputs": [],
   "source": []
  },
  {
   "cell_type": "code",
   "execution_count": null,
   "id": "f7b4ccb5",
   "metadata": {},
   "outputs": [],
   "source": []
  },
  {
   "cell_type": "code",
   "execution_count": null,
   "id": "0e025d8c",
   "metadata": {},
   "outputs": [],
   "source": []
  },
  {
   "cell_type": "code",
   "execution_count": null,
   "id": "b1ea499d",
   "metadata": {},
   "outputs": [],
   "source": []
  },
  {
   "cell_type": "code",
   "execution_count": null,
   "id": "f8f1b6cb",
   "metadata": {},
   "outputs": [],
   "source": []
  },
  {
   "cell_type": "code",
   "execution_count": null,
   "id": "13a49a50",
   "metadata": {},
   "outputs": [],
   "source": []
  },
  {
   "cell_type": "code",
   "execution_count": null,
   "id": "26422317",
   "metadata": {},
   "outputs": [],
   "source": []
  },
  {
   "cell_type": "code",
   "execution_count": null,
   "id": "2230a486",
   "metadata": {},
   "outputs": [],
   "source": []
  },
  {
   "cell_type": "code",
   "execution_count": null,
   "id": "0be0be7c",
   "metadata": {},
   "outputs": [],
   "source": []
  },
  {
   "cell_type": "code",
   "execution_count": 9,
   "id": "4de03de1",
   "metadata": {},
   "outputs": [
    {
     "data": {
      "text/html": [
       "<div>\n",
       "<style scoped>\n",
       "    .dataframe tbody tr th:only-of-type {\n",
       "        vertical-align: middle;\n",
       "    }\n",
       "\n",
       "    .dataframe tbody tr th {\n",
       "        vertical-align: top;\n",
       "    }\n",
       "\n",
       "    .dataframe thead th {\n",
       "        text-align: right;\n",
       "    }\n",
       "</style>\n",
       "<table border=\"1\" class=\"dataframe\">\n",
       "  <thead>\n",
       "    <tr style=\"text-align: right;\">\n",
       "      <th></th>\n",
       "      <th>Sector</th>\n",
       "      <th>SECTOR</th>\n",
       "    </tr>\n",
       "  </thead>\n",
       "  <tbody>\n",
       "    <tr>\n",
       "      <th>0</th>\n",
       "      <td>IV.1. General Environment Protection</td>\n",
       "      <td>41010</td>\n",
       "    </tr>\n",
       "    <tr>\n",
       "      <th>1</th>\n",
       "      <td>IV.1. General Environment Protection</td>\n",
       "      <td>41020</td>\n",
       "    </tr>\n",
       "    <tr>\n",
       "      <th>2</th>\n",
       "      <td>IV.2. Other Multisector</td>\n",
       "      <td>43010</td>\n",
       "    </tr>\n",
       "    <tr>\n",
       "      <th>3</th>\n",
       "      <td>IV.2. Other Multisector</td>\n",
       "      <td>43010</td>\n",
       "    </tr>\n",
       "    <tr>\n",
       "      <th>4</th>\n",
       "      <td>IV.2. Other Multisector</td>\n",
       "      <td>43030</td>\n",
       "    </tr>\n",
       "    <tr>\n",
       "      <th>...</th>\n",
       "      <td>...</td>\n",
       "      <td>...</td>\n",
       "    </tr>\n",
       "    <tr>\n",
       "      <th>12596</th>\n",
       "      <td>I.1.b. Basic Education</td>\n",
       "      <td>11230</td>\n",
       "    </tr>\n",
       "    <tr>\n",
       "      <th>12598</th>\n",
       "      <td>IV.2. Other Multisector</td>\n",
       "      <td>43010</td>\n",
       "    </tr>\n",
       "    <tr>\n",
       "      <th>12601</th>\n",
       "      <td>IV.2. Other Multisector</td>\n",
       "      <td>43010</td>\n",
       "    </tr>\n",
       "    <tr>\n",
       "      <th>12611</th>\n",
       "      <td>I.5.a. Government &amp; Civil Society-general</td>\n",
       "      <td>15110</td>\n",
       "    </tr>\n",
       "    <tr>\n",
       "      <th>12630</th>\n",
       "      <td>IV.2. Other Multisector</td>\n",
       "      <td>43010</td>\n",
       "    </tr>\n",
       "  </tbody>\n",
       "</table>\n",
       "<p>6570 rows × 2 columns</p>\n",
       "</div>"
      ],
      "text/plain": [
       "                                          Sector  SECTOR\n",
       "0           IV.1. General Environment Protection   41010\n",
       "1           IV.1. General Environment Protection   41020\n",
       "2                        IV.2. Other Multisector   43010\n",
       "3                        IV.2. Other Multisector   43010\n",
       "4                        IV.2. Other Multisector   43030\n",
       "...                                          ...     ...\n",
       "12596                     I.1.b. Basic Education   11230\n",
       "12598                    IV.2. Other Multisector   43010\n",
       "12601                    IV.2. Other Multisector   43010\n",
       "12611  I.5.a. Government & Civil Society-general   15110\n",
       "12630                    IV.2. Other Multisector   43010\n",
       "\n",
       "[6570 rows x 2 columns]"
      ]
     },
     "execution_count": 9,
     "metadata": {},
     "output_type": "execute_result"
    }
   ],
   "source": [
    "dictionary_df['2015'][['Sector', 'SECTOR']]"
   ]
  }
 ],
 "metadata": {
  "kernelspec": {
   "display_name": "Python 3 (ipykernel)",
   "language": "python",
   "name": "python3"
  },
  "language_info": {
   "codemirror_mode": {
    "name": "ipython",
    "version": 3
   },
   "file_extension": ".py",
   "mimetype": "text/x-python",
   "name": "python",
   "nbconvert_exporter": "python",
   "pygments_lexer": "ipython3",
   "version": "3.10.6"
  },
  "toc": {
   "base_numbering": 1,
   "nav_menu": {},
   "number_sections": true,
   "sideBar": true,
   "skip_h1_title": false,
   "title_cell": "Table of Contents",
   "title_sidebar": "Contents",
   "toc_cell": false,
   "toc_position": {},
   "toc_section_display": true,
   "toc_window_display": false
  },
  "varInspector": {
   "cols": {
    "lenName": 16,
    "lenType": 16,
    "lenVar": 40
   },
   "kernels_config": {
    "python": {
     "delete_cmd_postfix": "",
     "delete_cmd_prefix": "del ",
     "library": "var_list.py",
     "varRefreshCmd": "print(var_dic_list())"
    },
    "r": {
     "delete_cmd_postfix": ") ",
     "delete_cmd_prefix": "rm(",
     "library": "var_list.r",
     "varRefreshCmd": "cat(var_dic_list()) "
    }
   },
   "types_to_exclude": [
    "module",
    "function",
    "builtin_function_or_method",
    "instance",
    "_Feature"
   ],
   "window_display": false
  }
 },
 "nbformat": 4,
 "nbformat_minor": 5
}
