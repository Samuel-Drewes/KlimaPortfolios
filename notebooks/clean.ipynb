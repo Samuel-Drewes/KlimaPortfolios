{
 "cells": [
  {
   "cell_type": "markdown",
   "id": "7a5a252e",
   "metadata": {},
   "source": [
    "# Imports & Data Loading"
   ]
  },
  {
   "cell_type": "code",
   "execution_count": 3,
   "id": "19c5f963",
   "metadata": {},
   "outputs": [],
   "source": [
    "import numpy as np\n",
    "import pandas as pd\n",
    "\n",
    "from functools import reduce\n",
    "\n",
    "import plotly.express as px\n",
    "import plotly.graph_objects as go\n",
    "\n",
    "import warnings\n",
    "warnings.filterwarnings('ignore')"
   ]
  },
  {
   "cell_type": "code",
   "execution_count": 4,
   "id": "e4a2aad6",
   "metadata": {},
   "outputs": [],
   "source": [
    "df_2013 = pd.read_csv('../data/2013.csv')\n",
    "df_2014 = pd.read_csv('../data/2014.csv')\n",
    "df_2015 = pd.read_csv('../data/2015.csv')\n",
    "df_2016 = pd.read_csv('../data/2016.csv')\n",
    "df_2017 = pd.read_csv('../data/2017.csv')\n",
    "df_2018 = pd.read_csv('../data/2018.csv')\n",
    "df_2019 = pd.read_csv('../data/2019.csv')\n",
    "df_2020 = pd.read_csv('../data/2020.csv')\n",
    "df_2021 = pd.read_csv('../data/2021.csv')\n",
    "df_2022 = pd.read_csv('../data/2022.csv')\n",
    "\n",
    "\n",
    "dictionary_df = {\n",
    "    '2013': df_2013,\n",
    "    '2014': df_2014,\n",
    "    '2015': df_2015,\n",
    "    '2016': df_2016,\n",
    "    '2017': df_2017,\n",
    "    '2018': df_2018,\n",
    "    '2019': df_2019,\n",
    "    '2020': df_2020,\n",
    "    '2021': df_2021,\n",
    "    '2022': df_2022,\n",
    "}\n",
    "\n",
    "for key, df in dictionary_df.items():\n",
    "    dictionary_df[key] = df[(df['Donor Agency'] == 'Bundesministerium fnr Wirtschaftliche Zusammenarbeit und Entwicklung')]\n",
    "    dictionary_df[key] = dictionary_df[key][dictionary_df[key]['Sector'] != 'Administrative Costs of Donors']\n",
    "    \n",
    "    "
   ]
  },
  {
   "cell_type": "markdown",
   "id": "e00a69b5",
   "metadata": {},
   "source": [
    "# Data Processing for Globe Stacked"
   ]
  },
  {
   "cell_type": "code",
   "execution_count": 46,
   "id": "d9d04ad6",
   "metadata": {},
   "outputs": [],
   "source": [
    "# Basic Processing of Data\n",
    "\n",
    "def determine_value(row):\n",
    "    if 2.0 in row[['Climate Adaptation', 'Climate Mitigation']].values:\n",
    "        return 1\n",
    "    elif row['Climate Adaptation'] == 1.0 and row['Climate Mitigation'] == 1.0:\n",
    "        return 1\n",
    "    elif 1.0 in row[['Climate Adaptation', 'Climate Mitigation']].values:\n",
    "        return 0.5\n",
    "    else:\n",
    "        return 0\n",
    "\n",
    "# final_dict = dictionary_df.copy()    \n",
    "processed_grouped_dfs = []\n",
    "\n",
    "    \n",
    "for year, df in dictionary_df.items():\n",
    "    \n",
    "    # Data Cleaning\n",
    "    use_df = df[['Recipient Name', 'Amount', 'Climate Mitigation', 'Climate Adaptation']]\n",
    "    use_df['Climate Adaptation'] = use_df['Climate Adaptation'].fillna(0)\n",
    "    use_df['Climate Mitigation'] = use_df['Climate Mitigation'].fillna(0)\n",
    "    \n",
    "    # Applying analysis Rules\n",
    "    \n",
    "    use_df['clim_rel'] = use_df.apply(determine_value, axis=1)\n",
    "    \n",
    "    use_df['clim_rel_amount'] = use_df['Amount'] * use_df['clim_rel']\n",
    "    use_df['clim_adapt_amount'] = use_df['Amount'] * (use_df['Climate Adaptation'] / 2)\n",
    "    use_df['clim_miti_amount'] = use_df['Amount'] * (use_df['Climate Mitigation'] / 2)\n",
    "    \n",
    "    # Grouping by Country and calculating\n",
    "    \n",
    "    grouped_df = use_df.groupby(['Recipient Name']).sum()[['Amount', 'clim_rel_amount', 'clim_adapt_amount', 'clim_miti_amount']]\n",
    "    \n",
    "    grouped_df['clim_rel_percent'] = grouped_df['clim_rel_amount'] / grouped_df['Amount']\n",
    "    \n",
    "    grouped_df = grouped_df.rename(columns= {\n",
    "        'Amount': f\"amount_{year}\",\n",
    "        'clim_rel_amount': f\"clim_rel_amount_{year}\",\n",
    "        'clim_rel_percent': f\"clim_rel_percent_{year}\",\n",
    "        'clim_adapt_amount': f\"clim_adapt_amount_{year}\",\n",
    "        'clim_miti_amount': f\"clim_miti_amount_{year}\"\n",
    "    })\n",
    "    \n",
    "    # Merging DF\n",
    "    \n",
    "    processed_grouped_dfs.append(grouped_df)\n",
    "    \n",
    "df_merged = reduce(lambda left, right: pd.merge(left, right, on='Recipient Name', how='outer'), processed_grouped_dfs)\n",
    "\n"
   ]
  },
  {
   "cell_type": "markdown",
   "id": "e4fe424d",
   "metadata": {},
   "source": [
    "## Combined"
   ]
  },
  {
   "cell_type": "code",
   "execution_count": 8,
   "id": "154c83c0",
   "metadata": {},
   "outputs": [],
   "source": [
    "selected_columns = [col for col in df_merged.columns if col.startswith('amount_') or col.startswith('clim_rel_amount_')]\n",
    "filtered_df = df_merged[selected_columns]\n",
    "\n",
    "sums = filtered_df.sum()\n",
    "globe_df = filtered_df.append(sums, ignore_index=True)\n",
    "\n",
    "\n",
    "# globe_df = globe_df.loc[[38]]"
   ]
  },
  {
   "cell_type": "code",
   "execution_count": 9,
   "id": "6c048bd2",
   "metadata": {},
   "outputs": [
    {
     "data": {
      "text/html": [
       "<div>\n",
       "<style scoped>\n",
       "    .dataframe tbody tr th:only-of-type {\n",
       "        vertical-align: middle;\n",
       "    }\n",
       "\n",
       "    .dataframe tbody tr th {\n",
       "        vertical-align: top;\n",
       "    }\n",
       "\n",
       "    .dataframe thead th {\n",
       "        text-align: right;\n",
       "    }\n",
       "</style>\n",
       "<table border=\"1\" class=\"dataframe\">\n",
       "  <thead>\n",
       "    <tr style=\"text-align: right;\">\n",
       "      <th></th>\n",
       "      <th>amount_2013</th>\n",
       "      <th>clim_rel_amount_2013</th>\n",
       "      <th>amount_2014</th>\n",
       "      <th>clim_rel_amount_2014</th>\n",
       "      <th>amount_2015</th>\n",
       "      <th>clim_rel_amount_2015</th>\n",
       "      <th>amount_2016</th>\n",
       "      <th>clim_rel_amount_2016</th>\n",
       "      <th>amount_2017</th>\n",
       "      <th>clim_rel_amount_2017</th>\n",
       "      <th>amount_2018</th>\n",
       "      <th>clim_rel_amount_2018</th>\n",
       "      <th>amount_2019</th>\n",
       "      <th>clim_rel_amount_2019</th>\n",
       "      <th>amount_2020</th>\n",
       "      <th>clim_rel_amount_2020</th>\n",
       "      <th>amount_2021</th>\n",
       "      <th>clim_rel_amount_2021</th>\n",
       "      <th>amount_2022</th>\n",
       "      <th>clim_rel_amount_2022</th>\n",
       "    </tr>\n",
       "  </thead>\n",
       "  <tbody>\n",
       "    <tr>\n",
       "      <th>0</th>\n",
       "      <td>229.878097</td>\n",
       "      <td>19.054332</td>\n",
       "      <td>286.807860</td>\n",
       "      <td>31.714736</td>\n",
       "      <td>197.429500</td>\n",
       "      <td>33.457037</td>\n",
       "      <td>346.234112</td>\n",
       "      <td>38.308328</td>\n",
       "      <td>311.670340</td>\n",
       "      <td>42.762633</td>\n",
       "      <td>255.815158</td>\n",
       "      <td>41.988156</td>\n",
       "      <td>241.099156</td>\n",
       "      <td>40.556326</td>\n",
       "      <td>196.114075</td>\n",
       "      <td>34.977410</td>\n",
       "      <td>352.840862</td>\n",
       "      <td>51.961490</td>\n",
       "      <td>201.939382</td>\n",
       "      <td>16.806849</td>\n",
       "    </tr>\n",
       "    <tr>\n",
       "      <th>1</th>\n",
       "      <td>132.706037</td>\n",
       "      <td>34.375215</td>\n",
       "      <td>129.848523</td>\n",
       "      <td>17.713145</td>\n",
       "      <td>182.614727</td>\n",
       "      <td>79.600243</td>\n",
       "      <td>129.000894</td>\n",
       "      <td>21.123321</td>\n",
       "      <td>240.258759</td>\n",
       "      <td>109.944048</td>\n",
       "      <td>262.731752</td>\n",
       "      <td>63.757281</td>\n",
       "      <td>555.037032</td>\n",
       "      <td>147.663336</td>\n",
       "      <td>686.808006</td>\n",
       "      <td>180.211271</td>\n",
       "      <td>643.229422</td>\n",
       "      <td>136.808525</td>\n",
       "      <td>627.644704</td>\n",
       "      <td>195.336748</td>\n",
       "    </tr>\n",
       "    <tr>\n",
       "      <th>2</th>\n",
       "      <td>19.317268</td>\n",
       "      <td>5.281618</td>\n",
       "      <td>16.371641</td>\n",
       "      <td>5.216575</td>\n",
       "      <td>19.155382</td>\n",
       "      <td>6.609535</td>\n",
       "      <td>18.968980</td>\n",
       "      <td>6.652384</td>\n",
       "      <td>21.017326</td>\n",
       "      <td>7.728618</td>\n",
       "      <td>55.514401</td>\n",
       "      <td>44.503031</td>\n",
       "      <td>19.355900</td>\n",
       "      <td>5.719183</td>\n",
       "      <td>30.080577</td>\n",
       "      <td>7.164332</td>\n",
       "      <td>29.366152</td>\n",
       "      <td>10.070879</td>\n",
       "      <td>25.328362</td>\n",
       "      <td>9.591473</td>\n",
       "    </tr>\n",
       "    <tr>\n",
       "      <th>3</th>\n",
       "      <td>6.080655</td>\n",
       "      <td>2.350579</td>\n",
       "      <td>5.218615</td>\n",
       "      <td>4.723721</td>\n",
       "      <td>6.014444</td>\n",
       "      <td>5.011871</td>\n",
       "      <td>4.684949</td>\n",
       "      <td>3.522966</td>\n",
       "      <td>5.347355</td>\n",
       "      <td>4.006726</td>\n",
       "      <td>6.986998</td>\n",
       "      <td>5.201791</td>\n",
       "      <td>9.983005</td>\n",
       "      <td>6.724355</td>\n",
       "      <td>11.714897</td>\n",
       "      <td>5.986887</td>\n",
       "      <td>25.777176</td>\n",
       "      <td>7.808470</td>\n",
       "      <td>16.273651</td>\n",
       "      <td>8.764504</td>\n",
       "    </tr>\n",
       "    <tr>\n",
       "      <th>4</th>\n",
       "      <td>61.039902</td>\n",
       "      <td>16.707576</td>\n",
       "      <td>73.783053</td>\n",
       "      <td>35.047207</td>\n",
       "      <td>48.050705</td>\n",
       "      <td>6.148801</td>\n",
       "      <td>77.236341</td>\n",
       "      <td>29.640753</td>\n",
       "      <td>95.230412</td>\n",
       "      <td>58.889436</td>\n",
       "      <td>59.652114</td>\n",
       "      <td>26.355707</td>\n",
       "      <td>103.276123</td>\n",
       "      <td>56.378290</td>\n",
       "      <td>146.314609</td>\n",
       "      <td>103.204088</td>\n",
       "      <td>82.869791</td>\n",
       "      <td>34.533597</td>\n",
       "      <td>107.665968</td>\n",
       "      <td>67.062139</td>\n",
       "    </tr>\n",
       "    <tr>\n",
       "      <th>...</th>\n",
       "      <td>...</td>\n",
       "      <td>...</td>\n",
       "      <td>...</td>\n",
       "      <td>...</td>\n",
       "      <td>...</td>\n",
       "      <td>...</td>\n",
       "      <td>...</td>\n",
       "      <td>...</td>\n",
       "      <td>...</td>\n",
       "      <td>...</td>\n",
       "      <td>...</td>\n",
       "      <td>...</td>\n",
       "      <td>...</td>\n",
       "      <td>...</td>\n",
       "      <td>...</td>\n",
       "      <td>...</td>\n",
       "      <td>...</td>\n",
       "      <td>...</td>\n",
       "      <td>...</td>\n",
       "      <td>...</td>\n",
       "    </tr>\n",
       "    <tr>\n",
       "      <th>138</th>\n",
       "      <td>NaN</td>\n",
       "      <td>NaN</td>\n",
       "      <td>NaN</td>\n",
       "      <td>NaN</td>\n",
       "      <td>NaN</td>\n",
       "      <td>NaN</td>\n",
       "      <td>NaN</td>\n",
       "      <td>NaN</td>\n",
       "      <td>NaN</td>\n",
       "      <td>NaN</td>\n",
       "      <td>NaN</td>\n",
       "      <td>NaN</td>\n",
       "      <td>19.232934</td>\n",
       "      <td>3.934650</td>\n",
       "      <td>27.979557</td>\n",
       "      <td>9.016008</td>\n",
       "      <td>31.071347</td>\n",
       "      <td>2.476874</td>\n",
       "      <td>31.393523</td>\n",
       "      <td>3.293854</td>\n",
       "    </tr>\n",
       "    <tr>\n",
       "      <th>139</th>\n",
       "      <td>NaN</td>\n",
       "      <td>NaN</td>\n",
       "      <td>NaN</td>\n",
       "      <td>NaN</td>\n",
       "      <td>NaN</td>\n",
       "      <td>NaN</td>\n",
       "      <td>NaN</td>\n",
       "      <td>NaN</td>\n",
       "      <td>NaN</td>\n",
       "      <td>NaN</td>\n",
       "      <td>NaN</td>\n",
       "      <td>NaN</td>\n",
       "      <td>5.435574</td>\n",
       "      <td>4.101530</td>\n",
       "      <td>5.156201</td>\n",
       "      <td>2.822914</td>\n",
       "      <td>7.093164</td>\n",
       "      <td>3.505433</td>\n",
       "      <td>7.352916</td>\n",
       "      <td>3.160977</td>\n",
       "    </tr>\n",
       "    <tr>\n",
       "      <th>140</th>\n",
       "      <td>NaN</td>\n",
       "      <td>NaN</td>\n",
       "      <td>NaN</td>\n",
       "      <td>NaN</td>\n",
       "      <td>NaN</td>\n",
       "      <td>NaN</td>\n",
       "      <td>NaN</td>\n",
       "      <td>NaN</td>\n",
       "      <td>NaN</td>\n",
       "      <td>NaN</td>\n",
       "      <td>NaN</td>\n",
       "      <td>NaN</td>\n",
       "      <td>22.828161</td>\n",
       "      <td>7.896584</td>\n",
       "      <td>34.419681</td>\n",
       "      <td>9.418930</td>\n",
       "      <td>29.927608</td>\n",
       "      <td>9.239338</td>\n",
       "      <td>37.365181</td>\n",
       "      <td>18.475603</td>\n",
       "    </tr>\n",
       "    <tr>\n",
       "      <th>141</th>\n",
       "      <td>NaN</td>\n",
       "      <td>NaN</td>\n",
       "      <td>NaN</td>\n",
       "      <td>NaN</td>\n",
       "      <td>NaN</td>\n",
       "      <td>NaN</td>\n",
       "      <td>NaN</td>\n",
       "      <td>NaN</td>\n",
       "      <td>NaN</td>\n",
       "      <td>NaN</td>\n",
       "      <td>NaN</td>\n",
       "      <td>NaN</td>\n",
       "      <td>NaN</td>\n",
       "      <td>NaN</td>\n",
       "      <td>NaN</td>\n",
       "      <td>NaN</td>\n",
       "      <td>2.119008</td>\n",
       "      <td>0.000000</td>\n",
       "      <td>15.884541</td>\n",
       "      <td>2.771182</td>\n",
       "    </tr>\n",
       "    <tr>\n",
       "      <th>142</th>\n",
       "      <td>5115.784928</td>\n",
       "      <td>992.115751</td>\n",
       "      <td>6323.119826</td>\n",
       "      <td>1197.406245</td>\n",
       "      <td>5316.503434</td>\n",
       "      <td>1152.733316</td>\n",
       "      <td>6897.008022</td>\n",
       "      <td>1660.725242</td>\n",
       "      <td>7204.686970</td>\n",
       "      <td>1715.085188</td>\n",
       "      <td>8012.691583</td>\n",
       "      <td>1904.175131</td>\n",
       "      <td>8632.582927</td>\n",
       "      <td>2310.213481</td>\n",
       "      <td>10294.707282</td>\n",
       "      <td>2563.918782</td>\n",
       "      <td>10593.415129</td>\n",
       "      <td>2972.043199</td>\n",
       "      <td>11452.254162</td>\n",
       "      <td>3333.997495</td>\n",
       "    </tr>\n",
       "  </tbody>\n",
       "</table>\n",
       "<p>143 rows × 20 columns</p>\n",
       "</div>"
      ],
      "text/plain": [
       "     amount_2013  clim_rel_amount_2013  amount_2014  clim_rel_amount_2014  \\\n",
       "0     229.878097             19.054332   286.807860             31.714736   \n",
       "1     132.706037             34.375215   129.848523             17.713145   \n",
       "2      19.317268              5.281618    16.371641              5.216575   \n",
       "3       6.080655              2.350579     5.218615              4.723721   \n",
       "4      61.039902             16.707576    73.783053             35.047207   \n",
       "..           ...                   ...          ...                   ...   \n",
       "138          NaN                   NaN          NaN                   NaN   \n",
       "139          NaN                   NaN          NaN                   NaN   \n",
       "140          NaN                   NaN          NaN                   NaN   \n",
       "141          NaN                   NaN          NaN                   NaN   \n",
       "142  5115.784928            992.115751  6323.119826           1197.406245   \n",
       "\n",
       "     amount_2015  clim_rel_amount_2015  amount_2016  clim_rel_amount_2016  \\\n",
       "0     197.429500             33.457037   346.234112             38.308328   \n",
       "1     182.614727             79.600243   129.000894             21.123321   \n",
       "2      19.155382              6.609535    18.968980              6.652384   \n",
       "3       6.014444              5.011871     4.684949              3.522966   \n",
       "4      48.050705              6.148801    77.236341             29.640753   \n",
       "..           ...                   ...          ...                   ...   \n",
       "138          NaN                   NaN          NaN                   NaN   \n",
       "139          NaN                   NaN          NaN                   NaN   \n",
       "140          NaN                   NaN          NaN                   NaN   \n",
       "141          NaN                   NaN          NaN                   NaN   \n",
       "142  5316.503434           1152.733316  6897.008022           1660.725242   \n",
       "\n",
       "     amount_2017  clim_rel_amount_2017  amount_2018  clim_rel_amount_2018  \\\n",
       "0     311.670340             42.762633   255.815158             41.988156   \n",
       "1     240.258759            109.944048   262.731752             63.757281   \n",
       "2      21.017326              7.728618    55.514401             44.503031   \n",
       "3       5.347355              4.006726     6.986998              5.201791   \n",
       "4      95.230412             58.889436    59.652114             26.355707   \n",
       "..           ...                   ...          ...                   ...   \n",
       "138          NaN                   NaN          NaN                   NaN   \n",
       "139          NaN                   NaN          NaN                   NaN   \n",
       "140          NaN                   NaN          NaN                   NaN   \n",
       "141          NaN                   NaN          NaN                   NaN   \n",
       "142  7204.686970           1715.085188  8012.691583           1904.175131   \n",
       "\n",
       "     amount_2019  clim_rel_amount_2019   amount_2020  clim_rel_amount_2020  \\\n",
       "0     241.099156             40.556326    196.114075             34.977410   \n",
       "1     555.037032            147.663336    686.808006            180.211271   \n",
       "2      19.355900              5.719183     30.080577              7.164332   \n",
       "3       9.983005              6.724355     11.714897              5.986887   \n",
       "4     103.276123             56.378290    146.314609            103.204088   \n",
       "..           ...                   ...           ...                   ...   \n",
       "138    19.232934              3.934650     27.979557              9.016008   \n",
       "139     5.435574              4.101530      5.156201              2.822914   \n",
       "140    22.828161              7.896584     34.419681              9.418930   \n",
       "141          NaN                   NaN           NaN                   NaN   \n",
       "142  8632.582927           2310.213481  10294.707282           2563.918782   \n",
       "\n",
       "      amount_2021  clim_rel_amount_2021   amount_2022  clim_rel_amount_2022  \n",
       "0      352.840862             51.961490    201.939382             16.806849  \n",
       "1      643.229422            136.808525    627.644704            195.336748  \n",
       "2       29.366152             10.070879     25.328362              9.591473  \n",
       "3       25.777176              7.808470     16.273651              8.764504  \n",
       "4       82.869791             34.533597    107.665968             67.062139  \n",
       "..            ...                   ...           ...                   ...  \n",
       "138     31.071347              2.476874     31.393523              3.293854  \n",
       "139      7.093164              3.505433      7.352916              3.160977  \n",
       "140     29.927608              9.239338     37.365181             18.475603  \n",
       "141      2.119008              0.000000     15.884541              2.771182  \n",
       "142  10593.415129           2972.043199  11452.254162           3333.997495  \n",
       "\n",
       "[143 rows x 20 columns]"
      ]
     },
     "execution_count": 9,
     "metadata": {},
     "output_type": "execute_result"
    }
   ],
   "source": [
    "globe_df"
   ]
  },
  {
   "cell_type": "code",
   "execution_count": 43,
   "id": "be174be9",
   "metadata": {},
   "outputs": [],
   "source": [
    "years = range(2013, 2023)\n",
    "\n",
    "for year in years:\n",
    "    amount_col = f'amount_{year}'\n",
    "    clim_rel_amount_col = f'clim_rel_amount_{year}'\n",
    "    non_clim_col = f'non_clim_amount_{year}'\n",
    "    globe_df[non_clim_col] = globe_df[amount_col] - globe_df[clim_rel_amount_col]\n",
    "\n",
    "# Step 2: Melt the dataframe for plotting\n",
    "# Including both climatic and non-climatic amounts\n",
    "melted_df = globe_df.melt(value_vars=[f'clim_rel_amount_{year}' for year in years] + \n",
    "                             [f'non_clim_amount_{year}' for year in years],\n",
    "                             var_name='Type_Year', value_name='Amount')\n",
    "\n",
    "\n",
    "\n",
    "# Split 'Type_Year' into separate 'Year' and 'Type' columns\n",
    "melted_df['Year'] = melted_df['Type_Year'].apply(lambda x: x.split('_')[-1])\n",
    "melted_df['Finanzierungstyp'] = melted_df['Type_Year'].apply(lambda x: 'Climate Finance' if 'clim_rel_amount' in x else 'Other Funds')\n",
    "\n",
    "melted_df['Amount'] = melted_df['Amount'] * 1_000_000\n",
    "\n",
    "replacements = {\n",
    "    'Climate Finance': 'Klimafinanzierung',\n",
    "    'Other Funds': 'Andere ODA'\n",
    "}\n",
    "melted_df['Finanzierungstyp'] = melted_df['Finanzierungstyp'].replace(replacements)\n",
    "\n",
    "melted_df.to_csv(\"../upload_data/globe_df.csv\")"
   ]
  },
  {
   "cell_type": "code",
   "execution_count": 44,
   "id": "a268ce72",
   "metadata": {},
   "outputs": [
    {
     "data": {
      "text/html": [
       "<div>\n",
       "<style scoped>\n",
       "    .dataframe tbody tr th:only-of-type {\n",
       "        vertical-align: middle;\n",
       "    }\n",
       "\n",
       "    .dataframe tbody tr th {\n",
       "        vertical-align: top;\n",
       "    }\n",
       "\n",
       "    .dataframe thead th {\n",
       "        text-align: right;\n",
       "    }\n",
       "</style>\n",
       "<table border=\"1\" class=\"dataframe\">\n",
       "  <thead>\n",
       "    <tr style=\"text-align: right;\">\n",
       "      <th></th>\n",
       "      <th>Type_Year</th>\n",
       "      <th>Amount</th>\n",
       "      <th>Year</th>\n",
       "      <th>Finanzierungstyp</th>\n",
       "    </tr>\n",
       "  </thead>\n",
       "  <tbody>\n",
       "    <tr>\n",
       "      <th>0</th>\n",
       "      <td>clim_rel_amount_2013</td>\n",
       "      <td>9.921158e+08</td>\n",
       "      <td>2013</td>\n",
       "      <td>Klimafinanzierung</td>\n",
       "    </tr>\n",
       "    <tr>\n",
       "      <th>1</th>\n",
       "      <td>clim_rel_amount_2014</td>\n",
       "      <td>1.197406e+09</td>\n",
       "      <td>2014</td>\n",
       "      <td>Klimafinanzierung</td>\n",
       "    </tr>\n",
       "    <tr>\n",
       "      <th>2</th>\n",
       "      <td>clim_rel_amount_2015</td>\n",
       "      <td>1.152733e+09</td>\n",
       "      <td>2015</td>\n",
       "      <td>Klimafinanzierung</td>\n",
       "    </tr>\n",
       "    <tr>\n",
       "      <th>3</th>\n",
       "      <td>clim_rel_amount_2016</td>\n",
       "      <td>1.660725e+09</td>\n",
       "      <td>2016</td>\n",
       "      <td>Klimafinanzierung</td>\n",
       "    </tr>\n",
       "    <tr>\n",
       "      <th>4</th>\n",
       "      <td>clim_rel_amount_2017</td>\n",
       "      <td>1.715085e+09</td>\n",
       "      <td>2017</td>\n",
       "      <td>Klimafinanzierung</td>\n",
       "    </tr>\n",
       "    <tr>\n",
       "      <th>5</th>\n",
       "      <td>clim_rel_amount_2018</td>\n",
       "      <td>1.904175e+09</td>\n",
       "      <td>2018</td>\n",
       "      <td>Klimafinanzierung</td>\n",
       "    </tr>\n",
       "    <tr>\n",
       "      <th>6</th>\n",
       "      <td>clim_rel_amount_2019</td>\n",
       "      <td>2.310213e+09</td>\n",
       "      <td>2019</td>\n",
       "      <td>Klimafinanzierung</td>\n",
       "    </tr>\n",
       "    <tr>\n",
       "      <th>7</th>\n",
       "      <td>clim_rel_amount_2020</td>\n",
       "      <td>2.563919e+09</td>\n",
       "      <td>2020</td>\n",
       "      <td>Klimafinanzierung</td>\n",
       "    </tr>\n",
       "    <tr>\n",
       "      <th>8</th>\n",
       "      <td>clim_rel_amount_2021</td>\n",
       "      <td>2.972043e+09</td>\n",
       "      <td>2021</td>\n",
       "      <td>Klimafinanzierung</td>\n",
       "    </tr>\n",
       "    <tr>\n",
       "      <th>9</th>\n",
       "      <td>clim_rel_amount_2022</td>\n",
       "      <td>3.333997e+09</td>\n",
       "      <td>2022</td>\n",
       "      <td>Klimafinanzierung</td>\n",
       "    </tr>\n",
       "    <tr>\n",
       "      <th>10</th>\n",
       "      <td>non_clim_amount_2013</td>\n",
       "      <td>4.123669e+09</td>\n",
       "      <td>2013</td>\n",
       "      <td>Andere ODA</td>\n",
       "    </tr>\n",
       "    <tr>\n",
       "      <th>11</th>\n",
       "      <td>non_clim_amount_2014</td>\n",
       "      <td>5.125714e+09</td>\n",
       "      <td>2014</td>\n",
       "      <td>Andere ODA</td>\n",
       "    </tr>\n",
       "    <tr>\n",
       "      <th>12</th>\n",
       "      <td>non_clim_amount_2015</td>\n",
       "      <td>4.163770e+09</td>\n",
       "      <td>2015</td>\n",
       "      <td>Andere ODA</td>\n",
       "    </tr>\n",
       "    <tr>\n",
       "      <th>13</th>\n",
       "      <td>non_clim_amount_2016</td>\n",
       "      <td>5.236283e+09</td>\n",
       "      <td>2016</td>\n",
       "      <td>Andere ODA</td>\n",
       "    </tr>\n",
       "    <tr>\n",
       "      <th>14</th>\n",
       "      <td>non_clim_amount_2017</td>\n",
       "      <td>5.489602e+09</td>\n",
       "      <td>2017</td>\n",
       "      <td>Andere ODA</td>\n",
       "    </tr>\n",
       "    <tr>\n",
       "      <th>15</th>\n",
       "      <td>non_clim_amount_2018</td>\n",
       "      <td>6.108516e+09</td>\n",
       "      <td>2018</td>\n",
       "      <td>Andere ODA</td>\n",
       "    </tr>\n",
       "    <tr>\n",
       "      <th>16</th>\n",
       "      <td>non_clim_amount_2019</td>\n",
       "      <td>6.322369e+09</td>\n",
       "      <td>2019</td>\n",
       "      <td>Andere ODA</td>\n",
       "    </tr>\n",
       "    <tr>\n",
       "      <th>17</th>\n",
       "      <td>non_clim_amount_2020</td>\n",
       "      <td>7.730789e+09</td>\n",
       "      <td>2020</td>\n",
       "      <td>Andere ODA</td>\n",
       "    </tr>\n",
       "    <tr>\n",
       "      <th>18</th>\n",
       "      <td>non_clim_amount_2021</td>\n",
       "      <td>7.621372e+09</td>\n",
       "      <td>2021</td>\n",
       "      <td>Andere ODA</td>\n",
       "    </tr>\n",
       "    <tr>\n",
       "      <th>19</th>\n",
       "      <td>non_clim_amount_2022</td>\n",
       "      <td>8.118257e+09</td>\n",
       "      <td>2022</td>\n",
       "      <td>Andere ODA</td>\n",
       "    </tr>\n",
       "  </tbody>\n",
       "</table>\n",
       "</div>"
      ],
      "text/plain": [
       "               Type_Year        Amount  Year   Finanzierungstyp\n",
       "0   clim_rel_amount_2013  9.921158e+08  2013  Klimafinanzierung\n",
       "1   clim_rel_amount_2014  1.197406e+09  2014  Klimafinanzierung\n",
       "2   clim_rel_amount_2015  1.152733e+09  2015  Klimafinanzierung\n",
       "3   clim_rel_amount_2016  1.660725e+09  2016  Klimafinanzierung\n",
       "4   clim_rel_amount_2017  1.715085e+09  2017  Klimafinanzierung\n",
       "5   clim_rel_amount_2018  1.904175e+09  2018  Klimafinanzierung\n",
       "6   clim_rel_amount_2019  2.310213e+09  2019  Klimafinanzierung\n",
       "7   clim_rel_amount_2020  2.563919e+09  2020  Klimafinanzierung\n",
       "8   clim_rel_amount_2021  2.972043e+09  2021  Klimafinanzierung\n",
       "9   clim_rel_amount_2022  3.333997e+09  2022  Klimafinanzierung\n",
       "10  non_clim_amount_2013  4.123669e+09  2013         Andere ODA\n",
       "11  non_clim_amount_2014  5.125714e+09  2014         Andere ODA\n",
       "12  non_clim_amount_2015  4.163770e+09  2015         Andere ODA\n",
       "13  non_clim_amount_2016  5.236283e+09  2016         Andere ODA\n",
       "14  non_clim_amount_2017  5.489602e+09  2017         Andere ODA\n",
       "15  non_clim_amount_2018  6.108516e+09  2018         Andere ODA\n",
       "16  non_clim_amount_2019  6.322369e+09  2019         Andere ODA\n",
       "17  non_clim_amount_2020  7.730789e+09  2020         Andere ODA\n",
       "18  non_clim_amount_2021  7.621372e+09  2021         Andere ODA\n",
       "19  non_clim_amount_2022  8.118257e+09  2022         Andere ODA"
      ]
     },
     "execution_count": 44,
     "metadata": {},
     "output_type": "execute_result"
    }
   ],
   "source": [
    "melted_df"
   ]
  },
  {
   "cell_type": "markdown",
   "id": "f64bc399",
   "metadata": {},
   "source": [
    "## Split"
   ]
  },
  {
   "cell_type": "code",
   "execution_count": 50,
   "id": "f1da4d29",
   "metadata": {},
   "outputs": [],
   "source": [
    "selected_columns = [col for col in df_merged.columns if col.startswith('amount_') or col.startswith('clim_rel_amount_')\\\n",
    "                   or col.startswith('clim_adapt_') or col.startswith('clim_miti_')]\n",
    "filtered_df = df_merged[selected_columns]\n",
    "\n",
    "sums = filtered_df.sum()\n",
    "globe_df = filtered_df.append(sums, ignore_index=True)\n",
    "globe_df = globe_df.loc[[142]]\n",
    "\n",
    "\n",
    "years = range(2013, 2023)\n",
    "\n",
    "for year in years:\n",
    "    amount_col = f'amount_{year}'\n",
    "    clim_adapt_col = f'clim_adapt_amount_{year}'\n",
    "    clim_miti_col = f'clim_miti_amount_{year}'\n",
    "    non_clim_col = f'non_clim_amount_{year}'\n",
    "    globe_df[non_clim_col] = globe_df[amount_col] - (globe_df[clim_adapt_col] + globe_df[clim_miti_col])\n",
    "\n",
    "\n",
    "# Step 2: Melt the dataframe for plotting\n",
    "# Including both climatic and non-climatic amounts\n",
    "melted_df = globe_df.melt(value_vars=[f'clim_adapt_amount_{year}' for year in years] +\n",
    "                          [f'clim_miti_amount_{year}' for year in years] +\n",
    "                             [f'non_clim_amount_{year}' for year in years],\n",
    "                             var_name='Type_Year', value_name='Amount')\n",
    "\n",
    "\n",
    "# Split 'Type_Year' into separate 'Year' and 'Type' columns\n",
    "melted_df['Year'] = melted_df['Type_Year'].apply(lambda x: x.split('_')[-1])\n",
    "melted_df['Finanzierungstyp'] = melted_df['Type_Year'].apply(\n",
    "    lambda x: 'Klimaanpassung Finanzierung' if 'clim_adapt_amount' in x \n",
    "    else ('Klimaschutz Finanzierung' if 'clim_miti_amount' in x \n",
    "    else 'Andere ODA')\n",
    ")\n",
    "melted_df['Amount'] = melted_df['Amount'] * 1_000_000\n",
    "\n",
    "\n"
   ]
  },
  {
   "cell_type": "code",
   "execution_count": 52,
   "id": "dd5a933b",
   "metadata": {},
   "outputs": [],
   "source": [
    "melted_df.to_csv(\"../upload_data/split_globe.csv\")\n",
    "\n",
    "read_df = pd.read_csv('../upload_data/split_globe.csv')\n"
   ]
  },
  {
   "cell_type": "code",
   "execution_count": 59,
   "id": "8eb88b8b",
   "metadata": {},
   "outputs": [],
   "source": [
    "split_df = pd.read_csv('../upload_data/split_globe.csv')\n",
    "\n",
    "total_per_year = split_df.groupby('Year')['Amount'].transform('sum')\n",
    "\n",
    "\n",
    "split_df['Percentage'] = (split_df['Amount'] / total_per_year) * 100\n",
    "\n",
    "\n"
   ]
  },
  {
   "cell_type": "code",
   "execution_count": 111,
   "id": "47e47bbf",
   "metadata": {},
   "outputs": [
    {
     "data": {
      "application/vnd.plotly.v1+json": {
       "config": {
        "plotlyServerURL": "https://plot.ly"
       },
       "data": [
        {
         "alignmentgroup": "True",
         "hovertemplate": "Finanzierungstyp=Andere ODA<br>Jahr=%{x}<br>Prozentsatz der Finanzierung=%{y}<extra></extra>",
         "legendgroup": "Andere ODA",
         "marker": {
          "color": "orange",
          "pattern": {
           "shape": ""
          }
         },
         "name": "Andere ODA",
         "offsetgroup": "Andere ODA",
         "orientation": "v",
         "showlegend": true,
         "textposition": "auto",
         "type": "bar",
         "x": [
          2013,
          2014,
          2015,
          2016,
          2017,
          2018,
          2019,
          2020,
          2021,
          2022
         ],
         "xaxis": "x",
         "y": [
          80.6067736337019,
          81.06304674827777,
          78.31782993634384,
          75.92107712209936,
          76.19486876193872,
          76.23551199025353,
          73.23844438523284,
          75.09478694471538,
          71.9427291642391,
          70.88552916889063
         ],
         "yaxis": "y"
        },
        {
         "alignmentgroup": "True",
         "hovertemplate": "Finanzierungstyp=Klimaschutz Finanzierung<br>Jahr=%{x}<br>Prozentsatz der Finanzierung=%{y}<extra></extra>",
         "legendgroup": "Klimaschutz Finanzierung",
         "marker": {
          "color": "green",
          "pattern": {
           "shape": ""
          }
         },
         "name": "Klimaschutz Finanzierung",
         "offsetgroup": "Klimaschutz Finanzierung",
         "orientation": "v",
         "showlegend": true,
         "textposition": "auto",
         "type": "bar",
         "x": [
          2013,
          2014,
          2015,
          2016,
          2017,
          2018,
          2019,
          2020,
          2021,
          2022
         ],
         "xaxis": "x",
         "y": [
          10.972608717924581,
          9.450117804868558,
          9.242359750162063,
          11.126270268966202,
          11.78998168882277,
          10.680558737786626,
          12.362628816018555,
          10.238613130292205,
          12.9895348737258,
          14.327804175396016
         ],
         "yaxis": "y"
        },
        {
         "alignmentgroup": "True",
         "hovertemplate": "Finanzierungstyp=Klimaanpassung Finanzierung<br>Jahr=%{x}<br>Prozentsatz der Finanzierung=%{y}<extra></extra>",
         "legendgroup": "Klimaanpassung Finanzierung",
         "marker": {
          "color": "blue",
          "pattern": {
           "shape": ""
          }
         },
         "name": "Klimaanpassung Finanzierung",
         "offsetgroup": "Klimaanpassung Finanzierung",
         "orientation": "v",
         "showlegend": true,
         "textposition": "auto",
         "type": "bar",
         "x": [
          2013,
          2014,
          2015,
          2016,
          2017,
          2018,
          2019,
          2020,
          2021,
          2022
         ],
         "xaxis": "x",
         "y": [
          8.420617648373506,
          9.486835446853668,
          12.439810313494098,
          12.952652608934434,
          12.015149549238501,
          13.08392927195985,
          14.398926798748606,
          14.666599924992404,
          15.067735962035101,
          14.786666655713365
         ],
         "yaxis": "y"
        }
       ],
       "layout": {
        "barmode": "relative",
        "legend": {
         "title": {
          "text": "Finanzierungstyp"
         },
         "tracegroupgap": 0
        },
        "template": {
         "data": {
          "bar": [
           {
            "error_x": {
             "color": "#2a3f5f"
            },
            "error_y": {
             "color": "#2a3f5f"
            },
            "marker": {
             "line": {
              "color": "#E5ECF6",
              "width": 0.5
             },
             "pattern": {
              "fillmode": "overlay",
              "size": 10,
              "solidity": 0.2
             }
            },
            "type": "bar"
           }
          ],
          "barpolar": [
           {
            "marker": {
             "line": {
              "color": "#E5ECF6",
              "width": 0.5
             },
             "pattern": {
              "fillmode": "overlay",
              "size": 10,
              "solidity": 0.2
             }
            },
            "type": "barpolar"
           }
          ],
          "carpet": [
           {
            "aaxis": {
             "endlinecolor": "#2a3f5f",
             "gridcolor": "white",
             "linecolor": "white",
             "minorgridcolor": "white",
             "startlinecolor": "#2a3f5f"
            },
            "baxis": {
             "endlinecolor": "#2a3f5f",
             "gridcolor": "white",
             "linecolor": "white",
             "minorgridcolor": "white",
             "startlinecolor": "#2a3f5f"
            },
            "type": "carpet"
           }
          ],
          "choropleth": [
           {
            "colorbar": {
             "outlinewidth": 0,
             "ticks": ""
            },
            "type": "choropleth"
           }
          ],
          "contour": [
           {
            "colorbar": {
             "outlinewidth": 0,
             "ticks": ""
            },
            "colorscale": [
             [
              0,
              "#0d0887"
             ],
             [
              0.1111111111111111,
              "#46039f"
             ],
             [
              0.2222222222222222,
              "#7201a8"
             ],
             [
              0.3333333333333333,
              "#9c179e"
             ],
             [
              0.4444444444444444,
              "#bd3786"
             ],
             [
              0.5555555555555556,
              "#d8576b"
             ],
             [
              0.6666666666666666,
              "#ed7953"
             ],
             [
              0.7777777777777778,
              "#fb9f3a"
             ],
             [
              0.8888888888888888,
              "#fdca26"
             ],
             [
              1,
              "#f0f921"
             ]
            ],
            "type": "contour"
           }
          ],
          "contourcarpet": [
           {
            "colorbar": {
             "outlinewidth": 0,
             "ticks": ""
            },
            "type": "contourcarpet"
           }
          ],
          "heatmap": [
           {
            "colorbar": {
             "outlinewidth": 0,
             "ticks": ""
            },
            "colorscale": [
             [
              0,
              "#0d0887"
             ],
             [
              0.1111111111111111,
              "#46039f"
             ],
             [
              0.2222222222222222,
              "#7201a8"
             ],
             [
              0.3333333333333333,
              "#9c179e"
             ],
             [
              0.4444444444444444,
              "#bd3786"
             ],
             [
              0.5555555555555556,
              "#d8576b"
             ],
             [
              0.6666666666666666,
              "#ed7953"
             ],
             [
              0.7777777777777778,
              "#fb9f3a"
             ],
             [
              0.8888888888888888,
              "#fdca26"
             ],
             [
              1,
              "#f0f921"
             ]
            ],
            "type": "heatmap"
           }
          ],
          "heatmapgl": [
           {
            "colorbar": {
             "outlinewidth": 0,
             "ticks": ""
            },
            "colorscale": [
             [
              0,
              "#0d0887"
             ],
             [
              0.1111111111111111,
              "#46039f"
             ],
             [
              0.2222222222222222,
              "#7201a8"
             ],
             [
              0.3333333333333333,
              "#9c179e"
             ],
             [
              0.4444444444444444,
              "#bd3786"
             ],
             [
              0.5555555555555556,
              "#d8576b"
             ],
             [
              0.6666666666666666,
              "#ed7953"
             ],
             [
              0.7777777777777778,
              "#fb9f3a"
             ],
             [
              0.8888888888888888,
              "#fdca26"
             ],
             [
              1,
              "#f0f921"
             ]
            ],
            "type": "heatmapgl"
           }
          ],
          "histogram": [
           {
            "marker": {
             "pattern": {
              "fillmode": "overlay",
              "size": 10,
              "solidity": 0.2
             }
            },
            "type": "histogram"
           }
          ],
          "histogram2d": [
           {
            "colorbar": {
             "outlinewidth": 0,
             "ticks": ""
            },
            "colorscale": [
             [
              0,
              "#0d0887"
             ],
             [
              0.1111111111111111,
              "#46039f"
             ],
             [
              0.2222222222222222,
              "#7201a8"
             ],
             [
              0.3333333333333333,
              "#9c179e"
             ],
             [
              0.4444444444444444,
              "#bd3786"
             ],
             [
              0.5555555555555556,
              "#d8576b"
             ],
             [
              0.6666666666666666,
              "#ed7953"
             ],
             [
              0.7777777777777778,
              "#fb9f3a"
             ],
             [
              0.8888888888888888,
              "#fdca26"
             ],
             [
              1,
              "#f0f921"
             ]
            ],
            "type": "histogram2d"
           }
          ],
          "histogram2dcontour": [
           {
            "colorbar": {
             "outlinewidth": 0,
             "ticks": ""
            },
            "colorscale": [
             [
              0,
              "#0d0887"
             ],
             [
              0.1111111111111111,
              "#46039f"
             ],
             [
              0.2222222222222222,
              "#7201a8"
             ],
             [
              0.3333333333333333,
              "#9c179e"
             ],
             [
              0.4444444444444444,
              "#bd3786"
             ],
             [
              0.5555555555555556,
              "#d8576b"
             ],
             [
              0.6666666666666666,
              "#ed7953"
             ],
             [
              0.7777777777777778,
              "#fb9f3a"
             ],
             [
              0.8888888888888888,
              "#fdca26"
             ],
             [
              1,
              "#f0f921"
             ]
            ],
            "type": "histogram2dcontour"
           }
          ],
          "mesh3d": [
           {
            "colorbar": {
             "outlinewidth": 0,
             "ticks": ""
            },
            "type": "mesh3d"
           }
          ],
          "parcoords": [
           {
            "line": {
             "colorbar": {
              "outlinewidth": 0,
              "ticks": ""
             }
            },
            "type": "parcoords"
           }
          ],
          "pie": [
           {
            "automargin": true,
            "type": "pie"
           }
          ],
          "scatter": [
           {
            "fillpattern": {
             "fillmode": "overlay",
             "size": 10,
             "solidity": 0.2
            },
            "type": "scatter"
           }
          ],
          "scatter3d": [
           {
            "line": {
             "colorbar": {
              "outlinewidth": 0,
              "ticks": ""
             }
            },
            "marker": {
             "colorbar": {
              "outlinewidth": 0,
              "ticks": ""
             }
            },
            "type": "scatter3d"
           }
          ],
          "scattercarpet": [
           {
            "marker": {
             "colorbar": {
              "outlinewidth": 0,
              "ticks": ""
             }
            },
            "type": "scattercarpet"
           }
          ],
          "scattergeo": [
           {
            "marker": {
             "colorbar": {
              "outlinewidth": 0,
              "ticks": ""
             }
            },
            "type": "scattergeo"
           }
          ],
          "scattergl": [
           {
            "marker": {
             "colorbar": {
              "outlinewidth": 0,
              "ticks": ""
             }
            },
            "type": "scattergl"
           }
          ],
          "scattermapbox": [
           {
            "marker": {
             "colorbar": {
              "outlinewidth": 0,
              "ticks": ""
             }
            },
            "type": "scattermapbox"
           }
          ],
          "scatterpolar": [
           {
            "marker": {
             "colorbar": {
              "outlinewidth": 0,
              "ticks": ""
             }
            },
            "type": "scatterpolar"
           }
          ],
          "scatterpolargl": [
           {
            "marker": {
             "colorbar": {
              "outlinewidth": 0,
              "ticks": ""
             }
            },
            "type": "scatterpolargl"
           }
          ],
          "scatterternary": [
           {
            "marker": {
             "colorbar": {
              "outlinewidth": 0,
              "ticks": ""
             }
            },
            "type": "scatterternary"
           }
          ],
          "surface": [
           {
            "colorbar": {
             "outlinewidth": 0,
             "ticks": ""
            },
            "colorscale": [
             [
              0,
              "#0d0887"
             ],
             [
              0.1111111111111111,
              "#46039f"
             ],
             [
              0.2222222222222222,
              "#7201a8"
             ],
             [
              0.3333333333333333,
              "#9c179e"
             ],
             [
              0.4444444444444444,
              "#bd3786"
             ],
             [
              0.5555555555555556,
              "#d8576b"
             ],
             [
              0.6666666666666666,
              "#ed7953"
             ],
             [
              0.7777777777777778,
              "#fb9f3a"
             ],
             [
              0.8888888888888888,
              "#fdca26"
             ],
             [
              1,
              "#f0f921"
             ]
            ],
            "type": "surface"
           }
          ],
          "table": [
           {
            "cells": {
             "fill": {
              "color": "#EBF0F8"
             },
             "line": {
              "color": "white"
             }
            },
            "header": {
             "fill": {
              "color": "#C8D4E3"
             },
             "line": {
              "color": "white"
             }
            },
            "type": "table"
           }
          ]
         },
         "layout": {
          "annotationdefaults": {
           "arrowcolor": "#2a3f5f",
           "arrowhead": 0,
           "arrowwidth": 1
          },
          "autotypenumbers": "strict",
          "coloraxis": {
           "colorbar": {
            "outlinewidth": 0,
            "ticks": ""
           }
          },
          "colorscale": {
           "diverging": [
            [
             0,
             "#8e0152"
            ],
            [
             0.1,
             "#c51b7d"
            ],
            [
             0.2,
             "#de77ae"
            ],
            [
             0.3,
             "#f1b6da"
            ],
            [
             0.4,
             "#fde0ef"
            ],
            [
             0.5,
             "#f7f7f7"
            ],
            [
             0.6,
             "#e6f5d0"
            ],
            [
             0.7,
             "#b8e186"
            ],
            [
             0.8,
             "#7fbc41"
            ],
            [
             0.9,
             "#4d9221"
            ],
            [
             1,
             "#276419"
            ]
           ],
           "sequential": [
            [
             0,
             "#0d0887"
            ],
            [
             0.1111111111111111,
             "#46039f"
            ],
            [
             0.2222222222222222,
             "#7201a8"
            ],
            [
             0.3333333333333333,
             "#9c179e"
            ],
            [
             0.4444444444444444,
             "#bd3786"
            ],
            [
             0.5555555555555556,
             "#d8576b"
            ],
            [
             0.6666666666666666,
             "#ed7953"
            ],
            [
             0.7777777777777778,
             "#fb9f3a"
            ],
            [
             0.8888888888888888,
             "#fdca26"
            ],
            [
             1,
             "#f0f921"
            ]
           ],
           "sequentialminus": [
            [
             0,
             "#0d0887"
            ],
            [
             0.1111111111111111,
             "#46039f"
            ],
            [
             0.2222222222222222,
             "#7201a8"
            ],
            [
             0.3333333333333333,
             "#9c179e"
            ],
            [
             0.4444444444444444,
             "#bd3786"
            ],
            [
             0.5555555555555556,
             "#d8576b"
            ],
            [
             0.6666666666666666,
             "#ed7953"
            ],
            [
             0.7777777777777778,
             "#fb9f3a"
            ],
            [
             0.8888888888888888,
             "#fdca26"
            ],
            [
             1,
             "#f0f921"
            ]
           ]
          },
          "colorway": [
           "#636efa",
           "#EF553B",
           "#00cc96",
           "#ab63fa",
           "#FFA15A",
           "#19d3f3",
           "#FF6692",
           "#B6E880",
           "#FF97FF",
           "#FECB52"
          ],
          "font": {
           "color": "#2a3f5f"
          },
          "geo": {
           "bgcolor": "white",
           "lakecolor": "white",
           "landcolor": "#E5ECF6",
           "showlakes": true,
           "showland": true,
           "subunitcolor": "white"
          },
          "hoverlabel": {
           "align": "left"
          },
          "hovermode": "closest",
          "mapbox": {
           "style": "light"
          },
          "paper_bgcolor": "white",
          "plot_bgcolor": "#E5ECF6",
          "polar": {
           "angularaxis": {
            "gridcolor": "white",
            "linecolor": "white",
            "ticks": ""
           },
           "bgcolor": "#E5ECF6",
           "radialaxis": {
            "gridcolor": "white",
            "linecolor": "white",
            "ticks": ""
           }
          },
          "scene": {
           "xaxis": {
            "backgroundcolor": "#E5ECF6",
            "gridcolor": "white",
            "gridwidth": 2,
            "linecolor": "white",
            "showbackground": true,
            "ticks": "",
            "zerolinecolor": "white"
           },
           "yaxis": {
            "backgroundcolor": "#E5ECF6",
            "gridcolor": "white",
            "gridwidth": 2,
            "linecolor": "white",
            "showbackground": true,
            "ticks": "",
            "zerolinecolor": "white"
           },
           "zaxis": {
            "backgroundcolor": "#E5ECF6",
            "gridcolor": "white",
            "gridwidth": 2,
            "linecolor": "white",
            "showbackground": true,
            "ticks": "",
            "zerolinecolor": "white"
           }
          },
          "shapedefaults": {
           "line": {
            "color": "#2a3f5f"
           }
          },
          "ternary": {
           "aaxis": {
            "gridcolor": "white",
            "linecolor": "white",
            "ticks": ""
           },
           "baxis": {
            "gridcolor": "white",
            "linecolor": "white",
            "ticks": ""
           },
           "bgcolor": "#E5ECF6",
           "caxis": {
            "gridcolor": "white",
            "linecolor": "white",
            "ticks": ""
           }
          },
          "title": {
           "x": 0.05
          },
          "xaxis": {
           "automargin": true,
           "gridcolor": "white",
           "linecolor": "white",
           "ticks": "",
           "title": {
            "standoff": 15
           },
           "zerolinecolor": "white",
           "zerolinewidth": 2
          },
          "yaxis": {
           "automargin": true,
           "gridcolor": "white",
           "linecolor": "white",
           "ticks": "",
           "title": {
            "standoff": 15
           },
           "zerolinecolor": "white",
           "zerolinewidth": 2
          }
         }
        },
        "title": {
         "text": "Globale Finanzierungssummen (Prozentual)",
         "x": 0.5
        },
        "xaxis": {
         "anchor": "y",
         "domain": [
          0,
          1
         ],
         "title": {
          "text": "Jahr"
         }
        },
        "yaxis": {
         "anchor": "x",
         "domain": [
          0,
          1
         ],
         "title": {
          "text": "Prozentsatz der Finanzierung"
         }
        }
       }
      },
      "text/html": [
       "<div>                            <div id=\"fb36f2b1-2864-4e62-95cc-1b27ac7b9f4c\" class=\"plotly-graph-div\" style=\"height:525px; width:100%;\"></div>            <script type=\"text/javascript\">                require([\"plotly\"], function(Plotly) {                    window.PLOTLYENV=window.PLOTLYENV || {};                                    if (document.getElementById(\"fb36f2b1-2864-4e62-95cc-1b27ac7b9f4c\")) {                    Plotly.newPlot(                        \"fb36f2b1-2864-4e62-95cc-1b27ac7b9f4c\",                        [{\"alignmentgroup\":\"True\",\"hovertemplate\":\"Finanzierungstyp=Andere ODA\\u003cbr\\u003eJahr=%{x}\\u003cbr\\u003eProzentsatz der Finanzierung=%{y}\\u003cextra\\u003e\\u003c\\u002fextra\\u003e\",\"legendgroup\":\"Andere ODA\",\"marker\":{\"color\":\"orange\",\"pattern\":{\"shape\":\"\"}},\"name\":\"Andere ODA\",\"offsetgroup\":\"Andere ODA\",\"orientation\":\"v\",\"showlegend\":true,\"textposition\":\"auto\",\"x\":[2013,2014,2015,2016,2017,2018,2019,2020,2021,2022],\"xaxis\":\"x\",\"y\":[80.6067736337019,81.06304674827777,78.31782993634384,75.92107712209936,76.19486876193872,76.23551199025353,73.23844438523284,75.09478694471538,71.9427291642391,70.88552916889063],\"yaxis\":\"y\",\"type\":\"bar\"},{\"alignmentgroup\":\"True\",\"hovertemplate\":\"Finanzierungstyp=Klimaschutz Finanzierung\\u003cbr\\u003eJahr=%{x}\\u003cbr\\u003eProzentsatz der Finanzierung=%{y}\\u003cextra\\u003e\\u003c\\u002fextra\\u003e\",\"legendgroup\":\"Klimaschutz Finanzierung\",\"marker\":{\"color\":\"green\",\"pattern\":{\"shape\":\"\"}},\"name\":\"Klimaschutz Finanzierung\",\"offsetgroup\":\"Klimaschutz Finanzierung\",\"orientation\":\"v\",\"showlegend\":true,\"textposition\":\"auto\",\"x\":[2013,2014,2015,2016,2017,2018,2019,2020,2021,2022],\"xaxis\":\"x\",\"y\":[10.972608717924581,9.450117804868558,9.242359750162063,11.126270268966202,11.78998168882277,10.680558737786626,12.362628816018555,10.238613130292205,12.9895348737258,14.327804175396016],\"yaxis\":\"y\",\"type\":\"bar\"},{\"alignmentgroup\":\"True\",\"hovertemplate\":\"Finanzierungstyp=Klimaanpassung Finanzierung\\u003cbr\\u003eJahr=%{x}\\u003cbr\\u003eProzentsatz der Finanzierung=%{y}\\u003cextra\\u003e\\u003c\\u002fextra\\u003e\",\"legendgroup\":\"Klimaanpassung Finanzierung\",\"marker\":{\"color\":\"blue\",\"pattern\":{\"shape\":\"\"}},\"name\":\"Klimaanpassung Finanzierung\",\"offsetgroup\":\"Klimaanpassung Finanzierung\",\"orientation\":\"v\",\"showlegend\":true,\"textposition\":\"auto\",\"x\":[2013,2014,2015,2016,2017,2018,2019,2020,2021,2022],\"xaxis\":\"x\",\"y\":[8.420617648373506,9.486835446853668,12.439810313494098,12.952652608934434,12.015149549238501,13.08392927195985,14.398926798748606,14.666599924992404,15.067735962035101,14.786666655713365],\"yaxis\":\"y\",\"type\":\"bar\"}],                        {\"template\":{\"data\":{\"histogram2dcontour\":[{\"type\":\"histogram2dcontour\",\"colorbar\":{\"outlinewidth\":0,\"ticks\":\"\"},\"colorscale\":[[0.0,\"#0d0887\"],[0.1111111111111111,\"#46039f\"],[0.2222222222222222,\"#7201a8\"],[0.3333333333333333,\"#9c179e\"],[0.4444444444444444,\"#bd3786\"],[0.5555555555555556,\"#d8576b\"],[0.6666666666666666,\"#ed7953\"],[0.7777777777777778,\"#fb9f3a\"],[0.8888888888888888,\"#fdca26\"],[1.0,\"#f0f921\"]]}],\"choropleth\":[{\"type\":\"choropleth\",\"colorbar\":{\"outlinewidth\":0,\"ticks\":\"\"}}],\"histogram2d\":[{\"type\":\"histogram2d\",\"colorbar\":{\"outlinewidth\":0,\"ticks\":\"\"},\"colorscale\":[[0.0,\"#0d0887\"],[0.1111111111111111,\"#46039f\"],[0.2222222222222222,\"#7201a8\"],[0.3333333333333333,\"#9c179e\"],[0.4444444444444444,\"#bd3786\"],[0.5555555555555556,\"#d8576b\"],[0.6666666666666666,\"#ed7953\"],[0.7777777777777778,\"#fb9f3a\"],[0.8888888888888888,\"#fdca26\"],[1.0,\"#f0f921\"]]}],\"heatmap\":[{\"type\":\"heatmap\",\"colorbar\":{\"outlinewidth\":0,\"ticks\":\"\"},\"colorscale\":[[0.0,\"#0d0887\"],[0.1111111111111111,\"#46039f\"],[0.2222222222222222,\"#7201a8\"],[0.3333333333333333,\"#9c179e\"],[0.4444444444444444,\"#bd3786\"],[0.5555555555555556,\"#d8576b\"],[0.6666666666666666,\"#ed7953\"],[0.7777777777777778,\"#fb9f3a\"],[0.8888888888888888,\"#fdca26\"],[1.0,\"#f0f921\"]]}],\"heatmapgl\":[{\"type\":\"heatmapgl\",\"colorbar\":{\"outlinewidth\":0,\"ticks\":\"\"},\"colorscale\":[[0.0,\"#0d0887\"],[0.1111111111111111,\"#46039f\"],[0.2222222222222222,\"#7201a8\"],[0.3333333333333333,\"#9c179e\"],[0.4444444444444444,\"#bd3786\"],[0.5555555555555556,\"#d8576b\"],[0.6666666666666666,\"#ed7953\"],[0.7777777777777778,\"#fb9f3a\"],[0.8888888888888888,\"#fdca26\"],[1.0,\"#f0f921\"]]}],\"contourcarpet\":[{\"type\":\"contourcarpet\",\"colorbar\":{\"outlinewidth\":0,\"ticks\":\"\"}}],\"contour\":[{\"type\":\"contour\",\"colorbar\":{\"outlinewidth\":0,\"ticks\":\"\"},\"colorscale\":[[0.0,\"#0d0887\"],[0.1111111111111111,\"#46039f\"],[0.2222222222222222,\"#7201a8\"],[0.3333333333333333,\"#9c179e\"],[0.4444444444444444,\"#bd3786\"],[0.5555555555555556,\"#d8576b\"],[0.6666666666666666,\"#ed7953\"],[0.7777777777777778,\"#fb9f3a\"],[0.8888888888888888,\"#fdca26\"],[1.0,\"#f0f921\"]]}],\"surface\":[{\"type\":\"surface\",\"colorbar\":{\"outlinewidth\":0,\"ticks\":\"\"},\"colorscale\":[[0.0,\"#0d0887\"],[0.1111111111111111,\"#46039f\"],[0.2222222222222222,\"#7201a8\"],[0.3333333333333333,\"#9c179e\"],[0.4444444444444444,\"#bd3786\"],[0.5555555555555556,\"#d8576b\"],[0.6666666666666666,\"#ed7953\"],[0.7777777777777778,\"#fb9f3a\"],[0.8888888888888888,\"#fdca26\"],[1.0,\"#f0f921\"]]}],\"mesh3d\":[{\"type\":\"mesh3d\",\"colorbar\":{\"outlinewidth\":0,\"ticks\":\"\"}}],\"scatter\":[{\"fillpattern\":{\"fillmode\":\"overlay\",\"size\":10,\"solidity\":0.2},\"type\":\"scatter\"}],\"parcoords\":[{\"type\":\"parcoords\",\"line\":{\"colorbar\":{\"outlinewidth\":0,\"ticks\":\"\"}}}],\"scatterpolargl\":[{\"type\":\"scatterpolargl\",\"marker\":{\"colorbar\":{\"outlinewidth\":0,\"ticks\":\"\"}}}],\"bar\":[{\"error_x\":{\"color\":\"#2a3f5f\"},\"error_y\":{\"color\":\"#2a3f5f\"},\"marker\":{\"line\":{\"color\":\"#E5ECF6\",\"width\":0.5},\"pattern\":{\"fillmode\":\"overlay\",\"size\":10,\"solidity\":0.2}},\"type\":\"bar\"}],\"scattergeo\":[{\"type\":\"scattergeo\",\"marker\":{\"colorbar\":{\"outlinewidth\":0,\"ticks\":\"\"}}}],\"scatterpolar\":[{\"type\":\"scatterpolar\",\"marker\":{\"colorbar\":{\"outlinewidth\":0,\"ticks\":\"\"}}}],\"histogram\":[{\"marker\":{\"pattern\":{\"fillmode\":\"overlay\",\"size\":10,\"solidity\":0.2}},\"type\":\"histogram\"}],\"scattergl\":[{\"type\":\"scattergl\",\"marker\":{\"colorbar\":{\"outlinewidth\":0,\"ticks\":\"\"}}}],\"scatter3d\":[{\"type\":\"scatter3d\",\"line\":{\"colorbar\":{\"outlinewidth\":0,\"ticks\":\"\"}},\"marker\":{\"colorbar\":{\"outlinewidth\":0,\"ticks\":\"\"}}}],\"scattermapbox\":[{\"type\":\"scattermapbox\",\"marker\":{\"colorbar\":{\"outlinewidth\":0,\"ticks\":\"\"}}}],\"scatterternary\":[{\"type\":\"scatterternary\",\"marker\":{\"colorbar\":{\"outlinewidth\":0,\"ticks\":\"\"}}}],\"scattercarpet\":[{\"type\":\"scattercarpet\",\"marker\":{\"colorbar\":{\"outlinewidth\":0,\"ticks\":\"\"}}}],\"carpet\":[{\"aaxis\":{\"endlinecolor\":\"#2a3f5f\",\"gridcolor\":\"white\",\"linecolor\":\"white\",\"minorgridcolor\":\"white\",\"startlinecolor\":\"#2a3f5f\"},\"baxis\":{\"endlinecolor\":\"#2a3f5f\",\"gridcolor\":\"white\",\"linecolor\":\"white\",\"minorgridcolor\":\"white\",\"startlinecolor\":\"#2a3f5f\"},\"type\":\"carpet\"}],\"table\":[{\"cells\":{\"fill\":{\"color\":\"#EBF0F8\"},\"line\":{\"color\":\"white\"}},\"header\":{\"fill\":{\"color\":\"#C8D4E3\"},\"line\":{\"color\":\"white\"}},\"type\":\"table\"}],\"barpolar\":[{\"marker\":{\"line\":{\"color\":\"#E5ECF6\",\"width\":0.5},\"pattern\":{\"fillmode\":\"overlay\",\"size\":10,\"solidity\":0.2}},\"type\":\"barpolar\"}],\"pie\":[{\"automargin\":true,\"type\":\"pie\"}]},\"layout\":{\"autotypenumbers\":\"strict\",\"colorway\":[\"#636efa\",\"#EF553B\",\"#00cc96\",\"#ab63fa\",\"#FFA15A\",\"#19d3f3\",\"#FF6692\",\"#B6E880\",\"#FF97FF\",\"#FECB52\"],\"font\":{\"color\":\"#2a3f5f\"},\"hovermode\":\"closest\",\"hoverlabel\":{\"align\":\"left\"},\"paper_bgcolor\":\"white\",\"plot_bgcolor\":\"#E5ECF6\",\"polar\":{\"bgcolor\":\"#E5ECF6\",\"angularaxis\":{\"gridcolor\":\"white\",\"linecolor\":\"white\",\"ticks\":\"\"},\"radialaxis\":{\"gridcolor\":\"white\",\"linecolor\":\"white\",\"ticks\":\"\"}},\"ternary\":{\"bgcolor\":\"#E5ECF6\",\"aaxis\":{\"gridcolor\":\"white\",\"linecolor\":\"white\",\"ticks\":\"\"},\"baxis\":{\"gridcolor\":\"white\",\"linecolor\":\"white\",\"ticks\":\"\"},\"caxis\":{\"gridcolor\":\"white\",\"linecolor\":\"white\",\"ticks\":\"\"}},\"coloraxis\":{\"colorbar\":{\"outlinewidth\":0,\"ticks\":\"\"}},\"colorscale\":{\"sequential\":[[0.0,\"#0d0887\"],[0.1111111111111111,\"#46039f\"],[0.2222222222222222,\"#7201a8\"],[0.3333333333333333,\"#9c179e\"],[0.4444444444444444,\"#bd3786\"],[0.5555555555555556,\"#d8576b\"],[0.6666666666666666,\"#ed7953\"],[0.7777777777777778,\"#fb9f3a\"],[0.8888888888888888,\"#fdca26\"],[1.0,\"#f0f921\"]],\"sequentialminus\":[[0.0,\"#0d0887\"],[0.1111111111111111,\"#46039f\"],[0.2222222222222222,\"#7201a8\"],[0.3333333333333333,\"#9c179e\"],[0.4444444444444444,\"#bd3786\"],[0.5555555555555556,\"#d8576b\"],[0.6666666666666666,\"#ed7953\"],[0.7777777777777778,\"#fb9f3a\"],[0.8888888888888888,\"#fdca26\"],[1.0,\"#f0f921\"]],\"diverging\":[[0,\"#8e0152\"],[0.1,\"#c51b7d\"],[0.2,\"#de77ae\"],[0.3,\"#f1b6da\"],[0.4,\"#fde0ef\"],[0.5,\"#f7f7f7\"],[0.6,\"#e6f5d0\"],[0.7,\"#b8e186\"],[0.8,\"#7fbc41\"],[0.9,\"#4d9221\"],[1,\"#276419\"]]},\"xaxis\":{\"gridcolor\":\"white\",\"linecolor\":\"white\",\"ticks\":\"\",\"title\":{\"standoff\":15},\"zerolinecolor\":\"white\",\"automargin\":true,\"zerolinewidth\":2},\"yaxis\":{\"gridcolor\":\"white\",\"linecolor\":\"white\",\"ticks\":\"\",\"title\":{\"standoff\":15},\"zerolinecolor\":\"white\",\"automargin\":true,\"zerolinewidth\":2},\"scene\":{\"xaxis\":{\"backgroundcolor\":\"#E5ECF6\",\"gridcolor\":\"white\",\"linecolor\":\"white\",\"showbackground\":true,\"ticks\":\"\",\"zerolinecolor\":\"white\",\"gridwidth\":2},\"yaxis\":{\"backgroundcolor\":\"#E5ECF6\",\"gridcolor\":\"white\",\"linecolor\":\"white\",\"showbackground\":true,\"ticks\":\"\",\"zerolinecolor\":\"white\",\"gridwidth\":2},\"zaxis\":{\"backgroundcolor\":\"#E5ECF6\",\"gridcolor\":\"white\",\"linecolor\":\"white\",\"showbackground\":true,\"ticks\":\"\",\"zerolinecolor\":\"white\",\"gridwidth\":2}},\"shapedefaults\":{\"line\":{\"color\":\"#2a3f5f\"}},\"annotationdefaults\":{\"arrowcolor\":\"#2a3f5f\",\"arrowhead\":0,\"arrowwidth\":1},\"geo\":{\"bgcolor\":\"white\",\"landcolor\":\"#E5ECF6\",\"subunitcolor\":\"white\",\"showland\":true,\"showlakes\":true,\"lakecolor\":\"white\"},\"title\":{\"x\":0.05},\"mapbox\":{\"style\":\"light\"}}},\"xaxis\":{\"anchor\":\"y\",\"domain\":[0.0,1.0],\"title\":{\"text\":\"Jahr\"}},\"yaxis\":{\"anchor\":\"x\",\"domain\":[0.0,1.0],\"title\":{\"text\":\"Prozentsatz der Finanzierung\"}},\"legend\":{\"title\":{\"text\":\"Finanzierungstyp\"},\"tracegroupgap\":0},\"title\":{\"text\":\"Globale Finanzierungssummen (Prozentual)\",\"x\":0.5},\"barmode\":\"relative\"},                        {\"responsive\": true}                    ).then(function(){\n",
       "                            \n",
       "var gd = document.getElementById('fb36f2b1-2864-4e62-95cc-1b27ac7b9f4c');\n",
       "var x = new MutationObserver(function (mutations, observer) {{\n",
       "        var display = window.getComputedStyle(gd).display;\n",
       "        if (!display || display === 'none') {{\n",
       "            console.log([gd, 'removed!']);\n",
       "            Plotly.purge(gd);\n",
       "            observer.disconnect();\n",
       "        }}\n",
       "}});\n",
       "\n",
       "// Listen for the removal of the full notebook cells\n",
       "var notebookContainer = gd.closest('#notebook-container');\n",
       "if (notebookContainer) {{\n",
       "    x.observe(notebookContainer, {childList: true});\n",
       "}}\n",
       "\n",
       "// Listen for the clearing of the current output cell\n",
       "var outputEl = gd.closest('.output');\n",
       "if (outputEl) {{\n",
       "    x.observe(outputEl, {childList: true});\n",
       "}}\n",
       "\n",
       "                        })                };                });            </script>        </div>"
      ]
     },
     "metadata": {},
     "output_type": "display_data"
    }
   ],
   "source": [
    "fig = px.bar(split_df, x='Year', y='Percentage', color='Finanzierungstyp',\n",
    "            title='Globale Finanzierungssummen (Prozentual)',\n",
    "            labels={'Percentage': 'Prozentsatz der Finanzierung', 'Year': 'Jahr'},\n",
    "            category_orders={'Finanzierungstyp': ['Andere ODA', 'Klimaschutz Finanzierung', 'Klimaanpassung Finanzierung']},\n",
    "            color_discrete_map={'Andere ODA': 'orange', 'Klimaschutz Finanzierung': 'green', 'Klimaanpassung Finanzierung': 'blue'}\n",
    "            )\n",
    "\n",
    "# Centering the title and adjusting layout\n",
    "fig.update_layout(title_x=0.5)\n",
    "\n",
    "# Show the plot\n",
    "fig.show()"
   ]
  },
  {
   "cell_type": "code",
   "execution_count": 116,
   "id": "05001520",
   "metadata": {},
   "outputs": [
    {
     "data": {
      "application/vnd.plotly.v1+json": {
       "config": {
        "plotlyServerURL": "https://plot.ly"
       },
       "data": [
        {
         "alignmentgroup": "True",
         "hovertemplate": "Finanzierungstyp=Andere ODA<br>Jahr=%{x}<br>Finanzierungssumme ($)=%{y}<extra></extra>",
         "legendgroup": "Andere ODA",
         "marker": {
          "color": "orange",
          "pattern": {
           "shape": ""
          }
         },
         "name": "Andere ODA",
         "offsetgroup": "Andere ODA",
         "orientation": "v",
         "showlegend": true,
         "textposition": "auto",
         "type": "bar",
         "x": [
          2013,
          2014,
          2015,
          2016,
          2017,
          2018,
          2019,
          2020,
          2021,
          2022
         ],
         "xaxis": "x",
         "y": [
          4123669176.5000014,
          5125713580.5,
          4163770118.000001,
          5236282779.499999,
          5489601781.5,
          6108516452.5,
          6322369446,
          7730788500.000002,
          7621191955.5,
          8117990964.500001
         ],
         "yaxis": "y"
        },
        {
         "alignmentgroup": "True",
         "hovertemplate": "Finanzierungstyp=Klimaschutz Finanzierung<br>Jahr=%{x}<br>Finanzierungssumme ($)=%{y}<extra></extra>",
         "legendgroup": "Klimaschutz Finanzierung",
         "marker": {
          "color": "green",
          "pattern": {
           "shape": ""
          }
         },
         "name": "Klimaschutz Finanzierung",
         "offsetgroup": "Klimaschutz Finanzierung",
         "orientation": "v",
         "showlegend": true,
         "textposition": "auto",
         "type": "bar",
         "x": [
          2013,
          2014,
          2015,
          2016,
          2017,
          2018,
          2019,
          2020,
          2021,
          2022
         ],
         "xaxis": "x",
         "y": [
          561335063,
          597542272.4999999,
          491370373.5,
          767379752.9999999,
          849431274.5000001,
          855800231,
          1067214184.5,
          1054035251.5,
          1376035352.5,
          1640856550.0000002
         ],
         "yaxis": "y"
        },
        {
         "alignmentgroup": "True",
         "hovertemplate": "Finanzierungstyp=Klimaanpassung Finanzierung<br>Jahr=%{x}<br>Finanzierungssumme ($)=%{y}<extra></extra>",
         "legendgroup": "Klimaanpassung Finanzierung",
         "marker": {
          "color": "blue",
          "pattern": {
           "shape": ""
          }
         },
         "name": "Klimaanpassung Finanzierung",
         "offsetgroup": "Klimaanpassung Finanzierung",
         "orientation": "v",
         "showlegend": true,
         "textposition": "auto",
         "type": "bar",
         "x": [
          2013,
          2014,
          2015,
          2016,
          2017,
          2018,
          2019,
          2020,
          2021,
          2022
         ],
         "xaxis": "x",
         "y": [
          430780688.5,
          599863973,
          661362942.5,
          893345489.5,
          865653914,
          1048374899.5,
          1242999296.5,
          1509883530.5,
          1596187821,
          1693406647.5
         ],
         "yaxis": "y"
        }
       ],
       "layout": {
        "barmode": "relative",
        "legend": {
         "title": {
          "text": "Finanzierungstyp"
         },
         "tracegroupgap": 0
        },
        "template": {
         "data": {
          "bar": [
           {
            "error_x": {
             "color": "#2a3f5f"
            },
            "error_y": {
             "color": "#2a3f5f"
            },
            "marker": {
             "line": {
              "color": "#E5ECF6",
              "width": 0.5
             },
             "pattern": {
              "fillmode": "overlay",
              "size": 10,
              "solidity": 0.2
             }
            },
            "type": "bar"
           }
          ],
          "barpolar": [
           {
            "marker": {
             "line": {
              "color": "#E5ECF6",
              "width": 0.5
             },
             "pattern": {
              "fillmode": "overlay",
              "size": 10,
              "solidity": 0.2
             }
            },
            "type": "barpolar"
           }
          ],
          "carpet": [
           {
            "aaxis": {
             "endlinecolor": "#2a3f5f",
             "gridcolor": "white",
             "linecolor": "white",
             "minorgridcolor": "white",
             "startlinecolor": "#2a3f5f"
            },
            "baxis": {
             "endlinecolor": "#2a3f5f",
             "gridcolor": "white",
             "linecolor": "white",
             "minorgridcolor": "white",
             "startlinecolor": "#2a3f5f"
            },
            "type": "carpet"
           }
          ],
          "choropleth": [
           {
            "colorbar": {
             "outlinewidth": 0,
             "ticks": ""
            },
            "type": "choropleth"
           }
          ],
          "contour": [
           {
            "colorbar": {
             "outlinewidth": 0,
             "ticks": ""
            },
            "colorscale": [
             [
              0,
              "#0d0887"
             ],
             [
              0.1111111111111111,
              "#46039f"
             ],
             [
              0.2222222222222222,
              "#7201a8"
             ],
             [
              0.3333333333333333,
              "#9c179e"
             ],
             [
              0.4444444444444444,
              "#bd3786"
             ],
             [
              0.5555555555555556,
              "#d8576b"
             ],
             [
              0.6666666666666666,
              "#ed7953"
             ],
             [
              0.7777777777777778,
              "#fb9f3a"
             ],
             [
              0.8888888888888888,
              "#fdca26"
             ],
             [
              1,
              "#f0f921"
             ]
            ],
            "type": "contour"
           }
          ],
          "contourcarpet": [
           {
            "colorbar": {
             "outlinewidth": 0,
             "ticks": ""
            },
            "type": "contourcarpet"
           }
          ],
          "heatmap": [
           {
            "colorbar": {
             "outlinewidth": 0,
             "ticks": ""
            },
            "colorscale": [
             [
              0,
              "#0d0887"
             ],
             [
              0.1111111111111111,
              "#46039f"
             ],
             [
              0.2222222222222222,
              "#7201a8"
             ],
             [
              0.3333333333333333,
              "#9c179e"
             ],
             [
              0.4444444444444444,
              "#bd3786"
             ],
             [
              0.5555555555555556,
              "#d8576b"
             ],
             [
              0.6666666666666666,
              "#ed7953"
             ],
             [
              0.7777777777777778,
              "#fb9f3a"
             ],
             [
              0.8888888888888888,
              "#fdca26"
             ],
             [
              1,
              "#f0f921"
             ]
            ],
            "type": "heatmap"
           }
          ],
          "heatmapgl": [
           {
            "colorbar": {
             "outlinewidth": 0,
             "ticks": ""
            },
            "colorscale": [
             [
              0,
              "#0d0887"
             ],
             [
              0.1111111111111111,
              "#46039f"
             ],
             [
              0.2222222222222222,
              "#7201a8"
             ],
             [
              0.3333333333333333,
              "#9c179e"
             ],
             [
              0.4444444444444444,
              "#bd3786"
             ],
             [
              0.5555555555555556,
              "#d8576b"
             ],
             [
              0.6666666666666666,
              "#ed7953"
             ],
             [
              0.7777777777777778,
              "#fb9f3a"
             ],
             [
              0.8888888888888888,
              "#fdca26"
             ],
             [
              1,
              "#f0f921"
             ]
            ],
            "type": "heatmapgl"
           }
          ],
          "histogram": [
           {
            "marker": {
             "pattern": {
              "fillmode": "overlay",
              "size": 10,
              "solidity": 0.2
             }
            },
            "type": "histogram"
           }
          ],
          "histogram2d": [
           {
            "colorbar": {
             "outlinewidth": 0,
             "ticks": ""
            },
            "colorscale": [
             [
              0,
              "#0d0887"
             ],
             [
              0.1111111111111111,
              "#46039f"
             ],
             [
              0.2222222222222222,
              "#7201a8"
             ],
             [
              0.3333333333333333,
              "#9c179e"
             ],
             [
              0.4444444444444444,
              "#bd3786"
             ],
             [
              0.5555555555555556,
              "#d8576b"
             ],
             [
              0.6666666666666666,
              "#ed7953"
             ],
             [
              0.7777777777777778,
              "#fb9f3a"
             ],
             [
              0.8888888888888888,
              "#fdca26"
             ],
             [
              1,
              "#f0f921"
             ]
            ],
            "type": "histogram2d"
           }
          ],
          "histogram2dcontour": [
           {
            "colorbar": {
             "outlinewidth": 0,
             "ticks": ""
            },
            "colorscale": [
             [
              0,
              "#0d0887"
             ],
             [
              0.1111111111111111,
              "#46039f"
             ],
             [
              0.2222222222222222,
              "#7201a8"
             ],
             [
              0.3333333333333333,
              "#9c179e"
             ],
             [
              0.4444444444444444,
              "#bd3786"
             ],
             [
              0.5555555555555556,
              "#d8576b"
             ],
             [
              0.6666666666666666,
              "#ed7953"
             ],
             [
              0.7777777777777778,
              "#fb9f3a"
             ],
             [
              0.8888888888888888,
              "#fdca26"
             ],
             [
              1,
              "#f0f921"
             ]
            ],
            "type": "histogram2dcontour"
           }
          ],
          "mesh3d": [
           {
            "colorbar": {
             "outlinewidth": 0,
             "ticks": ""
            },
            "type": "mesh3d"
           }
          ],
          "parcoords": [
           {
            "line": {
             "colorbar": {
              "outlinewidth": 0,
              "ticks": ""
             }
            },
            "type": "parcoords"
           }
          ],
          "pie": [
           {
            "automargin": true,
            "type": "pie"
           }
          ],
          "scatter": [
           {
            "fillpattern": {
             "fillmode": "overlay",
             "size": 10,
             "solidity": 0.2
            },
            "type": "scatter"
           }
          ],
          "scatter3d": [
           {
            "line": {
             "colorbar": {
              "outlinewidth": 0,
              "ticks": ""
             }
            },
            "marker": {
             "colorbar": {
              "outlinewidth": 0,
              "ticks": ""
             }
            },
            "type": "scatter3d"
           }
          ],
          "scattercarpet": [
           {
            "marker": {
             "colorbar": {
              "outlinewidth": 0,
              "ticks": ""
             }
            },
            "type": "scattercarpet"
           }
          ],
          "scattergeo": [
           {
            "marker": {
             "colorbar": {
              "outlinewidth": 0,
              "ticks": ""
             }
            },
            "type": "scattergeo"
           }
          ],
          "scattergl": [
           {
            "marker": {
             "colorbar": {
              "outlinewidth": 0,
              "ticks": ""
             }
            },
            "type": "scattergl"
           }
          ],
          "scattermapbox": [
           {
            "marker": {
             "colorbar": {
              "outlinewidth": 0,
              "ticks": ""
             }
            },
            "type": "scattermapbox"
           }
          ],
          "scatterpolar": [
           {
            "marker": {
             "colorbar": {
              "outlinewidth": 0,
              "ticks": ""
             }
            },
            "type": "scatterpolar"
           }
          ],
          "scatterpolargl": [
           {
            "marker": {
             "colorbar": {
              "outlinewidth": 0,
              "ticks": ""
             }
            },
            "type": "scatterpolargl"
           }
          ],
          "scatterternary": [
           {
            "marker": {
             "colorbar": {
              "outlinewidth": 0,
              "ticks": ""
             }
            },
            "type": "scatterternary"
           }
          ],
          "surface": [
           {
            "colorbar": {
             "outlinewidth": 0,
             "ticks": ""
            },
            "colorscale": [
             [
              0,
              "#0d0887"
             ],
             [
              0.1111111111111111,
              "#46039f"
             ],
             [
              0.2222222222222222,
              "#7201a8"
             ],
             [
              0.3333333333333333,
              "#9c179e"
             ],
             [
              0.4444444444444444,
              "#bd3786"
             ],
             [
              0.5555555555555556,
              "#d8576b"
             ],
             [
              0.6666666666666666,
              "#ed7953"
             ],
             [
              0.7777777777777778,
              "#fb9f3a"
             ],
             [
              0.8888888888888888,
              "#fdca26"
             ],
             [
              1,
              "#f0f921"
             ]
            ],
            "type": "surface"
           }
          ],
          "table": [
           {
            "cells": {
             "fill": {
              "color": "#EBF0F8"
             },
             "line": {
              "color": "white"
             }
            },
            "header": {
             "fill": {
              "color": "#C8D4E3"
             },
             "line": {
              "color": "white"
             }
            },
            "type": "table"
           }
          ]
         },
         "layout": {
          "annotationdefaults": {
           "arrowcolor": "#2a3f5f",
           "arrowhead": 0,
           "arrowwidth": 1
          },
          "autotypenumbers": "strict",
          "coloraxis": {
           "colorbar": {
            "outlinewidth": 0,
            "ticks": ""
           }
          },
          "colorscale": {
           "diverging": [
            [
             0,
             "#8e0152"
            ],
            [
             0.1,
             "#c51b7d"
            ],
            [
             0.2,
             "#de77ae"
            ],
            [
             0.3,
             "#f1b6da"
            ],
            [
             0.4,
             "#fde0ef"
            ],
            [
             0.5,
             "#f7f7f7"
            ],
            [
             0.6,
             "#e6f5d0"
            ],
            [
             0.7,
             "#b8e186"
            ],
            [
             0.8,
             "#7fbc41"
            ],
            [
             0.9,
             "#4d9221"
            ],
            [
             1,
             "#276419"
            ]
           ],
           "sequential": [
            [
             0,
             "#0d0887"
            ],
            [
             0.1111111111111111,
             "#46039f"
            ],
            [
             0.2222222222222222,
             "#7201a8"
            ],
            [
             0.3333333333333333,
             "#9c179e"
            ],
            [
             0.4444444444444444,
             "#bd3786"
            ],
            [
             0.5555555555555556,
             "#d8576b"
            ],
            [
             0.6666666666666666,
             "#ed7953"
            ],
            [
             0.7777777777777778,
             "#fb9f3a"
            ],
            [
             0.8888888888888888,
             "#fdca26"
            ],
            [
             1,
             "#f0f921"
            ]
           ],
           "sequentialminus": [
            [
             0,
             "#0d0887"
            ],
            [
             0.1111111111111111,
             "#46039f"
            ],
            [
             0.2222222222222222,
             "#7201a8"
            ],
            [
             0.3333333333333333,
             "#9c179e"
            ],
            [
             0.4444444444444444,
             "#bd3786"
            ],
            [
             0.5555555555555556,
             "#d8576b"
            ],
            [
             0.6666666666666666,
             "#ed7953"
            ],
            [
             0.7777777777777778,
             "#fb9f3a"
            ],
            [
             0.8888888888888888,
             "#fdca26"
            ],
            [
             1,
             "#f0f921"
            ]
           ]
          },
          "colorway": [
           "#636efa",
           "#EF553B",
           "#00cc96",
           "#ab63fa",
           "#FFA15A",
           "#19d3f3",
           "#FF6692",
           "#B6E880",
           "#FF97FF",
           "#FECB52"
          ],
          "font": {
           "color": "#2a3f5f"
          },
          "geo": {
           "bgcolor": "white",
           "lakecolor": "white",
           "landcolor": "#E5ECF6",
           "showlakes": true,
           "showland": true,
           "subunitcolor": "white"
          },
          "hoverlabel": {
           "align": "left"
          },
          "hovermode": "closest",
          "mapbox": {
           "style": "light"
          },
          "paper_bgcolor": "white",
          "plot_bgcolor": "#E5ECF6",
          "polar": {
           "angularaxis": {
            "gridcolor": "white",
            "linecolor": "white",
            "ticks": ""
           },
           "bgcolor": "#E5ECF6",
           "radialaxis": {
            "gridcolor": "white",
            "linecolor": "white",
            "ticks": ""
           }
          },
          "scene": {
           "xaxis": {
            "backgroundcolor": "#E5ECF6",
            "gridcolor": "white",
            "gridwidth": 2,
            "linecolor": "white",
            "showbackground": true,
            "ticks": "",
            "zerolinecolor": "white"
           },
           "yaxis": {
            "backgroundcolor": "#E5ECF6",
            "gridcolor": "white",
            "gridwidth": 2,
            "linecolor": "white",
            "showbackground": true,
            "ticks": "",
            "zerolinecolor": "white"
           },
           "zaxis": {
            "backgroundcolor": "#E5ECF6",
            "gridcolor": "white",
            "gridwidth": 2,
            "linecolor": "white",
            "showbackground": true,
            "ticks": "",
            "zerolinecolor": "white"
           }
          },
          "shapedefaults": {
           "line": {
            "color": "#2a3f5f"
           }
          },
          "ternary": {
           "aaxis": {
            "gridcolor": "white",
            "linecolor": "white",
            "ticks": ""
           },
           "baxis": {
            "gridcolor": "white",
            "linecolor": "white",
            "ticks": ""
           },
           "bgcolor": "#E5ECF6",
           "caxis": {
            "gridcolor": "white",
            "linecolor": "white",
            "ticks": ""
           }
          },
          "title": {
           "x": 0.05
          },
          "xaxis": {
           "automargin": true,
           "gridcolor": "white",
           "linecolor": "white",
           "ticks": "",
           "title": {
            "standoff": 15
           },
           "zerolinecolor": "white",
           "zerolinewidth": 2
          },
          "yaxis": {
           "automargin": true,
           "gridcolor": "white",
           "linecolor": "white",
           "ticks": "",
           "title": {
            "standoff": 15
           },
           "zerolinecolor": "white",
           "zerolinewidth": 2
          }
         }
        },
        "title": {
         "text": "Globale Finanzierungssummen",
         "x": 0.5
        },
        "xaxis": {
         "anchor": "y",
         "domain": [
          0,
          1
         ],
         "title": {
          "text": "Jahr"
         }
        },
        "yaxis": {
         "anchor": "x",
         "domain": [
          0,
          1
         ],
         "tickprefix": "",
         "ticksuffix": "",
         "ticktext": [
          "2 M",
          "4 M",
          "6 M",
          "8 M",
          "10 M",
          "12 M"
         ],
         "tickvals": [
          2000000000,
          4000000000,
          6000000000,
          8000000000,
          10000000000,
          12000000000
         ],
         "title": {
          "text": "Finanzierungssumme ($)"
         }
        }
       }
      },
      "text/html": [
       "<div>                            <div id=\"2225a2bd-f510-4a0a-aa57-62d38bb2a0ab\" class=\"plotly-graph-div\" style=\"height:525px; width:100%;\"></div>            <script type=\"text/javascript\">                require([\"plotly\"], function(Plotly) {                    window.PLOTLYENV=window.PLOTLYENV || {};                                    if (document.getElementById(\"2225a2bd-f510-4a0a-aa57-62d38bb2a0ab\")) {                    Plotly.newPlot(                        \"2225a2bd-f510-4a0a-aa57-62d38bb2a0ab\",                        [{\"alignmentgroup\":\"True\",\"hovertemplate\":\"Finanzierungstyp=Andere ODA\\u003cbr\\u003eJahr=%{x}\\u003cbr\\u003eFinanzierungssumme ($)=%{y}\\u003cextra\\u003e\\u003c\\u002fextra\\u003e\",\"legendgroup\":\"Andere ODA\",\"marker\":{\"color\":\"orange\",\"pattern\":{\"shape\":\"\"}},\"name\":\"Andere ODA\",\"offsetgroup\":\"Andere ODA\",\"orientation\":\"v\",\"showlegend\":true,\"textposition\":\"auto\",\"x\":[2013,2014,2015,2016,2017,2018,2019,2020,2021,2022],\"xaxis\":\"x\",\"y\":[4123669176.5000014,5125713580.5,4163770118.000001,5236282779.499999,5489601781.5,6108516452.5,6322369446.0,7730788500.000002,7621191955.5,8117990964.500001],\"yaxis\":\"y\",\"type\":\"bar\"},{\"alignmentgroup\":\"True\",\"hovertemplate\":\"Finanzierungstyp=Klimaschutz Finanzierung\\u003cbr\\u003eJahr=%{x}\\u003cbr\\u003eFinanzierungssumme ($)=%{y}\\u003cextra\\u003e\\u003c\\u002fextra\\u003e\",\"legendgroup\":\"Klimaschutz Finanzierung\",\"marker\":{\"color\":\"green\",\"pattern\":{\"shape\":\"\"}},\"name\":\"Klimaschutz Finanzierung\",\"offsetgroup\":\"Klimaschutz Finanzierung\",\"orientation\":\"v\",\"showlegend\":true,\"textposition\":\"auto\",\"x\":[2013,2014,2015,2016,2017,2018,2019,2020,2021,2022],\"xaxis\":\"x\",\"y\":[561335063.0,597542272.4999999,491370373.5,767379752.9999999,849431274.5000001,855800231.0,1067214184.5,1054035251.5,1376035352.5,1640856550.0000002],\"yaxis\":\"y\",\"type\":\"bar\"},{\"alignmentgroup\":\"True\",\"hovertemplate\":\"Finanzierungstyp=Klimaanpassung Finanzierung\\u003cbr\\u003eJahr=%{x}\\u003cbr\\u003eFinanzierungssumme ($)=%{y}\\u003cextra\\u003e\\u003c\\u002fextra\\u003e\",\"legendgroup\":\"Klimaanpassung Finanzierung\",\"marker\":{\"color\":\"blue\",\"pattern\":{\"shape\":\"\"}},\"name\":\"Klimaanpassung Finanzierung\",\"offsetgroup\":\"Klimaanpassung Finanzierung\",\"orientation\":\"v\",\"showlegend\":true,\"textposition\":\"auto\",\"x\":[2013,2014,2015,2016,2017,2018,2019,2020,2021,2022],\"xaxis\":\"x\",\"y\":[430780688.5,599863973.0,661362942.5,893345489.5,865653914.0,1048374899.5,1242999296.5,1509883530.5,1596187821.0,1693406647.5],\"yaxis\":\"y\",\"type\":\"bar\"}],                        {\"template\":{\"data\":{\"histogram2dcontour\":[{\"type\":\"histogram2dcontour\",\"colorbar\":{\"outlinewidth\":0,\"ticks\":\"\"},\"colorscale\":[[0.0,\"#0d0887\"],[0.1111111111111111,\"#46039f\"],[0.2222222222222222,\"#7201a8\"],[0.3333333333333333,\"#9c179e\"],[0.4444444444444444,\"#bd3786\"],[0.5555555555555556,\"#d8576b\"],[0.6666666666666666,\"#ed7953\"],[0.7777777777777778,\"#fb9f3a\"],[0.8888888888888888,\"#fdca26\"],[1.0,\"#f0f921\"]]}],\"choropleth\":[{\"type\":\"choropleth\",\"colorbar\":{\"outlinewidth\":0,\"ticks\":\"\"}}],\"histogram2d\":[{\"type\":\"histogram2d\",\"colorbar\":{\"outlinewidth\":0,\"ticks\":\"\"},\"colorscale\":[[0.0,\"#0d0887\"],[0.1111111111111111,\"#46039f\"],[0.2222222222222222,\"#7201a8\"],[0.3333333333333333,\"#9c179e\"],[0.4444444444444444,\"#bd3786\"],[0.5555555555555556,\"#d8576b\"],[0.6666666666666666,\"#ed7953\"],[0.7777777777777778,\"#fb9f3a\"],[0.8888888888888888,\"#fdca26\"],[1.0,\"#f0f921\"]]}],\"heatmap\":[{\"type\":\"heatmap\",\"colorbar\":{\"outlinewidth\":0,\"ticks\":\"\"},\"colorscale\":[[0.0,\"#0d0887\"],[0.1111111111111111,\"#46039f\"],[0.2222222222222222,\"#7201a8\"],[0.3333333333333333,\"#9c179e\"],[0.4444444444444444,\"#bd3786\"],[0.5555555555555556,\"#d8576b\"],[0.6666666666666666,\"#ed7953\"],[0.7777777777777778,\"#fb9f3a\"],[0.8888888888888888,\"#fdca26\"],[1.0,\"#f0f921\"]]}],\"heatmapgl\":[{\"type\":\"heatmapgl\",\"colorbar\":{\"outlinewidth\":0,\"ticks\":\"\"},\"colorscale\":[[0.0,\"#0d0887\"],[0.1111111111111111,\"#46039f\"],[0.2222222222222222,\"#7201a8\"],[0.3333333333333333,\"#9c179e\"],[0.4444444444444444,\"#bd3786\"],[0.5555555555555556,\"#d8576b\"],[0.6666666666666666,\"#ed7953\"],[0.7777777777777778,\"#fb9f3a\"],[0.8888888888888888,\"#fdca26\"],[1.0,\"#f0f921\"]]}],\"contourcarpet\":[{\"type\":\"contourcarpet\",\"colorbar\":{\"outlinewidth\":0,\"ticks\":\"\"}}],\"contour\":[{\"type\":\"contour\",\"colorbar\":{\"outlinewidth\":0,\"ticks\":\"\"},\"colorscale\":[[0.0,\"#0d0887\"],[0.1111111111111111,\"#46039f\"],[0.2222222222222222,\"#7201a8\"],[0.3333333333333333,\"#9c179e\"],[0.4444444444444444,\"#bd3786\"],[0.5555555555555556,\"#d8576b\"],[0.6666666666666666,\"#ed7953\"],[0.7777777777777778,\"#fb9f3a\"],[0.8888888888888888,\"#fdca26\"],[1.0,\"#f0f921\"]]}],\"surface\":[{\"type\":\"surface\",\"colorbar\":{\"outlinewidth\":0,\"ticks\":\"\"},\"colorscale\":[[0.0,\"#0d0887\"],[0.1111111111111111,\"#46039f\"],[0.2222222222222222,\"#7201a8\"],[0.3333333333333333,\"#9c179e\"],[0.4444444444444444,\"#bd3786\"],[0.5555555555555556,\"#d8576b\"],[0.6666666666666666,\"#ed7953\"],[0.7777777777777778,\"#fb9f3a\"],[0.8888888888888888,\"#fdca26\"],[1.0,\"#f0f921\"]]}],\"mesh3d\":[{\"type\":\"mesh3d\",\"colorbar\":{\"outlinewidth\":0,\"ticks\":\"\"}}],\"scatter\":[{\"fillpattern\":{\"fillmode\":\"overlay\",\"size\":10,\"solidity\":0.2},\"type\":\"scatter\"}],\"parcoords\":[{\"type\":\"parcoords\",\"line\":{\"colorbar\":{\"outlinewidth\":0,\"ticks\":\"\"}}}],\"scatterpolargl\":[{\"type\":\"scatterpolargl\",\"marker\":{\"colorbar\":{\"outlinewidth\":0,\"ticks\":\"\"}}}],\"bar\":[{\"error_x\":{\"color\":\"#2a3f5f\"},\"error_y\":{\"color\":\"#2a3f5f\"},\"marker\":{\"line\":{\"color\":\"#E5ECF6\",\"width\":0.5},\"pattern\":{\"fillmode\":\"overlay\",\"size\":10,\"solidity\":0.2}},\"type\":\"bar\"}],\"scattergeo\":[{\"type\":\"scattergeo\",\"marker\":{\"colorbar\":{\"outlinewidth\":0,\"ticks\":\"\"}}}],\"scatterpolar\":[{\"type\":\"scatterpolar\",\"marker\":{\"colorbar\":{\"outlinewidth\":0,\"ticks\":\"\"}}}],\"histogram\":[{\"marker\":{\"pattern\":{\"fillmode\":\"overlay\",\"size\":10,\"solidity\":0.2}},\"type\":\"histogram\"}],\"scattergl\":[{\"type\":\"scattergl\",\"marker\":{\"colorbar\":{\"outlinewidth\":0,\"ticks\":\"\"}}}],\"scatter3d\":[{\"type\":\"scatter3d\",\"line\":{\"colorbar\":{\"outlinewidth\":0,\"ticks\":\"\"}},\"marker\":{\"colorbar\":{\"outlinewidth\":0,\"ticks\":\"\"}}}],\"scattermapbox\":[{\"type\":\"scattermapbox\",\"marker\":{\"colorbar\":{\"outlinewidth\":0,\"ticks\":\"\"}}}],\"scatterternary\":[{\"type\":\"scatterternary\",\"marker\":{\"colorbar\":{\"outlinewidth\":0,\"ticks\":\"\"}}}],\"scattercarpet\":[{\"type\":\"scattercarpet\",\"marker\":{\"colorbar\":{\"outlinewidth\":0,\"ticks\":\"\"}}}],\"carpet\":[{\"aaxis\":{\"endlinecolor\":\"#2a3f5f\",\"gridcolor\":\"white\",\"linecolor\":\"white\",\"minorgridcolor\":\"white\",\"startlinecolor\":\"#2a3f5f\"},\"baxis\":{\"endlinecolor\":\"#2a3f5f\",\"gridcolor\":\"white\",\"linecolor\":\"white\",\"minorgridcolor\":\"white\",\"startlinecolor\":\"#2a3f5f\"},\"type\":\"carpet\"}],\"table\":[{\"cells\":{\"fill\":{\"color\":\"#EBF0F8\"},\"line\":{\"color\":\"white\"}},\"header\":{\"fill\":{\"color\":\"#C8D4E3\"},\"line\":{\"color\":\"white\"}},\"type\":\"table\"}],\"barpolar\":[{\"marker\":{\"line\":{\"color\":\"#E5ECF6\",\"width\":0.5},\"pattern\":{\"fillmode\":\"overlay\",\"size\":10,\"solidity\":0.2}},\"type\":\"barpolar\"}],\"pie\":[{\"automargin\":true,\"type\":\"pie\"}]},\"layout\":{\"autotypenumbers\":\"strict\",\"colorway\":[\"#636efa\",\"#EF553B\",\"#00cc96\",\"#ab63fa\",\"#FFA15A\",\"#19d3f3\",\"#FF6692\",\"#B6E880\",\"#FF97FF\",\"#FECB52\"],\"font\":{\"color\":\"#2a3f5f\"},\"hovermode\":\"closest\",\"hoverlabel\":{\"align\":\"left\"},\"paper_bgcolor\":\"white\",\"plot_bgcolor\":\"#E5ECF6\",\"polar\":{\"bgcolor\":\"#E5ECF6\",\"angularaxis\":{\"gridcolor\":\"white\",\"linecolor\":\"white\",\"ticks\":\"\"},\"radialaxis\":{\"gridcolor\":\"white\",\"linecolor\":\"white\",\"ticks\":\"\"}},\"ternary\":{\"bgcolor\":\"#E5ECF6\",\"aaxis\":{\"gridcolor\":\"white\",\"linecolor\":\"white\",\"ticks\":\"\"},\"baxis\":{\"gridcolor\":\"white\",\"linecolor\":\"white\",\"ticks\":\"\"},\"caxis\":{\"gridcolor\":\"white\",\"linecolor\":\"white\",\"ticks\":\"\"}},\"coloraxis\":{\"colorbar\":{\"outlinewidth\":0,\"ticks\":\"\"}},\"colorscale\":{\"sequential\":[[0.0,\"#0d0887\"],[0.1111111111111111,\"#46039f\"],[0.2222222222222222,\"#7201a8\"],[0.3333333333333333,\"#9c179e\"],[0.4444444444444444,\"#bd3786\"],[0.5555555555555556,\"#d8576b\"],[0.6666666666666666,\"#ed7953\"],[0.7777777777777778,\"#fb9f3a\"],[0.8888888888888888,\"#fdca26\"],[1.0,\"#f0f921\"]],\"sequentialminus\":[[0.0,\"#0d0887\"],[0.1111111111111111,\"#46039f\"],[0.2222222222222222,\"#7201a8\"],[0.3333333333333333,\"#9c179e\"],[0.4444444444444444,\"#bd3786\"],[0.5555555555555556,\"#d8576b\"],[0.6666666666666666,\"#ed7953\"],[0.7777777777777778,\"#fb9f3a\"],[0.8888888888888888,\"#fdca26\"],[1.0,\"#f0f921\"]],\"diverging\":[[0,\"#8e0152\"],[0.1,\"#c51b7d\"],[0.2,\"#de77ae\"],[0.3,\"#f1b6da\"],[0.4,\"#fde0ef\"],[0.5,\"#f7f7f7\"],[0.6,\"#e6f5d0\"],[0.7,\"#b8e186\"],[0.8,\"#7fbc41\"],[0.9,\"#4d9221\"],[1,\"#276419\"]]},\"xaxis\":{\"gridcolor\":\"white\",\"linecolor\":\"white\",\"ticks\":\"\",\"title\":{\"standoff\":15},\"zerolinecolor\":\"white\",\"automargin\":true,\"zerolinewidth\":2},\"yaxis\":{\"gridcolor\":\"white\",\"linecolor\":\"white\",\"ticks\":\"\",\"title\":{\"standoff\":15},\"zerolinecolor\":\"white\",\"automargin\":true,\"zerolinewidth\":2},\"scene\":{\"xaxis\":{\"backgroundcolor\":\"#E5ECF6\",\"gridcolor\":\"white\",\"linecolor\":\"white\",\"showbackground\":true,\"ticks\":\"\",\"zerolinecolor\":\"white\",\"gridwidth\":2},\"yaxis\":{\"backgroundcolor\":\"#E5ECF6\",\"gridcolor\":\"white\",\"linecolor\":\"white\",\"showbackground\":true,\"ticks\":\"\",\"zerolinecolor\":\"white\",\"gridwidth\":2},\"zaxis\":{\"backgroundcolor\":\"#E5ECF6\",\"gridcolor\":\"white\",\"linecolor\":\"white\",\"showbackground\":true,\"ticks\":\"\",\"zerolinecolor\":\"white\",\"gridwidth\":2}},\"shapedefaults\":{\"line\":{\"color\":\"#2a3f5f\"}},\"annotationdefaults\":{\"arrowcolor\":\"#2a3f5f\",\"arrowhead\":0,\"arrowwidth\":1},\"geo\":{\"bgcolor\":\"white\",\"landcolor\":\"#E5ECF6\",\"subunitcolor\":\"white\",\"showland\":true,\"showlakes\":true,\"lakecolor\":\"white\"},\"title\":{\"x\":0.05},\"mapbox\":{\"style\":\"light\"}}},\"xaxis\":{\"anchor\":\"y\",\"domain\":[0.0,1.0],\"title\":{\"text\":\"Jahr\"}},\"yaxis\":{\"anchor\":\"x\",\"domain\":[0.0,1.0],\"title\":{\"text\":\"Finanzierungssumme ($)\"},\"tickprefix\":\"\",\"ticksuffix\":\"\",\"tickvals\":[2000000000.0,4000000000.0,6000000000.0,8000000000.0,10000000000.0,12000000000.0],\"ticktext\":[\"2 M\",\"4 M\",\"6 M\",\"8 M\",\"10 M\",\"12 M\"]},\"legend\":{\"title\":{\"text\":\"Finanzierungstyp\"},\"tracegroupgap\":0},\"title\":{\"text\":\"Globale Finanzierungssummen\",\"x\":0.5},\"barmode\":\"relative\"},                        {\"responsive\": true}                    ).then(function(){\n",
       "                            \n",
       "var gd = document.getElementById('2225a2bd-f510-4a0a-aa57-62d38bb2a0ab');\n",
       "var x = new MutationObserver(function (mutations, observer) {{\n",
       "        var display = window.getComputedStyle(gd).display;\n",
       "        if (!display || display === 'none') {{\n",
       "            console.log([gd, 'removed!']);\n",
       "            Plotly.purge(gd);\n",
       "            observer.disconnect();\n",
       "        }}\n",
       "}});\n",
       "\n",
       "// Listen for the removal of the full notebook cells\n",
       "var notebookContainer = gd.closest('#notebook-container');\n",
       "if (notebookContainer) {{\n",
       "    x.observe(notebookContainer, {childList: true});\n",
       "}}\n",
       "\n",
       "// Listen for the clearing of the current output cell\n",
       "var outputEl = gd.closest('.output');\n",
       "if (outputEl) {{\n",
       "    x.observe(outputEl, {childList: true});\n",
       "}}\n",
       "\n",
       "                        })                };                });            </script>        </div>"
      ]
     },
     "metadata": {},
     "output_type": "display_data"
    }
   ],
   "source": [
    "split_df = pd.read_csv('../upload_data/split_globe.csv')\n",
    "\n",
    "\n",
    "fig = px.bar(split_df, x='Year', y='Amount', color='Finanzierungstyp',\n",
    "            title='Globale Finanzierungssummen',\n",
    "            labels={'Amount': 'Finanzierungssumme ($)', 'Year': 'Jahr'},\n",
    "            category_orders={'Finanzierungstyp': ['Andere ODA','Klimaschutz Finanzierung', 'Klimaanpassung Finanzierung']},\n",
    "            color_discrete_map={'Andere ODA': 'orange', 'Klimaschutz Finanzierung': 'green', 'Klimaanpassung Finanzierung': 'blue'}\n",
    "            )# This ensures consistent color ordering\n",
    "\n",
    "fig.update_layout(title_x=0.5)\n",
    "tick_values = [2e9, 4e9, 6e9, 8e9, 10e9, 12e9]\n",
    "tick_labels = ['2 M', '4 M', '6 M', '8 M', '10 M', '12 M']\n",
    "\n",
    "# Update the y-axis to display values in billions ('M' for Milliarden)\n",
    "fig.update_yaxes(tickprefix=\"\", ticksuffix=\"\",\n",
    "                 tickvals=tick_values,\n",
    "                 ticktext=tick_labels)\n",
    "fig.show()"
   ]
  },
  {
   "cell_type": "markdown",
   "id": "31ff0218",
   "metadata": {},
   "source": [
    "# Waterfall"
   ]
  },
  {
   "cell_type": "code",
   "execution_count": 10,
   "id": "5e8df466",
   "metadata": {},
   "outputs": [],
   "source": [
    "globe_df = globe_df.loc[[142]]"
   ]
  },
  {
   "cell_type": "code",
   "execution_count": 11,
   "id": "e987c4ad",
   "metadata": {},
   "outputs": [
    {
     "data": {
      "text/html": [
       "<div>\n",
       "<style scoped>\n",
       "    .dataframe tbody tr th:only-of-type {\n",
       "        vertical-align: middle;\n",
       "    }\n",
       "\n",
       "    .dataframe tbody tr th {\n",
       "        vertical-align: top;\n",
       "    }\n",
       "\n",
       "    .dataframe thead th {\n",
       "        text-align: right;\n",
       "    }\n",
       "</style>\n",
       "<table border=\"1\" class=\"dataframe\">\n",
       "  <thead>\n",
       "    <tr style=\"text-align: right;\">\n",
       "      <th></th>\n",
       "      <th>amount_2013</th>\n",
       "      <th>clim_rel_amount_2013</th>\n",
       "      <th>amount_2014</th>\n",
       "      <th>clim_rel_amount_2014</th>\n",
       "      <th>amount_2015</th>\n",
       "      <th>clim_rel_amount_2015</th>\n",
       "      <th>amount_2016</th>\n",
       "      <th>clim_rel_amount_2016</th>\n",
       "      <th>amount_2017</th>\n",
       "      <th>clim_rel_amount_2017</th>\n",
       "      <th>amount_2018</th>\n",
       "      <th>clim_rel_amount_2018</th>\n",
       "      <th>amount_2019</th>\n",
       "      <th>clim_rel_amount_2019</th>\n",
       "      <th>amount_2020</th>\n",
       "      <th>clim_rel_amount_2020</th>\n",
       "      <th>amount_2021</th>\n",
       "      <th>clim_rel_amount_2021</th>\n",
       "      <th>amount_2022</th>\n",
       "      <th>clim_rel_amount_2022</th>\n",
       "    </tr>\n",
       "  </thead>\n",
       "  <tbody>\n",
       "    <tr>\n",
       "      <th>142</th>\n",
       "      <td>5115.784928</td>\n",
       "      <td>992.115751</td>\n",
       "      <td>6323.119826</td>\n",
       "      <td>1197.406245</td>\n",
       "      <td>5316.503434</td>\n",
       "      <td>1152.733316</td>\n",
       "      <td>6897.008022</td>\n",
       "      <td>1660.725242</td>\n",
       "      <td>7204.68697</td>\n",
       "      <td>1715.085188</td>\n",
       "      <td>8012.691583</td>\n",
       "      <td>1904.175131</td>\n",
       "      <td>8632.582927</td>\n",
       "      <td>2310.213481</td>\n",
       "      <td>10294.707282</td>\n",
       "      <td>2563.918782</td>\n",
       "      <td>10593.415129</td>\n",
       "      <td>2972.043199</td>\n",
       "      <td>11452.254162</td>\n",
       "      <td>3333.997495</td>\n",
       "    </tr>\n",
       "  </tbody>\n",
       "</table>\n",
       "</div>"
      ],
      "text/plain": [
       "     amount_2013  clim_rel_amount_2013  amount_2014  clim_rel_amount_2014  \\\n",
       "142  5115.784928            992.115751  6323.119826           1197.406245   \n",
       "\n",
       "     amount_2015  clim_rel_amount_2015  amount_2016  clim_rel_amount_2016  \\\n",
       "142  5316.503434           1152.733316  6897.008022           1660.725242   \n",
       "\n",
       "     amount_2017  clim_rel_amount_2017  amount_2018  clim_rel_amount_2018  \\\n",
       "142   7204.68697           1715.085188  8012.691583           1904.175131   \n",
       "\n",
       "     amount_2019  clim_rel_amount_2019   amount_2020  clim_rel_amount_2020  \\\n",
       "142  8632.582927           2310.213481  10294.707282           2563.918782   \n",
       "\n",
       "      amount_2021  clim_rel_amount_2021   amount_2022  clim_rel_amount_2022  \n",
       "142  10593.415129           2972.043199  11452.254162           3333.997495  "
      ]
     },
     "execution_count": 11,
     "metadata": {},
     "output_type": "execute_result"
    }
   ],
   "source": [
    "globe_df"
   ]
  },
  {
   "cell_type": "code",
   "execution_count": 12,
   "id": "82f9b00d",
   "metadata": {},
   "outputs": [
    {
     "data": {
      "text/html": [
       "<div>\n",
       "<style scoped>\n",
       "    .dataframe tbody tr th:only-of-type {\n",
       "        vertical-align: middle;\n",
       "    }\n",
       "\n",
       "    .dataframe tbody tr th {\n",
       "        vertical-align: top;\n",
       "    }\n",
       "\n",
       "    .dataframe thead th {\n",
       "        text-align: right;\n",
       "    }\n",
       "</style>\n",
       "<table border=\"1\" class=\"dataframe\">\n",
       "  <thead>\n",
       "    <tr style=\"text-align: right;\">\n",
       "      <th></th>\n",
       "      <th>Year</th>\n",
       "      <th>Percentage</th>\n",
       "      <th>Change</th>\n",
       "    </tr>\n",
       "  </thead>\n",
       "  <tbody>\n",
       "    <tr>\n",
       "      <th>0</th>\n",
       "      <td>2013</td>\n",
       "      <td>19.393226</td>\n",
       "      <td>NaN</td>\n",
       "    </tr>\n",
       "    <tr>\n",
       "      <th>1</th>\n",
       "      <td>2014</td>\n",
       "      <td>18.936953</td>\n",
       "      <td>-0.456273</td>\n",
       "    </tr>\n",
       "    <tr>\n",
       "      <th>2</th>\n",
       "      <td>2015</td>\n",
       "      <td>21.682170</td>\n",
       "      <td>2.745217</td>\n",
       "    </tr>\n",
       "    <tr>\n",
       "      <th>3</th>\n",
       "      <td>2016</td>\n",
       "      <td>24.078923</td>\n",
       "      <td>2.396753</td>\n",
       "    </tr>\n",
       "    <tr>\n",
       "      <th>4</th>\n",
       "      <td>2017</td>\n",
       "      <td>23.805131</td>\n",
       "      <td>-0.273792</td>\n",
       "    </tr>\n",
       "    <tr>\n",
       "      <th>5</th>\n",
       "      <td>2018</td>\n",
       "      <td>23.764488</td>\n",
       "      <td>-0.040643</td>\n",
       "    </tr>\n",
       "    <tr>\n",
       "      <th>6</th>\n",
       "      <td>2019</td>\n",
       "      <td>26.761556</td>\n",
       "      <td>2.997068</td>\n",
       "    </tr>\n",
       "    <tr>\n",
       "      <th>7</th>\n",
       "      <td>2020</td>\n",
       "      <td>24.905213</td>\n",
       "      <td>-1.856343</td>\n",
       "    </tr>\n",
       "    <tr>\n",
       "      <th>8</th>\n",
       "      <td>2021</td>\n",
       "      <td>28.055572</td>\n",
       "      <td>3.150359</td>\n",
       "    </tr>\n",
       "    <tr>\n",
       "      <th>9</th>\n",
       "      <td>2022</td>\n",
       "      <td>29.112151</td>\n",
       "      <td>1.056579</td>\n",
       "    </tr>\n",
       "  </tbody>\n",
       "</table>\n",
       "</div>"
      ],
      "text/plain": [
       "   Year  Percentage    Change\n",
       "0  2013   19.393226       NaN\n",
       "1  2014   18.936953 -0.456273\n",
       "2  2015   21.682170  2.745217\n",
       "3  2016   24.078923  2.396753\n",
       "4  2017   23.805131 -0.273792\n",
       "5  2018   23.764488 -0.040643\n",
       "6  2019   26.761556  2.997068\n",
       "7  2020   24.905213 -1.856343\n",
       "8  2021   28.055572  3.150359\n",
       "9  2022   29.112151  1.056579"
      ]
     },
     "execution_count": 12,
     "metadata": {},
     "output_type": "execute_result"
    }
   ],
   "source": [
    "years = [col.split('_')[-1] for col in globe_df.columns if col.startswith('amount_')]\n",
    "\n",
    "for year in years:\n",
    "    amount_col = f'amount_{year}'\n",
    "    clim_rel_amount_col = f'clim_rel_amount_{year}'\n",
    "    clim_rel_percent_col = f'clim_rel_percent_{year}'\n",
    "    \n",
    "    # Calculate the clim_rel_percent column for the year\n",
    "    # Note: It's a good practice to handle division by zero or check if 'amount_' is not zero to avoid ZeroDivisionError.\n",
    "    globe_df[clim_rel_percent_col] = (globe_df[clim_rel_amount_col] / globe_df[amount_col]) * 100\n",
    "    \n",
    "    \n",
    "\n",
    "selected_columns = [col for col in globe_df.columns if col.startswith('clim_rel_percent_')]\n",
    "filtered_df = globe_df[selected_columns]\n",
    "\n",
    "\n",
    "# Melt the DataFrame to get it in the right shape for plotting\n",
    "melted_df = filtered_df.reset_index().melt(id_vars=['index'], var_name='Year', value_name='Percentage')\n",
    "\n",
    "# Clean the 'Year' column to keep only the year part\n",
    "melted_df['Year'] = melted_df['Year'].str.replace('clim_rel_percent_', '')\n",
    "\n",
    "melted_df = melted_df.drop(columns = 'index')\n",
    "\n",
    "melted_df['Change'] = melted_df['Percentage'].diff()\n",
    "\n",
    "melted_df"
   ]
  },
  {
   "cell_type": "code",
   "execution_count": 13,
   "id": "fde1f927",
   "metadata": {},
   "outputs": [],
   "source": [
    "melted_df.to_csv('../upload_data/globe_waterfall.csv')"
   ]
  },
  {
   "cell_type": "markdown",
   "id": "5d0217c3",
   "metadata": {},
   "source": [
    "# globe_df_to_show"
   ]
  },
  {
   "cell_type": "code",
   "execution_count": 18,
   "id": "a2a3d133",
   "metadata": {},
   "outputs": [
    {
     "data": {
      "text/html": [
       "<div>\n",
       "<style scoped>\n",
       "    .dataframe tbody tr th:only-of-type {\n",
       "        vertical-align: middle;\n",
       "    }\n",
       "\n",
       "    .dataframe tbody tr th {\n",
       "        vertical-align: top;\n",
       "    }\n",
       "\n",
       "    .dataframe thead th {\n",
       "        text-align: right;\n",
       "    }\n",
       "</style>\n",
       "<table border=\"1\" class=\"dataframe\">\n",
       "  <thead>\n",
       "    <tr style=\"text-align: right;\">\n",
       "      <th></th>\n",
       "      <th>amount_2013</th>\n",
       "      <th>clim_rel_amount_2013</th>\n",
       "      <th>amount_2014</th>\n",
       "      <th>clim_rel_amount_2014</th>\n",
       "      <th>amount_2015</th>\n",
       "      <th>clim_rel_amount_2015</th>\n",
       "      <th>amount_2016</th>\n",
       "      <th>clim_rel_amount_2016</th>\n",
       "      <th>amount_2017</th>\n",
       "      <th>clim_rel_amount_2017</th>\n",
       "      <th>...</th>\n",
       "      <th>clim_rel_percent_2013</th>\n",
       "      <th>clim_rel_percent_2014</th>\n",
       "      <th>clim_rel_percent_2015</th>\n",
       "      <th>clim_rel_percent_2016</th>\n",
       "      <th>clim_rel_percent_2017</th>\n",
       "      <th>clim_rel_percent_2018</th>\n",
       "      <th>clim_rel_percent_2019</th>\n",
       "      <th>clim_rel_percent_2020</th>\n",
       "      <th>clim_rel_percent_2021</th>\n",
       "      <th>clim_rel_percent_2022</th>\n",
       "    </tr>\n",
       "  </thead>\n",
       "  <tbody>\n",
       "    <tr>\n",
       "      <th>142</th>\n",
       "      <td>5115.784928</td>\n",
       "      <td>992.115751</td>\n",
       "      <td>6323.119826</td>\n",
       "      <td>1197.406245</td>\n",
       "      <td>5316.503434</td>\n",
       "      <td>1152.733316</td>\n",
       "      <td>6897.008022</td>\n",
       "      <td>1660.725242</td>\n",
       "      <td>7204.68697</td>\n",
       "      <td>1715.085188</td>\n",
       "      <td>...</td>\n",
       "      <td>19.393226</td>\n",
       "      <td>18.936953</td>\n",
       "      <td>21.68217</td>\n",
       "      <td>24.078923</td>\n",
       "      <td>23.805131</td>\n",
       "      <td>23.764488</td>\n",
       "      <td>26.761556</td>\n",
       "      <td>24.905213</td>\n",
       "      <td>28.055572</td>\n",
       "      <td>29.112151</td>\n",
       "    </tr>\n",
       "  </tbody>\n",
       "</table>\n",
       "<p>1 rows × 30 columns</p>\n",
       "</div>"
      ],
      "text/plain": [
       "     amount_2013  clim_rel_amount_2013  amount_2014  clim_rel_amount_2014  \\\n",
       "142  5115.784928            992.115751  6323.119826           1197.406245   \n",
       "\n",
       "     amount_2015  clim_rel_amount_2015  amount_2016  clim_rel_amount_2016  \\\n",
       "142  5316.503434           1152.733316  6897.008022           1660.725242   \n",
       "\n",
       "     amount_2017  clim_rel_amount_2017  ...  clim_rel_percent_2013  \\\n",
       "142   7204.68697           1715.085188  ...              19.393226   \n",
       "\n",
       "     clim_rel_percent_2014  clim_rel_percent_2015  clim_rel_percent_2016  \\\n",
       "142              18.936953               21.68217              24.078923   \n",
       "\n",
       "     clim_rel_percent_2017  clim_rel_percent_2018  clim_rel_percent_2019  \\\n",
       "142              23.805131              23.764488              26.761556   \n",
       "\n",
       "     clim_rel_percent_2020  clim_rel_percent_2021  clim_rel_percent_2022  \n",
       "142              24.905213              28.055572              29.112151  \n",
       "\n",
       "[1 rows x 30 columns]"
      ]
     },
     "execution_count": 18,
     "metadata": {},
     "output_type": "execute_result"
    }
   ],
   "source": [
    "globe_df"
   ]
  },
  {
   "cell_type": "code",
   "execution_count": 90,
   "id": "8fccf0cf",
   "metadata": {},
   "outputs": [],
   "source": [
    "df_melted = pd.melt(globe_df, var_name='variable', value_name='value')\n",
    "\n",
    "# Extract year and type\n",
    "df_melted['year'] = df_melted['variable'].str.extract(r'(\\d+)$')[0].astype(int)\n",
    "df_melted['type'] = df_melted['variable'].str.extract(r'^(.*?)_\\d+$')[0]\n",
    "\n",
    "# Pivot table to restructure into the desired format\n",
    "df_final = df_melted.pivot_table(index='year', columns='type', values='value', aggfunc='first').reset_index()\n",
    "\n",
    "# Rename columns as needed\n",
    "df_final.columns.name = None  # Remove the pivot table multi-level indexing name\n",
    "\n",
    "df_final = df_final.rename(columns= {'amount': 'Gesamtsumme (Mrd. $)', \n",
    "                          'clim_rel_amount': 'davon Klimafinanzierung',\n",
    "                          'clim_adapt_amount': 'davon Klimaanpassungsfinanzierung',\n",
    "                                     'clim_miti_amount': 'davon Klimaschutzfinanzierung',\n",
    "                                     'year':'Jahr'\n",
    "                         }).set_index('Jahr')[['Gesamtsumme (Mrd. $)', 'davon Klimafinanzierung','davon Klimaanpassungsfinanzierung', 'davon Klimaschutzfinanzierung']]"
   ]
  },
  {
   "cell_type": "code",
   "execution_count": 91,
   "id": "0f65dcc3",
   "metadata": {},
   "outputs": [
    {
     "data": {
      "text/html": [
       "<div>\n",
       "<style scoped>\n",
       "    .dataframe tbody tr th:only-of-type {\n",
       "        vertical-align: middle;\n",
       "    }\n",
       "\n",
       "    .dataframe tbody tr th {\n",
       "        vertical-align: top;\n",
       "    }\n",
       "\n",
       "    .dataframe thead th {\n",
       "        text-align: right;\n",
       "    }\n",
       "</style>\n",
       "<table border=\"1\" class=\"dataframe\">\n",
       "  <thead>\n",
       "    <tr style=\"text-align: right;\">\n",
       "      <th></th>\n",
       "      <th>Gesamtsumme (Mrd. $)</th>\n",
       "      <th>davon Klimafinanzierung</th>\n",
       "      <th>davon Klimaanpassungsfinanzierung</th>\n",
       "      <th>davon Klimaschutzfinanzierung</th>\n",
       "    </tr>\n",
       "    <tr>\n",
       "      <th>Jahr</th>\n",
       "      <th></th>\n",
       "      <th></th>\n",
       "      <th></th>\n",
       "      <th></th>\n",
       "    </tr>\n",
       "  </thead>\n",
       "  <tbody>\n",
       "    <tr>\n",
       "      <th>2013</th>\n",
       "      <td>5115.784928</td>\n",
       "      <td>992.115751</td>\n",
       "      <td>430.780688</td>\n",
       "      <td>561.335063</td>\n",
       "    </tr>\n",
       "    <tr>\n",
       "      <th>2014</th>\n",
       "      <td>6323.119826</td>\n",
       "      <td>1197.406245</td>\n",
       "      <td>599.863973</td>\n",
       "      <td>597.542272</td>\n",
       "    </tr>\n",
       "    <tr>\n",
       "      <th>2015</th>\n",
       "      <td>5316.503434</td>\n",
       "      <td>1152.733316</td>\n",
       "      <td>661.362943</td>\n",
       "      <td>491.370374</td>\n",
       "    </tr>\n",
       "    <tr>\n",
       "      <th>2016</th>\n",
       "      <td>6897.008022</td>\n",
       "      <td>1660.725242</td>\n",
       "      <td>893.345489</td>\n",
       "      <td>767.379753</td>\n",
       "    </tr>\n",
       "    <tr>\n",
       "      <th>2017</th>\n",
       "      <td>7204.686970</td>\n",
       "      <td>1715.085188</td>\n",
       "      <td>865.653914</td>\n",
       "      <td>849.431275</td>\n",
       "    </tr>\n",
       "    <tr>\n",
       "      <th>2018</th>\n",
       "      <td>8012.691583</td>\n",
       "      <td>1904.175131</td>\n",
       "      <td>1048.374900</td>\n",
       "      <td>855.800231</td>\n",
       "    </tr>\n",
       "    <tr>\n",
       "      <th>2019</th>\n",
       "      <td>8632.582927</td>\n",
       "      <td>2310.213481</td>\n",
       "      <td>1242.999296</td>\n",
       "      <td>1067.214184</td>\n",
       "    </tr>\n",
       "    <tr>\n",
       "      <th>2020</th>\n",
       "      <td>10294.707282</td>\n",
       "      <td>2563.918782</td>\n",
       "      <td>1509.883531</td>\n",
       "      <td>1054.035251</td>\n",
       "    </tr>\n",
       "    <tr>\n",
       "      <th>2021</th>\n",
       "      <td>10593.415129</td>\n",
       "      <td>2972.043199</td>\n",
       "      <td>1596.187821</td>\n",
       "      <td>1376.035353</td>\n",
       "    </tr>\n",
       "    <tr>\n",
       "      <th>2022</th>\n",
       "      <td>11452.254162</td>\n",
       "      <td>3333.997495</td>\n",
       "      <td>1693.406647</td>\n",
       "      <td>1640.856550</td>\n",
       "    </tr>\n",
       "  </tbody>\n",
       "</table>\n",
       "</div>"
      ],
      "text/plain": [
       "      Gesamtsumme (Mrd. $)  davon Klimafinanzierung  \\\n",
       "Jahr                                                  \n",
       "2013           5115.784928               992.115751   \n",
       "2014           6323.119826              1197.406245   \n",
       "2015           5316.503434              1152.733316   \n",
       "2016           6897.008022              1660.725242   \n",
       "2017           7204.686970              1715.085188   \n",
       "2018           8012.691583              1904.175131   \n",
       "2019           8632.582927              2310.213481   \n",
       "2020          10294.707282              2563.918782   \n",
       "2021          10593.415129              2972.043199   \n",
       "2022          11452.254162              3333.997495   \n",
       "\n",
       "      davon Klimaanpassungsfinanzierung  davon Klimaschutzfinanzierung  \n",
       "Jahr                                                                    \n",
       "2013                         430.780688                     561.335063  \n",
       "2014                         599.863973                     597.542272  \n",
       "2015                         661.362943                     491.370374  \n",
       "2016                         893.345489                     767.379753  \n",
       "2017                         865.653914                     849.431275  \n",
       "2018                        1048.374900                     855.800231  \n",
       "2019                        1242.999296                    1067.214184  \n",
       "2020                        1509.883531                    1054.035251  \n",
       "2021                        1596.187821                    1376.035353  \n",
       "2022                        1693.406647                    1640.856550  "
      ]
     },
     "execution_count": 91,
     "metadata": {},
     "output_type": "execute_result"
    }
   ],
   "source": [
    "df_final"
   ]
  },
  {
   "cell_type": "code",
   "execution_count": 92,
   "id": "e9f83d45",
   "metadata": {},
   "outputs": [],
   "source": [
    "df_final.to_csv('../upload_data/globe_df_to_show.csv')"
   ]
  },
  {
   "cell_type": "code",
   "execution_count": 93,
   "id": "b4289a16",
   "metadata": {},
   "outputs": [
    {
     "data": {
      "text/html": [
       "<div>\n",
       "<style scoped>\n",
       "    .dataframe tbody tr th:only-of-type {\n",
       "        vertical-align: middle;\n",
       "    }\n",
       "\n",
       "    .dataframe tbody tr th {\n",
       "        vertical-align: top;\n",
       "    }\n",
       "\n",
       "    .dataframe thead th {\n",
       "        text-align: right;\n",
       "    }\n",
       "</style>\n",
       "<table border=\"1\" class=\"dataframe\">\n",
       "  <thead>\n",
       "    <tr style=\"text-align: right;\">\n",
       "      <th></th>\n",
       "      <th>Jahr</th>\n",
       "      <th>Gesamtsumme (Mrd. $)</th>\n",
       "      <th>davon Klimafinanzierung</th>\n",
       "      <th>davon Klimaanpassungsfinanzierung</th>\n",
       "      <th>davon Klimaschutzfinanzierung</th>\n",
       "    </tr>\n",
       "  </thead>\n",
       "  <tbody>\n",
       "    <tr>\n",
       "      <th>0</th>\n",
       "      <td>2013</td>\n",
       "      <td>5115.784928</td>\n",
       "      <td>992.115751</td>\n",
       "      <td>430.780688</td>\n",
       "      <td>561.335063</td>\n",
       "    </tr>\n",
       "    <tr>\n",
       "      <th>1</th>\n",
       "      <td>2014</td>\n",
       "      <td>6323.119826</td>\n",
       "      <td>1197.406245</td>\n",
       "      <td>599.863973</td>\n",
       "      <td>597.542272</td>\n",
       "    </tr>\n",
       "    <tr>\n",
       "      <th>2</th>\n",
       "      <td>2015</td>\n",
       "      <td>5316.503434</td>\n",
       "      <td>1152.733316</td>\n",
       "      <td>661.362943</td>\n",
       "      <td>491.370374</td>\n",
       "    </tr>\n",
       "    <tr>\n",
       "      <th>3</th>\n",
       "      <td>2016</td>\n",
       "      <td>6897.008022</td>\n",
       "      <td>1660.725242</td>\n",
       "      <td>893.345489</td>\n",
       "      <td>767.379753</td>\n",
       "    </tr>\n",
       "    <tr>\n",
       "      <th>4</th>\n",
       "      <td>2017</td>\n",
       "      <td>7204.686970</td>\n",
       "      <td>1715.085188</td>\n",
       "      <td>865.653914</td>\n",
       "      <td>849.431275</td>\n",
       "    </tr>\n",
       "    <tr>\n",
       "      <th>5</th>\n",
       "      <td>2018</td>\n",
       "      <td>8012.691583</td>\n",
       "      <td>1904.175131</td>\n",
       "      <td>1048.374900</td>\n",
       "      <td>855.800231</td>\n",
       "    </tr>\n",
       "    <tr>\n",
       "      <th>6</th>\n",
       "      <td>2019</td>\n",
       "      <td>8632.582927</td>\n",
       "      <td>2310.213481</td>\n",
       "      <td>1242.999296</td>\n",
       "      <td>1067.214185</td>\n",
       "    </tr>\n",
       "    <tr>\n",
       "      <th>7</th>\n",
       "      <td>2020</td>\n",
       "      <td>10294.707282</td>\n",
       "      <td>2563.918782</td>\n",
       "      <td>1509.883531</td>\n",
       "      <td>1054.035251</td>\n",
       "    </tr>\n",
       "    <tr>\n",
       "      <th>8</th>\n",
       "      <td>2021</td>\n",
       "      <td>10593.415129</td>\n",
       "      <td>2972.043199</td>\n",
       "      <td>1596.187821</td>\n",
       "      <td>1376.035353</td>\n",
       "    </tr>\n",
       "    <tr>\n",
       "      <th>9</th>\n",
       "      <td>2022</td>\n",
       "      <td>11452.254162</td>\n",
       "      <td>3333.997495</td>\n",
       "      <td>1693.406647</td>\n",
       "      <td>1640.856550</td>\n",
       "    </tr>\n",
       "  </tbody>\n",
       "</table>\n",
       "</div>"
      ],
      "text/plain": [
       "   Jahr  Gesamtsumme (Mrd. $)  davon Klimafinanzierung  \\\n",
       "0  2013           5115.784928               992.115751   \n",
       "1  2014           6323.119826              1197.406245   \n",
       "2  2015           5316.503434              1152.733316   \n",
       "3  2016           6897.008022              1660.725242   \n",
       "4  2017           7204.686970              1715.085188   \n",
       "5  2018           8012.691583              1904.175131   \n",
       "6  2019           8632.582927              2310.213481   \n",
       "7  2020          10294.707282              2563.918782   \n",
       "8  2021          10593.415129              2972.043199   \n",
       "9  2022          11452.254162              3333.997495   \n",
       "\n",
       "   davon Klimaanpassungsfinanzierung  davon Klimaschutzfinanzierung  \n",
       "0                         430.780688                     561.335063  \n",
       "1                         599.863973                     597.542272  \n",
       "2                         661.362943                     491.370374  \n",
       "3                         893.345489                     767.379753  \n",
       "4                         865.653914                     849.431275  \n",
       "5                        1048.374900                     855.800231  \n",
       "6                        1242.999296                    1067.214185  \n",
       "7                        1509.883531                    1054.035251  \n",
       "8                        1596.187821                    1376.035353  \n",
       "9                        1693.406647                    1640.856550  "
      ]
     },
     "execution_count": 93,
     "metadata": {},
     "output_type": "execute_result"
    }
   ],
   "source": [
    "pd.read_csv('../upload_data/globe_df_to_show.csv')"
   ]
  },
  {
   "cell_type": "code",
   "execution_count": null,
   "id": "28de452a",
   "metadata": {},
   "outputs": [],
   "source": []
  },
  {
   "cell_type": "markdown",
   "id": "54d7bd1e",
   "metadata": {},
   "source": [
    "# all_country_df.csv"
   ]
  },
  {
   "cell_type": "code",
   "execution_count": 157,
   "id": "29457eaf",
   "metadata": {},
   "outputs": [],
   "source": [
    "# Basic Processing of Data\n",
    "\n",
    "def determine_value(row):\n",
    "    if 2.0 in row[['Climate Adaptation', 'Climate Mitigation']].values:\n",
    "        return 1\n",
    "    elif 1.0 in row[['Climate Adaptation', 'Climate Mitigation']].values:\n",
    "        return 0.5\n",
    "    else:\n",
    "        return 0\n",
    "\n",
    "# final_dict = dictionary_df.copy()    \n",
    "processed_grouped_dfs = []\n",
    "\n",
    "    \n",
    "for year, df in dictionary_df.items():\n",
    "    \n",
    "    # Data Cleaning\n",
    "    use_df = df[['Recipient Name', 'Amount', 'Climate Mitigation', 'Climate Adaptation']]\n",
    "    use_df['Climate Adaptation'] = use_df['Climate Adaptation'].fillna(0)\n",
    "    use_df['Climate Mitigation'] = use_df['Climate Mitigation'].fillna(0)\n",
    "    \n",
    "    # Applying analysis Rules\n",
    "    \n",
    "    use_df['clim_rel'] = use_df.apply(determine_value, axis=1)\n",
    "    \n",
    "    use_df['clim_rel_amount'] = use_df['Amount'] * use_df['clim_rel']\n",
    "    \n",
    "    # Grouping by Country and calculating\n",
    "    \n",
    "    grouped_df = use_df.groupby(['Recipient Name']).sum()[['Amount', 'clim_rel_amount']]\n",
    "    \n",
    "    grouped_df['clim_rel_percent'] = grouped_df['clim_rel_amount'] / grouped_df['Amount']\n",
    "    \n",
    "    grouped_df = grouped_df.rename(columns= {\n",
    "        'Amount': f\"amount_{year}\",\n",
    "        'clim_rel_amount': f\"clim_rel_amount_{year}\",\n",
    "        'clim_rel_percent': f\"clim_rel_percent_{year}\"\n",
    "    })\n",
    "    \n",
    "    # Merging DF\n",
    "    \n",
    "    processed_grouped_dfs.append(grouped_df)\n",
    "    \n",
    "df_merged = reduce(lambda left, right: pd.merge(left, right, on='Recipient Name', how='outer'), processed_grouped_dfs)\n",
    "\n",
    "\n",
    "\n",
    "# df_merged.index = df_merged.index.rename('Empfängerland')\n",
    "\n",
    "# years = range(2013, 2023)  # Adjust end year as necessary to include all years you have\n",
    "\n",
    "# for year in years:\n",
    "#     rename_dict.update({\n",
    "#         f'amount_{year}': f'Summe {year}',\n",
    "#         f'clim_rel_amount_{year}': f'Klimarelevante Summe {year}',\n",
    "#         f'clim_rel_percent_{year}': f'Klimarelevanter Prozentsatz {year}'\n",
    "#     })\n",
    "\n",
    "# df_merged.rename(columns=rename_dict, inplace=True)\n",
    "\n",
    "df_merged.to_csv(\"../upload_data/all_country_df.csv\")\n"
   ]
  },
  {
   "cell_type": "markdown",
   "id": "dc6f03ba",
   "metadata": {},
   "source": [
    "# All country df to download"
   ]
  },
  {
   "cell_type": "code",
   "execution_count": 159,
   "id": "ce48e4c0",
   "metadata": {},
   "outputs": [],
   "source": [
    "# Basic Processing of Data\n",
    "\n",
    "def determine_value(row):\n",
    "    if 2.0 in row[['Climate Adaptation', 'Climate Mitigation']].values:\n",
    "        return 1\n",
    "    elif 1.0 in row[['Climate Adaptation', 'Climate Mitigation']].values:\n",
    "        return 0.5\n",
    "    else:\n",
    "        return 0\n",
    "\n",
    "# final_dict = dictionary_df.copy()    \n",
    "processed_grouped_dfs = []\n",
    "\n",
    "    \n",
    "for year, df in dictionary_df.items():\n",
    "    \n",
    "    # Data Cleaning\n",
    "    use_df = df[['Recipient Name', 'Amount', 'Climate Mitigation', 'Climate Adaptation']]\n",
    "    use_df['Climate Adaptation'] = use_df['Climate Adaptation'].fillna(0)\n",
    "    use_df['Climate Mitigation'] = use_df['Climate Mitigation'].fillna(0)\n",
    "    \n",
    "    # Applying analysis Rules\n",
    "    \n",
    "    use_df['clim_rel'] = use_df.apply(determine_value, axis=1)\n",
    "    \n",
    "    use_df['clim_rel_amount'] = use_df['Amount'] * use_df['clim_rel']\n",
    "    \n",
    "    # Grouping by Country and calculating\n",
    "    \n",
    "    grouped_df = use_df.groupby(['Recipient Name']).sum()[['Amount', 'clim_rel_amount']]\n",
    "    \n",
    "    grouped_df['clim_rel_percent'] = grouped_df['clim_rel_amount'] / grouped_df['Amount']\n",
    "    \n",
    "    grouped_df = grouped_df.rename(columns= {\n",
    "        'Amount': f\"amount_{year}\",\n",
    "        'clim_rel_amount': f\"clim_rel_amount_{year}\",\n",
    "        'clim_rel_percent': f\"clim_rel_percent_{year}\"\n",
    "    })\n",
    "    \n",
    "    # Merging DF\n",
    "    \n",
    "    processed_grouped_dfs.append(grouped_df)\n",
    "    \n",
    "df_merged = reduce(lambda left, right: pd.merge(left, right, on='Recipient Name', how='outer'), processed_grouped_dfs)\n",
    "\n",
    "\n",
    "\n",
    "df_merged.index = df_merged.index.rename('Empfängerland')\n",
    "\n",
    "years = range(2013, 2023)  # Adjust end year as necessary to include all years you have\n",
    "\n",
    "for year in years:\n",
    "    rename_dict.update({\n",
    "        f'amount_{year}': f'Summe {year}',\n",
    "        f'clim_rel_amount_{year}': f'Klimarelevante Summe {year}',\n",
    "        f'clim_rel_percent_{year}': f'Klimarelevanter Prozentsatz {year}'\n",
    "    })\n",
    "\n",
    "df_merged.rename(columns=rename_dict, inplace=True)\n",
    "\n",
    "df_merged.to_csv(\"../upload_data/all_country_df_download.csv\")\n"
   ]
  },
  {
   "cell_type": "code",
   "execution_count": 160,
   "id": "f82ce78e",
   "metadata": {},
   "outputs": [
    {
     "data": {
      "text/html": [
       "<div>\n",
       "<style scoped>\n",
       "    .dataframe tbody tr th:only-of-type {\n",
       "        vertical-align: middle;\n",
       "    }\n",
       "\n",
       "    .dataframe tbody tr th {\n",
       "        vertical-align: top;\n",
       "    }\n",
       "\n",
       "    .dataframe thead th {\n",
       "        text-align: right;\n",
       "    }\n",
       "</style>\n",
       "<table border=\"1\" class=\"dataframe\">\n",
       "  <thead>\n",
       "    <tr style=\"text-align: right;\">\n",
       "      <th></th>\n",
       "      <th>Summe 2013</th>\n",
       "      <th>Klimarelevante Summe 2013</th>\n",
       "      <th>Klimarelevanter Prozentsatz 2013</th>\n",
       "      <th>Summe 2014</th>\n",
       "      <th>Klimarelevante Summe 2014</th>\n",
       "      <th>Klimarelevanter Prozentsatz 2014</th>\n",
       "      <th>Summe 2015</th>\n",
       "      <th>Klimarelevante Summe 2015</th>\n",
       "      <th>Klimarelevanter Prozentsatz 2015</th>\n",
       "      <th>Summe 2016</th>\n",
       "      <th>...</th>\n",
       "      <th>Klimarelevanter Prozentsatz 2019</th>\n",
       "      <th>Summe 2020</th>\n",
       "      <th>Klimarelevante Summe 2020</th>\n",
       "      <th>Klimarelevanter Prozentsatz 2020</th>\n",
       "      <th>Summe 2021</th>\n",
       "      <th>Klimarelevante Summe 2021</th>\n",
       "      <th>Klimarelevanter Prozentsatz 2021</th>\n",
       "      <th>Summe 2022</th>\n",
       "      <th>Klimarelevante Summe 2022</th>\n",
       "      <th>Klimarelevanter Prozentsatz 2022</th>\n",
       "    </tr>\n",
       "    <tr>\n",
       "      <th>Empfängerland</th>\n",
       "      <th></th>\n",
       "      <th></th>\n",
       "      <th></th>\n",
       "      <th></th>\n",
       "      <th></th>\n",
       "      <th></th>\n",
       "      <th></th>\n",
       "      <th></th>\n",
       "      <th></th>\n",
       "      <th></th>\n",
       "      <th></th>\n",
       "      <th></th>\n",
       "      <th></th>\n",
       "      <th></th>\n",
       "      <th></th>\n",
       "      <th></th>\n",
       "      <th></th>\n",
       "      <th></th>\n",
       "      <th></th>\n",
       "      <th></th>\n",
       "      <th></th>\n",
       "    </tr>\n",
       "  </thead>\n",
       "  <tbody>\n",
       "    <tr>\n",
       "      <th>Afghanistan</th>\n",
       "      <td>229.878097</td>\n",
       "      <td>18.110155</td>\n",
       "      <td>0.078782</td>\n",
       "      <td>286.807860</td>\n",
       "      <td>30.496058</td>\n",
       "      <td>0.106329</td>\n",
       "      <td>197.429500</td>\n",
       "      <td>30.311894</td>\n",
       "      <td>0.153533</td>\n",
       "      <td>346.234112</td>\n",
       "      <td>...</td>\n",
       "      <td>0.165281</td>\n",
       "      <td>196.114075</td>\n",
       "      <td>33.459576</td>\n",
       "      <td>0.170613</td>\n",
       "      <td>352.840862</td>\n",
       "      <td>47.657621</td>\n",
       "      <td>0.135068</td>\n",
       "      <td>201.939382</td>\n",
       "      <td>12.035070</td>\n",
       "      <td>0.059597</td>\n",
       "    </tr>\n",
       "    <tr>\n",
       "      <th>Africa, regional</th>\n",
       "      <td>132.706037</td>\n",
       "      <td>34.237272</td>\n",
       "      <td>0.257993</td>\n",
       "      <td>129.848523</td>\n",
       "      <td>15.707783</td>\n",
       "      <td>0.120970</td>\n",
       "      <td>182.614727</td>\n",
       "      <td>75.974172</td>\n",
       "      <td>0.416035</td>\n",
       "      <td>129.000894</td>\n",
       "      <td>...</td>\n",
       "      <td>0.234096</td>\n",
       "      <td>686.808006</td>\n",
       "      <td>161.181838</td>\n",
       "      <td>0.234683</td>\n",
       "      <td>643.229422</td>\n",
       "      <td>131.993625</td>\n",
       "      <td>0.205205</td>\n",
       "      <td>627.644704</td>\n",
       "      <td>138.891343</td>\n",
       "      <td>0.221290</td>\n",
       "    </tr>\n",
       "    <tr>\n",
       "      <th>Albania</th>\n",
       "      <td>19.317268</td>\n",
       "      <td>5.281618</td>\n",
       "      <td>0.273414</td>\n",
       "      <td>16.371641</td>\n",
       "      <td>4.651060</td>\n",
       "      <td>0.284092</td>\n",
       "      <td>19.155382</td>\n",
       "      <td>6.362595</td>\n",
       "      <td>0.332157</td>\n",
       "      <td>18.968980</td>\n",
       "      <td>...</td>\n",
       "      <td>0.271722</td>\n",
       "      <td>30.080577</td>\n",
       "      <td>5.804841</td>\n",
       "      <td>0.192976</td>\n",
       "      <td>29.366152</td>\n",
       "      <td>7.881105</td>\n",
       "      <td>0.268374</td>\n",
       "      <td>25.328362</td>\n",
       "      <td>8.592429</td>\n",
       "      <td>0.339241</td>\n",
       "    </tr>\n",
       "    <tr>\n",
       "      <th>Algeria</th>\n",
       "      <td>6.080655</td>\n",
       "      <td>1.175290</td>\n",
       "      <td>0.193283</td>\n",
       "      <td>5.218615</td>\n",
       "      <td>2.543035</td>\n",
       "      <td>0.487301</td>\n",
       "      <td>6.014444</td>\n",
       "      <td>3.463474</td>\n",
       "      <td>0.575859</td>\n",
       "      <td>4.684949</td>\n",
       "      <td>...</td>\n",
       "      <td>0.455295</td>\n",
       "      <td>11.714897</td>\n",
       "      <td>4.716805</td>\n",
       "      <td>0.402633</td>\n",
       "      <td>25.777176</td>\n",
       "      <td>6.526832</td>\n",
       "      <td>0.253202</td>\n",
       "      <td>16.273651</td>\n",
       "      <td>7.171532</td>\n",
       "      <td>0.440684</td>\n",
       "    </tr>\n",
       "    <tr>\n",
       "      <th>America, regional</th>\n",
       "      <td>61.039902</td>\n",
       "      <td>12.957501</td>\n",
       "      <td>0.212279</td>\n",
       "      <td>73.783053</td>\n",
       "      <td>20.492112</td>\n",
       "      <td>0.277735</td>\n",
       "      <td>48.050705</td>\n",
       "      <td>5.792946</td>\n",
       "      <td>0.120559</td>\n",
       "      <td>77.236341</td>\n",
       "      <td>...</td>\n",
       "      <td>0.391508</td>\n",
       "      <td>146.314609</td>\n",
       "      <td>54.032500</td>\n",
       "      <td>0.369290</td>\n",
       "      <td>82.869791</td>\n",
       "      <td>29.554400</td>\n",
       "      <td>0.356637</td>\n",
       "      <td>107.665968</td>\n",
       "      <td>50.903984</td>\n",
       "      <td>0.472795</td>\n",
       "    </tr>\n",
       "    <tr>\n",
       "      <th>...</th>\n",
       "      <td>...</td>\n",
       "      <td>...</td>\n",
       "      <td>...</td>\n",
       "      <td>...</td>\n",
       "      <td>...</td>\n",
       "      <td>...</td>\n",
       "      <td>...</td>\n",
       "      <td>...</td>\n",
       "      <td>...</td>\n",
       "      <td>...</td>\n",
       "      <td>...</td>\n",
       "      <td>...</td>\n",
       "      <td>...</td>\n",
       "      <td>...</td>\n",
       "      <td>...</td>\n",
       "      <td>...</td>\n",
       "      <td>...</td>\n",
       "      <td>...</td>\n",
       "      <td>...</td>\n",
       "      <td>...</td>\n",
       "      <td>...</td>\n",
       "    </tr>\n",
       "    <tr>\n",
       "      <th>Central America, regional</th>\n",
       "      <td>NaN</td>\n",
       "      <td>NaN</td>\n",
       "      <td>NaN</td>\n",
       "      <td>NaN</td>\n",
       "      <td>NaN</td>\n",
       "      <td>NaN</td>\n",
       "      <td>NaN</td>\n",
       "      <td>NaN</td>\n",
       "      <td>NaN</td>\n",
       "      <td>NaN</td>\n",
       "      <td>...</td>\n",
       "      <td>0.723529</td>\n",
       "      <td>6.512341</td>\n",
       "      <td>3.309877</td>\n",
       "      <td>0.508247</td>\n",
       "      <td>7.760249</td>\n",
       "      <td>3.882104</td>\n",
       "      <td>0.500255</td>\n",
       "      <td>9.319793</td>\n",
       "      <td>4.376188</td>\n",
       "      <td>0.469558</td>\n",
       "    </tr>\n",
       "    <tr>\n",
       "      <th>Eastern Africa, regional</th>\n",
       "      <td>NaN</td>\n",
       "      <td>NaN</td>\n",
       "      <td>NaN</td>\n",
       "      <td>NaN</td>\n",
       "      <td>NaN</td>\n",
       "      <td>NaN</td>\n",
       "      <td>NaN</td>\n",
       "      <td>NaN</td>\n",
       "      <td>NaN</td>\n",
       "      <td>NaN</td>\n",
       "      <td>...</td>\n",
       "      <td>0.165010</td>\n",
       "      <td>27.979557</td>\n",
       "      <td>6.321787</td>\n",
       "      <td>0.225943</td>\n",
       "      <td>31.071347</td>\n",
       "      <td>2.476874</td>\n",
       "      <td>0.079716</td>\n",
       "      <td>31.393523</td>\n",
       "      <td>3.239855</td>\n",
       "      <td>0.103201</td>\n",
       "    </tr>\n",
       "    <tr>\n",
       "      <th>Middle Africa, regional</th>\n",
       "      <td>NaN</td>\n",
       "      <td>NaN</td>\n",
       "      <td>NaN</td>\n",
       "      <td>NaN</td>\n",
       "      <td>NaN</td>\n",
       "      <td>NaN</td>\n",
       "      <td>NaN</td>\n",
       "      <td>NaN</td>\n",
       "      <td>NaN</td>\n",
       "      <td>NaN</td>\n",
       "      <td>...</td>\n",
       "      <td>0.470844</td>\n",
       "      <td>5.156201</td>\n",
       "      <td>1.411457</td>\n",
       "      <td>0.273740</td>\n",
       "      <td>7.093164</td>\n",
       "      <td>1.752717</td>\n",
       "      <td>0.247099</td>\n",
       "      <td>7.352916</td>\n",
       "      <td>1.580488</td>\n",
       "      <td>0.214947</td>\n",
       "    </tr>\n",
       "    <tr>\n",
       "      <th>Western Africa, regional</th>\n",
       "      <td>NaN</td>\n",
       "      <td>NaN</td>\n",
       "      <td>NaN</td>\n",
       "      <td>NaN</td>\n",
       "      <td>NaN</td>\n",
       "      <td>NaN</td>\n",
       "      <td>NaN</td>\n",
       "      <td>NaN</td>\n",
       "      <td>NaN</td>\n",
       "      <td>NaN</td>\n",
       "      <td>...</td>\n",
       "      <td>0.296202</td>\n",
       "      <td>34.419681</td>\n",
       "      <td>8.031757</td>\n",
       "      <td>0.233348</td>\n",
       "      <td>29.927608</td>\n",
       "      <td>7.356770</td>\n",
       "      <td>0.245819</td>\n",
       "      <td>37.365181</td>\n",
       "      <td>12.119308</td>\n",
       "      <td>0.324348</td>\n",
       "    </tr>\n",
       "    <tr>\n",
       "      <th>South &amp; Central Asia, regional</th>\n",
       "      <td>NaN</td>\n",
       "      <td>NaN</td>\n",
       "      <td>NaN</td>\n",
       "      <td>NaN</td>\n",
       "      <td>NaN</td>\n",
       "      <td>NaN</td>\n",
       "      <td>NaN</td>\n",
       "      <td>NaN</td>\n",
       "      <td>NaN</td>\n",
       "      <td>NaN</td>\n",
       "      <td>...</td>\n",
       "      <td>NaN</td>\n",
       "      <td>NaN</td>\n",
       "      <td>NaN</td>\n",
       "      <td>NaN</td>\n",
       "      <td>2.119008</td>\n",
       "      <td>0.000000</td>\n",
       "      <td>0.000000</td>\n",
       "      <td>15.884541</td>\n",
       "      <td>2.750760</td>\n",
       "      <td>0.173172</td>\n",
       "    </tr>\n",
       "  </tbody>\n",
       "</table>\n",
       "<p>142 rows × 30 columns</p>\n",
       "</div>"
      ],
      "text/plain": [
       "                                Summe 2013  Klimarelevante Summe 2013  \\\n",
       "Empfängerland                                                           \n",
       "Afghanistan                     229.878097                  18.110155   \n",
       "Africa, regional                132.706037                  34.237272   \n",
       "Albania                          19.317268                   5.281618   \n",
       "Algeria                           6.080655                   1.175290   \n",
       "America, regional                61.039902                  12.957501   \n",
       "...                                    ...                        ...   \n",
       "Central America, regional              NaN                        NaN   \n",
       "Eastern Africa, regional               NaN                        NaN   \n",
       "Middle Africa, regional                NaN                        NaN   \n",
       "Western Africa, regional               NaN                        NaN   \n",
       "South & Central Asia, regional         NaN                        NaN   \n",
       "\n",
       "                                Klimarelevanter Prozentsatz 2013  Summe 2014  \\\n",
       "Empfängerland                                                                  \n",
       "Afghanistan                                             0.078782  286.807860   \n",
       "Africa, regional                                        0.257993  129.848523   \n",
       "Albania                                                 0.273414   16.371641   \n",
       "Algeria                                                 0.193283    5.218615   \n",
       "America, regional                                       0.212279   73.783053   \n",
       "...                                                          ...         ...   \n",
       "Central America, regional                                    NaN         NaN   \n",
       "Eastern Africa, regional                                     NaN         NaN   \n",
       "Middle Africa, regional                                      NaN         NaN   \n",
       "Western Africa, regional                                     NaN         NaN   \n",
       "South & Central Asia, regional                               NaN         NaN   \n",
       "\n",
       "                                Klimarelevante Summe 2014  \\\n",
       "Empfängerland                                               \n",
       "Afghanistan                                     30.496058   \n",
       "Africa, regional                                15.707783   \n",
       "Albania                                          4.651060   \n",
       "Algeria                                          2.543035   \n",
       "America, regional                               20.492112   \n",
       "...                                                   ...   \n",
       "Central America, regional                             NaN   \n",
       "Eastern Africa, regional                              NaN   \n",
       "Middle Africa, regional                               NaN   \n",
       "Western Africa, regional                              NaN   \n",
       "South & Central Asia, regional                        NaN   \n",
       "\n",
       "                                Klimarelevanter Prozentsatz 2014  Summe 2015  \\\n",
       "Empfängerland                                                                  \n",
       "Afghanistan                                             0.106329  197.429500   \n",
       "Africa, regional                                        0.120970  182.614727   \n",
       "Albania                                                 0.284092   19.155382   \n",
       "Algeria                                                 0.487301    6.014444   \n",
       "America, regional                                       0.277735   48.050705   \n",
       "...                                                          ...         ...   \n",
       "Central America, regional                                    NaN         NaN   \n",
       "Eastern Africa, regional                                     NaN         NaN   \n",
       "Middle Africa, regional                                      NaN         NaN   \n",
       "Western Africa, regional                                     NaN         NaN   \n",
       "South & Central Asia, regional                               NaN         NaN   \n",
       "\n",
       "                                Klimarelevante Summe 2015  \\\n",
       "Empfängerland                                               \n",
       "Afghanistan                                     30.311894   \n",
       "Africa, regional                                75.974172   \n",
       "Albania                                          6.362595   \n",
       "Algeria                                          3.463474   \n",
       "America, regional                                5.792946   \n",
       "...                                                   ...   \n",
       "Central America, regional                             NaN   \n",
       "Eastern Africa, regional                              NaN   \n",
       "Middle Africa, regional                               NaN   \n",
       "Western Africa, regional                              NaN   \n",
       "South & Central Asia, regional                        NaN   \n",
       "\n",
       "                                Klimarelevanter Prozentsatz 2015  Summe 2016  \\\n",
       "Empfängerland                                                                  \n",
       "Afghanistan                                             0.153533  346.234112   \n",
       "Africa, regional                                        0.416035  129.000894   \n",
       "Albania                                                 0.332157   18.968980   \n",
       "Algeria                                                 0.575859    4.684949   \n",
       "America, regional                                       0.120559   77.236341   \n",
       "...                                                          ...         ...   \n",
       "Central America, regional                                    NaN         NaN   \n",
       "Eastern Africa, regional                                     NaN         NaN   \n",
       "Middle Africa, regional                                      NaN         NaN   \n",
       "Western Africa, regional                                     NaN         NaN   \n",
       "South & Central Asia, regional                               NaN         NaN   \n",
       "\n",
       "                                ...  Klimarelevanter Prozentsatz 2019  \\\n",
       "Empfängerland                   ...                                     \n",
       "Afghanistan                     ...                          0.165281   \n",
       "Africa, regional                ...                          0.234096   \n",
       "Albania                         ...                          0.271722   \n",
       "Algeria                         ...                          0.455295   \n",
       "America, regional               ...                          0.391508   \n",
       "...                             ...                               ...   \n",
       "Central America, regional       ...                          0.723529   \n",
       "Eastern Africa, regional        ...                          0.165010   \n",
       "Middle Africa, regional         ...                          0.470844   \n",
       "Western Africa, regional        ...                          0.296202   \n",
       "South & Central Asia, regional  ...                               NaN   \n",
       "\n",
       "                                Summe 2020  Klimarelevante Summe 2020  \\\n",
       "Empfängerland                                                           \n",
       "Afghanistan                     196.114075                  33.459576   \n",
       "Africa, regional                686.808006                 161.181838   \n",
       "Albania                          30.080577                   5.804841   \n",
       "Algeria                          11.714897                   4.716805   \n",
       "America, regional               146.314609                  54.032500   \n",
       "...                                    ...                        ...   \n",
       "Central America, regional         6.512341                   3.309877   \n",
       "Eastern Africa, regional         27.979557                   6.321787   \n",
       "Middle Africa, regional           5.156201                   1.411457   \n",
       "Western Africa, regional         34.419681                   8.031757   \n",
       "South & Central Asia, regional         NaN                        NaN   \n",
       "\n",
       "                                Klimarelevanter Prozentsatz 2020  Summe 2021  \\\n",
       "Empfängerland                                                                  \n",
       "Afghanistan                                             0.170613  352.840862   \n",
       "Africa, regional                                        0.234683  643.229422   \n",
       "Albania                                                 0.192976   29.366152   \n",
       "Algeria                                                 0.402633   25.777176   \n",
       "America, regional                                       0.369290   82.869791   \n",
       "...                                                          ...         ...   \n",
       "Central America, regional                               0.508247    7.760249   \n",
       "Eastern Africa, regional                                0.225943   31.071347   \n",
       "Middle Africa, regional                                 0.273740    7.093164   \n",
       "Western Africa, regional                                0.233348   29.927608   \n",
       "South & Central Asia, regional                               NaN    2.119008   \n",
       "\n",
       "                                Klimarelevante Summe 2021  \\\n",
       "Empfängerland                                               \n",
       "Afghanistan                                     47.657621   \n",
       "Africa, regional                               131.993625   \n",
       "Albania                                          7.881105   \n",
       "Algeria                                          6.526832   \n",
       "America, regional                               29.554400   \n",
       "...                                                   ...   \n",
       "Central America, regional                        3.882104   \n",
       "Eastern Africa, regional                         2.476874   \n",
       "Middle Africa, regional                          1.752717   \n",
       "Western Africa, regional                         7.356770   \n",
       "South & Central Asia, regional                   0.000000   \n",
       "\n",
       "                                Klimarelevanter Prozentsatz 2021  Summe 2022  \\\n",
       "Empfängerland                                                                  \n",
       "Afghanistan                                             0.135068  201.939382   \n",
       "Africa, regional                                        0.205205  627.644704   \n",
       "Albania                                                 0.268374   25.328362   \n",
       "Algeria                                                 0.253202   16.273651   \n",
       "America, regional                                       0.356637  107.665968   \n",
       "...                                                          ...         ...   \n",
       "Central America, regional                               0.500255    9.319793   \n",
       "Eastern Africa, regional                                0.079716   31.393523   \n",
       "Middle Africa, regional                                 0.247099    7.352916   \n",
       "Western Africa, regional                                0.245819   37.365181   \n",
       "South & Central Asia, regional                          0.000000   15.884541   \n",
       "\n",
       "                                Klimarelevante Summe 2022  \\\n",
       "Empfängerland                                               \n",
       "Afghanistan                                     12.035070   \n",
       "Africa, regional                               138.891343   \n",
       "Albania                                          8.592429   \n",
       "Algeria                                          7.171532   \n",
       "America, regional                               50.903984   \n",
       "...                                                   ...   \n",
       "Central America, regional                        4.376188   \n",
       "Eastern Africa, regional                         3.239855   \n",
       "Middle Africa, regional                          1.580488   \n",
       "Western Africa, regional                        12.119308   \n",
       "South & Central Asia, regional                   2.750760   \n",
       "\n",
       "                                Klimarelevanter Prozentsatz 2022  \n",
       "Empfängerland                                                     \n",
       "Afghanistan                                             0.059597  \n",
       "Africa, regional                                        0.221290  \n",
       "Albania                                                 0.339241  \n",
       "Algeria                                                 0.440684  \n",
       "America, regional                                       0.472795  \n",
       "...                                                          ...  \n",
       "Central America, regional                               0.469558  \n",
       "Eastern Africa, regional                                0.103201  \n",
       "Middle Africa, regional                                 0.214947  \n",
       "Western Africa, regional                                0.324348  \n",
       "South & Central Asia, regional                          0.173172  \n",
       "\n",
       "[142 rows x 30 columns]"
      ]
     },
     "execution_count": 160,
     "metadata": {},
     "output_type": "execute_result"
    }
   ],
   "source": [
    "df_merged"
   ]
  },
  {
   "cell_type": "markdown",
   "id": "9438fc4f",
   "metadata": {},
   "source": [
    "# All country Split"
   ]
  },
  {
   "cell_type": "code",
   "execution_count": 123,
   "id": "5eb43079",
   "metadata": {},
   "outputs": [],
   "source": [
    "# Basic Processing of Data\n",
    "\n",
    "def determine_value(row):\n",
    "    if 2.0 in row[['Climate Adaptation', 'Climate Mitigation']].values:\n",
    "        return 1\n",
    "    elif row['Climate Adaptation'] == 1.0 and row['Climate Mitigation'] == 1.0:\n",
    "        return 1\n",
    "    elif 1.0 in row[['Climate Adaptation', 'Climate Mitigation']].values:\n",
    "        return 0.5\n",
    "    else:\n",
    "        return 0\n",
    "\n",
    "# final_dict = dictionary_df.copy()    \n",
    "processed_grouped_dfs = []\n",
    "\n",
    "    \n",
    "for year, df in dictionary_df.items():\n",
    "    \n",
    "    # Data Cleaning\n",
    "    use_df = df[['Recipient Name', 'Amount', 'Climate Mitigation', 'Climate Adaptation']]\n",
    "    use_df['Climate Adaptation'] = use_df['Climate Adaptation'].fillna(0)\n",
    "    use_df['Climate Mitigation'] = use_df['Climate Mitigation'].fillna(0)\n",
    "    \n",
    "    # Applying analysis Rules\n",
    "    \n",
    "    use_df['clim_rel'] = use_df.apply(determine_value, axis=1)\n",
    "    \n",
    "    use_df['clim_rel_amount'] = use_df['Amount'] * use_df['clim_rel']\n",
    "    use_df['clim_adapt_amount'] = use_df['Amount'] * (use_df['Climate Adaptation'] / 2)\n",
    "    use_df['clim_miti_amount'] = use_df['Amount'] * (use_df['Climate Mitigation'] / 2)\n",
    "    \n",
    "    # Grouping by Country and calculating\n",
    "    \n",
    "    grouped_df = use_df.groupby(['Recipient Name']).sum()[['Amount', 'clim_rel_amount', 'clim_adapt_amount', 'clim_miti_amount']]\n",
    "    \n",
    "    grouped_df['clim_rel_percent'] = grouped_df['clim_rel_amount'] / grouped_df['Amount']\n",
    "    \n",
    "    grouped_df = grouped_df.rename(columns= {\n",
    "        'Amount': f\"amount_{year}\",\n",
    "        'clim_rel_amount': f\"clim_rel_amount_{year}\",\n",
    "        'clim_rel_percent': f\"clim_rel_percent_{year}\",\n",
    "        'clim_adapt_amount': f\"clim_adapt_amount_{year}\",\n",
    "        'clim_miti_amount': f\"clim_miti_amount_{year}\"\n",
    "    })\n",
    "    \n",
    "    # Merging DF\n",
    "    \n",
    "    processed_grouped_dfs.append(grouped_df)\n",
    "    \n",
    "df_merged = reduce(lambda left, right: pd.merge(left, right, on='Recipient Name', how='outer'), processed_grouped_dfs)\n",
    "\n"
   ]
  },
  {
   "cell_type": "code",
   "execution_count": 137,
   "id": "c26489b0",
   "metadata": {},
   "outputs": [],
   "source": [
    "selected_columns = [col for col in df_merged.columns if col.startswith('amount_') or col.startswith('clim_rel_amount_')\\\n",
    "                   or col.startswith('clim_adapt_') or col.startswith('clim_miti_')]\n",
    "filtered_df = df_merged[selected_columns]\n",
    "\n",
    "# sums = filtered_df.sum()\n",
    "# globe_df = filtered_df.append(sums, ignore_index=True)\n",
    "# globe_df = globe_df.loc[[142]]\n",
    "\n",
    "\n",
    "years = range(2013, 2023)\n",
    "\n",
    "for year in years:\n",
    "    amount_col = f'amount_{year}'\n",
    "    clim_adapt_col = f'clim_adapt_amount_{year}'\n",
    "    clim_miti_col = f'clim_miti_amount_{year}'\n",
    "    non_clim_col = f'non_clim_amount_{year}'\n",
    "    filtered_df[non_clim_col] = filtered_df[amount_col] - (filtered_df[clim_adapt_col] + filtered_df[clim_miti_col])\n",
    "\n",
    "\n",
    "# Step 2: Melt the dataframe for plotting\n",
    "# Including both climatic and non-climatic amounts\n",
    "filtered_df = filtered_df.reset_index()\n",
    "\n",
    "melted_df = filtered_df.melt(id_vars=['Recipient Name'],value_vars=[f'clim_adapt_amount_{year}' for year in years] +\n",
    "                          [f'clim_miti_amount_{year}' for year in years] +\n",
    "                             [f'non_clim_amount_{year}' for year in years],\n",
    "                             var_name='Type_Year', value_name='Amount')\n",
    "\n",
    "\n",
    "# Split 'Type_Year' into separate 'Year' and 'Type' columns\n",
    "melted_df['Year'] = melted_df['Type_Year'].apply(lambda x: x.split('_')[-1])\n",
    "melted_df['Finanzierungstyp'] = melted_df['Type_Year'].apply(\n",
    "    lambda x: 'Klimaanpassung Finanzierung' if 'clim_adapt_amount' in x \n",
    "    else ('Klimaschutz Finanzierung' if 'clim_miti_amount' in x \n",
    "    else 'Andere ODA')\n",
    ")\n",
    "melted_df['Amount'] = melted_df['Amount'] * 1_000_000\n",
    "\n",
    "\n"
   ]
  },
  {
   "cell_type": "code",
   "execution_count": 139,
   "id": "1cc83760",
   "metadata": {},
   "outputs": [],
   "source": [
    "melted_df.to_csv(\"../upload_data/all_country_split.csv\")\n"
   ]
  },
  {
   "cell_type": "code",
   "execution_count": 142,
   "id": "fd637852",
   "metadata": {},
   "outputs": [],
   "source": [
    "country = 'India'"
   ]
  },
  {
   "cell_type": "code",
   "execution_count": 145,
   "id": "7e2dbe63",
   "metadata": {},
   "outputs": [
    {
     "data": {
      "application/vnd.plotly.v1+json": {
       "config": {
        "plotlyServerURL": "https://plot.ly"
       },
       "data": [
        {
         "alignmentgroup": "True",
         "hovertemplate": "Finanzierungstyp=Andere ODA<br>Jahr=%{x}<br>Finanzierungssumme ($)=%{y}<extra></extra>",
         "legendgroup": "Andere ODA",
         "marker": {
          "color": "orange",
          "pattern": {
           "shape": ""
          }
         },
         "name": "Andere ODA",
         "offsetgroup": "Andere ODA",
         "orientation": "v",
         "showlegend": true,
         "textposition": "auto",
         "type": "bar",
         "x": [
          2013,
          2014,
          2015,
          2016,
          2017,
          2018,
          2019,
          2020,
          2021,
          2022
         ],
         "xaxis": "x",
         "y": [
          53966309.50000001,
          52950788.5,
          75637941,
          53244940,
          59563793.5,
          53051452,
          49186214.50000001,
          81596023,
          65237392.5,
          35184565.5
         ],
         "yaxis": "y"
        },
        {
         "alignmentgroup": "True",
         "hovertemplate": "Finanzierungstyp=Klimaschutz Finanzierung<br>Jahr=%{x}<br>Finanzierungssumme ($)=%{y}<extra></extra>",
         "legendgroup": "Klimaschutz Finanzierung",
         "marker": {
          "color": "green",
          "pattern": {
           "shape": ""
          }
         },
         "name": "Klimaschutz Finanzierung",
         "offsetgroup": "Klimaschutz Finanzierung",
         "orientation": "v",
         "showlegend": true,
         "textposition": "auto",
         "type": "bar",
         "x": [
          2013,
          2014,
          2015,
          2016,
          2017,
          2018,
          2019,
          2020,
          2021,
          2022
         ],
         "xaxis": "x",
         "y": [
          16231463.999999998,
          19878041,
          19096279.5,
          19138455.5,
          21637645,
          20892699,
          41178058.5,
          18470760.5,
          22676913,
          19844228
         ],
         "yaxis": "y"
        },
        {
         "alignmentgroup": "True",
         "hovertemplate": "Finanzierungstyp=Klimaanpassung Finanzierung<br>Jahr=%{x}<br>Finanzierungssumme ($)=%{y}<extra></extra>",
         "legendgroup": "Klimaanpassung Finanzierung",
         "marker": {
          "color": "blue",
          "pattern": {
           "shape": ""
          }
         },
         "name": "Klimaanpassung Finanzierung",
         "offsetgroup": "Klimaanpassung Finanzierung",
         "orientation": "v",
         "showlegend": true,
         "textposition": "auto",
         "type": "bar",
         "x": [
          2013,
          2014,
          2015,
          2016,
          2017,
          2018,
          2019,
          2020,
          2021,
          2022
         ],
         "xaxis": "x",
         "y": [
          17533824.499999996,
          17802901.5,
          21883086.5,
          25744537.5,
          26428273.5,
          35197630,
          26702416,
          19768732.5,
          24428401.5,
          28133845.5
         ],
         "yaxis": "y"
        }
       ],
       "layout": {
        "barmode": "relative",
        "legend": {
         "title": {
          "text": "Finanzierungstyp"
         },
         "tracegroupgap": 0
        },
        "template": {
         "data": {
          "bar": [
           {
            "error_x": {
             "color": "#2a3f5f"
            },
            "error_y": {
             "color": "#2a3f5f"
            },
            "marker": {
             "line": {
              "color": "#E5ECF6",
              "width": 0.5
             },
             "pattern": {
              "fillmode": "overlay",
              "size": 10,
              "solidity": 0.2
             }
            },
            "type": "bar"
           }
          ],
          "barpolar": [
           {
            "marker": {
             "line": {
              "color": "#E5ECF6",
              "width": 0.5
             },
             "pattern": {
              "fillmode": "overlay",
              "size": 10,
              "solidity": 0.2
             }
            },
            "type": "barpolar"
           }
          ],
          "carpet": [
           {
            "aaxis": {
             "endlinecolor": "#2a3f5f",
             "gridcolor": "white",
             "linecolor": "white",
             "minorgridcolor": "white",
             "startlinecolor": "#2a3f5f"
            },
            "baxis": {
             "endlinecolor": "#2a3f5f",
             "gridcolor": "white",
             "linecolor": "white",
             "minorgridcolor": "white",
             "startlinecolor": "#2a3f5f"
            },
            "type": "carpet"
           }
          ],
          "choropleth": [
           {
            "colorbar": {
             "outlinewidth": 0,
             "ticks": ""
            },
            "type": "choropleth"
           }
          ],
          "contour": [
           {
            "colorbar": {
             "outlinewidth": 0,
             "ticks": ""
            },
            "colorscale": [
             [
              0,
              "#0d0887"
             ],
             [
              0.1111111111111111,
              "#46039f"
             ],
             [
              0.2222222222222222,
              "#7201a8"
             ],
             [
              0.3333333333333333,
              "#9c179e"
             ],
             [
              0.4444444444444444,
              "#bd3786"
             ],
             [
              0.5555555555555556,
              "#d8576b"
             ],
             [
              0.6666666666666666,
              "#ed7953"
             ],
             [
              0.7777777777777778,
              "#fb9f3a"
             ],
             [
              0.8888888888888888,
              "#fdca26"
             ],
             [
              1,
              "#f0f921"
             ]
            ],
            "type": "contour"
           }
          ],
          "contourcarpet": [
           {
            "colorbar": {
             "outlinewidth": 0,
             "ticks": ""
            },
            "type": "contourcarpet"
           }
          ],
          "heatmap": [
           {
            "colorbar": {
             "outlinewidth": 0,
             "ticks": ""
            },
            "colorscale": [
             [
              0,
              "#0d0887"
             ],
             [
              0.1111111111111111,
              "#46039f"
             ],
             [
              0.2222222222222222,
              "#7201a8"
             ],
             [
              0.3333333333333333,
              "#9c179e"
             ],
             [
              0.4444444444444444,
              "#bd3786"
             ],
             [
              0.5555555555555556,
              "#d8576b"
             ],
             [
              0.6666666666666666,
              "#ed7953"
             ],
             [
              0.7777777777777778,
              "#fb9f3a"
             ],
             [
              0.8888888888888888,
              "#fdca26"
             ],
             [
              1,
              "#f0f921"
             ]
            ],
            "type": "heatmap"
           }
          ],
          "heatmapgl": [
           {
            "colorbar": {
             "outlinewidth": 0,
             "ticks": ""
            },
            "colorscale": [
             [
              0,
              "#0d0887"
             ],
             [
              0.1111111111111111,
              "#46039f"
             ],
             [
              0.2222222222222222,
              "#7201a8"
             ],
             [
              0.3333333333333333,
              "#9c179e"
             ],
             [
              0.4444444444444444,
              "#bd3786"
             ],
             [
              0.5555555555555556,
              "#d8576b"
             ],
             [
              0.6666666666666666,
              "#ed7953"
             ],
             [
              0.7777777777777778,
              "#fb9f3a"
             ],
             [
              0.8888888888888888,
              "#fdca26"
             ],
             [
              1,
              "#f0f921"
             ]
            ],
            "type": "heatmapgl"
           }
          ],
          "histogram": [
           {
            "marker": {
             "pattern": {
              "fillmode": "overlay",
              "size": 10,
              "solidity": 0.2
             }
            },
            "type": "histogram"
           }
          ],
          "histogram2d": [
           {
            "colorbar": {
             "outlinewidth": 0,
             "ticks": ""
            },
            "colorscale": [
             [
              0,
              "#0d0887"
             ],
             [
              0.1111111111111111,
              "#46039f"
             ],
             [
              0.2222222222222222,
              "#7201a8"
             ],
             [
              0.3333333333333333,
              "#9c179e"
             ],
             [
              0.4444444444444444,
              "#bd3786"
             ],
             [
              0.5555555555555556,
              "#d8576b"
             ],
             [
              0.6666666666666666,
              "#ed7953"
             ],
             [
              0.7777777777777778,
              "#fb9f3a"
             ],
             [
              0.8888888888888888,
              "#fdca26"
             ],
             [
              1,
              "#f0f921"
             ]
            ],
            "type": "histogram2d"
           }
          ],
          "histogram2dcontour": [
           {
            "colorbar": {
             "outlinewidth": 0,
             "ticks": ""
            },
            "colorscale": [
             [
              0,
              "#0d0887"
             ],
             [
              0.1111111111111111,
              "#46039f"
             ],
             [
              0.2222222222222222,
              "#7201a8"
             ],
             [
              0.3333333333333333,
              "#9c179e"
             ],
             [
              0.4444444444444444,
              "#bd3786"
             ],
             [
              0.5555555555555556,
              "#d8576b"
             ],
             [
              0.6666666666666666,
              "#ed7953"
             ],
             [
              0.7777777777777778,
              "#fb9f3a"
             ],
             [
              0.8888888888888888,
              "#fdca26"
             ],
             [
              1,
              "#f0f921"
             ]
            ],
            "type": "histogram2dcontour"
           }
          ],
          "mesh3d": [
           {
            "colorbar": {
             "outlinewidth": 0,
             "ticks": ""
            },
            "type": "mesh3d"
           }
          ],
          "parcoords": [
           {
            "line": {
             "colorbar": {
              "outlinewidth": 0,
              "ticks": ""
             }
            },
            "type": "parcoords"
           }
          ],
          "pie": [
           {
            "automargin": true,
            "type": "pie"
           }
          ],
          "scatter": [
           {
            "fillpattern": {
             "fillmode": "overlay",
             "size": 10,
             "solidity": 0.2
            },
            "type": "scatter"
           }
          ],
          "scatter3d": [
           {
            "line": {
             "colorbar": {
              "outlinewidth": 0,
              "ticks": ""
             }
            },
            "marker": {
             "colorbar": {
              "outlinewidth": 0,
              "ticks": ""
             }
            },
            "type": "scatter3d"
           }
          ],
          "scattercarpet": [
           {
            "marker": {
             "colorbar": {
              "outlinewidth": 0,
              "ticks": ""
             }
            },
            "type": "scattercarpet"
           }
          ],
          "scattergeo": [
           {
            "marker": {
             "colorbar": {
              "outlinewidth": 0,
              "ticks": ""
             }
            },
            "type": "scattergeo"
           }
          ],
          "scattergl": [
           {
            "marker": {
             "colorbar": {
              "outlinewidth": 0,
              "ticks": ""
             }
            },
            "type": "scattergl"
           }
          ],
          "scattermapbox": [
           {
            "marker": {
             "colorbar": {
              "outlinewidth": 0,
              "ticks": ""
             }
            },
            "type": "scattermapbox"
           }
          ],
          "scatterpolar": [
           {
            "marker": {
             "colorbar": {
              "outlinewidth": 0,
              "ticks": ""
             }
            },
            "type": "scatterpolar"
           }
          ],
          "scatterpolargl": [
           {
            "marker": {
             "colorbar": {
              "outlinewidth": 0,
              "ticks": ""
             }
            },
            "type": "scatterpolargl"
           }
          ],
          "scatterternary": [
           {
            "marker": {
             "colorbar": {
              "outlinewidth": 0,
              "ticks": ""
             }
            },
            "type": "scatterternary"
           }
          ],
          "surface": [
           {
            "colorbar": {
             "outlinewidth": 0,
             "ticks": ""
            },
            "colorscale": [
             [
              0,
              "#0d0887"
             ],
             [
              0.1111111111111111,
              "#46039f"
             ],
             [
              0.2222222222222222,
              "#7201a8"
             ],
             [
              0.3333333333333333,
              "#9c179e"
             ],
             [
              0.4444444444444444,
              "#bd3786"
             ],
             [
              0.5555555555555556,
              "#d8576b"
             ],
             [
              0.6666666666666666,
              "#ed7953"
             ],
             [
              0.7777777777777778,
              "#fb9f3a"
             ],
             [
              0.8888888888888888,
              "#fdca26"
             ],
             [
              1,
              "#f0f921"
             ]
            ],
            "type": "surface"
           }
          ],
          "table": [
           {
            "cells": {
             "fill": {
              "color": "#EBF0F8"
             },
             "line": {
              "color": "white"
             }
            },
            "header": {
             "fill": {
              "color": "#C8D4E3"
             },
             "line": {
              "color": "white"
             }
            },
            "type": "table"
           }
          ]
         },
         "layout": {
          "annotationdefaults": {
           "arrowcolor": "#2a3f5f",
           "arrowhead": 0,
           "arrowwidth": 1
          },
          "autotypenumbers": "strict",
          "coloraxis": {
           "colorbar": {
            "outlinewidth": 0,
            "ticks": ""
           }
          },
          "colorscale": {
           "diverging": [
            [
             0,
             "#8e0152"
            ],
            [
             0.1,
             "#c51b7d"
            ],
            [
             0.2,
             "#de77ae"
            ],
            [
             0.3,
             "#f1b6da"
            ],
            [
             0.4,
             "#fde0ef"
            ],
            [
             0.5,
             "#f7f7f7"
            ],
            [
             0.6,
             "#e6f5d0"
            ],
            [
             0.7,
             "#b8e186"
            ],
            [
             0.8,
             "#7fbc41"
            ],
            [
             0.9,
             "#4d9221"
            ],
            [
             1,
             "#276419"
            ]
           ],
           "sequential": [
            [
             0,
             "#0d0887"
            ],
            [
             0.1111111111111111,
             "#46039f"
            ],
            [
             0.2222222222222222,
             "#7201a8"
            ],
            [
             0.3333333333333333,
             "#9c179e"
            ],
            [
             0.4444444444444444,
             "#bd3786"
            ],
            [
             0.5555555555555556,
             "#d8576b"
            ],
            [
             0.6666666666666666,
             "#ed7953"
            ],
            [
             0.7777777777777778,
             "#fb9f3a"
            ],
            [
             0.8888888888888888,
             "#fdca26"
            ],
            [
             1,
             "#f0f921"
            ]
           ],
           "sequentialminus": [
            [
             0,
             "#0d0887"
            ],
            [
             0.1111111111111111,
             "#46039f"
            ],
            [
             0.2222222222222222,
             "#7201a8"
            ],
            [
             0.3333333333333333,
             "#9c179e"
            ],
            [
             0.4444444444444444,
             "#bd3786"
            ],
            [
             0.5555555555555556,
             "#d8576b"
            ],
            [
             0.6666666666666666,
             "#ed7953"
            ],
            [
             0.7777777777777778,
             "#fb9f3a"
            ],
            [
             0.8888888888888888,
             "#fdca26"
            ],
            [
             1,
             "#f0f921"
            ]
           ]
          },
          "colorway": [
           "#636efa",
           "#EF553B",
           "#00cc96",
           "#ab63fa",
           "#FFA15A",
           "#19d3f3",
           "#FF6692",
           "#B6E880",
           "#FF97FF",
           "#FECB52"
          ],
          "font": {
           "color": "#2a3f5f"
          },
          "geo": {
           "bgcolor": "white",
           "lakecolor": "white",
           "landcolor": "#E5ECF6",
           "showlakes": true,
           "showland": true,
           "subunitcolor": "white"
          },
          "hoverlabel": {
           "align": "left"
          },
          "hovermode": "closest",
          "mapbox": {
           "style": "light"
          },
          "paper_bgcolor": "white",
          "plot_bgcolor": "#E5ECF6",
          "polar": {
           "angularaxis": {
            "gridcolor": "white",
            "linecolor": "white",
            "ticks": ""
           },
           "bgcolor": "#E5ECF6",
           "radialaxis": {
            "gridcolor": "white",
            "linecolor": "white",
            "ticks": ""
           }
          },
          "scene": {
           "xaxis": {
            "backgroundcolor": "#E5ECF6",
            "gridcolor": "white",
            "gridwidth": 2,
            "linecolor": "white",
            "showbackground": true,
            "ticks": "",
            "zerolinecolor": "white"
           },
           "yaxis": {
            "backgroundcolor": "#E5ECF6",
            "gridcolor": "white",
            "gridwidth": 2,
            "linecolor": "white",
            "showbackground": true,
            "ticks": "",
            "zerolinecolor": "white"
           },
           "zaxis": {
            "backgroundcolor": "#E5ECF6",
            "gridcolor": "white",
            "gridwidth": 2,
            "linecolor": "white",
            "showbackground": true,
            "ticks": "",
            "zerolinecolor": "white"
           }
          },
          "shapedefaults": {
           "line": {
            "color": "#2a3f5f"
           }
          },
          "ternary": {
           "aaxis": {
            "gridcolor": "white",
            "linecolor": "white",
            "ticks": ""
           },
           "baxis": {
            "gridcolor": "white",
            "linecolor": "white",
            "ticks": ""
           },
           "bgcolor": "#E5ECF6",
           "caxis": {
            "gridcolor": "white",
            "linecolor": "white",
            "ticks": ""
           }
          },
          "title": {
           "x": 0.05
          },
          "xaxis": {
           "automargin": true,
           "gridcolor": "white",
           "linecolor": "white",
           "ticks": "",
           "title": {
            "standoff": 15
           },
           "zerolinecolor": "white",
           "zerolinewidth": 2
          },
          "yaxis": {
           "automargin": true,
           "gridcolor": "white",
           "linecolor": "white",
           "ticks": "",
           "title": {
            "standoff": 15
           },
           "zerolinecolor": "white",
           "zerolinewidth": 2
          }
         }
        },
        "title": {
         "text": "Globale Finanzierungssummen"
        },
        "xaxis": {
         "anchor": "y",
         "domain": [
          0,
          1
         ],
         "title": {
          "text": "Jahr"
         }
        },
        "yaxis": {
         "anchor": "x",
         "domain": [
          0,
          1
         ],
         "title": {
          "text": "Finanzierungssumme ($)"
         }
        }
       }
      },
      "text/html": [
       "<div>                            <div id=\"e45cc728-3f6b-488a-9133-a9dfde159945\" class=\"plotly-graph-div\" style=\"height:525px; width:100%;\"></div>            <script type=\"text/javascript\">                require([\"plotly\"], function(Plotly) {                    window.PLOTLYENV=window.PLOTLYENV || {};                                    if (document.getElementById(\"e45cc728-3f6b-488a-9133-a9dfde159945\")) {                    Plotly.newPlot(                        \"e45cc728-3f6b-488a-9133-a9dfde159945\",                        [{\"alignmentgroup\":\"True\",\"hovertemplate\":\"Finanzierungstyp=Andere ODA\\u003cbr\\u003eJahr=%{x}\\u003cbr\\u003eFinanzierungssumme ($)=%{y}\\u003cextra\\u003e\\u003c\\u002fextra\\u003e\",\"legendgroup\":\"Andere ODA\",\"marker\":{\"color\":\"orange\",\"pattern\":{\"shape\":\"\"}},\"name\":\"Andere ODA\",\"offsetgroup\":\"Andere ODA\",\"orientation\":\"v\",\"showlegend\":true,\"textposition\":\"auto\",\"x\":[2013,2014,2015,2016,2017,2018,2019,2020,2021,2022],\"xaxis\":\"x\",\"y\":[53966309.50000001,52950788.5,75637941.0,53244940.0,59563793.5,53051452.0,49186214.50000001,81596023.0,65237392.5,35184565.5],\"yaxis\":\"y\",\"type\":\"bar\"},{\"alignmentgroup\":\"True\",\"hovertemplate\":\"Finanzierungstyp=Klimaschutz Finanzierung\\u003cbr\\u003eJahr=%{x}\\u003cbr\\u003eFinanzierungssumme ($)=%{y}\\u003cextra\\u003e\\u003c\\u002fextra\\u003e\",\"legendgroup\":\"Klimaschutz Finanzierung\",\"marker\":{\"color\":\"green\",\"pattern\":{\"shape\":\"\"}},\"name\":\"Klimaschutz Finanzierung\",\"offsetgroup\":\"Klimaschutz Finanzierung\",\"orientation\":\"v\",\"showlegend\":true,\"textposition\":\"auto\",\"x\":[2013,2014,2015,2016,2017,2018,2019,2020,2021,2022],\"xaxis\":\"x\",\"y\":[16231463.999999998,19878041.0,19096279.5,19138455.5,21637645.0,20892699.0,41178058.5,18470760.5,22676913.0,19844228.0],\"yaxis\":\"y\",\"type\":\"bar\"},{\"alignmentgroup\":\"True\",\"hovertemplate\":\"Finanzierungstyp=Klimaanpassung Finanzierung\\u003cbr\\u003eJahr=%{x}\\u003cbr\\u003eFinanzierungssumme ($)=%{y}\\u003cextra\\u003e\\u003c\\u002fextra\\u003e\",\"legendgroup\":\"Klimaanpassung Finanzierung\",\"marker\":{\"color\":\"blue\",\"pattern\":{\"shape\":\"\"}},\"name\":\"Klimaanpassung Finanzierung\",\"offsetgroup\":\"Klimaanpassung Finanzierung\",\"orientation\":\"v\",\"showlegend\":true,\"textposition\":\"auto\",\"x\":[2013,2014,2015,2016,2017,2018,2019,2020,2021,2022],\"xaxis\":\"x\",\"y\":[17533824.499999996,17802901.5,21883086.5,25744537.5,26428273.5,35197630.0,26702416.0,19768732.5,24428401.5,28133845.5],\"yaxis\":\"y\",\"type\":\"bar\"}],                        {\"template\":{\"data\":{\"histogram2dcontour\":[{\"type\":\"histogram2dcontour\",\"colorbar\":{\"outlinewidth\":0,\"ticks\":\"\"},\"colorscale\":[[0.0,\"#0d0887\"],[0.1111111111111111,\"#46039f\"],[0.2222222222222222,\"#7201a8\"],[0.3333333333333333,\"#9c179e\"],[0.4444444444444444,\"#bd3786\"],[0.5555555555555556,\"#d8576b\"],[0.6666666666666666,\"#ed7953\"],[0.7777777777777778,\"#fb9f3a\"],[0.8888888888888888,\"#fdca26\"],[1.0,\"#f0f921\"]]}],\"choropleth\":[{\"type\":\"choropleth\",\"colorbar\":{\"outlinewidth\":0,\"ticks\":\"\"}}],\"histogram2d\":[{\"type\":\"histogram2d\",\"colorbar\":{\"outlinewidth\":0,\"ticks\":\"\"},\"colorscale\":[[0.0,\"#0d0887\"],[0.1111111111111111,\"#46039f\"],[0.2222222222222222,\"#7201a8\"],[0.3333333333333333,\"#9c179e\"],[0.4444444444444444,\"#bd3786\"],[0.5555555555555556,\"#d8576b\"],[0.6666666666666666,\"#ed7953\"],[0.7777777777777778,\"#fb9f3a\"],[0.8888888888888888,\"#fdca26\"],[1.0,\"#f0f921\"]]}],\"heatmap\":[{\"type\":\"heatmap\",\"colorbar\":{\"outlinewidth\":0,\"ticks\":\"\"},\"colorscale\":[[0.0,\"#0d0887\"],[0.1111111111111111,\"#46039f\"],[0.2222222222222222,\"#7201a8\"],[0.3333333333333333,\"#9c179e\"],[0.4444444444444444,\"#bd3786\"],[0.5555555555555556,\"#d8576b\"],[0.6666666666666666,\"#ed7953\"],[0.7777777777777778,\"#fb9f3a\"],[0.8888888888888888,\"#fdca26\"],[1.0,\"#f0f921\"]]}],\"heatmapgl\":[{\"type\":\"heatmapgl\",\"colorbar\":{\"outlinewidth\":0,\"ticks\":\"\"},\"colorscale\":[[0.0,\"#0d0887\"],[0.1111111111111111,\"#46039f\"],[0.2222222222222222,\"#7201a8\"],[0.3333333333333333,\"#9c179e\"],[0.4444444444444444,\"#bd3786\"],[0.5555555555555556,\"#d8576b\"],[0.6666666666666666,\"#ed7953\"],[0.7777777777777778,\"#fb9f3a\"],[0.8888888888888888,\"#fdca26\"],[1.0,\"#f0f921\"]]}],\"contourcarpet\":[{\"type\":\"contourcarpet\",\"colorbar\":{\"outlinewidth\":0,\"ticks\":\"\"}}],\"contour\":[{\"type\":\"contour\",\"colorbar\":{\"outlinewidth\":0,\"ticks\":\"\"},\"colorscale\":[[0.0,\"#0d0887\"],[0.1111111111111111,\"#46039f\"],[0.2222222222222222,\"#7201a8\"],[0.3333333333333333,\"#9c179e\"],[0.4444444444444444,\"#bd3786\"],[0.5555555555555556,\"#d8576b\"],[0.6666666666666666,\"#ed7953\"],[0.7777777777777778,\"#fb9f3a\"],[0.8888888888888888,\"#fdca26\"],[1.0,\"#f0f921\"]]}],\"surface\":[{\"type\":\"surface\",\"colorbar\":{\"outlinewidth\":0,\"ticks\":\"\"},\"colorscale\":[[0.0,\"#0d0887\"],[0.1111111111111111,\"#46039f\"],[0.2222222222222222,\"#7201a8\"],[0.3333333333333333,\"#9c179e\"],[0.4444444444444444,\"#bd3786\"],[0.5555555555555556,\"#d8576b\"],[0.6666666666666666,\"#ed7953\"],[0.7777777777777778,\"#fb9f3a\"],[0.8888888888888888,\"#fdca26\"],[1.0,\"#f0f921\"]]}],\"mesh3d\":[{\"type\":\"mesh3d\",\"colorbar\":{\"outlinewidth\":0,\"ticks\":\"\"}}],\"scatter\":[{\"fillpattern\":{\"fillmode\":\"overlay\",\"size\":10,\"solidity\":0.2},\"type\":\"scatter\"}],\"parcoords\":[{\"type\":\"parcoords\",\"line\":{\"colorbar\":{\"outlinewidth\":0,\"ticks\":\"\"}}}],\"scatterpolargl\":[{\"type\":\"scatterpolargl\",\"marker\":{\"colorbar\":{\"outlinewidth\":0,\"ticks\":\"\"}}}],\"bar\":[{\"error_x\":{\"color\":\"#2a3f5f\"},\"error_y\":{\"color\":\"#2a3f5f\"},\"marker\":{\"line\":{\"color\":\"#E5ECF6\",\"width\":0.5},\"pattern\":{\"fillmode\":\"overlay\",\"size\":10,\"solidity\":0.2}},\"type\":\"bar\"}],\"scattergeo\":[{\"type\":\"scattergeo\",\"marker\":{\"colorbar\":{\"outlinewidth\":0,\"ticks\":\"\"}}}],\"scatterpolar\":[{\"type\":\"scatterpolar\",\"marker\":{\"colorbar\":{\"outlinewidth\":0,\"ticks\":\"\"}}}],\"histogram\":[{\"marker\":{\"pattern\":{\"fillmode\":\"overlay\",\"size\":10,\"solidity\":0.2}},\"type\":\"histogram\"}],\"scattergl\":[{\"type\":\"scattergl\",\"marker\":{\"colorbar\":{\"outlinewidth\":0,\"ticks\":\"\"}}}],\"scatter3d\":[{\"type\":\"scatter3d\",\"line\":{\"colorbar\":{\"outlinewidth\":0,\"ticks\":\"\"}},\"marker\":{\"colorbar\":{\"outlinewidth\":0,\"ticks\":\"\"}}}],\"scattermapbox\":[{\"type\":\"scattermapbox\",\"marker\":{\"colorbar\":{\"outlinewidth\":0,\"ticks\":\"\"}}}],\"scatterternary\":[{\"type\":\"scatterternary\",\"marker\":{\"colorbar\":{\"outlinewidth\":0,\"ticks\":\"\"}}}],\"scattercarpet\":[{\"type\":\"scattercarpet\",\"marker\":{\"colorbar\":{\"outlinewidth\":0,\"ticks\":\"\"}}}],\"carpet\":[{\"aaxis\":{\"endlinecolor\":\"#2a3f5f\",\"gridcolor\":\"white\",\"linecolor\":\"white\",\"minorgridcolor\":\"white\",\"startlinecolor\":\"#2a3f5f\"},\"baxis\":{\"endlinecolor\":\"#2a3f5f\",\"gridcolor\":\"white\",\"linecolor\":\"white\",\"minorgridcolor\":\"white\",\"startlinecolor\":\"#2a3f5f\"},\"type\":\"carpet\"}],\"table\":[{\"cells\":{\"fill\":{\"color\":\"#EBF0F8\"},\"line\":{\"color\":\"white\"}},\"header\":{\"fill\":{\"color\":\"#C8D4E3\"},\"line\":{\"color\":\"white\"}},\"type\":\"table\"}],\"barpolar\":[{\"marker\":{\"line\":{\"color\":\"#E5ECF6\",\"width\":0.5},\"pattern\":{\"fillmode\":\"overlay\",\"size\":10,\"solidity\":0.2}},\"type\":\"barpolar\"}],\"pie\":[{\"automargin\":true,\"type\":\"pie\"}]},\"layout\":{\"autotypenumbers\":\"strict\",\"colorway\":[\"#636efa\",\"#EF553B\",\"#00cc96\",\"#ab63fa\",\"#FFA15A\",\"#19d3f3\",\"#FF6692\",\"#B6E880\",\"#FF97FF\",\"#FECB52\"],\"font\":{\"color\":\"#2a3f5f\"},\"hovermode\":\"closest\",\"hoverlabel\":{\"align\":\"left\"},\"paper_bgcolor\":\"white\",\"plot_bgcolor\":\"#E5ECF6\",\"polar\":{\"bgcolor\":\"#E5ECF6\",\"angularaxis\":{\"gridcolor\":\"white\",\"linecolor\":\"white\",\"ticks\":\"\"},\"radialaxis\":{\"gridcolor\":\"white\",\"linecolor\":\"white\",\"ticks\":\"\"}},\"ternary\":{\"bgcolor\":\"#E5ECF6\",\"aaxis\":{\"gridcolor\":\"white\",\"linecolor\":\"white\",\"ticks\":\"\"},\"baxis\":{\"gridcolor\":\"white\",\"linecolor\":\"white\",\"ticks\":\"\"},\"caxis\":{\"gridcolor\":\"white\",\"linecolor\":\"white\",\"ticks\":\"\"}},\"coloraxis\":{\"colorbar\":{\"outlinewidth\":0,\"ticks\":\"\"}},\"colorscale\":{\"sequential\":[[0.0,\"#0d0887\"],[0.1111111111111111,\"#46039f\"],[0.2222222222222222,\"#7201a8\"],[0.3333333333333333,\"#9c179e\"],[0.4444444444444444,\"#bd3786\"],[0.5555555555555556,\"#d8576b\"],[0.6666666666666666,\"#ed7953\"],[0.7777777777777778,\"#fb9f3a\"],[0.8888888888888888,\"#fdca26\"],[1.0,\"#f0f921\"]],\"sequentialminus\":[[0.0,\"#0d0887\"],[0.1111111111111111,\"#46039f\"],[0.2222222222222222,\"#7201a8\"],[0.3333333333333333,\"#9c179e\"],[0.4444444444444444,\"#bd3786\"],[0.5555555555555556,\"#d8576b\"],[0.6666666666666666,\"#ed7953\"],[0.7777777777777778,\"#fb9f3a\"],[0.8888888888888888,\"#fdca26\"],[1.0,\"#f0f921\"]],\"diverging\":[[0,\"#8e0152\"],[0.1,\"#c51b7d\"],[0.2,\"#de77ae\"],[0.3,\"#f1b6da\"],[0.4,\"#fde0ef\"],[0.5,\"#f7f7f7\"],[0.6,\"#e6f5d0\"],[0.7,\"#b8e186\"],[0.8,\"#7fbc41\"],[0.9,\"#4d9221\"],[1,\"#276419\"]]},\"xaxis\":{\"gridcolor\":\"white\",\"linecolor\":\"white\",\"ticks\":\"\",\"title\":{\"standoff\":15},\"zerolinecolor\":\"white\",\"automargin\":true,\"zerolinewidth\":2},\"yaxis\":{\"gridcolor\":\"white\",\"linecolor\":\"white\",\"ticks\":\"\",\"title\":{\"standoff\":15},\"zerolinecolor\":\"white\",\"automargin\":true,\"zerolinewidth\":2},\"scene\":{\"xaxis\":{\"backgroundcolor\":\"#E5ECF6\",\"gridcolor\":\"white\",\"linecolor\":\"white\",\"showbackground\":true,\"ticks\":\"\",\"zerolinecolor\":\"white\",\"gridwidth\":2},\"yaxis\":{\"backgroundcolor\":\"#E5ECF6\",\"gridcolor\":\"white\",\"linecolor\":\"white\",\"showbackground\":true,\"ticks\":\"\",\"zerolinecolor\":\"white\",\"gridwidth\":2},\"zaxis\":{\"backgroundcolor\":\"#E5ECF6\",\"gridcolor\":\"white\",\"linecolor\":\"white\",\"showbackground\":true,\"ticks\":\"\",\"zerolinecolor\":\"white\",\"gridwidth\":2}},\"shapedefaults\":{\"line\":{\"color\":\"#2a3f5f\"}},\"annotationdefaults\":{\"arrowcolor\":\"#2a3f5f\",\"arrowhead\":0,\"arrowwidth\":1},\"geo\":{\"bgcolor\":\"white\",\"landcolor\":\"#E5ECF6\",\"subunitcolor\":\"white\",\"showland\":true,\"showlakes\":true,\"lakecolor\":\"white\"},\"title\":{\"x\":0.05},\"mapbox\":{\"style\":\"light\"}}},\"xaxis\":{\"anchor\":\"y\",\"domain\":[0.0,1.0],\"title\":{\"text\":\"Jahr\"}},\"yaxis\":{\"anchor\":\"x\",\"domain\":[0.0,1.0],\"title\":{\"text\":\"Finanzierungssumme ($)\"}},\"legend\":{\"title\":{\"text\":\"Finanzierungstyp\"},\"tracegroupgap\":0},\"title\":{\"text\":\"Globale Finanzierungssummen\"},\"barmode\":\"relative\"},                        {\"responsive\": true}                    ).then(function(){\n",
       "                            \n",
       "var gd = document.getElementById('e45cc728-3f6b-488a-9133-a9dfde159945');\n",
       "var x = new MutationObserver(function (mutations, observer) {{\n",
       "        var display = window.getComputedStyle(gd).display;\n",
       "        if (!display || display === 'none') {{\n",
       "            console.log([gd, 'removed!']);\n",
       "            Plotly.purge(gd);\n",
       "            observer.disconnect();\n",
       "        }}\n",
       "}});\n",
       "\n",
       "// Listen for the removal of the full notebook cells\n",
       "var notebookContainer = gd.closest('#notebook-container');\n",
       "if (notebookContainer) {{\n",
       "    x.observe(notebookContainer, {childList: true});\n",
       "}}\n",
       "\n",
       "// Listen for the clearing of the current output cell\n",
       "var outputEl = gd.closest('.output');\n",
       "if (outputEl) {{\n",
       "    x.observe(outputEl, {childList: true});\n",
       "}}\n",
       "\n",
       "                        })                };                });            </script>        </div>"
      ]
     },
     "metadata": {},
     "output_type": "display_data"
    }
   ],
   "source": [
    "all_country_split_df = pd.read_csv('../upload_data/all_country_split.csv')\n",
    "\n",
    "selected_country_split_df = all_country_split_df[all_country_split_df['Recipient Name'] == country]\n",
    "\n",
    "fig = px.bar(selected_country_split_df, x='Year', y='Amount', color='Finanzierungstyp',\n",
    "            title='Globale Finanzierungssummen',\n",
    "            labels={'Amount': 'Finanzierungssumme ($)', 'Year': 'Jahr'},\n",
    "            category_orders={'Finanzierungstyp': ['Andere ODA','Klimaschutz Finanzierung', 'Klimaanpassung Finanzierung']},\n",
    "            color_discrete_map={'Andere ODA': 'orange', 'Klimaschutz Finanzierung': 'green', 'Klimaanpassung Finanzierung': 'blue'}\n",
    "            )# This ensures consistent color ordering\n",
    "\n",
    "fig.show()"
   ]
  },
  {
   "cell_type": "code",
   "execution_count": 118,
   "id": "eb86328c",
   "metadata": {},
   "outputs": [
    {
     "data": {
      "text/html": [
       "<div>\n",
       "<style scoped>\n",
       "    .dataframe tbody tr th:only-of-type {\n",
       "        vertical-align: middle;\n",
       "    }\n",
       "\n",
       "    .dataframe tbody tr th {\n",
       "        vertical-align: top;\n",
       "    }\n",
       "\n",
       "    .dataframe thead th {\n",
       "        text-align: right;\n",
       "    }\n",
       "</style>\n",
       "<table border=\"1\" class=\"dataframe\">\n",
       "  <thead>\n",
       "    <tr style=\"text-align: right;\">\n",
       "      <th></th>\n",
       "      <th>amount_2013</th>\n",
       "      <th>clim_rel_amount_2013</th>\n",
       "      <th>clim_rel_percent_2013</th>\n",
       "      <th>amount_2014</th>\n",
       "      <th>clim_rel_amount_2014</th>\n",
       "      <th>clim_rel_percent_2014</th>\n",
       "      <th>amount_2015</th>\n",
       "      <th>clim_rel_amount_2015</th>\n",
       "      <th>clim_rel_percent_2015</th>\n",
       "      <th>amount_2016</th>\n",
       "      <th>...</th>\n",
       "      <th>clim_rel_percent_2019</th>\n",
       "      <th>amount_2020</th>\n",
       "      <th>clim_rel_amount_2020</th>\n",
       "      <th>clim_rel_percent_2020</th>\n",
       "      <th>amount_2021</th>\n",
       "      <th>clim_rel_amount_2021</th>\n",
       "      <th>clim_rel_percent_2021</th>\n",
       "      <th>amount_2022</th>\n",
       "      <th>clim_rel_amount_2022</th>\n",
       "      <th>clim_rel_percent_2022</th>\n",
       "    </tr>\n",
       "    <tr>\n",
       "      <th>Recipient Name</th>\n",
       "      <th></th>\n",
       "      <th></th>\n",
       "      <th></th>\n",
       "      <th></th>\n",
       "      <th></th>\n",
       "      <th></th>\n",
       "      <th></th>\n",
       "      <th></th>\n",
       "      <th></th>\n",
       "      <th></th>\n",
       "      <th></th>\n",
       "      <th></th>\n",
       "      <th></th>\n",
       "      <th></th>\n",
       "      <th></th>\n",
       "      <th></th>\n",
       "      <th></th>\n",
       "      <th></th>\n",
       "      <th></th>\n",
       "      <th></th>\n",
       "      <th></th>\n",
       "    </tr>\n",
       "  </thead>\n",
       "  <tbody>\n",
       "    <tr>\n",
       "      <th>Afghanistan</th>\n",
       "      <td>229.878097</td>\n",
       "      <td>18.110155</td>\n",
       "      <td>0.078782</td>\n",
       "      <td>286.807860</td>\n",
       "      <td>30.496058</td>\n",
       "      <td>0.106329</td>\n",
       "      <td>197.429500</td>\n",
       "      <td>30.311894</td>\n",
       "      <td>0.153533</td>\n",
       "      <td>346.234112</td>\n",
       "      <td>...</td>\n",
       "      <td>0.165281</td>\n",
       "      <td>196.114075</td>\n",
       "      <td>33.459576</td>\n",
       "      <td>0.170613</td>\n",
       "      <td>352.840862</td>\n",
       "      <td>47.657621</td>\n",
       "      <td>0.135068</td>\n",
       "      <td>201.939382</td>\n",
       "      <td>12.035070</td>\n",
       "      <td>0.059597</td>\n",
       "    </tr>\n",
       "    <tr>\n",
       "      <th>Africa, regional</th>\n",
       "      <td>132.706037</td>\n",
       "      <td>34.237272</td>\n",
       "      <td>0.257993</td>\n",
       "      <td>129.848523</td>\n",
       "      <td>15.707783</td>\n",
       "      <td>0.120970</td>\n",
       "      <td>182.614727</td>\n",
       "      <td>75.974172</td>\n",
       "      <td>0.416035</td>\n",
       "      <td>129.000894</td>\n",
       "      <td>...</td>\n",
       "      <td>0.234096</td>\n",
       "      <td>686.808006</td>\n",
       "      <td>161.181838</td>\n",
       "      <td>0.234683</td>\n",
       "      <td>643.229422</td>\n",
       "      <td>131.993625</td>\n",
       "      <td>0.205205</td>\n",
       "      <td>627.644704</td>\n",
       "      <td>138.891343</td>\n",
       "      <td>0.221290</td>\n",
       "    </tr>\n",
       "    <tr>\n",
       "      <th>Albania</th>\n",
       "      <td>19.317268</td>\n",
       "      <td>5.281618</td>\n",
       "      <td>0.273414</td>\n",
       "      <td>16.371641</td>\n",
       "      <td>4.651060</td>\n",
       "      <td>0.284092</td>\n",
       "      <td>19.155382</td>\n",
       "      <td>6.362595</td>\n",
       "      <td>0.332157</td>\n",
       "      <td>18.968980</td>\n",
       "      <td>...</td>\n",
       "      <td>0.271722</td>\n",
       "      <td>30.080577</td>\n",
       "      <td>5.804841</td>\n",
       "      <td>0.192976</td>\n",
       "      <td>29.366152</td>\n",
       "      <td>7.881105</td>\n",
       "      <td>0.268374</td>\n",
       "      <td>25.328362</td>\n",
       "      <td>8.592429</td>\n",
       "      <td>0.339241</td>\n",
       "    </tr>\n",
       "    <tr>\n",
       "      <th>Algeria</th>\n",
       "      <td>6.080655</td>\n",
       "      <td>1.175290</td>\n",
       "      <td>0.193283</td>\n",
       "      <td>5.218615</td>\n",
       "      <td>2.543035</td>\n",
       "      <td>0.487301</td>\n",
       "      <td>6.014444</td>\n",
       "      <td>3.463474</td>\n",
       "      <td>0.575859</td>\n",
       "      <td>4.684949</td>\n",
       "      <td>...</td>\n",
       "      <td>0.455295</td>\n",
       "      <td>11.714897</td>\n",
       "      <td>4.716805</td>\n",
       "      <td>0.402633</td>\n",
       "      <td>25.777176</td>\n",
       "      <td>6.526832</td>\n",
       "      <td>0.253202</td>\n",
       "      <td>16.273651</td>\n",
       "      <td>7.171532</td>\n",
       "      <td>0.440684</td>\n",
       "    </tr>\n",
       "    <tr>\n",
       "      <th>America, regional</th>\n",
       "      <td>61.039902</td>\n",
       "      <td>12.957501</td>\n",
       "      <td>0.212279</td>\n",
       "      <td>73.783053</td>\n",
       "      <td>20.492112</td>\n",
       "      <td>0.277735</td>\n",
       "      <td>48.050705</td>\n",
       "      <td>5.792946</td>\n",
       "      <td>0.120559</td>\n",
       "      <td>77.236341</td>\n",
       "      <td>...</td>\n",
       "      <td>0.391508</td>\n",
       "      <td>146.314609</td>\n",
       "      <td>54.032500</td>\n",
       "      <td>0.369290</td>\n",
       "      <td>82.869791</td>\n",
       "      <td>29.554400</td>\n",
       "      <td>0.356637</td>\n",
       "      <td>107.665968</td>\n",
       "      <td>50.903984</td>\n",
       "      <td>0.472795</td>\n",
       "    </tr>\n",
       "    <tr>\n",
       "      <th>...</th>\n",
       "      <td>...</td>\n",
       "      <td>...</td>\n",
       "      <td>...</td>\n",
       "      <td>...</td>\n",
       "      <td>...</td>\n",
       "      <td>...</td>\n",
       "      <td>...</td>\n",
       "      <td>...</td>\n",
       "      <td>...</td>\n",
       "      <td>...</td>\n",
       "      <td>...</td>\n",
       "      <td>...</td>\n",
       "      <td>...</td>\n",
       "      <td>...</td>\n",
       "      <td>...</td>\n",
       "      <td>...</td>\n",
       "      <td>...</td>\n",
       "      <td>...</td>\n",
       "      <td>...</td>\n",
       "      <td>...</td>\n",
       "      <td>...</td>\n",
       "    </tr>\n",
       "    <tr>\n",
       "      <th>Central America, regional</th>\n",
       "      <td>NaN</td>\n",
       "      <td>NaN</td>\n",
       "      <td>NaN</td>\n",
       "      <td>NaN</td>\n",
       "      <td>NaN</td>\n",
       "      <td>NaN</td>\n",
       "      <td>NaN</td>\n",
       "      <td>NaN</td>\n",
       "      <td>NaN</td>\n",
       "      <td>NaN</td>\n",
       "      <td>...</td>\n",
       "      <td>0.723529</td>\n",
       "      <td>6.512341</td>\n",
       "      <td>3.309877</td>\n",
       "      <td>0.508247</td>\n",
       "      <td>7.760249</td>\n",
       "      <td>3.882104</td>\n",
       "      <td>0.500255</td>\n",
       "      <td>9.319793</td>\n",
       "      <td>4.376188</td>\n",
       "      <td>0.469558</td>\n",
       "    </tr>\n",
       "    <tr>\n",
       "      <th>Eastern Africa, regional</th>\n",
       "      <td>NaN</td>\n",
       "      <td>NaN</td>\n",
       "      <td>NaN</td>\n",
       "      <td>NaN</td>\n",
       "      <td>NaN</td>\n",
       "      <td>NaN</td>\n",
       "      <td>NaN</td>\n",
       "      <td>NaN</td>\n",
       "      <td>NaN</td>\n",
       "      <td>NaN</td>\n",
       "      <td>...</td>\n",
       "      <td>0.165010</td>\n",
       "      <td>27.979557</td>\n",
       "      <td>6.321787</td>\n",
       "      <td>0.225943</td>\n",
       "      <td>31.071347</td>\n",
       "      <td>2.476874</td>\n",
       "      <td>0.079716</td>\n",
       "      <td>31.393523</td>\n",
       "      <td>3.239855</td>\n",
       "      <td>0.103201</td>\n",
       "    </tr>\n",
       "    <tr>\n",
       "      <th>Middle Africa, regional</th>\n",
       "      <td>NaN</td>\n",
       "      <td>NaN</td>\n",
       "      <td>NaN</td>\n",
       "      <td>NaN</td>\n",
       "      <td>NaN</td>\n",
       "      <td>NaN</td>\n",
       "      <td>NaN</td>\n",
       "      <td>NaN</td>\n",
       "      <td>NaN</td>\n",
       "      <td>NaN</td>\n",
       "      <td>...</td>\n",
       "      <td>0.470844</td>\n",
       "      <td>5.156201</td>\n",
       "      <td>1.411457</td>\n",
       "      <td>0.273740</td>\n",
       "      <td>7.093164</td>\n",
       "      <td>1.752717</td>\n",
       "      <td>0.247099</td>\n",
       "      <td>7.352916</td>\n",
       "      <td>1.580488</td>\n",
       "      <td>0.214947</td>\n",
       "    </tr>\n",
       "    <tr>\n",
       "      <th>Western Africa, regional</th>\n",
       "      <td>NaN</td>\n",
       "      <td>NaN</td>\n",
       "      <td>NaN</td>\n",
       "      <td>NaN</td>\n",
       "      <td>NaN</td>\n",
       "      <td>NaN</td>\n",
       "      <td>NaN</td>\n",
       "      <td>NaN</td>\n",
       "      <td>NaN</td>\n",
       "      <td>NaN</td>\n",
       "      <td>...</td>\n",
       "      <td>0.296202</td>\n",
       "      <td>34.419681</td>\n",
       "      <td>8.031757</td>\n",
       "      <td>0.233348</td>\n",
       "      <td>29.927608</td>\n",
       "      <td>7.356770</td>\n",
       "      <td>0.245819</td>\n",
       "      <td>37.365181</td>\n",
       "      <td>12.119308</td>\n",
       "      <td>0.324348</td>\n",
       "    </tr>\n",
       "    <tr>\n",
       "      <th>South &amp; Central Asia, regional</th>\n",
       "      <td>NaN</td>\n",
       "      <td>NaN</td>\n",
       "      <td>NaN</td>\n",
       "      <td>NaN</td>\n",
       "      <td>NaN</td>\n",
       "      <td>NaN</td>\n",
       "      <td>NaN</td>\n",
       "      <td>NaN</td>\n",
       "      <td>NaN</td>\n",
       "      <td>NaN</td>\n",
       "      <td>...</td>\n",
       "      <td>NaN</td>\n",
       "      <td>NaN</td>\n",
       "      <td>NaN</td>\n",
       "      <td>NaN</td>\n",
       "      <td>2.119008</td>\n",
       "      <td>0.000000</td>\n",
       "      <td>0.000000</td>\n",
       "      <td>15.884541</td>\n",
       "      <td>2.750760</td>\n",
       "      <td>0.173172</td>\n",
       "    </tr>\n",
       "  </tbody>\n",
       "</table>\n",
       "<p>142 rows × 30 columns</p>\n",
       "</div>"
      ],
      "text/plain": [
       "                                amount_2013  clim_rel_amount_2013  \\\n",
       "Recipient Name                                                      \n",
       "Afghanistan                      229.878097             18.110155   \n",
       "Africa, regional                 132.706037             34.237272   \n",
       "Albania                           19.317268              5.281618   \n",
       "Algeria                            6.080655              1.175290   \n",
       "America, regional                 61.039902             12.957501   \n",
       "...                                     ...                   ...   \n",
       "Central America, regional               NaN                   NaN   \n",
       "Eastern Africa, regional                NaN                   NaN   \n",
       "Middle Africa, regional                 NaN                   NaN   \n",
       "Western Africa, regional                NaN                   NaN   \n",
       "South & Central Asia, regional          NaN                   NaN   \n",
       "\n",
       "                                clim_rel_percent_2013  amount_2014  \\\n",
       "Recipient Name                                                       \n",
       "Afghanistan                                  0.078782   286.807860   \n",
       "Africa, regional                             0.257993   129.848523   \n",
       "Albania                                      0.273414    16.371641   \n",
       "Algeria                                      0.193283     5.218615   \n",
       "America, regional                            0.212279    73.783053   \n",
       "...                                               ...          ...   \n",
       "Central America, regional                         NaN          NaN   \n",
       "Eastern Africa, regional                          NaN          NaN   \n",
       "Middle Africa, regional                           NaN          NaN   \n",
       "Western Africa, regional                          NaN          NaN   \n",
       "South & Central Asia, regional                    NaN          NaN   \n",
       "\n",
       "                                clim_rel_amount_2014  clim_rel_percent_2014  \\\n",
       "Recipient Name                                                                \n",
       "Afghanistan                                30.496058               0.106329   \n",
       "Africa, regional                           15.707783               0.120970   \n",
       "Albania                                     4.651060               0.284092   \n",
       "Algeria                                     2.543035               0.487301   \n",
       "America, regional                          20.492112               0.277735   \n",
       "...                                              ...                    ...   \n",
       "Central America, regional                        NaN                    NaN   \n",
       "Eastern Africa, regional                         NaN                    NaN   \n",
       "Middle Africa, regional                          NaN                    NaN   \n",
       "Western Africa, regional                         NaN                    NaN   \n",
       "South & Central Asia, regional                   NaN                    NaN   \n",
       "\n",
       "                                amount_2015  clim_rel_amount_2015  \\\n",
       "Recipient Name                                                      \n",
       "Afghanistan                      197.429500             30.311894   \n",
       "Africa, regional                 182.614727             75.974172   \n",
       "Albania                           19.155382              6.362595   \n",
       "Algeria                            6.014444              3.463474   \n",
       "America, regional                 48.050705              5.792946   \n",
       "...                                     ...                   ...   \n",
       "Central America, regional               NaN                   NaN   \n",
       "Eastern Africa, regional                NaN                   NaN   \n",
       "Middle Africa, regional                 NaN                   NaN   \n",
       "Western Africa, regional                NaN                   NaN   \n",
       "South & Central Asia, regional          NaN                   NaN   \n",
       "\n",
       "                                clim_rel_percent_2015  amount_2016  ...  \\\n",
       "Recipient Name                                                      ...   \n",
       "Afghanistan                                  0.153533   346.234112  ...   \n",
       "Africa, regional                             0.416035   129.000894  ...   \n",
       "Albania                                      0.332157    18.968980  ...   \n",
       "Algeria                                      0.575859     4.684949  ...   \n",
       "America, regional                            0.120559    77.236341  ...   \n",
       "...                                               ...          ...  ...   \n",
       "Central America, regional                         NaN          NaN  ...   \n",
       "Eastern Africa, regional                          NaN          NaN  ...   \n",
       "Middle Africa, regional                           NaN          NaN  ...   \n",
       "Western Africa, regional                          NaN          NaN  ...   \n",
       "South & Central Asia, regional                    NaN          NaN  ...   \n",
       "\n",
       "                                clim_rel_percent_2019  amount_2020  \\\n",
       "Recipient Name                                                       \n",
       "Afghanistan                                  0.165281   196.114075   \n",
       "Africa, regional                             0.234096   686.808006   \n",
       "Albania                                      0.271722    30.080577   \n",
       "Algeria                                      0.455295    11.714897   \n",
       "America, regional                            0.391508   146.314609   \n",
       "...                                               ...          ...   \n",
       "Central America, regional                    0.723529     6.512341   \n",
       "Eastern Africa, regional                     0.165010    27.979557   \n",
       "Middle Africa, regional                      0.470844     5.156201   \n",
       "Western Africa, regional                     0.296202    34.419681   \n",
       "South & Central Asia, regional                    NaN          NaN   \n",
       "\n",
       "                                clim_rel_amount_2020  clim_rel_percent_2020  \\\n",
       "Recipient Name                                                                \n",
       "Afghanistan                                33.459576               0.170613   \n",
       "Africa, regional                          161.181838               0.234683   \n",
       "Albania                                     5.804841               0.192976   \n",
       "Algeria                                     4.716805               0.402633   \n",
       "America, regional                          54.032500               0.369290   \n",
       "...                                              ...                    ...   \n",
       "Central America, regional                   3.309877               0.508247   \n",
       "Eastern Africa, regional                    6.321787               0.225943   \n",
       "Middle Africa, regional                     1.411457               0.273740   \n",
       "Western Africa, regional                    8.031757               0.233348   \n",
       "South & Central Asia, regional                   NaN                    NaN   \n",
       "\n",
       "                                amount_2021  clim_rel_amount_2021  \\\n",
       "Recipient Name                                                      \n",
       "Afghanistan                      352.840862             47.657621   \n",
       "Africa, regional                 643.229422            131.993625   \n",
       "Albania                           29.366152              7.881105   \n",
       "Algeria                           25.777176              6.526832   \n",
       "America, regional                 82.869791             29.554400   \n",
       "...                                     ...                   ...   \n",
       "Central America, regional          7.760249              3.882104   \n",
       "Eastern Africa, regional          31.071347              2.476874   \n",
       "Middle Africa, regional            7.093164              1.752717   \n",
       "Western Africa, regional          29.927608              7.356770   \n",
       "South & Central Asia, regional     2.119008              0.000000   \n",
       "\n",
       "                                clim_rel_percent_2021  amount_2022  \\\n",
       "Recipient Name                                                       \n",
       "Afghanistan                                  0.135068   201.939382   \n",
       "Africa, regional                             0.205205   627.644704   \n",
       "Albania                                      0.268374    25.328362   \n",
       "Algeria                                      0.253202    16.273651   \n",
       "America, regional                            0.356637   107.665968   \n",
       "...                                               ...          ...   \n",
       "Central America, regional                    0.500255     9.319793   \n",
       "Eastern Africa, regional                     0.079716    31.393523   \n",
       "Middle Africa, regional                      0.247099     7.352916   \n",
       "Western Africa, regional                     0.245819    37.365181   \n",
       "South & Central Asia, regional               0.000000    15.884541   \n",
       "\n",
       "                                clim_rel_amount_2022  clim_rel_percent_2022  \n",
       "Recipient Name                                                               \n",
       "Afghanistan                                12.035070               0.059597  \n",
       "Africa, regional                          138.891343               0.221290  \n",
       "Albania                                     8.592429               0.339241  \n",
       "Algeria                                     7.171532               0.440684  \n",
       "America, regional                          50.903984               0.472795  \n",
       "...                                              ...                    ...  \n",
       "Central America, regional                   4.376188               0.469558  \n",
       "Eastern Africa, regional                    3.239855               0.103201  \n",
       "Middle Africa, regional                     1.580488               0.214947  \n",
       "Western Africa, regional                   12.119308               0.324348  \n",
       "South & Central Asia, regional              2.750760               0.173172  \n",
       "\n",
       "[142 rows x 30 columns]"
      ]
     },
     "execution_count": 118,
     "metadata": {},
     "output_type": "execute_result"
    }
   ],
   "source": [
    "df_merged"
   ]
  },
  {
   "cell_type": "code",
   "execution_count": null,
   "id": "27039e36",
   "metadata": {},
   "outputs": [],
   "source": []
  },
  {
   "cell_type": "code",
   "execution_count": null,
   "id": "9eecc886",
   "metadata": {},
   "outputs": [],
   "source": []
  },
  {
   "cell_type": "markdown",
   "id": "0a041d17",
   "metadata": {},
   "source": [
    "# country_specific_df"
   ]
  },
  {
   "cell_type": "code",
   "execution_count": 39,
   "id": "700dcfd6",
   "metadata": {},
   "outputs": [],
   "source": [
    "processed_grouped_dfs = []\n",
    "\n",
    "def determine_value(row):\n",
    "    if 2.0 in row[['Climate Adaptation', 'Climate Mitigation']].values:\n",
    "        return 1\n",
    "    elif 1.0 in row[['Climate Adaptation', 'Climate Mitigation']].values:\n",
    "        return 0.5\n",
    "    else:\n",
    "        return 0\n",
    "\n",
    "for key in dictionary_df.keys():\n",
    "        \n",
    "    use_df = dictionary_df[key][['Recipient Name', 'Amount', 'Climate Mitigation', 'Climate Adaptation']]\n",
    "\n",
    "    use_df['Climate Adaptation'] = use_df['Climate Adaptation'].fillna(0)\n",
    "    use_df['Climate Mitigation'] = use_df['Climate Mitigation'].fillna(0)\n",
    "\n",
    "    use_df['clim_rel'] = use_df.apply(determine_value, axis=1)\n",
    "    use_df['clim_rel_amount'] = use_df['Amount'] * use_df['clim_rel']\n",
    "    \n",
    "    grouped_df = use_df.groupby(['Recipient Name']).sum()[['Amount', 'clim_rel_amount']].reset_index()\n",
    "    \n",
    "    grouped_df['clim_rel_percent'] = grouped_df['clim_rel_amount'] / grouped_df['Amount']\n",
    "    \n",
    "    grouped_processed_df = grouped_df.rename(columns={'clim_rel_percent': key})\n",
    "\n",
    "    processed_grouped_dfs.append(grouped_processed_df[['Recipient Name',key]])\n",
    "\n",
    "    \n",
    "df_merged = reduce(lambda left, right: pd.merge(left, right, on='Recipient Name', how='outer'), processed_grouped_dfs)\n",
    "\n",
    "df_long = df_merged.melt(id_vars=[\"Recipient Name\"], \n",
    "                  var_name=\"Year\", \n",
    "                  value_name=\"Value\")\n",
    "\n",
    "\n",
    "df_long.to_csv('../upload_data/country_specific_df.csv')\n",
    "\n"
   ]
  },
  {
   "cell_type": "markdown",
   "id": "084572e9",
   "metadata": {},
   "source": [
    "# Data Processing For Sector Breakdown"
   ]
  },
  {
   "cell_type": "code",
   "execution_count": 161,
   "id": "a1d04c39",
   "metadata": {},
   "outputs": [],
   "source": [
    "def determine_value(row):\n",
    "    if 2.0 in row[['Climate Adaptation', 'Climate Mitigation']].values:\n",
    "        return 1\n",
    "    elif row['Climate Adaptation'] == 1.0 and row['Climate Mitigation'] == 1.0:\n",
    "        return 1\n",
    "    elif 1.0 in row[['Climate Adaptation', 'Climate Mitigation']].values:\n",
    "        return 0.5\n",
    "    else:\n",
    "        return 0\n",
    "\n",
    "# final_dict = dictionary_df.copy()    \n",
    "processed_grouped_dfs = []\n",
    "\n",
    "    \n",
    "for year, df in dictionary_df.items():\n",
    "    \n",
    "    # Data Cleaning\n",
    "    use_df = df[['Recipient Name', 'Amount', 'Climate Mitigation', 'Climate Adaptation', 'Sector']]\n",
    "    use_df['Climate Adaptation'] = use_df['Climate Adaptation'].fillna(0)\n",
    "    use_df['Climate Mitigation'] = use_df['Climate Mitigation'].fillna(0)\n",
    "    \n",
    "    # Applying analysis Rules\n",
    "    \n",
    "    use_df['clim_rel'] = use_df.apply(determine_value, axis=1)\n",
    "    \n",
    "    use_df['clim_rel_amount'] = use_df['Amount'] * use_df['clim_rel']\n",
    "    use_df['clim_adapt_amount'] = use_df['Amount'] * (use_df['Climate Adaptation'] / 2)\n",
    "    use_df['clim_miti_amount'] = use_df['Amount'] * (use_df['Climate Mitigation'] / 2)\n",
    "    \n",
    "    \n",
    "    # Grouping by Country and calculating\n",
    "    \n",
    "    grouped_df = use_df.groupby('Sector').sum()[['Amount','clim_rel_amount', 'clim_adapt_amount', 'clim_miti_amount']]\n",
    "    \n",
    "    grouped_df['non_miti_adapt'] =grouped_df['Amount'] - (grouped_df['clim_miti_amount'] + grouped_df['clim_adapt_amount'])\n",
    "    grouped_df['non_clim'] =grouped_df['Amount'] - grouped_df['clim_rel_amount']\n",
    "    \n",
    "        \n",
    "    grouped_df = grouped_df.rename(columns= {\n",
    "        'Amount': f\"amount_{year}\",\n",
    "        'non_miti_adapt': f\"non_miti_adapt_{year}\",\n",
    "        'clim_rel_amount': f\"clim_rel_amount_{year}\",\n",
    "        'non_clim': f\"non_clim_{year}\",\n",
    "        'clim_adapt_amount': f\"clim_adapt_amount_{year}\",\n",
    "        'clim_miti_amount': f\"clim_miti_amount_{year}\"\n",
    "    })\n",
    "    \n",
    "    # Merging DF\n",
    "    \n",
    "    processed_grouped_dfs.append(grouped_df)\n",
    "    \n",
    "\n"
   ]
  },
  {
   "cell_type": "code",
   "execution_count": 177,
   "id": "d1a2f5f8",
   "metadata": {},
   "outputs": [],
   "source": [
    "df_merged = reduce(lambda left, right: pd.merge(left, right, on='Sector', how='outer'), processed_grouped_dfs)\n"
   ]
  },
  {
   "cell_type": "code",
   "execution_count": 181,
   "id": "8a44fb29",
   "metadata": {},
   "outputs": [],
   "source": [
    "df_merged = df_merged*1000000"
   ]
  },
  {
   "cell_type": "code",
   "execution_count": 182,
   "id": "83917b86",
   "metadata": {},
   "outputs": [],
   "source": [
    "df_merged.to_csv('../upload_data/sector_analysis.csv')\n",
    "\n",
    "df_merged = pd.read_csv('../upload_data/sector_analysis.csv')"
   ]
  },
  {
   "cell_type": "markdown",
   "id": "0b68c9c2",
   "metadata": {},
   "source": [
    "## Stacked Area"
   ]
  },
  {
   "cell_type": "code",
   "execution_count": 209,
   "id": "20df140e",
   "metadata": {},
   "outputs": [
    {
     "data": {
      "text/html": [
       "<div>\n",
       "<style scoped>\n",
       "    .dataframe tbody tr th:only-of-type {\n",
       "        vertical-align: middle;\n",
       "    }\n",
       "\n",
       "    .dataframe tbody tr th {\n",
       "        vertical-align: top;\n",
       "    }\n",
       "\n",
       "    .dataframe thead th {\n",
       "        text-align: right;\n",
       "    }\n",
       "</style>\n",
       "<table border=\"1\" class=\"dataframe\">\n",
       "  <thead>\n",
       "    <tr style=\"text-align: right;\">\n",
       "      <th></th>\n",
       "      <th>Sector</th>\n",
       "      <th>amount_2013</th>\n",
       "      <th>clim_rel_amount_2013</th>\n",
       "      <th>clim_adapt_amount_2013</th>\n",
       "      <th>clim_miti_amount_2013</th>\n",
       "      <th>non_miti_adapt_2013</th>\n",
       "      <th>non_clim_2013</th>\n",
       "      <th>amount_2014</th>\n",
       "      <th>clim_rel_amount_2014</th>\n",
       "      <th>clim_adapt_amount_2014</th>\n",
       "      <th>...</th>\n",
       "      <th>clim_adapt_amount_2021</th>\n",
       "      <th>clim_miti_amount_2021</th>\n",
       "      <th>non_miti_adapt_2021</th>\n",
       "      <th>non_clim_2021</th>\n",
       "      <th>amount_2022</th>\n",
       "      <th>clim_rel_amount_2022</th>\n",
       "      <th>clim_adapt_amount_2022</th>\n",
       "      <th>clim_miti_amount_2022</th>\n",
       "      <th>non_miti_adapt_2022</th>\n",
       "      <th>non_clim_2022</th>\n",
       "    </tr>\n",
       "  </thead>\n",
       "  <tbody>\n",
       "    <tr>\n",
       "      <th>0</th>\n",
       "      <td>I.1.a. Education, Level Unspecified</td>\n",
       "      <td>87245749.0</td>\n",
       "      <td>6281512.0</td>\n",
       "      <td>3838428.0</td>\n",
       "      <td>2443084.0</td>\n",
       "      <td>80964237.0</td>\n",
       "      <td>80964237.0</td>\n",
       "      <td>73771448.0</td>\n",
       "      <td>5642177.0</td>\n",
       "      <td>4251977.5</td>\n",
       "      <td>...</td>\n",
       "      <td>870306.0</td>\n",
       "      <td>666370.5</td>\n",
       "      <td>250891593.5</td>\n",
       "      <td>250891593.5</td>\n",
       "      <td>265014798.0</td>\n",
       "      <td>2829080.0</td>\n",
       "      <td>1364922.0</td>\n",
       "      <td>1464158.0</td>\n",
       "      <td>262185718.0</td>\n",
       "      <td>262185718.0</td>\n",
       "    </tr>\n",
       "    <tr>\n",
       "      <th>1</th>\n",
       "      <td>I.1.b. Basic Education</td>\n",
       "      <td>153930790.0</td>\n",
       "      <td>185663.5</td>\n",
       "      <td>139590.5</td>\n",
       "      <td>46073.0</td>\n",
       "      <td>153745126.5</td>\n",
       "      <td>153745126.5</td>\n",
       "      <td>169047826.0</td>\n",
       "      <td>158667.0</td>\n",
       "      <td>112319.5</td>\n",
       "      <td>...</td>\n",
       "      <td>380428.0</td>\n",
       "      <td>181201.0</td>\n",
       "      <td>269793665.0</td>\n",
       "      <td>269793665.0</td>\n",
       "      <td>237274430.0</td>\n",
       "      <td>830313.5</td>\n",
       "      <td>566782.0</td>\n",
       "      <td>263531.5</td>\n",
       "      <td>236444116.5</td>\n",
       "      <td>236444116.5</td>\n",
       "    </tr>\n",
       "    <tr>\n",
       "      <th>2</th>\n",
       "      <td>I.1.c. Secondary Education</td>\n",
       "      <td>110570602.0</td>\n",
       "      <td>4461417.5</td>\n",
       "      <td>3382913.0</td>\n",
       "      <td>1078504.5</td>\n",
       "      <td>106109184.5</td>\n",
       "      <td>106109184.5</td>\n",
       "      <td>123680119.0</td>\n",
       "      <td>5417927.5</td>\n",
       "      <td>3629494.5</td>\n",
       "      <td>...</td>\n",
       "      <td>18651157.0</td>\n",
       "      <td>6372143.5</td>\n",
       "      <td>313863098.5</td>\n",
       "      <td>313863098.5</td>\n",
       "      <td>336204882.0</td>\n",
       "      <td>24097309.0</td>\n",
       "      <td>17452875.5</td>\n",
       "      <td>6644433.5</td>\n",
       "      <td>312107573.0</td>\n",
       "      <td>312107573.0</td>\n",
       "    </tr>\n",
       "    <tr>\n",
       "      <th>3</th>\n",
       "      <td>I.1.d. Post-Secondary Education</td>\n",
       "      <td>104939416.0</td>\n",
       "      <td>10369314.5</td>\n",
       "      <td>3066040.0</td>\n",
       "      <td>7303274.5</td>\n",
       "      <td>94570101.5</td>\n",
       "      <td>94570101.5</td>\n",
       "      <td>91545807.0</td>\n",
       "      <td>3192433.0</td>\n",
       "      <td>2932055.5</td>\n",
       "      <td>...</td>\n",
       "      <td>2036140.5</td>\n",
       "      <td>2501237.5</td>\n",
       "      <td>95873669.0</td>\n",
       "      <td>95873669.0</td>\n",
       "      <td>107771939.0</td>\n",
       "      <td>5137190.5</td>\n",
       "      <td>1959193.5</td>\n",
       "      <td>3177997.0</td>\n",
       "      <td>102634748.5</td>\n",
       "      <td>102634748.5</td>\n",
       "    </tr>\n",
       "    <tr>\n",
       "      <th>4</th>\n",
       "      <td>I.2.a. Health, General</td>\n",
       "      <td>95765407.0</td>\n",
       "      <td>24583.5</td>\n",
       "      <td>0.0</td>\n",
       "      <td>24583.5</td>\n",
       "      <td>95740823.5</td>\n",
       "      <td>95740823.5</td>\n",
       "      <td>86811676.0</td>\n",
       "      <td>3661154.0</td>\n",
       "      <td>3661154.0</td>\n",
       "      <td>...</td>\n",
       "      <td>843957.0</td>\n",
       "      <td>654806.5</td>\n",
       "      <td>164711020.5</td>\n",
       "      <td>164711020.5</td>\n",
       "      <td>174278158.0</td>\n",
       "      <td>641030.5</td>\n",
       "      <td>493282.0</td>\n",
       "      <td>147748.5</td>\n",
       "      <td>173637127.5</td>\n",
       "      <td>173637127.5</td>\n",
       "    </tr>\n",
       "  </tbody>\n",
       "</table>\n",
       "<p>5 rows × 61 columns</p>\n",
       "</div>"
      ],
      "text/plain": [
       "                                Sector  amount_2013  clim_rel_amount_2013  \\\n",
       "0  I.1.a. Education, Level Unspecified   87245749.0             6281512.0   \n",
       "1               I.1.b. Basic Education  153930790.0              185663.5   \n",
       "2           I.1.c. Secondary Education  110570602.0             4461417.5   \n",
       "3      I.1.d. Post-Secondary Education  104939416.0            10369314.5   \n",
       "4               I.2.a. Health, General   95765407.0               24583.5   \n",
       "\n",
       "   clim_adapt_amount_2013  clim_miti_amount_2013  non_miti_adapt_2013  \\\n",
       "0               3838428.0              2443084.0           80964237.0   \n",
       "1                139590.5                46073.0          153745126.5   \n",
       "2               3382913.0              1078504.5          106109184.5   \n",
       "3               3066040.0              7303274.5           94570101.5   \n",
       "4                     0.0                24583.5           95740823.5   \n",
       "\n",
       "   non_clim_2013  amount_2014  clim_rel_amount_2014  clim_adapt_amount_2014  \\\n",
       "0     80964237.0   73771448.0             5642177.0               4251977.5   \n",
       "1    153745126.5  169047826.0              158667.0                112319.5   \n",
       "2    106109184.5  123680119.0             5417927.5               3629494.5   \n",
       "3     94570101.5   91545807.0             3192433.0               2932055.5   \n",
       "4     95740823.5   86811676.0             3661154.0               3661154.0   \n",
       "\n",
       "   ...  clim_adapt_amount_2021  clim_miti_amount_2021  non_miti_adapt_2021  \\\n",
       "0  ...                870306.0               666370.5          250891593.5   \n",
       "1  ...                380428.0               181201.0          269793665.0   \n",
       "2  ...              18651157.0              6372143.5          313863098.5   \n",
       "3  ...               2036140.5              2501237.5           95873669.0   \n",
       "4  ...                843957.0               654806.5          164711020.5   \n",
       "\n",
       "   non_clim_2021  amount_2022  clim_rel_amount_2022  clim_adapt_amount_2022  \\\n",
       "0    250891593.5  265014798.0             2829080.0               1364922.0   \n",
       "1    269793665.0  237274430.0              830313.5                566782.0   \n",
       "2    313863098.5  336204882.0            24097309.0              17452875.5   \n",
       "3     95873669.0  107771939.0             5137190.5               1959193.5   \n",
       "4    164711020.5  174278158.0              641030.5                493282.0   \n",
       "\n",
       "   clim_miti_amount_2022  non_miti_adapt_2022  non_clim_2022  \n",
       "0              1464158.0          262185718.0    262185718.0  \n",
       "1               263531.5          236444116.5    236444116.5  \n",
       "2              6644433.5          312107573.0    312107573.0  \n",
       "3              3177997.0          102634748.5    102634748.5  \n",
       "4               147748.5          173637127.5    173637127.5  \n",
       "\n",
       "[5 rows x 61 columns]"
      ]
     },
     "execution_count": 209,
     "metadata": {},
     "output_type": "execute_result"
    }
   ],
   "source": [
    "df_merged.head()"
   ]
  },
  {
   "cell_type": "code",
   "execution_count": null,
   "id": "dffb2b50",
   "metadata": {},
   "outputs": [],
   "source": []
  },
  {
   "cell_type": "code",
   "execution_count": 227,
   "id": "02fe4710",
   "metadata": {},
   "outputs": [],
   "source": [
    "a_year_start = [2013, 2014, 2015]\n",
    "b_year_end = [2020,2021, 2022]\n",
    "c_category = [\"Gesamt ODA\", \"Klimarelevant\", \"Klimaschutz\", \"Klimaanpassung\"]\n",
    "d_top_n_sectors = [3,5,10,15]\n",
    "e_abs_or_perc = [\"Absolute Werte\", \"Anteilig\"]"
   ]
  },
  {
   "cell_type": "code",
   "execution_count": 303,
   "id": "d81bc2ec",
   "metadata": {},
   "outputs": [],
   "source": [
    "def stacked_area_chart(full_sector_df, year_start, year_end, category, top_n_sectors, abs_or_perc):\n",
    "    \n",
    "    # Select Category\n",
    "    \n",
    "    translate_dict = {\n",
    "        \"Gesamt ODA\": \"amount\",\n",
    "        \"Klimarelevant\": \"clim_rel\",\n",
    "        \"Klimaschutz\": \"clim_miti\",\n",
    "        \"Klimaanpassung\": \"clim_adapt\"\n",
    "    }\n",
    "    \n",
    "    selected_cols = [col for col in full_sector_df.columns if col.startswith(translate_dict[category])]\n",
    "    selected_cols.append('Sector')\n",
    "    filtered_col_df = full_sector_df[selected_cols]\n",
    "    \n",
    "    # Select Top_N\n",
    "    \n",
    "    sector_avg = filtered_col_df.melt(id_vars=['Sector'], var_name='Year', value_name='Amount').groupby('Sector').mean()\n",
    "    top_sectors = sector_avg['Amount'].nlargest(top_n_sectors).index.tolist()\n",
    "    filtered_col_df['Grouped Sector'] = filtered_col_df['Sector'].apply(lambda x: x if x in top_sectors else 'Andere Sektoren')\n",
    "    grouped_df = filtered_col_df.groupby('Grouped Sector').sum().reset_index()\n",
    "    \n",
    "    # Prepare for Plotting\n",
    "    \n",
    "    long_df = grouped_df.melt(id_vars=['Grouped Sector'], var_name='Year', value_name='Amount')\n",
    "    long_df['Year'] = long_df['Year'].str.extract('(\\d+)')\n",
    "    long_df['Year'] = pd.to_numeric(long_df['Year'])\n",
    "    \n",
    "    # Year Select\n",
    "    \n",
    "    long_df = long_df[long_df['Year'].between(year_start,year_end)]\n",
    "    \n",
    "    # Option for Percentage Plot\n",
    "    \n",
    "    if abs_or_perc == 'percent':\n",
    "        \n",
    "        # Calculate Percent\n",
    "        \n",
    "        total_per_year = long_df.groupby('Year')['Amount'].sum().reset_index(name='Total')\n",
    "        long_df = pd.merge(long_df, total_per_year, on='Year')\n",
    "        long_df['Percentage'] = (long_df['Amount'] / long_df['Total']) * 100\n",
    "        \n",
    "        # Create a filled area plot\n",
    "\n",
    "        fig = px.area(long_df, x='Year', y='Percentage', color='Grouped Sector',\n",
    "                      labels={'Percentage': 'Percentage of Total'},\n",
    "                      title='Stacked Area Plot of Grouped Sector as Percentage of Total per Year')\n",
    "\n",
    "        fig.update_layout(\n",
    "            paper_bgcolor='white',\n",
    "            plot_bgcolor='white',\n",
    "            xaxis=dict(showgrid=False),\n",
    "            yaxis=dict(showgrid=False, ticksuffix=\"%\")  # Add a percentage sign to y-axis ticks\n",
    "        )\n",
    "\n",
    "    \n",
    "        return fig\n",
    "\n",
    "    # Create a filled area plot\n",
    "    \n",
    "    fig = px.area(long_df, x='Year', y='Amount', color='Grouped Sector')\n",
    "    fig.update_layout(\n",
    "        paper_bgcolor='white',\n",
    "        plot_bgcolor='white',\n",
    "        )\n",
    "    \n",
    "    return fig\n",
    "    \n",
    "    \n",
    "    \n",
    "    "
   ]
  },
  {
   "cell_type": "code",
   "execution_count": 311,
   "id": "e94b4b37",
   "metadata": {},
   "outputs": [],
   "source": [
    "sector_anal_df = pd.read_csv('../upload_data/sector_analysis.csv')\n",
    "\n",
    "def stacked_area_chart(full_sector_df, year_start, year_end, category, top_n_sectors, abs_or_perc):\n",
    "    \n",
    "    # Select Category\n",
    "    \n",
    "    translate_dict = {\n",
    "        \"Gesamt ODA\": \"amount\",\n",
    "        \"Klimarelevant\": \"clim_rel\",\n",
    "        \"Klimaschutz\": \"clim_miti\",\n",
    "        \"Klimaanpassung\": \"clim_adapt\"\n",
    "    }\n",
    "    \n",
    "    selected_cols = [col for col in full_sector_df.columns if col.startswith(translate_dict[category])]\n",
    "    selected_cols.append('Sector')\n",
    "    filtered_col_df = full_sector_df[selected_cols]\n",
    "        \n",
    "    # Select Top_N\n",
    "    \n",
    "    sector_avg = filtered_col_df.melt(id_vars=['Sector'], var_name='Year', value_name='Amount').groupby('Sector').mean()\n",
    "    top_sectors = sector_avg['Amount'].nlargest(top_n_sectors).index.tolist()\n",
    "    filtered_col_df['Grouped Sector'] = filtered_col_df['Sector'].apply(lambda x: x if x in top_sectors else 'Andere Sektoren')\n",
    "    grouped_df = filtered_col_df.groupby('Grouped Sector').sum().reset_index()\n",
    "\n",
    "    \n",
    "    # Prepare for Plotting\n",
    "    \n",
    "    long_df = grouped_df.melt(id_vars=['Grouped Sector'], var_name='Year', value_name='Amount')\n",
    "    long_df['Year'] = long_df['Year'].str.extract('(\\d+)')\n",
    "    long_df['Year'] = pd.to_numeric(long_df['Year'])\n",
    "    \n",
    "    return long_df\n",
    "\n",
    "    \n",
    "    # Year Select\n",
    "    \n",
    "    long_df = long_df[long_df['Year'].between(year_start,year_end)]\n",
    "    \n",
    "    # Option for Percentage Plot\n",
    "    \n",
    "    if abs_or_perc == 'Anteilig':\n",
    "        \n",
    "        # Calculate Percent\n",
    "        \n",
    "        total_per_year = long_df.groupby('Year')['Amount'].sum().reset_index(name='Total')\n",
    "        long_df = pd.merge(long_df, total_per_year, on='Year')\n",
    "        long_df['Percentage'] = (long_df['Amount'] / long_df['Total']) * 100\n",
    "        \n",
    "        # Create a filled area plot\n",
    "\n",
    "        fig = px.area(long_df, x='Year', y='Percentage', color='Grouped Sector',\n",
    "                      labels={'Percentage': 'Percentage of Total'},\n",
    "                      title='Stacked Area Plot of Grouped Sector as Percentage of Total per Year')\n",
    "\n",
    "        fig.update_layout(\n",
    "            paper_bgcolor='white',\n",
    "            plot_bgcolor='white',\n",
    "            xaxis=dict(showgrid=False),\n",
    "            yaxis=dict(showgrid=False, ticksuffix=\"%\")  # Add a percentage sign to y-axis ticks\n",
    "        )\n",
    "\n",
    "    \n",
    "        return fig\n",
    "\n",
    "    # Create a filled area plot\n",
    "    \n",
    "    fig = px.area(long_df, x='Year', y='Amount', color='Grouped Sector')\n",
    "    fig.update_layout(\n",
    "        paper_bgcolor='white',\n",
    "        plot_bgcolor='white',\n",
    "        )\n",
    "    \n",
    "    return fig\n",
    "\n"
   ]
  },
  {
   "cell_type": "code",
   "execution_count": 312,
   "id": "f8224785",
   "metadata": {},
   "outputs": [
    {
     "data": {
      "text/html": [
       "<div>\n",
       "<style scoped>\n",
       "    .dataframe tbody tr th:only-of-type {\n",
       "        vertical-align: middle;\n",
       "    }\n",
       "\n",
       "    .dataframe tbody tr th {\n",
       "        vertical-align: top;\n",
       "    }\n",
       "\n",
       "    .dataframe thead th {\n",
       "        text-align: right;\n",
       "    }\n",
       "</style>\n",
       "<table border=\"1\" class=\"dataframe\">\n",
       "  <thead>\n",
       "    <tr style=\"text-align: right;\">\n",
       "      <th></th>\n",
       "      <th>Grouped Sector</th>\n",
       "      <th>Year</th>\n",
       "      <th>Amount</th>\n",
       "    </tr>\n",
       "  </thead>\n",
       "  <tbody>\n",
       "    <tr>\n",
       "      <th>0</th>\n",
       "      <td>Andere Sektoren</td>\n",
       "      <td>2013</td>\n",
       "      <td>3.125743e+09</td>\n",
       "    </tr>\n",
       "    <tr>\n",
       "      <th>1</th>\n",
       "      <td>I.5.a. Government &amp; Civil Society-general</td>\n",
       "      <td>2013</td>\n",
       "      <td>7.913002e+08</td>\n",
       "    </tr>\n",
       "    <tr>\n",
       "      <th>2</th>\n",
       "      <td>I.6. Other Social Infrastructure &amp; Services</td>\n",
       "      <td>2013</td>\n",
       "      <td>8.745827e+07</td>\n",
       "    </tr>\n",
       "    <tr>\n",
       "      <th>3</th>\n",
       "      <td>III.1.a. Agriculture</td>\n",
       "      <td>2013</td>\n",
       "      <td>2.176680e+08</td>\n",
       "    </tr>\n",
       "    <tr>\n",
       "      <th>4</th>\n",
       "      <td>IV.1. General Environment Protection</td>\n",
       "      <td>2013</td>\n",
       "      <td>3.058654e+08</td>\n",
       "    </tr>\n",
       "    <tr>\n",
       "      <th>5</th>\n",
       "      <td>IV.2. Other Multisector</td>\n",
       "      <td>2013</td>\n",
       "      <td>5.877497e+08</td>\n",
       "    </tr>\n",
       "    <tr>\n",
       "      <th>6</th>\n",
       "      <td>Andere Sektoren</td>\n",
       "      <td>2014</td>\n",
       "      <td>4.053460e+09</td>\n",
       "    </tr>\n",
       "    <tr>\n",
       "      <th>7</th>\n",
       "      <td>I.5.a. Government &amp; Civil Society-general</td>\n",
       "      <td>2014</td>\n",
       "      <td>8.870652e+08</td>\n",
       "    </tr>\n",
       "    <tr>\n",
       "      <th>8</th>\n",
       "      <td>I.6. Other Social Infrastructure &amp; Services</td>\n",
       "      <td>2014</td>\n",
       "      <td>9.371650e+07</td>\n",
       "    </tr>\n",
       "    <tr>\n",
       "      <th>9</th>\n",
       "      <td>III.1.a. Agriculture</td>\n",
       "      <td>2014</td>\n",
       "      <td>2.866558e+08</td>\n",
       "    </tr>\n",
       "    <tr>\n",
       "      <th>10</th>\n",
       "      <td>IV.1. General Environment Protection</td>\n",
       "      <td>2014</td>\n",
       "      <td>4.182439e+08</td>\n",
       "    </tr>\n",
       "    <tr>\n",
       "      <th>11</th>\n",
       "      <td>IV.2. Other Multisector</td>\n",
       "      <td>2014</td>\n",
       "      <td>5.839782e+08</td>\n",
       "    </tr>\n",
       "    <tr>\n",
       "      <th>12</th>\n",
       "      <td>Andere Sektoren</td>\n",
       "      <td>2015</td>\n",
       "      <td>3.146201e+09</td>\n",
       "    </tr>\n",
       "    <tr>\n",
       "      <th>13</th>\n",
       "      <td>I.5.a. Government &amp; Civil Society-general</td>\n",
       "      <td>2015</td>\n",
       "      <td>8.016398e+08</td>\n",
       "    </tr>\n",
       "    <tr>\n",
       "      <th>14</th>\n",
       "      <td>I.6. Other Social Infrastructure &amp; Services</td>\n",
       "      <td>2015</td>\n",
       "      <td>9.645672e+07</td>\n",
       "    </tr>\n",
       "    <tr>\n",
       "      <th>15</th>\n",
       "      <td>III.1.a. Agriculture</td>\n",
       "      <td>2015</td>\n",
       "      <td>3.166223e+08</td>\n",
       "    </tr>\n",
       "    <tr>\n",
       "      <th>16</th>\n",
       "      <td>IV.1. General Environment Protection</td>\n",
       "      <td>2015</td>\n",
       "      <td>3.462858e+08</td>\n",
       "    </tr>\n",
       "    <tr>\n",
       "      <th>17</th>\n",
       "      <td>IV.2. Other Multisector</td>\n",
       "      <td>2015</td>\n",
       "      <td>6.092974e+08</td>\n",
       "    </tr>\n",
       "    <tr>\n",
       "      <th>18</th>\n",
       "      <td>Andere Sektoren</td>\n",
       "      <td>2016</td>\n",
       "      <td>4.034472e+09</td>\n",
       "    </tr>\n",
       "    <tr>\n",
       "      <th>19</th>\n",
       "      <td>I.5.a. Government &amp; Civil Society-general</td>\n",
       "      <td>2016</td>\n",
       "      <td>1.024218e+09</td>\n",
       "    </tr>\n",
       "    <tr>\n",
       "      <th>20</th>\n",
       "      <td>I.6. Other Social Infrastructure &amp; Services</td>\n",
       "      <td>2016</td>\n",
       "      <td>1.181726e+08</td>\n",
       "    </tr>\n",
       "    <tr>\n",
       "      <th>21</th>\n",
       "      <td>III.1.a. Agriculture</td>\n",
       "      <td>2016</td>\n",
       "      <td>4.173994e+08</td>\n",
       "    </tr>\n",
       "    <tr>\n",
       "      <th>22</th>\n",
       "      <td>IV.1. General Environment Protection</td>\n",
       "      <td>2016</td>\n",
       "      <td>6.223747e+08</td>\n",
       "    </tr>\n",
       "    <tr>\n",
       "      <th>23</th>\n",
       "      <td>IV.2. Other Multisector</td>\n",
       "      <td>2016</td>\n",
       "      <td>6.803718e+08</td>\n",
       "    </tr>\n",
       "    <tr>\n",
       "      <th>24</th>\n",
       "      <td>Andere Sektoren</td>\n",
       "      <td>2017</td>\n",
       "      <td>4.403199e+09</td>\n",
       "    </tr>\n",
       "    <tr>\n",
       "      <th>25</th>\n",
       "      <td>I.5.a. Government &amp; Civil Society-general</td>\n",
       "      <td>2017</td>\n",
       "      <td>9.647258e+08</td>\n",
       "    </tr>\n",
       "    <tr>\n",
       "      <th>26</th>\n",
       "      <td>I.6. Other Social Infrastructure &amp; Services</td>\n",
       "      <td>2017</td>\n",
       "      <td>1.621206e+08</td>\n",
       "    </tr>\n",
       "    <tr>\n",
       "      <th>27</th>\n",
       "      <td>III.1.a. Agriculture</td>\n",
       "      <td>2017</td>\n",
       "      <td>4.215843e+08</td>\n",
       "    </tr>\n",
       "    <tr>\n",
       "      <th>28</th>\n",
       "      <td>IV.1. General Environment Protection</td>\n",
       "      <td>2017</td>\n",
       "      <td>5.699798e+08</td>\n",
       "    </tr>\n",
       "    <tr>\n",
       "      <th>29</th>\n",
       "      <td>IV.2. Other Multisector</td>\n",
       "      <td>2017</td>\n",
       "      <td>6.830771e+08</td>\n",
       "    </tr>\n",
       "    <tr>\n",
       "      <th>30</th>\n",
       "      <td>Andere Sektoren</td>\n",
       "      <td>2018</td>\n",
       "      <td>4.795394e+09</td>\n",
       "    </tr>\n",
       "    <tr>\n",
       "      <th>31</th>\n",
       "      <td>I.5.a. Government &amp; Civil Society-general</td>\n",
       "      <td>2018</td>\n",
       "      <td>1.056657e+09</td>\n",
       "    </tr>\n",
       "    <tr>\n",
       "      <th>32</th>\n",
       "      <td>I.6. Other Social Infrastructure &amp; Services</td>\n",
       "      <td>2018</td>\n",
       "      <td>2.351798e+08</td>\n",
       "    </tr>\n",
       "    <tr>\n",
       "      <th>33</th>\n",
       "      <td>III.1.a. Agriculture</td>\n",
       "      <td>2018</td>\n",
       "      <td>5.344324e+08</td>\n",
       "    </tr>\n",
       "    <tr>\n",
       "      <th>34</th>\n",
       "      <td>IV.1. General Environment Protection</td>\n",
       "      <td>2018</td>\n",
       "      <td>5.849749e+08</td>\n",
       "    </tr>\n",
       "    <tr>\n",
       "      <th>35</th>\n",
       "      <td>IV.2. Other Multisector</td>\n",
       "      <td>2018</td>\n",
       "      <td>8.060537e+08</td>\n",
       "    </tr>\n",
       "    <tr>\n",
       "      <th>36</th>\n",
       "      <td>Andere Sektoren</td>\n",
       "      <td>2019</td>\n",
       "      <td>4.902822e+09</td>\n",
       "    </tr>\n",
       "    <tr>\n",
       "      <th>37</th>\n",
       "      <td>I.5.a. Government &amp; Civil Society-general</td>\n",
       "      <td>2019</td>\n",
       "      <td>1.125044e+09</td>\n",
       "    </tr>\n",
       "    <tr>\n",
       "      <th>38</th>\n",
       "      <td>I.6. Other Social Infrastructure &amp; Services</td>\n",
       "      <td>2019</td>\n",
       "      <td>5.044836e+08</td>\n",
       "    </tr>\n",
       "    <tr>\n",
       "      <th>39</th>\n",
       "      <td>III.1.a. Agriculture</td>\n",
       "      <td>2019</td>\n",
       "      <td>5.691985e+08</td>\n",
       "    </tr>\n",
       "    <tr>\n",
       "      <th>40</th>\n",
       "      <td>IV.1. General Environment Protection</td>\n",
       "      <td>2019</td>\n",
       "      <td>5.838662e+08</td>\n",
       "    </tr>\n",
       "    <tr>\n",
       "      <th>41</th>\n",
       "      <td>IV.2. Other Multisector</td>\n",
       "      <td>2019</td>\n",
       "      <td>9.471677e+08</td>\n",
       "    </tr>\n",
       "    <tr>\n",
       "      <th>42</th>\n",
       "      <td>Andere Sektoren</td>\n",
       "      <td>2020</td>\n",
       "      <td>5.787003e+09</td>\n",
       "    </tr>\n",
       "    <tr>\n",
       "      <th>43</th>\n",
       "      <td>I.5.a. Government &amp; Civil Society-general</td>\n",
       "      <td>2020</td>\n",
       "      <td>1.140884e+09</td>\n",
       "    </tr>\n",
       "    <tr>\n",
       "      <th>44</th>\n",
       "      <td>I.6. Other Social Infrastructure &amp; Services</td>\n",
       "      <td>2020</td>\n",
       "      <td>8.841764e+08</td>\n",
       "    </tr>\n",
       "    <tr>\n",
       "      <th>45</th>\n",
       "      <td>III.1.a. Agriculture</td>\n",
       "      <td>2020</td>\n",
       "      <td>9.092159e+08</td>\n",
       "    </tr>\n",
       "    <tr>\n",
       "      <th>46</th>\n",
       "      <td>IV.1. General Environment Protection</td>\n",
       "      <td>2020</td>\n",
       "      <td>5.350653e+08</td>\n",
       "    </tr>\n",
       "    <tr>\n",
       "      <th>47</th>\n",
       "      <td>IV.2. Other Multisector</td>\n",
       "      <td>2020</td>\n",
       "      <td>1.038363e+09</td>\n",
       "    </tr>\n",
       "    <tr>\n",
       "      <th>48</th>\n",
       "      <td>Andere Sektoren</td>\n",
       "      <td>2021</td>\n",
       "      <td>5.906573e+09</td>\n",
       "    </tr>\n",
       "    <tr>\n",
       "      <th>49</th>\n",
       "      <td>I.5.a. Government &amp; Civil Society-general</td>\n",
       "      <td>2021</td>\n",
       "      <td>1.388026e+09</td>\n",
       "    </tr>\n",
       "    <tr>\n",
       "      <th>50</th>\n",
       "      <td>I.6. Other Social Infrastructure &amp; Services</td>\n",
       "      <td>2021</td>\n",
       "      <td>8.619055e+08</td>\n",
       "    </tr>\n",
       "    <tr>\n",
       "      <th>51</th>\n",
       "      <td>III.1.a. Agriculture</td>\n",
       "      <td>2021</td>\n",
       "      <td>6.307028e+08</td>\n",
       "    </tr>\n",
       "    <tr>\n",
       "      <th>52</th>\n",
       "      <td>IV.1. General Environment Protection</td>\n",
       "      <td>2021</td>\n",
       "      <td>7.146960e+08</td>\n",
       "    </tr>\n",
       "    <tr>\n",
       "      <th>53</th>\n",
       "      <td>IV.2. Other Multisector</td>\n",
       "      <td>2021</td>\n",
       "      <td>1.091512e+09</td>\n",
       "    </tr>\n",
       "    <tr>\n",
       "      <th>54</th>\n",
       "      <td>Andere Sektoren</td>\n",
       "      <td>2022</td>\n",
       "      <td>6.379334e+09</td>\n",
       "    </tr>\n",
       "    <tr>\n",
       "      <th>55</th>\n",
       "      <td>I.5.a. Government &amp; Civil Society-general</td>\n",
       "      <td>2022</td>\n",
       "      <td>1.145697e+09</td>\n",
       "    </tr>\n",
       "    <tr>\n",
       "      <th>56</th>\n",
       "      <td>I.6. Other Social Infrastructure &amp; Services</td>\n",
       "      <td>2022</td>\n",
       "      <td>1.206424e+09</td>\n",
       "    </tr>\n",
       "    <tr>\n",
       "      <th>57</th>\n",
       "      <td>III.1.a. Agriculture</td>\n",
       "      <td>2022</td>\n",
       "      <td>1.065854e+09</td>\n",
       "    </tr>\n",
       "    <tr>\n",
       "      <th>58</th>\n",
       "      <td>IV.1. General Environment Protection</td>\n",
       "      <td>2022</td>\n",
       "      <td>4.968348e+08</td>\n",
       "    </tr>\n",
       "    <tr>\n",
       "      <th>59</th>\n",
       "      <td>IV.2. Other Multisector</td>\n",
       "      <td>2022</td>\n",
       "      <td>1.158110e+09</td>\n",
       "    </tr>\n",
       "  </tbody>\n",
       "</table>\n",
       "</div>"
      ],
      "text/plain": [
       "                                 Grouped Sector  Year        Amount\n",
       "0                               Andere Sektoren  2013  3.125743e+09\n",
       "1     I.5.a. Government & Civil Society-general  2013  7.913002e+08\n",
       "2   I.6. Other Social Infrastructure & Services  2013  8.745827e+07\n",
       "3                          III.1.a. Agriculture  2013  2.176680e+08\n",
       "4          IV.1. General Environment Protection  2013  3.058654e+08\n",
       "5                       IV.2. Other Multisector  2013  5.877497e+08\n",
       "6                               Andere Sektoren  2014  4.053460e+09\n",
       "7     I.5.a. Government & Civil Society-general  2014  8.870652e+08\n",
       "8   I.6. Other Social Infrastructure & Services  2014  9.371650e+07\n",
       "9                          III.1.a. Agriculture  2014  2.866558e+08\n",
       "10         IV.1. General Environment Protection  2014  4.182439e+08\n",
       "11                      IV.2. Other Multisector  2014  5.839782e+08\n",
       "12                              Andere Sektoren  2015  3.146201e+09\n",
       "13    I.5.a. Government & Civil Society-general  2015  8.016398e+08\n",
       "14  I.6. Other Social Infrastructure & Services  2015  9.645672e+07\n",
       "15                         III.1.a. Agriculture  2015  3.166223e+08\n",
       "16         IV.1. General Environment Protection  2015  3.462858e+08\n",
       "17                      IV.2. Other Multisector  2015  6.092974e+08\n",
       "18                              Andere Sektoren  2016  4.034472e+09\n",
       "19    I.5.a. Government & Civil Society-general  2016  1.024218e+09\n",
       "20  I.6. Other Social Infrastructure & Services  2016  1.181726e+08\n",
       "21                         III.1.a. Agriculture  2016  4.173994e+08\n",
       "22         IV.1. General Environment Protection  2016  6.223747e+08\n",
       "23                      IV.2. Other Multisector  2016  6.803718e+08\n",
       "24                              Andere Sektoren  2017  4.403199e+09\n",
       "25    I.5.a. Government & Civil Society-general  2017  9.647258e+08\n",
       "26  I.6. Other Social Infrastructure & Services  2017  1.621206e+08\n",
       "27                         III.1.a. Agriculture  2017  4.215843e+08\n",
       "28         IV.1. General Environment Protection  2017  5.699798e+08\n",
       "29                      IV.2. Other Multisector  2017  6.830771e+08\n",
       "30                              Andere Sektoren  2018  4.795394e+09\n",
       "31    I.5.a. Government & Civil Society-general  2018  1.056657e+09\n",
       "32  I.6. Other Social Infrastructure & Services  2018  2.351798e+08\n",
       "33                         III.1.a. Agriculture  2018  5.344324e+08\n",
       "34         IV.1. General Environment Protection  2018  5.849749e+08\n",
       "35                      IV.2. Other Multisector  2018  8.060537e+08\n",
       "36                              Andere Sektoren  2019  4.902822e+09\n",
       "37    I.5.a. Government & Civil Society-general  2019  1.125044e+09\n",
       "38  I.6. Other Social Infrastructure & Services  2019  5.044836e+08\n",
       "39                         III.1.a. Agriculture  2019  5.691985e+08\n",
       "40         IV.1. General Environment Protection  2019  5.838662e+08\n",
       "41                      IV.2. Other Multisector  2019  9.471677e+08\n",
       "42                              Andere Sektoren  2020  5.787003e+09\n",
       "43    I.5.a. Government & Civil Society-general  2020  1.140884e+09\n",
       "44  I.6. Other Social Infrastructure & Services  2020  8.841764e+08\n",
       "45                         III.1.a. Agriculture  2020  9.092159e+08\n",
       "46         IV.1. General Environment Protection  2020  5.350653e+08\n",
       "47                      IV.2. Other Multisector  2020  1.038363e+09\n",
       "48                              Andere Sektoren  2021  5.906573e+09\n",
       "49    I.5.a. Government & Civil Society-general  2021  1.388026e+09\n",
       "50  I.6. Other Social Infrastructure & Services  2021  8.619055e+08\n",
       "51                         III.1.a. Agriculture  2021  6.307028e+08\n",
       "52         IV.1. General Environment Protection  2021  7.146960e+08\n",
       "53                      IV.2. Other Multisector  2021  1.091512e+09\n",
       "54                              Andere Sektoren  2022  6.379334e+09\n",
       "55    I.5.a. Government & Civil Society-general  2022  1.145697e+09\n",
       "56  I.6. Other Social Infrastructure & Services  2022  1.206424e+09\n",
       "57                         III.1.a. Agriculture  2022  1.065854e+09\n",
       "58         IV.1. General Environment Protection  2022  4.968348e+08\n",
       "59                      IV.2. Other Multisector  2022  1.158110e+09"
      ]
     },
     "execution_count": 312,
     "metadata": {},
     "output_type": "execute_result"
    }
   ],
   "source": [
    "showfig = stacked_area_chart(sector_anal_df, 2014, 2021, \"Gesamt ODA\", 5, \"Anteilig\")\n",
    "showfig"
   ]
  },
  {
   "cell_type": "code",
   "execution_count": 295,
   "id": "1fff76b2",
   "metadata": {},
   "outputs": [
    {
     "data": {
      "text/plain": [
       "Index(['amount_2013', 'amount_2014', 'amount_2015', 'amount_2016',\n",
       "       'amount_2017', 'amount_2018', 'amount_2019', 'amount_2020',\n",
       "       'amount_2021', 'amount_2022', 'Sector'],\n",
       "      dtype='object')"
      ]
     },
     "execution_count": 295,
     "metadata": {},
     "output_type": "execute_result"
    }
   ],
   "source": [
    "showfig.columns"
   ]
  },
  {
   "cell_type": "code",
   "execution_count": 301,
   "id": "ec2d8df6",
   "metadata": {},
   "outputs": [
    {
     "data": {
      "text/html": [
       "<div>\n",
       "<style scoped>\n",
       "    .dataframe tbody tr th:only-of-type {\n",
       "        vertical-align: middle;\n",
       "    }\n",
       "\n",
       "    .dataframe tbody tr th {\n",
       "        vertical-align: top;\n",
       "    }\n",
       "\n",
       "    .dataframe thead th {\n",
       "        text-align: right;\n",
       "    }\n",
       "</style>\n",
       "<table border=\"1\" class=\"dataframe\">\n",
       "  <thead>\n",
       "    <tr style=\"text-align: right;\">\n",
       "      <th></th>\n",
       "      <th>Amount</th>\n",
       "    </tr>\n",
       "    <tr>\n",
       "      <th>Sector</th>\n",
       "      <th></th>\n",
       "    </tr>\n",
       "  </thead>\n",
       "  <tbody>\n",
       "    <tr>\n",
       "      <th>I.1.a. Education, Level Unspecified</th>\n",
       "      <td>1.453964e+08</td>\n",
       "    </tr>\n",
       "    <tr>\n",
       "      <th>I.1.b. Basic Education</th>\n",
       "      <td>2.331104e+08</td>\n",
       "    </tr>\n",
       "    <tr>\n",
       "      <th>I.1.c. Secondary Education</th>\n",
       "      <td>2.315269e+08</td>\n",
       "    </tr>\n",
       "    <tr>\n",
       "      <th>I.1.d. Post-Secondary Education</th>\n",
       "      <td>9.926801e+07</td>\n",
       "    </tr>\n",
       "    <tr>\n",
       "      <th>I.2.a. Health, General</th>\n",
       "      <td>1.212209e+08</td>\n",
       "    </tr>\n",
       "    <tr>\n",
       "      <th>I.2.b. Basic Health</th>\n",
       "      <td>3.699082e+08</td>\n",
       "    </tr>\n",
       "    <tr>\n",
       "      <th>I.2.c. Non-communicable diseases (NCDs)</th>\n",
       "      <td>1.809513e+07</td>\n",
       "    </tr>\n",
       "    <tr>\n",
       "      <th>I.3. Population Policies/Programmes &amp; Reproductive Health</th>\n",
       "      <td>1.635230e+08</td>\n",
       "    </tr>\n",
       "    <tr>\n",
       "      <th>I.4. Water Supply &amp; Sanitation</th>\n",
       "      <td>4.237881e+08</td>\n",
       "    </tr>\n",
       "    <tr>\n",
       "      <th>I.5.a. Government &amp; Civil Society-general</th>\n",
       "      <td>1.032526e+09</td>\n",
       "    </tr>\n",
       "    <tr>\n",
       "      <th>I.5.b. Conflict, Peace &amp; Security</th>\n",
       "      <td>2.463075e+08</td>\n",
       "    </tr>\n",
       "    <tr>\n",
       "      <th>I.6. Other Social Infrastructure &amp; Services</th>\n",
       "      <td>4.250094e+08</td>\n",
       "    </tr>\n",
       "    <tr>\n",
       "      <th>II.1. Transport &amp; Storage</th>\n",
       "      <td>5.758307e+07</td>\n",
       "    </tr>\n",
       "    <tr>\n",
       "      <th>II.2. Communications</th>\n",
       "      <td>1.845663e+07</td>\n",
       "    </tr>\n",
       "    <tr>\n",
       "      <th>II.3.a. Energy Policy</th>\n",
       "      <td>8.754323e+07</td>\n",
       "    </tr>\n",
       "    <tr>\n",
       "      <th>II.3.b. Energy generation, renewable sources</th>\n",
       "      <td>2.228685e+08</td>\n",
       "    </tr>\n",
       "    <tr>\n",
       "      <th>II.3.c. Energy generation, non-renewable sources</th>\n",
       "      <td>3.277746e+06</td>\n",
       "    </tr>\n",
       "    <tr>\n",
       "      <th>II.3.d. Hybrid energy plants</th>\n",
       "      <td>1.935392e+06</td>\n",
       "    </tr>\n",
       "    <tr>\n",
       "      <th>II.3.f. Energy distribution</th>\n",
       "      <td>7.664537e+07</td>\n",
       "    </tr>\n",
       "    <tr>\n",
       "      <th>II.4. Banking &amp; Financial Services</th>\n",
       "      <td>3.681179e+08</td>\n",
       "    </tr>\n",
       "    <tr>\n",
       "      <th>II.5. Business &amp; Other Services</th>\n",
       "      <td>3.299368e+08</td>\n",
       "    </tr>\n",
       "    <tr>\n",
       "      <th>III.1.a. Agriculture</th>\n",
       "      <td>5.369334e+08</td>\n",
       "    </tr>\n",
       "    <tr>\n",
       "      <th>III.1.b. Forestry</th>\n",
       "      <td>1.092972e+08</td>\n",
       "    </tr>\n",
       "    <tr>\n",
       "      <th>III.1.c. Fishing</th>\n",
       "      <td>1.458166e+07</td>\n",
       "    </tr>\n",
       "    <tr>\n",
       "      <th>III.2.a. Industry</th>\n",
       "      <td>1.446784e+08</td>\n",
       "    </tr>\n",
       "    <tr>\n",
       "      <th>III.2.b. Mineral Resources &amp; Mining</th>\n",
       "      <td>1.723680e+07</td>\n",
       "    </tr>\n",
       "    <tr>\n",
       "      <th>III.2.c. Construction</th>\n",
       "      <td>4.685338e+05</td>\n",
       "    </tr>\n",
       "    <tr>\n",
       "      <th>III.3.a. Trade Policies &amp; Regulations</th>\n",
       "      <td>5.682933e+07</td>\n",
       "    </tr>\n",
       "    <tr>\n",
       "      <th>III.3.b. Tourism</th>\n",
       "      <td>1.781064e+06</td>\n",
       "    </tr>\n",
       "    <tr>\n",
       "      <th>IV.1. General Environment Protection</th>\n",
       "      <td>5.178187e+08</td>\n",
       "    </tr>\n",
       "    <tr>\n",
       "      <th>IV.2. Other Multisector</th>\n",
       "      <td>8.185680e+08</td>\n",
       "    </tr>\n",
       "    <tr>\n",
       "      <th>IX. Unallocated / Unspecified</th>\n",
       "      <td>1.410922e+08</td>\n",
       "    </tr>\n",
       "    <tr>\n",
       "      <th>VI.1. General Budget Support</th>\n",
       "      <td>1.413278e+07</td>\n",
       "    </tr>\n",
       "    <tr>\n",
       "      <th>VI.2. Development Food Assistance</th>\n",
       "      <td>2.925448e+08</td>\n",
       "    </tr>\n",
       "    <tr>\n",
       "      <th>VII. Action Relating to Debt</th>\n",
       "      <td>2.219467e+08</td>\n",
       "    </tr>\n",
       "    <tr>\n",
       "      <th>VIII.1. Emergency Response</th>\n",
       "      <td>1.018982e+08</td>\n",
       "    </tr>\n",
       "    <tr>\n",
       "      <th>VIII.2. Reconstruction Relief &amp; Rehabilitation</th>\n",
       "      <td>3.316819e+08</td>\n",
       "    </tr>\n",
       "    <tr>\n",
       "      <th>VIII.3. Disaster Prevention &amp; Preparedness</th>\n",
       "      <td>2.504155e+07</td>\n",
       "    </tr>\n",
       "  </tbody>\n",
       "</table>\n",
       "</div>"
      ],
      "text/plain": [
       "                                                          Amount\n",
       "Sector                                                          \n",
       "I.1.a. Education, Level Unspecified                 1.453964e+08\n",
       "I.1.b. Basic Education                              2.331104e+08\n",
       "I.1.c. Secondary Education                          2.315269e+08\n",
       "I.1.d. Post-Secondary Education                     9.926801e+07\n",
       "I.2.a. Health, General                              1.212209e+08\n",
       "I.2.b. Basic Health                                 3.699082e+08\n",
       "I.2.c. Non-communicable diseases (NCDs)             1.809513e+07\n",
       "I.3. Population Policies/Programmes & Reproduct...  1.635230e+08\n",
       "I.4. Water Supply & Sanitation                      4.237881e+08\n",
       "I.5.a. Government & Civil Society-general           1.032526e+09\n",
       "I.5.b. Conflict, Peace & Security                   2.463075e+08\n",
       "I.6. Other Social Infrastructure & Services         4.250094e+08\n",
       "II.1. Transport & Storage                           5.758307e+07\n",
       "II.2. Communications                                1.845663e+07\n",
       "II.3.a. Energy Policy                               8.754323e+07\n",
       "II.3.b. Energy generation, renewable sources        2.228685e+08\n",
       "II.3.c. Energy generation, non-renewable sources    3.277746e+06\n",
       "II.3.d. Hybrid energy plants                        1.935392e+06\n",
       "II.3.f. Energy distribution                         7.664537e+07\n",
       "II.4. Banking & Financial Services                  3.681179e+08\n",
       "II.5. Business & Other Services                     3.299368e+08\n",
       "III.1.a. Agriculture                                5.369334e+08\n",
       "III.1.b. Forestry                                   1.092972e+08\n",
       "III.1.c. Fishing                                    1.458166e+07\n",
       "III.2.a. Industry                                   1.446784e+08\n",
       "III.2.b. Mineral Resources & Mining                 1.723680e+07\n",
       "III.2.c. Construction                               4.685338e+05\n",
       "III.3.a. Trade Policies & Regulations               5.682933e+07\n",
       "III.3.b. Tourism                                    1.781064e+06\n",
       "IV.1. General Environment Protection                5.178187e+08\n",
       "IV.2. Other Multisector                             8.185680e+08\n",
       "IX. Unallocated / Unspecified                       1.410922e+08\n",
       "VI.1. General Budget Support                        1.413278e+07\n",
       "VI.2. Development Food Assistance                   2.925448e+08\n",
       "VII. Action Relating to Debt                        2.219467e+08\n",
       "VIII.1. Emergency Response                          1.018982e+08\n",
       "VIII.2. Reconstruction Relief & Rehabilitation      3.316819e+08\n",
       "VIII.3. Disaster Prevention & Preparedness          2.504155e+07"
      ]
     },
     "execution_count": 301,
     "metadata": {},
     "output_type": "execute_result"
    }
   ],
   "source": [
    "showfig.melt(id_vars=['Sector'], var_name='Year', value_name='Amount')[['Amount', 'Sector']].groupby('Sector').mean()\n"
   ]
  },
  {
   "cell_type": "code",
   "execution_count": 284,
   "id": "d93a7bd8",
   "metadata": {},
   "outputs": [
    {
     "data": {
      "application/vnd.plotly.v1+json": {
       "config": {
        "plotlyServerURL": "https://plot.ly"
       },
       "data": [
        {
         "fillpattern": {
          "shape": ""
         },
         "hovertemplate": "Grouped Sector=Andere Sektoren<br>Year=%{x}<br>Amount=%{y}<extra></extra>",
         "legendgroup": "Andere Sektoren",
         "line": {
          "color": "#636efa"
         },
         "marker": {
          "symbol": "circle"
         },
         "mode": "lines",
         "name": "Andere Sektoren",
         "orientation": "v",
         "showlegend": true,
         "stackgroup": "1",
         "type": "scatter",
         "x": [
          2014,
          2015,
          2016,
          2017,
          2018,
          2019,
          2020
         ],
         "xaxis": "x",
         "y": [
          25805394,
          44737618.5,
          74668746,
          64350638,
          73664071,
          71405550,
          81794825.5
         ],
         "yaxis": "y"
        },
        {
         "fillpattern": {
          "shape": ""
         },
         "hovertemplate": "Grouped Sector=I.4. Water Supply & Sanitation<br>Year=%{x}<br>Amount=%{y}<extra></extra>",
         "legendgroup": "I.4. Water Supply & Sanitation",
         "line": {
          "color": "#EF553B"
         },
         "marker": {
          "symbol": "circle"
         },
         "mode": "lines",
         "name": "I.4. Water Supply & Sanitation",
         "orientation": "v",
         "showlegend": true,
         "stackgroup": "1",
         "type": "scatter",
         "x": [
          2014,
          2015,
          2016,
          2017,
          2018,
          2019,
          2020
         ],
         "xaxis": "x",
         "y": [
          27199118,
          23708410,
          39330391,
          38120586.5,
          44969733,
          42059505.5,
          34679730.5
         ],
         "yaxis": "y"
        },
        {
         "fillpattern": {
          "shape": ""
         },
         "hovertemplate": "Grouped Sector=I.5.a. Government & Civil Society-general<br>Year=%{x}<br>Amount=%{y}<extra></extra>",
         "legendgroup": "I.5.a. Government & Civil Society-general",
         "line": {
          "color": "#00cc96"
         },
         "marker": {
          "symbol": "circle"
         },
         "mode": "lines",
         "name": "I.5.a. Government & Civil Society-general",
         "orientation": "v",
         "showlegend": true,
         "stackgroup": "1",
         "type": "scatter",
         "x": [
          2014,
          2015,
          2016,
          2017,
          2018,
          2019,
          2020
         ],
         "xaxis": "x",
         "y": [
          12231778,
          11994323,
          10792352.5,
          17144145.5,
          18660413,
          20634682,
          43490204.5
         ],
         "yaxis": "y"
        },
        {
         "fillpattern": {
          "shape": ""
         },
         "hovertemplate": "Grouped Sector=II.3.a. Energy Policy<br>Year=%{x}<br>Amount=%{y}<extra></extra>",
         "legendgroup": "II.3.a. Energy Policy",
         "line": {
          "color": "#ab63fa"
         },
         "marker": {
          "symbol": "circle"
         },
         "mode": "lines",
         "name": "II.3.a. Energy Policy",
         "orientation": "v",
         "showlegend": true,
         "stackgroup": "1",
         "type": "scatter",
         "x": [
          2014,
          2015,
          2016,
          2017,
          2018,
          2019,
          2020
         ],
         "xaxis": "x",
         "y": [
          39495287.00000001,
          37453958.5,
          40923303.5,
          55335058,
          67590049.5,
          168584835.5,
          60496586
         ],
         "yaxis": "y"
        },
        {
         "fillpattern": {
          "shape": ""
         },
         "hovertemplate": "Grouped Sector=II.3.b. Energy generation, renewable sources<br>Year=%{x}<br>Amount=%{y}<extra></extra>",
         "legendgroup": "II.3.b. Energy generation, renewable sources",
         "line": {
          "color": "#FFA15A"
         },
         "marker": {
          "symbol": "circle"
         },
         "mode": "lines",
         "name": "II.3.b. Energy generation, renewable sources",
         "orientation": "v",
         "showlegend": true,
         "stackgroup": "1",
         "type": "scatter",
         "x": [
          2014,
          2015,
          2016,
          2017,
          2018,
          2019,
          2020
         ],
         "xaxis": "x",
         "y": [
          111138854,
          94878291.5,
          149428030.5,
          160516475.5,
          168824802,
          237355257.5,
          254332270.5
         ],
         "yaxis": "y"
        },
        {
         "fillpattern": {
          "shape": ""
         },
         "hovertemplate": "Grouped Sector=II.3.f. Energy distribution<br>Year=%{x}<br>Amount=%{y}<extra></extra>",
         "legendgroup": "II.3.f. Energy distribution",
         "line": {
          "color": "#19d3f3"
         },
         "marker": {
          "symbol": "circle"
         },
         "mode": "lines",
         "name": "II.3.f. Energy distribution",
         "orientation": "v",
         "showlegend": true,
         "stackgroup": "1",
         "type": "scatter",
         "x": [
          2014,
          2015,
          2016,
          2017,
          2018,
          2019,
          2020
         ],
         "xaxis": "x",
         "y": [
          40590340,
          34367504.5,
          25274211,
          56771144.5,
          28912512,
          40774150.99999999,
          46307412
         ],
         "yaxis": "y"
        },
        {
         "fillpattern": {
          "shape": ""
         },
         "hovertemplate": "Grouped Sector=II.4. Banking & Financial Services<br>Year=%{x}<br>Amount=%{y}<extra></extra>",
         "legendgroup": "II.4. Banking & Financial Services",
         "line": {
          "color": "#FF6692"
         },
         "marker": {
          "symbol": "circle"
         },
         "mode": "lines",
         "name": "II.4. Banking & Financial Services",
         "orientation": "v",
         "showlegend": true,
         "stackgroup": "1",
         "type": "scatter",
         "x": [
          2014,
          2015,
          2016,
          2017,
          2018,
          2019,
          2020
         ],
         "xaxis": "x",
         "y": [
          30324167.5,
          1590603.5,
          21592731,
          53159061,
          63014105,
          64876037,
          54760420.5
         ],
         "yaxis": "y"
        },
        {
         "fillpattern": {
          "shape": ""
         },
         "hovertemplate": "Grouped Sector=III.1.a. Agriculture<br>Year=%{x}<br>Amount=%{y}<extra></extra>",
         "legendgroup": "III.1.a. Agriculture",
         "line": {
          "color": "#B6E880"
         },
         "marker": {
          "symbol": "circle"
         },
         "mode": "lines",
         "name": "III.1.a. Agriculture",
         "orientation": "v",
         "showlegend": true,
         "stackgroup": "1",
         "type": "scatter",
         "x": [
          2014,
          2015,
          2016,
          2017,
          2018,
          2019,
          2020
         ],
         "xaxis": "x",
         "y": [
          27244541.5,
          24137397,
          38528001,
          42990924,
          48316478,
          62186815.5,
          70063694.5
         ],
         "yaxis": "y"
        },
        {
         "fillpattern": {
          "shape": ""
         },
         "hovertemplate": "Grouped Sector=III.1.b. Forestry<br>Year=%{x}<br>Amount=%{y}<extra></extra>",
         "legendgroup": "III.1.b. Forestry",
         "line": {
          "color": "#FF97FF"
         },
         "marker": {
          "symbol": "circle"
         },
         "mode": "lines",
         "name": "III.1.b. Forestry",
         "orientation": "v",
         "showlegend": true,
         "stackgroup": "1",
         "type": "scatter",
         "x": [
          2014,
          2015,
          2016,
          2017,
          2018,
          2019,
          2020
         ],
         "xaxis": "x",
         "y": [
          33502372,
          35283276.5,
          32227956,
          36481793.5,
          34815459,
          34742881.00000001,
          138591329
         ],
         "yaxis": "y"
        },
        {
         "fillpattern": {
          "shape": ""
         },
         "hovertemplate": "Grouped Sector=IV.1. General Environment Protection<br>Year=%{x}<br>Amount=%{y}<extra></extra>",
         "legendgroup": "IV.1. General Environment Protection",
         "line": {
          "color": "#FECB52"
         },
         "marker": {
          "symbol": "circle"
         },
         "mode": "lines",
         "name": "IV.1. General Environment Protection",
         "orientation": "v",
         "showlegend": true,
         "stackgroup": "1",
         "type": "scatter",
         "x": [
          2014,
          2015,
          2016,
          2017,
          2018,
          2019,
          2020
         ],
         "xaxis": "x",
         "y": [
          216935989,
          154014301.50000003,
          298339479.5,
          292950874,
          257749534,
          274429492,
          222026992.5
         ],
         "yaxis": "y"
        },
        {
         "fillpattern": {
          "shape": ""
         },
         "hovertemplate": "Grouped Sector=IV.2. Other Multisector<br>Year=%{x}<br>Amount=%{y}<extra></extra>",
         "legendgroup": "IV.2. Other Multisector",
         "line": {
          "color": "#636efa"
         },
         "marker": {
          "symbol": "circle"
         },
         "mode": "lines",
         "name": "IV.2. Other Multisector",
         "orientation": "v",
         "showlegend": true,
         "stackgroup": "1",
         "type": "scatter",
         "x": [
          2014,
          2015,
          2016,
          2017,
          2018,
          2019,
          2020
         ],
         "xaxis": "x",
         "y": [
          33074431.500000004,
          29204689.000000004,
          36274551,
          31610574,
          49283074.5,
          50164977.5,
          47491786
         ],
         "yaxis": "y"
        }
       ],
       "layout": {
        "legend": {
         "title": {
          "text": "Grouped Sector"
         },
         "tracegroupgap": 0
        },
        "margin": {
         "t": 60
        },
        "paper_bgcolor": "white",
        "plot_bgcolor": "white",
        "template": {
         "data": {
          "bar": [
           {
            "error_x": {
             "color": "#2a3f5f"
            },
            "error_y": {
             "color": "#2a3f5f"
            },
            "marker": {
             "line": {
              "color": "#E5ECF6",
              "width": 0.5
             },
             "pattern": {
              "fillmode": "overlay",
              "size": 10,
              "solidity": 0.2
             }
            },
            "type": "bar"
           }
          ],
          "barpolar": [
           {
            "marker": {
             "line": {
              "color": "#E5ECF6",
              "width": 0.5
             },
             "pattern": {
              "fillmode": "overlay",
              "size": 10,
              "solidity": 0.2
             }
            },
            "type": "barpolar"
           }
          ],
          "carpet": [
           {
            "aaxis": {
             "endlinecolor": "#2a3f5f",
             "gridcolor": "white",
             "linecolor": "white",
             "minorgridcolor": "white",
             "startlinecolor": "#2a3f5f"
            },
            "baxis": {
             "endlinecolor": "#2a3f5f",
             "gridcolor": "white",
             "linecolor": "white",
             "minorgridcolor": "white",
             "startlinecolor": "#2a3f5f"
            },
            "type": "carpet"
           }
          ],
          "choropleth": [
           {
            "colorbar": {
             "outlinewidth": 0,
             "ticks": ""
            },
            "type": "choropleth"
           }
          ],
          "contour": [
           {
            "colorbar": {
             "outlinewidth": 0,
             "ticks": ""
            },
            "colorscale": [
             [
              0,
              "#0d0887"
             ],
             [
              0.1111111111111111,
              "#46039f"
             ],
             [
              0.2222222222222222,
              "#7201a8"
             ],
             [
              0.3333333333333333,
              "#9c179e"
             ],
             [
              0.4444444444444444,
              "#bd3786"
             ],
             [
              0.5555555555555556,
              "#d8576b"
             ],
             [
              0.6666666666666666,
              "#ed7953"
             ],
             [
              0.7777777777777778,
              "#fb9f3a"
             ],
             [
              0.8888888888888888,
              "#fdca26"
             ],
             [
              1,
              "#f0f921"
             ]
            ],
            "type": "contour"
           }
          ],
          "contourcarpet": [
           {
            "colorbar": {
             "outlinewidth": 0,
             "ticks": ""
            },
            "type": "contourcarpet"
           }
          ],
          "heatmap": [
           {
            "colorbar": {
             "outlinewidth": 0,
             "ticks": ""
            },
            "colorscale": [
             [
              0,
              "#0d0887"
             ],
             [
              0.1111111111111111,
              "#46039f"
             ],
             [
              0.2222222222222222,
              "#7201a8"
             ],
             [
              0.3333333333333333,
              "#9c179e"
             ],
             [
              0.4444444444444444,
              "#bd3786"
             ],
             [
              0.5555555555555556,
              "#d8576b"
             ],
             [
              0.6666666666666666,
              "#ed7953"
             ],
             [
              0.7777777777777778,
              "#fb9f3a"
             ],
             [
              0.8888888888888888,
              "#fdca26"
             ],
             [
              1,
              "#f0f921"
             ]
            ],
            "type": "heatmap"
           }
          ],
          "heatmapgl": [
           {
            "colorbar": {
             "outlinewidth": 0,
             "ticks": ""
            },
            "colorscale": [
             [
              0,
              "#0d0887"
             ],
             [
              0.1111111111111111,
              "#46039f"
             ],
             [
              0.2222222222222222,
              "#7201a8"
             ],
             [
              0.3333333333333333,
              "#9c179e"
             ],
             [
              0.4444444444444444,
              "#bd3786"
             ],
             [
              0.5555555555555556,
              "#d8576b"
             ],
             [
              0.6666666666666666,
              "#ed7953"
             ],
             [
              0.7777777777777778,
              "#fb9f3a"
             ],
             [
              0.8888888888888888,
              "#fdca26"
             ],
             [
              1,
              "#f0f921"
             ]
            ],
            "type": "heatmapgl"
           }
          ],
          "histogram": [
           {
            "marker": {
             "pattern": {
              "fillmode": "overlay",
              "size": 10,
              "solidity": 0.2
             }
            },
            "type": "histogram"
           }
          ],
          "histogram2d": [
           {
            "colorbar": {
             "outlinewidth": 0,
             "ticks": ""
            },
            "colorscale": [
             [
              0,
              "#0d0887"
             ],
             [
              0.1111111111111111,
              "#46039f"
             ],
             [
              0.2222222222222222,
              "#7201a8"
             ],
             [
              0.3333333333333333,
              "#9c179e"
             ],
             [
              0.4444444444444444,
              "#bd3786"
             ],
             [
              0.5555555555555556,
              "#d8576b"
             ],
             [
              0.6666666666666666,
              "#ed7953"
             ],
             [
              0.7777777777777778,
              "#fb9f3a"
             ],
             [
              0.8888888888888888,
              "#fdca26"
             ],
             [
              1,
              "#f0f921"
             ]
            ],
            "type": "histogram2d"
           }
          ],
          "histogram2dcontour": [
           {
            "colorbar": {
             "outlinewidth": 0,
             "ticks": ""
            },
            "colorscale": [
             [
              0,
              "#0d0887"
             ],
             [
              0.1111111111111111,
              "#46039f"
             ],
             [
              0.2222222222222222,
              "#7201a8"
             ],
             [
              0.3333333333333333,
              "#9c179e"
             ],
             [
              0.4444444444444444,
              "#bd3786"
             ],
             [
              0.5555555555555556,
              "#d8576b"
             ],
             [
              0.6666666666666666,
              "#ed7953"
             ],
             [
              0.7777777777777778,
              "#fb9f3a"
             ],
             [
              0.8888888888888888,
              "#fdca26"
             ],
             [
              1,
              "#f0f921"
             ]
            ],
            "type": "histogram2dcontour"
           }
          ],
          "mesh3d": [
           {
            "colorbar": {
             "outlinewidth": 0,
             "ticks": ""
            },
            "type": "mesh3d"
           }
          ],
          "parcoords": [
           {
            "line": {
             "colorbar": {
              "outlinewidth": 0,
              "ticks": ""
             }
            },
            "type": "parcoords"
           }
          ],
          "pie": [
           {
            "automargin": true,
            "type": "pie"
           }
          ],
          "scatter": [
           {
            "fillpattern": {
             "fillmode": "overlay",
             "size": 10,
             "solidity": 0.2
            },
            "type": "scatter"
           }
          ],
          "scatter3d": [
           {
            "line": {
             "colorbar": {
              "outlinewidth": 0,
              "ticks": ""
             }
            },
            "marker": {
             "colorbar": {
              "outlinewidth": 0,
              "ticks": ""
             }
            },
            "type": "scatter3d"
           }
          ],
          "scattercarpet": [
           {
            "marker": {
             "colorbar": {
              "outlinewidth": 0,
              "ticks": ""
             }
            },
            "type": "scattercarpet"
           }
          ],
          "scattergeo": [
           {
            "marker": {
             "colorbar": {
              "outlinewidth": 0,
              "ticks": ""
             }
            },
            "type": "scattergeo"
           }
          ],
          "scattergl": [
           {
            "marker": {
             "colorbar": {
              "outlinewidth": 0,
              "ticks": ""
             }
            },
            "type": "scattergl"
           }
          ],
          "scattermapbox": [
           {
            "marker": {
             "colorbar": {
              "outlinewidth": 0,
              "ticks": ""
             }
            },
            "type": "scattermapbox"
           }
          ],
          "scatterpolar": [
           {
            "marker": {
             "colorbar": {
              "outlinewidth": 0,
              "ticks": ""
             }
            },
            "type": "scatterpolar"
           }
          ],
          "scatterpolargl": [
           {
            "marker": {
             "colorbar": {
              "outlinewidth": 0,
              "ticks": ""
             }
            },
            "type": "scatterpolargl"
           }
          ],
          "scatterternary": [
           {
            "marker": {
             "colorbar": {
              "outlinewidth": 0,
              "ticks": ""
             }
            },
            "type": "scatterternary"
           }
          ],
          "surface": [
           {
            "colorbar": {
             "outlinewidth": 0,
             "ticks": ""
            },
            "colorscale": [
             [
              0,
              "#0d0887"
             ],
             [
              0.1111111111111111,
              "#46039f"
             ],
             [
              0.2222222222222222,
              "#7201a8"
             ],
             [
              0.3333333333333333,
              "#9c179e"
             ],
             [
              0.4444444444444444,
              "#bd3786"
             ],
             [
              0.5555555555555556,
              "#d8576b"
             ],
             [
              0.6666666666666666,
              "#ed7953"
             ],
             [
              0.7777777777777778,
              "#fb9f3a"
             ],
             [
              0.8888888888888888,
              "#fdca26"
             ],
             [
              1,
              "#f0f921"
             ]
            ],
            "type": "surface"
           }
          ],
          "table": [
           {
            "cells": {
             "fill": {
              "color": "#EBF0F8"
             },
             "line": {
              "color": "white"
             }
            },
            "header": {
             "fill": {
              "color": "#C8D4E3"
             },
             "line": {
              "color": "white"
             }
            },
            "type": "table"
           }
          ]
         },
         "layout": {
          "annotationdefaults": {
           "arrowcolor": "#2a3f5f",
           "arrowhead": 0,
           "arrowwidth": 1
          },
          "autotypenumbers": "strict",
          "coloraxis": {
           "colorbar": {
            "outlinewidth": 0,
            "ticks": ""
           }
          },
          "colorscale": {
           "diverging": [
            [
             0,
             "#8e0152"
            ],
            [
             0.1,
             "#c51b7d"
            ],
            [
             0.2,
             "#de77ae"
            ],
            [
             0.3,
             "#f1b6da"
            ],
            [
             0.4,
             "#fde0ef"
            ],
            [
             0.5,
             "#f7f7f7"
            ],
            [
             0.6,
             "#e6f5d0"
            ],
            [
             0.7,
             "#b8e186"
            ],
            [
             0.8,
             "#7fbc41"
            ],
            [
             0.9,
             "#4d9221"
            ],
            [
             1,
             "#276419"
            ]
           ],
           "sequential": [
            [
             0,
             "#0d0887"
            ],
            [
             0.1111111111111111,
             "#46039f"
            ],
            [
             0.2222222222222222,
             "#7201a8"
            ],
            [
             0.3333333333333333,
             "#9c179e"
            ],
            [
             0.4444444444444444,
             "#bd3786"
            ],
            [
             0.5555555555555556,
             "#d8576b"
            ],
            [
             0.6666666666666666,
             "#ed7953"
            ],
            [
             0.7777777777777778,
             "#fb9f3a"
            ],
            [
             0.8888888888888888,
             "#fdca26"
            ],
            [
             1,
             "#f0f921"
            ]
           ],
           "sequentialminus": [
            [
             0,
             "#0d0887"
            ],
            [
             0.1111111111111111,
             "#46039f"
            ],
            [
             0.2222222222222222,
             "#7201a8"
            ],
            [
             0.3333333333333333,
             "#9c179e"
            ],
            [
             0.4444444444444444,
             "#bd3786"
            ],
            [
             0.5555555555555556,
             "#d8576b"
            ],
            [
             0.6666666666666666,
             "#ed7953"
            ],
            [
             0.7777777777777778,
             "#fb9f3a"
            ],
            [
             0.8888888888888888,
             "#fdca26"
            ],
            [
             1,
             "#f0f921"
            ]
           ]
          },
          "colorway": [
           "#636efa",
           "#EF553B",
           "#00cc96",
           "#ab63fa",
           "#FFA15A",
           "#19d3f3",
           "#FF6692",
           "#B6E880",
           "#FF97FF",
           "#FECB52"
          ],
          "font": {
           "color": "#2a3f5f"
          },
          "geo": {
           "bgcolor": "white",
           "lakecolor": "white",
           "landcolor": "#E5ECF6",
           "showlakes": true,
           "showland": true,
           "subunitcolor": "white"
          },
          "hoverlabel": {
           "align": "left"
          },
          "hovermode": "closest",
          "mapbox": {
           "style": "light"
          },
          "paper_bgcolor": "white",
          "plot_bgcolor": "#E5ECF6",
          "polar": {
           "angularaxis": {
            "gridcolor": "white",
            "linecolor": "white",
            "ticks": ""
           },
           "bgcolor": "#E5ECF6",
           "radialaxis": {
            "gridcolor": "white",
            "linecolor": "white",
            "ticks": ""
           }
          },
          "scene": {
           "xaxis": {
            "backgroundcolor": "#E5ECF6",
            "gridcolor": "white",
            "gridwidth": 2,
            "linecolor": "white",
            "showbackground": true,
            "ticks": "",
            "zerolinecolor": "white"
           },
           "yaxis": {
            "backgroundcolor": "#E5ECF6",
            "gridcolor": "white",
            "gridwidth": 2,
            "linecolor": "white",
            "showbackground": true,
            "ticks": "",
            "zerolinecolor": "white"
           },
           "zaxis": {
            "backgroundcolor": "#E5ECF6",
            "gridcolor": "white",
            "gridwidth": 2,
            "linecolor": "white",
            "showbackground": true,
            "ticks": "",
            "zerolinecolor": "white"
           }
          },
          "shapedefaults": {
           "line": {
            "color": "#2a3f5f"
           }
          },
          "ternary": {
           "aaxis": {
            "gridcolor": "white",
            "linecolor": "white",
            "ticks": ""
           },
           "baxis": {
            "gridcolor": "white",
            "linecolor": "white",
            "ticks": ""
           },
           "bgcolor": "#E5ECF6",
           "caxis": {
            "gridcolor": "white",
            "linecolor": "white",
            "ticks": ""
           }
          },
          "title": {
           "x": 0.05
          },
          "xaxis": {
           "automargin": true,
           "gridcolor": "white",
           "linecolor": "white",
           "ticks": "",
           "title": {
            "standoff": 15
           },
           "zerolinecolor": "white",
           "zerolinewidth": 2
          },
          "yaxis": {
           "automargin": true,
           "gridcolor": "white",
           "linecolor": "white",
           "ticks": "",
           "title": {
            "standoff": 15
           },
           "zerolinecolor": "white",
           "zerolinewidth": 2
          }
         }
        },
        "xaxis": {
         "anchor": "y",
         "domain": [
          0,
          1
         ],
         "title": {
          "text": "Year"
         }
        },
        "yaxis": {
         "anchor": "x",
         "domain": [
          0,
          1
         ],
         "title": {
          "text": "Amount"
         }
        }
       }
      },
      "text/html": [
       "<div>                            <div id=\"e7694895-e2cc-4396-ad1a-5698f419154c\" class=\"plotly-graph-div\" style=\"height:525px; width:100%;\"></div>            <script type=\"text/javascript\">                require([\"plotly\"], function(Plotly) {                    window.PLOTLYENV=window.PLOTLYENV || {};                                    if (document.getElementById(\"e7694895-e2cc-4396-ad1a-5698f419154c\")) {                    Plotly.newPlot(                        \"e7694895-e2cc-4396-ad1a-5698f419154c\",                        [{\"fillpattern\":{\"shape\":\"\"},\"hovertemplate\":\"Grouped Sector=Andere Sektoren\\u003cbr\\u003eYear=%{x}\\u003cbr\\u003eAmount=%{y}\\u003cextra\\u003e\\u003c\\u002fextra\\u003e\",\"legendgroup\":\"Andere Sektoren\",\"line\":{\"color\":\"#636efa\"},\"marker\":{\"symbol\":\"circle\"},\"mode\":\"lines\",\"name\":\"Andere Sektoren\",\"orientation\":\"v\",\"showlegend\":true,\"stackgroup\":\"1\",\"x\":[2014,2015,2016,2017,2018,2019,2020],\"xaxis\":\"x\",\"y\":[25805394.0,44737618.5,74668746.0,64350638.0,73664071.0,71405550.0,81794825.5],\"yaxis\":\"y\",\"type\":\"scatter\"},{\"fillpattern\":{\"shape\":\"\"},\"hovertemplate\":\"Grouped Sector=I.4. Water Supply & Sanitation\\u003cbr\\u003eYear=%{x}\\u003cbr\\u003eAmount=%{y}\\u003cextra\\u003e\\u003c\\u002fextra\\u003e\",\"legendgroup\":\"I.4. Water Supply & Sanitation\",\"line\":{\"color\":\"#EF553B\"},\"marker\":{\"symbol\":\"circle\"},\"mode\":\"lines\",\"name\":\"I.4. Water Supply & Sanitation\",\"orientation\":\"v\",\"showlegend\":true,\"stackgroup\":\"1\",\"x\":[2014,2015,2016,2017,2018,2019,2020],\"xaxis\":\"x\",\"y\":[27199118.0,23708410.0,39330391.0,38120586.5,44969733.0,42059505.5,34679730.5],\"yaxis\":\"y\",\"type\":\"scatter\"},{\"fillpattern\":{\"shape\":\"\"},\"hovertemplate\":\"Grouped Sector=I.5.a. Government & Civil Society-general\\u003cbr\\u003eYear=%{x}\\u003cbr\\u003eAmount=%{y}\\u003cextra\\u003e\\u003c\\u002fextra\\u003e\",\"legendgroup\":\"I.5.a. Government & Civil Society-general\",\"line\":{\"color\":\"#00cc96\"},\"marker\":{\"symbol\":\"circle\"},\"mode\":\"lines\",\"name\":\"I.5.a. Government & Civil Society-general\",\"orientation\":\"v\",\"showlegend\":true,\"stackgroup\":\"1\",\"x\":[2014,2015,2016,2017,2018,2019,2020],\"xaxis\":\"x\",\"y\":[12231778.0,11994323.0,10792352.5,17144145.5,18660413.0,20634682.0,43490204.5],\"yaxis\":\"y\",\"type\":\"scatter\"},{\"fillpattern\":{\"shape\":\"\"},\"hovertemplate\":\"Grouped Sector=II.3.a. Energy Policy\\u003cbr\\u003eYear=%{x}\\u003cbr\\u003eAmount=%{y}\\u003cextra\\u003e\\u003c\\u002fextra\\u003e\",\"legendgroup\":\"II.3.a. Energy Policy\",\"line\":{\"color\":\"#ab63fa\"},\"marker\":{\"symbol\":\"circle\"},\"mode\":\"lines\",\"name\":\"II.3.a. Energy Policy\",\"orientation\":\"v\",\"showlegend\":true,\"stackgroup\":\"1\",\"x\":[2014,2015,2016,2017,2018,2019,2020],\"xaxis\":\"x\",\"y\":[39495287.00000001,37453958.5,40923303.5,55335058.0,67590049.5,168584835.5,60496586.0],\"yaxis\":\"y\",\"type\":\"scatter\"},{\"fillpattern\":{\"shape\":\"\"},\"hovertemplate\":\"Grouped Sector=II.3.b. Energy generation, renewable sources\\u003cbr\\u003eYear=%{x}\\u003cbr\\u003eAmount=%{y}\\u003cextra\\u003e\\u003c\\u002fextra\\u003e\",\"legendgroup\":\"II.3.b. Energy generation, renewable sources\",\"line\":{\"color\":\"#FFA15A\"},\"marker\":{\"symbol\":\"circle\"},\"mode\":\"lines\",\"name\":\"II.3.b. Energy generation, renewable sources\",\"orientation\":\"v\",\"showlegend\":true,\"stackgroup\":\"1\",\"x\":[2014,2015,2016,2017,2018,2019,2020],\"xaxis\":\"x\",\"y\":[111138854.0,94878291.5,149428030.5,160516475.5,168824802.0,237355257.5,254332270.5],\"yaxis\":\"y\",\"type\":\"scatter\"},{\"fillpattern\":{\"shape\":\"\"},\"hovertemplate\":\"Grouped Sector=II.3.f. Energy distribution\\u003cbr\\u003eYear=%{x}\\u003cbr\\u003eAmount=%{y}\\u003cextra\\u003e\\u003c\\u002fextra\\u003e\",\"legendgroup\":\"II.3.f. Energy distribution\",\"line\":{\"color\":\"#19d3f3\"},\"marker\":{\"symbol\":\"circle\"},\"mode\":\"lines\",\"name\":\"II.3.f. Energy distribution\",\"orientation\":\"v\",\"showlegend\":true,\"stackgroup\":\"1\",\"x\":[2014,2015,2016,2017,2018,2019,2020],\"xaxis\":\"x\",\"y\":[40590340.0,34367504.5,25274211.0,56771144.5,28912512.0,40774150.99999999,46307412.0],\"yaxis\":\"y\",\"type\":\"scatter\"},{\"fillpattern\":{\"shape\":\"\"},\"hovertemplate\":\"Grouped Sector=II.4. Banking & Financial Services\\u003cbr\\u003eYear=%{x}\\u003cbr\\u003eAmount=%{y}\\u003cextra\\u003e\\u003c\\u002fextra\\u003e\",\"legendgroup\":\"II.4. Banking & Financial Services\",\"line\":{\"color\":\"#FF6692\"},\"marker\":{\"symbol\":\"circle\"},\"mode\":\"lines\",\"name\":\"II.4. Banking & Financial Services\",\"orientation\":\"v\",\"showlegend\":true,\"stackgroup\":\"1\",\"x\":[2014,2015,2016,2017,2018,2019,2020],\"xaxis\":\"x\",\"y\":[30324167.5,1590603.5,21592731.0,53159061.0,63014105.0,64876037.0,54760420.5],\"yaxis\":\"y\",\"type\":\"scatter\"},{\"fillpattern\":{\"shape\":\"\"},\"hovertemplate\":\"Grouped Sector=III.1.a. Agriculture\\u003cbr\\u003eYear=%{x}\\u003cbr\\u003eAmount=%{y}\\u003cextra\\u003e\\u003c\\u002fextra\\u003e\",\"legendgroup\":\"III.1.a. Agriculture\",\"line\":{\"color\":\"#B6E880\"},\"marker\":{\"symbol\":\"circle\"},\"mode\":\"lines\",\"name\":\"III.1.a. Agriculture\",\"orientation\":\"v\",\"showlegend\":true,\"stackgroup\":\"1\",\"x\":[2014,2015,2016,2017,2018,2019,2020],\"xaxis\":\"x\",\"y\":[27244541.5,24137397.0,38528001.0,42990924.0,48316478.0,62186815.5,70063694.5],\"yaxis\":\"y\",\"type\":\"scatter\"},{\"fillpattern\":{\"shape\":\"\"},\"hovertemplate\":\"Grouped Sector=III.1.b. Forestry\\u003cbr\\u003eYear=%{x}\\u003cbr\\u003eAmount=%{y}\\u003cextra\\u003e\\u003c\\u002fextra\\u003e\",\"legendgroup\":\"III.1.b. Forestry\",\"line\":{\"color\":\"#FF97FF\"},\"marker\":{\"symbol\":\"circle\"},\"mode\":\"lines\",\"name\":\"III.1.b. Forestry\",\"orientation\":\"v\",\"showlegend\":true,\"stackgroup\":\"1\",\"x\":[2014,2015,2016,2017,2018,2019,2020],\"xaxis\":\"x\",\"y\":[33502372.0,35283276.5,32227956.0,36481793.5,34815459.0,34742881.00000001,138591329.0],\"yaxis\":\"y\",\"type\":\"scatter\"},{\"fillpattern\":{\"shape\":\"\"},\"hovertemplate\":\"Grouped Sector=IV.1. General Environment Protection\\u003cbr\\u003eYear=%{x}\\u003cbr\\u003eAmount=%{y}\\u003cextra\\u003e\\u003c\\u002fextra\\u003e\",\"legendgroup\":\"IV.1. General Environment Protection\",\"line\":{\"color\":\"#FECB52\"},\"marker\":{\"symbol\":\"circle\"},\"mode\":\"lines\",\"name\":\"IV.1. General Environment Protection\",\"orientation\":\"v\",\"showlegend\":true,\"stackgroup\":\"1\",\"x\":[2014,2015,2016,2017,2018,2019,2020],\"xaxis\":\"x\",\"y\":[216935989.0,154014301.50000003,298339479.5,292950874.0,257749534.0,274429492.0,222026992.5],\"yaxis\":\"y\",\"type\":\"scatter\"},{\"fillpattern\":{\"shape\":\"\"},\"hovertemplate\":\"Grouped Sector=IV.2. Other Multisector\\u003cbr\\u003eYear=%{x}\\u003cbr\\u003eAmount=%{y}\\u003cextra\\u003e\\u003c\\u002fextra\\u003e\",\"legendgroup\":\"IV.2. Other Multisector\",\"line\":{\"color\":\"#636efa\"},\"marker\":{\"symbol\":\"circle\"},\"mode\":\"lines\",\"name\":\"IV.2. Other Multisector\",\"orientation\":\"v\",\"showlegend\":true,\"stackgroup\":\"1\",\"x\":[2014,2015,2016,2017,2018,2019,2020],\"xaxis\":\"x\",\"y\":[33074431.500000004,29204689.000000004,36274551.0,31610574.0,49283074.5,50164977.5,47491786.0],\"yaxis\":\"y\",\"type\":\"scatter\"}],                        {\"template\":{\"data\":{\"histogram2dcontour\":[{\"type\":\"histogram2dcontour\",\"colorbar\":{\"outlinewidth\":0,\"ticks\":\"\"},\"colorscale\":[[0.0,\"#0d0887\"],[0.1111111111111111,\"#46039f\"],[0.2222222222222222,\"#7201a8\"],[0.3333333333333333,\"#9c179e\"],[0.4444444444444444,\"#bd3786\"],[0.5555555555555556,\"#d8576b\"],[0.6666666666666666,\"#ed7953\"],[0.7777777777777778,\"#fb9f3a\"],[0.8888888888888888,\"#fdca26\"],[1.0,\"#f0f921\"]]}],\"choropleth\":[{\"type\":\"choropleth\",\"colorbar\":{\"outlinewidth\":0,\"ticks\":\"\"}}],\"histogram2d\":[{\"type\":\"histogram2d\",\"colorbar\":{\"outlinewidth\":0,\"ticks\":\"\"},\"colorscale\":[[0.0,\"#0d0887\"],[0.1111111111111111,\"#46039f\"],[0.2222222222222222,\"#7201a8\"],[0.3333333333333333,\"#9c179e\"],[0.4444444444444444,\"#bd3786\"],[0.5555555555555556,\"#d8576b\"],[0.6666666666666666,\"#ed7953\"],[0.7777777777777778,\"#fb9f3a\"],[0.8888888888888888,\"#fdca26\"],[1.0,\"#f0f921\"]]}],\"heatmap\":[{\"type\":\"heatmap\",\"colorbar\":{\"outlinewidth\":0,\"ticks\":\"\"},\"colorscale\":[[0.0,\"#0d0887\"],[0.1111111111111111,\"#46039f\"],[0.2222222222222222,\"#7201a8\"],[0.3333333333333333,\"#9c179e\"],[0.4444444444444444,\"#bd3786\"],[0.5555555555555556,\"#d8576b\"],[0.6666666666666666,\"#ed7953\"],[0.7777777777777778,\"#fb9f3a\"],[0.8888888888888888,\"#fdca26\"],[1.0,\"#f0f921\"]]}],\"heatmapgl\":[{\"type\":\"heatmapgl\",\"colorbar\":{\"outlinewidth\":0,\"ticks\":\"\"},\"colorscale\":[[0.0,\"#0d0887\"],[0.1111111111111111,\"#46039f\"],[0.2222222222222222,\"#7201a8\"],[0.3333333333333333,\"#9c179e\"],[0.4444444444444444,\"#bd3786\"],[0.5555555555555556,\"#d8576b\"],[0.6666666666666666,\"#ed7953\"],[0.7777777777777778,\"#fb9f3a\"],[0.8888888888888888,\"#fdca26\"],[1.0,\"#f0f921\"]]}],\"contourcarpet\":[{\"type\":\"contourcarpet\",\"colorbar\":{\"outlinewidth\":0,\"ticks\":\"\"}}],\"contour\":[{\"type\":\"contour\",\"colorbar\":{\"outlinewidth\":0,\"ticks\":\"\"},\"colorscale\":[[0.0,\"#0d0887\"],[0.1111111111111111,\"#46039f\"],[0.2222222222222222,\"#7201a8\"],[0.3333333333333333,\"#9c179e\"],[0.4444444444444444,\"#bd3786\"],[0.5555555555555556,\"#d8576b\"],[0.6666666666666666,\"#ed7953\"],[0.7777777777777778,\"#fb9f3a\"],[0.8888888888888888,\"#fdca26\"],[1.0,\"#f0f921\"]]}],\"surface\":[{\"type\":\"surface\",\"colorbar\":{\"outlinewidth\":0,\"ticks\":\"\"},\"colorscale\":[[0.0,\"#0d0887\"],[0.1111111111111111,\"#46039f\"],[0.2222222222222222,\"#7201a8\"],[0.3333333333333333,\"#9c179e\"],[0.4444444444444444,\"#bd3786\"],[0.5555555555555556,\"#d8576b\"],[0.6666666666666666,\"#ed7953\"],[0.7777777777777778,\"#fb9f3a\"],[0.8888888888888888,\"#fdca26\"],[1.0,\"#f0f921\"]]}],\"mesh3d\":[{\"type\":\"mesh3d\",\"colorbar\":{\"outlinewidth\":0,\"ticks\":\"\"}}],\"scatter\":[{\"fillpattern\":{\"fillmode\":\"overlay\",\"size\":10,\"solidity\":0.2},\"type\":\"scatter\"}],\"parcoords\":[{\"type\":\"parcoords\",\"line\":{\"colorbar\":{\"outlinewidth\":0,\"ticks\":\"\"}}}],\"scatterpolargl\":[{\"type\":\"scatterpolargl\",\"marker\":{\"colorbar\":{\"outlinewidth\":0,\"ticks\":\"\"}}}],\"bar\":[{\"error_x\":{\"color\":\"#2a3f5f\"},\"error_y\":{\"color\":\"#2a3f5f\"},\"marker\":{\"line\":{\"color\":\"#E5ECF6\",\"width\":0.5},\"pattern\":{\"fillmode\":\"overlay\",\"size\":10,\"solidity\":0.2}},\"type\":\"bar\"}],\"scattergeo\":[{\"type\":\"scattergeo\",\"marker\":{\"colorbar\":{\"outlinewidth\":0,\"ticks\":\"\"}}}],\"scatterpolar\":[{\"type\":\"scatterpolar\",\"marker\":{\"colorbar\":{\"outlinewidth\":0,\"ticks\":\"\"}}}],\"histogram\":[{\"marker\":{\"pattern\":{\"fillmode\":\"overlay\",\"size\":10,\"solidity\":0.2}},\"type\":\"histogram\"}],\"scattergl\":[{\"type\":\"scattergl\",\"marker\":{\"colorbar\":{\"outlinewidth\":0,\"ticks\":\"\"}}}],\"scatter3d\":[{\"type\":\"scatter3d\",\"line\":{\"colorbar\":{\"outlinewidth\":0,\"ticks\":\"\"}},\"marker\":{\"colorbar\":{\"outlinewidth\":0,\"ticks\":\"\"}}}],\"scattermapbox\":[{\"type\":\"scattermapbox\",\"marker\":{\"colorbar\":{\"outlinewidth\":0,\"ticks\":\"\"}}}],\"scatterternary\":[{\"type\":\"scatterternary\",\"marker\":{\"colorbar\":{\"outlinewidth\":0,\"ticks\":\"\"}}}],\"scattercarpet\":[{\"type\":\"scattercarpet\",\"marker\":{\"colorbar\":{\"outlinewidth\":0,\"ticks\":\"\"}}}],\"carpet\":[{\"aaxis\":{\"endlinecolor\":\"#2a3f5f\",\"gridcolor\":\"white\",\"linecolor\":\"white\",\"minorgridcolor\":\"white\",\"startlinecolor\":\"#2a3f5f\"},\"baxis\":{\"endlinecolor\":\"#2a3f5f\",\"gridcolor\":\"white\",\"linecolor\":\"white\",\"minorgridcolor\":\"white\",\"startlinecolor\":\"#2a3f5f\"},\"type\":\"carpet\"}],\"table\":[{\"cells\":{\"fill\":{\"color\":\"#EBF0F8\"},\"line\":{\"color\":\"white\"}},\"header\":{\"fill\":{\"color\":\"#C8D4E3\"},\"line\":{\"color\":\"white\"}},\"type\":\"table\"}],\"barpolar\":[{\"marker\":{\"line\":{\"color\":\"#E5ECF6\",\"width\":0.5},\"pattern\":{\"fillmode\":\"overlay\",\"size\":10,\"solidity\":0.2}},\"type\":\"barpolar\"}],\"pie\":[{\"automargin\":true,\"type\":\"pie\"}]},\"layout\":{\"autotypenumbers\":\"strict\",\"colorway\":[\"#636efa\",\"#EF553B\",\"#00cc96\",\"#ab63fa\",\"#FFA15A\",\"#19d3f3\",\"#FF6692\",\"#B6E880\",\"#FF97FF\",\"#FECB52\"],\"font\":{\"color\":\"#2a3f5f\"},\"hovermode\":\"closest\",\"hoverlabel\":{\"align\":\"left\"},\"paper_bgcolor\":\"white\",\"plot_bgcolor\":\"#E5ECF6\",\"polar\":{\"bgcolor\":\"#E5ECF6\",\"angularaxis\":{\"gridcolor\":\"white\",\"linecolor\":\"white\",\"ticks\":\"\"},\"radialaxis\":{\"gridcolor\":\"white\",\"linecolor\":\"white\",\"ticks\":\"\"}},\"ternary\":{\"bgcolor\":\"#E5ECF6\",\"aaxis\":{\"gridcolor\":\"white\",\"linecolor\":\"white\",\"ticks\":\"\"},\"baxis\":{\"gridcolor\":\"white\",\"linecolor\":\"white\",\"ticks\":\"\"},\"caxis\":{\"gridcolor\":\"white\",\"linecolor\":\"white\",\"ticks\":\"\"}},\"coloraxis\":{\"colorbar\":{\"outlinewidth\":0,\"ticks\":\"\"}},\"colorscale\":{\"sequential\":[[0.0,\"#0d0887\"],[0.1111111111111111,\"#46039f\"],[0.2222222222222222,\"#7201a8\"],[0.3333333333333333,\"#9c179e\"],[0.4444444444444444,\"#bd3786\"],[0.5555555555555556,\"#d8576b\"],[0.6666666666666666,\"#ed7953\"],[0.7777777777777778,\"#fb9f3a\"],[0.8888888888888888,\"#fdca26\"],[1.0,\"#f0f921\"]],\"sequentialminus\":[[0.0,\"#0d0887\"],[0.1111111111111111,\"#46039f\"],[0.2222222222222222,\"#7201a8\"],[0.3333333333333333,\"#9c179e\"],[0.4444444444444444,\"#bd3786\"],[0.5555555555555556,\"#d8576b\"],[0.6666666666666666,\"#ed7953\"],[0.7777777777777778,\"#fb9f3a\"],[0.8888888888888888,\"#fdca26\"],[1.0,\"#f0f921\"]],\"diverging\":[[0,\"#8e0152\"],[0.1,\"#c51b7d\"],[0.2,\"#de77ae\"],[0.3,\"#f1b6da\"],[0.4,\"#fde0ef\"],[0.5,\"#f7f7f7\"],[0.6,\"#e6f5d0\"],[0.7,\"#b8e186\"],[0.8,\"#7fbc41\"],[0.9,\"#4d9221\"],[1,\"#276419\"]]},\"xaxis\":{\"gridcolor\":\"white\",\"linecolor\":\"white\",\"ticks\":\"\",\"title\":{\"standoff\":15},\"zerolinecolor\":\"white\",\"automargin\":true,\"zerolinewidth\":2},\"yaxis\":{\"gridcolor\":\"white\",\"linecolor\":\"white\",\"ticks\":\"\",\"title\":{\"standoff\":15},\"zerolinecolor\":\"white\",\"automargin\":true,\"zerolinewidth\":2},\"scene\":{\"xaxis\":{\"backgroundcolor\":\"#E5ECF6\",\"gridcolor\":\"white\",\"linecolor\":\"white\",\"showbackground\":true,\"ticks\":\"\",\"zerolinecolor\":\"white\",\"gridwidth\":2},\"yaxis\":{\"backgroundcolor\":\"#E5ECF6\",\"gridcolor\":\"white\",\"linecolor\":\"white\",\"showbackground\":true,\"ticks\":\"\",\"zerolinecolor\":\"white\",\"gridwidth\":2},\"zaxis\":{\"backgroundcolor\":\"#E5ECF6\",\"gridcolor\":\"white\",\"linecolor\":\"white\",\"showbackground\":true,\"ticks\":\"\",\"zerolinecolor\":\"white\",\"gridwidth\":2}},\"shapedefaults\":{\"line\":{\"color\":\"#2a3f5f\"}},\"annotationdefaults\":{\"arrowcolor\":\"#2a3f5f\",\"arrowhead\":0,\"arrowwidth\":1},\"geo\":{\"bgcolor\":\"white\",\"landcolor\":\"#E5ECF6\",\"subunitcolor\":\"white\",\"showland\":true,\"showlakes\":true,\"lakecolor\":\"white\"},\"title\":{\"x\":0.05},\"mapbox\":{\"style\":\"light\"}}},\"xaxis\":{\"anchor\":\"y\",\"domain\":[0.0,1.0],\"title\":{\"text\":\"Year\"}},\"yaxis\":{\"anchor\":\"x\",\"domain\":[0.0,1.0],\"title\":{\"text\":\"Amount\"}},\"legend\":{\"title\":{\"text\":\"Grouped Sector\"},\"tracegroupgap\":0},\"margin\":{\"t\":60},\"paper_bgcolor\":\"white\",\"plot_bgcolor\":\"white\"},                        {\"responsive\": true}                    ).then(function(){\n",
       "                            \n",
       "var gd = document.getElementById('e7694895-e2cc-4396-ad1a-5698f419154c');\n",
       "var x = new MutationObserver(function (mutations, observer) {{\n",
       "        var display = window.getComputedStyle(gd).display;\n",
       "        if (!display || display === 'none') {{\n",
       "            console.log([gd, 'removed!']);\n",
       "            Plotly.purge(gd);\n",
       "            observer.disconnect();\n",
       "        }}\n",
       "}});\n",
       "\n",
       "// Listen for the removal of the full notebook cells\n",
       "var notebookContainer = gd.closest('#notebook-container');\n",
       "if (notebookContainer) {{\n",
       "    x.observe(notebookContainer, {childList: true});\n",
       "}}\n",
       "\n",
       "// Listen for the clearing of the current output cell\n",
       "var outputEl = gd.closest('.output');\n",
       "if (outputEl) {{\n",
       "    x.observe(outputEl, {childList: true});\n",
       "}}\n",
       "\n",
       "                        })                };                });            </script>        </div>"
      ]
     },
     "metadata": {},
     "output_type": "display_data"
    }
   ],
   "source": [
    "showfig = stacked_area_chart(df_merged, 2014, 2020, \"Klimaschutz\", 10, \"abs\")\n",
    "showfig.show()"
   ]
  },
  {
   "cell_type": "code",
   "execution_count": null,
   "id": "8a13f7e9",
   "metadata": {},
   "outputs": [],
   "source": []
  },
  {
   "cell_type": "code",
   "execution_count": null,
   "id": "ceaa9905",
   "metadata": {},
   "outputs": [],
   "source": []
  },
  {
   "cell_type": "code",
   "execution_count": null,
   "id": "ae1d409e",
   "metadata": {},
   "outputs": [],
   "source": []
  },
  {
   "cell_type": "code",
   "execution_count": null,
   "id": "afb1c0a9",
   "metadata": {},
   "outputs": [],
   "source": []
  },
  {
   "cell_type": "code",
   "execution_count": null,
   "id": "5cb2da51",
   "metadata": {},
   "outputs": [],
   "source": []
  },
  {
   "cell_type": "code",
   "execution_count": null,
   "id": "0e9c26bd",
   "metadata": {},
   "outputs": [],
   "source": []
  },
  {
   "cell_type": "code",
   "execution_count": 274,
   "id": "abfb7ed0",
   "metadata": {},
   "outputs": [],
   "source": [
    "total_per_year = longest_df.groupby('Year')['Amount'].sum().reset_index(name='Total')\n",
    "longest_df = pd.merge(longest_df, total_per_year, on='Year')\n"
   ]
  },
  {
   "cell_type": "code",
   "execution_count": 275,
   "id": "0b333de5",
   "metadata": {},
   "outputs": [],
   "source": [
    "longest_df['Percentage'] = (longest_df['Amount'] / longest_df['Total']) * 100\n"
   ]
  },
  {
   "cell_type": "code",
   "execution_count": 276,
   "id": "b6a609eb",
   "metadata": {},
   "outputs": [
    {
     "data": {
      "application/vnd.plotly.v1+json": {
       "config": {
        "plotlyServerURL": "https://plot.ly"
       },
       "data": [
        {
         "fillpattern": {
          "shape": ""
         },
         "hovertemplate": "Grouped Sector=Andere Sektoren<br>Year=%{x}<br>Percentage of Total=%{y}<extra></extra>",
         "legendgroup": "Andere Sektoren",
         "line": {
          "color": "#636efa"
         },
         "marker": {
          "symbol": "circle"
         },
         "mode": "lines",
         "name": "Andere Sektoren",
         "orientation": "v",
         "showlegend": true,
         "stackgroup": "1",
         "type": "scatter",
         "x": [
          2014,
          2015,
          2016,
          2017,
          2018,
          2019,
          2020,
          2021
         ],
         "xaxis": "x",
         "y": [
          23.245394994209384,
          29.308349214098477,
          24.28266458315066,
          24.486629435963863,
          25.179918828509873,
          21.0865699939542,
          24.07547168264704,
          27.198499066178606
         ],
         "yaxis": "y"
        },
        {
         "fillpattern": {
          "shape": ""
         },
         "hovertemplate": "Grouped Sector=II.3.a. Energy Policy<br>Year=%{x}<br>Percentage of Total=%{y}<extra></extra>",
         "legendgroup": "II.3.a. Energy Policy",
         "line": {
          "color": "#EF553B"
         },
         "marker": {
          "symbol": "circle"
         },
         "mode": "lines",
         "name": "II.3.a. Energy Policy",
         "orientation": "v",
         "showlegend": true,
         "stackgroup": "1",
         "type": "scatter",
         "x": [
          2014,
          2015,
          2016,
          2017,
          2018,
          2019,
          2020,
          2021
         ],
         "xaxis": "x",
         "y": [
          6.609622250616589,
          7.622347727889622,
          5.332862033434442,
          6.514365512686336,
          7.897876987135331,
          15.796719903885423,
          5.739522080870366,
          5.528919795685264
         ],
         "yaxis": "y"
        },
        {
         "fillpattern": {
          "shape": ""
         },
         "hovertemplate": "Grouped Sector=II.3.b. Energy generation, renewable sources<br>Year=%{x}<br>Percentage of Total=%{y}<extra></extra>",
         "legendgroup": "II.3.b. Energy generation, renewable sources",
         "line": {
          "color": "#00cc96"
         },
         "marker": {
          "symbol": "circle"
         },
         "mode": "lines",
         "name": "II.3.b. Energy generation, renewable sources",
         "orientation": "v",
         "showlegend": true,
         "stackgroup": "1",
         "type": "scatter",
         "x": [
          2014,
          2015,
          2016,
          2017,
          2018,
          2019,
          2020,
          2021
         ],
         "xaxis": "x",
         "y": [
          18.599329137839366,
          19.308915762297175,
          19.4725010551588,
          18.89693496327701,
          19.727127416491665,
          22.240639315640582,
          24.129389423936168,
          21.406973081383825
         ],
         "yaxis": "y"
        },
        {
         "fillpattern": {
          "shape": ""
         },
         "hovertemplate": "Grouped Sector=II.4. Banking & Financial Services<br>Year=%{x}<br>Percentage of Total=%{y}<extra></extra>",
         "legendgroup": "II.4. Banking & Financial Services",
         "line": {
          "color": "#ab63fa"
         },
         "marker": {
          "symbol": "circle"
         },
         "mode": "lines",
         "name": "II.4. Banking & Financial Services",
         "orientation": "v",
         "showlegend": true,
         "stackgroup": "1",
         "type": "scatter",
         "x": [
          2014,
          2015,
          2016,
          2017,
          2018,
          2019,
          2020,
          2021
         ],
         "xaxis": "x",
         "y": [
          5.074815439103515,
          0.32370765226853876,
          2.813825998872816,
          6.258194464442219,
          7.36317924644262,
          6.079008126226793,
          5.195312056410857,
          6.308556015097003
         ],
         "yaxis": "y"
        },
        {
         "fillpattern": {
          "shape": ""
         },
         "hovertemplate": "Grouped Sector=III.1.a. Agriculture<br>Year=%{x}<br>Percentage of Total=%{y}<extra></extra>",
         "legendgroup": "III.1.a. Agriculture",
         "line": {
          "color": "#FFA15A"
         },
         "marker": {
          "symbol": "circle"
         },
         "mode": "lines",
         "name": "III.1.a. Agriculture",
         "orientation": "v",
         "showlegend": true,
         "stackgroup": "1",
         "type": "scatter",
         "x": [
          2014,
          2015,
          2016,
          2017,
          2018,
          2019,
          2020,
          2021
         ],
         "xaxis": "x",
         "y": [
          4.559433324443167,
          4.912261361642716,
          5.020721598319262,
          5.061142118331552,
          5.645765945113422,
          5.827022954078812,
          6.647187027216803,
          4.534833889741942
         ],
         "yaxis": "y"
        },
        {
         "fillpattern": {
          "shape": ""
         },
         "hovertemplate": "Grouped Sector=III.1.b. Forestry<br>Year=%{x}<br>Percentage of Total=%{y}<extra></extra>",
         "legendgroup": "III.1.b. Forestry",
         "line": {
          "color": "#19d3f3"
         },
         "marker": {
          "symbol": "circle"
         },
         "mode": "lines",
         "name": "III.1.b. Forestry",
         "orientation": "v",
         "showlegend": true,
         "stackgroup": "1",
         "type": "scatter",
         "x": [
          2014,
          2015,
          2016,
          2017,
          2018,
          2019,
          2020,
          2021
         ],
         "xaxis": "x",
         "y": [
          5.6066948803191154,
          7.1805868653983875,
          4.199740203466119,
          4.294849341575544,
          4.068175929249077,
          3.2554740655248486,
          13.14864268559997,
          12.866104361224979
         ],
         "yaxis": "y"
        },
        {
         "fillpattern": {
          "shape": ""
         },
         "hovertemplate": "Grouped Sector=IV.1. General Environment Protection<br>Year=%{x}<br>Percentage of Total=%{y}<extra></extra>",
         "legendgroup": "IV.1. General Environment Protection",
         "line": {
          "color": "#FF6692"
         },
         "marker": {
          "symbol": "circle"
         },
         "mode": "lines",
         "name": "IV.1. General Environment Protection",
         "orientation": "v",
         "showlegend": true,
         "stackgroup": "1",
         "type": "scatter",
         "x": [
          2014,
          2015,
          2016,
          2017,
          2018,
          2019,
          2020,
          2021
         ],
         "xaxis": "x",
         "y": [
          36.30470997346886,
          31.343831416405088,
          38.8776845275979,
          34.48788416372348,
          30.117955647058007,
          25.714565640689347,
          21.064475043318794,
          22.156113790688384
         ],
         "yaxis": "y"
        }
       ],
       "layout": {
        "legend": {
         "title": {
          "text": "Grouped Sector"
         },
         "tracegroupgap": 0
        },
        "paper_bgcolor": "white",
        "plot_bgcolor": "white",
        "template": {
         "data": {
          "bar": [
           {
            "error_x": {
             "color": "#2a3f5f"
            },
            "error_y": {
             "color": "#2a3f5f"
            },
            "marker": {
             "line": {
              "color": "#E5ECF6",
              "width": 0.5
             },
             "pattern": {
              "fillmode": "overlay",
              "size": 10,
              "solidity": 0.2
             }
            },
            "type": "bar"
           }
          ],
          "barpolar": [
           {
            "marker": {
             "line": {
              "color": "#E5ECF6",
              "width": 0.5
             },
             "pattern": {
              "fillmode": "overlay",
              "size": 10,
              "solidity": 0.2
             }
            },
            "type": "barpolar"
           }
          ],
          "carpet": [
           {
            "aaxis": {
             "endlinecolor": "#2a3f5f",
             "gridcolor": "white",
             "linecolor": "white",
             "minorgridcolor": "white",
             "startlinecolor": "#2a3f5f"
            },
            "baxis": {
             "endlinecolor": "#2a3f5f",
             "gridcolor": "white",
             "linecolor": "white",
             "minorgridcolor": "white",
             "startlinecolor": "#2a3f5f"
            },
            "type": "carpet"
           }
          ],
          "choropleth": [
           {
            "colorbar": {
             "outlinewidth": 0,
             "ticks": ""
            },
            "type": "choropleth"
           }
          ],
          "contour": [
           {
            "colorbar": {
             "outlinewidth": 0,
             "ticks": ""
            },
            "colorscale": [
             [
              0,
              "#0d0887"
             ],
             [
              0.1111111111111111,
              "#46039f"
             ],
             [
              0.2222222222222222,
              "#7201a8"
             ],
             [
              0.3333333333333333,
              "#9c179e"
             ],
             [
              0.4444444444444444,
              "#bd3786"
             ],
             [
              0.5555555555555556,
              "#d8576b"
             ],
             [
              0.6666666666666666,
              "#ed7953"
             ],
             [
              0.7777777777777778,
              "#fb9f3a"
             ],
             [
              0.8888888888888888,
              "#fdca26"
             ],
             [
              1,
              "#f0f921"
             ]
            ],
            "type": "contour"
           }
          ],
          "contourcarpet": [
           {
            "colorbar": {
             "outlinewidth": 0,
             "ticks": ""
            },
            "type": "contourcarpet"
           }
          ],
          "heatmap": [
           {
            "colorbar": {
             "outlinewidth": 0,
             "ticks": ""
            },
            "colorscale": [
             [
              0,
              "#0d0887"
             ],
             [
              0.1111111111111111,
              "#46039f"
             ],
             [
              0.2222222222222222,
              "#7201a8"
             ],
             [
              0.3333333333333333,
              "#9c179e"
             ],
             [
              0.4444444444444444,
              "#bd3786"
             ],
             [
              0.5555555555555556,
              "#d8576b"
             ],
             [
              0.6666666666666666,
              "#ed7953"
             ],
             [
              0.7777777777777778,
              "#fb9f3a"
             ],
             [
              0.8888888888888888,
              "#fdca26"
             ],
             [
              1,
              "#f0f921"
             ]
            ],
            "type": "heatmap"
           }
          ],
          "heatmapgl": [
           {
            "colorbar": {
             "outlinewidth": 0,
             "ticks": ""
            },
            "colorscale": [
             [
              0,
              "#0d0887"
             ],
             [
              0.1111111111111111,
              "#46039f"
             ],
             [
              0.2222222222222222,
              "#7201a8"
             ],
             [
              0.3333333333333333,
              "#9c179e"
             ],
             [
              0.4444444444444444,
              "#bd3786"
             ],
             [
              0.5555555555555556,
              "#d8576b"
             ],
             [
              0.6666666666666666,
              "#ed7953"
             ],
             [
              0.7777777777777778,
              "#fb9f3a"
             ],
             [
              0.8888888888888888,
              "#fdca26"
             ],
             [
              1,
              "#f0f921"
             ]
            ],
            "type": "heatmapgl"
           }
          ],
          "histogram": [
           {
            "marker": {
             "pattern": {
              "fillmode": "overlay",
              "size": 10,
              "solidity": 0.2
             }
            },
            "type": "histogram"
           }
          ],
          "histogram2d": [
           {
            "colorbar": {
             "outlinewidth": 0,
             "ticks": ""
            },
            "colorscale": [
             [
              0,
              "#0d0887"
             ],
             [
              0.1111111111111111,
              "#46039f"
             ],
             [
              0.2222222222222222,
              "#7201a8"
             ],
             [
              0.3333333333333333,
              "#9c179e"
             ],
             [
              0.4444444444444444,
              "#bd3786"
             ],
             [
              0.5555555555555556,
              "#d8576b"
             ],
             [
              0.6666666666666666,
              "#ed7953"
             ],
             [
              0.7777777777777778,
              "#fb9f3a"
             ],
             [
              0.8888888888888888,
              "#fdca26"
             ],
             [
              1,
              "#f0f921"
             ]
            ],
            "type": "histogram2d"
           }
          ],
          "histogram2dcontour": [
           {
            "colorbar": {
             "outlinewidth": 0,
             "ticks": ""
            },
            "colorscale": [
             [
              0,
              "#0d0887"
             ],
             [
              0.1111111111111111,
              "#46039f"
             ],
             [
              0.2222222222222222,
              "#7201a8"
             ],
             [
              0.3333333333333333,
              "#9c179e"
             ],
             [
              0.4444444444444444,
              "#bd3786"
             ],
             [
              0.5555555555555556,
              "#d8576b"
             ],
             [
              0.6666666666666666,
              "#ed7953"
             ],
             [
              0.7777777777777778,
              "#fb9f3a"
             ],
             [
              0.8888888888888888,
              "#fdca26"
             ],
             [
              1,
              "#f0f921"
             ]
            ],
            "type": "histogram2dcontour"
           }
          ],
          "mesh3d": [
           {
            "colorbar": {
             "outlinewidth": 0,
             "ticks": ""
            },
            "type": "mesh3d"
           }
          ],
          "parcoords": [
           {
            "line": {
             "colorbar": {
              "outlinewidth": 0,
              "ticks": ""
             }
            },
            "type": "parcoords"
           }
          ],
          "pie": [
           {
            "automargin": true,
            "type": "pie"
           }
          ],
          "scatter": [
           {
            "fillpattern": {
             "fillmode": "overlay",
             "size": 10,
             "solidity": 0.2
            },
            "type": "scatter"
           }
          ],
          "scatter3d": [
           {
            "line": {
             "colorbar": {
              "outlinewidth": 0,
              "ticks": ""
             }
            },
            "marker": {
             "colorbar": {
              "outlinewidth": 0,
              "ticks": ""
             }
            },
            "type": "scatter3d"
           }
          ],
          "scattercarpet": [
           {
            "marker": {
             "colorbar": {
              "outlinewidth": 0,
              "ticks": ""
             }
            },
            "type": "scattercarpet"
           }
          ],
          "scattergeo": [
           {
            "marker": {
             "colorbar": {
              "outlinewidth": 0,
              "ticks": ""
             }
            },
            "type": "scattergeo"
           }
          ],
          "scattergl": [
           {
            "marker": {
             "colorbar": {
              "outlinewidth": 0,
              "ticks": ""
             }
            },
            "type": "scattergl"
           }
          ],
          "scattermapbox": [
           {
            "marker": {
             "colorbar": {
              "outlinewidth": 0,
              "ticks": ""
             }
            },
            "type": "scattermapbox"
           }
          ],
          "scatterpolar": [
           {
            "marker": {
             "colorbar": {
              "outlinewidth": 0,
              "ticks": ""
             }
            },
            "type": "scatterpolar"
           }
          ],
          "scatterpolargl": [
           {
            "marker": {
             "colorbar": {
              "outlinewidth": 0,
              "ticks": ""
             }
            },
            "type": "scatterpolargl"
           }
          ],
          "scatterternary": [
           {
            "marker": {
             "colorbar": {
              "outlinewidth": 0,
              "ticks": ""
             }
            },
            "type": "scatterternary"
           }
          ],
          "surface": [
           {
            "colorbar": {
             "outlinewidth": 0,
             "ticks": ""
            },
            "colorscale": [
             [
              0,
              "#0d0887"
             ],
             [
              0.1111111111111111,
              "#46039f"
             ],
             [
              0.2222222222222222,
              "#7201a8"
             ],
             [
              0.3333333333333333,
              "#9c179e"
             ],
             [
              0.4444444444444444,
              "#bd3786"
             ],
             [
              0.5555555555555556,
              "#d8576b"
             ],
             [
              0.6666666666666666,
              "#ed7953"
             ],
             [
              0.7777777777777778,
              "#fb9f3a"
             ],
             [
              0.8888888888888888,
              "#fdca26"
             ],
             [
              1,
              "#f0f921"
             ]
            ],
            "type": "surface"
           }
          ],
          "table": [
           {
            "cells": {
             "fill": {
              "color": "#EBF0F8"
             },
             "line": {
              "color": "white"
             }
            },
            "header": {
             "fill": {
              "color": "#C8D4E3"
             },
             "line": {
              "color": "white"
             }
            },
            "type": "table"
           }
          ]
         },
         "layout": {
          "annotationdefaults": {
           "arrowcolor": "#2a3f5f",
           "arrowhead": 0,
           "arrowwidth": 1
          },
          "autotypenumbers": "strict",
          "coloraxis": {
           "colorbar": {
            "outlinewidth": 0,
            "ticks": ""
           }
          },
          "colorscale": {
           "diverging": [
            [
             0,
             "#8e0152"
            ],
            [
             0.1,
             "#c51b7d"
            ],
            [
             0.2,
             "#de77ae"
            ],
            [
             0.3,
             "#f1b6da"
            ],
            [
             0.4,
             "#fde0ef"
            ],
            [
             0.5,
             "#f7f7f7"
            ],
            [
             0.6,
             "#e6f5d0"
            ],
            [
             0.7,
             "#b8e186"
            ],
            [
             0.8,
             "#7fbc41"
            ],
            [
             0.9,
             "#4d9221"
            ],
            [
             1,
             "#276419"
            ]
           ],
           "sequential": [
            [
             0,
             "#0d0887"
            ],
            [
             0.1111111111111111,
             "#46039f"
            ],
            [
             0.2222222222222222,
             "#7201a8"
            ],
            [
             0.3333333333333333,
             "#9c179e"
            ],
            [
             0.4444444444444444,
             "#bd3786"
            ],
            [
             0.5555555555555556,
             "#d8576b"
            ],
            [
             0.6666666666666666,
             "#ed7953"
            ],
            [
             0.7777777777777778,
             "#fb9f3a"
            ],
            [
             0.8888888888888888,
             "#fdca26"
            ],
            [
             1,
             "#f0f921"
            ]
           ],
           "sequentialminus": [
            [
             0,
             "#0d0887"
            ],
            [
             0.1111111111111111,
             "#46039f"
            ],
            [
             0.2222222222222222,
             "#7201a8"
            ],
            [
             0.3333333333333333,
             "#9c179e"
            ],
            [
             0.4444444444444444,
             "#bd3786"
            ],
            [
             0.5555555555555556,
             "#d8576b"
            ],
            [
             0.6666666666666666,
             "#ed7953"
            ],
            [
             0.7777777777777778,
             "#fb9f3a"
            ],
            [
             0.8888888888888888,
             "#fdca26"
            ],
            [
             1,
             "#f0f921"
            ]
           ]
          },
          "colorway": [
           "#636efa",
           "#EF553B",
           "#00cc96",
           "#ab63fa",
           "#FFA15A",
           "#19d3f3",
           "#FF6692",
           "#B6E880",
           "#FF97FF",
           "#FECB52"
          ],
          "font": {
           "color": "#2a3f5f"
          },
          "geo": {
           "bgcolor": "white",
           "lakecolor": "white",
           "landcolor": "#E5ECF6",
           "showlakes": true,
           "showland": true,
           "subunitcolor": "white"
          },
          "hoverlabel": {
           "align": "left"
          },
          "hovermode": "closest",
          "mapbox": {
           "style": "light"
          },
          "paper_bgcolor": "white",
          "plot_bgcolor": "#E5ECF6",
          "polar": {
           "angularaxis": {
            "gridcolor": "white",
            "linecolor": "white",
            "ticks": ""
           },
           "bgcolor": "#E5ECF6",
           "radialaxis": {
            "gridcolor": "white",
            "linecolor": "white",
            "ticks": ""
           }
          },
          "scene": {
           "xaxis": {
            "backgroundcolor": "#E5ECF6",
            "gridcolor": "white",
            "gridwidth": 2,
            "linecolor": "white",
            "showbackground": true,
            "ticks": "",
            "zerolinecolor": "white"
           },
           "yaxis": {
            "backgroundcolor": "#E5ECF6",
            "gridcolor": "white",
            "gridwidth": 2,
            "linecolor": "white",
            "showbackground": true,
            "ticks": "",
            "zerolinecolor": "white"
           },
           "zaxis": {
            "backgroundcolor": "#E5ECF6",
            "gridcolor": "white",
            "gridwidth": 2,
            "linecolor": "white",
            "showbackground": true,
            "ticks": "",
            "zerolinecolor": "white"
           }
          },
          "shapedefaults": {
           "line": {
            "color": "#2a3f5f"
           }
          },
          "ternary": {
           "aaxis": {
            "gridcolor": "white",
            "linecolor": "white",
            "ticks": ""
           },
           "baxis": {
            "gridcolor": "white",
            "linecolor": "white",
            "ticks": ""
           },
           "bgcolor": "#E5ECF6",
           "caxis": {
            "gridcolor": "white",
            "linecolor": "white",
            "ticks": ""
           }
          },
          "title": {
           "x": 0.05
          },
          "xaxis": {
           "automargin": true,
           "gridcolor": "white",
           "linecolor": "white",
           "ticks": "",
           "title": {
            "standoff": 15
           },
           "zerolinecolor": "white",
           "zerolinewidth": 2
          },
          "yaxis": {
           "automargin": true,
           "gridcolor": "white",
           "linecolor": "white",
           "ticks": "",
           "title": {
            "standoff": 15
           },
           "zerolinecolor": "white",
           "zerolinewidth": 2
          }
         }
        },
        "title": {
         "text": "Stacked Area Plot of Grouped Sector as Percentage of Total per Year"
        },
        "xaxis": {
         "anchor": "y",
         "domain": [
          0,
          1
         ],
         "showgrid": false,
         "title": {
          "text": "Year"
         }
        },
        "yaxis": {
         "anchor": "x",
         "domain": [
          0,
          1
         ],
         "showgrid": false,
         "ticksuffix": "%",
         "title": {
          "text": "Percentage of Total"
         }
        }
       }
      },
      "text/html": [
       "<div>                            <div id=\"991f5af2-868a-472a-9d5f-36f8cd1395cd\" class=\"plotly-graph-div\" style=\"height:525px; width:100%;\"></div>            <script type=\"text/javascript\">                require([\"plotly\"], function(Plotly) {                    window.PLOTLYENV=window.PLOTLYENV || {};                                    if (document.getElementById(\"991f5af2-868a-472a-9d5f-36f8cd1395cd\")) {                    Plotly.newPlot(                        \"991f5af2-868a-472a-9d5f-36f8cd1395cd\",                        [{\"fillpattern\":{\"shape\":\"\"},\"hovertemplate\":\"Grouped Sector=Andere Sektoren\\u003cbr\\u003eYear=%{x}\\u003cbr\\u003ePercentage of Total=%{y}\\u003cextra\\u003e\\u003c\\u002fextra\\u003e\",\"legendgroup\":\"Andere Sektoren\",\"line\":{\"color\":\"#636efa\"},\"marker\":{\"symbol\":\"circle\"},\"mode\":\"lines\",\"name\":\"Andere Sektoren\",\"orientation\":\"v\",\"showlegend\":true,\"stackgroup\":\"1\",\"x\":[2014,2015,2016,2017,2018,2019,2020,2021],\"xaxis\":\"x\",\"y\":[23.245394994209384,29.308349214098477,24.28266458315066,24.486629435963863,25.179918828509873,21.0865699939542,24.07547168264704,27.198499066178606],\"yaxis\":\"y\",\"type\":\"scatter\"},{\"fillpattern\":{\"shape\":\"\"},\"hovertemplate\":\"Grouped Sector=II.3.a. Energy Policy\\u003cbr\\u003eYear=%{x}\\u003cbr\\u003ePercentage of Total=%{y}\\u003cextra\\u003e\\u003c\\u002fextra\\u003e\",\"legendgroup\":\"II.3.a. Energy Policy\",\"line\":{\"color\":\"#EF553B\"},\"marker\":{\"symbol\":\"circle\"},\"mode\":\"lines\",\"name\":\"II.3.a. Energy Policy\",\"orientation\":\"v\",\"showlegend\":true,\"stackgroup\":\"1\",\"x\":[2014,2015,2016,2017,2018,2019,2020,2021],\"xaxis\":\"x\",\"y\":[6.609622250616589,7.622347727889622,5.332862033434442,6.514365512686336,7.897876987135331,15.796719903885423,5.739522080870366,5.528919795685264],\"yaxis\":\"y\",\"type\":\"scatter\"},{\"fillpattern\":{\"shape\":\"\"},\"hovertemplate\":\"Grouped Sector=II.3.b. Energy generation, renewable sources\\u003cbr\\u003eYear=%{x}\\u003cbr\\u003ePercentage of Total=%{y}\\u003cextra\\u003e\\u003c\\u002fextra\\u003e\",\"legendgroup\":\"II.3.b. Energy generation, renewable sources\",\"line\":{\"color\":\"#00cc96\"},\"marker\":{\"symbol\":\"circle\"},\"mode\":\"lines\",\"name\":\"II.3.b. Energy generation, renewable sources\",\"orientation\":\"v\",\"showlegend\":true,\"stackgroup\":\"1\",\"x\":[2014,2015,2016,2017,2018,2019,2020,2021],\"xaxis\":\"x\",\"y\":[18.599329137839366,19.308915762297175,19.4725010551588,18.89693496327701,19.727127416491665,22.240639315640582,24.129389423936168,21.406973081383825],\"yaxis\":\"y\",\"type\":\"scatter\"},{\"fillpattern\":{\"shape\":\"\"},\"hovertemplate\":\"Grouped Sector=II.4. Banking & Financial Services\\u003cbr\\u003eYear=%{x}\\u003cbr\\u003ePercentage of Total=%{y}\\u003cextra\\u003e\\u003c\\u002fextra\\u003e\",\"legendgroup\":\"II.4. Banking & Financial Services\",\"line\":{\"color\":\"#ab63fa\"},\"marker\":{\"symbol\":\"circle\"},\"mode\":\"lines\",\"name\":\"II.4. Banking & Financial Services\",\"orientation\":\"v\",\"showlegend\":true,\"stackgroup\":\"1\",\"x\":[2014,2015,2016,2017,2018,2019,2020,2021],\"xaxis\":\"x\",\"y\":[5.074815439103515,0.32370765226853876,2.813825998872816,6.258194464442219,7.36317924644262,6.079008126226793,5.195312056410857,6.308556015097003],\"yaxis\":\"y\",\"type\":\"scatter\"},{\"fillpattern\":{\"shape\":\"\"},\"hovertemplate\":\"Grouped Sector=III.1.a. Agriculture\\u003cbr\\u003eYear=%{x}\\u003cbr\\u003ePercentage of Total=%{y}\\u003cextra\\u003e\\u003c\\u002fextra\\u003e\",\"legendgroup\":\"III.1.a. Agriculture\",\"line\":{\"color\":\"#FFA15A\"},\"marker\":{\"symbol\":\"circle\"},\"mode\":\"lines\",\"name\":\"III.1.a. Agriculture\",\"orientation\":\"v\",\"showlegend\":true,\"stackgroup\":\"1\",\"x\":[2014,2015,2016,2017,2018,2019,2020,2021],\"xaxis\":\"x\",\"y\":[4.559433324443167,4.912261361642716,5.020721598319262,5.061142118331552,5.645765945113422,5.827022954078812,6.647187027216803,4.534833889741942],\"yaxis\":\"y\",\"type\":\"scatter\"},{\"fillpattern\":{\"shape\":\"\"},\"hovertemplate\":\"Grouped Sector=III.1.b. Forestry\\u003cbr\\u003eYear=%{x}\\u003cbr\\u003ePercentage of Total=%{y}\\u003cextra\\u003e\\u003c\\u002fextra\\u003e\",\"legendgroup\":\"III.1.b. Forestry\",\"line\":{\"color\":\"#19d3f3\"},\"marker\":{\"symbol\":\"circle\"},\"mode\":\"lines\",\"name\":\"III.1.b. Forestry\",\"orientation\":\"v\",\"showlegend\":true,\"stackgroup\":\"1\",\"x\":[2014,2015,2016,2017,2018,2019,2020,2021],\"xaxis\":\"x\",\"y\":[5.6066948803191154,7.1805868653983875,4.199740203466119,4.294849341575544,4.068175929249077,3.2554740655248486,13.14864268559997,12.866104361224979],\"yaxis\":\"y\",\"type\":\"scatter\"},{\"fillpattern\":{\"shape\":\"\"},\"hovertemplate\":\"Grouped Sector=IV.1. General Environment Protection\\u003cbr\\u003eYear=%{x}\\u003cbr\\u003ePercentage of Total=%{y}\\u003cextra\\u003e\\u003c\\u002fextra\\u003e\",\"legendgroup\":\"IV.1. General Environment Protection\",\"line\":{\"color\":\"#FF6692\"},\"marker\":{\"symbol\":\"circle\"},\"mode\":\"lines\",\"name\":\"IV.1. General Environment Protection\",\"orientation\":\"v\",\"showlegend\":true,\"stackgroup\":\"1\",\"x\":[2014,2015,2016,2017,2018,2019,2020,2021],\"xaxis\":\"x\",\"y\":[36.30470997346886,31.343831416405088,38.8776845275979,34.48788416372348,30.117955647058007,25.714565640689347,21.064475043318794,22.156113790688384],\"yaxis\":\"y\",\"type\":\"scatter\"}],                        {\"template\":{\"data\":{\"histogram2dcontour\":[{\"type\":\"histogram2dcontour\",\"colorbar\":{\"outlinewidth\":0,\"ticks\":\"\"},\"colorscale\":[[0.0,\"#0d0887\"],[0.1111111111111111,\"#46039f\"],[0.2222222222222222,\"#7201a8\"],[0.3333333333333333,\"#9c179e\"],[0.4444444444444444,\"#bd3786\"],[0.5555555555555556,\"#d8576b\"],[0.6666666666666666,\"#ed7953\"],[0.7777777777777778,\"#fb9f3a\"],[0.8888888888888888,\"#fdca26\"],[1.0,\"#f0f921\"]]}],\"choropleth\":[{\"type\":\"choropleth\",\"colorbar\":{\"outlinewidth\":0,\"ticks\":\"\"}}],\"histogram2d\":[{\"type\":\"histogram2d\",\"colorbar\":{\"outlinewidth\":0,\"ticks\":\"\"},\"colorscale\":[[0.0,\"#0d0887\"],[0.1111111111111111,\"#46039f\"],[0.2222222222222222,\"#7201a8\"],[0.3333333333333333,\"#9c179e\"],[0.4444444444444444,\"#bd3786\"],[0.5555555555555556,\"#d8576b\"],[0.6666666666666666,\"#ed7953\"],[0.7777777777777778,\"#fb9f3a\"],[0.8888888888888888,\"#fdca26\"],[1.0,\"#f0f921\"]]}],\"heatmap\":[{\"type\":\"heatmap\",\"colorbar\":{\"outlinewidth\":0,\"ticks\":\"\"},\"colorscale\":[[0.0,\"#0d0887\"],[0.1111111111111111,\"#46039f\"],[0.2222222222222222,\"#7201a8\"],[0.3333333333333333,\"#9c179e\"],[0.4444444444444444,\"#bd3786\"],[0.5555555555555556,\"#d8576b\"],[0.6666666666666666,\"#ed7953\"],[0.7777777777777778,\"#fb9f3a\"],[0.8888888888888888,\"#fdca26\"],[1.0,\"#f0f921\"]]}],\"heatmapgl\":[{\"type\":\"heatmapgl\",\"colorbar\":{\"outlinewidth\":0,\"ticks\":\"\"},\"colorscale\":[[0.0,\"#0d0887\"],[0.1111111111111111,\"#46039f\"],[0.2222222222222222,\"#7201a8\"],[0.3333333333333333,\"#9c179e\"],[0.4444444444444444,\"#bd3786\"],[0.5555555555555556,\"#d8576b\"],[0.6666666666666666,\"#ed7953\"],[0.7777777777777778,\"#fb9f3a\"],[0.8888888888888888,\"#fdca26\"],[1.0,\"#f0f921\"]]}],\"contourcarpet\":[{\"type\":\"contourcarpet\",\"colorbar\":{\"outlinewidth\":0,\"ticks\":\"\"}}],\"contour\":[{\"type\":\"contour\",\"colorbar\":{\"outlinewidth\":0,\"ticks\":\"\"},\"colorscale\":[[0.0,\"#0d0887\"],[0.1111111111111111,\"#46039f\"],[0.2222222222222222,\"#7201a8\"],[0.3333333333333333,\"#9c179e\"],[0.4444444444444444,\"#bd3786\"],[0.5555555555555556,\"#d8576b\"],[0.6666666666666666,\"#ed7953\"],[0.7777777777777778,\"#fb9f3a\"],[0.8888888888888888,\"#fdca26\"],[1.0,\"#f0f921\"]]}],\"surface\":[{\"type\":\"surface\",\"colorbar\":{\"outlinewidth\":0,\"ticks\":\"\"},\"colorscale\":[[0.0,\"#0d0887\"],[0.1111111111111111,\"#46039f\"],[0.2222222222222222,\"#7201a8\"],[0.3333333333333333,\"#9c179e\"],[0.4444444444444444,\"#bd3786\"],[0.5555555555555556,\"#d8576b\"],[0.6666666666666666,\"#ed7953\"],[0.7777777777777778,\"#fb9f3a\"],[0.8888888888888888,\"#fdca26\"],[1.0,\"#f0f921\"]]}],\"mesh3d\":[{\"type\":\"mesh3d\",\"colorbar\":{\"outlinewidth\":0,\"ticks\":\"\"}}],\"scatter\":[{\"fillpattern\":{\"fillmode\":\"overlay\",\"size\":10,\"solidity\":0.2},\"type\":\"scatter\"}],\"parcoords\":[{\"type\":\"parcoords\",\"line\":{\"colorbar\":{\"outlinewidth\":0,\"ticks\":\"\"}}}],\"scatterpolargl\":[{\"type\":\"scatterpolargl\",\"marker\":{\"colorbar\":{\"outlinewidth\":0,\"ticks\":\"\"}}}],\"bar\":[{\"error_x\":{\"color\":\"#2a3f5f\"},\"error_y\":{\"color\":\"#2a3f5f\"},\"marker\":{\"line\":{\"color\":\"#E5ECF6\",\"width\":0.5},\"pattern\":{\"fillmode\":\"overlay\",\"size\":10,\"solidity\":0.2}},\"type\":\"bar\"}],\"scattergeo\":[{\"type\":\"scattergeo\",\"marker\":{\"colorbar\":{\"outlinewidth\":0,\"ticks\":\"\"}}}],\"scatterpolar\":[{\"type\":\"scatterpolar\",\"marker\":{\"colorbar\":{\"outlinewidth\":0,\"ticks\":\"\"}}}],\"histogram\":[{\"marker\":{\"pattern\":{\"fillmode\":\"overlay\",\"size\":10,\"solidity\":0.2}},\"type\":\"histogram\"}],\"scattergl\":[{\"type\":\"scattergl\",\"marker\":{\"colorbar\":{\"outlinewidth\":0,\"ticks\":\"\"}}}],\"scatter3d\":[{\"type\":\"scatter3d\",\"line\":{\"colorbar\":{\"outlinewidth\":0,\"ticks\":\"\"}},\"marker\":{\"colorbar\":{\"outlinewidth\":0,\"ticks\":\"\"}}}],\"scattermapbox\":[{\"type\":\"scattermapbox\",\"marker\":{\"colorbar\":{\"outlinewidth\":0,\"ticks\":\"\"}}}],\"scatterternary\":[{\"type\":\"scatterternary\",\"marker\":{\"colorbar\":{\"outlinewidth\":0,\"ticks\":\"\"}}}],\"scattercarpet\":[{\"type\":\"scattercarpet\",\"marker\":{\"colorbar\":{\"outlinewidth\":0,\"ticks\":\"\"}}}],\"carpet\":[{\"aaxis\":{\"endlinecolor\":\"#2a3f5f\",\"gridcolor\":\"white\",\"linecolor\":\"white\",\"minorgridcolor\":\"white\",\"startlinecolor\":\"#2a3f5f\"},\"baxis\":{\"endlinecolor\":\"#2a3f5f\",\"gridcolor\":\"white\",\"linecolor\":\"white\",\"minorgridcolor\":\"white\",\"startlinecolor\":\"#2a3f5f\"},\"type\":\"carpet\"}],\"table\":[{\"cells\":{\"fill\":{\"color\":\"#EBF0F8\"},\"line\":{\"color\":\"white\"}},\"header\":{\"fill\":{\"color\":\"#C8D4E3\"},\"line\":{\"color\":\"white\"}},\"type\":\"table\"}],\"barpolar\":[{\"marker\":{\"line\":{\"color\":\"#E5ECF6\",\"width\":0.5},\"pattern\":{\"fillmode\":\"overlay\",\"size\":10,\"solidity\":0.2}},\"type\":\"barpolar\"}],\"pie\":[{\"automargin\":true,\"type\":\"pie\"}]},\"layout\":{\"autotypenumbers\":\"strict\",\"colorway\":[\"#636efa\",\"#EF553B\",\"#00cc96\",\"#ab63fa\",\"#FFA15A\",\"#19d3f3\",\"#FF6692\",\"#B6E880\",\"#FF97FF\",\"#FECB52\"],\"font\":{\"color\":\"#2a3f5f\"},\"hovermode\":\"closest\",\"hoverlabel\":{\"align\":\"left\"},\"paper_bgcolor\":\"white\",\"plot_bgcolor\":\"#E5ECF6\",\"polar\":{\"bgcolor\":\"#E5ECF6\",\"angularaxis\":{\"gridcolor\":\"white\",\"linecolor\":\"white\",\"ticks\":\"\"},\"radialaxis\":{\"gridcolor\":\"white\",\"linecolor\":\"white\",\"ticks\":\"\"}},\"ternary\":{\"bgcolor\":\"#E5ECF6\",\"aaxis\":{\"gridcolor\":\"white\",\"linecolor\":\"white\",\"ticks\":\"\"},\"baxis\":{\"gridcolor\":\"white\",\"linecolor\":\"white\",\"ticks\":\"\"},\"caxis\":{\"gridcolor\":\"white\",\"linecolor\":\"white\",\"ticks\":\"\"}},\"coloraxis\":{\"colorbar\":{\"outlinewidth\":0,\"ticks\":\"\"}},\"colorscale\":{\"sequential\":[[0.0,\"#0d0887\"],[0.1111111111111111,\"#46039f\"],[0.2222222222222222,\"#7201a8\"],[0.3333333333333333,\"#9c179e\"],[0.4444444444444444,\"#bd3786\"],[0.5555555555555556,\"#d8576b\"],[0.6666666666666666,\"#ed7953\"],[0.7777777777777778,\"#fb9f3a\"],[0.8888888888888888,\"#fdca26\"],[1.0,\"#f0f921\"]],\"sequentialminus\":[[0.0,\"#0d0887\"],[0.1111111111111111,\"#46039f\"],[0.2222222222222222,\"#7201a8\"],[0.3333333333333333,\"#9c179e\"],[0.4444444444444444,\"#bd3786\"],[0.5555555555555556,\"#d8576b\"],[0.6666666666666666,\"#ed7953\"],[0.7777777777777778,\"#fb9f3a\"],[0.8888888888888888,\"#fdca26\"],[1.0,\"#f0f921\"]],\"diverging\":[[0,\"#8e0152\"],[0.1,\"#c51b7d\"],[0.2,\"#de77ae\"],[0.3,\"#f1b6da\"],[0.4,\"#fde0ef\"],[0.5,\"#f7f7f7\"],[0.6,\"#e6f5d0\"],[0.7,\"#b8e186\"],[0.8,\"#7fbc41\"],[0.9,\"#4d9221\"],[1,\"#276419\"]]},\"xaxis\":{\"gridcolor\":\"white\",\"linecolor\":\"white\",\"ticks\":\"\",\"title\":{\"standoff\":15},\"zerolinecolor\":\"white\",\"automargin\":true,\"zerolinewidth\":2},\"yaxis\":{\"gridcolor\":\"white\",\"linecolor\":\"white\",\"ticks\":\"\",\"title\":{\"standoff\":15},\"zerolinecolor\":\"white\",\"automargin\":true,\"zerolinewidth\":2},\"scene\":{\"xaxis\":{\"backgroundcolor\":\"#E5ECF6\",\"gridcolor\":\"white\",\"linecolor\":\"white\",\"showbackground\":true,\"ticks\":\"\",\"zerolinecolor\":\"white\",\"gridwidth\":2},\"yaxis\":{\"backgroundcolor\":\"#E5ECF6\",\"gridcolor\":\"white\",\"linecolor\":\"white\",\"showbackground\":true,\"ticks\":\"\",\"zerolinecolor\":\"white\",\"gridwidth\":2},\"zaxis\":{\"backgroundcolor\":\"#E5ECF6\",\"gridcolor\":\"white\",\"linecolor\":\"white\",\"showbackground\":true,\"ticks\":\"\",\"zerolinecolor\":\"white\",\"gridwidth\":2}},\"shapedefaults\":{\"line\":{\"color\":\"#2a3f5f\"}},\"annotationdefaults\":{\"arrowcolor\":\"#2a3f5f\",\"arrowhead\":0,\"arrowwidth\":1},\"geo\":{\"bgcolor\":\"white\",\"landcolor\":\"#E5ECF6\",\"subunitcolor\":\"white\",\"showland\":true,\"showlakes\":true,\"lakecolor\":\"white\"},\"title\":{\"x\":0.05},\"mapbox\":{\"style\":\"light\"}}},\"xaxis\":{\"anchor\":\"y\",\"domain\":[0.0,1.0],\"title\":{\"text\":\"Year\"},\"showgrid\":false},\"yaxis\":{\"anchor\":\"x\",\"domain\":[0.0,1.0],\"title\":{\"text\":\"Percentage of Total\"},\"showgrid\":false,\"ticksuffix\":\"%\"},\"legend\":{\"title\":{\"text\":\"Grouped Sector\"},\"tracegroupgap\":0},\"title\":{\"text\":\"Stacked Area Plot of Grouped Sector as Percentage of Total per Year\"},\"paper_bgcolor\":\"white\",\"plot_bgcolor\":\"white\"},                        {\"responsive\": true}                    ).then(function(){\n",
       "                            \n",
       "var gd = document.getElementById('991f5af2-868a-472a-9d5f-36f8cd1395cd');\n",
       "var x = new MutationObserver(function (mutations, observer) {{\n",
       "        var display = window.getComputedStyle(gd).display;\n",
       "        if (!display || display === 'none') {{\n",
       "            console.log([gd, 'removed!']);\n",
       "            Plotly.purge(gd);\n",
       "            observer.disconnect();\n",
       "        }}\n",
       "}});\n",
       "\n",
       "// Listen for the removal of the full notebook cells\n",
       "var notebookContainer = gd.closest('#notebook-container');\n",
       "if (notebookContainer) {{\n",
       "    x.observe(notebookContainer, {childList: true});\n",
       "}}\n",
       "\n",
       "// Listen for the clearing of the current output cell\n",
       "var outputEl = gd.closest('.output');\n",
       "if (outputEl) {{\n",
       "    x.observe(outputEl, {childList: true});\n",
       "}}\n",
       "\n",
       "                        })                };                });            </script>        </div>"
      ]
     },
     "metadata": {},
     "output_type": "display_data"
    }
   ],
   "source": [
    "# Step 4: Create the plot using the 'Percentage' as the y-value and stack the data\n",
    "fig = px.area(longest_df, x='Year', y='Percentage', color='Grouped Sector',\n",
    "              labels={'Percentage': 'Percentage of Total'},\n",
    "              title='Stacked Area Plot of Grouped Sector as Percentage of Total per Year')\n",
    "\n",
    "# Update layout for a cleaner background as you preferred before\n",
    "fig.update_layout(\n",
    "    paper_bgcolor='white',\n",
    "    plot_bgcolor='white',\n",
    "    xaxis=dict(showgrid=False),\n",
    "    yaxis=dict(showgrid=False, ticksuffix=\"%\")  # Add a percentage sign to y-axis ticks\n",
    ")\n",
    "\n",
    "# Show the figure\n",
    "fig.show()"
   ]
  },
  {
   "cell_type": "code",
   "execution_count": null,
   "id": "ad7b1745",
   "metadata": {},
   "outputs": [],
   "source": []
  },
  {
   "cell_type": "code",
   "execution_count": 254,
   "id": "421d0a97",
   "metadata": {},
   "outputs": [
    {
     "data": {
      "application/vnd.plotly.v1+json": {
       "config": {
        "plotlyServerURL": "https://plot.ly"
       },
       "data": [
        {
         "fillpattern": {
          "shape": ""
         },
         "hovertemplate": "Grouped Sector=Andere Sektoren<br>Year=%{x}<br>Amount=%{y}<extra></extra>",
         "legendgroup": "Andere Sektoren",
         "line": {
          "color": "#636efa"
         },
         "marker": {
          "symbol": "circle"
         },
         "mode": "lines",
         "name": "Andere Sektoren",
         "orientation": "v",
         "showlegend": true,
         "stackgroup": "1",
         "type": "scatter",
         "x": [
          2014,
          2015,
          2016,
          2017,
          2018,
          2019,
          2020,
          2021
         ],
         "xaxis": "x",
         "y": [
          138901061.5,
          144012545,
          186340251.5,
          207997088.5,
          215489803.5,
          225038866,
          253763958.5,
          374260962.5
         ],
         "yaxis": "y"
        },
        {
         "fillpattern": {
          "shape": ""
         },
         "hovertemplate": "Grouped Sector=II.3.a. Energy Policy<br>Year=%{x}<br>Amount=%{y}<extra></extra>",
         "legendgroup": "II.3.a. Energy Policy",
         "line": {
          "color": "#EF553B"
         },
         "marker": {
          "symbol": "circle"
         },
         "mode": "lines",
         "name": "II.3.a. Energy Policy",
         "orientation": "v",
         "showlegend": true,
         "stackgroup": "1",
         "type": "scatter",
         "x": [
          2014,
          2015,
          2016,
          2017,
          2018,
          2019,
          2020,
          2021
         ],
         "xaxis": "x",
         "y": [
          39495287.00000001,
          37453958.5,
          40923303.5,
          55335058,
          67590049.5,
          168584835.5,
          60496586,
          76079891
         ],
         "yaxis": "y"
        },
        {
         "fillpattern": {
          "shape": ""
         },
         "hovertemplate": "Grouped Sector=II.3.b. Energy generation, renewable sources<br>Year=%{x}<br>Amount=%{y}<extra></extra>",
         "legendgroup": "II.3.b. Energy generation, renewable sources",
         "line": {
          "color": "#00cc96"
         },
         "marker": {
          "symbol": "circle"
         },
         "mode": "lines",
         "name": "II.3.b. Energy generation, renewable sources",
         "orientation": "v",
         "showlegend": true,
         "stackgroup": "1",
         "type": "scatter",
         "x": [
          2014,
          2015,
          2016,
          2017,
          2018,
          2019,
          2020,
          2021
         ],
         "xaxis": "x",
         "y": [
          111138854,
          94878291.5,
          149428030.5,
          160516475.5,
          168824802,
          237355257.5,
          254332270.5,
          294567517.5
         ],
         "yaxis": "y"
        },
        {
         "fillpattern": {
          "shape": ""
         },
         "hovertemplate": "Grouped Sector=II.4. Banking & Financial Services<br>Year=%{x}<br>Amount=%{y}<extra></extra>",
         "legendgroup": "II.4. Banking & Financial Services",
         "line": {
          "color": "#ab63fa"
         },
         "marker": {
          "symbol": "circle"
         },
         "mode": "lines",
         "name": "II.4. Banking & Financial Services",
         "orientation": "v",
         "showlegend": true,
         "stackgroup": "1",
         "type": "scatter",
         "x": [
          2014,
          2015,
          2016,
          2017,
          2018,
          2019,
          2020,
          2021
         ],
         "xaxis": "x",
         "y": [
          30324167.5,
          1590603.5,
          21592731,
          53159061,
          63014105,
          64876037,
          54760420.5,
          86807960.99999999
         ],
         "yaxis": "y"
        },
        {
         "fillpattern": {
          "shape": ""
         },
         "hovertemplate": "Grouped Sector=III.1.a. Agriculture<br>Year=%{x}<br>Amount=%{y}<extra></extra>",
         "legendgroup": "III.1.a. Agriculture",
         "line": {
          "color": "#FFA15A"
         },
         "marker": {
          "symbol": "circle"
         },
         "mode": "lines",
         "name": "III.1.a. Agriculture",
         "orientation": "v",
         "showlegend": true,
         "stackgroup": "1",
         "type": "scatter",
         "x": [
          2014,
          2015,
          2016,
          2017,
          2018,
          2019,
          2020,
          2021
         ],
         "xaxis": "x",
         "y": [
          27244541.5,
          24137397,
          38528001,
          42990924,
          48316478,
          62186815.5,
          70063694.5,
          62400917.5
         ],
         "yaxis": "y"
        },
        {
         "fillpattern": {
          "shape": ""
         },
         "hovertemplate": "Grouped Sector=III.1.b. Forestry<br>Year=%{x}<br>Amount=%{y}<extra></extra>",
         "legendgroup": "III.1.b. Forestry",
         "line": {
          "color": "#19d3f3"
         },
         "marker": {
          "symbol": "circle"
         },
         "mode": "lines",
         "name": "III.1.b. Forestry",
         "orientation": "v",
         "showlegend": true,
         "stackgroup": "1",
         "type": "scatter",
         "x": [
          2014,
          2015,
          2016,
          2017,
          2018,
          2019,
          2020,
          2021
         ],
         "xaxis": "x",
         "y": [
          33502372,
          35283276.5,
          32227956,
          36481793.5,
          34815459,
          34742881.00000001,
          138591329,
          177042144.5
         ],
         "yaxis": "y"
        },
        {
         "fillpattern": {
          "shape": ""
         },
         "hovertemplate": "Grouped Sector=IV.1. General Environment Protection<br>Year=%{x}<br>Amount=%{y}<extra></extra>",
         "legendgroup": "IV.1. General Environment Protection",
         "line": {
          "color": "#FF6692"
         },
         "marker": {
          "symbol": "circle"
         },
         "mode": "lines",
         "name": "IV.1. General Environment Protection",
         "orientation": "v",
         "showlegend": true,
         "stackgroup": "1",
         "type": "scatter",
         "x": [
          2014,
          2015,
          2016,
          2017,
          2018,
          2019,
          2020,
          2021
         ],
         "xaxis": "x",
         "y": [
          216935989,
          154014301.50000003,
          298339479.5,
          292950874,
          257749534,
          274429492,
          222026992.5,
          304875958.5
         ],
         "yaxis": "y"
        }
       ],
       "layout": {
        "legend": {
         "title": {
          "text": "Grouped Sector"
         },
         "tracegroupgap": 0
        },
        "margin": {
         "t": 60
        },
        "paper_bgcolor": "white",
        "plot_bgcolor": "white",
        "template": {
         "data": {
          "bar": [
           {
            "error_x": {
             "color": "#2a3f5f"
            },
            "error_y": {
             "color": "#2a3f5f"
            },
            "marker": {
             "line": {
              "color": "#E5ECF6",
              "width": 0.5
             },
             "pattern": {
              "fillmode": "overlay",
              "size": 10,
              "solidity": 0.2
             }
            },
            "type": "bar"
           }
          ],
          "barpolar": [
           {
            "marker": {
             "line": {
              "color": "#E5ECF6",
              "width": 0.5
             },
             "pattern": {
              "fillmode": "overlay",
              "size": 10,
              "solidity": 0.2
             }
            },
            "type": "barpolar"
           }
          ],
          "carpet": [
           {
            "aaxis": {
             "endlinecolor": "#2a3f5f",
             "gridcolor": "white",
             "linecolor": "white",
             "minorgridcolor": "white",
             "startlinecolor": "#2a3f5f"
            },
            "baxis": {
             "endlinecolor": "#2a3f5f",
             "gridcolor": "white",
             "linecolor": "white",
             "minorgridcolor": "white",
             "startlinecolor": "#2a3f5f"
            },
            "type": "carpet"
           }
          ],
          "choropleth": [
           {
            "colorbar": {
             "outlinewidth": 0,
             "ticks": ""
            },
            "type": "choropleth"
           }
          ],
          "contour": [
           {
            "colorbar": {
             "outlinewidth": 0,
             "ticks": ""
            },
            "colorscale": [
             [
              0,
              "#0d0887"
             ],
             [
              0.1111111111111111,
              "#46039f"
             ],
             [
              0.2222222222222222,
              "#7201a8"
             ],
             [
              0.3333333333333333,
              "#9c179e"
             ],
             [
              0.4444444444444444,
              "#bd3786"
             ],
             [
              0.5555555555555556,
              "#d8576b"
             ],
             [
              0.6666666666666666,
              "#ed7953"
             ],
             [
              0.7777777777777778,
              "#fb9f3a"
             ],
             [
              0.8888888888888888,
              "#fdca26"
             ],
             [
              1,
              "#f0f921"
             ]
            ],
            "type": "contour"
           }
          ],
          "contourcarpet": [
           {
            "colorbar": {
             "outlinewidth": 0,
             "ticks": ""
            },
            "type": "contourcarpet"
           }
          ],
          "heatmap": [
           {
            "colorbar": {
             "outlinewidth": 0,
             "ticks": ""
            },
            "colorscale": [
             [
              0,
              "#0d0887"
             ],
             [
              0.1111111111111111,
              "#46039f"
             ],
             [
              0.2222222222222222,
              "#7201a8"
             ],
             [
              0.3333333333333333,
              "#9c179e"
             ],
             [
              0.4444444444444444,
              "#bd3786"
             ],
             [
              0.5555555555555556,
              "#d8576b"
             ],
             [
              0.6666666666666666,
              "#ed7953"
             ],
             [
              0.7777777777777778,
              "#fb9f3a"
             ],
             [
              0.8888888888888888,
              "#fdca26"
             ],
             [
              1,
              "#f0f921"
             ]
            ],
            "type": "heatmap"
           }
          ],
          "heatmapgl": [
           {
            "colorbar": {
             "outlinewidth": 0,
             "ticks": ""
            },
            "colorscale": [
             [
              0,
              "#0d0887"
             ],
             [
              0.1111111111111111,
              "#46039f"
             ],
             [
              0.2222222222222222,
              "#7201a8"
             ],
             [
              0.3333333333333333,
              "#9c179e"
             ],
             [
              0.4444444444444444,
              "#bd3786"
             ],
             [
              0.5555555555555556,
              "#d8576b"
             ],
             [
              0.6666666666666666,
              "#ed7953"
             ],
             [
              0.7777777777777778,
              "#fb9f3a"
             ],
             [
              0.8888888888888888,
              "#fdca26"
             ],
             [
              1,
              "#f0f921"
             ]
            ],
            "type": "heatmapgl"
           }
          ],
          "histogram": [
           {
            "marker": {
             "pattern": {
              "fillmode": "overlay",
              "size": 10,
              "solidity": 0.2
             }
            },
            "type": "histogram"
           }
          ],
          "histogram2d": [
           {
            "colorbar": {
             "outlinewidth": 0,
             "ticks": ""
            },
            "colorscale": [
             [
              0,
              "#0d0887"
             ],
             [
              0.1111111111111111,
              "#46039f"
             ],
             [
              0.2222222222222222,
              "#7201a8"
             ],
             [
              0.3333333333333333,
              "#9c179e"
             ],
             [
              0.4444444444444444,
              "#bd3786"
             ],
             [
              0.5555555555555556,
              "#d8576b"
             ],
             [
              0.6666666666666666,
              "#ed7953"
             ],
             [
              0.7777777777777778,
              "#fb9f3a"
             ],
             [
              0.8888888888888888,
              "#fdca26"
             ],
             [
              1,
              "#f0f921"
             ]
            ],
            "type": "histogram2d"
           }
          ],
          "histogram2dcontour": [
           {
            "colorbar": {
             "outlinewidth": 0,
             "ticks": ""
            },
            "colorscale": [
             [
              0,
              "#0d0887"
             ],
             [
              0.1111111111111111,
              "#46039f"
             ],
             [
              0.2222222222222222,
              "#7201a8"
             ],
             [
              0.3333333333333333,
              "#9c179e"
             ],
             [
              0.4444444444444444,
              "#bd3786"
             ],
             [
              0.5555555555555556,
              "#d8576b"
             ],
             [
              0.6666666666666666,
              "#ed7953"
             ],
             [
              0.7777777777777778,
              "#fb9f3a"
             ],
             [
              0.8888888888888888,
              "#fdca26"
             ],
             [
              1,
              "#f0f921"
             ]
            ],
            "type": "histogram2dcontour"
           }
          ],
          "mesh3d": [
           {
            "colorbar": {
             "outlinewidth": 0,
             "ticks": ""
            },
            "type": "mesh3d"
           }
          ],
          "parcoords": [
           {
            "line": {
             "colorbar": {
              "outlinewidth": 0,
              "ticks": ""
             }
            },
            "type": "parcoords"
           }
          ],
          "pie": [
           {
            "automargin": true,
            "type": "pie"
           }
          ],
          "scatter": [
           {
            "fillpattern": {
             "fillmode": "overlay",
             "size": 10,
             "solidity": 0.2
            },
            "type": "scatter"
           }
          ],
          "scatter3d": [
           {
            "line": {
             "colorbar": {
              "outlinewidth": 0,
              "ticks": ""
             }
            },
            "marker": {
             "colorbar": {
              "outlinewidth": 0,
              "ticks": ""
             }
            },
            "type": "scatter3d"
           }
          ],
          "scattercarpet": [
           {
            "marker": {
             "colorbar": {
              "outlinewidth": 0,
              "ticks": ""
             }
            },
            "type": "scattercarpet"
           }
          ],
          "scattergeo": [
           {
            "marker": {
             "colorbar": {
              "outlinewidth": 0,
              "ticks": ""
             }
            },
            "type": "scattergeo"
           }
          ],
          "scattergl": [
           {
            "marker": {
             "colorbar": {
              "outlinewidth": 0,
              "ticks": ""
             }
            },
            "type": "scattergl"
           }
          ],
          "scattermapbox": [
           {
            "marker": {
             "colorbar": {
              "outlinewidth": 0,
              "ticks": ""
             }
            },
            "type": "scattermapbox"
           }
          ],
          "scatterpolar": [
           {
            "marker": {
             "colorbar": {
              "outlinewidth": 0,
              "ticks": ""
             }
            },
            "type": "scatterpolar"
           }
          ],
          "scatterpolargl": [
           {
            "marker": {
             "colorbar": {
              "outlinewidth": 0,
              "ticks": ""
             }
            },
            "type": "scatterpolargl"
           }
          ],
          "scatterternary": [
           {
            "marker": {
             "colorbar": {
              "outlinewidth": 0,
              "ticks": ""
             }
            },
            "type": "scatterternary"
           }
          ],
          "surface": [
           {
            "colorbar": {
             "outlinewidth": 0,
             "ticks": ""
            },
            "colorscale": [
             [
              0,
              "#0d0887"
             ],
             [
              0.1111111111111111,
              "#46039f"
             ],
             [
              0.2222222222222222,
              "#7201a8"
             ],
             [
              0.3333333333333333,
              "#9c179e"
             ],
             [
              0.4444444444444444,
              "#bd3786"
             ],
             [
              0.5555555555555556,
              "#d8576b"
             ],
             [
              0.6666666666666666,
              "#ed7953"
             ],
             [
              0.7777777777777778,
              "#fb9f3a"
             ],
             [
              0.8888888888888888,
              "#fdca26"
             ],
             [
              1,
              "#f0f921"
             ]
            ],
            "type": "surface"
           }
          ],
          "table": [
           {
            "cells": {
             "fill": {
              "color": "#EBF0F8"
             },
             "line": {
              "color": "white"
             }
            },
            "header": {
             "fill": {
              "color": "#C8D4E3"
             },
             "line": {
              "color": "white"
             }
            },
            "type": "table"
           }
          ]
         },
         "layout": {
          "annotationdefaults": {
           "arrowcolor": "#2a3f5f",
           "arrowhead": 0,
           "arrowwidth": 1
          },
          "autotypenumbers": "strict",
          "coloraxis": {
           "colorbar": {
            "outlinewidth": 0,
            "ticks": ""
           }
          },
          "colorscale": {
           "diverging": [
            [
             0,
             "#8e0152"
            ],
            [
             0.1,
             "#c51b7d"
            ],
            [
             0.2,
             "#de77ae"
            ],
            [
             0.3,
             "#f1b6da"
            ],
            [
             0.4,
             "#fde0ef"
            ],
            [
             0.5,
             "#f7f7f7"
            ],
            [
             0.6,
             "#e6f5d0"
            ],
            [
             0.7,
             "#b8e186"
            ],
            [
             0.8,
             "#7fbc41"
            ],
            [
             0.9,
             "#4d9221"
            ],
            [
             1,
             "#276419"
            ]
           ],
           "sequential": [
            [
             0,
             "#0d0887"
            ],
            [
             0.1111111111111111,
             "#46039f"
            ],
            [
             0.2222222222222222,
             "#7201a8"
            ],
            [
             0.3333333333333333,
             "#9c179e"
            ],
            [
             0.4444444444444444,
             "#bd3786"
            ],
            [
             0.5555555555555556,
             "#d8576b"
            ],
            [
             0.6666666666666666,
             "#ed7953"
            ],
            [
             0.7777777777777778,
             "#fb9f3a"
            ],
            [
             0.8888888888888888,
             "#fdca26"
            ],
            [
             1,
             "#f0f921"
            ]
           ],
           "sequentialminus": [
            [
             0,
             "#0d0887"
            ],
            [
             0.1111111111111111,
             "#46039f"
            ],
            [
             0.2222222222222222,
             "#7201a8"
            ],
            [
             0.3333333333333333,
             "#9c179e"
            ],
            [
             0.4444444444444444,
             "#bd3786"
            ],
            [
             0.5555555555555556,
             "#d8576b"
            ],
            [
             0.6666666666666666,
             "#ed7953"
            ],
            [
             0.7777777777777778,
             "#fb9f3a"
            ],
            [
             0.8888888888888888,
             "#fdca26"
            ],
            [
             1,
             "#f0f921"
            ]
           ]
          },
          "colorway": [
           "#636efa",
           "#EF553B",
           "#00cc96",
           "#ab63fa",
           "#FFA15A",
           "#19d3f3",
           "#FF6692",
           "#B6E880",
           "#FF97FF",
           "#FECB52"
          ],
          "font": {
           "color": "#2a3f5f"
          },
          "geo": {
           "bgcolor": "white",
           "lakecolor": "white",
           "landcolor": "#E5ECF6",
           "showlakes": true,
           "showland": true,
           "subunitcolor": "white"
          },
          "hoverlabel": {
           "align": "left"
          },
          "hovermode": "closest",
          "mapbox": {
           "style": "light"
          },
          "paper_bgcolor": "white",
          "plot_bgcolor": "#E5ECF6",
          "polar": {
           "angularaxis": {
            "gridcolor": "white",
            "linecolor": "white",
            "ticks": ""
           },
           "bgcolor": "#E5ECF6",
           "radialaxis": {
            "gridcolor": "white",
            "linecolor": "white",
            "ticks": ""
           }
          },
          "scene": {
           "xaxis": {
            "backgroundcolor": "#E5ECF6",
            "gridcolor": "white",
            "gridwidth": 2,
            "linecolor": "white",
            "showbackground": true,
            "ticks": "",
            "zerolinecolor": "white"
           },
           "yaxis": {
            "backgroundcolor": "#E5ECF6",
            "gridcolor": "white",
            "gridwidth": 2,
            "linecolor": "white",
            "showbackground": true,
            "ticks": "",
            "zerolinecolor": "white"
           },
           "zaxis": {
            "backgroundcolor": "#E5ECF6",
            "gridcolor": "white",
            "gridwidth": 2,
            "linecolor": "white",
            "showbackground": true,
            "ticks": "",
            "zerolinecolor": "white"
           }
          },
          "shapedefaults": {
           "line": {
            "color": "#2a3f5f"
           }
          },
          "ternary": {
           "aaxis": {
            "gridcolor": "white",
            "linecolor": "white",
            "ticks": ""
           },
           "baxis": {
            "gridcolor": "white",
            "linecolor": "white",
            "ticks": ""
           },
           "bgcolor": "#E5ECF6",
           "caxis": {
            "gridcolor": "white",
            "linecolor": "white",
            "ticks": ""
           }
          },
          "title": {
           "x": 0.05
          },
          "xaxis": {
           "automargin": true,
           "gridcolor": "white",
           "linecolor": "white",
           "ticks": "",
           "title": {
            "standoff": 15
           },
           "zerolinecolor": "white",
           "zerolinewidth": 2
          },
          "yaxis": {
           "automargin": true,
           "gridcolor": "white",
           "linecolor": "white",
           "ticks": "",
           "title": {
            "standoff": 15
           },
           "zerolinecolor": "white",
           "zerolinewidth": 2
          }
         }
        },
        "xaxis": {
         "anchor": "y",
         "domain": [
          0,
          1
         ],
         "title": {
          "text": "Year"
         }
        },
        "yaxis": {
         "anchor": "x",
         "domain": [
          0,
          1
         ],
         "title": {
          "text": "Amount"
         }
        }
       }
      },
      "text/html": [
       "<div>                            <div id=\"3829b6ab-afef-4be7-aaad-c82c318c50f5\" class=\"plotly-graph-div\" style=\"height:525px; width:100%;\"></div>            <script type=\"text/javascript\">                require([\"plotly\"], function(Plotly) {                    window.PLOTLYENV=window.PLOTLYENV || {};                                    if (document.getElementById(\"3829b6ab-afef-4be7-aaad-c82c318c50f5\")) {                    Plotly.newPlot(                        \"3829b6ab-afef-4be7-aaad-c82c318c50f5\",                        [{\"fillpattern\":{\"shape\":\"\"},\"hovertemplate\":\"Grouped Sector=Andere Sektoren\\u003cbr\\u003eYear=%{x}\\u003cbr\\u003eAmount=%{y}\\u003cextra\\u003e\\u003c\\u002fextra\\u003e\",\"legendgroup\":\"Andere Sektoren\",\"line\":{\"color\":\"#636efa\"},\"marker\":{\"symbol\":\"circle\"},\"mode\":\"lines\",\"name\":\"Andere Sektoren\",\"orientation\":\"v\",\"showlegend\":true,\"stackgroup\":\"1\",\"x\":[2014,2015,2016,2017,2018,2019,2020,2021],\"xaxis\":\"x\",\"y\":[138901061.5,144012545.0,186340251.5,207997088.5,215489803.5,225038866.0,253763958.5,374260962.5],\"yaxis\":\"y\",\"type\":\"scatter\"},{\"fillpattern\":{\"shape\":\"\"},\"hovertemplate\":\"Grouped Sector=II.3.a. Energy Policy\\u003cbr\\u003eYear=%{x}\\u003cbr\\u003eAmount=%{y}\\u003cextra\\u003e\\u003c\\u002fextra\\u003e\",\"legendgroup\":\"II.3.a. Energy Policy\",\"line\":{\"color\":\"#EF553B\"},\"marker\":{\"symbol\":\"circle\"},\"mode\":\"lines\",\"name\":\"II.3.a. Energy Policy\",\"orientation\":\"v\",\"showlegend\":true,\"stackgroup\":\"1\",\"x\":[2014,2015,2016,2017,2018,2019,2020,2021],\"xaxis\":\"x\",\"y\":[39495287.00000001,37453958.5,40923303.5,55335058.0,67590049.5,168584835.5,60496586.0,76079891.0],\"yaxis\":\"y\",\"type\":\"scatter\"},{\"fillpattern\":{\"shape\":\"\"},\"hovertemplate\":\"Grouped Sector=II.3.b. Energy generation, renewable sources\\u003cbr\\u003eYear=%{x}\\u003cbr\\u003eAmount=%{y}\\u003cextra\\u003e\\u003c\\u002fextra\\u003e\",\"legendgroup\":\"II.3.b. Energy generation, renewable sources\",\"line\":{\"color\":\"#00cc96\"},\"marker\":{\"symbol\":\"circle\"},\"mode\":\"lines\",\"name\":\"II.3.b. Energy generation, renewable sources\",\"orientation\":\"v\",\"showlegend\":true,\"stackgroup\":\"1\",\"x\":[2014,2015,2016,2017,2018,2019,2020,2021],\"xaxis\":\"x\",\"y\":[111138854.0,94878291.5,149428030.5,160516475.5,168824802.0,237355257.5,254332270.5,294567517.5],\"yaxis\":\"y\",\"type\":\"scatter\"},{\"fillpattern\":{\"shape\":\"\"},\"hovertemplate\":\"Grouped Sector=II.4. Banking & Financial Services\\u003cbr\\u003eYear=%{x}\\u003cbr\\u003eAmount=%{y}\\u003cextra\\u003e\\u003c\\u002fextra\\u003e\",\"legendgroup\":\"II.4. Banking & Financial Services\",\"line\":{\"color\":\"#ab63fa\"},\"marker\":{\"symbol\":\"circle\"},\"mode\":\"lines\",\"name\":\"II.4. Banking & Financial Services\",\"orientation\":\"v\",\"showlegend\":true,\"stackgroup\":\"1\",\"x\":[2014,2015,2016,2017,2018,2019,2020,2021],\"xaxis\":\"x\",\"y\":[30324167.5,1590603.5,21592731.0,53159061.0,63014105.0,64876037.0,54760420.5,86807960.99999999],\"yaxis\":\"y\",\"type\":\"scatter\"},{\"fillpattern\":{\"shape\":\"\"},\"hovertemplate\":\"Grouped Sector=III.1.a. Agriculture\\u003cbr\\u003eYear=%{x}\\u003cbr\\u003eAmount=%{y}\\u003cextra\\u003e\\u003c\\u002fextra\\u003e\",\"legendgroup\":\"III.1.a. Agriculture\",\"line\":{\"color\":\"#FFA15A\"},\"marker\":{\"symbol\":\"circle\"},\"mode\":\"lines\",\"name\":\"III.1.a. Agriculture\",\"orientation\":\"v\",\"showlegend\":true,\"stackgroup\":\"1\",\"x\":[2014,2015,2016,2017,2018,2019,2020,2021],\"xaxis\":\"x\",\"y\":[27244541.5,24137397.0,38528001.0,42990924.0,48316478.0,62186815.5,70063694.5,62400917.5],\"yaxis\":\"y\",\"type\":\"scatter\"},{\"fillpattern\":{\"shape\":\"\"},\"hovertemplate\":\"Grouped Sector=III.1.b. Forestry\\u003cbr\\u003eYear=%{x}\\u003cbr\\u003eAmount=%{y}\\u003cextra\\u003e\\u003c\\u002fextra\\u003e\",\"legendgroup\":\"III.1.b. Forestry\",\"line\":{\"color\":\"#19d3f3\"},\"marker\":{\"symbol\":\"circle\"},\"mode\":\"lines\",\"name\":\"III.1.b. Forestry\",\"orientation\":\"v\",\"showlegend\":true,\"stackgroup\":\"1\",\"x\":[2014,2015,2016,2017,2018,2019,2020,2021],\"xaxis\":\"x\",\"y\":[33502372.0,35283276.5,32227956.0,36481793.5,34815459.0,34742881.00000001,138591329.0,177042144.5],\"yaxis\":\"y\",\"type\":\"scatter\"},{\"fillpattern\":{\"shape\":\"\"},\"hovertemplate\":\"Grouped Sector=IV.1. General Environment Protection\\u003cbr\\u003eYear=%{x}\\u003cbr\\u003eAmount=%{y}\\u003cextra\\u003e\\u003c\\u002fextra\\u003e\",\"legendgroup\":\"IV.1. General Environment Protection\",\"line\":{\"color\":\"#FF6692\"},\"marker\":{\"symbol\":\"circle\"},\"mode\":\"lines\",\"name\":\"IV.1. General Environment Protection\",\"orientation\":\"v\",\"showlegend\":true,\"stackgroup\":\"1\",\"x\":[2014,2015,2016,2017,2018,2019,2020,2021],\"xaxis\":\"x\",\"y\":[216935989.0,154014301.50000003,298339479.5,292950874.0,257749534.0,274429492.0,222026992.5,304875958.5],\"yaxis\":\"y\",\"type\":\"scatter\"}],                        {\"template\":{\"data\":{\"histogram2dcontour\":[{\"type\":\"histogram2dcontour\",\"colorbar\":{\"outlinewidth\":0,\"ticks\":\"\"},\"colorscale\":[[0.0,\"#0d0887\"],[0.1111111111111111,\"#46039f\"],[0.2222222222222222,\"#7201a8\"],[0.3333333333333333,\"#9c179e\"],[0.4444444444444444,\"#bd3786\"],[0.5555555555555556,\"#d8576b\"],[0.6666666666666666,\"#ed7953\"],[0.7777777777777778,\"#fb9f3a\"],[0.8888888888888888,\"#fdca26\"],[1.0,\"#f0f921\"]]}],\"choropleth\":[{\"type\":\"choropleth\",\"colorbar\":{\"outlinewidth\":0,\"ticks\":\"\"}}],\"histogram2d\":[{\"type\":\"histogram2d\",\"colorbar\":{\"outlinewidth\":0,\"ticks\":\"\"},\"colorscale\":[[0.0,\"#0d0887\"],[0.1111111111111111,\"#46039f\"],[0.2222222222222222,\"#7201a8\"],[0.3333333333333333,\"#9c179e\"],[0.4444444444444444,\"#bd3786\"],[0.5555555555555556,\"#d8576b\"],[0.6666666666666666,\"#ed7953\"],[0.7777777777777778,\"#fb9f3a\"],[0.8888888888888888,\"#fdca26\"],[1.0,\"#f0f921\"]]}],\"heatmap\":[{\"type\":\"heatmap\",\"colorbar\":{\"outlinewidth\":0,\"ticks\":\"\"},\"colorscale\":[[0.0,\"#0d0887\"],[0.1111111111111111,\"#46039f\"],[0.2222222222222222,\"#7201a8\"],[0.3333333333333333,\"#9c179e\"],[0.4444444444444444,\"#bd3786\"],[0.5555555555555556,\"#d8576b\"],[0.6666666666666666,\"#ed7953\"],[0.7777777777777778,\"#fb9f3a\"],[0.8888888888888888,\"#fdca26\"],[1.0,\"#f0f921\"]]}],\"heatmapgl\":[{\"type\":\"heatmapgl\",\"colorbar\":{\"outlinewidth\":0,\"ticks\":\"\"},\"colorscale\":[[0.0,\"#0d0887\"],[0.1111111111111111,\"#46039f\"],[0.2222222222222222,\"#7201a8\"],[0.3333333333333333,\"#9c179e\"],[0.4444444444444444,\"#bd3786\"],[0.5555555555555556,\"#d8576b\"],[0.6666666666666666,\"#ed7953\"],[0.7777777777777778,\"#fb9f3a\"],[0.8888888888888888,\"#fdca26\"],[1.0,\"#f0f921\"]]}],\"contourcarpet\":[{\"type\":\"contourcarpet\",\"colorbar\":{\"outlinewidth\":0,\"ticks\":\"\"}}],\"contour\":[{\"type\":\"contour\",\"colorbar\":{\"outlinewidth\":0,\"ticks\":\"\"},\"colorscale\":[[0.0,\"#0d0887\"],[0.1111111111111111,\"#46039f\"],[0.2222222222222222,\"#7201a8\"],[0.3333333333333333,\"#9c179e\"],[0.4444444444444444,\"#bd3786\"],[0.5555555555555556,\"#d8576b\"],[0.6666666666666666,\"#ed7953\"],[0.7777777777777778,\"#fb9f3a\"],[0.8888888888888888,\"#fdca26\"],[1.0,\"#f0f921\"]]}],\"surface\":[{\"type\":\"surface\",\"colorbar\":{\"outlinewidth\":0,\"ticks\":\"\"},\"colorscale\":[[0.0,\"#0d0887\"],[0.1111111111111111,\"#46039f\"],[0.2222222222222222,\"#7201a8\"],[0.3333333333333333,\"#9c179e\"],[0.4444444444444444,\"#bd3786\"],[0.5555555555555556,\"#d8576b\"],[0.6666666666666666,\"#ed7953\"],[0.7777777777777778,\"#fb9f3a\"],[0.8888888888888888,\"#fdca26\"],[1.0,\"#f0f921\"]]}],\"mesh3d\":[{\"type\":\"mesh3d\",\"colorbar\":{\"outlinewidth\":0,\"ticks\":\"\"}}],\"scatter\":[{\"fillpattern\":{\"fillmode\":\"overlay\",\"size\":10,\"solidity\":0.2},\"type\":\"scatter\"}],\"parcoords\":[{\"type\":\"parcoords\",\"line\":{\"colorbar\":{\"outlinewidth\":0,\"ticks\":\"\"}}}],\"scatterpolargl\":[{\"type\":\"scatterpolargl\",\"marker\":{\"colorbar\":{\"outlinewidth\":0,\"ticks\":\"\"}}}],\"bar\":[{\"error_x\":{\"color\":\"#2a3f5f\"},\"error_y\":{\"color\":\"#2a3f5f\"},\"marker\":{\"line\":{\"color\":\"#E5ECF6\",\"width\":0.5},\"pattern\":{\"fillmode\":\"overlay\",\"size\":10,\"solidity\":0.2}},\"type\":\"bar\"}],\"scattergeo\":[{\"type\":\"scattergeo\",\"marker\":{\"colorbar\":{\"outlinewidth\":0,\"ticks\":\"\"}}}],\"scatterpolar\":[{\"type\":\"scatterpolar\",\"marker\":{\"colorbar\":{\"outlinewidth\":0,\"ticks\":\"\"}}}],\"histogram\":[{\"marker\":{\"pattern\":{\"fillmode\":\"overlay\",\"size\":10,\"solidity\":0.2}},\"type\":\"histogram\"}],\"scattergl\":[{\"type\":\"scattergl\",\"marker\":{\"colorbar\":{\"outlinewidth\":0,\"ticks\":\"\"}}}],\"scatter3d\":[{\"type\":\"scatter3d\",\"line\":{\"colorbar\":{\"outlinewidth\":0,\"ticks\":\"\"}},\"marker\":{\"colorbar\":{\"outlinewidth\":0,\"ticks\":\"\"}}}],\"scattermapbox\":[{\"type\":\"scattermapbox\",\"marker\":{\"colorbar\":{\"outlinewidth\":0,\"ticks\":\"\"}}}],\"scatterternary\":[{\"type\":\"scatterternary\",\"marker\":{\"colorbar\":{\"outlinewidth\":0,\"ticks\":\"\"}}}],\"scattercarpet\":[{\"type\":\"scattercarpet\",\"marker\":{\"colorbar\":{\"outlinewidth\":0,\"ticks\":\"\"}}}],\"carpet\":[{\"aaxis\":{\"endlinecolor\":\"#2a3f5f\",\"gridcolor\":\"white\",\"linecolor\":\"white\",\"minorgridcolor\":\"white\",\"startlinecolor\":\"#2a3f5f\"},\"baxis\":{\"endlinecolor\":\"#2a3f5f\",\"gridcolor\":\"white\",\"linecolor\":\"white\",\"minorgridcolor\":\"white\",\"startlinecolor\":\"#2a3f5f\"},\"type\":\"carpet\"}],\"table\":[{\"cells\":{\"fill\":{\"color\":\"#EBF0F8\"},\"line\":{\"color\":\"white\"}},\"header\":{\"fill\":{\"color\":\"#C8D4E3\"},\"line\":{\"color\":\"white\"}},\"type\":\"table\"}],\"barpolar\":[{\"marker\":{\"line\":{\"color\":\"#E5ECF6\",\"width\":0.5},\"pattern\":{\"fillmode\":\"overlay\",\"size\":10,\"solidity\":0.2}},\"type\":\"barpolar\"}],\"pie\":[{\"automargin\":true,\"type\":\"pie\"}]},\"layout\":{\"autotypenumbers\":\"strict\",\"colorway\":[\"#636efa\",\"#EF553B\",\"#00cc96\",\"#ab63fa\",\"#FFA15A\",\"#19d3f3\",\"#FF6692\",\"#B6E880\",\"#FF97FF\",\"#FECB52\"],\"font\":{\"color\":\"#2a3f5f\"},\"hovermode\":\"closest\",\"hoverlabel\":{\"align\":\"left\"},\"paper_bgcolor\":\"white\",\"plot_bgcolor\":\"#E5ECF6\",\"polar\":{\"bgcolor\":\"#E5ECF6\",\"angularaxis\":{\"gridcolor\":\"white\",\"linecolor\":\"white\",\"ticks\":\"\"},\"radialaxis\":{\"gridcolor\":\"white\",\"linecolor\":\"white\",\"ticks\":\"\"}},\"ternary\":{\"bgcolor\":\"#E5ECF6\",\"aaxis\":{\"gridcolor\":\"white\",\"linecolor\":\"white\",\"ticks\":\"\"},\"baxis\":{\"gridcolor\":\"white\",\"linecolor\":\"white\",\"ticks\":\"\"},\"caxis\":{\"gridcolor\":\"white\",\"linecolor\":\"white\",\"ticks\":\"\"}},\"coloraxis\":{\"colorbar\":{\"outlinewidth\":0,\"ticks\":\"\"}},\"colorscale\":{\"sequential\":[[0.0,\"#0d0887\"],[0.1111111111111111,\"#46039f\"],[0.2222222222222222,\"#7201a8\"],[0.3333333333333333,\"#9c179e\"],[0.4444444444444444,\"#bd3786\"],[0.5555555555555556,\"#d8576b\"],[0.6666666666666666,\"#ed7953\"],[0.7777777777777778,\"#fb9f3a\"],[0.8888888888888888,\"#fdca26\"],[1.0,\"#f0f921\"]],\"sequentialminus\":[[0.0,\"#0d0887\"],[0.1111111111111111,\"#46039f\"],[0.2222222222222222,\"#7201a8\"],[0.3333333333333333,\"#9c179e\"],[0.4444444444444444,\"#bd3786\"],[0.5555555555555556,\"#d8576b\"],[0.6666666666666666,\"#ed7953\"],[0.7777777777777778,\"#fb9f3a\"],[0.8888888888888888,\"#fdca26\"],[1.0,\"#f0f921\"]],\"diverging\":[[0,\"#8e0152\"],[0.1,\"#c51b7d\"],[0.2,\"#de77ae\"],[0.3,\"#f1b6da\"],[0.4,\"#fde0ef\"],[0.5,\"#f7f7f7\"],[0.6,\"#e6f5d0\"],[0.7,\"#b8e186\"],[0.8,\"#7fbc41\"],[0.9,\"#4d9221\"],[1,\"#276419\"]]},\"xaxis\":{\"gridcolor\":\"white\",\"linecolor\":\"white\",\"ticks\":\"\",\"title\":{\"standoff\":15},\"zerolinecolor\":\"white\",\"automargin\":true,\"zerolinewidth\":2},\"yaxis\":{\"gridcolor\":\"white\",\"linecolor\":\"white\",\"ticks\":\"\",\"title\":{\"standoff\":15},\"zerolinecolor\":\"white\",\"automargin\":true,\"zerolinewidth\":2},\"scene\":{\"xaxis\":{\"backgroundcolor\":\"#E5ECF6\",\"gridcolor\":\"white\",\"linecolor\":\"white\",\"showbackground\":true,\"ticks\":\"\",\"zerolinecolor\":\"white\",\"gridwidth\":2},\"yaxis\":{\"backgroundcolor\":\"#E5ECF6\",\"gridcolor\":\"white\",\"linecolor\":\"white\",\"showbackground\":true,\"ticks\":\"\",\"zerolinecolor\":\"white\",\"gridwidth\":2},\"zaxis\":{\"backgroundcolor\":\"#E5ECF6\",\"gridcolor\":\"white\",\"linecolor\":\"white\",\"showbackground\":true,\"ticks\":\"\",\"zerolinecolor\":\"white\",\"gridwidth\":2}},\"shapedefaults\":{\"line\":{\"color\":\"#2a3f5f\"}},\"annotationdefaults\":{\"arrowcolor\":\"#2a3f5f\",\"arrowhead\":0,\"arrowwidth\":1},\"geo\":{\"bgcolor\":\"white\",\"landcolor\":\"#E5ECF6\",\"subunitcolor\":\"white\",\"showland\":true,\"showlakes\":true,\"lakecolor\":\"white\"},\"title\":{\"x\":0.05},\"mapbox\":{\"style\":\"light\"}}},\"xaxis\":{\"anchor\":\"y\",\"domain\":[0.0,1.0],\"title\":{\"text\":\"Year\"}},\"yaxis\":{\"anchor\":\"x\",\"domain\":[0.0,1.0],\"title\":{\"text\":\"Amount\"}},\"legend\":{\"title\":{\"text\":\"Grouped Sector\"},\"tracegroupgap\":0},\"margin\":{\"t\":60},\"paper_bgcolor\":\"white\",\"plot_bgcolor\":\"white\"},                        {\"responsive\": true}                    ).then(function(){\n",
       "                            \n",
       "var gd = document.getElementById('3829b6ab-afef-4be7-aaad-c82c318c50f5');\n",
       "var x = new MutationObserver(function (mutations, observer) {{\n",
       "        var display = window.getComputedStyle(gd).display;\n",
       "        if (!display || display === 'none') {{\n",
       "            console.log([gd, 'removed!']);\n",
       "            Plotly.purge(gd);\n",
       "            observer.disconnect();\n",
       "        }}\n",
       "}});\n",
       "\n",
       "// Listen for the removal of the full notebook cells\n",
       "var notebookContainer = gd.closest('#notebook-container');\n",
       "if (notebookContainer) {{\n",
       "    x.observe(notebookContainer, {childList: true});\n",
       "}}\n",
       "\n",
       "// Listen for the clearing of the current output cell\n",
       "var outputEl = gd.closest('.output');\n",
       "if (outputEl) {{\n",
       "    x.observe(outputEl, {childList: true});\n",
       "}}\n",
       "\n",
       "                        })                };                });            </script>        </div>"
      ]
     },
     "metadata": {},
     "output_type": "display_data"
    }
   ],
   "source": [
    "showfig = stacked_area_chart(df_merged, 2014, 2021, \"Klimaschutz\", 6, \"abs\")\n",
    "showfig.show()"
   ]
  },
  {
   "cell_type": "code",
   "execution_count": null,
   "id": "389dea56",
   "metadata": {},
   "outputs": [],
   "source": []
  },
  {
   "cell_type": "code",
   "execution_count": null,
   "id": "a7ba14ec",
   "metadata": {},
   "outputs": [],
   "source": []
  },
  {
   "cell_type": "code",
   "execution_count": null,
   "id": "b164eaee",
   "metadata": {},
   "outputs": [],
   "source": []
  },
  {
   "cell_type": "code",
   "execution_count": null,
   "id": "4f88528e",
   "metadata": {},
   "outputs": [],
   "source": []
  },
  {
   "cell_type": "code",
   "execution_count": null,
   "id": "bd943ef4",
   "metadata": {},
   "outputs": [],
   "source": []
  },
  {
   "cell_type": "code",
   "execution_count": null,
   "id": "ae8d6b7f",
   "metadata": {},
   "outputs": [],
   "source": []
  },
  {
   "cell_type": "code",
   "execution_count": null,
   "id": "135020e6",
   "metadata": {},
   "outputs": [],
   "source": []
  },
  {
   "cell_type": "code",
   "execution_count": 201,
   "id": "90129736",
   "metadata": {},
   "outputs": [],
   "source": [
    "df_long = df.melt(id_vars=['Grouped Sector'], var_name='Year', value_name='Amount')\n"
   ]
  },
  {
   "cell_type": "code",
   "execution_count": null,
   "id": "b4632085",
   "metadata": {},
   "outputs": [],
   "source": []
  },
  {
   "cell_type": "code",
   "execution_count": 202,
   "id": "5055f8be",
   "metadata": {},
   "outputs": [
    {
     "data": {
      "text/html": [
       "<div>\n",
       "<style scoped>\n",
       "    .dataframe tbody tr th:only-of-type {\n",
       "        vertical-align: middle;\n",
       "    }\n",
       "\n",
       "    .dataframe tbody tr th {\n",
       "        vertical-align: top;\n",
       "    }\n",
       "\n",
       "    .dataframe thead th {\n",
       "        text-align: right;\n",
       "    }\n",
       "</style>\n",
       "<table border=\"1\" class=\"dataframe\">\n",
       "  <thead>\n",
       "    <tr style=\"text-align: right;\">\n",
       "      <th></th>\n",
       "      <th>Grouped Sector</th>\n",
       "      <th>Year</th>\n",
       "      <th>Amount</th>\n",
       "    </tr>\n",
       "  </thead>\n",
       "  <tbody>\n",
       "    <tr>\n",
       "      <th>0</th>\n",
       "      <td>Other</td>\n",
       "      <td>amount_2013</td>\n",
       "      <td>87245749.0</td>\n",
       "    </tr>\n",
       "    <tr>\n",
       "      <th>1</th>\n",
       "      <td>Other</td>\n",
       "      <td>amount_2013</td>\n",
       "      <td>153930790.0</td>\n",
       "    </tr>\n",
       "    <tr>\n",
       "      <th>2</th>\n",
       "      <td>Other</td>\n",
       "      <td>amount_2013</td>\n",
       "      <td>110570602.0</td>\n",
       "    </tr>\n",
       "    <tr>\n",
       "      <th>3</th>\n",
       "      <td>Other</td>\n",
       "      <td>amount_2013</td>\n",
       "      <td>104939416.0</td>\n",
       "    </tr>\n",
       "    <tr>\n",
       "      <th>4</th>\n",
       "      <td>Other</td>\n",
       "      <td>amount_2013</td>\n",
       "      <td>95765407.0</td>\n",
       "    </tr>\n",
       "    <tr>\n",
       "      <th>...</th>\n",
       "      <td>...</td>\n",
       "      <td>...</td>\n",
       "      <td>...</td>\n",
       "    </tr>\n",
       "    <tr>\n",
       "      <th>413</th>\n",
       "      <td>Other</td>\n",
       "      <td>Sector</td>\n",
       "      <td>VIII.1. Emergency Response</td>\n",
       "    </tr>\n",
       "    <tr>\n",
       "      <th>414</th>\n",
       "      <td>Other</td>\n",
       "      <td>Sector</td>\n",
       "      <td>VIII.2. Reconstruction Relief &amp; Rehabilitation</td>\n",
       "    </tr>\n",
       "    <tr>\n",
       "      <th>415</th>\n",
       "      <td>Other</td>\n",
       "      <td>Sector</td>\n",
       "      <td>VIII.3. Disaster Prevention &amp; Preparedness</td>\n",
       "    </tr>\n",
       "    <tr>\n",
       "      <th>416</th>\n",
       "      <td>Other</td>\n",
       "      <td>Sector</td>\n",
       "      <td>II.3.d. Hybrid energy plants</td>\n",
       "    </tr>\n",
       "    <tr>\n",
       "      <th>417</th>\n",
       "      <td>Other</td>\n",
       "      <td>Sector</td>\n",
       "      <td>I.2.c. Non-communicable diseases (NCDs)</td>\n",
       "    </tr>\n",
       "  </tbody>\n",
       "</table>\n",
       "<p>418 rows × 3 columns</p>\n",
       "</div>"
      ],
      "text/plain": [
       "    Grouped Sector         Year  \\\n",
       "0            Other  amount_2013   \n",
       "1            Other  amount_2013   \n",
       "2            Other  amount_2013   \n",
       "3            Other  amount_2013   \n",
       "4            Other  amount_2013   \n",
       "..             ...          ...   \n",
       "413          Other       Sector   \n",
       "414          Other       Sector   \n",
       "415          Other       Sector   \n",
       "416          Other       Sector   \n",
       "417          Other       Sector   \n",
       "\n",
       "                                             Amount  \n",
       "0                                        87245749.0  \n",
       "1                                       153930790.0  \n",
       "2                                       110570602.0  \n",
       "3                                       104939416.0  \n",
       "4                                        95765407.0  \n",
       "..                                              ...  \n",
       "413                      VIII.1. Emergency Response  \n",
       "414  VIII.2. Reconstruction Relief & Rehabilitation  \n",
       "415      VIII.3. Disaster Prevention & Preparedness  \n",
       "416                    II.3.d. Hybrid energy plants  \n",
       "417         I.2.c. Non-communicable diseases (NCDs)  \n",
       "\n",
       "[418 rows x 3 columns]"
      ]
     },
     "execution_count": 202,
     "metadata": {},
     "output_type": "execute_result"
    }
   ],
   "source": [
    "df_long"
   ]
  },
  {
   "cell_type": "code",
   "execution_count": 191,
   "id": "20b2f863",
   "metadata": {},
   "outputs": [
    {
     "data": {
      "application/vnd.plotly.v1+json": {
       "config": {
        "plotlyServerURL": "https://plot.ly"
       },
       "data": [
        {
         "fillpattern": {
          "shape": ""
         },
         "hovertemplate": "Grouped Sector=I.5.a. Government & Civil Society-general<br>Year=%{x}<br>Amount=%{y}<extra></extra>",
         "legendgroup": "I.5.a. Government & Civil Society-general",
         "line": {
          "color": "#636efa"
         },
         "marker": {
          "symbol": "circle"
         },
         "mode": "lines",
         "name": "I.5.a. Government & Civil Society-general",
         "orientation": "h",
         "showlegend": true,
         "stackgroup": "1",
         "type": "scatter",
         "x": [
          null,
          2013,
          2014,
          2015,
          2016,
          2017,
          2018,
          2019,
          2020,
          2021,
          2022
         ],
         "xaxis": "x",
         "y": [
          "I.5.a. Government & Civil Society-general",
          791300249,
          887065155,
          801639790,
          1024217930,
          964725825,
          1056656674,
          1125044468,
          1140883682,
          1388025588,
          1145696631
         ],
         "yaxis": "y"
        },
        {
         "fillpattern": {
          "shape": ""
         },
         "hovertemplate": "Grouped Sector=I.6. Other Social Infrastructure & Services<br>Year=%{x}<br>Amount=%{y}<extra></extra>",
         "legendgroup": "I.6. Other Social Infrastructure & Services",
         "line": {
          "color": "#EF553B"
         },
         "marker": {
          "symbol": "circle"
         },
         "mode": "lines",
         "name": "I.6. Other Social Infrastructure & Services",
         "orientation": "h",
         "showlegend": true,
         "stackgroup": "1",
         "type": "scatter",
         "x": [
          null,
          2013,
          2014,
          2015,
          2016,
          2017,
          2018,
          2019,
          2020,
          2021,
          2022
         ],
         "xaxis": "x",
         "y": [
          "I.6. Other Social Infrastructure & Services",
          87458268,
          93716503,
          96456718,
          118172602,
          162120574,
          235179781,
          504483565,
          884176427,
          861905528,
          1206424242
         ],
         "yaxis": "y"
        },
        {
         "fillpattern": {
          "shape": ""
         },
         "hovertemplate": "Grouped Sector=III.1.a. Agriculture<br>Year=%{x}<br>Amount=%{y}<extra></extra>",
         "legendgroup": "III.1.a. Agriculture",
         "line": {
          "color": "#00cc96"
         },
         "marker": {
          "symbol": "circle"
         },
         "mode": "lines",
         "name": "III.1.a. Agriculture",
         "orientation": "h",
         "showlegend": true,
         "stackgroup": "1",
         "type": "scatter",
         "x": [
          null,
          2013,
          2014,
          2015,
          2016,
          2017,
          2018,
          2019,
          2020,
          2021,
          2022
         ],
         "xaxis": "x",
         "y": [
          "III.1.a. Agriculture",
          217667968,
          286655821,
          316622347,
          417399385,
          421584259,
          534432409,
          569198468,
          909215857,
          630702769,
          1065854451
         ],
         "yaxis": "y"
        },
        {
         "fillpattern": {
          "shape": ""
         },
         "hovertemplate": "Grouped Sector=IV.1. General Environment Protection<br>Year=%{x}<br>Amount=%{y}<extra></extra>",
         "legendgroup": "IV.1. General Environment Protection",
         "line": {
          "color": "#ab63fa"
         },
         "marker": {
          "symbol": "circle"
         },
         "mode": "lines",
         "name": "IV.1. General Environment Protection",
         "orientation": "h",
         "showlegend": true,
         "stackgroup": "1",
         "type": "scatter",
         "x": [
          null,
          2013,
          2014,
          2015,
          2016,
          2017,
          2018,
          2019,
          2020,
          2021,
          2022
         ],
         "xaxis": "x",
         "y": [
          "IV.1. General Environment Protection",
          305865359,
          418243902,
          346285796,
          622374690,
          569979770,
          584974941,
          583866218,
          535065279.00000006,
          714695976,
          496834824
         ],
         "yaxis": "y"
        },
        {
         "fillpattern": {
          "shape": ""
         },
         "hovertemplate": "Grouped Sector=IV.2. Other Multisector<br>Year=%{x}<br>Amount=%{y}<extra></extra>",
         "legendgroup": "IV.2. Other Multisector",
         "line": {
          "color": "#FFA15A"
         },
         "marker": {
          "symbol": "circle"
         },
         "mode": "lines",
         "name": "IV.2. Other Multisector",
         "orientation": "h",
         "showlegend": true,
         "stackgroup": "1",
         "type": "scatter",
         "x": [
          null,
          2013,
          2014,
          2015,
          2016,
          2017,
          2018,
          2019,
          2020,
          2021,
          2022
         ],
         "xaxis": "x",
         "y": [
          "IV.2. Other Multisector",
          587749666,
          583978189,
          609297355,
          680371765,
          683077087,
          806053700,
          947167737,
          1038362726,
          1091512162,
          1158109774
         ],
         "yaxis": "y"
        },
        {
         "fillpattern": {
          "shape": ""
         },
         "hovertemplate": "Grouped Sector=Other<br>Year=%{x}<br>Amount=%{y}<extra></extra>",
         "legendgroup": "Other",
         "line": {
          "color": "#19d3f3"
         },
         "marker": {
          "symbol": "circle"
         },
         "mode": "lines",
         "name": "Other",
         "orientation": "h",
         "showlegend": true,
         "stackgroup": "1",
         "type": "scatter",
         "x": [
          null,
          2013,
          2014,
          2015,
          2016,
          2017,
          2018,
          2019,
          2020,
          2021,
          2022
         ],
         "xaxis": "x",
         "y": [
          "I.1.a. Education, Level UnspecifiedI.1.b. Basic EducationI.1.c. Secondary EducationI.1.d. Post-Secondary EducationI.2.a. Health, GeneralI.2.b. Basic HealthI.3. Population Policies/Programmes & Reproductive HealthI.4. Water Supply & SanitationI.5.b. Conflict, Peace & SecurityII.1. Transport & StorageII.2. CommunicationsII.3.a. Energy PolicyII.3.b. Energy generation, renewable sourcesII.3.c. Energy generation, non-renewable sourcesII.3.f. Energy distributionII.4. Banking & Financial ServicesII.5. Business & Other ServicesIII.1.b. ForestryIII.1.c. FishingIII.2.a. IndustryIII.2.b. Mineral Resources & MiningIII.2.c. ConstructionIII.3.a. Trade Policies & RegulationsIII.3.b. TourismIX. Unallocated / UnspecifiedVI.1. General Budget SupportVI.2. Development Food AssistanceVII. Action Relating to DebtVIII.1. Emergency ResponseVIII.2. Reconstruction Relief & RehabilitationVIII.3. Disaster Prevention & PreparednessII.3.d. Hybrid energy plantsI.2.c. Non-communicable diseases (NCDs)",
          3125743418,
          4053460256,
          3146201428,
          4034471650,
          4403199455,
          4795394078,
          4902822471,
          5787003311,
          5906573106,
          6379334240
         ],
         "yaxis": "y"
        }
       ],
       "layout": {
        "legend": {
         "title": {
          "text": "Grouped Sector"
         },
         "tracegroupgap": 0
        },
        "margin": {
         "t": 60
        },
        "template": {
         "data": {
          "bar": [
           {
            "error_x": {
             "color": "#2a3f5f"
            },
            "error_y": {
             "color": "#2a3f5f"
            },
            "marker": {
             "line": {
              "color": "#E5ECF6",
              "width": 0.5
             },
             "pattern": {
              "fillmode": "overlay",
              "size": 10,
              "solidity": 0.2
             }
            },
            "type": "bar"
           }
          ],
          "barpolar": [
           {
            "marker": {
             "line": {
              "color": "#E5ECF6",
              "width": 0.5
             },
             "pattern": {
              "fillmode": "overlay",
              "size": 10,
              "solidity": 0.2
             }
            },
            "type": "barpolar"
           }
          ],
          "carpet": [
           {
            "aaxis": {
             "endlinecolor": "#2a3f5f",
             "gridcolor": "white",
             "linecolor": "white",
             "minorgridcolor": "white",
             "startlinecolor": "#2a3f5f"
            },
            "baxis": {
             "endlinecolor": "#2a3f5f",
             "gridcolor": "white",
             "linecolor": "white",
             "minorgridcolor": "white",
             "startlinecolor": "#2a3f5f"
            },
            "type": "carpet"
           }
          ],
          "choropleth": [
           {
            "colorbar": {
             "outlinewidth": 0,
             "ticks": ""
            },
            "type": "choropleth"
           }
          ],
          "contour": [
           {
            "colorbar": {
             "outlinewidth": 0,
             "ticks": ""
            },
            "colorscale": [
             [
              0,
              "#0d0887"
             ],
             [
              0.1111111111111111,
              "#46039f"
             ],
             [
              0.2222222222222222,
              "#7201a8"
             ],
             [
              0.3333333333333333,
              "#9c179e"
             ],
             [
              0.4444444444444444,
              "#bd3786"
             ],
             [
              0.5555555555555556,
              "#d8576b"
             ],
             [
              0.6666666666666666,
              "#ed7953"
             ],
             [
              0.7777777777777778,
              "#fb9f3a"
             ],
             [
              0.8888888888888888,
              "#fdca26"
             ],
             [
              1,
              "#f0f921"
             ]
            ],
            "type": "contour"
           }
          ],
          "contourcarpet": [
           {
            "colorbar": {
             "outlinewidth": 0,
             "ticks": ""
            },
            "type": "contourcarpet"
           }
          ],
          "heatmap": [
           {
            "colorbar": {
             "outlinewidth": 0,
             "ticks": ""
            },
            "colorscale": [
             [
              0,
              "#0d0887"
             ],
             [
              0.1111111111111111,
              "#46039f"
             ],
             [
              0.2222222222222222,
              "#7201a8"
             ],
             [
              0.3333333333333333,
              "#9c179e"
             ],
             [
              0.4444444444444444,
              "#bd3786"
             ],
             [
              0.5555555555555556,
              "#d8576b"
             ],
             [
              0.6666666666666666,
              "#ed7953"
             ],
             [
              0.7777777777777778,
              "#fb9f3a"
             ],
             [
              0.8888888888888888,
              "#fdca26"
             ],
             [
              1,
              "#f0f921"
             ]
            ],
            "type": "heatmap"
           }
          ],
          "heatmapgl": [
           {
            "colorbar": {
             "outlinewidth": 0,
             "ticks": ""
            },
            "colorscale": [
             [
              0,
              "#0d0887"
             ],
             [
              0.1111111111111111,
              "#46039f"
             ],
             [
              0.2222222222222222,
              "#7201a8"
             ],
             [
              0.3333333333333333,
              "#9c179e"
             ],
             [
              0.4444444444444444,
              "#bd3786"
             ],
             [
              0.5555555555555556,
              "#d8576b"
             ],
             [
              0.6666666666666666,
              "#ed7953"
             ],
             [
              0.7777777777777778,
              "#fb9f3a"
             ],
             [
              0.8888888888888888,
              "#fdca26"
             ],
             [
              1,
              "#f0f921"
             ]
            ],
            "type": "heatmapgl"
           }
          ],
          "histogram": [
           {
            "marker": {
             "pattern": {
              "fillmode": "overlay",
              "size": 10,
              "solidity": 0.2
             }
            },
            "type": "histogram"
           }
          ],
          "histogram2d": [
           {
            "colorbar": {
             "outlinewidth": 0,
             "ticks": ""
            },
            "colorscale": [
             [
              0,
              "#0d0887"
             ],
             [
              0.1111111111111111,
              "#46039f"
             ],
             [
              0.2222222222222222,
              "#7201a8"
             ],
             [
              0.3333333333333333,
              "#9c179e"
             ],
             [
              0.4444444444444444,
              "#bd3786"
             ],
             [
              0.5555555555555556,
              "#d8576b"
             ],
             [
              0.6666666666666666,
              "#ed7953"
             ],
             [
              0.7777777777777778,
              "#fb9f3a"
             ],
             [
              0.8888888888888888,
              "#fdca26"
             ],
             [
              1,
              "#f0f921"
             ]
            ],
            "type": "histogram2d"
           }
          ],
          "histogram2dcontour": [
           {
            "colorbar": {
             "outlinewidth": 0,
             "ticks": ""
            },
            "colorscale": [
             [
              0,
              "#0d0887"
             ],
             [
              0.1111111111111111,
              "#46039f"
             ],
             [
              0.2222222222222222,
              "#7201a8"
             ],
             [
              0.3333333333333333,
              "#9c179e"
             ],
             [
              0.4444444444444444,
              "#bd3786"
             ],
             [
              0.5555555555555556,
              "#d8576b"
             ],
             [
              0.6666666666666666,
              "#ed7953"
             ],
             [
              0.7777777777777778,
              "#fb9f3a"
             ],
             [
              0.8888888888888888,
              "#fdca26"
             ],
             [
              1,
              "#f0f921"
             ]
            ],
            "type": "histogram2dcontour"
           }
          ],
          "mesh3d": [
           {
            "colorbar": {
             "outlinewidth": 0,
             "ticks": ""
            },
            "type": "mesh3d"
           }
          ],
          "parcoords": [
           {
            "line": {
             "colorbar": {
              "outlinewidth": 0,
              "ticks": ""
             }
            },
            "type": "parcoords"
           }
          ],
          "pie": [
           {
            "automargin": true,
            "type": "pie"
           }
          ],
          "scatter": [
           {
            "fillpattern": {
             "fillmode": "overlay",
             "size": 10,
             "solidity": 0.2
            },
            "type": "scatter"
           }
          ],
          "scatter3d": [
           {
            "line": {
             "colorbar": {
              "outlinewidth": 0,
              "ticks": ""
             }
            },
            "marker": {
             "colorbar": {
              "outlinewidth": 0,
              "ticks": ""
             }
            },
            "type": "scatter3d"
           }
          ],
          "scattercarpet": [
           {
            "marker": {
             "colorbar": {
              "outlinewidth": 0,
              "ticks": ""
             }
            },
            "type": "scattercarpet"
           }
          ],
          "scattergeo": [
           {
            "marker": {
             "colorbar": {
              "outlinewidth": 0,
              "ticks": ""
             }
            },
            "type": "scattergeo"
           }
          ],
          "scattergl": [
           {
            "marker": {
             "colorbar": {
              "outlinewidth": 0,
              "ticks": ""
             }
            },
            "type": "scattergl"
           }
          ],
          "scattermapbox": [
           {
            "marker": {
             "colorbar": {
              "outlinewidth": 0,
              "ticks": ""
             }
            },
            "type": "scattermapbox"
           }
          ],
          "scatterpolar": [
           {
            "marker": {
             "colorbar": {
              "outlinewidth": 0,
              "ticks": ""
             }
            },
            "type": "scatterpolar"
           }
          ],
          "scatterpolargl": [
           {
            "marker": {
             "colorbar": {
              "outlinewidth": 0,
              "ticks": ""
             }
            },
            "type": "scatterpolargl"
           }
          ],
          "scatterternary": [
           {
            "marker": {
             "colorbar": {
              "outlinewidth": 0,
              "ticks": ""
             }
            },
            "type": "scatterternary"
           }
          ],
          "surface": [
           {
            "colorbar": {
             "outlinewidth": 0,
             "ticks": ""
            },
            "colorscale": [
             [
              0,
              "#0d0887"
             ],
             [
              0.1111111111111111,
              "#46039f"
             ],
             [
              0.2222222222222222,
              "#7201a8"
             ],
             [
              0.3333333333333333,
              "#9c179e"
             ],
             [
              0.4444444444444444,
              "#bd3786"
             ],
             [
              0.5555555555555556,
              "#d8576b"
             ],
             [
              0.6666666666666666,
              "#ed7953"
             ],
             [
              0.7777777777777778,
              "#fb9f3a"
             ],
             [
              0.8888888888888888,
              "#fdca26"
             ],
             [
              1,
              "#f0f921"
             ]
            ],
            "type": "surface"
           }
          ],
          "table": [
           {
            "cells": {
             "fill": {
              "color": "#EBF0F8"
             },
             "line": {
              "color": "white"
             }
            },
            "header": {
             "fill": {
              "color": "#C8D4E3"
             },
             "line": {
              "color": "white"
             }
            },
            "type": "table"
           }
          ]
         },
         "layout": {
          "annotationdefaults": {
           "arrowcolor": "#2a3f5f",
           "arrowhead": 0,
           "arrowwidth": 1
          },
          "autotypenumbers": "strict",
          "coloraxis": {
           "colorbar": {
            "outlinewidth": 0,
            "ticks": ""
           }
          },
          "colorscale": {
           "diverging": [
            [
             0,
             "#8e0152"
            ],
            [
             0.1,
             "#c51b7d"
            ],
            [
             0.2,
             "#de77ae"
            ],
            [
             0.3,
             "#f1b6da"
            ],
            [
             0.4,
             "#fde0ef"
            ],
            [
             0.5,
             "#f7f7f7"
            ],
            [
             0.6,
             "#e6f5d0"
            ],
            [
             0.7,
             "#b8e186"
            ],
            [
             0.8,
             "#7fbc41"
            ],
            [
             0.9,
             "#4d9221"
            ],
            [
             1,
             "#276419"
            ]
           ],
           "sequential": [
            [
             0,
             "#0d0887"
            ],
            [
             0.1111111111111111,
             "#46039f"
            ],
            [
             0.2222222222222222,
             "#7201a8"
            ],
            [
             0.3333333333333333,
             "#9c179e"
            ],
            [
             0.4444444444444444,
             "#bd3786"
            ],
            [
             0.5555555555555556,
             "#d8576b"
            ],
            [
             0.6666666666666666,
             "#ed7953"
            ],
            [
             0.7777777777777778,
             "#fb9f3a"
            ],
            [
             0.8888888888888888,
             "#fdca26"
            ],
            [
             1,
             "#f0f921"
            ]
           ],
           "sequentialminus": [
            [
             0,
             "#0d0887"
            ],
            [
             0.1111111111111111,
             "#46039f"
            ],
            [
             0.2222222222222222,
             "#7201a8"
            ],
            [
             0.3333333333333333,
             "#9c179e"
            ],
            [
             0.4444444444444444,
             "#bd3786"
            ],
            [
             0.5555555555555556,
             "#d8576b"
            ],
            [
             0.6666666666666666,
             "#ed7953"
            ],
            [
             0.7777777777777778,
             "#fb9f3a"
            ],
            [
             0.8888888888888888,
             "#fdca26"
            ],
            [
             1,
             "#f0f921"
            ]
           ]
          },
          "colorway": [
           "#636efa",
           "#EF553B",
           "#00cc96",
           "#ab63fa",
           "#FFA15A",
           "#19d3f3",
           "#FF6692",
           "#B6E880",
           "#FF97FF",
           "#FECB52"
          ],
          "font": {
           "color": "#2a3f5f"
          },
          "geo": {
           "bgcolor": "white",
           "lakecolor": "white",
           "landcolor": "#E5ECF6",
           "showlakes": true,
           "showland": true,
           "subunitcolor": "white"
          },
          "hoverlabel": {
           "align": "left"
          },
          "hovermode": "closest",
          "mapbox": {
           "style": "light"
          },
          "paper_bgcolor": "white",
          "plot_bgcolor": "#E5ECF6",
          "polar": {
           "angularaxis": {
            "gridcolor": "white",
            "linecolor": "white",
            "ticks": ""
           },
           "bgcolor": "#E5ECF6",
           "radialaxis": {
            "gridcolor": "white",
            "linecolor": "white",
            "ticks": ""
           }
          },
          "scene": {
           "xaxis": {
            "backgroundcolor": "#E5ECF6",
            "gridcolor": "white",
            "gridwidth": 2,
            "linecolor": "white",
            "showbackground": true,
            "ticks": "",
            "zerolinecolor": "white"
           },
           "yaxis": {
            "backgroundcolor": "#E5ECF6",
            "gridcolor": "white",
            "gridwidth": 2,
            "linecolor": "white",
            "showbackground": true,
            "ticks": "",
            "zerolinecolor": "white"
           },
           "zaxis": {
            "backgroundcolor": "#E5ECF6",
            "gridcolor": "white",
            "gridwidth": 2,
            "linecolor": "white",
            "showbackground": true,
            "ticks": "",
            "zerolinecolor": "white"
           }
          },
          "shapedefaults": {
           "line": {
            "color": "#2a3f5f"
           }
          },
          "ternary": {
           "aaxis": {
            "gridcolor": "white",
            "linecolor": "white",
            "ticks": ""
           },
           "baxis": {
            "gridcolor": "white",
            "linecolor": "white",
            "ticks": ""
           },
           "bgcolor": "#E5ECF6",
           "caxis": {
            "gridcolor": "white",
            "linecolor": "white",
            "ticks": ""
           }
          },
          "title": {
           "x": 0.05
          },
          "xaxis": {
           "automargin": true,
           "gridcolor": "white",
           "linecolor": "white",
           "ticks": "",
           "title": {
            "standoff": 15
           },
           "zerolinecolor": "white",
           "zerolinewidth": 2
          },
          "yaxis": {
           "automargin": true,
           "gridcolor": "white",
           "linecolor": "white",
           "ticks": "",
           "title": {
            "standoff": 15
           },
           "zerolinecolor": "white",
           "zerolinewidth": 2
          }
         }
        },
        "xaxis": {
         "anchor": "y",
         "domain": [
          0,
          1
         ],
         "title": {
          "text": "Year"
         }
        },
        "yaxis": {
         "anchor": "x",
         "domain": [
          0,
          1
         ],
         "title": {
          "text": "Amount"
         }
        }
       }
      },
      "text/html": [
       "<div>                            <div id=\"f0593923-4f61-44dc-935b-745ab189218b\" class=\"plotly-graph-div\" style=\"height:525px; width:100%;\"></div>            <script type=\"text/javascript\">                require([\"plotly\"], function(Plotly) {                    window.PLOTLYENV=window.PLOTLYENV || {};                                    if (document.getElementById(\"f0593923-4f61-44dc-935b-745ab189218b\")) {                    Plotly.newPlot(                        \"f0593923-4f61-44dc-935b-745ab189218b\",                        [{\"fillpattern\":{\"shape\":\"\"},\"hovertemplate\":\"Grouped Sector=I.5.a. Government & Civil Society-general\\u003cbr\\u003eYear=%{x}\\u003cbr\\u003eAmount=%{y}\\u003cextra\\u003e\\u003c\\u002fextra\\u003e\",\"legendgroup\":\"I.5.a. Government & Civil Society-general\",\"line\":{\"color\":\"#636efa\"},\"marker\":{\"symbol\":\"circle\"},\"mode\":\"lines\",\"name\":\"I.5.a. Government & Civil Society-general\",\"orientation\":\"h\",\"showlegend\":true,\"stackgroup\":\"1\",\"x\":[null,2013.0,2014.0,2015.0,2016.0,2017.0,2018.0,2019.0,2020.0,2021.0,2022.0],\"xaxis\":\"x\",\"y\":[\"I.5.a. Government & Civil Society-general\",791300249.0,887065155.0,801639790.0,1024217930.0,964725825.0,1056656674.0,1125044468.0,1140883682.0,1388025588.0,1145696631.0],\"yaxis\":\"y\",\"type\":\"scatter\"},{\"fillpattern\":{\"shape\":\"\"},\"hovertemplate\":\"Grouped Sector=I.6. Other Social Infrastructure & Services\\u003cbr\\u003eYear=%{x}\\u003cbr\\u003eAmount=%{y}\\u003cextra\\u003e\\u003c\\u002fextra\\u003e\",\"legendgroup\":\"I.6. Other Social Infrastructure & Services\",\"line\":{\"color\":\"#EF553B\"},\"marker\":{\"symbol\":\"circle\"},\"mode\":\"lines\",\"name\":\"I.6. Other Social Infrastructure & Services\",\"orientation\":\"h\",\"showlegend\":true,\"stackgroup\":\"1\",\"x\":[null,2013.0,2014.0,2015.0,2016.0,2017.0,2018.0,2019.0,2020.0,2021.0,2022.0],\"xaxis\":\"x\",\"y\":[\"I.6. Other Social Infrastructure & Services\",87458268.0,93716503.0,96456718.0,118172602.0,162120574.0,235179781.0,504483565.0,884176427.0,861905528.0,1206424242.0],\"yaxis\":\"y\",\"type\":\"scatter\"},{\"fillpattern\":{\"shape\":\"\"},\"hovertemplate\":\"Grouped Sector=III.1.a. Agriculture\\u003cbr\\u003eYear=%{x}\\u003cbr\\u003eAmount=%{y}\\u003cextra\\u003e\\u003c\\u002fextra\\u003e\",\"legendgroup\":\"III.1.a. Agriculture\",\"line\":{\"color\":\"#00cc96\"},\"marker\":{\"symbol\":\"circle\"},\"mode\":\"lines\",\"name\":\"III.1.a. Agriculture\",\"orientation\":\"h\",\"showlegend\":true,\"stackgroup\":\"1\",\"x\":[null,2013.0,2014.0,2015.0,2016.0,2017.0,2018.0,2019.0,2020.0,2021.0,2022.0],\"xaxis\":\"x\",\"y\":[\"III.1.a. Agriculture\",217667968.0,286655821.0,316622347.0,417399385.0,421584259.0,534432409.0,569198468.0,909215857.0,630702769.0,1065854451.0],\"yaxis\":\"y\",\"type\":\"scatter\"},{\"fillpattern\":{\"shape\":\"\"},\"hovertemplate\":\"Grouped Sector=IV.1. General Environment Protection\\u003cbr\\u003eYear=%{x}\\u003cbr\\u003eAmount=%{y}\\u003cextra\\u003e\\u003c\\u002fextra\\u003e\",\"legendgroup\":\"IV.1. General Environment Protection\",\"line\":{\"color\":\"#ab63fa\"},\"marker\":{\"symbol\":\"circle\"},\"mode\":\"lines\",\"name\":\"IV.1. General Environment Protection\",\"orientation\":\"h\",\"showlegend\":true,\"stackgroup\":\"1\",\"x\":[null,2013.0,2014.0,2015.0,2016.0,2017.0,2018.0,2019.0,2020.0,2021.0,2022.0],\"xaxis\":\"x\",\"y\":[\"IV.1. General Environment Protection\",305865359.0,418243902.0,346285796.0,622374690.0,569979770.0,584974941.0,583866218.0,535065279.00000006,714695976.0,496834824.0],\"yaxis\":\"y\",\"type\":\"scatter\"},{\"fillpattern\":{\"shape\":\"\"},\"hovertemplate\":\"Grouped Sector=IV.2. Other Multisector\\u003cbr\\u003eYear=%{x}\\u003cbr\\u003eAmount=%{y}\\u003cextra\\u003e\\u003c\\u002fextra\\u003e\",\"legendgroup\":\"IV.2. Other Multisector\",\"line\":{\"color\":\"#FFA15A\"},\"marker\":{\"symbol\":\"circle\"},\"mode\":\"lines\",\"name\":\"IV.2. Other Multisector\",\"orientation\":\"h\",\"showlegend\":true,\"stackgroup\":\"1\",\"x\":[null,2013.0,2014.0,2015.0,2016.0,2017.0,2018.0,2019.0,2020.0,2021.0,2022.0],\"xaxis\":\"x\",\"y\":[\"IV.2. Other Multisector\",587749666.0,583978189.0,609297355.0,680371765.0,683077087.0,806053700.0,947167737.0,1038362726.0,1091512162.0,1158109774.0],\"yaxis\":\"y\",\"type\":\"scatter\"},{\"fillpattern\":{\"shape\":\"\"},\"hovertemplate\":\"Grouped Sector=Other\\u003cbr\\u003eYear=%{x}\\u003cbr\\u003eAmount=%{y}\\u003cextra\\u003e\\u003c\\u002fextra\\u003e\",\"legendgroup\":\"Other\",\"line\":{\"color\":\"#19d3f3\"},\"marker\":{\"symbol\":\"circle\"},\"mode\":\"lines\",\"name\":\"Other\",\"orientation\":\"h\",\"showlegend\":true,\"stackgroup\":\"1\",\"x\":[null,2013.0,2014.0,2015.0,2016.0,2017.0,2018.0,2019.0,2020.0,2021.0,2022.0],\"xaxis\":\"x\",\"y\":[\"I.1.a. Education, Level UnspecifiedI.1.b. Basic EducationI.1.c. Secondary EducationI.1.d. Post-Secondary EducationI.2.a. Health, GeneralI.2.b. Basic HealthI.3. Population Policies\\u002fProgrammes & Reproductive HealthI.4. Water Supply & SanitationI.5.b. Conflict, Peace & SecurityII.1. Transport & StorageII.2. CommunicationsII.3.a. Energy PolicyII.3.b. Energy generation, renewable sourcesII.3.c. Energy generation, non-renewable sourcesII.3.f. Energy distributionII.4. Banking & Financial ServicesII.5. Business & Other ServicesIII.1.b. ForestryIII.1.c. FishingIII.2.a. IndustryIII.2.b. Mineral Resources & MiningIII.2.c. ConstructionIII.3.a. Trade Policies & RegulationsIII.3.b. TourismIX. Unallocated \\u002f UnspecifiedVI.1. General Budget SupportVI.2. Development Food AssistanceVII. Action Relating to DebtVIII.1. Emergency ResponseVIII.2. Reconstruction Relief & RehabilitationVIII.3. Disaster Prevention & PreparednessII.3.d. Hybrid energy plantsI.2.c. Non-communicable diseases (NCDs)\",3125743418.0,4053460256.0,3146201428.0,4034471650.0,4403199455.0,4795394078.0,4902822471.0,5787003311.0,5906573106.0,6379334240.0],\"yaxis\":\"y\",\"type\":\"scatter\"}],                        {\"template\":{\"data\":{\"histogram2dcontour\":[{\"type\":\"histogram2dcontour\",\"colorbar\":{\"outlinewidth\":0,\"ticks\":\"\"},\"colorscale\":[[0.0,\"#0d0887\"],[0.1111111111111111,\"#46039f\"],[0.2222222222222222,\"#7201a8\"],[0.3333333333333333,\"#9c179e\"],[0.4444444444444444,\"#bd3786\"],[0.5555555555555556,\"#d8576b\"],[0.6666666666666666,\"#ed7953\"],[0.7777777777777778,\"#fb9f3a\"],[0.8888888888888888,\"#fdca26\"],[1.0,\"#f0f921\"]]}],\"choropleth\":[{\"type\":\"choropleth\",\"colorbar\":{\"outlinewidth\":0,\"ticks\":\"\"}}],\"histogram2d\":[{\"type\":\"histogram2d\",\"colorbar\":{\"outlinewidth\":0,\"ticks\":\"\"},\"colorscale\":[[0.0,\"#0d0887\"],[0.1111111111111111,\"#46039f\"],[0.2222222222222222,\"#7201a8\"],[0.3333333333333333,\"#9c179e\"],[0.4444444444444444,\"#bd3786\"],[0.5555555555555556,\"#d8576b\"],[0.6666666666666666,\"#ed7953\"],[0.7777777777777778,\"#fb9f3a\"],[0.8888888888888888,\"#fdca26\"],[1.0,\"#f0f921\"]]}],\"heatmap\":[{\"type\":\"heatmap\",\"colorbar\":{\"outlinewidth\":0,\"ticks\":\"\"},\"colorscale\":[[0.0,\"#0d0887\"],[0.1111111111111111,\"#46039f\"],[0.2222222222222222,\"#7201a8\"],[0.3333333333333333,\"#9c179e\"],[0.4444444444444444,\"#bd3786\"],[0.5555555555555556,\"#d8576b\"],[0.6666666666666666,\"#ed7953\"],[0.7777777777777778,\"#fb9f3a\"],[0.8888888888888888,\"#fdca26\"],[1.0,\"#f0f921\"]]}],\"heatmapgl\":[{\"type\":\"heatmapgl\",\"colorbar\":{\"outlinewidth\":0,\"ticks\":\"\"},\"colorscale\":[[0.0,\"#0d0887\"],[0.1111111111111111,\"#46039f\"],[0.2222222222222222,\"#7201a8\"],[0.3333333333333333,\"#9c179e\"],[0.4444444444444444,\"#bd3786\"],[0.5555555555555556,\"#d8576b\"],[0.6666666666666666,\"#ed7953\"],[0.7777777777777778,\"#fb9f3a\"],[0.8888888888888888,\"#fdca26\"],[1.0,\"#f0f921\"]]}],\"contourcarpet\":[{\"type\":\"contourcarpet\",\"colorbar\":{\"outlinewidth\":0,\"ticks\":\"\"}}],\"contour\":[{\"type\":\"contour\",\"colorbar\":{\"outlinewidth\":0,\"ticks\":\"\"},\"colorscale\":[[0.0,\"#0d0887\"],[0.1111111111111111,\"#46039f\"],[0.2222222222222222,\"#7201a8\"],[0.3333333333333333,\"#9c179e\"],[0.4444444444444444,\"#bd3786\"],[0.5555555555555556,\"#d8576b\"],[0.6666666666666666,\"#ed7953\"],[0.7777777777777778,\"#fb9f3a\"],[0.8888888888888888,\"#fdca26\"],[1.0,\"#f0f921\"]]}],\"surface\":[{\"type\":\"surface\",\"colorbar\":{\"outlinewidth\":0,\"ticks\":\"\"},\"colorscale\":[[0.0,\"#0d0887\"],[0.1111111111111111,\"#46039f\"],[0.2222222222222222,\"#7201a8\"],[0.3333333333333333,\"#9c179e\"],[0.4444444444444444,\"#bd3786\"],[0.5555555555555556,\"#d8576b\"],[0.6666666666666666,\"#ed7953\"],[0.7777777777777778,\"#fb9f3a\"],[0.8888888888888888,\"#fdca26\"],[1.0,\"#f0f921\"]]}],\"mesh3d\":[{\"type\":\"mesh3d\",\"colorbar\":{\"outlinewidth\":0,\"ticks\":\"\"}}],\"scatter\":[{\"fillpattern\":{\"fillmode\":\"overlay\",\"size\":10,\"solidity\":0.2},\"type\":\"scatter\"}],\"parcoords\":[{\"type\":\"parcoords\",\"line\":{\"colorbar\":{\"outlinewidth\":0,\"ticks\":\"\"}}}],\"scatterpolargl\":[{\"type\":\"scatterpolargl\",\"marker\":{\"colorbar\":{\"outlinewidth\":0,\"ticks\":\"\"}}}],\"bar\":[{\"error_x\":{\"color\":\"#2a3f5f\"},\"error_y\":{\"color\":\"#2a3f5f\"},\"marker\":{\"line\":{\"color\":\"#E5ECF6\",\"width\":0.5},\"pattern\":{\"fillmode\":\"overlay\",\"size\":10,\"solidity\":0.2}},\"type\":\"bar\"}],\"scattergeo\":[{\"type\":\"scattergeo\",\"marker\":{\"colorbar\":{\"outlinewidth\":0,\"ticks\":\"\"}}}],\"scatterpolar\":[{\"type\":\"scatterpolar\",\"marker\":{\"colorbar\":{\"outlinewidth\":0,\"ticks\":\"\"}}}],\"histogram\":[{\"marker\":{\"pattern\":{\"fillmode\":\"overlay\",\"size\":10,\"solidity\":0.2}},\"type\":\"histogram\"}],\"scattergl\":[{\"type\":\"scattergl\",\"marker\":{\"colorbar\":{\"outlinewidth\":0,\"ticks\":\"\"}}}],\"scatter3d\":[{\"type\":\"scatter3d\",\"line\":{\"colorbar\":{\"outlinewidth\":0,\"ticks\":\"\"}},\"marker\":{\"colorbar\":{\"outlinewidth\":0,\"ticks\":\"\"}}}],\"scattermapbox\":[{\"type\":\"scattermapbox\",\"marker\":{\"colorbar\":{\"outlinewidth\":0,\"ticks\":\"\"}}}],\"scatterternary\":[{\"type\":\"scatterternary\",\"marker\":{\"colorbar\":{\"outlinewidth\":0,\"ticks\":\"\"}}}],\"scattercarpet\":[{\"type\":\"scattercarpet\",\"marker\":{\"colorbar\":{\"outlinewidth\":0,\"ticks\":\"\"}}}],\"carpet\":[{\"aaxis\":{\"endlinecolor\":\"#2a3f5f\",\"gridcolor\":\"white\",\"linecolor\":\"white\",\"minorgridcolor\":\"white\",\"startlinecolor\":\"#2a3f5f\"},\"baxis\":{\"endlinecolor\":\"#2a3f5f\",\"gridcolor\":\"white\",\"linecolor\":\"white\",\"minorgridcolor\":\"white\",\"startlinecolor\":\"#2a3f5f\"},\"type\":\"carpet\"}],\"table\":[{\"cells\":{\"fill\":{\"color\":\"#EBF0F8\"},\"line\":{\"color\":\"white\"}},\"header\":{\"fill\":{\"color\":\"#C8D4E3\"},\"line\":{\"color\":\"white\"}},\"type\":\"table\"}],\"barpolar\":[{\"marker\":{\"line\":{\"color\":\"#E5ECF6\",\"width\":0.5},\"pattern\":{\"fillmode\":\"overlay\",\"size\":10,\"solidity\":0.2}},\"type\":\"barpolar\"}],\"pie\":[{\"automargin\":true,\"type\":\"pie\"}]},\"layout\":{\"autotypenumbers\":\"strict\",\"colorway\":[\"#636efa\",\"#EF553B\",\"#00cc96\",\"#ab63fa\",\"#FFA15A\",\"#19d3f3\",\"#FF6692\",\"#B6E880\",\"#FF97FF\",\"#FECB52\"],\"font\":{\"color\":\"#2a3f5f\"},\"hovermode\":\"closest\",\"hoverlabel\":{\"align\":\"left\"},\"paper_bgcolor\":\"white\",\"plot_bgcolor\":\"#E5ECF6\",\"polar\":{\"bgcolor\":\"#E5ECF6\",\"angularaxis\":{\"gridcolor\":\"white\",\"linecolor\":\"white\",\"ticks\":\"\"},\"radialaxis\":{\"gridcolor\":\"white\",\"linecolor\":\"white\",\"ticks\":\"\"}},\"ternary\":{\"bgcolor\":\"#E5ECF6\",\"aaxis\":{\"gridcolor\":\"white\",\"linecolor\":\"white\",\"ticks\":\"\"},\"baxis\":{\"gridcolor\":\"white\",\"linecolor\":\"white\",\"ticks\":\"\"},\"caxis\":{\"gridcolor\":\"white\",\"linecolor\":\"white\",\"ticks\":\"\"}},\"coloraxis\":{\"colorbar\":{\"outlinewidth\":0,\"ticks\":\"\"}},\"colorscale\":{\"sequential\":[[0.0,\"#0d0887\"],[0.1111111111111111,\"#46039f\"],[0.2222222222222222,\"#7201a8\"],[0.3333333333333333,\"#9c179e\"],[0.4444444444444444,\"#bd3786\"],[0.5555555555555556,\"#d8576b\"],[0.6666666666666666,\"#ed7953\"],[0.7777777777777778,\"#fb9f3a\"],[0.8888888888888888,\"#fdca26\"],[1.0,\"#f0f921\"]],\"sequentialminus\":[[0.0,\"#0d0887\"],[0.1111111111111111,\"#46039f\"],[0.2222222222222222,\"#7201a8\"],[0.3333333333333333,\"#9c179e\"],[0.4444444444444444,\"#bd3786\"],[0.5555555555555556,\"#d8576b\"],[0.6666666666666666,\"#ed7953\"],[0.7777777777777778,\"#fb9f3a\"],[0.8888888888888888,\"#fdca26\"],[1.0,\"#f0f921\"]],\"diverging\":[[0,\"#8e0152\"],[0.1,\"#c51b7d\"],[0.2,\"#de77ae\"],[0.3,\"#f1b6da\"],[0.4,\"#fde0ef\"],[0.5,\"#f7f7f7\"],[0.6,\"#e6f5d0\"],[0.7,\"#b8e186\"],[0.8,\"#7fbc41\"],[0.9,\"#4d9221\"],[1,\"#276419\"]]},\"xaxis\":{\"gridcolor\":\"white\",\"linecolor\":\"white\",\"ticks\":\"\",\"title\":{\"standoff\":15},\"zerolinecolor\":\"white\",\"automargin\":true,\"zerolinewidth\":2},\"yaxis\":{\"gridcolor\":\"white\",\"linecolor\":\"white\",\"ticks\":\"\",\"title\":{\"standoff\":15},\"zerolinecolor\":\"white\",\"automargin\":true,\"zerolinewidth\":2},\"scene\":{\"xaxis\":{\"backgroundcolor\":\"#E5ECF6\",\"gridcolor\":\"white\",\"linecolor\":\"white\",\"showbackground\":true,\"ticks\":\"\",\"zerolinecolor\":\"white\",\"gridwidth\":2},\"yaxis\":{\"backgroundcolor\":\"#E5ECF6\",\"gridcolor\":\"white\",\"linecolor\":\"white\",\"showbackground\":true,\"ticks\":\"\",\"zerolinecolor\":\"white\",\"gridwidth\":2},\"zaxis\":{\"backgroundcolor\":\"#E5ECF6\",\"gridcolor\":\"white\",\"linecolor\":\"white\",\"showbackground\":true,\"ticks\":\"\",\"zerolinecolor\":\"white\",\"gridwidth\":2}},\"shapedefaults\":{\"line\":{\"color\":\"#2a3f5f\"}},\"annotationdefaults\":{\"arrowcolor\":\"#2a3f5f\",\"arrowhead\":0,\"arrowwidth\":1},\"geo\":{\"bgcolor\":\"white\",\"landcolor\":\"#E5ECF6\",\"subunitcolor\":\"white\",\"showland\":true,\"showlakes\":true,\"lakecolor\":\"white\"},\"title\":{\"x\":0.05},\"mapbox\":{\"style\":\"light\"}}},\"xaxis\":{\"anchor\":\"y\",\"domain\":[0.0,1.0],\"title\":{\"text\":\"Year\"}},\"yaxis\":{\"anchor\":\"x\",\"domain\":[0.0,1.0],\"title\":{\"text\":\"Amount\"}},\"legend\":{\"title\":{\"text\":\"Grouped Sector\"},\"tracegroupgap\":0},\"margin\":{\"t\":60}},                        {\"responsive\": true}                    ).then(function(){\n",
       "                            \n",
       "var gd = document.getElementById('f0593923-4f61-44dc-935b-745ab189218b');\n",
       "var x = new MutationObserver(function (mutations, observer) {{\n",
       "        var display = window.getComputedStyle(gd).display;\n",
       "        if (!display || display === 'none') {{\n",
       "            console.log([gd, 'removed!']);\n",
       "            Plotly.purge(gd);\n",
       "            observer.disconnect();\n",
       "        }}\n",
       "}});\n",
       "\n",
       "// Listen for the removal of the full notebook cells\n",
       "var notebookContainer = gd.closest('#notebook-container');\n",
       "if (notebookContainer) {{\n",
       "    x.observe(notebookContainer, {childList: true});\n",
       "}}\n",
       "\n",
       "// Listen for the clearing of the current output cell\n",
       "var outputEl = gd.closest('.output');\n",
       "if (outputEl) {{\n",
       "    x.observe(outputEl, {childList: true});\n",
       "}}\n",
       "\n",
       "                        })                };                });            </script>        </div>"
      ]
     },
     "metadata": {},
     "output_type": "display_data"
    }
   ],
   "source": [
    "\n",
    "\n",
    "# Melt the adjusted DataFrame\n",
    "df_long = df.melt(id_vars=['Grouped Sector'], var_name='Year', value_name='Amount')\n",
    "\n",
    "# Sum amounts for 'Other' by year\n",
    "df_long = df_long.groupby(['Grouped Sector', 'Year']).sum().reset_index()\n",
    "\n",
    "# Extract year from the 'Year' column\n",
    "df_long['Year'] = df_long['Year'].str.extract('(\\d+)')\n",
    "\n",
    "# Convert the Year column to numeric\n",
    "df_long['Year'] = pd.to_numeric(df_long['Year'])\n",
    "\n",
    "# Create a filled area plot\n",
    "fig = px.area(df_long, x='Year', y='Amount', color='Grouped Sector', line_group='Grouped Sector')\n",
    "\n",
    "# Show the plot\n",
    "fig.show()"
   ]
  },
  {
   "cell_type": "code",
   "execution_count": 187,
   "id": "f8d0330f",
   "metadata": {},
   "outputs": [
    {
     "data": {
      "application/vnd.plotly.v1+json": {
       "config": {
        "plotlyServerURL": "https://plot.ly"
       },
       "data": [
        {
         "fillpattern": {
          "shape": ""
         },
         "hovertemplate": "Sector=I.1.a. Education, Level Unspecified<br>Year=%{x}<br>Amount=%{y}<extra></extra>",
         "legendgroup": "I.1.a. Education, Level Unspecified",
         "line": {
          "color": "#636efa"
         },
         "marker": {
          "symbol": "circle"
         },
         "mode": "lines",
         "name": "I.1.a. Education, Level Unspecified",
         "orientation": "v",
         "showlegend": true,
         "stackgroup": "1",
         "type": "scatter",
         "x": [
          2013,
          2014,
          2015,
          2016,
          2017,
          2018,
          2019,
          2020,
          2021,
          2022
         ],
         "xaxis": "x",
         "y": [
          87245749,
          73771448,
          83159233,
          86800258,
          92559681,
          136474993,
          150119022,
          226390311,
          252428270,
          265014798
         ],
         "yaxis": "y"
        },
        {
         "fillpattern": {
          "shape": ""
         },
         "hovertemplate": "Sector=I.1.b. Basic Education<br>Year=%{x}<br>Amount=%{y}<extra></extra>",
         "legendgroup": "I.1.b. Basic Education",
         "line": {
          "color": "#EF553B"
         },
         "marker": {
          "symbol": "circle"
         },
         "mode": "lines",
         "name": "I.1.b. Basic Education",
         "orientation": "v",
         "showlegend": true,
         "stackgroup": "1",
         "type": "scatter",
         "x": [
          2013,
          2014,
          2015,
          2016,
          2017,
          2018,
          2019,
          2020,
          2021,
          2022
         ],
         "xaxis": "x",
         "y": [
          153930790,
          169047826,
          247260621,
          239081905,
          163615478,
          181657973,
          276331320,
          392548038,
          270355294,
          237274430
         ],
         "yaxis": "y"
        },
        {
         "fillpattern": {
          "shape": ""
         },
         "hovertemplate": "Sector=I.1.c. Secondary Education<br>Year=%{x}<br>Amount=%{y}<extra></extra>",
         "legendgroup": "I.1.c. Secondary Education",
         "line": {
          "color": "#00cc96"
         },
         "marker": {
          "symbol": "circle"
         },
         "mode": "lines",
         "name": "I.1.c. Secondary Education",
         "orientation": "v",
         "showlegend": true,
         "stackgroup": "1",
         "type": "scatter",
         "x": [
          2013,
          2014,
          2015,
          2016,
          2017,
          2018,
          2019,
          2020,
          2021,
          2022
         ],
         "xaxis": "x",
         "y": [
          110570602,
          123680119,
          163751111,
          202396396,
          223352113,
          250950674,
          289645386,
          275831187,
          338886399,
          336204882
         ],
         "yaxis": "y"
        },
        {
         "fillpattern": {
          "shape": ""
         },
         "hovertemplate": "Sector=I.1.d. Post-Secondary Education<br>Year=%{x}<br>Amount=%{y}<extra></extra>",
         "legendgroup": "I.1.d. Post-Secondary Education",
         "line": {
          "color": "#ab63fa"
         },
         "marker": {
          "symbol": "circle"
         },
         "mode": "lines",
         "name": "I.1.d. Post-Secondary Education",
         "orientation": "v",
         "showlegend": true,
         "stackgroup": "1",
         "type": "scatter",
         "x": [
          2013,
          2014,
          2015,
          2016,
          2017,
          2018,
          2019,
          2020,
          2021,
          2022
         ],
         "xaxis": "x",
         "y": [
          104939416,
          91545807,
          94759451,
          100578689,
          103391182,
          98107775,
          89302996,
          101871845,
          100411047,
          107771939
         ],
         "yaxis": "y"
        },
        {
         "fillpattern": {
          "shape": ""
         },
         "hovertemplate": "Sector=I.2.a. Health, General<br>Year=%{x}<br>Amount=%{y}<extra></extra>",
         "legendgroup": "I.2.a. Health, General",
         "line": {
          "color": "#FFA15A"
         },
         "marker": {
          "symbol": "circle"
         },
         "mode": "lines",
         "name": "I.2.a. Health, General",
         "orientation": "v",
         "showlegend": true,
         "stackgroup": "1",
         "type": "scatter",
         "x": [
          2013,
          2014,
          2015,
          2016,
          2017,
          2018,
          2019,
          2020,
          2021,
          2022
         ],
         "xaxis": "x",
         "y": [
          95765407,
          86811675.99999999,
          89366936,
          87638400,
          98101881,
          110607243,
          129421547,
          174007970,
          166209784,
          174278158
         ],
         "yaxis": "y"
        },
        {
         "fillpattern": {
          "shape": ""
         },
         "hovertemplate": "Sector=I.2.b. Basic Health<br>Year=%{x}<br>Amount=%{y}<extra></extra>",
         "legendgroup": "I.2.b. Basic Health",
         "line": {
          "color": "#19d3f3"
         },
         "marker": {
          "symbol": "circle"
         },
         "mode": "lines",
         "name": "I.2.b. Basic Health",
         "orientation": "v",
         "showlegend": true,
         "stackgroup": "1",
         "type": "scatter",
         "x": [
          2013,
          2014,
          2015,
          2016,
          2017,
          2018,
          2019,
          2020,
          2021,
          2022
         ],
         "xaxis": "x",
         "y": [
          158133749,
          173291741,
          149021692,
          186325695,
          251097178,
          295861576,
          316922164,
          511053424,
          458272545,
          1199102079
         ],
         "yaxis": "y"
        },
        {
         "fillpattern": {
          "shape": ""
         },
         "hovertemplate": "Sector=I.3. Population Policies/Programmes & Reproductive Health<br>Year=%{x}<br>Amount=%{y}<extra></extra>",
         "legendgroup": "I.3. Population Policies/Programmes & Reproductive Health",
         "line": {
          "color": "#FF6692"
         },
         "marker": {
          "symbol": "circle"
         },
         "mode": "lines",
         "name": "I.3. Population Policies/Programmes & Reproductive Health",
         "orientation": "v",
         "showlegend": true,
         "stackgroup": "1",
         "type": "scatter",
         "x": [
          2013,
          2014,
          2015,
          2016,
          2017,
          2018,
          2019,
          2020,
          2021,
          2022
         ],
         "xaxis": "x",
         "y": [
          154994846,
          160573929,
          159666195,
          195485322,
          162382796,
          151233217,
          140140758,
          158732896,
          172118568,
          179901281
         ],
         "yaxis": "y"
        },
        {
         "fillpattern": {
          "shape": ""
         },
         "hovertemplate": "Sector=I.4. Water Supply & Sanitation<br>Year=%{x}<br>Amount=%{y}<extra></extra>",
         "legendgroup": "I.4. Water Supply & Sanitation",
         "line": {
          "color": "#B6E880"
         },
         "marker": {
          "symbol": "circle"
         },
         "mode": "lines",
         "name": "I.4. Water Supply & Sanitation",
         "orientation": "v",
         "showlegend": true,
         "stackgroup": "1",
         "type": "scatter",
         "x": [
          2013,
          2014,
          2015,
          2016,
          2017,
          2018,
          2019,
          2020,
          2021,
          2022
         ],
         "xaxis": "x",
         "y": [
          340989113,
          349651904,
          342565770,
          418833837,
          439533061,
          468769446,
          440633893,
          466670394,
          490291625,
          479942386
         ],
         "yaxis": "y"
        },
        {
         "fillpattern": {
          "shape": ""
         },
         "hovertemplate": "Sector=I.5.a. Government & Civil Society-general<br>Year=%{x}<br>Amount=%{y}<extra></extra>",
         "legendgroup": "I.5.a. Government & Civil Society-general",
         "line": {
          "color": "#FF97FF"
         },
         "marker": {
          "symbol": "circle"
         },
         "mode": "lines",
         "name": "I.5.a. Government & Civil Society-general",
         "orientation": "v",
         "showlegend": true,
         "stackgroup": "1",
         "type": "scatter",
         "x": [
          2013,
          2014,
          2015,
          2016,
          2017,
          2018,
          2019,
          2020,
          2021,
          2022
         ],
         "xaxis": "x",
         "y": [
          791300249,
          887065155,
          801639790,
          1024217930,
          964725825,
          1056656674,
          1125044468,
          1140883682,
          1388025588,
          1145696631
         ],
         "yaxis": "y"
        },
        {
         "fillpattern": {
          "shape": ""
         },
         "hovertemplate": "Sector=I.5.b. Conflict, Peace & Security<br>Year=%{x}<br>Amount=%{y}<extra></extra>",
         "legendgroup": "I.5.b. Conflict, Peace & Security",
         "line": {
          "color": "#FECB52"
         },
         "marker": {
          "symbol": "circle"
         },
         "mode": "lines",
         "name": "I.5.b. Conflict, Peace & Security",
         "orientation": "v",
         "showlegend": true,
         "stackgroup": "1",
         "type": "scatter",
         "x": [
          2013,
          2014,
          2015,
          2016,
          2017,
          2018,
          2019,
          2020,
          2021,
          2022
         ],
         "xaxis": "x",
         "y": [
          132299555,
          142017188,
          155547184,
          177827718,
          225322447,
          294585501.99999994,
          244152893,
          325751884,
          396513655,
          369056762
         ],
         "yaxis": "y"
        },
        {
         "fillpattern": {
          "shape": ""
         },
         "hovertemplate": "Sector=I.6. Other Social Infrastructure & Services<br>Year=%{x}<br>Amount=%{y}<extra></extra>",
         "legendgroup": "I.6. Other Social Infrastructure & Services",
         "line": {
          "color": "#636efa"
         },
         "marker": {
          "symbol": "circle"
         },
         "mode": "lines",
         "name": "I.6. Other Social Infrastructure & Services",
         "orientation": "v",
         "showlegend": true,
         "stackgroup": "1",
         "type": "scatter",
         "x": [
          2013,
          2014,
          2015,
          2016,
          2017,
          2018,
          2019,
          2020,
          2021,
          2022
         ],
         "xaxis": "x",
         "y": [
          87458268,
          93716503,
          96456718,
          118172602,
          162120574,
          235179781,
          504483565,
          884176427,
          861905528,
          1206424242
         ],
         "yaxis": "y"
        },
        {
         "fillpattern": {
          "shape": ""
         },
         "hovertemplate": "Sector=II.1. Transport & Storage<br>Year=%{x}<br>Amount=%{y}<extra></extra>",
         "legendgroup": "II.1. Transport & Storage",
         "line": {
          "color": "#EF553B"
         },
         "marker": {
          "symbol": "circle"
         },
         "mode": "lines",
         "name": "II.1. Transport & Storage",
         "orientation": "v",
         "showlegend": true,
         "stackgroup": "1",
         "type": "scatter",
         "x": [
          2013,
          2014,
          2015,
          2016,
          2017,
          2018,
          2019,
          2020,
          2021,
          2022
         ],
         "xaxis": "x",
         "y": [
          51541005,
          48951315,
          64747675,
          57021899,
          52262630,
          66919255.00000001,
          49779747,
          68598259,
          68635853,
          47373099
         ],
         "yaxis": "y"
        },
        {
         "fillpattern": {
          "shape": ""
         },
         "hovertemplate": "Sector=II.2. Communications<br>Year=%{x}<br>Amount=%{y}<extra></extra>",
         "legendgroup": "II.2. Communications",
         "line": {
          "color": "#00cc96"
         },
         "marker": {
          "symbol": "circle"
         },
         "mode": "lines",
         "name": "II.2. Communications",
         "orientation": "v",
         "showlegend": true,
         "stackgroup": "1",
         "type": "scatter",
         "x": [
          2013,
          2014,
          2015,
          2016,
          2017,
          2018,
          2019,
          2020,
          2021,
          2022
         ],
         "xaxis": "x",
         "y": [
          4195314,
          3124732,
          2144173,
          2485459,
          5409180,
          8778806,
          13066496.999999998,
          23479852,
          56454291.99999999,
          65428028
         ],
         "yaxis": "y"
        },
        {
         "fillpattern": {
          "shape": ""
         },
         "hovertemplate": "Sector=II.3.a. Energy Policy<br>Year=%{x}<br>Amount=%{y}<extra></extra>",
         "legendgroup": "II.3.a. Energy Policy",
         "line": {
          "color": "#ab63fa"
         },
         "marker": {
          "symbol": "circle"
         },
         "mode": "lines",
         "name": "II.3.a. Energy Policy",
         "orientation": "v",
         "showlegend": true,
         "stackgroup": "1",
         "type": "scatter",
         "x": [
          2013,
          2014,
          2015,
          2016,
          2017,
          2018,
          2019,
          2020,
          2021,
          2022
         ],
         "xaxis": "x",
         "y": [
          56480637,
          55282512,
          49497105,
          50789064,
          67503927,
          76050387,
          195203482,
          81104087,
          89331366,
          154189699
         ],
         "yaxis": "y"
        },
        {
         "fillpattern": {
          "shape": ""
         },
         "hovertemplate": "Sector=II.3.b. Energy generation, renewable sources<br>Year=%{x}<br>Amount=%{y}<extra></extra>",
         "legendgroup": "II.3.b. Energy generation, renewable sources",
         "line": {
          "color": "#FFA15A"
         },
         "marker": {
          "symbol": "circle"
         },
         "mode": "lines",
         "name": "II.3.b. Energy generation, renewable sources",
         "orientation": "v",
         "showlegend": true,
         "stackgroup": "1",
         "type": "scatter",
         "x": [
          2013,
          2014,
          2015,
          2016,
          2017,
          2018,
          2019,
          2020,
          2021,
          2022
         ],
         "xaxis": "x",
         "y": [
          126315398,
          139470585,
          108942136,
          159022667,
          171403238.99999997,
          181692570.00000003,
          250435538,
          348450996.00000006,
          313986037,
          428966252
         ],
         "yaxis": "y"
        },
        {
         "fillpattern": {
          "shape": ""
         },
         "hovertemplate": "Sector=II.3.c. Energy generation, non-renewable sources<br>Year=%{x}<br>Amount=%{y}<extra></extra>",
         "legendgroup": "II.3.c. Energy generation, non-renewable sources",
         "line": {
          "color": "#19d3f3"
         },
         "marker": {
          "symbol": "circle"
         },
         "mode": "lines",
         "name": "II.3.c. Energy generation, non-renewable sources",
         "orientation": "v",
         "showlegend": true,
         "stackgroup": "1",
         "type": "scatter",
         "x": [
          2013,
          2014,
          2015,
          2016,
          2017,
          2018,
          2019,
          2020,
          2021,
          2022
         ],
         "xaxis": "x",
         "y": [
          8449438,
          2092299,
          3047765.9999999995,
          1949085,
          629289,
          7661885,
          2732794,
          758418,
          1105688,
          4350797
         ],
         "yaxis": "y"
        },
        {
         "fillpattern": {
          "shape": ""
         },
         "hovertemplate": "Sector=II.3.f. Energy distribution<br>Year=%{x}<br>Amount=%{y}<extra></extra>",
         "legendgroup": "II.3.f. Energy distribution",
         "line": {
          "color": "#FF6692"
         },
         "marker": {
          "symbol": "circle"
         },
         "mode": "lines",
         "name": "II.3.f. Energy distribution",
         "orientation": "v",
         "showlegend": true,
         "stackgroup": "1",
         "type": "scatter",
         "x": [
          2013,
          2014,
          2015,
          2016,
          2017,
          2018,
          2019,
          2020,
          2021,
          2022
         ],
         "xaxis": "x",
         "y": [
          66595444,
          70073065,
          66109539,
          47732189,
          111989914,
          60523746,
          83363314,
          77886260,
          121185138,
          60995089
         ],
         "yaxis": "y"
        },
        {
         "fillpattern": {
          "shape": ""
         },
         "hovertemplate": "Sector=II.4. Banking & Financial Services<br>Year=%{x}<br>Amount=%{y}<extra></extra>",
         "legendgroup": "II.4. Banking & Financial Services",
         "line": {
          "color": "#B6E880"
         },
         "marker": {
          "symbol": "circle"
         },
         "mode": "lines",
         "name": "II.4. Banking & Financial Services",
         "orientation": "v",
         "showlegend": true,
         "stackgroup": "1",
         "type": "scatter",
         "x": [
          2013,
          2014,
          2015,
          2016,
          2017,
          2018,
          2019,
          2020,
          2021,
          2022
         ],
         "xaxis": "x",
         "y": [
          233579991,
          336885809,
          251135067,
          201737571,
          349385356,
          349276158,
          256385532,
          653833101,
          698697126,
          350263712
         ],
         "yaxis": "y"
        },
        {
         "fillpattern": {
          "shape": ""
         },
         "hovertemplate": "Sector=II.5. Business & Other Services<br>Year=%{x}<br>Amount=%{y}<extra></extra>",
         "legendgroup": "II.5. Business & Other Services",
         "line": {
          "color": "#FF97FF"
         },
         "marker": {
          "symbol": "circle"
         },
         "mode": "lines",
         "name": "II.5. Business & Other Services",
         "orientation": "v",
         "showlegend": true,
         "stackgroup": "1",
         "type": "scatter",
         "x": [
          2013,
          2014,
          2015,
          2016,
          2017,
          2018,
          2019,
          2020,
          2021,
          2022
         ],
         "xaxis": "x",
         "y": [
          219026229,
          196856040,
          237867211,
          290202789,
          308494445,
          328437148,
          395378787,
          460246733,
          472504667,
          390354321
         ],
         "yaxis": "y"
        },
        {
         "fillpattern": {
          "shape": ""
         },
         "hovertemplate": "Sector=III.1.a. Agriculture<br>Year=%{x}<br>Amount=%{y}<extra></extra>",
         "legendgroup": "III.1.a. Agriculture",
         "line": {
          "color": "#FECB52"
         },
         "marker": {
          "symbol": "circle"
         },
         "mode": "lines",
         "name": "III.1.a. Agriculture",
         "orientation": "v",
         "showlegend": true,
         "stackgroup": "1",
         "type": "scatter",
         "x": [
          2013,
          2014,
          2015,
          2016,
          2017,
          2018,
          2019,
          2020,
          2021,
          2022
         ],
         "xaxis": "x",
         "y": [
          217667968,
          286655821,
          316622347,
          417399385,
          421584259,
          534432409,
          569198468,
          909215857,
          630702769,
          1065854451
         ],
         "yaxis": "y"
        },
        {
         "fillpattern": {
          "shape": ""
         },
         "hovertemplate": "Sector=III.1.b. Forestry<br>Year=%{x}<br>Amount=%{y}<extra></extra>",
         "legendgroup": "III.1.b. Forestry",
         "line": {
          "color": "#636efa"
         },
         "marker": {
          "symbol": "circle"
         },
         "mode": "lines",
         "name": "III.1.b. Forestry",
         "orientation": "v",
         "showlegend": true,
         "stackgroup": "1",
         "type": "scatter",
         "x": [
          2013,
          2014,
          2015,
          2016,
          2017,
          2018,
          2019,
          2020,
          2021,
          2022
         ],
         "xaxis": "x",
         "y": [
          55499816,
          54720634,
          59041206,
          56333161.00000001,
          65055497,
          65089903.00000001,
          63594927,
          197946845,
          244814378,
          230875591
         ],
         "yaxis": "y"
        },
        {
         "fillpattern": {
          "shape": ""
         },
         "hovertemplate": "Sector=III.1.c. Fishing<br>Year=%{x}<br>Amount=%{y}<extra></extra>",
         "legendgroup": "III.1.c. Fishing",
         "line": {
          "color": "#EF553B"
         },
         "marker": {
          "symbol": "circle"
         },
         "mode": "lines",
         "name": "III.1.c. Fishing",
         "orientation": "v",
         "showlegend": true,
         "stackgroup": "1",
         "type": "scatter",
         "x": [
          2013,
          2014,
          2015,
          2016,
          2017,
          2018,
          2019,
          2020,
          2021,
          2022
         ],
         "xaxis": "x",
         "y": [
          3345430,
          3913150,
          2318079,
          4088469,
          10204781,
          15338463,
          27367502,
          25661220,
          26688627,
          26890918
         ],
         "yaxis": "y"
        },
        {
         "fillpattern": {
          "shape": ""
         },
         "hovertemplate": "Sector=III.2.a. Industry<br>Year=%{x}<br>Amount=%{y}<extra></extra>",
         "legendgroup": "III.2.a. Industry",
         "line": {
          "color": "#00cc96"
         },
         "marker": {
          "symbol": "circle"
         },
         "mode": "lines",
         "name": "III.2.a. Industry",
         "orientation": "v",
         "showlegend": true,
         "stackgroup": "1",
         "type": "scatter",
         "x": [
          2013,
          2014,
          2015,
          2016,
          2017,
          2018,
          2019,
          2020,
          2021,
          2022
         ],
         "xaxis": "x",
         "y": [
          26041602,
          18876797,
          15022879,
          16981484,
          27305273,
          28367868,
          280375006,
          297597124,
          311237173,
          424978696
         ],
         "yaxis": "y"
        },
        {
         "fillpattern": {
          "shape": ""
         },
         "hovertemplate": "Sector=III.2.b. Mineral Resources & Mining<br>Year=%{x}<br>Amount=%{y}<extra></extra>",
         "legendgroup": "III.2.b. Mineral Resources & Mining",
         "line": {
          "color": "#ab63fa"
         },
         "marker": {
          "symbol": "circle"
         },
         "mode": "lines",
         "name": "III.2.b. Mineral Resources & Mining",
         "orientation": "v",
         "showlegend": true,
         "stackgroup": "1",
         "type": "scatter",
         "x": [
          2013,
          2014,
          2015,
          2016,
          2017,
          2018,
          2019,
          2020,
          2021,
          2022
         ],
         "xaxis": "x",
         "y": [
          12314603,
          15884815,
          6532350,
          16598471,
          19151903,
          17837263,
          21757448,
          21460704,
          20973879,
          19856553
         ],
         "yaxis": "y"
        },
        {
         "fillpattern": {
          "shape": ""
         },
         "hovertemplate": "Sector=III.2.c. Construction<br>Year=%{x}<br>Amount=%{y}<extra></extra>",
         "legendgroup": "III.2.c. Construction",
         "line": {
          "color": "#FFA15A"
         },
         "marker": {
          "symbol": "circle"
         },
         "mode": "lines",
         "name": "III.2.c. Construction",
         "orientation": "v",
         "showlegend": true,
         "stackgroup": "1",
         "type": "scatter",
         "x": [
          2013,
          2014,
          2015,
          2016,
          2017,
          2018,
          2019,
          2020,
          2021,
          2022
         ],
         "xaxis": "x",
         "y": [
          817830,
          280799,
          null,
          null,
          null,
          null,
          null,
          243747,
          185430,
          814863
         ],
         "yaxis": "y"
        },
        {
         "fillpattern": {
          "shape": ""
         },
         "hovertemplate": "Sector=III.3.a. Trade Policies & Regulations<br>Year=%{x}<br>Amount=%{y}<extra></extra>",
         "legendgroup": "III.3.a. Trade Policies & Regulations",
         "line": {
          "color": "#19d3f3"
         },
         "marker": {
          "symbol": "circle"
         },
         "mode": "lines",
         "name": "III.3.a. Trade Policies & Regulations",
         "orientation": "v",
         "showlegend": true,
         "stackgroup": "1",
         "type": "scatter",
         "x": [
          2013,
          2014,
          2015,
          2016,
          2017,
          2018,
          2019,
          2020,
          2021,
          2022
         ],
         "xaxis": "x",
         "y": [
          32952859.000000004,
          40833262,
          42597882,
          52859909,
          61340182.99999999,
          67424327,
          65449487.00000001,
          55926751,
          68815737,
          80092880
         ],
         "yaxis": "y"
        },
        {
         "fillpattern": {
          "shape": ""
         },
         "hovertemplate": "Sector=III.3.b. Tourism<br>Year=%{x}<br>Amount=%{y}<extra></extra>",
         "legendgroup": "III.3.b. Tourism",
         "line": {
          "color": "#FF6692"
         },
         "marker": {
          "symbol": "circle"
         },
         "mode": "lines",
         "name": "III.3.b. Tourism",
         "orientation": "v",
         "showlegend": true,
         "stackgroup": "1",
         "type": "scatter",
         "x": [
          2013,
          2014,
          2015,
          2016,
          2017,
          2018,
          2019,
          2020,
          2021,
          2022
         ],
         "xaxis": "x",
         "y": [
          3618893,
          2624932.0000000005,
          802570,
          242517,
          96340,
          89803.00000000001,
          315645,
          1018974,
          3316996,
          5683969
         ],
         "yaxis": "y"
        },
        {
         "fillpattern": {
          "shape": ""
         },
         "hovertemplate": "Sector=IV.1. General Environment Protection<br>Year=%{x}<br>Amount=%{y}<extra></extra>",
         "legendgroup": "IV.1. General Environment Protection",
         "line": {
          "color": "#B6E880"
         },
         "marker": {
          "symbol": "circle"
         },
         "mode": "lines",
         "name": "IV.1. General Environment Protection",
         "orientation": "v",
         "showlegend": true,
         "stackgroup": "1",
         "type": "scatter",
         "x": [
          2013,
          2014,
          2015,
          2016,
          2017,
          2018,
          2019,
          2020,
          2021,
          2022
         ],
         "xaxis": "x",
         "y": [
          305865359,
          418243902,
          346285796,
          622374690,
          569979770,
          584974941,
          583866218,
          535065279.00000006,
          714695976,
          496834824
         ],
         "yaxis": "y"
        },
        {
         "fillpattern": {
          "shape": ""
         },
         "hovertemplate": "Sector=IV.2. Other Multisector<br>Year=%{x}<br>Amount=%{y}<extra></extra>",
         "legendgroup": "IV.2. Other Multisector",
         "line": {
          "color": "#FF97FF"
         },
         "marker": {
          "symbol": "circle"
         },
         "mode": "lines",
         "name": "IV.2. Other Multisector",
         "orientation": "v",
         "showlegend": true,
         "stackgroup": "1",
         "type": "scatter",
         "x": [
          2013,
          2014,
          2015,
          2016,
          2017,
          2018,
          2019,
          2020,
          2021,
          2022
         ],
         "xaxis": "x",
         "y": [
          587749666,
          583978189,
          609297355,
          680371765,
          683077087,
          806053700,
          947167737,
          1038362726,
          1091512162,
          1158109774
         ],
         "yaxis": "y"
        },
        {
         "fillpattern": {
          "shape": ""
         },
         "hovertemplate": "Sector=IX. Unallocated / Unspecified<br>Year=%{x}<br>Amount=%{y}<extra></extra>",
         "legendgroup": "IX. Unallocated / Unspecified",
         "line": {
          "color": "#FECB52"
         },
         "marker": {
          "symbol": "circle"
         },
         "mode": "lines",
         "name": "IX. Unallocated / Unspecified",
         "orientation": "v",
         "showlegend": true,
         "stackgroup": "1",
         "type": "scatter",
         "x": [
          2013,
          2014,
          2015,
          2016,
          2017,
          2018,
          2019,
          2020,
          2021,
          2022
         ],
         "xaxis": "x",
         "y": [
          84971648,
          98560141,
          107840276,
          135702043,
          156201092,
          171994253,
          186293455,
          162697714.00000003,
          162020378,
          144641490
         ],
         "yaxis": "y"
        },
        {
         "fillpattern": {
          "shape": ""
         },
         "hovertemplate": "Sector=VI.1. General Budget Support<br>Year=%{x}<br>Amount=%{y}<extra></extra>",
         "legendgroup": "VI.1. General Budget Support",
         "line": {
          "color": "#636efa"
         },
         "marker": {
          "symbol": "circle"
         },
         "mode": "lines",
         "name": "VI.1. General Budget Support",
         "orientation": "v",
         "showlegend": true,
         "stackgroup": "1",
         "type": "scatter",
         "x": [
          2013,
          2014,
          2015,
          2016,
          2017,
          2018,
          2019,
          2020,
          2021,
          2022
         ],
         "xaxis": "x",
         "y": [
          38153694,
          39508887,
          14160075,
          3402308,
          2463935,
          1230470.9999999998,
          null,
          null,
          10062,
          null
         ],
         "yaxis": "y"
        },
        {
         "fillpattern": {
          "shape": ""
         },
         "hovertemplate": "Sector=VI.2. Development Food Assistance<br>Year=%{x}<br>Amount=%{y}<extra></extra>",
         "legendgroup": "VI.2. Development Food Assistance",
         "line": {
          "color": "#EF553B"
         },
         "marker": {
          "symbol": "circle"
         },
         "mode": "lines",
         "name": "VI.2. Development Food Assistance",
         "orientation": "v",
         "showlegend": true,
         "stackgroup": "1",
         "type": "scatter",
         "x": [
          2013,
          2014,
          2015,
          2016,
          2017,
          2018,
          2019,
          2020,
          2021,
          2022
         ],
         "xaxis": "x",
         "y": [
          55682635,
          104820569,
          155272045,
          437355383,
          264583441,
          300809916,
          331532664,
          397865243,
          411028092,
          466497989
         ],
         "yaxis": "y"
        },
        {
         "fillpattern": {
          "shape": ""
         },
         "hovertemplate": "Sector=VII. Action Relating to Debt<br>Year=%{x}<br>Amount=%{y}<extra></extra>",
         "legendgroup": "VII. Action Relating to Debt",
         "line": {
          "color": "#00cc96"
         },
         "marker": {
          "symbol": "circle"
         },
         "mode": "lines",
         "name": "VII. Action Relating to Debt",
         "orientation": "v",
         "showlegend": true,
         "stackgroup": "1",
         "type": "scatter",
         "x": [
          2013,
          2014,
          2015,
          2016,
          2017,
          2018,
          2019,
          2020,
          2021,
          2022
         ],
         "xaxis": "x",
         "y": [
          549473939.0000001,
          1080558919,
          95486746,
          46872496,
          119614020,
          27279813,
          43725502,
          20361676.000000004,
          14147029,
          null
         ],
         "yaxis": "y"
        },
        {
         "fillpattern": {
          "shape": ""
         },
         "hovertemplate": "Sector=VIII.1. Emergency Response<br>Year=%{x}<br>Amount=%{y}<extra></extra>",
         "legendgroup": "VIII.1. Emergency Response",
         "line": {
          "color": "#ab63fa"
         },
         "marker": {
          "symbol": "circle"
         },
         "mode": "lines",
         "name": "VIII.1. Emergency Response",
         "orientation": "v",
         "showlegend": true,
         "stackgroup": "1",
         "type": "scatter",
         "x": [
          2013,
          2014,
          2015,
          2016,
          2017,
          2018,
          2019,
          2020,
          2021,
          2022
         ],
         "xaxis": "x",
         "y": [
          92040798,
          230063528.00000003,
          80254227,
          91461057,
          170614380,
          190691502,
          116040880,
          21389054,
          6078023,
          20348848
         ],
         "yaxis": "y"
        },
        {
         "fillpattern": {
          "shape": ""
         },
         "hovertemplate": "Sector=VIII.2. Reconstruction Relief & Rehabilitation<br>Year=%{x}<br>Amount=%{y}<extra></extra>",
         "legendgroup": "VIII.2. Reconstruction Relief & Rehabilitation",
         "line": {
          "color": "#FFA15A"
         },
         "marker": {
          "symbol": "circle"
         },
         "mode": "lines",
         "name": "VIII.2. Reconstruction Relief & Rehabilitation",
         "orientation": "v",
         "showlegend": true,
         "stackgroup": "1",
         "type": "scatter",
         "x": [
          2013,
          2014,
          2015,
          2016,
          2017,
          2018,
          2019,
          2020,
          2021,
          2022
         ],
         "xaxis": "x",
         "y": [
          40832671,
          100558166,
          249473977,
          619056449,
          637269392,
          821854059,
          425435793,
          213720274,
          138518904,
          70098900
         ],
         "yaxis": "y"
        },
        {
         "fillpattern": {
          "shape": ""
         },
         "hovertemplate": "Sector=VIII.3. Disaster Prevention & Preparedness<br>Year=%{x}<br>Amount=%{y}<extra></extra>",
         "legendgroup": "VIII.3. Disaster Prevention & Preparedness",
         "line": {
          "color": "#19d3f3"
         },
         "marker": {
          "symbol": "circle"
         },
         "mode": "lines",
         "name": "VIII.3. Disaster Prevention & Preparedness",
         "orientation": "v",
         "showlegend": true,
         "stackgroup": "1",
         "type": "scatter",
         "x": [
          2013,
          2014,
          2015,
          2016,
          2017,
          2018,
          2019,
          2020,
          2021,
          2022
         ],
         "xaxis": "x",
         "y": [
          24944317,
          39127662,
          48810251,
          47608959.99999999,
          34270454,
          18361349,
          15101624,
          10517096,
          4686183,
          6987604
         ],
         "yaxis": "y"
        },
        {
         "fillpattern": {
          "shape": ""
         },
         "hovertemplate": "Sector=II.3.d. Hybrid energy plants<br>Year=%{x}<br>Amount=%{y}<extra></extra>",
         "legendgroup": "II.3.d. Hybrid energy plants",
         "line": {
          "color": "#FF6692"
         },
         "marker": {
          "symbol": "circle"
         },
         "mode": "lines",
         "name": "II.3.d. Hybrid energy plants",
         "orientation": "v",
         "showlegend": true,
         "stackgroup": "1",
         "type": "scatter",
         "x": [
          2013,
          2014,
          2015,
          2016,
          2017,
          2018,
          2019,
          2020,
          2021,
          2022
         ],
         "xaxis": "x",
         "y": [
          null,
          null,
          null,
          null,
          8594967,
          1436734.0000000002,
          39316,
          1079090,
          242877,
          219371
         ],
         "yaxis": "y"
        },
        {
         "fillpattern": {
          "shape": ""
         },
         "hovertemplate": "Sector=I.2.c. Non-communicable diseases (NCDs)<br>Year=%{x}<br>Amount=%{y}<extra></extra>",
         "legendgroup": "I.2.c. Non-communicable diseases (NCDs)",
         "line": {
          "color": "#B6E880"
         },
         "marker": {
          "symbol": "circle"
         },
         "mode": "lines",
         "name": "I.2.c. Non-communicable diseases (NCDs)",
         "orientation": "v",
         "showlegend": true,
         "stackgroup": "1",
         "type": "scatter",
         "x": [
          2013,
          2014,
          2015,
          2016,
          2017,
          2018,
          2019,
          2020,
          2021,
          2022
         ],
         "xaxis": "x",
         "y": [
          null,
          null,
          null,
          null,
          null,
          null,
          2777552,
          12302144,
          26421984.000000004,
          30878856
         ],
         "yaxis": "y"
        }
       ],
       "layout": {
        "legend": {
         "title": {
          "text": "Sector"
         },
         "tracegroupgap": 0
        },
        "margin": {
         "t": 60
        },
        "template": {
         "data": {
          "bar": [
           {
            "error_x": {
             "color": "#2a3f5f"
            },
            "error_y": {
             "color": "#2a3f5f"
            },
            "marker": {
             "line": {
              "color": "#E5ECF6",
              "width": 0.5
             },
             "pattern": {
              "fillmode": "overlay",
              "size": 10,
              "solidity": 0.2
             }
            },
            "type": "bar"
           }
          ],
          "barpolar": [
           {
            "marker": {
             "line": {
              "color": "#E5ECF6",
              "width": 0.5
             },
             "pattern": {
              "fillmode": "overlay",
              "size": 10,
              "solidity": 0.2
             }
            },
            "type": "barpolar"
           }
          ],
          "carpet": [
           {
            "aaxis": {
             "endlinecolor": "#2a3f5f",
             "gridcolor": "white",
             "linecolor": "white",
             "minorgridcolor": "white",
             "startlinecolor": "#2a3f5f"
            },
            "baxis": {
             "endlinecolor": "#2a3f5f",
             "gridcolor": "white",
             "linecolor": "white",
             "minorgridcolor": "white",
             "startlinecolor": "#2a3f5f"
            },
            "type": "carpet"
           }
          ],
          "choropleth": [
           {
            "colorbar": {
             "outlinewidth": 0,
             "ticks": ""
            },
            "type": "choropleth"
           }
          ],
          "contour": [
           {
            "colorbar": {
             "outlinewidth": 0,
             "ticks": ""
            },
            "colorscale": [
             [
              0,
              "#0d0887"
             ],
             [
              0.1111111111111111,
              "#46039f"
             ],
             [
              0.2222222222222222,
              "#7201a8"
             ],
             [
              0.3333333333333333,
              "#9c179e"
             ],
             [
              0.4444444444444444,
              "#bd3786"
             ],
             [
              0.5555555555555556,
              "#d8576b"
             ],
             [
              0.6666666666666666,
              "#ed7953"
             ],
             [
              0.7777777777777778,
              "#fb9f3a"
             ],
             [
              0.8888888888888888,
              "#fdca26"
             ],
             [
              1,
              "#f0f921"
             ]
            ],
            "type": "contour"
           }
          ],
          "contourcarpet": [
           {
            "colorbar": {
             "outlinewidth": 0,
             "ticks": ""
            },
            "type": "contourcarpet"
           }
          ],
          "heatmap": [
           {
            "colorbar": {
             "outlinewidth": 0,
             "ticks": ""
            },
            "colorscale": [
             [
              0,
              "#0d0887"
             ],
             [
              0.1111111111111111,
              "#46039f"
             ],
             [
              0.2222222222222222,
              "#7201a8"
             ],
             [
              0.3333333333333333,
              "#9c179e"
             ],
             [
              0.4444444444444444,
              "#bd3786"
             ],
             [
              0.5555555555555556,
              "#d8576b"
             ],
             [
              0.6666666666666666,
              "#ed7953"
             ],
             [
              0.7777777777777778,
              "#fb9f3a"
             ],
             [
              0.8888888888888888,
              "#fdca26"
             ],
             [
              1,
              "#f0f921"
             ]
            ],
            "type": "heatmap"
           }
          ],
          "heatmapgl": [
           {
            "colorbar": {
             "outlinewidth": 0,
             "ticks": ""
            },
            "colorscale": [
             [
              0,
              "#0d0887"
             ],
             [
              0.1111111111111111,
              "#46039f"
             ],
             [
              0.2222222222222222,
              "#7201a8"
             ],
             [
              0.3333333333333333,
              "#9c179e"
             ],
             [
              0.4444444444444444,
              "#bd3786"
             ],
             [
              0.5555555555555556,
              "#d8576b"
             ],
             [
              0.6666666666666666,
              "#ed7953"
             ],
             [
              0.7777777777777778,
              "#fb9f3a"
             ],
             [
              0.8888888888888888,
              "#fdca26"
             ],
             [
              1,
              "#f0f921"
             ]
            ],
            "type": "heatmapgl"
           }
          ],
          "histogram": [
           {
            "marker": {
             "pattern": {
              "fillmode": "overlay",
              "size": 10,
              "solidity": 0.2
             }
            },
            "type": "histogram"
           }
          ],
          "histogram2d": [
           {
            "colorbar": {
             "outlinewidth": 0,
             "ticks": ""
            },
            "colorscale": [
             [
              0,
              "#0d0887"
             ],
             [
              0.1111111111111111,
              "#46039f"
             ],
             [
              0.2222222222222222,
              "#7201a8"
             ],
             [
              0.3333333333333333,
              "#9c179e"
             ],
             [
              0.4444444444444444,
              "#bd3786"
             ],
             [
              0.5555555555555556,
              "#d8576b"
             ],
             [
              0.6666666666666666,
              "#ed7953"
             ],
             [
              0.7777777777777778,
              "#fb9f3a"
             ],
             [
              0.8888888888888888,
              "#fdca26"
             ],
             [
              1,
              "#f0f921"
             ]
            ],
            "type": "histogram2d"
           }
          ],
          "histogram2dcontour": [
           {
            "colorbar": {
             "outlinewidth": 0,
             "ticks": ""
            },
            "colorscale": [
             [
              0,
              "#0d0887"
             ],
             [
              0.1111111111111111,
              "#46039f"
             ],
             [
              0.2222222222222222,
              "#7201a8"
             ],
             [
              0.3333333333333333,
              "#9c179e"
             ],
             [
              0.4444444444444444,
              "#bd3786"
             ],
             [
              0.5555555555555556,
              "#d8576b"
             ],
             [
              0.6666666666666666,
              "#ed7953"
             ],
             [
              0.7777777777777778,
              "#fb9f3a"
             ],
             [
              0.8888888888888888,
              "#fdca26"
             ],
             [
              1,
              "#f0f921"
             ]
            ],
            "type": "histogram2dcontour"
           }
          ],
          "mesh3d": [
           {
            "colorbar": {
             "outlinewidth": 0,
             "ticks": ""
            },
            "type": "mesh3d"
           }
          ],
          "parcoords": [
           {
            "line": {
             "colorbar": {
              "outlinewidth": 0,
              "ticks": ""
             }
            },
            "type": "parcoords"
           }
          ],
          "pie": [
           {
            "automargin": true,
            "type": "pie"
           }
          ],
          "scatter": [
           {
            "fillpattern": {
             "fillmode": "overlay",
             "size": 10,
             "solidity": 0.2
            },
            "type": "scatter"
           }
          ],
          "scatter3d": [
           {
            "line": {
             "colorbar": {
              "outlinewidth": 0,
              "ticks": ""
             }
            },
            "marker": {
             "colorbar": {
              "outlinewidth": 0,
              "ticks": ""
             }
            },
            "type": "scatter3d"
           }
          ],
          "scattercarpet": [
           {
            "marker": {
             "colorbar": {
              "outlinewidth": 0,
              "ticks": ""
             }
            },
            "type": "scattercarpet"
           }
          ],
          "scattergeo": [
           {
            "marker": {
             "colorbar": {
              "outlinewidth": 0,
              "ticks": ""
             }
            },
            "type": "scattergeo"
           }
          ],
          "scattergl": [
           {
            "marker": {
             "colorbar": {
              "outlinewidth": 0,
              "ticks": ""
             }
            },
            "type": "scattergl"
           }
          ],
          "scattermapbox": [
           {
            "marker": {
             "colorbar": {
              "outlinewidth": 0,
              "ticks": ""
             }
            },
            "type": "scattermapbox"
           }
          ],
          "scatterpolar": [
           {
            "marker": {
             "colorbar": {
              "outlinewidth": 0,
              "ticks": ""
             }
            },
            "type": "scatterpolar"
           }
          ],
          "scatterpolargl": [
           {
            "marker": {
             "colorbar": {
              "outlinewidth": 0,
              "ticks": ""
             }
            },
            "type": "scatterpolargl"
           }
          ],
          "scatterternary": [
           {
            "marker": {
             "colorbar": {
              "outlinewidth": 0,
              "ticks": ""
             }
            },
            "type": "scatterternary"
           }
          ],
          "surface": [
           {
            "colorbar": {
             "outlinewidth": 0,
             "ticks": ""
            },
            "colorscale": [
             [
              0,
              "#0d0887"
             ],
             [
              0.1111111111111111,
              "#46039f"
             ],
             [
              0.2222222222222222,
              "#7201a8"
             ],
             [
              0.3333333333333333,
              "#9c179e"
             ],
             [
              0.4444444444444444,
              "#bd3786"
             ],
             [
              0.5555555555555556,
              "#d8576b"
             ],
             [
              0.6666666666666666,
              "#ed7953"
             ],
             [
              0.7777777777777778,
              "#fb9f3a"
             ],
             [
              0.8888888888888888,
              "#fdca26"
             ],
             [
              1,
              "#f0f921"
             ]
            ],
            "type": "surface"
           }
          ],
          "table": [
           {
            "cells": {
             "fill": {
              "color": "#EBF0F8"
             },
             "line": {
              "color": "white"
             }
            },
            "header": {
             "fill": {
              "color": "#C8D4E3"
             },
             "line": {
              "color": "white"
             }
            },
            "type": "table"
           }
          ]
         },
         "layout": {
          "annotationdefaults": {
           "arrowcolor": "#2a3f5f",
           "arrowhead": 0,
           "arrowwidth": 1
          },
          "autotypenumbers": "strict",
          "coloraxis": {
           "colorbar": {
            "outlinewidth": 0,
            "ticks": ""
           }
          },
          "colorscale": {
           "diverging": [
            [
             0,
             "#8e0152"
            ],
            [
             0.1,
             "#c51b7d"
            ],
            [
             0.2,
             "#de77ae"
            ],
            [
             0.3,
             "#f1b6da"
            ],
            [
             0.4,
             "#fde0ef"
            ],
            [
             0.5,
             "#f7f7f7"
            ],
            [
             0.6,
             "#e6f5d0"
            ],
            [
             0.7,
             "#b8e186"
            ],
            [
             0.8,
             "#7fbc41"
            ],
            [
             0.9,
             "#4d9221"
            ],
            [
             1,
             "#276419"
            ]
           ],
           "sequential": [
            [
             0,
             "#0d0887"
            ],
            [
             0.1111111111111111,
             "#46039f"
            ],
            [
             0.2222222222222222,
             "#7201a8"
            ],
            [
             0.3333333333333333,
             "#9c179e"
            ],
            [
             0.4444444444444444,
             "#bd3786"
            ],
            [
             0.5555555555555556,
             "#d8576b"
            ],
            [
             0.6666666666666666,
             "#ed7953"
            ],
            [
             0.7777777777777778,
             "#fb9f3a"
            ],
            [
             0.8888888888888888,
             "#fdca26"
            ],
            [
             1,
             "#f0f921"
            ]
           ],
           "sequentialminus": [
            [
             0,
             "#0d0887"
            ],
            [
             0.1111111111111111,
             "#46039f"
            ],
            [
             0.2222222222222222,
             "#7201a8"
            ],
            [
             0.3333333333333333,
             "#9c179e"
            ],
            [
             0.4444444444444444,
             "#bd3786"
            ],
            [
             0.5555555555555556,
             "#d8576b"
            ],
            [
             0.6666666666666666,
             "#ed7953"
            ],
            [
             0.7777777777777778,
             "#fb9f3a"
            ],
            [
             0.8888888888888888,
             "#fdca26"
            ],
            [
             1,
             "#f0f921"
            ]
           ]
          },
          "colorway": [
           "#636efa",
           "#EF553B",
           "#00cc96",
           "#ab63fa",
           "#FFA15A",
           "#19d3f3",
           "#FF6692",
           "#B6E880",
           "#FF97FF",
           "#FECB52"
          ],
          "font": {
           "color": "#2a3f5f"
          },
          "geo": {
           "bgcolor": "white",
           "lakecolor": "white",
           "landcolor": "#E5ECF6",
           "showlakes": true,
           "showland": true,
           "subunitcolor": "white"
          },
          "hoverlabel": {
           "align": "left"
          },
          "hovermode": "closest",
          "mapbox": {
           "style": "light"
          },
          "paper_bgcolor": "white",
          "plot_bgcolor": "#E5ECF6",
          "polar": {
           "angularaxis": {
            "gridcolor": "white",
            "linecolor": "white",
            "ticks": ""
           },
           "bgcolor": "#E5ECF6",
           "radialaxis": {
            "gridcolor": "white",
            "linecolor": "white",
            "ticks": ""
           }
          },
          "scene": {
           "xaxis": {
            "backgroundcolor": "#E5ECF6",
            "gridcolor": "white",
            "gridwidth": 2,
            "linecolor": "white",
            "showbackground": true,
            "ticks": "",
            "zerolinecolor": "white"
           },
           "yaxis": {
            "backgroundcolor": "#E5ECF6",
            "gridcolor": "white",
            "gridwidth": 2,
            "linecolor": "white",
            "showbackground": true,
            "ticks": "",
            "zerolinecolor": "white"
           },
           "zaxis": {
            "backgroundcolor": "#E5ECF6",
            "gridcolor": "white",
            "gridwidth": 2,
            "linecolor": "white",
            "showbackground": true,
            "ticks": "",
            "zerolinecolor": "white"
           }
          },
          "shapedefaults": {
           "line": {
            "color": "#2a3f5f"
           }
          },
          "ternary": {
           "aaxis": {
            "gridcolor": "white",
            "linecolor": "white",
            "ticks": ""
           },
           "baxis": {
            "gridcolor": "white",
            "linecolor": "white",
            "ticks": ""
           },
           "bgcolor": "#E5ECF6",
           "caxis": {
            "gridcolor": "white",
            "linecolor": "white",
            "ticks": ""
           }
          },
          "title": {
           "x": 0.05
          },
          "xaxis": {
           "automargin": true,
           "gridcolor": "white",
           "linecolor": "white",
           "ticks": "",
           "title": {
            "standoff": 15
           },
           "zerolinecolor": "white",
           "zerolinewidth": 2
          },
          "yaxis": {
           "automargin": true,
           "gridcolor": "white",
           "linecolor": "white",
           "ticks": "",
           "title": {
            "standoff": 15
           },
           "zerolinecolor": "white",
           "zerolinewidth": 2
          }
         }
        },
        "xaxis": {
         "anchor": "y",
         "domain": [
          0,
          1
         ],
         "title": {
          "text": "Year"
         }
        },
        "yaxis": {
         "anchor": "x",
         "domain": [
          0,
          1
         ],
         "title": {
          "text": "Amount"
         }
        }
       }
      },
      "text/html": [
       "<div>                            <div id=\"d58bd43c-6709-4adb-ba5e-89877bc989c8\" class=\"plotly-graph-div\" style=\"height:525px; width:100%;\"></div>            <script type=\"text/javascript\">                require([\"plotly\"], function(Plotly) {                    window.PLOTLYENV=window.PLOTLYENV || {};                                    if (document.getElementById(\"d58bd43c-6709-4adb-ba5e-89877bc989c8\")) {                    Plotly.newPlot(                        \"d58bd43c-6709-4adb-ba5e-89877bc989c8\",                        [{\"fillpattern\":{\"shape\":\"\"},\"hovertemplate\":\"Sector=I.1.a. Education, Level Unspecified\\u003cbr\\u003eYear=%{x}\\u003cbr\\u003eAmount=%{y}\\u003cextra\\u003e\\u003c\\u002fextra\\u003e\",\"legendgroup\":\"I.1.a. Education, Level Unspecified\",\"line\":{\"color\":\"#636efa\"},\"marker\":{\"symbol\":\"circle\"},\"mode\":\"lines\",\"name\":\"I.1.a. Education, Level Unspecified\",\"orientation\":\"v\",\"showlegend\":true,\"stackgroup\":\"1\",\"x\":[2013,2014,2015,2016,2017,2018,2019,2020,2021,2022],\"xaxis\":\"x\",\"y\":[87245749.0,73771448.0,83159233.0,86800258.0,92559681.0,136474993.0,150119022.0,226390311.0,252428270.0,265014798.0],\"yaxis\":\"y\",\"type\":\"scatter\"},{\"fillpattern\":{\"shape\":\"\"},\"hovertemplate\":\"Sector=I.1.b. Basic Education\\u003cbr\\u003eYear=%{x}\\u003cbr\\u003eAmount=%{y}\\u003cextra\\u003e\\u003c\\u002fextra\\u003e\",\"legendgroup\":\"I.1.b. Basic Education\",\"line\":{\"color\":\"#EF553B\"},\"marker\":{\"symbol\":\"circle\"},\"mode\":\"lines\",\"name\":\"I.1.b. Basic Education\",\"orientation\":\"v\",\"showlegend\":true,\"stackgroup\":\"1\",\"x\":[2013,2014,2015,2016,2017,2018,2019,2020,2021,2022],\"xaxis\":\"x\",\"y\":[153930790.0,169047826.0,247260621.0,239081905.0,163615478.0,181657973.0,276331320.0,392548038.0,270355294.0,237274430.0],\"yaxis\":\"y\",\"type\":\"scatter\"},{\"fillpattern\":{\"shape\":\"\"},\"hovertemplate\":\"Sector=I.1.c. Secondary Education\\u003cbr\\u003eYear=%{x}\\u003cbr\\u003eAmount=%{y}\\u003cextra\\u003e\\u003c\\u002fextra\\u003e\",\"legendgroup\":\"I.1.c. Secondary Education\",\"line\":{\"color\":\"#00cc96\"},\"marker\":{\"symbol\":\"circle\"},\"mode\":\"lines\",\"name\":\"I.1.c. Secondary Education\",\"orientation\":\"v\",\"showlegend\":true,\"stackgroup\":\"1\",\"x\":[2013,2014,2015,2016,2017,2018,2019,2020,2021,2022],\"xaxis\":\"x\",\"y\":[110570602.0,123680119.0,163751111.0,202396396.0,223352113.0,250950674.0,289645386.0,275831187.0,338886399.0,336204882.0],\"yaxis\":\"y\",\"type\":\"scatter\"},{\"fillpattern\":{\"shape\":\"\"},\"hovertemplate\":\"Sector=I.1.d. Post-Secondary Education\\u003cbr\\u003eYear=%{x}\\u003cbr\\u003eAmount=%{y}\\u003cextra\\u003e\\u003c\\u002fextra\\u003e\",\"legendgroup\":\"I.1.d. Post-Secondary Education\",\"line\":{\"color\":\"#ab63fa\"},\"marker\":{\"symbol\":\"circle\"},\"mode\":\"lines\",\"name\":\"I.1.d. Post-Secondary Education\",\"orientation\":\"v\",\"showlegend\":true,\"stackgroup\":\"1\",\"x\":[2013,2014,2015,2016,2017,2018,2019,2020,2021,2022],\"xaxis\":\"x\",\"y\":[104939416.0,91545807.0,94759451.0,100578689.0,103391182.0,98107775.0,89302996.0,101871845.0,100411047.0,107771939.0],\"yaxis\":\"y\",\"type\":\"scatter\"},{\"fillpattern\":{\"shape\":\"\"},\"hovertemplate\":\"Sector=I.2.a. Health, General\\u003cbr\\u003eYear=%{x}\\u003cbr\\u003eAmount=%{y}\\u003cextra\\u003e\\u003c\\u002fextra\\u003e\",\"legendgroup\":\"I.2.a. Health, General\",\"line\":{\"color\":\"#FFA15A\"},\"marker\":{\"symbol\":\"circle\"},\"mode\":\"lines\",\"name\":\"I.2.a. Health, General\",\"orientation\":\"v\",\"showlegend\":true,\"stackgroup\":\"1\",\"x\":[2013,2014,2015,2016,2017,2018,2019,2020,2021,2022],\"xaxis\":\"x\",\"y\":[95765407.0,86811675.99999999,89366936.0,87638400.0,98101881.0,110607243.0,129421547.0,174007970.0,166209784.0,174278158.0],\"yaxis\":\"y\",\"type\":\"scatter\"},{\"fillpattern\":{\"shape\":\"\"},\"hovertemplate\":\"Sector=I.2.b. Basic Health\\u003cbr\\u003eYear=%{x}\\u003cbr\\u003eAmount=%{y}\\u003cextra\\u003e\\u003c\\u002fextra\\u003e\",\"legendgroup\":\"I.2.b. Basic Health\",\"line\":{\"color\":\"#19d3f3\"},\"marker\":{\"symbol\":\"circle\"},\"mode\":\"lines\",\"name\":\"I.2.b. Basic Health\",\"orientation\":\"v\",\"showlegend\":true,\"stackgroup\":\"1\",\"x\":[2013,2014,2015,2016,2017,2018,2019,2020,2021,2022],\"xaxis\":\"x\",\"y\":[158133749.0,173291741.0,149021692.0,186325695.0,251097178.0,295861576.0,316922164.0,511053424.0,458272545.0,1199102079.0],\"yaxis\":\"y\",\"type\":\"scatter\"},{\"fillpattern\":{\"shape\":\"\"},\"hovertemplate\":\"Sector=I.3. Population Policies\\u002fProgrammes & Reproductive Health\\u003cbr\\u003eYear=%{x}\\u003cbr\\u003eAmount=%{y}\\u003cextra\\u003e\\u003c\\u002fextra\\u003e\",\"legendgroup\":\"I.3. Population Policies\\u002fProgrammes & Reproductive Health\",\"line\":{\"color\":\"#FF6692\"},\"marker\":{\"symbol\":\"circle\"},\"mode\":\"lines\",\"name\":\"I.3. Population Policies\\u002fProgrammes & Reproductive Health\",\"orientation\":\"v\",\"showlegend\":true,\"stackgroup\":\"1\",\"x\":[2013,2014,2015,2016,2017,2018,2019,2020,2021,2022],\"xaxis\":\"x\",\"y\":[154994846.0,160573929.0,159666195.0,195485322.0,162382796.0,151233217.0,140140758.0,158732896.0,172118568.0,179901281.0],\"yaxis\":\"y\",\"type\":\"scatter\"},{\"fillpattern\":{\"shape\":\"\"},\"hovertemplate\":\"Sector=I.4. Water Supply & Sanitation\\u003cbr\\u003eYear=%{x}\\u003cbr\\u003eAmount=%{y}\\u003cextra\\u003e\\u003c\\u002fextra\\u003e\",\"legendgroup\":\"I.4. Water Supply & Sanitation\",\"line\":{\"color\":\"#B6E880\"},\"marker\":{\"symbol\":\"circle\"},\"mode\":\"lines\",\"name\":\"I.4. Water Supply & Sanitation\",\"orientation\":\"v\",\"showlegend\":true,\"stackgroup\":\"1\",\"x\":[2013,2014,2015,2016,2017,2018,2019,2020,2021,2022],\"xaxis\":\"x\",\"y\":[340989113.0,349651904.0,342565770.0,418833837.0,439533061.0,468769446.0,440633893.0,466670394.0,490291625.0,479942386.0],\"yaxis\":\"y\",\"type\":\"scatter\"},{\"fillpattern\":{\"shape\":\"\"},\"hovertemplate\":\"Sector=I.5.a. Government & Civil Society-general\\u003cbr\\u003eYear=%{x}\\u003cbr\\u003eAmount=%{y}\\u003cextra\\u003e\\u003c\\u002fextra\\u003e\",\"legendgroup\":\"I.5.a. Government & Civil Society-general\",\"line\":{\"color\":\"#FF97FF\"},\"marker\":{\"symbol\":\"circle\"},\"mode\":\"lines\",\"name\":\"I.5.a. Government & Civil Society-general\",\"orientation\":\"v\",\"showlegend\":true,\"stackgroup\":\"1\",\"x\":[2013,2014,2015,2016,2017,2018,2019,2020,2021,2022],\"xaxis\":\"x\",\"y\":[791300249.0,887065155.0,801639790.0,1024217930.0,964725825.0,1056656674.0,1125044468.0,1140883682.0,1388025588.0,1145696631.0],\"yaxis\":\"y\",\"type\":\"scatter\"},{\"fillpattern\":{\"shape\":\"\"},\"hovertemplate\":\"Sector=I.5.b. Conflict, Peace & Security\\u003cbr\\u003eYear=%{x}\\u003cbr\\u003eAmount=%{y}\\u003cextra\\u003e\\u003c\\u002fextra\\u003e\",\"legendgroup\":\"I.5.b. Conflict, Peace & Security\",\"line\":{\"color\":\"#FECB52\"},\"marker\":{\"symbol\":\"circle\"},\"mode\":\"lines\",\"name\":\"I.5.b. Conflict, Peace & Security\",\"orientation\":\"v\",\"showlegend\":true,\"stackgroup\":\"1\",\"x\":[2013,2014,2015,2016,2017,2018,2019,2020,2021,2022],\"xaxis\":\"x\",\"y\":[132299555.0,142017188.0,155547184.0,177827718.0,225322447.0,294585501.99999994,244152893.0,325751884.0,396513655.0,369056762.0],\"yaxis\":\"y\",\"type\":\"scatter\"},{\"fillpattern\":{\"shape\":\"\"},\"hovertemplate\":\"Sector=I.6. Other Social Infrastructure & Services\\u003cbr\\u003eYear=%{x}\\u003cbr\\u003eAmount=%{y}\\u003cextra\\u003e\\u003c\\u002fextra\\u003e\",\"legendgroup\":\"I.6. Other Social Infrastructure & Services\",\"line\":{\"color\":\"#636efa\"},\"marker\":{\"symbol\":\"circle\"},\"mode\":\"lines\",\"name\":\"I.6. Other Social Infrastructure & Services\",\"orientation\":\"v\",\"showlegend\":true,\"stackgroup\":\"1\",\"x\":[2013,2014,2015,2016,2017,2018,2019,2020,2021,2022],\"xaxis\":\"x\",\"y\":[87458268.0,93716503.0,96456718.0,118172602.0,162120574.0,235179781.0,504483565.0,884176427.0,861905528.0,1206424242.0],\"yaxis\":\"y\",\"type\":\"scatter\"},{\"fillpattern\":{\"shape\":\"\"},\"hovertemplate\":\"Sector=II.1. Transport & Storage\\u003cbr\\u003eYear=%{x}\\u003cbr\\u003eAmount=%{y}\\u003cextra\\u003e\\u003c\\u002fextra\\u003e\",\"legendgroup\":\"II.1. Transport & Storage\",\"line\":{\"color\":\"#EF553B\"},\"marker\":{\"symbol\":\"circle\"},\"mode\":\"lines\",\"name\":\"II.1. Transport & Storage\",\"orientation\":\"v\",\"showlegend\":true,\"stackgroup\":\"1\",\"x\":[2013,2014,2015,2016,2017,2018,2019,2020,2021,2022],\"xaxis\":\"x\",\"y\":[51541005.0,48951315.0,64747675.0,57021899.0,52262630.0,66919255.00000001,49779747.0,68598259.0,68635853.0,47373099.0],\"yaxis\":\"y\",\"type\":\"scatter\"},{\"fillpattern\":{\"shape\":\"\"},\"hovertemplate\":\"Sector=II.2. Communications\\u003cbr\\u003eYear=%{x}\\u003cbr\\u003eAmount=%{y}\\u003cextra\\u003e\\u003c\\u002fextra\\u003e\",\"legendgroup\":\"II.2. Communications\",\"line\":{\"color\":\"#00cc96\"},\"marker\":{\"symbol\":\"circle\"},\"mode\":\"lines\",\"name\":\"II.2. Communications\",\"orientation\":\"v\",\"showlegend\":true,\"stackgroup\":\"1\",\"x\":[2013,2014,2015,2016,2017,2018,2019,2020,2021,2022],\"xaxis\":\"x\",\"y\":[4195314.0,3124732.0,2144173.0,2485459.0,5409180.0,8778806.0,13066496.999999998,23479852.0,56454291.99999999,65428028.0],\"yaxis\":\"y\",\"type\":\"scatter\"},{\"fillpattern\":{\"shape\":\"\"},\"hovertemplate\":\"Sector=II.3.a. Energy Policy\\u003cbr\\u003eYear=%{x}\\u003cbr\\u003eAmount=%{y}\\u003cextra\\u003e\\u003c\\u002fextra\\u003e\",\"legendgroup\":\"II.3.a. Energy Policy\",\"line\":{\"color\":\"#ab63fa\"},\"marker\":{\"symbol\":\"circle\"},\"mode\":\"lines\",\"name\":\"II.3.a. Energy Policy\",\"orientation\":\"v\",\"showlegend\":true,\"stackgroup\":\"1\",\"x\":[2013,2014,2015,2016,2017,2018,2019,2020,2021,2022],\"xaxis\":\"x\",\"y\":[56480637.0,55282512.0,49497105.0,50789064.0,67503927.0,76050387.0,195203482.0,81104087.0,89331366.0,154189699.0],\"yaxis\":\"y\",\"type\":\"scatter\"},{\"fillpattern\":{\"shape\":\"\"},\"hovertemplate\":\"Sector=II.3.b. Energy generation, renewable sources\\u003cbr\\u003eYear=%{x}\\u003cbr\\u003eAmount=%{y}\\u003cextra\\u003e\\u003c\\u002fextra\\u003e\",\"legendgroup\":\"II.3.b. Energy generation, renewable sources\",\"line\":{\"color\":\"#FFA15A\"},\"marker\":{\"symbol\":\"circle\"},\"mode\":\"lines\",\"name\":\"II.3.b. Energy generation, renewable sources\",\"orientation\":\"v\",\"showlegend\":true,\"stackgroup\":\"1\",\"x\":[2013,2014,2015,2016,2017,2018,2019,2020,2021,2022],\"xaxis\":\"x\",\"y\":[126315398.0,139470585.0,108942136.0,159022667.0,171403238.99999997,181692570.00000003,250435538.0,348450996.00000006,313986037.0,428966252.0],\"yaxis\":\"y\",\"type\":\"scatter\"},{\"fillpattern\":{\"shape\":\"\"},\"hovertemplate\":\"Sector=II.3.c. Energy generation, non-renewable sources\\u003cbr\\u003eYear=%{x}\\u003cbr\\u003eAmount=%{y}\\u003cextra\\u003e\\u003c\\u002fextra\\u003e\",\"legendgroup\":\"II.3.c. Energy generation, non-renewable sources\",\"line\":{\"color\":\"#19d3f3\"},\"marker\":{\"symbol\":\"circle\"},\"mode\":\"lines\",\"name\":\"II.3.c. Energy generation, non-renewable sources\",\"orientation\":\"v\",\"showlegend\":true,\"stackgroup\":\"1\",\"x\":[2013,2014,2015,2016,2017,2018,2019,2020,2021,2022],\"xaxis\":\"x\",\"y\":[8449438.0,2092299.0,3047765.9999999995,1949085.0,629289.0,7661885.0,2732794.0,758418.0,1105688.0,4350797.0],\"yaxis\":\"y\",\"type\":\"scatter\"},{\"fillpattern\":{\"shape\":\"\"},\"hovertemplate\":\"Sector=II.3.f. Energy distribution\\u003cbr\\u003eYear=%{x}\\u003cbr\\u003eAmount=%{y}\\u003cextra\\u003e\\u003c\\u002fextra\\u003e\",\"legendgroup\":\"II.3.f. Energy distribution\",\"line\":{\"color\":\"#FF6692\"},\"marker\":{\"symbol\":\"circle\"},\"mode\":\"lines\",\"name\":\"II.3.f. Energy distribution\",\"orientation\":\"v\",\"showlegend\":true,\"stackgroup\":\"1\",\"x\":[2013,2014,2015,2016,2017,2018,2019,2020,2021,2022],\"xaxis\":\"x\",\"y\":[66595444.0,70073065.0,66109539.0,47732189.0,111989914.0,60523746.0,83363314.0,77886260.0,121185138.0,60995089.0],\"yaxis\":\"y\",\"type\":\"scatter\"},{\"fillpattern\":{\"shape\":\"\"},\"hovertemplate\":\"Sector=II.4. Banking & Financial Services\\u003cbr\\u003eYear=%{x}\\u003cbr\\u003eAmount=%{y}\\u003cextra\\u003e\\u003c\\u002fextra\\u003e\",\"legendgroup\":\"II.4. Banking & Financial Services\",\"line\":{\"color\":\"#B6E880\"},\"marker\":{\"symbol\":\"circle\"},\"mode\":\"lines\",\"name\":\"II.4. Banking & Financial Services\",\"orientation\":\"v\",\"showlegend\":true,\"stackgroup\":\"1\",\"x\":[2013,2014,2015,2016,2017,2018,2019,2020,2021,2022],\"xaxis\":\"x\",\"y\":[233579991.0,336885809.0,251135067.0,201737571.0,349385356.0,349276158.0,256385532.0,653833101.0,698697126.0,350263712.0],\"yaxis\":\"y\",\"type\":\"scatter\"},{\"fillpattern\":{\"shape\":\"\"},\"hovertemplate\":\"Sector=II.5. Business & Other Services\\u003cbr\\u003eYear=%{x}\\u003cbr\\u003eAmount=%{y}\\u003cextra\\u003e\\u003c\\u002fextra\\u003e\",\"legendgroup\":\"II.5. Business & Other Services\",\"line\":{\"color\":\"#FF97FF\"},\"marker\":{\"symbol\":\"circle\"},\"mode\":\"lines\",\"name\":\"II.5. Business & Other Services\",\"orientation\":\"v\",\"showlegend\":true,\"stackgroup\":\"1\",\"x\":[2013,2014,2015,2016,2017,2018,2019,2020,2021,2022],\"xaxis\":\"x\",\"y\":[219026229.0,196856040.0,237867211.0,290202789.0,308494445.0,328437148.0,395378787.0,460246733.0,472504667.0,390354321.0],\"yaxis\":\"y\",\"type\":\"scatter\"},{\"fillpattern\":{\"shape\":\"\"},\"hovertemplate\":\"Sector=III.1.a. Agriculture\\u003cbr\\u003eYear=%{x}\\u003cbr\\u003eAmount=%{y}\\u003cextra\\u003e\\u003c\\u002fextra\\u003e\",\"legendgroup\":\"III.1.a. Agriculture\",\"line\":{\"color\":\"#FECB52\"},\"marker\":{\"symbol\":\"circle\"},\"mode\":\"lines\",\"name\":\"III.1.a. Agriculture\",\"orientation\":\"v\",\"showlegend\":true,\"stackgroup\":\"1\",\"x\":[2013,2014,2015,2016,2017,2018,2019,2020,2021,2022],\"xaxis\":\"x\",\"y\":[217667968.0,286655821.0,316622347.0,417399385.0,421584259.0,534432409.0,569198468.0,909215857.0,630702769.0,1065854451.0],\"yaxis\":\"y\",\"type\":\"scatter\"},{\"fillpattern\":{\"shape\":\"\"},\"hovertemplate\":\"Sector=III.1.b. Forestry\\u003cbr\\u003eYear=%{x}\\u003cbr\\u003eAmount=%{y}\\u003cextra\\u003e\\u003c\\u002fextra\\u003e\",\"legendgroup\":\"III.1.b. Forestry\",\"line\":{\"color\":\"#636efa\"},\"marker\":{\"symbol\":\"circle\"},\"mode\":\"lines\",\"name\":\"III.1.b. Forestry\",\"orientation\":\"v\",\"showlegend\":true,\"stackgroup\":\"1\",\"x\":[2013,2014,2015,2016,2017,2018,2019,2020,2021,2022],\"xaxis\":\"x\",\"y\":[55499816.0,54720634.0,59041206.0,56333161.00000001,65055497.0,65089903.00000001,63594927.0,197946845.0,244814378.0,230875591.0],\"yaxis\":\"y\",\"type\":\"scatter\"},{\"fillpattern\":{\"shape\":\"\"},\"hovertemplate\":\"Sector=III.1.c. Fishing\\u003cbr\\u003eYear=%{x}\\u003cbr\\u003eAmount=%{y}\\u003cextra\\u003e\\u003c\\u002fextra\\u003e\",\"legendgroup\":\"III.1.c. Fishing\",\"line\":{\"color\":\"#EF553B\"},\"marker\":{\"symbol\":\"circle\"},\"mode\":\"lines\",\"name\":\"III.1.c. Fishing\",\"orientation\":\"v\",\"showlegend\":true,\"stackgroup\":\"1\",\"x\":[2013,2014,2015,2016,2017,2018,2019,2020,2021,2022],\"xaxis\":\"x\",\"y\":[3345430.0,3913150.0,2318079.0,4088469.0,10204781.0,15338463.0,27367502.0,25661220.0,26688627.0,26890918.0],\"yaxis\":\"y\",\"type\":\"scatter\"},{\"fillpattern\":{\"shape\":\"\"},\"hovertemplate\":\"Sector=III.2.a. Industry\\u003cbr\\u003eYear=%{x}\\u003cbr\\u003eAmount=%{y}\\u003cextra\\u003e\\u003c\\u002fextra\\u003e\",\"legendgroup\":\"III.2.a. Industry\",\"line\":{\"color\":\"#00cc96\"},\"marker\":{\"symbol\":\"circle\"},\"mode\":\"lines\",\"name\":\"III.2.a. Industry\",\"orientation\":\"v\",\"showlegend\":true,\"stackgroup\":\"1\",\"x\":[2013,2014,2015,2016,2017,2018,2019,2020,2021,2022],\"xaxis\":\"x\",\"y\":[26041602.0,18876797.0,15022879.0,16981484.0,27305273.0,28367868.0,280375006.0,297597124.0,311237173.0,424978696.0],\"yaxis\":\"y\",\"type\":\"scatter\"},{\"fillpattern\":{\"shape\":\"\"},\"hovertemplate\":\"Sector=III.2.b. Mineral Resources & Mining\\u003cbr\\u003eYear=%{x}\\u003cbr\\u003eAmount=%{y}\\u003cextra\\u003e\\u003c\\u002fextra\\u003e\",\"legendgroup\":\"III.2.b. Mineral Resources & Mining\",\"line\":{\"color\":\"#ab63fa\"},\"marker\":{\"symbol\":\"circle\"},\"mode\":\"lines\",\"name\":\"III.2.b. Mineral Resources & Mining\",\"orientation\":\"v\",\"showlegend\":true,\"stackgroup\":\"1\",\"x\":[2013,2014,2015,2016,2017,2018,2019,2020,2021,2022],\"xaxis\":\"x\",\"y\":[12314603.0,15884815.0,6532350.0,16598471.0,19151903.0,17837263.0,21757448.0,21460704.0,20973879.0,19856553.0],\"yaxis\":\"y\",\"type\":\"scatter\"},{\"fillpattern\":{\"shape\":\"\"},\"hovertemplate\":\"Sector=III.2.c. Construction\\u003cbr\\u003eYear=%{x}\\u003cbr\\u003eAmount=%{y}\\u003cextra\\u003e\\u003c\\u002fextra\\u003e\",\"legendgroup\":\"III.2.c. Construction\",\"line\":{\"color\":\"#FFA15A\"},\"marker\":{\"symbol\":\"circle\"},\"mode\":\"lines\",\"name\":\"III.2.c. Construction\",\"orientation\":\"v\",\"showlegend\":true,\"stackgroup\":\"1\",\"x\":[2013,2014,2015,2016,2017,2018,2019,2020,2021,2022],\"xaxis\":\"x\",\"y\":[817830.0,280799.0,null,null,null,null,null,243747.0,185430.0,814863.0],\"yaxis\":\"y\",\"type\":\"scatter\"},{\"fillpattern\":{\"shape\":\"\"},\"hovertemplate\":\"Sector=III.3.a. Trade Policies & Regulations\\u003cbr\\u003eYear=%{x}\\u003cbr\\u003eAmount=%{y}\\u003cextra\\u003e\\u003c\\u002fextra\\u003e\",\"legendgroup\":\"III.3.a. Trade Policies & Regulations\",\"line\":{\"color\":\"#19d3f3\"},\"marker\":{\"symbol\":\"circle\"},\"mode\":\"lines\",\"name\":\"III.3.a. Trade Policies & Regulations\",\"orientation\":\"v\",\"showlegend\":true,\"stackgroup\":\"1\",\"x\":[2013,2014,2015,2016,2017,2018,2019,2020,2021,2022],\"xaxis\":\"x\",\"y\":[32952859.000000004,40833262.0,42597882.0,52859909.0,61340182.99999999,67424327.0,65449487.00000001,55926751.0,68815737.0,80092880.0],\"yaxis\":\"y\",\"type\":\"scatter\"},{\"fillpattern\":{\"shape\":\"\"},\"hovertemplate\":\"Sector=III.3.b. Tourism\\u003cbr\\u003eYear=%{x}\\u003cbr\\u003eAmount=%{y}\\u003cextra\\u003e\\u003c\\u002fextra\\u003e\",\"legendgroup\":\"III.3.b. Tourism\",\"line\":{\"color\":\"#FF6692\"},\"marker\":{\"symbol\":\"circle\"},\"mode\":\"lines\",\"name\":\"III.3.b. Tourism\",\"orientation\":\"v\",\"showlegend\":true,\"stackgroup\":\"1\",\"x\":[2013,2014,2015,2016,2017,2018,2019,2020,2021,2022],\"xaxis\":\"x\",\"y\":[3618893.0,2624932.0000000005,802570.0,242517.0,96340.0,89803.00000000001,315645.0,1018974.0,3316996.0,5683969.0],\"yaxis\":\"y\",\"type\":\"scatter\"},{\"fillpattern\":{\"shape\":\"\"},\"hovertemplate\":\"Sector=IV.1. General Environment Protection\\u003cbr\\u003eYear=%{x}\\u003cbr\\u003eAmount=%{y}\\u003cextra\\u003e\\u003c\\u002fextra\\u003e\",\"legendgroup\":\"IV.1. General Environment Protection\",\"line\":{\"color\":\"#B6E880\"},\"marker\":{\"symbol\":\"circle\"},\"mode\":\"lines\",\"name\":\"IV.1. General Environment Protection\",\"orientation\":\"v\",\"showlegend\":true,\"stackgroup\":\"1\",\"x\":[2013,2014,2015,2016,2017,2018,2019,2020,2021,2022],\"xaxis\":\"x\",\"y\":[305865359.0,418243902.0,346285796.0,622374690.0,569979770.0,584974941.0,583866218.0,535065279.00000006,714695976.0,496834824.0],\"yaxis\":\"y\",\"type\":\"scatter\"},{\"fillpattern\":{\"shape\":\"\"},\"hovertemplate\":\"Sector=IV.2. Other Multisector\\u003cbr\\u003eYear=%{x}\\u003cbr\\u003eAmount=%{y}\\u003cextra\\u003e\\u003c\\u002fextra\\u003e\",\"legendgroup\":\"IV.2. Other Multisector\",\"line\":{\"color\":\"#FF97FF\"},\"marker\":{\"symbol\":\"circle\"},\"mode\":\"lines\",\"name\":\"IV.2. Other Multisector\",\"orientation\":\"v\",\"showlegend\":true,\"stackgroup\":\"1\",\"x\":[2013,2014,2015,2016,2017,2018,2019,2020,2021,2022],\"xaxis\":\"x\",\"y\":[587749666.0,583978189.0,609297355.0,680371765.0,683077087.0,806053700.0,947167737.0,1038362726.0,1091512162.0,1158109774.0],\"yaxis\":\"y\",\"type\":\"scatter\"},{\"fillpattern\":{\"shape\":\"\"},\"hovertemplate\":\"Sector=IX. Unallocated \\u002f Unspecified\\u003cbr\\u003eYear=%{x}\\u003cbr\\u003eAmount=%{y}\\u003cextra\\u003e\\u003c\\u002fextra\\u003e\",\"legendgroup\":\"IX. Unallocated \\u002f Unspecified\",\"line\":{\"color\":\"#FECB52\"},\"marker\":{\"symbol\":\"circle\"},\"mode\":\"lines\",\"name\":\"IX. Unallocated \\u002f Unspecified\",\"orientation\":\"v\",\"showlegend\":true,\"stackgroup\":\"1\",\"x\":[2013,2014,2015,2016,2017,2018,2019,2020,2021,2022],\"xaxis\":\"x\",\"y\":[84971648.0,98560141.0,107840276.0,135702043.0,156201092.0,171994253.0,186293455.0,162697714.00000003,162020378.0,144641490.0],\"yaxis\":\"y\",\"type\":\"scatter\"},{\"fillpattern\":{\"shape\":\"\"},\"hovertemplate\":\"Sector=VI.1. General Budget Support\\u003cbr\\u003eYear=%{x}\\u003cbr\\u003eAmount=%{y}\\u003cextra\\u003e\\u003c\\u002fextra\\u003e\",\"legendgroup\":\"VI.1. General Budget Support\",\"line\":{\"color\":\"#636efa\"},\"marker\":{\"symbol\":\"circle\"},\"mode\":\"lines\",\"name\":\"VI.1. General Budget Support\",\"orientation\":\"v\",\"showlegend\":true,\"stackgroup\":\"1\",\"x\":[2013,2014,2015,2016,2017,2018,2019,2020,2021,2022],\"xaxis\":\"x\",\"y\":[38153694.0,39508887.0,14160075.0,3402308.0,2463935.0,1230470.9999999998,null,null,10062.0,null],\"yaxis\":\"y\",\"type\":\"scatter\"},{\"fillpattern\":{\"shape\":\"\"},\"hovertemplate\":\"Sector=VI.2. Development Food Assistance\\u003cbr\\u003eYear=%{x}\\u003cbr\\u003eAmount=%{y}\\u003cextra\\u003e\\u003c\\u002fextra\\u003e\",\"legendgroup\":\"VI.2. Development Food Assistance\",\"line\":{\"color\":\"#EF553B\"},\"marker\":{\"symbol\":\"circle\"},\"mode\":\"lines\",\"name\":\"VI.2. Development Food Assistance\",\"orientation\":\"v\",\"showlegend\":true,\"stackgroup\":\"1\",\"x\":[2013,2014,2015,2016,2017,2018,2019,2020,2021,2022],\"xaxis\":\"x\",\"y\":[55682635.0,104820569.0,155272045.0,437355383.0,264583441.0,300809916.0,331532664.0,397865243.0,411028092.0,466497989.0],\"yaxis\":\"y\",\"type\":\"scatter\"},{\"fillpattern\":{\"shape\":\"\"},\"hovertemplate\":\"Sector=VII. Action Relating to Debt\\u003cbr\\u003eYear=%{x}\\u003cbr\\u003eAmount=%{y}\\u003cextra\\u003e\\u003c\\u002fextra\\u003e\",\"legendgroup\":\"VII. Action Relating to Debt\",\"line\":{\"color\":\"#00cc96\"},\"marker\":{\"symbol\":\"circle\"},\"mode\":\"lines\",\"name\":\"VII. Action Relating to Debt\",\"orientation\":\"v\",\"showlegend\":true,\"stackgroup\":\"1\",\"x\":[2013,2014,2015,2016,2017,2018,2019,2020,2021,2022],\"xaxis\":\"x\",\"y\":[549473939.0000001,1080558919.0,95486746.0,46872496.0,119614020.0,27279813.0,43725502.0,20361676.000000004,14147029.0,null],\"yaxis\":\"y\",\"type\":\"scatter\"},{\"fillpattern\":{\"shape\":\"\"},\"hovertemplate\":\"Sector=VIII.1. Emergency Response\\u003cbr\\u003eYear=%{x}\\u003cbr\\u003eAmount=%{y}\\u003cextra\\u003e\\u003c\\u002fextra\\u003e\",\"legendgroup\":\"VIII.1. Emergency Response\",\"line\":{\"color\":\"#ab63fa\"},\"marker\":{\"symbol\":\"circle\"},\"mode\":\"lines\",\"name\":\"VIII.1. Emergency Response\",\"orientation\":\"v\",\"showlegend\":true,\"stackgroup\":\"1\",\"x\":[2013,2014,2015,2016,2017,2018,2019,2020,2021,2022],\"xaxis\":\"x\",\"y\":[92040798.0,230063528.00000003,80254227.0,91461057.0,170614380.0,190691502.0,116040880.0,21389054.0,6078023.0,20348848.0],\"yaxis\":\"y\",\"type\":\"scatter\"},{\"fillpattern\":{\"shape\":\"\"},\"hovertemplate\":\"Sector=VIII.2. Reconstruction Relief & Rehabilitation\\u003cbr\\u003eYear=%{x}\\u003cbr\\u003eAmount=%{y}\\u003cextra\\u003e\\u003c\\u002fextra\\u003e\",\"legendgroup\":\"VIII.2. Reconstruction Relief & Rehabilitation\",\"line\":{\"color\":\"#FFA15A\"},\"marker\":{\"symbol\":\"circle\"},\"mode\":\"lines\",\"name\":\"VIII.2. Reconstruction Relief & Rehabilitation\",\"orientation\":\"v\",\"showlegend\":true,\"stackgroup\":\"1\",\"x\":[2013,2014,2015,2016,2017,2018,2019,2020,2021,2022],\"xaxis\":\"x\",\"y\":[40832671.0,100558166.0,249473977.0,619056449.0,637269392.0,821854059.0,425435793.0,213720274.0,138518904.0,70098900.0],\"yaxis\":\"y\",\"type\":\"scatter\"},{\"fillpattern\":{\"shape\":\"\"},\"hovertemplate\":\"Sector=VIII.3. Disaster Prevention & Preparedness\\u003cbr\\u003eYear=%{x}\\u003cbr\\u003eAmount=%{y}\\u003cextra\\u003e\\u003c\\u002fextra\\u003e\",\"legendgroup\":\"VIII.3. Disaster Prevention & Preparedness\",\"line\":{\"color\":\"#19d3f3\"},\"marker\":{\"symbol\":\"circle\"},\"mode\":\"lines\",\"name\":\"VIII.3. Disaster Prevention & Preparedness\",\"orientation\":\"v\",\"showlegend\":true,\"stackgroup\":\"1\",\"x\":[2013,2014,2015,2016,2017,2018,2019,2020,2021,2022],\"xaxis\":\"x\",\"y\":[24944317.0,39127662.0,48810251.0,47608959.99999999,34270454.0,18361349.0,15101624.0,10517096.0,4686183.0,6987604.0],\"yaxis\":\"y\",\"type\":\"scatter\"},{\"fillpattern\":{\"shape\":\"\"},\"hovertemplate\":\"Sector=II.3.d. Hybrid energy plants\\u003cbr\\u003eYear=%{x}\\u003cbr\\u003eAmount=%{y}\\u003cextra\\u003e\\u003c\\u002fextra\\u003e\",\"legendgroup\":\"II.3.d. Hybrid energy plants\",\"line\":{\"color\":\"#FF6692\"},\"marker\":{\"symbol\":\"circle\"},\"mode\":\"lines\",\"name\":\"II.3.d. Hybrid energy plants\",\"orientation\":\"v\",\"showlegend\":true,\"stackgroup\":\"1\",\"x\":[2013,2014,2015,2016,2017,2018,2019,2020,2021,2022],\"xaxis\":\"x\",\"y\":[null,null,null,null,8594967.0,1436734.0000000002,39316.0,1079090.0,242877.0,219371.0],\"yaxis\":\"y\",\"type\":\"scatter\"},{\"fillpattern\":{\"shape\":\"\"},\"hovertemplate\":\"Sector=I.2.c. Non-communicable diseases (NCDs)\\u003cbr\\u003eYear=%{x}\\u003cbr\\u003eAmount=%{y}\\u003cextra\\u003e\\u003c\\u002fextra\\u003e\",\"legendgroup\":\"I.2.c. Non-communicable diseases (NCDs)\",\"line\":{\"color\":\"#B6E880\"},\"marker\":{\"symbol\":\"circle\"},\"mode\":\"lines\",\"name\":\"I.2.c. Non-communicable diseases (NCDs)\",\"orientation\":\"v\",\"showlegend\":true,\"stackgroup\":\"1\",\"x\":[2013,2014,2015,2016,2017,2018,2019,2020,2021,2022],\"xaxis\":\"x\",\"y\":[null,null,null,null,null,null,2777552.0,12302144.0,26421984.000000004,30878856.0],\"yaxis\":\"y\",\"type\":\"scatter\"}],                        {\"template\":{\"data\":{\"histogram2dcontour\":[{\"type\":\"histogram2dcontour\",\"colorbar\":{\"outlinewidth\":0,\"ticks\":\"\"},\"colorscale\":[[0.0,\"#0d0887\"],[0.1111111111111111,\"#46039f\"],[0.2222222222222222,\"#7201a8\"],[0.3333333333333333,\"#9c179e\"],[0.4444444444444444,\"#bd3786\"],[0.5555555555555556,\"#d8576b\"],[0.6666666666666666,\"#ed7953\"],[0.7777777777777778,\"#fb9f3a\"],[0.8888888888888888,\"#fdca26\"],[1.0,\"#f0f921\"]]}],\"choropleth\":[{\"type\":\"choropleth\",\"colorbar\":{\"outlinewidth\":0,\"ticks\":\"\"}}],\"histogram2d\":[{\"type\":\"histogram2d\",\"colorbar\":{\"outlinewidth\":0,\"ticks\":\"\"},\"colorscale\":[[0.0,\"#0d0887\"],[0.1111111111111111,\"#46039f\"],[0.2222222222222222,\"#7201a8\"],[0.3333333333333333,\"#9c179e\"],[0.4444444444444444,\"#bd3786\"],[0.5555555555555556,\"#d8576b\"],[0.6666666666666666,\"#ed7953\"],[0.7777777777777778,\"#fb9f3a\"],[0.8888888888888888,\"#fdca26\"],[1.0,\"#f0f921\"]]}],\"heatmap\":[{\"type\":\"heatmap\",\"colorbar\":{\"outlinewidth\":0,\"ticks\":\"\"},\"colorscale\":[[0.0,\"#0d0887\"],[0.1111111111111111,\"#46039f\"],[0.2222222222222222,\"#7201a8\"],[0.3333333333333333,\"#9c179e\"],[0.4444444444444444,\"#bd3786\"],[0.5555555555555556,\"#d8576b\"],[0.6666666666666666,\"#ed7953\"],[0.7777777777777778,\"#fb9f3a\"],[0.8888888888888888,\"#fdca26\"],[1.0,\"#f0f921\"]]}],\"heatmapgl\":[{\"type\":\"heatmapgl\",\"colorbar\":{\"outlinewidth\":0,\"ticks\":\"\"},\"colorscale\":[[0.0,\"#0d0887\"],[0.1111111111111111,\"#46039f\"],[0.2222222222222222,\"#7201a8\"],[0.3333333333333333,\"#9c179e\"],[0.4444444444444444,\"#bd3786\"],[0.5555555555555556,\"#d8576b\"],[0.6666666666666666,\"#ed7953\"],[0.7777777777777778,\"#fb9f3a\"],[0.8888888888888888,\"#fdca26\"],[1.0,\"#f0f921\"]]}],\"contourcarpet\":[{\"type\":\"contourcarpet\",\"colorbar\":{\"outlinewidth\":0,\"ticks\":\"\"}}],\"contour\":[{\"type\":\"contour\",\"colorbar\":{\"outlinewidth\":0,\"ticks\":\"\"},\"colorscale\":[[0.0,\"#0d0887\"],[0.1111111111111111,\"#46039f\"],[0.2222222222222222,\"#7201a8\"],[0.3333333333333333,\"#9c179e\"],[0.4444444444444444,\"#bd3786\"],[0.5555555555555556,\"#d8576b\"],[0.6666666666666666,\"#ed7953\"],[0.7777777777777778,\"#fb9f3a\"],[0.8888888888888888,\"#fdca26\"],[1.0,\"#f0f921\"]]}],\"surface\":[{\"type\":\"surface\",\"colorbar\":{\"outlinewidth\":0,\"ticks\":\"\"},\"colorscale\":[[0.0,\"#0d0887\"],[0.1111111111111111,\"#46039f\"],[0.2222222222222222,\"#7201a8\"],[0.3333333333333333,\"#9c179e\"],[0.4444444444444444,\"#bd3786\"],[0.5555555555555556,\"#d8576b\"],[0.6666666666666666,\"#ed7953\"],[0.7777777777777778,\"#fb9f3a\"],[0.8888888888888888,\"#fdca26\"],[1.0,\"#f0f921\"]]}],\"mesh3d\":[{\"type\":\"mesh3d\",\"colorbar\":{\"outlinewidth\":0,\"ticks\":\"\"}}],\"scatter\":[{\"fillpattern\":{\"fillmode\":\"overlay\",\"size\":10,\"solidity\":0.2},\"type\":\"scatter\"}],\"parcoords\":[{\"type\":\"parcoords\",\"line\":{\"colorbar\":{\"outlinewidth\":0,\"ticks\":\"\"}}}],\"scatterpolargl\":[{\"type\":\"scatterpolargl\",\"marker\":{\"colorbar\":{\"outlinewidth\":0,\"ticks\":\"\"}}}],\"bar\":[{\"error_x\":{\"color\":\"#2a3f5f\"},\"error_y\":{\"color\":\"#2a3f5f\"},\"marker\":{\"line\":{\"color\":\"#E5ECF6\",\"width\":0.5},\"pattern\":{\"fillmode\":\"overlay\",\"size\":10,\"solidity\":0.2}},\"type\":\"bar\"}],\"scattergeo\":[{\"type\":\"scattergeo\",\"marker\":{\"colorbar\":{\"outlinewidth\":0,\"ticks\":\"\"}}}],\"scatterpolar\":[{\"type\":\"scatterpolar\",\"marker\":{\"colorbar\":{\"outlinewidth\":0,\"ticks\":\"\"}}}],\"histogram\":[{\"marker\":{\"pattern\":{\"fillmode\":\"overlay\",\"size\":10,\"solidity\":0.2}},\"type\":\"histogram\"}],\"scattergl\":[{\"type\":\"scattergl\",\"marker\":{\"colorbar\":{\"outlinewidth\":0,\"ticks\":\"\"}}}],\"scatter3d\":[{\"type\":\"scatter3d\",\"line\":{\"colorbar\":{\"outlinewidth\":0,\"ticks\":\"\"}},\"marker\":{\"colorbar\":{\"outlinewidth\":0,\"ticks\":\"\"}}}],\"scattermapbox\":[{\"type\":\"scattermapbox\",\"marker\":{\"colorbar\":{\"outlinewidth\":0,\"ticks\":\"\"}}}],\"scatterternary\":[{\"type\":\"scatterternary\",\"marker\":{\"colorbar\":{\"outlinewidth\":0,\"ticks\":\"\"}}}],\"scattercarpet\":[{\"type\":\"scattercarpet\",\"marker\":{\"colorbar\":{\"outlinewidth\":0,\"ticks\":\"\"}}}],\"carpet\":[{\"aaxis\":{\"endlinecolor\":\"#2a3f5f\",\"gridcolor\":\"white\",\"linecolor\":\"white\",\"minorgridcolor\":\"white\",\"startlinecolor\":\"#2a3f5f\"},\"baxis\":{\"endlinecolor\":\"#2a3f5f\",\"gridcolor\":\"white\",\"linecolor\":\"white\",\"minorgridcolor\":\"white\",\"startlinecolor\":\"#2a3f5f\"},\"type\":\"carpet\"}],\"table\":[{\"cells\":{\"fill\":{\"color\":\"#EBF0F8\"},\"line\":{\"color\":\"white\"}},\"header\":{\"fill\":{\"color\":\"#C8D4E3\"},\"line\":{\"color\":\"white\"}},\"type\":\"table\"}],\"barpolar\":[{\"marker\":{\"line\":{\"color\":\"#E5ECF6\",\"width\":0.5},\"pattern\":{\"fillmode\":\"overlay\",\"size\":10,\"solidity\":0.2}},\"type\":\"barpolar\"}],\"pie\":[{\"automargin\":true,\"type\":\"pie\"}]},\"layout\":{\"autotypenumbers\":\"strict\",\"colorway\":[\"#636efa\",\"#EF553B\",\"#00cc96\",\"#ab63fa\",\"#FFA15A\",\"#19d3f3\",\"#FF6692\",\"#B6E880\",\"#FF97FF\",\"#FECB52\"],\"font\":{\"color\":\"#2a3f5f\"},\"hovermode\":\"closest\",\"hoverlabel\":{\"align\":\"left\"},\"paper_bgcolor\":\"white\",\"plot_bgcolor\":\"#E5ECF6\",\"polar\":{\"bgcolor\":\"#E5ECF6\",\"angularaxis\":{\"gridcolor\":\"white\",\"linecolor\":\"white\",\"ticks\":\"\"},\"radialaxis\":{\"gridcolor\":\"white\",\"linecolor\":\"white\",\"ticks\":\"\"}},\"ternary\":{\"bgcolor\":\"#E5ECF6\",\"aaxis\":{\"gridcolor\":\"white\",\"linecolor\":\"white\",\"ticks\":\"\"},\"baxis\":{\"gridcolor\":\"white\",\"linecolor\":\"white\",\"ticks\":\"\"},\"caxis\":{\"gridcolor\":\"white\",\"linecolor\":\"white\",\"ticks\":\"\"}},\"coloraxis\":{\"colorbar\":{\"outlinewidth\":0,\"ticks\":\"\"}},\"colorscale\":{\"sequential\":[[0.0,\"#0d0887\"],[0.1111111111111111,\"#46039f\"],[0.2222222222222222,\"#7201a8\"],[0.3333333333333333,\"#9c179e\"],[0.4444444444444444,\"#bd3786\"],[0.5555555555555556,\"#d8576b\"],[0.6666666666666666,\"#ed7953\"],[0.7777777777777778,\"#fb9f3a\"],[0.8888888888888888,\"#fdca26\"],[1.0,\"#f0f921\"]],\"sequentialminus\":[[0.0,\"#0d0887\"],[0.1111111111111111,\"#46039f\"],[0.2222222222222222,\"#7201a8\"],[0.3333333333333333,\"#9c179e\"],[0.4444444444444444,\"#bd3786\"],[0.5555555555555556,\"#d8576b\"],[0.6666666666666666,\"#ed7953\"],[0.7777777777777778,\"#fb9f3a\"],[0.8888888888888888,\"#fdca26\"],[1.0,\"#f0f921\"]],\"diverging\":[[0,\"#8e0152\"],[0.1,\"#c51b7d\"],[0.2,\"#de77ae\"],[0.3,\"#f1b6da\"],[0.4,\"#fde0ef\"],[0.5,\"#f7f7f7\"],[0.6,\"#e6f5d0\"],[0.7,\"#b8e186\"],[0.8,\"#7fbc41\"],[0.9,\"#4d9221\"],[1,\"#276419\"]]},\"xaxis\":{\"gridcolor\":\"white\",\"linecolor\":\"white\",\"ticks\":\"\",\"title\":{\"standoff\":15},\"zerolinecolor\":\"white\",\"automargin\":true,\"zerolinewidth\":2},\"yaxis\":{\"gridcolor\":\"white\",\"linecolor\":\"white\",\"ticks\":\"\",\"title\":{\"standoff\":15},\"zerolinecolor\":\"white\",\"automargin\":true,\"zerolinewidth\":2},\"scene\":{\"xaxis\":{\"backgroundcolor\":\"#E5ECF6\",\"gridcolor\":\"white\",\"linecolor\":\"white\",\"showbackground\":true,\"ticks\":\"\",\"zerolinecolor\":\"white\",\"gridwidth\":2},\"yaxis\":{\"backgroundcolor\":\"#E5ECF6\",\"gridcolor\":\"white\",\"linecolor\":\"white\",\"showbackground\":true,\"ticks\":\"\",\"zerolinecolor\":\"white\",\"gridwidth\":2},\"zaxis\":{\"backgroundcolor\":\"#E5ECF6\",\"gridcolor\":\"white\",\"linecolor\":\"white\",\"showbackground\":true,\"ticks\":\"\",\"zerolinecolor\":\"white\",\"gridwidth\":2}},\"shapedefaults\":{\"line\":{\"color\":\"#2a3f5f\"}},\"annotationdefaults\":{\"arrowcolor\":\"#2a3f5f\",\"arrowhead\":0,\"arrowwidth\":1},\"geo\":{\"bgcolor\":\"white\",\"landcolor\":\"#E5ECF6\",\"subunitcolor\":\"white\",\"showland\":true,\"showlakes\":true,\"lakecolor\":\"white\"},\"title\":{\"x\":0.05},\"mapbox\":{\"style\":\"light\"}}},\"xaxis\":{\"anchor\":\"y\",\"domain\":[0.0,1.0],\"title\":{\"text\":\"Year\"}},\"yaxis\":{\"anchor\":\"x\",\"domain\":[0.0,1.0],\"title\":{\"text\":\"Amount\"}},\"legend\":{\"title\":{\"text\":\"Sector\"},\"tracegroupgap\":0},\"margin\":{\"t\":60}},                        {\"responsive\": true}                    ).then(function(){\n",
       "                            \n",
       "var gd = document.getElementById('d58bd43c-6709-4adb-ba5e-89877bc989c8');\n",
       "var x = new MutationObserver(function (mutations, observer) {{\n",
       "        var display = window.getComputedStyle(gd).display;\n",
       "        if (!display || display === 'none') {{\n",
       "            console.log([gd, 'removed!']);\n",
       "            Plotly.purge(gd);\n",
       "            observer.disconnect();\n",
       "        }}\n",
       "}});\n",
       "\n",
       "// Listen for the removal of the full notebook cells\n",
       "var notebookContainer = gd.closest('#notebook-container');\n",
       "if (notebookContainer) {{\n",
       "    x.observe(notebookContainer, {childList: true});\n",
       "}}\n",
       "\n",
       "// Listen for the clearing of the current output cell\n",
       "var outputEl = gd.closest('.output');\n",
       "if (outputEl) {{\n",
       "    x.observe(outputEl, {childList: true});\n",
       "}}\n",
       "\n",
       "                        })                };                });            </script>        </div>"
      ]
     },
     "metadata": {},
     "output_type": "display_data"
    }
   ],
   "source": [
    "# Create a filled area plot\n",
    "fig = px.area(df_long, x='Year', y='Amount', color='Sector', line_group='Sector')\n",
    "\n",
    "# Show the plot\n",
    "fig.show()"
   ]
  },
  {
   "cell_type": "code",
   "execution_count": null,
   "id": "84050ba1",
   "metadata": {},
   "outputs": [],
   "source": []
  },
  {
   "cell_type": "code",
   "execution_count": null,
   "id": "611d2889",
   "metadata": {},
   "outputs": [],
   "source": []
  },
  {
   "cell_type": "code",
   "execution_count": null,
   "id": "644324e4",
   "metadata": {},
   "outputs": [],
   "source": []
  },
  {
   "cell_type": "code",
   "execution_count": null,
   "id": "878b24b5",
   "metadata": {},
   "outputs": [],
   "source": []
  },
  {
   "cell_type": "code",
   "execution_count": null,
   "id": "b4767181",
   "metadata": {},
   "outputs": [],
   "source": []
  },
  {
   "cell_type": "code",
   "execution_count": null,
   "id": "a3197fef",
   "metadata": {},
   "outputs": [],
   "source": []
  },
  {
   "cell_type": "code",
   "execution_count": null,
   "id": "7bb794a2",
   "metadata": {},
   "outputs": [],
   "source": []
  },
  {
   "cell_type": "markdown",
   "id": "229baa27",
   "metadata": {},
   "source": [
    "## Pie Charts"
   ]
  },
  {
   "cell_type": "code",
   "execution_count": 102,
   "id": "b71fbd37",
   "metadata": {},
   "outputs": [
    {
     "data": {
      "text/plain": [
       "[2013, 2014, 2015, 2016, 2017, 2018, 2019, 2020, 2021, 2022]"
      ]
     },
     "execution_count": 102,
     "metadata": {},
     "output_type": "execute_result"
    }
   ],
   "source": [
    "list(range(2013,2023))"
   ]
  },
  {
   "cell_type": "code",
   "execution_count": 103,
   "id": "4be952ef",
   "metadata": {},
   "outputs": [],
   "source": [
    "year = 2013\n",
    "\n",
    "selected_year = [col for col in df_merged.columns if col.endswith(f'{year}')]\n",
    "selected_year.append('Sector')\n",
    "filtered_year_df = df_merged[selected_year]"
   ]
  },
  {
   "cell_type": "code",
   "execution_count": 110,
   "id": "d0e9a946",
   "metadata": {},
   "outputs": [
    {
     "data": {
      "application/vnd.plotly.v1+json": {
       "config": {
        "plotlyServerURL": "https://plot.ly"
       },
       "data": [
        {
         "branchvalues": "total",
         "domain": {
          "x": [
           0,
           1
          ],
          "y": [
           0,
           1
          ]
         },
         "hovertemplate": "labels=%{label}<br>clim_rel_amount_2013=%{value}<br>parent=%{parent}<br>id=%{id}<extra></extra>",
         "ids": [
          "I.1.a. Education, Level Unspecified",
          "I.1.b. Basic Education",
          "I.1.c. Secondary Education",
          "I.1.d. Post-Secondary Education",
          "I.2.a. Health, General",
          "I.2.b. Basic Health",
          "I.2.c. Non-communicable diseases (NCDs)",
          "I.3. Population Policies/Programmes & Reproductive Health",
          "I.4. Water Supply & Sanitation",
          "I.5.a. Government & Civil Society-general",
          "I.5.b. Conflict, Peace & Security",
          "I.6. Other Social Infrastructure & Services",
          "II.1. Transport & Storage",
          "II.2. Communications",
          "II.3.a. Energy Policy",
          "II.3.b. Energy generation, renewable sources",
          "II.3.c. Energy generation, non-renewable sources",
          "II.3.d. Hybrid energy plants",
          "II.3.f. Energy distribution",
          "II.4. Banking & Financial Services",
          "II.5. Business & Other Services",
          "III.1.a. Agriculture",
          "III.1.b. Forestry",
          "III.1.c. Fishing",
          "III.2.a. Industry",
          "III.2.b. Mineral Resources & Mining",
          "III.2.c. Construction",
          "III.3.a. Trade Policies & Regulations",
          "III.3.b. Tourism",
          "IV.1. General Environment Protection",
          "IV.2. Other Multisector",
          "IX. Unallocated / Unspecified",
          "VI.1. General Budget Support",
          "VI.2. Development Food Assistance",
          "VII. Action Relating to Debt",
          "VIII.1. Emergency Response",
          "VIII.2. Reconstruction Relief & Rehabilitation",
          "VIII.3. Disaster Prevention & Preparedness"
         ],
         "labels": [
          "I.1.a. Education, Level Unspecified",
          "I.1.b. Basic Education",
          "I.1.c. Secondary Education",
          "I.1.d. Post-Secondary Education",
          "I.2.a. Health, General",
          "I.2.b. Basic Health",
          "I.2.c. Non-communicable diseases (NCDs)",
          "I.3. Population Policies/Programmes & Reproductive Health",
          "I.4. Water Supply & Sanitation",
          "I.5.a. Government & Civil Society-general",
          "I.5.b. Conflict, Peace & Security",
          "I.6. Other Social Infrastructure & Services",
          "II.1. Transport & Storage",
          "II.2. Communications",
          "II.3.a. Energy Policy",
          "II.3.b. Energy generation, renewable sources",
          "II.3.c. Energy generation, non-renewable sources",
          "II.3.d. Hybrid energy plants",
          "II.3.f. Energy distribution",
          "II.4. Banking & Financial Services",
          "II.5. Business & Other Services",
          "III.1.a. Agriculture",
          "III.1.b. Forestry",
          "III.1.c. Fishing",
          "III.2.a. Industry",
          "III.2.b. Mineral Resources & Mining",
          "III.2.c. Construction",
          "III.3.a. Trade Policies & Regulations",
          "III.3.b. Tourism",
          "IV.1. General Environment Protection",
          "IV.2. Other Multisector",
          "IX. Unallocated / Unspecified",
          "VI.1. General Budget Support",
          "VI.2. Development Food Assistance",
          "VII. Action Relating to Debt",
          "VIII.1. Emergency Response",
          "VIII.2. Reconstruction Relief & Rehabilitation",
          "VIII.3. Disaster Prevention & Preparedness"
         ],
         "name": "",
         "parents": [
          "",
          "",
          "",
          "",
          "",
          "",
          "",
          "",
          "",
          "",
          "",
          "",
          "",
          "",
          "",
          "",
          "",
          "",
          "",
          "",
          "",
          "",
          "",
          "",
          "",
          "",
          "",
          "",
          "",
          "",
          "",
          "",
          "",
          "",
          "",
          "",
          "",
          ""
         ],
         "type": "sunburst",
         "values": [
          6.281511999999999,
          0.1856635,
          4.4614175,
          10.3693145,
          0.0245835,
          0.7928945,
          0,
          1.0180425,
          102.046666,
          56.859578,
          0.46519,
          1.510633,
          13.5422885,
          0,
          40.2380215,
          113.3352445,
          8.0677155,
          0,
          38.826143,
          42.2025865,
          8.4534745,
          114.186722,
          48.708099,
          1.003533,
          0.0275885,
          0.16638,
          0,
          1.9673435,
          0.057246,
          252.9755155,
          95.604043,
          1.151959,
          4.1382785,
          6.1836235,
          0,
          2.5037705,
          4.367,
          10.3936805
         ]
        }
       ],
       "layout": {
        "legend": {
         "tracegroupgap": 0
        },
        "margin": {
         "b": 0,
         "l": 0,
         "r": 0,
         "t": 30
        },
        "template": {
         "data": {
          "bar": [
           {
            "error_x": {
             "color": "#2a3f5f"
            },
            "error_y": {
             "color": "#2a3f5f"
            },
            "marker": {
             "line": {
              "color": "#E5ECF6",
              "width": 0.5
             },
             "pattern": {
              "fillmode": "overlay",
              "size": 10,
              "solidity": 0.2
             }
            },
            "type": "bar"
           }
          ],
          "barpolar": [
           {
            "marker": {
             "line": {
              "color": "#E5ECF6",
              "width": 0.5
             },
             "pattern": {
              "fillmode": "overlay",
              "size": 10,
              "solidity": 0.2
             }
            },
            "type": "barpolar"
           }
          ],
          "carpet": [
           {
            "aaxis": {
             "endlinecolor": "#2a3f5f",
             "gridcolor": "white",
             "linecolor": "white",
             "minorgridcolor": "white",
             "startlinecolor": "#2a3f5f"
            },
            "baxis": {
             "endlinecolor": "#2a3f5f",
             "gridcolor": "white",
             "linecolor": "white",
             "minorgridcolor": "white",
             "startlinecolor": "#2a3f5f"
            },
            "type": "carpet"
           }
          ],
          "choropleth": [
           {
            "colorbar": {
             "outlinewidth": 0,
             "ticks": ""
            },
            "type": "choropleth"
           }
          ],
          "contour": [
           {
            "colorbar": {
             "outlinewidth": 0,
             "ticks": ""
            },
            "colorscale": [
             [
              0,
              "#0d0887"
             ],
             [
              0.1111111111111111,
              "#46039f"
             ],
             [
              0.2222222222222222,
              "#7201a8"
             ],
             [
              0.3333333333333333,
              "#9c179e"
             ],
             [
              0.4444444444444444,
              "#bd3786"
             ],
             [
              0.5555555555555556,
              "#d8576b"
             ],
             [
              0.6666666666666666,
              "#ed7953"
             ],
             [
              0.7777777777777778,
              "#fb9f3a"
             ],
             [
              0.8888888888888888,
              "#fdca26"
             ],
             [
              1,
              "#f0f921"
             ]
            ],
            "type": "contour"
           }
          ],
          "contourcarpet": [
           {
            "colorbar": {
             "outlinewidth": 0,
             "ticks": ""
            },
            "type": "contourcarpet"
           }
          ],
          "heatmap": [
           {
            "colorbar": {
             "outlinewidth": 0,
             "ticks": ""
            },
            "colorscale": [
             [
              0,
              "#0d0887"
             ],
             [
              0.1111111111111111,
              "#46039f"
             ],
             [
              0.2222222222222222,
              "#7201a8"
             ],
             [
              0.3333333333333333,
              "#9c179e"
             ],
             [
              0.4444444444444444,
              "#bd3786"
             ],
             [
              0.5555555555555556,
              "#d8576b"
             ],
             [
              0.6666666666666666,
              "#ed7953"
             ],
             [
              0.7777777777777778,
              "#fb9f3a"
             ],
             [
              0.8888888888888888,
              "#fdca26"
             ],
             [
              1,
              "#f0f921"
             ]
            ],
            "type": "heatmap"
           }
          ],
          "heatmapgl": [
           {
            "colorbar": {
             "outlinewidth": 0,
             "ticks": ""
            },
            "colorscale": [
             [
              0,
              "#0d0887"
             ],
             [
              0.1111111111111111,
              "#46039f"
             ],
             [
              0.2222222222222222,
              "#7201a8"
             ],
             [
              0.3333333333333333,
              "#9c179e"
             ],
             [
              0.4444444444444444,
              "#bd3786"
             ],
             [
              0.5555555555555556,
              "#d8576b"
             ],
             [
              0.6666666666666666,
              "#ed7953"
             ],
             [
              0.7777777777777778,
              "#fb9f3a"
             ],
             [
              0.8888888888888888,
              "#fdca26"
             ],
             [
              1,
              "#f0f921"
             ]
            ],
            "type": "heatmapgl"
           }
          ],
          "histogram": [
           {
            "marker": {
             "pattern": {
              "fillmode": "overlay",
              "size": 10,
              "solidity": 0.2
             }
            },
            "type": "histogram"
           }
          ],
          "histogram2d": [
           {
            "colorbar": {
             "outlinewidth": 0,
             "ticks": ""
            },
            "colorscale": [
             [
              0,
              "#0d0887"
             ],
             [
              0.1111111111111111,
              "#46039f"
             ],
             [
              0.2222222222222222,
              "#7201a8"
             ],
             [
              0.3333333333333333,
              "#9c179e"
             ],
             [
              0.4444444444444444,
              "#bd3786"
             ],
             [
              0.5555555555555556,
              "#d8576b"
             ],
             [
              0.6666666666666666,
              "#ed7953"
             ],
             [
              0.7777777777777778,
              "#fb9f3a"
             ],
             [
              0.8888888888888888,
              "#fdca26"
             ],
             [
              1,
              "#f0f921"
             ]
            ],
            "type": "histogram2d"
           }
          ],
          "histogram2dcontour": [
           {
            "colorbar": {
             "outlinewidth": 0,
             "ticks": ""
            },
            "colorscale": [
             [
              0,
              "#0d0887"
             ],
             [
              0.1111111111111111,
              "#46039f"
             ],
             [
              0.2222222222222222,
              "#7201a8"
             ],
             [
              0.3333333333333333,
              "#9c179e"
             ],
             [
              0.4444444444444444,
              "#bd3786"
             ],
             [
              0.5555555555555556,
              "#d8576b"
             ],
             [
              0.6666666666666666,
              "#ed7953"
             ],
             [
              0.7777777777777778,
              "#fb9f3a"
             ],
             [
              0.8888888888888888,
              "#fdca26"
             ],
             [
              1,
              "#f0f921"
             ]
            ],
            "type": "histogram2dcontour"
           }
          ],
          "mesh3d": [
           {
            "colorbar": {
             "outlinewidth": 0,
             "ticks": ""
            },
            "type": "mesh3d"
           }
          ],
          "parcoords": [
           {
            "line": {
             "colorbar": {
              "outlinewidth": 0,
              "ticks": ""
             }
            },
            "type": "parcoords"
           }
          ],
          "pie": [
           {
            "automargin": true,
            "type": "pie"
           }
          ],
          "scatter": [
           {
            "fillpattern": {
             "fillmode": "overlay",
             "size": 10,
             "solidity": 0.2
            },
            "type": "scatter"
           }
          ],
          "scatter3d": [
           {
            "line": {
             "colorbar": {
              "outlinewidth": 0,
              "ticks": ""
             }
            },
            "marker": {
             "colorbar": {
              "outlinewidth": 0,
              "ticks": ""
             }
            },
            "type": "scatter3d"
           }
          ],
          "scattercarpet": [
           {
            "marker": {
             "colorbar": {
              "outlinewidth": 0,
              "ticks": ""
             }
            },
            "type": "scattercarpet"
           }
          ],
          "scattergeo": [
           {
            "marker": {
             "colorbar": {
              "outlinewidth": 0,
              "ticks": ""
             }
            },
            "type": "scattergeo"
           }
          ],
          "scattergl": [
           {
            "marker": {
             "colorbar": {
              "outlinewidth": 0,
              "ticks": ""
             }
            },
            "type": "scattergl"
           }
          ],
          "scattermapbox": [
           {
            "marker": {
             "colorbar": {
              "outlinewidth": 0,
              "ticks": ""
             }
            },
            "type": "scattermapbox"
           }
          ],
          "scatterpolar": [
           {
            "marker": {
             "colorbar": {
              "outlinewidth": 0,
              "ticks": ""
             }
            },
            "type": "scatterpolar"
           }
          ],
          "scatterpolargl": [
           {
            "marker": {
             "colorbar": {
              "outlinewidth": 0,
              "ticks": ""
             }
            },
            "type": "scatterpolargl"
           }
          ],
          "scatterternary": [
           {
            "marker": {
             "colorbar": {
              "outlinewidth": 0,
              "ticks": ""
             }
            },
            "type": "scatterternary"
           }
          ],
          "surface": [
           {
            "colorbar": {
             "outlinewidth": 0,
             "ticks": ""
            },
            "colorscale": [
             [
              0,
              "#0d0887"
             ],
             [
              0.1111111111111111,
              "#46039f"
             ],
             [
              0.2222222222222222,
              "#7201a8"
             ],
             [
              0.3333333333333333,
              "#9c179e"
             ],
             [
              0.4444444444444444,
              "#bd3786"
             ],
             [
              0.5555555555555556,
              "#d8576b"
             ],
             [
              0.6666666666666666,
              "#ed7953"
             ],
             [
              0.7777777777777778,
              "#fb9f3a"
             ],
             [
              0.8888888888888888,
              "#fdca26"
             ],
             [
              1,
              "#f0f921"
             ]
            ],
            "type": "surface"
           }
          ],
          "table": [
           {
            "cells": {
             "fill": {
              "color": "#EBF0F8"
             },
             "line": {
              "color": "white"
             }
            },
            "header": {
             "fill": {
              "color": "#C8D4E3"
             },
             "line": {
              "color": "white"
             }
            },
            "type": "table"
           }
          ]
         },
         "layout": {
          "annotationdefaults": {
           "arrowcolor": "#2a3f5f",
           "arrowhead": 0,
           "arrowwidth": 1
          },
          "autotypenumbers": "strict",
          "coloraxis": {
           "colorbar": {
            "outlinewidth": 0,
            "ticks": ""
           }
          },
          "colorscale": {
           "diverging": [
            [
             0,
             "#8e0152"
            ],
            [
             0.1,
             "#c51b7d"
            ],
            [
             0.2,
             "#de77ae"
            ],
            [
             0.3,
             "#f1b6da"
            ],
            [
             0.4,
             "#fde0ef"
            ],
            [
             0.5,
             "#f7f7f7"
            ],
            [
             0.6,
             "#e6f5d0"
            ],
            [
             0.7,
             "#b8e186"
            ],
            [
             0.8,
             "#7fbc41"
            ],
            [
             0.9,
             "#4d9221"
            ],
            [
             1,
             "#276419"
            ]
           ],
           "sequential": [
            [
             0,
             "#0d0887"
            ],
            [
             0.1111111111111111,
             "#46039f"
            ],
            [
             0.2222222222222222,
             "#7201a8"
            ],
            [
             0.3333333333333333,
             "#9c179e"
            ],
            [
             0.4444444444444444,
             "#bd3786"
            ],
            [
             0.5555555555555556,
             "#d8576b"
            ],
            [
             0.6666666666666666,
             "#ed7953"
            ],
            [
             0.7777777777777778,
             "#fb9f3a"
            ],
            [
             0.8888888888888888,
             "#fdca26"
            ],
            [
             1,
             "#f0f921"
            ]
           ],
           "sequentialminus": [
            [
             0,
             "#0d0887"
            ],
            [
             0.1111111111111111,
             "#46039f"
            ],
            [
             0.2222222222222222,
             "#7201a8"
            ],
            [
             0.3333333333333333,
             "#9c179e"
            ],
            [
             0.4444444444444444,
             "#bd3786"
            ],
            [
             0.5555555555555556,
             "#d8576b"
            ],
            [
             0.6666666666666666,
             "#ed7953"
            ],
            [
             0.7777777777777778,
             "#fb9f3a"
            ],
            [
             0.8888888888888888,
             "#fdca26"
            ],
            [
             1,
             "#f0f921"
            ]
           ]
          },
          "colorway": [
           "#636efa",
           "#EF553B",
           "#00cc96",
           "#ab63fa",
           "#FFA15A",
           "#19d3f3",
           "#FF6692",
           "#B6E880",
           "#FF97FF",
           "#FECB52"
          ],
          "font": {
           "color": "#2a3f5f"
          },
          "geo": {
           "bgcolor": "white",
           "lakecolor": "white",
           "landcolor": "#E5ECF6",
           "showlakes": true,
           "showland": true,
           "subunitcolor": "white"
          },
          "hoverlabel": {
           "align": "left"
          },
          "hovermode": "closest",
          "mapbox": {
           "style": "light"
          },
          "paper_bgcolor": "white",
          "plot_bgcolor": "#E5ECF6",
          "polar": {
           "angularaxis": {
            "gridcolor": "white",
            "linecolor": "white",
            "ticks": ""
           },
           "bgcolor": "#E5ECF6",
           "radialaxis": {
            "gridcolor": "white",
            "linecolor": "white",
            "ticks": ""
           }
          },
          "scene": {
           "xaxis": {
            "backgroundcolor": "#E5ECF6",
            "gridcolor": "white",
            "gridwidth": 2,
            "linecolor": "white",
            "showbackground": true,
            "ticks": "",
            "zerolinecolor": "white"
           },
           "yaxis": {
            "backgroundcolor": "#E5ECF6",
            "gridcolor": "white",
            "gridwidth": 2,
            "linecolor": "white",
            "showbackground": true,
            "ticks": "",
            "zerolinecolor": "white"
           },
           "zaxis": {
            "backgroundcolor": "#E5ECF6",
            "gridcolor": "white",
            "gridwidth": 2,
            "linecolor": "white",
            "showbackground": true,
            "ticks": "",
            "zerolinecolor": "white"
           }
          },
          "shapedefaults": {
           "line": {
            "color": "#2a3f5f"
           }
          },
          "ternary": {
           "aaxis": {
            "gridcolor": "white",
            "linecolor": "white",
            "ticks": ""
           },
           "baxis": {
            "gridcolor": "white",
            "linecolor": "white",
            "ticks": ""
           },
           "bgcolor": "#E5ECF6",
           "caxis": {
            "gridcolor": "white",
            "linecolor": "white",
            "ticks": ""
           }
          },
          "title": {
           "x": 0.05
          },
          "xaxis": {
           "automargin": true,
           "gridcolor": "white",
           "linecolor": "white",
           "ticks": "",
           "title": {
            "standoff": 15
           },
           "zerolinecolor": "white",
           "zerolinewidth": 2
          },
          "yaxis": {
           "automargin": true,
           "gridcolor": "white",
           "linecolor": "white",
           "ticks": "",
           "title": {
            "standoff": 15
           },
           "zerolinecolor": "white",
           "zerolinewidth": 2
          }
         }
        },
        "title": {
         "text": "Climate Related Amount by Sector"
        }
       }
      },
      "text/html": [
       "<div>                            <div id=\"c7caccf8-fca9-41ad-98a9-2a764e447328\" class=\"plotly-graph-div\" style=\"height:525px; width:100%;\"></div>            <script type=\"text/javascript\">                require([\"plotly\"], function(Plotly) {                    window.PLOTLYENV=window.PLOTLYENV || {};                                    if (document.getElementById(\"c7caccf8-fca9-41ad-98a9-2a764e447328\")) {                    Plotly.newPlot(                        \"c7caccf8-fca9-41ad-98a9-2a764e447328\",                        [{\"branchvalues\":\"total\",\"domain\":{\"x\":[0.0,1.0],\"y\":[0.0,1.0]},\"hovertemplate\":\"labels=%{label}\\u003cbr\\u003eclim_rel_amount_2013=%{value}\\u003cbr\\u003eparent=%{parent}\\u003cbr\\u003eid=%{id}\\u003cextra\\u003e\\u003c\\u002fextra\\u003e\",\"ids\":[\"I.1.a. Education, Level Unspecified\",\"I.1.b. Basic Education\",\"I.1.c. Secondary Education\",\"I.1.d. Post-Secondary Education\",\"I.2.a. Health, General\",\"I.2.b. Basic Health\",\"I.2.c. Non-communicable diseases (NCDs)\",\"I.3. Population Policies\\u002fProgrammes & Reproductive Health\",\"I.4. Water Supply & Sanitation\",\"I.5.a. Government & Civil Society-general\",\"I.5.b. Conflict, Peace & Security\",\"I.6. Other Social Infrastructure & Services\",\"II.1. Transport & Storage\",\"II.2. Communications\",\"II.3.a. Energy Policy\",\"II.3.b. Energy generation, renewable sources\",\"II.3.c. Energy generation, non-renewable sources\",\"II.3.d. Hybrid energy plants\",\"II.3.f. Energy distribution\",\"II.4. Banking & Financial Services\",\"II.5. Business & Other Services\",\"III.1.a. Agriculture\",\"III.1.b. Forestry\",\"III.1.c. Fishing\",\"III.2.a. Industry\",\"III.2.b. Mineral Resources & Mining\",\"III.2.c. Construction\",\"III.3.a. Trade Policies & Regulations\",\"III.3.b. Tourism\",\"IV.1. General Environment Protection\",\"IV.2. Other Multisector\",\"IX. Unallocated \\u002f Unspecified\",\"VI.1. General Budget Support\",\"VI.2. Development Food Assistance\",\"VII. Action Relating to Debt\",\"VIII.1. Emergency Response\",\"VIII.2. Reconstruction Relief & Rehabilitation\",\"VIII.3. Disaster Prevention & Preparedness\"],\"labels\":[\"I.1.a. Education, Level Unspecified\",\"I.1.b. Basic Education\",\"I.1.c. Secondary Education\",\"I.1.d. Post-Secondary Education\",\"I.2.a. Health, General\",\"I.2.b. Basic Health\",\"I.2.c. Non-communicable diseases (NCDs)\",\"I.3. Population Policies\\u002fProgrammes & Reproductive Health\",\"I.4. Water Supply & Sanitation\",\"I.5.a. Government & Civil Society-general\",\"I.5.b. Conflict, Peace & Security\",\"I.6. Other Social Infrastructure & Services\",\"II.1. Transport & Storage\",\"II.2. Communications\",\"II.3.a. Energy Policy\",\"II.3.b. Energy generation, renewable sources\",\"II.3.c. Energy generation, non-renewable sources\",\"II.3.d. Hybrid energy plants\",\"II.3.f. Energy distribution\",\"II.4. Banking & Financial Services\",\"II.5. Business & Other Services\",\"III.1.a. Agriculture\",\"III.1.b. Forestry\",\"III.1.c. Fishing\",\"III.2.a. Industry\",\"III.2.b. Mineral Resources & Mining\",\"III.2.c. Construction\",\"III.3.a. Trade Policies & Regulations\",\"III.3.b. Tourism\",\"IV.1. General Environment Protection\",\"IV.2. Other Multisector\",\"IX. Unallocated \\u002f Unspecified\",\"VI.1. General Budget Support\",\"VI.2. Development Food Assistance\",\"VII. Action Relating to Debt\",\"VIII.1. Emergency Response\",\"VIII.2. Reconstruction Relief & Rehabilitation\",\"VIII.3. Disaster Prevention & Preparedness\"],\"name\":\"\",\"parents\":[\"\",\"\",\"\",\"\",\"\",\"\",\"\",\"\",\"\",\"\",\"\",\"\",\"\",\"\",\"\",\"\",\"\",\"\",\"\",\"\",\"\",\"\",\"\",\"\",\"\",\"\",\"\",\"\",\"\",\"\",\"\",\"\",\"\",\"\",\"\",\"\",\"\",\"\"],\"values\":[6.281511999999999,0.1856635,4.4614175,10.3693145,0.0245835,0.7928945,0.0,1.0180425,102.046666,56.859578,0.46519,1.510633,13.5422885,0.0,40.2380215,113.3352445,8.0677155,0.0,38.826143,42.2025865,8.4534745,114.186722,48.708099,1.003533,0.0275885,0.16638,0.0,1.9673435,0.057246,252.9755155,95.604043,1.151959,4.1382785,6.1836235,0.0,2.5037705,4.367,10.3936805],\"type\":\"sunburst\"}],                        {\"template\":{\"data\":{\"histogram2dcontour\":[{\"type\":\"histogram2dcontour\",\"colorbar\":{\"outlinewidth\":0,\"ticks\":\"\"},\"colorscale\":[[0.0,\"#0d0887\"],[0.1111111111111111,\"#46039f\"],[0.2222222222222222,\"#7201a8\"],[0.3333333333333333,\"#9c179e\"],[0.4444444444444444,\"#bd3786\"],[0.5555555555555556,\"#d8576b\"],[0.6666666666666666,\"#ed7953\"],[0.7777777777777778,\"#fb9f3a\"],[0.8888888888888888,\"#fdca26\"],[1.0,\"#f0f921\"]]}],\"choropleth\":[{\"type\":\"choropleth\",\"colorbar\":{\"outlinewidth\":0,\"ticks\":\"\"}}],\"histogram2d\":[{\"type\":\"histogram2d\",\"colorbar\":{\"outlinewidth\":0,\"ticks\":\"\"},\"colorscale\":[[0.0,\"#0d0887\"],[0.1111111111111111,\"#46039f\"],[0.2222222222222222,\"#7201a8\"],[0.3333333333333333,\"#9c179e\"],[0.4444444444444444,\"#bd3786\"],[0.5555555555555556,\"#d8576b\"],[0.6666666666666666,\"#ed7953\"],[0.7777777777777778,\"#fb9f3a\"],[0.8888888888888888,\"#fdca26\"],[1.0,\"#f0f921\"]]}],\"heatmap\":[{\"type\":\"heatmap\",\"colorbar\":{\"outlinewidth\":0,\"ticks\":\"\"},\"colorscale\":[[0.0,\"#0d0887\"],[0.1111111111111111,\"#46039f\"],[0.2222222222222222,\"#7201a8\"],[0.3333333333333333,\"#9c179e\"],[0.4444444444444444,\"#bd3786\"],[0.5555555555555556,\"#d8576b\"],[0.6666666666666666,\"#ed7953\"],[0.7777777777777778,\"#fb9f3a\"],[0.8888888888888888,\"#fdca26\"],[1.0,\"#f0f921\"]]}],\"heatmapgl\":[{\"type\":\"heatmapgl\",\"colorbar\":{\"outlinewidth\":0,\"ticks\":\"\"},\"colorscale\":[[0.0,\"#0d0887\"],[0.1111111111111111,\"#46039f\"],[0.2222222222222222,\"#7201a8\"],[0.3333333333333333,\"#9c179e\"],[0.4444444444444444,\"#bd3786\"],[0.5555555555555556,\"#d8576b\"],[0.6666666666666666,\"#ed7953\"],[0.7777777777777778,\"#fb9f3a\"],[0.8888888888888888,\"#fdca26\"],[1.0,\"#f0f921\"]]}],\"contourcarpet\":[{\"type\":\"contourcarpet\",\"colorbar\":{\"outlinewidth\":0,\"ticks\":\"\"}}],\"contour\":[{\"type\":\"contour\",\"colorbar\":{\"outlinewidth\":0,\"ticks\":\"\"},\"colorscale\":[[0.0,\"#0d0887\"],[0.1111111111111111,\"#46039f\"],[0.2222222222222222,\"#7201a8\"],[0.3333333333333333,\"#9c179e\"],[0.4444444444444444,\"#bd3786\"],[0.5555555555555556,\"#d8576b\"],[0.6666666666666666,\"#ed7953\"],[0.7777777777777778,\"#fb9f3a\"],[0.8888888888888888,\"#fdca26\"],[1.0,\"#f0f921\"]]}],\"surface\":[{\"type\":\"surface\",\"colorbar\":{\"outlinewidth\":0,\"ticks\":\"\"},\"colorscale\":[[0.0,\"#0d0887\"],[0.1111111111111111,\"#46039f\"],[0.2222222222222222,\"#7201a8\"],[0.3333333333333333,\"#9c179e\"],[0.4444444444444444,\"#bd3786\"],[0.5555555555555556,\"#d8576b\"],[0.6666666666666666,\"#ed7953\"],[0.7777777777777778,\"#fb9f3a\"],[0.8888888888888888,\"#fdca26\"],[1.0,\"#f0f921\"]]}],\"mesh3d\":[{\"type\":\"mesh3d\",\"colorbar\":{\"outlinewidth\":0,\"ticks\":\"\"}}],\"scatter\":[{\"fillpattern\":{\"fillmode\":\"overlay\",\"size\":10,\"solidity\":0.2},\"type\":\"scatter\"}],\"parcoords\":[{\"type\":\"parcoords\",\"line\":{\"colorbar\":{\"outlinewidth\":0,\"ticks\":\"\"}}}],\"scatterpolargl\":[{\"type\":\"scatterpolargl\",\"marker\":{\"colorbar\":{\"outlinewidth\":0,\"ticks\":\"\"}}}],\"bar\":[{\"error_x\":{\"color\":\"#2a3f5f\"},\"error_y\":{\"color\":\"#2a3f5f\"},\"marker\":{\"line\":{\"color\":\"#E5ECF6\",\"width\":0.5},\"pattern\":{\"fillmode\":\"overlay\",\"size\":10,\"solidity\":0.2}},\"type\":\"bar\"}],\"scattergeo\":[{\"type\":\"scattergeo\",\"marker\":{\"colorbar\":{\"outlinewidth\":0,\"ticks\":\"\"}}}],\"scatterpolar\":[{\"type\":\"scatterpolar\",\"marker\":{\"colorbar\":{\"outlinewidth\":0,\"ticks\":\"\"}}}],\"histogram\":[{\"marker\":{\"pattern\":{\"fillmode\":\"overlay\",\"size\":10,\"solidity\":0.2}},\"type\":\"histogram\"}],\"scattergl\":[{\"type\":\"scattergl\",\"marker\":{\"colorbar\":{\"outlinewidth\":0,\"ticks\":\"\"}}}],\"scatter3d\":[{\"type\":\"scatter3d\",\"line\":{\"colorbar\":{\"outlinewidth\":0,\"ticks\":\"\"}},\"marker\":{\"colorbar\":{\"outlinewidth\":0,\"ticks\":\"\"}}}],\"scattermapbox\":[{\"type\":\"scattermapbox\",\"marker\":{\"colorbar\":{\"outlinewidth\":0,\"ticks\":\"\"}}}],\"scatterternary\":[{\"type\":\"scatterternary\",\"marker\":{\"colorbar\":{\"outlinewidth\":0,\"ticks\":\"\"}}}],\"scattercarpet\":[{\"type\":\"scattercarpet\",\"marker\":{\"colorbar\":{\"outlinewidth\":0,\"ticks\":\"\"}}}],\"carpet\":[{\"aaxis\":{\"endlinecolor\":\"#2a3f5f\",\"gridcolor\":\"white\",\"linecolor\":\"white\",\"minorgridcolor\":\"white\",\"startlinecolor\":\"#2a3f5f\"},\"baxis\":{\"endlinecolor\":\"#2a3f5f\",\"gridcolor\":\"white\",\"linecolor\":\"white\",\"minorgridcolor\":\"white\",\"startlinecolor\":\"#2a3f5f\"},\"type\":\"carpet\"}],\"table\":[{\"cells\":{\"fill\":{\"color\":\"#EBF0F8\"},\"line\":{\"color\":\"white\"}},\"header\":{\"fill\":{\"color\":\"#C8D4E3\"},\"line\":{\"color\":\"white\"}},\"type\":\"table\"}],\"barpolar\":[{\"marker\":{\"line\":{\"color\":\"#E5ECF6\",\"width\":0.5},\"pattern\":{\"fillmode\":\"overlay\",\"size\":10,\"solidity\":0.2}},\"type\":\"barpolar\"}],\"pie\":[{\"automargin\":true,\"type\":\"pie\"}]},\"layout\":{\"autotypenumbers\":\"strict\",\"colorway\":[\"#636efa\",\"#EF553B\",\"#00cc96\",\"#ab63fa\",\"#FFA15A\",\"#19d3f3\",\"#FF6692\",\"#B6E880\",\"#FF97FF\",\"#FECB52\"],\"font\":{\"color\":\"#2a3f5f\"},\"hovermode\":\"closest\",\"hoverlabel\":{\"align\":\"left\"},\"paper_bgcolor\":\"white\",\"plot_bgcolor\":\"#E5ECF6\",\"polar\":{\"bgcolor\":\"#E5ECF6\",\"angularaxis\":{\"gridcolor\":\"white\",\"linecolor\":\"white\",\"ticks\":\"\"},\"radialaxis\":{\"gridcolor\":\"white\",\"linecolor\":\"white\",\"ticks\":\"\"}},\"ternary\":{\"bgcolor\":\"#E5ECF6\",\"aaxis\":{\"gridcolor\":\"white\",\"linecolor\":\"white\",\"ticks\":\"\"},\"baxis\":{\"gridcolor\":\"white\",\"linecolor\":\"white\",\"ticks\":\"\"},\"caxis\":{\"gridcolor\":\"white\",\"linecolor\":\"white\",\"ticks\":\"\"}},\"coloraxis\":{\"colorbar\":{\"outlinewidth\":0,\"ticks\":\"\"}},\"colorscale\":{\"sequential\":[[0.0,\"#0d0887\"],[0.1111111111111111,\"#46039f\"],[0.2222222222222222,\"#7201a8\"],[0.3333333333333333,\"#9c179e\"],[0.4444444444444444,\"#bd3786\"],[0.5555555555555556,\"#d8576b\"],[0.6666666666666666,\"#ed7953\"],[0.7777777777777778,\"#fb9f3a\"],[0.8888888888888888,\"#fdca26\"],[1.0,\"#f0f921\"]],\"sequentialminus\":[[0.0,\"#0d0887\"],[0.1111111111111111,\"#46039f\"],[0.2222222222222222,\"#7201a8\"],[0.3333333333333333,\"#9c179e\"],[0.4444444444444444,\"#bd3786\"],[0.5555555555555556,\"#d8576b\"],[0.6666666666666666,\"#ed7953\"],[0.7777777777777778,\"#fb9f3a\"],[0.8888888888888888,\"#fdca26\"],[1.0,\"#f0f921\"]],\"diverging\":[[0,\"#8e0152\"],[0.1,\"#c51b7d\"],[0.2,\"#de77ae\"],[0.3,\"#f1b6da\"],[0.4,\"#fde0ef\"],[0.5,\"#f7f7f7\"],[0.6,\"#e6f5d0\"],[0.7,\"#b8e186\"],[0.8,\"#7fbc41\"],[0.9,\"#4d9221\"],[1,\"#276419\"]]},\"xaxis\":{\"gridcolor\":\"white\",\"linecolor\":\"white\",\"ticks\":\"\",\"title\":{\"standoff\":15},\"zerolinecolor\":\"white\",\"automargin\":true,\"zerolinewidth\":2},\"yaxis\":{\"gridcolor\":\"white\",\"linecolor\":\"white\",\"ticks\":\"\",\"title\":{\"standoff\":15},\"zerolinecolor\":\"white\",\"automargin\":true,\"zerolinewidth\":2},\"scene\":{\"xaxis\":{\"backgroundcolor\":\"#E5ECF6\",\"gridcolor\":\"white\",\"linecolor\":\"white\",\"showbackground\":true,\"ticks\":\"\",\"zerolinecolor\":\"white\",\"gridwidth\":2},\"yaxis\":{\"backgroundcolor\":\"#E5ECF6\",\"gridcolor\":\"white\",\"linecolor\":\"white\",\"showbackground\":true,\"ticks\":\"\",\"zerolinecolor\":\"white\",\"gridwidth\":2},\"zaxis\":{\"backgroundcolor\":\"#E5ECF6\",\"gridcolor\":\"white\",\"linecolor\":\"white\",\"showbackground\":true,\"ticks\":\"\",\"zerolinecolor\":\"white\",\"gridwidth\":2}},\"shapedefaults\":{\"line\":{\"color\":\"#2a3f5f\"}},\"annotationdefaults\":{\"arrowcolor\":\"#2a3f5f\",\"arrowhead\":0,\"arrowwidth\":1},\"geo\":{\"bgcolor\":\"white\",\"landcolor\":\"#E5ECF6\",\"subunitcolor\":\"white\",\"showland\":true,\"showlakes\":true,\"lakecolor\":\"white\"},\"title\":{\"x\":0.05},\"mapbox\":{\"style\":\"light\"}}},\"legend\":{\"tracegroupgap\":0},\"title\":{\"text\":\"Climate Related Amount by Sector\"},\"margin\":{\"t\":30,\"l\":0,\"r\":0,\"b\":0}},                        {\"responsive\": true}                    ).then(function(){\n",
       "                            \n",
       "var gd = document.getElementById('c7caccf8-fca9-41ad-98a9-2a764e447328');\n",
       "var x = new MutationObserver(function (mutations, observer) {{\n",
       "        var display = window.getComputedStyle(gd).display;\n",
       "        if (!display || display === 'none') {{\n",
       "            console.log([gd, 'removed!']);\n",
       "            Plotly.purge(gd);\n",
       "            observer.disconnect();\n",
       "        }}\n",
       "}});\n",
       "\n",
       "// Listen for the removal of the full notebook cells\n",
       "var notebookContainer = gd.closest('#notebook-container');\n",
       "if (notebookContainer) {{\n",
       "    x.observe(notebookContainer, {childList: true});\n",
       "}}\n",
       "\n",
       "// Listen for the clearing of the current output cell\n",
       "var outputEl = gd.closest('.output');\n",
       "if (outputEl) {{\n",
       "    x.observe(outputEl, {childList: true});\n",
       "}}\n",
       "\n",
       "                        })                };                });            </script>        </div>"
      ]
     },
     "metadata": {},
     "output_type": "display_data"
    }
   ],
   "source": [
    "clim_rel_fig = px.sunburst(filtered_year_df, path=['Sector'], values=f'clim_rel_amount_{year}', title='Climate Related Amount by Sector')\n",
    "\n",
    "layout_update = {\n",
    "    'margin': dict(t=30, l=0, r=0, b=0)  # Adjust top, left, right, bottom margins as needed\n",
    "}\n",
    "\n",
    "clim_rel_fig.update_layout(**layout_update)\n",
    "\n",
    "\n",
    "clim_rel_fig.show()\n"
   ]
  },
  {
   "cell_type": "code",
   "execution_count": 213,
   "id": "ccbc2e4b",
   "metadata": {},
   "outputs": [
    {
     "data": {
      "application/vnd.plotly.v1+json": {
       "config": {
        "plotlyServerURL": "https://plot.ly"
       },
       "data": [
        {
         "branchvalues": "total",
         "domain": {
          "x": [
           0,
           1
          ],
          "y": [
           0,
           1
          ]
         },
         "hovertemplate": "labels=%{label}<br>non_clim_2013=%{value}<br>parent=%{parent}<br>id=%{id}<extra></extra>",
         "ids": [
          "I.1.a. Education, Level Unspecified",
          "I.1.b. Basic Education",
          "I.1.c. Secondary Education",
          "I.1.d. Post-Secondary Education",
          "I.2.a. Health, General",
          "I.2.b. Basic Health",
          "I.2.c. Non-communicable diseases (NCDs)",
          "I.3. Population Policies/Programmes & Reproductive Health",
          "I.4. Water Supply & Sanitation",
          "I.5.a. Government & Civil Society-general",
          "I.5.b. Conflict, Peace & Security",
          "I.6. Other Social Infrastructure & Services",
          "II.1. Transport & Storage",
          "II.2. Communications",
          "II.3.a. Energy Policy",
          "II.3.b. Energy generation, renewable sources",
          "II.3.c. Energy generation, non-renewable sources",
          "II.3.d. Hybrid energy plants",
          "II.3.f. Energy distribution",
          "II.4. Banking & Financial Services",
          "II.5. Business & Other Services",
          "III.1.a. Agriculture",
          "III.1.b. Forestry",
          "III.1.c. Fishing",
          "III.2.a. Industry",
          "III.2.b. Mineral Resources & Mining",
          "III.2.c. Construction",
          "III.3.a. Trade Policies & Regulations",
          "III.3.b. Tourism",
          "IV.1. General Environment Protection",
          "IV.2. Other Multisector",
          "IX. Unallocated / Unspecified",
          "VI.1. General Budget Support",
          "VI.2. Development Food Assistance",
          "VII. Action Relating to Debt",
          "VIII.1. Emergency Response",
          "VIII.2. Reconstruction Relief & Rehabilitation",
          "VIII.3. Disaster Prevention & Preparedness"
         ],
         "labels": [
          "I.1.a. Education, Level Unspecified",
          "I.1.b. Basic Education",
          "I.1.c. Secondary Education",
          "I.1.d. Post-Secondary Education",
          "I.2.a. Health, General",
          "I.2.b. Basic Health",
          "I.2.c. Non-communicable diseases (NCDs)",
          "I.3. Population Policies/Programmes & Reproductive Health",
          "I.4. Water Supply & Sanitation",
          "I.5.a. Government & Civil Society-general",
          "I.5.b. Conflict, Peace & Security",
          "I.6. Other Social Infrastructure & Services",
          "II.1. Transport & Storage",
          "II.2. Communications",
          "II.3.a. Energy Policy",
          "II.3.b. Energy generation, renewable sources",
          "II.3.c. Energy generation, non-renewable sources",
          "II.3.d. Hybrid energy plants",
          "II.3.f. Energy distribution",
          "II.4. Banking & Financial Services",
          "II.5. Business & Other Services",
          "III.1.a. Agriculture",
          "III.1.b. Forestry",
          "III.1.c. Fishing",
          "III.2.a. Industry",
          "III.2.b. Mineral Resources & Mining",
          "III.2.c. Construction",
          "III.3.a. Trade Policies & Regulations",
          "III.3.b. Tourism",
          "IV.1. General Environment Protection",
          "IV.2. Other Multisector",
          "IX. Unallocated / Unspecified",
          "VI.1. General Budget Support",
          "VI.2. Development Food Assistance",
          "VII. Action Relating to Debt",
          "VIII.1. Emergency Response",
          "VIII.2. Reconstruction Relief & Rehabilitation",
          "VIII.3. Disaster Prevention & Preparedness"
         ],
         "name": "",
         "parents": [
          "",
          "",
          "",
          "",
          "",
          "",
          "",
          "",
          "",
          "",
          "",
          "",
          "",
          "",
          "",
          "",
          "",
          "",
          "",
          "",
          "",
          "",
          "",
          "",
          "",
          "",
          "",
          "",
          "",
          "",
          "",
          "",
          "",
          "",
          "",
          "",
          "",
          ""
         ],
         "type": "sunburst",
         "values": [
          80.964237,
          153.7451265,
          106.1091845,
          94.5701015,
          95.7408235,
          157.3408545,
          0,
          153.9768035,
          238.942447,
          734.4406710000001,
          131.834365,
          85.947635,
          37.9987165,
          4.195314,
          16.2426155,
          12.9801535,
          0.3817225000000004,
          0,
          27.769301,
          191.3774045,
          210.5727545,
          103.481246,
          6.7917170000000056,
          2.341897,
          26.0140135,
          12.148223,
          0.81783,
          30.985515500000005,
          3.561647,
          52.88984350000001,
          492.14562300000006,
          83.819689,
          34.0154155,
          49.4990115,
          549.4739390000001,
          89.53702750000001,
          36.465671,
          14.550636499999998
         ]
        }
       ],
       "layout": {
        "legend": {
         "tracegroupgap": 0
        },
        "template": {
         "data": {
          "bar": [
           {
            "error_x": {
             "color": "#2a3f5f"
            },
            "error_y": {
             "color": "#2a3f5f"
            },
            "marker": {
             "line": {
              "color": "#E5ECF6",
              "width": 0.5
             },
             "pattern": {
              "fillmode": "overlay",
              "size": 10,
              "solidity": 0.2
             }
            },
            "type": "bar"
           }
          ],
          "barpolar": [
           {
            "marker": {
             "line": {
              "color": "#E5ECF6",
              "width": 0.5
             },
             "pattern": {
              "fillmode": "overlay",
              "size": 10,
              "solidity": 0.2
             }
            },
            "type": "barpolar"
           }
          ],
          "carpet": [
           {
            "aaxis": {
             "endlinecolor": "#2a3f5f",
             "gridcolor": "white",
             "linecolor": "white",
             "minorgridcolor": "white",
             "startlinecolor": "#2a3f5f"
            },
            "baxis": {
             "endlinecolor": "#2a3f5f",
             "gridcolor": "white",
             "linecolor": "white",
             "minorgridcolor": "white",
             "startlinecolor": "#2a3f5f"
            },
            "type": "carpet"
           }
          ],
          "choropleth": [
           {
            "colorbar": {
             "outlinewidth": 0,
             "ticks": ""
            },
            "type": "choropleth"
           }
          ],
          "contour": [
           {
            "colorbar": {
             "outlinewidth": 0,
             "ticks": ""
            },
            "colorscale": [
             [
              0,
              "#0d0887"
             ],
             [
              0.1111111111111111,
              "#46039f"
             ],
             [
              0.2222222222222222,
              "#7201a8"
             ],
             [
              0.3333333333333333,
              "#9c179e"
             ],
             [
              0.4444444444444444,
              "#bd3786"
             ],
             [
              0.5555555555555556,
              "#d8576b"
             ],
             [
              0.6666666666666666,
              "#ed7953"
             ],
             [
              0.7777777777777778,
              "#fb9f3a"
             ],
             [
              0.8888888888888888,
              "#fdca26"
             ],
             [
              1,
              "#f0f921"
             ]
            ],
            "type": "contour"
           }
          ],
          "contourcarpet": [
           {
            "colorbar": {
             "outlinewidth": 0,
             "ticks": ""
            },
            "type": "contourcarpet"
           }
          ],
          "heatmap": [
           {
            "colorbar": {
             "outlinewidth": 0,
             "ticks": ""
            },
            "colorscale": [
             [
              0,
              "#0d0887"
             ],
             [
              0.1111111111111111,
              "#46039f"
             ],
             [
              0.2222222222222222,
              "#7201a8"
             ],
             [
              0.3333333333333333,
              "#9c179e"
             ],
             [
              0.4444444444444444,
              "#bd3786"
             ],
             [
              0.5555555555555556,
              "#d8576b"
             ],
             [
              0.6666666666666666,
              "#ed7953"
             ],
             [
              0.7777777777777778,
              "#fb9f3a"
             ],
             [
              0.8888888888888888,
              "#fdca26"
             ],
             [
              1,
              "#f0f921"
             ]
            ],
            "type": "heatmap"
           }
          ],
          "heatmapgl": [
           {
            "colorbar": {
             "outlinewidth": 0,
             "ticks": ""
            },
            "colorscale": [
             [
              0,
              "#0d0887"
             ],
             [
              0.1111111111111111,
              "#46039f"
             ],
             [
              0.2222222222222222,
              "#7201a8"
             ],
             [
              0.3333333333333333,
              "#9c179e"
             ],
             [
              0.4444444444444444,
              "#bd3786"
             ],
             [
              0.5555555555555556,
              "#d8576b"
             ],
             [
              0.6666666666666666,
              "#ed7953"
             ],
             [
              0.7777777777777778,
              "#fb9f3a"
             ],
             [
              0.8888888888888888,
              "#fdca26"
             ],
             [
              1,
              "#f0f921"
             ]
            ],
            "type": "heatmapgl"
           }
          ],
          "histogram": [
           {
            "marker": {
             "pattern": {
              "fillmode": "overlay",
              "size": 10,
              "solidity": 0.2
             }
            },
            "type": "histogram"
           }
          ],
          "histogram2d": [
           {
            "colorbar": {
             "outlinewidth": 0,
             "ticks": ""
            },
            "colorscale": [
             [
              0,
              "#0d0887"
             ],
             [
              0.1111111111111111,
              "#46039f"
             ],
             [
              0.2222222222222222,
              "#7201a8"
             ],
             [
              0.3333333333333333,
              "#9c179e"
             ],
             [
              0.4444444444444444,
              "#bd3786"
             ],
             [
              0.5555555555555556,
              "#d8576b"
             ],
             [
              0.6666666666666666,
              "#ed7953"
             ],
             [
              0.7777777777777778,
              "#fb9f3a"
             ],
             [
              0.8888888888888888,
              "#fdca26"
             ],
             [
              1,
              "#f0f921"
             ]
            ],
            "type": "histogram2d"
           }
          ],
          "histogram2dcontour": [
           {
            "colorbar": {
             "outlinewidth": 0,
             "ticks": ""
            },
            "colorscale": [
             [
              0,
              "#0d0887"
             ],
             [
              0.1111111111111111,
              "#46039f"
             ],
             [
              0.2222222222222222,
              "#7201a8"
             ],
             [
              0.3333333333333333,
              "#9c179e"
             ],
             [
              0.4444444444444444,
              "#bd3786"
             ],
             [
              0.5555555555555556,
              "#d8576b"
             ],
             [
              0.6666666666666666,
              "#ed7953"
             ],
             [
              0.7777777777777778,
              "#fb9f3a"
             ],
             [
              0.8888888888888888,
              "#fdca26"
             ],
             [
              1,
              "#f0f921"
             ]
            ],
            "type": "histogram2dcontour"
           }
          ],
          "mesh3d": [
           {
            "colorbar": {
             "outlinewidth": 0,
             "ticks": ""
            },
            "type": "mesh3d"
           }
          ],
          "parcoords": [
           {
            "line": {
             "colorbar": {
              "outlinewidth": 0,
              "ticks": ""
             }
            },
            "type": "parcoords"
           }
          ],
          "pie": [
           {
            "automargin": true,
            "type": "pie"
           }
          ],
          "scatter": [
           {
            "fillpattern": {
             "fillmode": "overlay",
             "size": 10,
             "solidity": 0.2
            },
            "type": "scatter"
           }
          ],
          "scatter3d": [
           {
            "line": {
             "colorbar": {
              "outlinewidth": 0,
              "ticks": ""
             }
            },
            "marker": {
             "colorbar": {
              "outlinewidth": 0,
              "ticks": ""
             }
            },
            "type": "scatter3d"
           }
          ],
          "scattercarpet": [
           {
            "marker": {
             "colorbar": {
              "outlinewidth": 0,
              "ticks": ""
             }
            },
            "type": "scattercarpet"
           }
          ],
          "scattergeo": [
           {
            "marker": {
             "colorbar": {
              "outlinewidth": 0,
              "ticks": ""
             }
            },
            "type": "scattergeo"
           }
          ],
          "scattergl": [
           {
            "marker": {
             "colorbar": {
              "outlinewidth": 0,
              "ticks": ""
             }
            },
            "type": "scattergl"
           }
          ],
          "scattermapbox": [
           {
            "marker": {
             "colorbar": {
              "outlinewidth": 0,
              "ticks": ""
             }
            },
            "type": "scattermapbox"
           }
          ],
          "scatterpolar": [
           {
            "marker": {
             "colorbar": {
              "outlinewidth": 0,
              "ticks": ""
             }
            },
            "type": "scatterpolar"
           }
          ],
          "scatterpolargl": [
           {
            "marker": {
             "colorbar": {
              "outlinewidth": 0,
              "ticks": ""
             }
            },
            "type": "scatterpolargl"
           }
          ],
          "scatterternary": [
           {
            "marker": {
             "colorbar": {
              "outlinewidth": 0,
              "ticks": ""
             }
            },
            "type": "scatterternary"
           }
          ],
          "surface": [
           {
            "colorbar": {
             "outlinewidth": 0,
             "ticks": ""
            },
            "colorscale": [
             [
              0,
              "#0d0887"
             ],
             [
              0.1111111111111111,
              "#46039f"
             ],
             [
              0.2222222222222222,
              "#7201a8"
             ],
             [
              0.3333333333333333,
              "#9c179e"
             ],
             [
              0.4444444444444444,
              "#bd3786"
             ],
             [
              0.5555555555555556,
              "#d8576b"
             ],
             [
              0.6666666666666666,
              "#ed7953"
             ],
             [
              0.7777777777777778,
              "#fb9f3a"
             ],
             [
              0.8888888888888888,
              "#fdca26"
             ],
             [
              1,
              "#f0f921"
             ]
            ],
            "type": "surface"
           }
          ],
          "table": [
           {
            "cells": {
             "fill": {
              "color": "#EBF0F8"
             },
             "line": {
              "color": "white"
             }
            },
            "header": {
             "fill": {
              "color": "#C8D4E3"
             },
             "line": {
              "color": "white"
             }
            },
            "type": "table"
           }
          ]
         },
         "layout": {
          "annotationdefaults": {
           "arrowcolor": "#2a3f5f",
           "arrowhead": 0,
           "arrowwidth": 1
          },
          "autotypenumbers": "strict",
          "coloraxis": {
           "colorbar": {
            "outlinewidth": 0,
            "ticks": ""
           }
          },
          "colorscale": {
           "diverging": [
            [
             0,
             "#8e0152"
            ],
            [
             0.1,
             "#c51b7d"
            ],
            [
             0.2,
             "#de77ae"
            ],
            [
             0.3,
             "#f1b6da"
            ],
            [
             0.4,
             "#fde0ef"
            ],
            [
             0.5,
             "#f7f7f7"
            ],
            [
             0.6,
             "#e6f5d0"
            ],
            [
             0.7,
             "#b8e186"
            ],
            [
             0.8,
             "#7fbc41"
            ],
            [
             0.9,
             "#4d9221"
            ],
            [
             1,
             "#276419"
            ]
           ],
           "sequential": [
            [
             0,
             "#0d0887"
            ],
            [
             0.1111111111111111,
             "#46039f"
            ],
            [
             0.2222222222222222,
             "#7201a8"
            ],
            [
             0.3333333333333333,
             "#9c179e"
            ],
            [
             0.4444444444444444,
             "#bd3786"
            ],
            [
             0.5555555555555556,
             "#d8576b"
            ],
            [
             0.6666666666666666,
             "#ed7953"
            ],
            [
             0.7777777777777778,
             "#fb9f3a"
            ],
            [
             0.8888888888888888,
             "#fdca26"
            ],
            [
             1,
             "#f0f921"
            ]
           ],
           "sequentialminus": [
            [
             0,
             "#0d0887"
            ],
            [
             0.1111111111111111,
             "#46039f"
            ],
            [
             0.2222222222222222,
             "#7201a8"
            ],
            [
             0.3333333333333333,
             "#9c179e"
            ],
            [
             0.4444444444444444,
             "#bd3786"
            ],
            [
             0.5555555555555556,
             "#d8576b"
            ],
            [
             0.6666666666666666,
             "#ed7953"
            ],
            [
             0.7777777777777778,
             "#fb9f3a"
            ],
            [
             0.8888888888888888,
             "#fdca26"
            ],
            [
             1,
             "#f0f921"
            ]
           ]
          },
          "colorway": [
           "#636efa",
           "#EF553B",
           "#00cc96",
           "#ab63fa",
           "#FFA15A",
           "#19d3f3",
           "#FF6692",
           "#B6E880",
           "#FF97FF",
           "#FECB52"
          ],
          "font": {
           "color": "#2a3f5f"
          },
          "geo": {
           "bgcolor": "white",
           "lakecolor": "white",
           "landcolor": "#E5ECF6",
           "showlakes": true,
           "showland": true,
           "subunitcolor": "white"
          },
          "hoverlabel": {
           "align": "left"
          },
          "hovermode": "closest",
          "mapbox": {
           "style": "light"
          },
          "paper_bgcolor": "white",
          "plot_bgcolor": "#E5ECF6",
          "polar": {
           "angularaxis": {
            "gridcolor": "white",
            "linecolor": "white",
            "ticks": ""
           },
           "bgcolor": "#E5ECF6",
           "radialaxis": {
            "gridcolor": "white",
            "linecolor": "white",
            "ticks": ""
           }
          },
          "scene": {
           "xaxis": {
            "backgroundcolor": "#E5ECF6",
            "gridcolor": "white",
            "gridwidth": 2,
            "linecolor": "white",
            "showbackground": true,
            "ticks": "",
            "zerolinecolor": "white"
           },
           "yaxis": {
            "backgroundcolor": "#E5ECF6",
            "gridcolor": "white",
            "gridwidth": 2,
            "linecolor": "white",
            "showbackground": true,
            "ticks": "",
            "zerolinecolor": "white"
           },
           "zaxis": {
            "backgroundcolor": "#E5ECF6",
            "gridcolor": "white",
            "gridwidth": 2,
            "linecolor": "white",
            "showbackground": true,
            "ticks": "",
            "zerolinecolor": "white"
           }
          },
          "shapedefaults": {
           "line": {
            "color": "#2a3f5f"
           }
          },
          "ternary": {
           "aaxis": {
            "gridcolor": "white",
            "linecolor": "white",
            "ticks": ""
           },
           "baxis": {
            "gridcolor": "white",
            "linecolor": "white",
            "ticks": ""
           },
           "bgcolor": "#E5ECF6",
           "caxis": {
            "gridcolor": "white",
            "linecolor": "white",
            "ticks": ""
           }
          },
          "title": {
           "x": 0.05
          },
          "xaxis": {
           "automargin": true,
           "gridcolor": "white",
           "linecolor": "white",
           "ticks": "",
           "title": {
            "standoff": 15
           },
           "zerolinecolor": "white",
           "zerolinewidth": 2
          },
          "yaxis": {
           "automargin": true,
           "gridcolor": "white",
           "linecolor": "white",
           "ticks": "",
           "title": {
            "standoff": 15
           },
           "zerolinecolor": "white",
           "zerolinewidth": 2
          }
         }
        },
        "title": {
         "text": "Non Climate Related Amount by Sector"
        }
       }
      },
      "text/html": [
       "<div>                            <div id=\"e80909a7-60f6-4d00-9bd4-a002083554b7\" class=\"plotly-graph-div\" style=\"height:525px; width:100%;\"></div>            <script type=\"text/javascript\">                require([\"plotly\"], function(Plotly) {                    window.PLOTLYENV=window.PLOTLYENV || {};                                    if (document.getElementById(\"e80909a7-60f6-4d00-9bd4-a002083554b7\")) {                    Plotly.newPlot(                        \"e80909a7-60f6-4d00-9bd4-a002083554b7\",                        [{\"branchvalues\":\"total\",\"domain\":{\"x\":[0.0,1.0],\"y\":[0.0,1.0]},\"hovertemplate\":\"labels=%{label}\\u003cbr\\u003enon_clim_2013=%{value}\\u003cbr\\u003eparent=%{parent}\\u003cbr\\u003eid=%{id}\\u003cextra\\u003e\\u003c\\u002fextra\\u003e\",\"ids\":[\"I.1.a. Education, Level Unspecified\",\"I.1.b. Basic Education\",\"I.1.c. Secondary Education\",\"I.1.d. Post-Secondary Education\",\"I.2.a. Health, General\",\"I.2.b. Basic Health\",\"I.2.c. Non-communicable diseases (NCDs)\",\"I.3. Population Policies\\u002fProgrammes & Reproductive Health\",\"I.4. Water Supply & Sanitation\",\"I.5.a. Government & Civil Society-general\",\"I.5.b. Conflict, Peace & Security\",\"I.6. Other Social Infrastructure & Services\",\"II.1. Transport & Storage\",\"II.2. Communications\",\"II.3.a. Energy Policy\",\"II.3.b. Energy generation, renewable sources\",\"II.3.c. Energy generation, non-renewable sources\",\"II.3.d. Hybrid energy plants\",\"II.3.f. Energy distribution\",\"II.4. Banking & Financial Services\",\"II.5. Business & Other Services\",\"III.1.a. Agriculture\",\"III.1.b. Forestry\",\"III.1.c. Fishing\",\"III.2.a. Industry\",\"III.2.b. Mineral Resources & Mining\",\"III.2.c. Construction\",\"III.3.a. Trade Policies & Regulations\",\"III.3.b. Tourism\",\"IV.1. General Environment Protection\",\"IV.2. Other Multisector\",\"IX. Unallocated \\u002f Unspecified\",\"VI.1. General Budget Support\",\"VI.2. Development Food Assistance\",\"VII. Action Relating to Debt\",\"VIII.1. Emergency Response\",\"VIII.2. Reconstruction Relief & Rehabilitation\",\"VIII.3. Disaster Prevention & Preparedness\"],\"labels\":[\"I.1.a. Education, Level Unspecified\",\"I.1.b. Basic Education\",\"I.1.c. Secondary Education\",\"I.1.d. Post-Secondary Education\",\"I.2.a. Health, General\",\"I.2.b. Basic Health\",\"I.2.c. Non-communicable diseases (NCDs)\",\"I.3. Population Policies\\u002fProgrammes & Reproductive Health\",\"I.4. Water Supply & Sanitation\",\"I.5.a. Government & Civil Society-general\",\"I.5.b. Conflict, Peace & Security\",\"I.6. Other Social Infrastructure & Services\",\"II.1. Transport & Storage\",\"II.2. Communications\",\"II.3.a. Energy Policy\",\"II.3.b. Energy generation, renewable sources\",\"II.3.c. Energy generation, non-renewable sources\",\"II.3.d. Hybrid energy plants\",\"II.3.f. Energy distribution\",\"II.4. Banking & Financial Services\",\"II.5. Business & Other Services\",\"III.1.a. Agriculture\",\"III.1.b. Forestry\",\"III.1.c. Fishing\",\"III.2.a. Industry\",\"III.2.b. Mineral Resources & Mining\",\"III.2.c. Construction\",\"III.3.a. Trade Policies & Regulations\",\"III.3.b. Tourism\",\"IV.1. General Environment Protection\",\"IV.2. Other Multisector\",\"IX. Unallocated \\u002f Unspecified\",\"VI.1. General Budget Support\",\"VI.2. Development Food Assistance\",\"VII. Action Relating to Debt\",\"VIII.1. Emergency Response\",\"VIII.2. Reconstruction Relief & Rehabilitation\",\"VIII.3. Disaster Prevention & Preparedness\"],\"name\":\"\",\"parents\":[\"\",\"\",\"\",\"\",\"\",\"\",\"\",\"\",\"\",\"\",\"\",\"\",\"\",\"\",\"\",\"\",\"\",\"\",\"\",\"\",\"\",\"\",\"\",\"\",\"\",\"\",\"\",\"\",\"\",\"\",\"\",\"\",\"\",\"\",\"\",\"\",\"\",\"\"],\"values\":[80.964237,153.7451265,106.1091845,94.5701015,95.7408235,157.3408545,0.0,153.9768035,238.942447,734.4406710000001,131.834365,85.947635,37.9987165,4.195314,16.2426155,12.9801535,0.3817225000000004,0.0,27.769301,191.3774045,210.5727545,103.481246,6.7917170000000056,2.341897,26.0140135,12.148223,0.81783,30.985515500000005,3.561647,52.88984350000001,492.14562300000006,83.819689,34.0154155,49.4990115,549.4739390000001,89.53702750000001,36.465671,14.550636499999998],\"type\":\"sunburst\"}],                        {\"template\":{\"data\":{\"histogram2dcontour\":[{\"type\":\"histogram2dcontour\",\"colorbar\":{\"outlinewidth\":0,\"ticks\":\"\"},\"colorscale\":[[0.0,\"#0d0887\"],[0.1111111111111111,\"#46039f\"],[0.2222222222222222,\"#7201a8\"],[0.3333333333333333,\"#9c179e\"],[0.4444444444444444,\"#bd3786\"],[0.5555555555555556,\"#d8576b\"],[0.6666666666666666,\"#ed7953\"],[0.7777777777777778,\"#fb9f3a\"],[0.8888888888888888,\"#fdca26\"],[1.0,\"#f0f921\"]]}],\"choropleth\":[{\"type\":\"choropleth\",\"colorbar\":{\"outlinewidth\":0,\"ticks\":\"\"}}],\"histogram2d\":[{\"type\":\"histogram2d\",\"colorbar\":{\"outlinewidth\":0,\"ticks\":\"\"},\"colorscale\":[[0.0,\"#0d0887\"],[0.1111111111111111,\"#46039f\"],[0.2222222222222222,\"#7201a8\"],[0.3333333333333333,\"#9c179e\"],[0.4444444444444444,\"#bd3786\"],[0.5555555555555556,\"#d8576b\"],[0.6666666666666666,\"#ed7953\"],[0.7777777777777778,\"#fb9f3a\"],[0.8888888888888888,\"#fdca26\"],[1.0,\"#f0f921\"]]}],\"heatmap\":[{\"type\":\"heatmap\",\"colorbar\":{\"outlinewidth\":0,\"ticks\":\"\"},\"colorscale\":[[0.0,\"#0d0887\"],[0.1111111111111111,\"#46039f\"],[0.2222222222222222,\"#7201a8\"],[0.3333333333333333,\"#9c179e\"],[0.4444444444444444,\"#bd3786\"],[0.5555555555555556,\"#d8576b\"],[0.6666666666666666,\"#ed7953\"],[0.7777777777777778,\"#fb9f3a\"],[0.8888888888888888,\"#fdca26\"],[1.0,\"#f0f921\"]]}],\"heatmapgl\":[{\"type\":\"heatmapgl\",\"colorbar\":{\"outlinewidth\":0,\"ticks\":\"\"},\"colorscale\":[[0.0,\"#0d0887\"],[0.1111111111111111,\"#46039f\"],[0.2222222222222222,\"#7201a8\"],[0.3333333333333333,\"#9c179e\"],[0.4444444444444444,\"#bd3786\"],[0.5555555555555556,\"#d8576b\"],[0.6666666666666666,\"#ed7953\"],[0.7777777777777778,\"#fb9f3a\"],[0.8888888888888888,\"#fdca26\"],[1.0,\"#f0f921\"]]}],\"contourcarpet\":[{\"type\":\"contourcarpet\",\"colorbar\":{\"outlinewidth\":0,\"ticks\":\"\"}}],\"contour\":[{\"type\":\"contour\",\"colorbar\":{\"outlinewidth\":0,\"ticks\":\"\"},\"colorscale\":[[0.0,\"#0d0887\"],[0.1111111111111111,\"#46039f\"],[0.2222222222222222,\"#7201a8\"],[0.3333333333333333,\"#9c179e\"],[0.4444444444444444,\"#bd3786\"],[0.5555555555555556,\"#d8576b\"],[0.6666666666666666,\"#ed7953\"],[0.7777777777777778,\"#fb9f3a\"],[0.8888888888888888,\"#fdca26\"],[1.0,\"#f0f921\"]]}],\"surface\":[{\"type\":\"surface\",\"colorbar\":{\"outlinewidth\":0,\"ticks\":\"\"},\"colorscale\":[[0.0,\"#0d0887\"],[0.1111111111111111,\"#46039f\"],[0.2222222222222222,\"#7201a8\"],[0.3333333333333333,\"#9c179e\"],[0.4444444444444444,\"#bd3786\"],[0.5555555555555556,\"#d8576b\"],[0.6666666666666666,\"#ed7953\"],[0.7777777777777778,\"#fb9f3a\"],[0.8888888888888888,\"#fdca26\"],[1.0,\"#f0f921\"]]}],\"mesh3d\":[{\"type\":\"mesh3d\",\"colorbar\":{\"outlinewidth\":0,\"ticks\":\"\"}}],\"scatter\":[{\"fillpattern\":{\"fillmode\":\"overlay\",\"size\":10,\"solidity\":0.2},\"type\":\"scatter\"}],\"parcoords\":[{\"type\":\"parcoords\",\"line\":{\"colorbar\":{\"outlinewidth\":0,\"ticks\":\"\"}}}],\"scatterpolargl\":[{\"type\":\"scatterpolargl\",\"marker\":{\"colorbar\":{\"outlinewidth\":0,\"ticks\":\"\"}}}],\"bar\":[{\"error_x\":{\"color\":\"#2a3f5f\"},\"error_y\":{\"color\":\"#2a3f5f\"},\"marker\":{\"line\":{\"color\":\"#E5ECF6\",\"width\":0.5},\"pattern\":{\"fillmode\":\"overlay\",\"size\":10,\"solidity\":0.2}},\"type\":\"bar\"}],\"scattergeo\":[{\"type\":\"scattergeo\",\"marker\":{\"colorbar\":{\"outlinewidth\":0,\"ticks\":\"\"}}}],\"scatterpolar\":[{\"type\":\"scatterpolar\",\"marker\":{\"colorbar\":{\"outlinewidth\":0,\"ticks\":\"\"}}}],\"histogram\":[{\"marker\":{\"pattern\":{\"fillmode\":\"overlay\",\"size\":10,\"solidity\":0.2}},\"type\":\"histogram\"}],\"scattergl\":[{\"type\":\"scattergl\",\"marker\":{\"colorbar\":{\"outlinewidth\":0,\"ticks\":\"\"}}}],\"scatter3d\":[{\"type\":\"scatter3d\",\"line\":{\"colorbar\":{\"outlinewidth\":0,\"ticks\":\"\"}},\"marker\":{\"colorbar\":{\"outlinewidth\":0,\"ticks\":\"\"}}}],\"scattermapbox\":[{\"type\":\"scattermapbox\",\"marker\":{\"colorbar\":{\"outlinewidth\":0,\"ticks\":\"\"}}}],\"scatterternary\":[{\"type\":\"scatterternary\",\"marker\":{\"colorbar\":{\"outlinewidth\":0,\"ticks\":\"\"}}}],\"scattercarpet\":[{\"type\":\"scattercarpet\",\"marker\":{\"colorbar\":{\"outlinewidth\":0,\"ticks\":\"\"}}}],\"carpet\":[{\"aaxis\":{\"endlinecolor\":\"#2a3f5f\",\"gridcolor\":\"white\",\"linecolor\":\"white\",\"minorgridcolor\":\"white\",\"startlinecolor\":\"#2a3f5f\"},\"baxis\":{\"endlinecolor\":\"#2a3f5f\",\"gridcolor\":\"white\",\"linecolor\":\"white\",\"minorgridcolor\":\"white\",\"startlinecolor\":\"#2a3f5f\"},\"type\":\"carpet\"}],\"table\":[{\"cells\":{\"fill\":{\"color\":\"#EBF0F8\"},\"line\":{\"color\":\"white\"}},\"header\":{\"fill\":{\"color\":\"#C8D4E3\"},\"line\":{\"color\":\"white\"}},\"type\":\"table\"}],\"barpolar\":[{\"marker\":{\"line\":{\"color\":\"#E5ECF6\",\"width\":0.5},\"pattern\":{\"fillmode\":\"overlay\",\"size\":10,\"solidity\":0.2}},\"type\":\"barpolar\"}],\"pie\":[{\"automargin\":true,\"type\":\"pie\"}]},\"layout\":{\"autotypenumbers\":\"strict\",\"colorway\":[\"#636efa\",\"#EF553B\",\"#00cc96\",\"#ab63fa\",\"#FFA15A\",\"#19d3f3\",\"#FF6692\",\"#B6E880\",\"#FF97FF\",\"#FECB52\"],\"font\":{\"color\":\"#2a3f5f\"},\"hovermode\":\"closest\",\"hoverlabel\":{\"align\":\"left\"},\"paper_bgcolor\":\"white\",\"plot_bgcolor\":\"#E5ECF6\",\"polar\":{\"bgcolor\":\"#E5ECF6\",\"angularaxis\":{\"gridcolor\":\"white\",\"linecolor\":\"white\",\"ticks\":\"\"},\"radialaxis\":{\"gridcolor\":\"white\",\"linecolor\":\"white\",\"ticks\":\"\"}},\"ternary\":{\"bgcolor\":\"#E5ECF6\",\"aaxis\":{\"gridcolor\":\"white\",\"linecolor\":\"white\",\"ticks\":\"\"},\"baxis\":{\"gridcolor\":\"white\",\"linecolor\":\"white\",\"ticks\":\"\"},\"caxis\":{\"gridcolor\":\"white\",\"linecolor\":\"white\",\"ticks\":\"\"}},\"coloraxis\":{\"colorbar\":{\"outlinewidth\":0,\"ticks\":\"\"}},\"colorscale\":{\"sequential\":[[0.0,\"#0d0887\"],[0.1111111111111111,\"#46039f\"],[0.2222222222222222,\"#7201a8\"],[0.3333333333333333,\"#9c179e\"],[0.4444444444444444,\"#bd3786\"],[0.5555555555555556,\"#d8576b\"],[0.6666666666666666,\"#ed7953\"],[0.7777777777777778,\"#fb9f3a\"],[0.8888888888888888,\"#fdca26\"],[1.0,\"#f0f921\"]],\"sequentialminus\":[[0.0,\"#0d0887\"],[0.1111111111111111,\"#46039f\"],[0.2222222222222222,\"#7201a8\"],[0.3333333333333333,\"#9c179e\"],[0.4444444444444444,\"#bd3786\"],[0.5555555555555556,\"#d8576b\"],[0.6666666666666666,\"#ed7953\"],[0.7777777777777778,\"#fb9f3a\"],[0.8888888888888888,\"#fdca26\"],[1.0,\"#f0f921\"]],\"diverging\":[[0,\"#8e0152\"],[0.1,\"#c51b7d\"],[0.2,\"#de77ae\"],[0.3,\"#f1b6da\"],[0.4,\"#fde0ef\"],[0.5,\"#f7f7f7\"],[0.6,\"#e6f5d0\"],[0.7,\"#b8e186\"],[0.8,\"#7fbc41\"],[0.9,\"#4d9221\"],[1,\"#276419\"]]},\"xaxis\":{\"gridcolor\":\"white\",\"linecolor\":\"white\",\"ticks\":\"\",\"title\":{\"standoff\":15},\"zerolinecolor\":\"white\",\"automargin\":true,\"zerolinewidth\":2},\"yaxis\":{\"gridcolor\":\"white\",\"linecolor\":\"white\",\"ticks\":\"\",\"title\":{\"standoff\":15},\"zerolinecolor\":\"white\",\"automargin\":true,\"zerolinewidth\":2},\"scene\":{\"xaxis\":{\"backgroundcolor\":\"#E5ECF6\",\"gridcolor\":\"white\",\"linecolor\":\"white\",\"showbackground\":true,\"ticks\":\"\",\"zerolinecolor\":\"white\",\"gridwidth\":2},\"yaxis\":{\"backgroundcolor\":\"#E5ECF6\",\"gridcolor\":\"white\",\"linecolor\":\"white\",\"showbackground\":true,\"ticks\":\"\",\"zerolinecolor\":\"white\",\"gridwidth\":2},\"zaxis\":{\"backgroundcolor\":\"#E5ECF6\",\"gridcolor\":\"white\",\"linecolor\":\"white\",\"showbackground\":true,\"ticks\":\"\",\"zerolinecolor\":\"white\",\"gridwidth\":2}},\"shapedefaults\":{\"line\":{\"color\":\"#2a3f5f\"}},\"annotationdefaults\":{\"arrowcolor\":\"#2a3f5f\",\"arrowhead\":0,\"arrowwidth\":1},\"geo\":{\"bgcolor\":\"white\",\"landcolor\":\"#E5ECF6\",\"subunitcolor\":\"white\",\"showland\":true,\"showlakes\":true,\"lakecolor\":\"white\"},\"title\":{\"x\":0.05},\"mapbox\":{\"style\":\"light\"}}},\"legend\":{\"tracegroupgap\":0},\"title\":{\"text\":\"Non Climate Related Amount by Sector\"}},                        {\"responsive\": true}                    ).then(function(){\n",
       "                            \n",
       "var gd = document.getElementById('e80909a7-60f6-4d00-9bd4-a002083554b7');\n",
       "var x = new MutationObserver(function (mutations, observer) {{\n",
       "        var display = window.getComputedStyle(gd).display;\n",
       "        if (!display || display === 'none') {{\n",
       "            console.log([gd, 'removed!']);\n",
       "            Plotly.purge(gd);\n",
       "            observer.disconnect();\n",
       "        }}\n",
       "}});\n",
       "\n",
       "// Listen for the removal of the full notebook cells\n",
       "var notebookContainer = gd.closest('#notebook-container');\n",
       "if (notebookContainer) {{\n",
       "    x.observe(notebookContainer, {childList: true});\n",
       "}}\n",
       "\n",
       "// Listen for the clearing of the current output cell\n",
       "var outputEl = gd.closest('.output');\n",
       "if (outputEl) {{\n",
       "    x.observe(outputEl, {childList: true});\n",
       "}}\n",
       "\n",
       "                        })                };                });            </script>        </div>"
      ]
     },
     "metadata": {},
     "output_type": "display_data"
    }
   ],
   "source": [
    "non_clim_fig = px.sunburst(filtered_year_df, path=['Sector'], values=f'non_clim_{year}', title='Non Climate Related Amount by Sector')\n",
    "non_clim_fig.show()\n"
   ]
  },
  {
   "cell_type": "code",
   "execution_count": 214,
   "id": "c1a2ca7b",
   "metadata": {},
   "outputs": [
    {
     "data": {
      "application/vnd.plotly.v1+json": {
       "config": {
        "plotlyServerURL": "https://plot.ly"
       },
       "data": [
        {
         "branchvalues": "total",
         "domain": {
          "x": [
           0,
           1
          ],
          "y": [
           0,
           1
          ]
         },
         "hovertemplate": "labels=%{label}<br>clim_adapt_amount_2013=%{value}<br>parent=%{parent}<br>id=%{id}<extra></extra>",
         "ids": [
          "I.1.a. Education, Level Unspecified",
          "I.1.b. Basic Education",
          "I.1.c. Secondary Education",
          "I.1.d. Post-Secondary Education",
          "I.2.a. Health, General",
          "I.2.b. Basic Health",
          "I.2.c. Non-communicable diseases (NCDs)",
          "I.3. Population Policies/Programmes & Reproductive Health",
          "I.4. Water Supply & Sanitation",
          "I.5.a. Government & Civil Society-general",
          "I.5.b. Conflict, Peace & Security",
          "I.6. Other Social Infrastructure & Services",
          "II.1. Transport & Storage",
          "II.2. Communications",
          "II.3.a. Energy Policy",
          "II.3.b. Energy generation, renewable sources",
          "II.3.c. Energy generation, non-renewable sources",
          "II.3.d. Hybrid energy plants",
          "II.3.f. Energy distribution",
          "II.4. Banking & Financial Services",
          "II.5. Business & Other Services",
          "III.1.a. Agriculture",
          "III.1.b. Forestry",
          "III.1.c. Fishing",
          "III.2.a. Industry",
          "III.2.b. Mineral Resources & Mining",
          "III.2.c. Construction",
          "III.3.a. Trade Policies & Regulations",
          "III.3.b. Tourism",
          "IV.1. General Environment Protection",
          "IV.2. Other Multisector",
          "IX. Unallocated / Unspecified",
          "VI.1. General Budget Support",
          "VI.2. Development Food Assistance",
          "VII. Action Relating to Debt",
          "VIII.1. Emergency Response",
          "VIII.2. Reconstruction Relief & Rehabilitation",
          "VIII.3. Disaster Prevention & Preparedness"
         ],
         "labels": [
          "I.1.a. Education, Level Unspecified",
          "I.1.b. Basic Education",
          "I.1.c. Secondary Education",
          "I.1.d. Post-Secondary Education",
          "I.2.a. Health, General",
          "I.2.b. Basic Health",
          "I.2.c. Non-communicable diseases (NCDs)",
          "I.3. Population Policies/Programmes & Reproductive Health",
          "I.4. Water Supply & Sanitation",
          "I.5.a. Government & Civil Society-general",
          "I.5.b. Conflict, Peace & Security",
          "I.6. Other Social Infrastructure & Services",
          "II.1. Transport & Storage",
          "II.2. Communications",
          "II.3.a. Energy Policy",
          "II.3.b. Energy generation, renewable sources",
          "II.3.c. Energy generation, non-renewable sources",
          "II.3.d. Hybrid energy plants",
          "II.3.f. Energy distribution",
          "II.4. Banking & Financial Services",
          "II.5. Business & Other Services",
          "III.1.a. Agriculture",
          "III.1.b. Forestry",
          "III.1.c. Fishing",
          "III.2.a. Industry",
          "III.2.b. Mineral Resources & Mining",
          "III.2.c. Construction",
          "III.3.a. Trade Policies & Regulations",
          "III.3.b. Tourism",
          "IV.1. General Environment Protection",
          "IV.2. Other Multisector",
          "IX. Unallocated / Unspecified",
          "VI.1. General Budget Support",
          "VI.2. Development Food Assistance",
          "VII. Action Relating to Debt",
          "VIII.1. Emergency Response",
          "VIII.2. Reconstruction Relief & Rehabilitation",
          "VIII.3. Disaster Prevention & Preparedness"
         ],
         "name": "",
         "parents": [
          "",
          "",
          "",
          "",
          "",
          "",
          "",
          "",
          "",
          "",
          "",
          "",
          "",
          "",
          "",
          "",
          "",
          "",
          "",
          "",
          "",
          "",
          "",
          "",
          "",
          "",
          "",
          "",
          "",
          "",
          "",
          "",
          "",
          "",
          "",
          "",
          "",
          ""
         ],
         "type": "sunburst",
         "values": [
          3.838428,
          0.1395905,
          3.3829130000000003,
          3.06604,
          0,
          0.2145699999999999,
          0,
          0.0104085,
          75.8016285,
          31.586324,
          0.3419594999999999,
          1.2568755,
          9.6372715,
          0,
          1.8193715,
          7.041204,
          0,
          0,
          0,
          0.6909255,
          2.474243,
          90.7644985,
          18.5549485,
          0.4438305,
          0.0275885,
          0,
          0,
          0.9948895,
          0,
          96.4184145,
          57.206913,
          0.5759795,
          4.1382785,
          5.9767095,
          0,
          2.210464,
          2.733083,
          9.433338
         ]
        }
       ],
       "layout": {
        "legend": {
         "tracegroupgap": 0
        },
        "template": {
         "data": {
          "bar": [
           {
            "error_x": {
             "color": "#2a3f5f"
            },
            "error_y": {
             "color": "#2a3f5f"
            },
            "marker": {
             "line": {
              "color": "#E5ECF6",
              "width": 0.5
             },
             "pattern": {
              "fillmode": "overlay",
              "size": 10,
              "solidity": 0.2
             }
            },
            "type": "bar"
           }
          ],
          "barpolar": [
           {
            "marker": {
             "line": {
              "color": "#E5ECF6",
              "width": 0.5
             },
             "pattern": {
              "fillmode": "overlay",
              "size": 10,
              "solidity": 0.2
             }
            },
            "type": "barpolar"
           }
          ],
          "carpet": [
           {
            "aaxis": {
             "endlinecolor": "#2a3f5f",
             "gridcolor": "white",
             "linecolor": "white",
             "minorgridcolor": "white",
             "startlinecolor": "#2a3f5f"
            },
            "baxis": {
             "endlinecolor": "#2a3f5f",
             "gridcolor": "white",
             "linecolor": "white",
             "minorgridcolor": "white",
             "startlinecolor": "#2a3f5f"
            },
            "type": "carpet"
           }
          ],
          "choropleth": [
           {
            "colorbar": {
             "outlinewidth": 0,
             "ticks": ""
            },
            "type": "choropleth"
           }
          ],
          "contour": [
           {
            "colorbar": {
             "outlinewidth": 0,
             "ticks": ""
            },
            "colorscale": [
             [
              0,
              "#0d0887"
             ],
             [
              0.1111111111111111,
              "#46039f"
             ],
             [
              0.2222222222222222,
              "#7201a8"
             ],
             [
              0.3333333333333333,
              "#9c179e"
             ],
             [
              0.4444444444444444,
              "#bd3786"
             ],
             [
              0.5555555555555556,
              "#d8576b"
             ],
             [
              0.6666666666666666,
              "#ed7953"
             ],
             [
              0.7777777777777778,
              "#fb9f3a"
             ],
             [
              0.8888888888888888,
              "#fdca26"
             ],
             [
              1,
              "#f0f921"
             ]
            ],
            "type": "contour"
           }
          ],
          "contourcarpet": [
           {
            "colorbar": {
             "outlinewidth": 0,
             "ticks": ""
            },
            "type": "contourcarpet"
           }
          ],
          "heatmap": [
           {
            "colorbar": {
             "outlinewidth": 0,
             "ticks": ""
            },
            "colorscale": [
             [
              0,
              "#0d0887"
             ],
             [
              0.1111111111111111,
              "#46039f"
             ],
             [
              0.2222222222222222,
              "#7201a8"
             ],
             [
              0.3333333333333333,
              "#9c179e"
             ],
             [
              0.4444444444444444,
              "#bd3786"
             ],
             [
              0.5555555555555556,
              "#d8576b"
             ],
             [
              0.6666666666666666,
              "#ed7953"
             ],
             [
              0.7777777777777778,
              "#fb9f3a"
             ],
             [
              0.8888888888888888,
              "#fdca26"
             ],
             [
              1,
              "#f0f921"
             ]
            ],
            "type": "heatmap"
           }
          ],
          "heatmapgl": [
           {
            "colorbar": {
             "outlinewidth": 0,
             "ticks": ""
            },
            "colorscale": [
             [
              0,
              "#0d0887"
             ],
             [
              0.1111111111111111,
              "#46039f"
             ],
             [
              0.2222222222222222,
              "#7201a8"
             ],
             [
              0.3333333333333333,
              "#9c179e"
             ],
             [
              0.4444444444444444,
              "#bd3786"
             ],
             [
              0.5555555555555556,
              "#d8576b"
             ],
             [
              0.6666666666666666,
              "#ed7953"
             ],
             [
              0.7777777777777778,
              "#fb9f3a"
             ],
             [
              0.8888888888888888,
              "#fdca26"
             ],
             [
              1,
              "#f0f921"
             ]
            ],
            "type": "heatmapgl"
           }
          ],
          "histogram": [
           {
            "marker": {
             "pattern": {
              "fillmode": "overlay",
              "size": 10,
              "solidity": 0.2
             }
            },
            "type": "histogram"
           }
          ],
          "histogram2d": [
           {
            "colorbar": {
             "outlinewidth": 0,
             "ticks": ""
            },
            "colorscale": [
             [
              0,
              "#0d0887"
             ],
             [
              0.1111111111111111,
              "#46039f"
             ],
             [
              0.2222222222222222,
              "#7201a8"
             ],
             [
              0.3333333333333333,
              "#9c179e"
             ],
             [
              0.4444444444444444,
              "#bd3786"
             ],
             [
              0.5555555555555556,
              "#d8576b"
             ],
             [
              0.6666666666666666,
              "#ed7953"
             ],
             [
              0.7777777777777778,
              "#fb9f3a"
             ],
             [
              0.8888888888888888,
              "#fdca26"
             ],
             [
              1,
              "#f0f921"
             ]
            ],
            "type": "histogram2d"
           }
          ],
          "histogram2dcontour": [
           {
            "colorbar": {
             "outlinewidth": 0,
             "ticks": ""
            },
            "colorscale": [
             [
              0,
              "#0d0887"
             ],
             [
              0.1111111111111111,
              "#46039f"
             ],
             [
              0.2222222222222222,
              "#7201a8"
             ],
             [
              0.3333333333333333,
              "#9c179e"
             ],
             [
              0.4444444444444444,
              "#bd3786"
             ],
             [
              0.5555555555555556,
              "#d8576b"
             ],
             [
              0.6666666666666666,
              "#ed7953"
             ],
             [
              0.7777777777777778,
              "#fb9f3a"
             ],
             [
              0.8888888888888888,
              "#fdca26"
             ],
             [
              1,
              "#f0f921"
             ]
            ],
            "type": "histogram2dcontour"
           }
          ],
          "mesh3d": [
           {
            "colorbar": {
             "outlinewidth": 0,
             "ticks": ""
            },
            "type": "mesh3d"
           }
          ],
          "parcoords": [
           {
            "line": {
             "colorbar": {
              "outlinewidth": 0,
              "ticks": ""
             }
            },
            "type": "parcoords"
           }
          ],
          "pie": [
           {
            "automargin": true,
            "type": "pie"
           }
          ],
          "scatter": [
           {
            "fillpattern": {
             "fillmode": "overlay",
             "size": 10,
             "solidity": 0.2
            },
            "type": "scatter"
           }
          ],
          "scatter3d": [
           {
            "line": {
             "colorbar": {
              "outlinewidth": 0,
              "ticks": ""
             }
            },
            "marker": {
             "colorbar": {
              "outlinewidth": 0,
              "ticks": ""
             }
            },
            "type": "scatter3d"
           }
          ],
          "scattercarpet": [
           {
            "marker": {
             "colorbar": {
              "outlinewidth": 0,
              "ticks": ""
             }
            },
            "type": "scattercarpet"
           }
          ],
          "scattergeo": [
           {
            "marker": {
             "colorbar": {
              "outlinewidth": 0,
              "ticks": ""
             }
            },
            "type": "scattergeo"
           }
          ],
          "scattergl": [
           {
            "marker": {
             "colorbar": {
              "outlinewidth": 0,
              "ticks": ""
             }
            },
            "type": "scattergl"
           }
          ],
          "scattermapbox": [
           {
            "marker": {
             "colorbar": {
              "outlinewidth": 0,
              "ticks": ""
             }
            },
            "type": "scattermapbox"
           }
          ],
          "scatterpolar": [
           {
            "marker": {
             "colorbar": {
              "outlinewidth": 0,
              "ticks": ""
             }
            },
            "type": "scatterpolar"
           }
          ],
          "scatterpolargl": [
           {
            "marker": {
             "colorbar": {
              "outlinewidth": 0,
              "ticks": ""
             }
            },
            "type": "scatterpolargl"
           }
          ],
          "scatterternary": [
           {
            "marker": {
             "colorbar": {
              "outlinewidth": 0,
              "ticks": ""
             }
            },
            "type": "scatterternary"
           }
          ],
          "surface": [
           {
            "colorbar": {
             "outlinewidth": 0,
             "ticks": ""
            },
            "colorscale": [
             [
              0,
              "#0d0887"
             ],
             [
              0.1111111111111111,
              "#46039f"
             ],
             [
              0.2222222222222222,
              "#7201a8"
             ],
             [
              0.3333333333333333,
              "#9c179e"
             ],
             [
              0.4444444444444444,
              "#bd3786"
             ],
             [
              0.5555555555555556,
              "#d8576b"
             ],
             [
              0.6666666666666666,
              "#ed7953"
             ],
             [
              0.7777777777777778,
              "#fb9f3a"
             ],
             [
              0.8888888888888888,
              "#fdca26"
             ],
             [
              1,
              "#f0f921"
             ]
            ],
            "type": "surface"
           }
          ],
          "table": [
           {
            "cells": {
             "fill": {
              "color": "#EBF0F8"
             },
             "line": {
              "color": "white"
             }
            },
            "header": {
             "fill": {
              "color": "#C8D4E3"
             },
             "line": {
              "color": "white"
             }
            },
            "type": "table"
           }
          ]
         },
         "layout": {
          "annotationdefaults": {
           "arrowcolor": "#2a3f5f",
           "arrowhead": 0,
           "arrowwidth": 1
          },
          "autotypenumbers": "strict",
          "coloraxis": {
           "colorbar": {
            "outlinewidth": 0,
            "ticks": ""
           }
          },
          "colorscale": {
           "diverging": [
            [
             0,
             "#8e0152"
            ],
            [
             0.1,
             "#c51b7d"
            ],
            [
             0.2,
             "#de77ae"
            ],
            [
             0.3,
             "#f1b6da"
            ],
            [
             0.4,
             "#fde0ef"
            ],
            [
             0.5,
             "#f7f7f7"
            ],
            [
             0.6,
             "#e6f5d0"
            ],
            [
             0.7,
             "#b8e186"
            ],
            [
             0.8,
             "#7fbc41"
            ],
            [
             0.9,
             "#4d9221"
            ],
            [
             1,
             "#276419"
            ]
           ],
           "sequential": [
            [
             0,
             "#0d0887"
            ],
            [
             0.1111111111111111,
             "#46039f"
            ],
            [
             0.2222222222222222,
             "#7201a8"
            ],
            [
             0.3333333333333333,
             "#9c179e"
            ],
            [
             0.4444444444444444,
             "#bd3786"
            ],
            [
             0.5555555555555556,
             "#d8576b"
            ],
            [
             0.6666666666666666,
             "#ed7953"
            ],
            [
             0.7777777777777778,
             "#fb9f3a"
            ],
            [
             0.8888888888888888,
             "#fdca26"
            ],
            [
             1,
             "#f0f921"
            ]
           ],
           "sequentialminus": [
            [
             0,
             "#0d0887"
            ],
            [
             0.1111111111111111,
             "#46039f"
            ],
            [
             0.2222222222222222,
             "#7201a8"
            ],
            [
             0.3333333333333333,
             "#9c179e"
            ],
            [
             0.4444444444444444,
             "#bd3786"
            ],
            [
             0.5555555555555556,
             "#d8576b"
            ],
            [
             0.6666666666666666,
             "#ed7953"
            ],
            [
             0.7777777777777778,
             "#fb9f3a"
            ],
            [
             0.8888888888888888,
             "#fdca26"
            ],
            [
             1,
             "#f0f921"
            ]
           ]
          },
          "colorway": [
           "#636efa",
           "#EF553B",
           "#00cc96",
           "#ab63fa",
           "#FFA15A",
           "#19d3f3",
           "#FF6692",
           "#B6E880",
           "#FF97FF",
           "#FECB52"
          ],
          "font": {
           "color": "#2a3f5f"
          },
          "geo": {
           "bgcolor": "white",
           "lakecolor": "white",
           "landcolor": "#E5ECF6",
           "showlakes": true,
           "showland": true,
           "subunitcolor": "white"
          },
          "hoverlabel": {
           "align": "left"
          },
          "hovermode": "closest",
          "mapbox": {
           "style": "light"
          },
          "paper_bgcolor": "white",
          "plot_bgcolor": "#E5ECF6",
          "polar": {
           "angularaxis": {
            "gridcolor": "white",
            "linecolor": "white",
            "ticks": ""
           },
           "bgcolor": "#E5ECF6",
           "radialaxis": {
            "gridcolor": "white",
            "linecolor": "white",
            "ticks": ""
           }
          },
          "scene": {
           "xaxis": {
            "backgroundcolor": "#E5ECF6",
            "gridcolor": "white",
            "gridwidth": 2,
            "linecolor": "white",
            "showbackground": true,
            "ticks": "",
            "zerolinecolor": "white"
           },
           "yaxis": {
            "backgroundcolor": "#E5ECF6",
            "gridcolor": "white",
            "gridwidth": 2,
            "linecolor": "white",
            "showbackground": true,
            "ticks": "",
            "zerolinecolor": "white"
           },
           "zaxis": {
            "backgroundcolor": "#E5ECF6",
            "gridcolor": "white",
            "gridwidth": 2,
            "linecolor": "white",
            "showbackground": true,
            "ticks": "",
            "zerolinecolor": "white"
           }
          },
          "shapedefaults": {
           "line": {
            "color": "#2a3f5f"
           }
          },
          "ternary": {
           "aaxis": {
            "gridcolor": "white",
            "linecolor": "white",
            "ticks": ""
           },
           "baxis": {
            "gridcolor": "white",
            "linecolor": "white",
            "ticks": ""
           },
           "bgcolor": "#E5ECF6",
           "caxis": {
            "gridcolor": "white",
            "linecolor": "white",
            "ticks": ""
           }
          },
          "title": {
           "x": 0.05
          },
          "xaxis": {
           "automargin": true,
           "gridcolor": "white",
           "linecolor": "white",
           "ticks": "",
           "title": {
            "standoff": 15
           },
           "zerolinecolor": "white",
           "zerolinewidth": 2
          },
          "yaxis": {
           "automargin": true,
           "gridcolor": "white",
           "linecolor": "white",
           "ticks": "",
           "title": {
            "standoff": 15
           },
           "zerolinecolor": "white",
           "zerolinewidth": 2
          }
         }
        },
        "title": {
         "text": "Climate Apaptation Amount by Sector"
        }
       }
      },
      "text/html": [
       "<div>                            <div id=\"d001da55-361c-4f37-88fe-fd8c369c3188\" class=\"plotly-graph-div\" style=\"height:525px; width:100%;\"></div>            <script type=\"text/javascript\">                require([\"plotly\"], function(Plotly) {                    window.PLOTLYENV=window.PLOTLYENV || {};                                    if (document.getElementById(\"d001da55-361c-4f37-88fe-fd8c369c3188\")) {                    Plotly.newPlot(                        \"d001da55-361c-4f37-88fe-fd8c369c3188\",                        [{\"branchvalues\":\"total\",\"domain\":{\"x\":[0.0,1.0],\"y\":[0.0,1.0]},\"hovertemplate\":\"labels=%{label}\\u003cbr\\u003eclim_adapt_amount_2013=%{value}\\u003cbr\\u003eparent=%{parent}\\u003cbr\\u003eid=%{id}\\u003cextra\\u003e\\u003c\\u002fextra\\u003e\",\"ids\":[\"I.1.a. Education, Level Unspecified\",\"I.1.b. Basic Education\",\"I.1.c. Secondary Education\",\"I.1.d. Post-Secondary Education\",\"I.2.a. Health, General\",\"I.2.b. Basic Health\",\"I.2.c. Non-communicable diseases (NCDs)\",\"I.3. Population Policies\\u002fProgrammes & Reproductive Health\",\"I.4. Water Supply & Sanitation\",\"I.5.a. Government & Civil Society-general\",\"I.5.b. Conflict, Peace & Security\",\"I.6. Other Social Infrastructure & Services\",\"II.1. Transport & Storage\",\"II.2. Communications\",\"II.3.a. Energy Policy\",\"II.3.b. Energy generation, renewable sources\",\"II.3.c. Energy generation, non-renewable sources\",\"II.3.d. Hybrid energy plants\",\"II.3.f. Energy distribution\",\"II.4. Banking & Financial Services\",\"II.5. Business & Other Services\",\"III.1.a. Agriculture\",\"III.1.b. Forestry\",\"III.1.c. Fishing\",\"III.2.a. Industry\",\"III.2.b. Mineral Resources & Mining\",\"III.2.c. Construction\",\"III.3.a. Trade Policies & Regulations\",\"III.3.b. Tourism\",\"IV.1. General Environment Protection\",\"IV.2. Other Multisector\",\"IX. Unallocated \\u002f Unspecified\",\"VI.1. General Budget Support\",\"VI.2. Development Food Assistance\",\"VII. Action Relating to Debt\",\"VIII.1. Emergency Response\",\"VIII.2. Reconstruction Relief & Rehabilitation\",\"VIII.3. Disaster Prevention & Preparedness\"],\"labels\":[\"I.1.a. Education, Level Unspecified\",\"I.1.b. Basic Education\",\"I.1.c. Secondary Education\",\"I.1.d. Post-Secondary Education\",\"I.2.a. Health, General\",\"I.2.b. Basic Health\",\"I.2.c. Non-communicable diseases (NCDs)\",\"I.3. Population Policies\\u002fProgrammes & Reproductive Health\",\"I.4. Water Supply & Sanitation\",\"I.5.a. Government & Civil Society-general\",\"I.5.b. Conflict, Peace & Security\",\"I.6. Other Social Infrastructure & Services\",\"II.1. Transport & Storage\",\"II.2. Communications\",\"II.3.a. Energy Policy\",\"II.3.b. Energy generation, renewable sources\",\"II.3.c. Energy generation, non-renewable sources\",\"II.3.d. Hybrid energy plants\",\"II.3.f. Energy distribution\",\"II.4. Banking & Financial Services\",\"II.5. Business & Other Services\",\"III.1.a. Agriculture\",\"III.1.b. Forestry\",\"III.1.c. Fishing\",\"III.2.a. Industry\",\"III.2.b. Mineral Resources & Mining\",\"III.2.c. Construction\",\"III.3.a. Trade Policies & Regulations\",\"III.3.b. Tourism\",\"IV.1. General Environment Protection\",\"IV.2. Other Multisector\",\"IX. Unallocated \\u002f Unspecified\",\"VI.1. General Budget Support\",\"VI.2. Development Food Assistance\",\"VII. Action Relating to Debt\",\"VIII.1. Emergency Response\",\"VIII.2. Reconstruction Relief & Rehabilitation\",\"VIII.3. Disaster Prevention & Preparedness\"],\"name\":\"\",\"parents\":[\"\",\"\",\"\",\"\",\"\",\"\",\"\",\"\",\"\",\"\",\"\",\"\",\"\",\"\",\"\",\"\",\"\",\"\",\"\",\"\",\"\",\"\",\"\",\"\",\"\",\"\",\"\",\"\",\"\",\"\",\"\",\"\",\"\",\"\",\"\",\"\",\"\",\"\"],\"values\":[3.838428,0.1395905,3.3829130000000003,3.06604,0.0,0.2145699999999999,0.0,0.0104085,75.8016285,31.586324,0.3419594999999999,1.2568755,9.6372715,0.0,1.8193715,7.041204,0.0,0.0,0.0,0.6909255,2.474243,90.7644985,18.5549485,0.4438305,0.0275885,0.0,0.0,0.9948895,0.0,96.4184145,57.206913,0.5759795,4.1382785,5.9767095,0.0,2.210464,2.733083,9.433338],\"type\":\"sunburst\"}],                        {\"template\":{\"data\":{\"histogram2dcontour\":[{\"type\":\"histogram2dcontour\",\"colorbar\":{\"outlinewidth\":0,\"ticks\":\"\"},\"colorscale\":[[0.0,\"#0d0887\"],[0.1111111111111111,\"#46039f\"],[0.2222222222222222,\"#7201a8\"],[0.3333333333333333,\"#9c179e\"],[0.4444444444444444,\"#bd3786\"],[0.5555555555555556,\"#d8576b\"],[0.6666666666666666,\"#ed7953\"],[0.7777777777777778,\"#fb9f3a\"],[0.8888888888888888,\"#fdca26\"],[1.0,\"#f0f921\"]]}],\"choropleth\":[{\"type\":\"choropleth\",\"colorbar\":{\"outlinewidth\":0,\"ticks\":\"\"}}],\"histogram2d\":[{\"type\":\"histogram2d\",\"colorbar\":{\"outlinewidth\":0,\"ticks\":\"\"},\"colorscale\":[[0.0,\"#0d0887\"],[0.1111111111111111,\"#46039f\"],[0.2222222222222222,\"#7201a8\"],[0.3333333333333333,\"#9c179e\"],[0.4444444444444444,\"#bd3786\"],[0.5555555555555556,\"#d8576b\"],[0.6666666666666666,\"#ed7953\"],[0.7777777777777778,\"#fb9f3a\"],[0.8888888888888888,\"#fdca26\"],[1.0,\"#f0f921\"]]}],\"heatmap\":[{\"type\":\"heatmap\",\"colorbar\":{\"outlinewidth\":0,\"ticks\":\"\"},\"colorscale\":[[0.0,\"#0d0887\"],[0.1111111111111111,\"#46039f\"],[0.2222222222222222,\"#7201a8\"],[0.3333333333333333,\"#9c179e\"],[0.4444444444444444,\"#bd3786\"],[0.5555555555555556,\"#d8576b\"],[0.6666666666666666,\"#ed7953\"],[0.7777777777777778,\"#fb9f3a\"],[0.8888888888888888,\"#fdca26\"],[1.0,\"#f0f921\"]]}],\"heatmapgl\":[{\"type\":\"heatmapgl\",\"colorbar\":{\"outlinewidth\":0,\"ticks\":\"\"},\"colorscale\":[[0.0,\"#0d0887\"],[0.1111111111111111,\"#46039f\"],[0.2222222222222222,\"#7201a8\"],[0.3333333333333333,\"#9c179e\"],[0.4444444444444444,\"#bd3786\"],[0.5555555555555556,\"#d8576b\"],[0.6666666666666666,\"#ed7953\"],[0.7777777777777778,\"#fb9f3a\"],[0.8888888888888888,\"#fdca26\"],[1.0,\"#f0f921\"]]}],\"contourcarpet\":[{\"type\":\"contourcarpet\",\"colorbar\":{\"outlinewidth\":0,\"ticks\":\"\"}}],\"contour\":[{\"type\":\"contour\",\"colorbar\":{\"outlinewidth\":0,\"ticks\":\"\"},\"colorscale\":[[0.0,\"#0d0887\"],[0.1111111111111111,\"#46039f\"],[0.2222222222222222,\"#7201a8\"],[0.3333333333333333,\"#9c179e\"],[0.4444444444444444,\"#bd3786\"],[0.5555555555555556,\"#d8576b\"],[0.6666666666666666,\"#ed7953\"],[0.7777777777777778,\"#fb9f3a\"],[0.8888888888888888,\"#fdca26\"],[1.0,\"#f0f921\"]]}],\"surface\":[{\"type\":\"surface\",\"colorbar\":{\"outlinewidth\":0,\"ticks\":\"\"},\"colorscale\":[[0.0,\"#0d0887\"],[0.1111111111111111,\"#46039f\"],[0.2222222222222222,\"#7201a8\"],[0.3333333333333333,\"#9c179e\"],[0.4444444444444444,\"#bd3786\"],[0.5555555555555556,\"#d8576b\"],[0.6666666666666666,\"#ed7953\"],[0.7777777777777778,\"#fb9f3a\"],[0.8888888888888888,\"#fdca26\"],[1.0,\"#f0f921\"]]}],\"mesh3d\":[{\"type\":\"mesh3d\",\"colorbar\":{\"outlinewidth\":0,\"ticks\":\"\"}}],\"scatter\":[{\"fillpattern\":{\"fillmode\":\"overlay\",\"size\":10,\"solidity\":0.2},\"type\":\"scatter\"}],\"parcoords\":[{\"type\":\"parcoords\",\"line\":{\"colorbar\":{\"outlinewidth\":0,\"ticks\":\"\"}}}],\"scatterpolargl\":[{\"type\":\"scatterpolargl\",\"marker\":{\"colorbar\":{\"outlinewidth\":0,\"ticks\":\"\"}}}],\"bar\":[{\"error_x\":{\"color\":\"#2a3f5f\"},\"error_y\":{\"color\":\"#2a3f5f\"},\"marker\":{\"line\":{\"color\":\"#E5ECF6\",\"width\":0.5},\"pattern\":{\"fillmode\":\"overlay\",\"size\":10,\"solidity\":0.2}},\"type\":\"bar\"}],\"scattergeo\":[{\"type\":\"scattergeo\",\"marker\":{\"colorbar\":{\"outlinewidth\":0,\"ticks\":\"\"}}}],\"scatterpolar\":[{\"type\":\"scatterpolar\",\"marker\":{\"colorbar\":{\"outlinewidth\":0,\"ticks\":\"\"}}}],\"histogram\":[{\"marker\":{\"pattern\":{\"fillmode\":\"overlay\",\"size\":10,\"solidity\":0.2}},\"type\":\"histogram\"}],\"scattergl\":[{\"type\":\"scattergl\",\"marker\":{\"colorbar\":{\"outlinewidth\":0,\"ticks\":\"\"}}}],\"scatter3d\":[{\"type\":\"scatter3d\",\"line\":{\"colorbar\":{\"outlinewidth\":0,\"ticks\":\"\"}},\"marker\":{\"colorbar\":{\"outlinewidth\":0,\"ticks\":\"\"}}}],\"scattermapbox\":[{\"type\":\"scattermapbox\",\"marker\":{\"colorbar\":{\"outlinewidth\":0,\"ticks\":\"\"}}}],\"scatterternary\":[{\"type\":\"scatterternary\",\"marker\":{\"colorbar\":{\"outlinewidth\":0,\"ticks\":\"\"}}}],\"scattercarpet\":[{\"type\":\"scattercarpet\",\"marker\":{\"colorbar\":{\"outlinewidth\":0,\"ticks\":\"\"}}}],\"carpet\":[{\"aaxis\":{\"endlinecolor\":\"#2a3f5f\",\"gridcolor\":\"white\",\"linecolor\":\"white\",\"minorgridcolor\":\"white\",\"startlinecolor\":\"#2a3f5f\"},\"baxis\":{\"endlinecolor\":\"#2a3f5f\",\"gridcolor\":\"white\",\"linecolor\":\"white\",\"minorgridcolor\":\"white\",\"startlinecolor\":\"#2a3f5f\"},\"type\":\"carpet\"}],\"table\":[{\"cells\":{\"fill\":{\"color\":\"#EBF0F8\"},\"line\":{\"color\":\"white\"}},\"header\":{\"fill\":{\"color\":\"#C8D4E3\"},\"line\":{\"color\":\"white\"}},\"type\":\"table\"}],\"barpolar\":[{\"marker\":{\"line\":{\"color\":\"#E5ECF6\",\"width\":0.5},\"pattern\":{\"fillmode\":\"overlay\",\"size\":10,\"solidity\":0.2}},\"type\":\"barpolar\"}],\"pie\":[{\"automargin\":true,\"type\":\"pie\"}]},\"layout\":{\"autotypenumbers\":\"strict\",\"colorway\":[\"#636efa\",\"#EF553B\",\"#00cc96\",\"#ab63fa\",\"#FFA15A\",\"#19d3f3\",\"#FF6692\",\"#B6E880\",\"#FF97FF\",\"#FECB52\"],\"font\":{\"color\":\"#2a3f5f\"},\"hovermode\":\"closest\",\"hoverlabel\":{\"align\":\"left\"},\"paper_bgcolor\":\"white\",\"plot_bgcolor\":\"#E5ECF6\",\"polar\":{\"bgcolor\":\"#E5ECF6\",\"angularaxis\":{\"gridcolor\":\"white\",\"linecolor\":\"white\",\"ticks\":\"\"},\"radialaxis\":{\"gridcolor\":\"white\",\"linecolor\":\"white\",\"ticks\":\"\"}},\"ternary\":{\"bgcolor\":\"#E5ECF6\",\"aaxis\":{\"gridcolor\":\"white\",\"linecolor\":\"white\",\"ticks\":\"\"},\"baxis\":{\"gridcolor\":\"white\",\"linecolor\":\"white\",\"ticks\":\"\"},\"caxis\":{\"gridcolor\":\"white\",\"linecolor\":\"white\",\"ticks\":\"\"}},\"coloraxis\":{\"colorbar\":{\"outlinewidth\":0,\"ticks\":\"\"}},\"colorscale\":{\"sequential\":[[0.0,\"#0d0887\"],[0.1111111111111111,\"#46039f\"],[0.2222222222222222,\"#7201a8\"],[0.3333333333333333,\"#9c179e\"],[0.4444444444444444,\"#bd3786\"],[0.5555555555555556,\"#d8576b\"],[0.6666666666666666,\"#ed7953\"],[0.7777777777777778,\"#fb9f3a\"],[0.8888888888888888,\"#fdca26\"],[1.0,\"#f0f921\"]],\"sequentialminus\":[[0.0,\"#0d0887\"],[0.1111111111111111,\"#46039f\"],[0.2222222222222222,\"#7201a8\"],[0.3333333333333333,\"#9c179e\"],[0.4444444444444444,\"#bd3786\"],[0.5555555555555556,\"#d8576b\"],[0.6666666666666666,\"#ed7953\"],[0.7777777777777778,\"#fb9f3a\"],[0.8888888888888888,\"#fdca26\"],[1.0,\"#f0f921\"]],\"diverging\":[[0,\"#8e0152\"],[0.1,\"#c51b7d\"],[0.2,\"#de77ae\"],[0.3,\"#f1b6da\"],[0.4,\"#fde0ef\"],[0.5,\"#f7f7f7\"],[0.6,\"#e6f5d0\"],[0.7,\"#b8e186\"],[0.8,\"#7fbc41\"],[0.9,\"#4d9221\"],[1,\"#276419\"]]},\"xaxis\":{\"gridcolor\":\"white\",\"linecolor\":\"white\",\"ticks\":\"\",\"title\":{\"standoff\":15},\"zerolinecolor\":\"white\",\"automargin\":true,\"zerolinewidth\":2},\"yaxis\":{\"gridcolor\":\"white\",\"linecolor\":\"white\",\"ticks\":\"\",\"title\":{\"standoff\":15},\"zerolinecolor\":\"white\",\"automargin\":true,\"zerolinewidth\":2},\"scene\":{\"xaxis\":{\"backgroundcolor\":\"#E5ECF6\",\"gridcolor\":\"white\",\"linecolor\":\"white\",\"showbackground\":true,\"ticks\":\"\",\"zerolinecolor\":\"white\",\"gridwidth\":2},\"yaxis\":{\"backgroundcolor\":\"#E5ECF6\",\"gridcolor\":\"white\",\"linecolor\":\"white\",\"showbackground\":true,\"ticks\":\"\",\"zerolinecolor\":\"white\",\"gridwidth\":2},\"zaxis\":{\"backgroundcolor\":\"#E5ECF6\",\"gridcolor\":\"white\",\"linecolor\":\"white\",\"showbackground\":true,\"ticks\":\"\",\"zerolinecolor\":\"white\",\"gridwidth\":2}},\"shapedefaults\":{\"line\":{\"color\":\"#2a3f5f\"}},\"annotationdefaults\":{\"arrowcolor\":\"#2a3f5f\",\"arrowhead\":0,\"arrowwidth\":1},\"geo\":{\"bgcolor\":\"white\",\"landcolor\":\"#E5ECF6\",\"subunitcolor\":\"white\",\"showland\":true,\"showlakes\":true,\"lakecolor\":\"white\"},\"title\":{\"x\":0.05},\"mapbox\":{\"style\":\"light\"}}},\"legend\":{\"tracegroupgap\":0},\"title\":{\"text\":\"Climate Apaptation Amount by Sector\"}},                        {\"responsive\": true}                    ).then(function(){\n",
       "                            \n",
       "var gd = document.getElementById('d001da55-361c-4f37-88fe-fd8c369c3188');\n",
       "var x = new MutationObserver(function (mutations, observer) {{\n",
       "        var display = window.getComputedStyle(gd).display;\n",
       "        if (!display || display === 'none') {{\n",
       "            console.log([gd, 'removed!']);\n",
       "            Plotly.purge(gd);\n",
       "            observer.disconnect();\n",
       "        }}\n",
       "}});\n",
       "\n",
       "// Listen for the removal of the full notebook cells\n",
       "var notebookContainer = gd.closest('#notebook-container');\n",
       "if (notebookContainer) {{\n",
       "    x.observe(notebookContainer, {childList: true});\n",
       "}}\n",
       "\n",
       "// Listen for the clearing of the current output cell\n",
       "var outputEl = gd.closest('.output');\n",
       "if (outputEl) {{\n",
       "    x.observe(outputEl, {childList: true});\n",
       "}}\n",
       "\n",
       "                        })                };                });            </script>        </div>"
      ]
     },
     "metadata": {},
     "output_type": "display_data"
    }
   ],
   "source": [
    "clim_adapt_fig = px.sunburst(filtered_year_df, path=['Sector'], values=f'clim_adapt_amount_{year}', title='Climate Apaptation Amount by Sector')\n",
    "clim_adapt_fig.show()\n"
   ]
  },
  {
   "cell_type": "code",
   "execution_count": 215,
   "id": "eaac7ef8",
   "metadata": {},
   "outputs": [
    {
     "data": {
      "application/vnd.plotly.v1+json": {
       "config": {
        "plotlyServerURL": "https://plot.ly"
       },
       "data": [
        {
         "branchvalues": "total",
         "domain": {
          "x": [
           0,
           1
          ],
          "y": [
           0,
           1
          ]
         },
         "hovertemplate": "labels=%{label}<br>clim_miti_amount_2013=%{value}<br>parent=%{parent}<br>id=%{id}<extra></extra>",
         "ids": [
          "I.1.a. Education, Level Unspecified",
          "I.1.b. Basic Education",
          "I.1.c. Secondary Education",
          "I.1.d. Post-Secondary Education",
          "I.2.a. Health, General",
          "I.2.b. Basic Health",
          "I.2.c. Non-communicable diseases (NCDs)",
          "I.3. Population Policies/Programmes & Reproductive Health",
          "I.4. Water Supply & Sanitation",
          "I.5.a. Government & Civil Society-general",
          "I.5.b. Conflict, Peace & Security",
          "I.6. Other Social Infrastructure & Services",
          "II.1. Transport & Storage",
          "II.2. Communications",
          "II.3.a. Energy Policy",
          "II.3.b. Energy generation, renewable sources",
          "II.3.c. Energy generation, non-renewable sources",
          "II.3.d. Hybrid energy plants",
          "II.3.f. Energy distribution",
          "II.4. Banking & Financial Services",
          "II.5. Business & Other Services",
          "III.1.a. Agriculture",
          "III.1.b. Forestry",
          "III.1.c. Fishing",
          "III.2.a. Industry",
          "III.2.b. Mineral Resources & Mining",
          "III.2.c. Construction",
          "III.3.a. Trade Policies & Regulations",
          "III.3.b. Tourism",
          "IV.1. General Environment Protection",
          "IV.2. Other Multisector",
          "IX. Unallocated / Unspecified",
          "VI.1. General Budget Support",
          "VI.2. Development Food Assistance",
          "VII. Action Relating to Debt",
          "VIII.1. Emergency Response",
          "VIII.2. Reconstruction Relief & Rehabilitation",
          "VIII.3. Disaster Prevention & Preparedness"
         ],
         "labels": [
          "I.1.a. Education, Level Unspecified",
          "I.1.b. Basic Education",
          "I.1.c. Secondary Education",
          "I.1.d. Post-Secondary Education",
          "I.2.a. Health, General",
          "I.2.b. Basic Health",
          "I.2.c. Non-communicable diseases (NCDs)",
          "I.3. Population Policies/Programmes & Reproductive Health",
          "I.4. Water Supply & Sanitation",
          "I.5.a. Government & Civil Society-general",
          "I.5.b. Conflict, Peace & Security",
          "I.6. Other Social Infrastructure & Services",
          "II.1. Transport & Storage",
          "II.2. Communications",
          "II.3.a. Energy Policy",
          "II.3.b. Energy generation, renewable sources",
          "II.3.c. Energy generation, non-renewable sources",
          "II.3.d. Hybrid energy plants",
          "II.3.f. Energy distribution",
          "II.4. Banking & Financial Services",
          "II.5. Business & Other Services",
          "III.1.a. Agriculture",
          "III.1.b. Forestry",
          "III.1.c. Fishing",
          "III.2.a. Industry",
          "III.2.b. Mineral Resources & Mining",
          "III.2.c. Construction",
          "III.3.a. Trade Policies & Regulations",
          "III.3.b. Tourism",
          "IV.1. General Environment Protection",
          "IV.2. Other Multisector",
          "IX. Unallocated / Unspecified",
          "VI.1. General Budget Support",
          "VI.2. Development Food Assistance",
          "VII. Action Relating to Debt",
          "VIII.1. Emergency Response",
          "VIII.2. Reconstruction Relief & Rehabilitation",
          "VIII.3. Disaster Prevention & Preparedness"
         ],
         "name": "",
         "parents": [
          "",
          "",
          "",
          "",
          "",
          "",
          "",
          "",
          "",
          "",
          "",
          "",
          "",
          "",
          "",
          "",
          "",
          "",
          "",
          "",
          "",
          "",
          "",
          "",
          "",
          "",
          "",
          "",
          "",
          "",
          "",
          "",
          "",
          "",
          "",
          "",
          "",
          ""
         ],
         "type": "sunburst",
         "values": [
          2.443084,
          0.046073,
          1.0785045,
          7.3032745,
          0.0245835,
          0.5783245,
          0,
          1.007634,
          26.2450375,
          25.273254,
          0.1232305,
          0.2537574999999999,
          3.905017,
          0,
          38.41865,
          106.2940405,
          8.0677155,
          0,
          38.826143,
          41.511661,
          5.9792315,
          23.4222235,
          30.1531505,
          0.5597025,
          0,
          0.16638,
          0,
          0.972454,
          0.057246,
          156.557101,
          38.39713,
          0.5759795,
          0,
          0.206914,
          0,
          0.2933065,
          1.6339169999999998,
          0.9603425
         ]
        }
       ],
       "layout": {
        "legend": {
         "tracegroupgap": 0
        },
        "template": {
         "data": {
          "bar": [
           {
            "error_x": {
             "color": "#2a3f5f"
            },
            "error_y": {
             "color": "#2a3f5f"
            },
            "marker": {
             "line": {
              "color": "#E5ECF6",
              "width": 0.5
             },
             "pattern": {
              "fillmode": "overlay",
              "size": 10,
              "solidity": 0.2
             }
            },
            "type": "bar"
           }
          ],
          "barpolar": [
           {
            "marker": {
             "line": {
              "color": "#E5ECF6",
              "width": 0.5
             },
             "pattern": {
              "fillmode": "overlay",
              "size": 10,
              "solidity": 0.2
             }
            },
            "type": "barpolar"
           }
          ],
          "carpet": [
           {
            "aaxis": {
             "endlinecolor": "#2a3f5f",
             "gridcolor": "white",
             "linecolor": "white",
             "minorgridcolor": "white",
             "startlinecolor": "#2a3f5f"
            },
            "baxis": {
             "endlinecolor": "#2a3f5f",
             "gridcolor": "white",
             "linecolor": "white",
             "minorgridcolor": "white",
             "startlinecolor": "#2a3f5f"
            },
            "type": "carpet"
           }
          ],
          "choropleth": [
           {
            "colorbar": {
             "outlinewidth": 0,
             "ticks": ""
            },
            "type": "choropleth"
           }
          ],
          "contour": [
           {
            "colorbar": {
             "outlinewidth": 0,
             "ticks": ""
            },
            "colorscale": [
             [
              0,
              "#0d0887"
             ],
             [
              0.1111111111111111,
              "#46039f"
             ],
             [
              0.2222222222222222,
              "#7201a8"
             ],
             [
              0.3333333333333333,
              "#9c179e"
             ],
             [
              0.4444444444444444,
              "#bd3786"
             ],
             [
              0.5555555555555556,
              "#d8576b"
             ],
             [
              0.6666666666666666,
              "#ed7953"
             ],
             [
              0.7777777777777778,
              "#fb9f3a"
             ],
             [
              0.8888888888888888,
              "#fdca26"
             ],
             [
              1,
              "#f0f921"
             ]
            ],
            "type": "contour"
           }
          ],
          "contourcarpet": [
           {
            "colorbar": {
             "outlinewidth": 0,
             "ticks": ""
            },
            "type": "contourcarpet"
           }
          ],
          "heatmap": [
           {
            "colorbar": {
             "outlinewidth": 0,
             "ticks": ""
            },
            "colorscale": [
             [
              0,
              "#0d0887"
             ],
             [
              0.1111111111111111,
              "#46039f"
             ],
             [
              0.2222222222222222,
              "#7201a8"
             ],
             [
              0.3333333333333333,
              "#9c179e"
             ],
             [
              0.4444444444444444,
              "#bd3786"
             ],
             [
              0.5555555555555556,
              "#d8576b"
             ],
             [
              0.6666666666666666,
              "#ed7953"
             ],
             [
              0.7777777777777778,
              "#fb9f3a"
             ],
             [
              0.8888888888888888,
              "#fdca26"
             ],
             [
              1,
              "#f0f921"
             ]
            ],
            "type": "heatmap"
           }
          ],
          "heatmapgl": [
           {
            "colorbar": {
             "outlinewidth": 0,
             "ticks": ""
            },
            "colorscale": [
             [
              0,
              "#0d0887"
             ],
             [
              0.1111111111111111,
              "#46039f"
             ],
             [
              0.2222222222222222,
              "#7201a8"
             ],
             [
              0.3333333333333333,
              "#9c179e"
             ],
             [
              0.4444444444444444,
              "#bd3786"
             ],
             [
              0.5555555555555556,
              "#d8576b"
             ],
             [
              0.6666666666666666,
              "#ed7953"
             ],
             [
              0.7777777777777778,
              "#fb9f3a"
             ],
             [
              0.8888888888888888,
              "#fdca26"
             ],
             [
              1,
              "#f0f921"
             ]
            ],
            "type": "heatmapgl"
           }
          ],
          "histogram": [
           {
            "marker": {
             "pattern": {
              "fillmode": "overlay",
              "size": 10,
              "solidity": 0.2
             }
            },
            "type": "histogram"
           }
          ],
          "histogram2d": [
           {
            "colorbar": {
             "outlinewidth": 0,
             "ticks": ""
            },
            "colorscale": [
             [
              0,
              "#0d0887"
             ],
             [
              0.1111111111111111,
              "#46039f"
             ],
             [
              0.2222222222222222,
              "#7201a8"
             ],
             [
              0.3333333333333333,
              "#9c179e"
             ],
             [
              0.4444444444444444,
              "#bd3786"
             ],
             [
              0.5555555555555556,
              "#d8576b"
             ],
             [
              0.6666666666666666,
              "#ed7953"
             ],
             [
              0.7777777777777778,
              "#fb9f3a"
             ],
             [
              0.8888888888888888,
              "#fdca26"
             ],
             [
              1,
              "#f0f921"
             ]
            ],
            "type": "histogram2d"
           }
          ],
          "histogram2dcontour": [
           {
            "colorbar": {
             "outlinewidth": 0,
             "ticks": ""
            },
            "colorscale": [
             [
              0,
              "#0d0887"
             ],
             [
              0.1111111111111111,
              "#46039f"
             ],
             [
              0.2222222222222222,
              "#7201a8"
             ],
             [
              0.3333333333333333,
              "#9c179e"
             ],
             [
              0.4444444444444444,
              "#bd3786"
             ],
             [
              0.5555555555555556,
              "#d8576b"
             ],
             [
              0.6666666666666666,
              "#ed7953"
             ],
             [
              0.7777777777777778,
              "#fb9f3a"
             ],
             [
              0.8888888888888888,
              "#fdca26"
             ],
             [
              1,
              "#f0f921"
             ]
            ],
            "type": "histogram2dcontour"
           }
          ],
          "mesh3d": [
           {
            "colorbar": {
             "outlinewidth": 0,
             "ticks": ""
            },
            "type": "mesh3d"
           }
          ],
          "parcoords": [
           {
            "line": {
             "colorbar": {
              "outlinewidth": 0,
              "ticks": ""
             }
            },
            "type": "parcoords"
           }
          ],
          "pie": [
           {
            "automargin": true,
            "type": "pie"
           }
          ],
          "scatter": [
           {
            "fillpattern": {
             "fillmode": "overlay",
             "size": 10,
             "solidity": 0.2
            },
            "type": "scatter"
           }
          ],
          "scatter3d": [
           {
            "line": {
             "colorbar": {
              "outlinewidth": 0,
              "ticks": ""
             }
            },
            "marker": {
             "colorbar": {
              "outlinewidth": 0,
              "ticks": ""
             }
            },
            "type": "scatter3d"
           }
          ],
          "scattercarpet": [
           {
            "marker": {
             "colorbar": {
              "outlinewidth": 0,
              "ticks": ""
             }
            },
            "type": "scattercarpet"
           }
          ],
          "scattergeo": [
           {
            "marker": {
             "colorbar": {
              "outlinewidth": 0,
              "ticks": ""
             }
            },
            "type": "scattergeo"
           }
          ],
          "scattergl": [
           {
            "marker": {
             "colorbar": {
              "outlinewidth": 0,
              "ticks": ""
             }
            },
            "type": "scattergl"
           }
          ],
          "scattermapbox": [
           {
            "marker": {
             "colorbar": {
              "outlinewidth": 0,
              "ticks": ""
             }
            },
            "type": "scattermapbox"
           }
          ],
          "scatterpolar": [
           {
            "marker": {
             "colorbar": {
              "outlinewidth": 0,
              "ticks": ""
             }
            },
            "type": "scatterpolar"
           }
          ],
          "scatterpolargl": [
           {
            "marker": {
             "colorbar": {
              "outlinewidth": 0,
              "ticks": ""
             }
            },
            "type": "scatterpolargl"
           }
          ],
          "scatterternary": [
           {
            "marker": {
             "colorbar": {
              "outlinewidth": 0,
              "ticks": ""
             }
            },
            "type": "scatterternary"
           }
          ],
          "surface": [
           {
            "colorbar": {
             "outlinewidth": 0,
             "ticks": ""
            },
            "colorscale": [
             [
              0,
              "#0d0887"
             ],
             [
              0.1111111111111111,
              "#46039f"
             ],
             [
              0.2222222222222222,
              "#7201a8"
             ],
             [
              0.3333333333333333,
              "#9c179e"
             ],
             [
              0.4444444444444444,
              "#bd3786"
             ],
             [
              0.5555555555555556,
              "#d8576b"
             ],
             [
              0.6666666666666666,
              "#ed7953"
             ],
             [
              0.7777777777777778,
              "#fb9f3a"
             ],
             [
              0.8888888888888888,
              "#fdca26"
             ],
             [
              1,
              "#f0f921"
             ]
            ],
            "type": "surface"
           }
          ],
          "table": [
           {
            "cells": {
             "fill": {
              "color": "#EBF0F8"
             },
             "line": {
              "color": "white"
             }
            },
            "header": {
             "fill": {
              "color": "#C8D4E3"
             },
             "line": {
              "color": "white"
             }
            },
            "type": "table"
           }
          ]
         },
         "layout": {
          "annotationdefaults": {
           "arrowcolor": "#2a3f5f",
           "arrowhead": 0,
           "arrowwidth": 1
          },
          "autotypenumbers": "strict",
          "coloraxis": {
           "colorbar": {
            "outlinewidth": 0,
            "ticks": ""
           }
          },
          "colorscale": {
           "diverging": [
            [
             0,
             "#8e0152"
            ],
            [
             0.1,
             "#c51b7d"
            ],
            [
             0.2,
             "#de77ae"
            ],
            [
             0.3,
             "#f1b6da"
            ],
            [
             0.4,
             "#fde0ef"
            ],
            [
             0.5,
             "#f7f7f7"
            ],
            [
             0.6,
             "#e6f5d0"
            ],
            [
             0.7,
             "#b8e186"
            ],
            [
             0.8,
             "#7fbc41"
            ],
            [
             0.9,
             "#4d9221"
            ],
            [
             1,
             "#276419"
            ]
           ],
           "sequential": [
            [
             0,
             "#0d0887"
            ],
            [
             0.1111111111111111,
             "#46039f"
            ],
            [
             0.2222222222222222,
             "#7201a8"
            ],
            [
             0.3333333333333333,
             "#9c179e"
            ],
            [
             0.4444444444444444,
             "#bd3786"
            ],
            [
             0.5555555555555556,
             "#d8576b"
            ],
            [
             0.6666666666666666,
             "#ed7953"
            ],
            [
             0.7777777777777778,
             "#fb9f3a"
            ],
            [
             0.8888888888888888,
             "#fdca26"
            ],
            [
             1,
             "#f0f921"
            ]
           ],
           "sequentialminus": [
            [
             0,
             "#0d0887"
            ],
            [
             0.1111111111111111,
             "#46039f"
            ],
            [
             0.2222222222222222,
             "#7201a8"
            ],
            [
             0.3333333333333333,
             "#9c179e"
            ],
            [
             0.4444444444444444,
             "#bd3786"
            ],
            [
             0.5555555555555556,
             "#d8576b"
            ],
            [
             0.6666666666666666,
             "#ed7953"
            ],
            [
             0.7777777777777778,
             "#fb9f3a"
            ],
            [
             0.8888888888888888,
             "#fdca26"
            ],
            [
             1,
             "#f0f921"
            ]
           ]
          },
          "colorway": [
           "#636efa",
           "#EF553B",
           "#00cc96",
           "#ab63fa",
           "#FFA15A",
           "#19d3f3",
           "#FF6692",
           "#B6E880",
           "#FF97FF",
           "#FECB52"
          ],
          "font": {
           "color": "#2a3f5f"
          },
          "geo": {
           "bgcolor": "white",
           "lakecolor": "white",
           "landcolor": "#E5ECF6",
           "showlakes": true,
           "showland": true,
           "subunitcolor": "white"
          },
          "hoverlabel": {
           "align": "left"
          },
          "hovermode": "closest",
          "mapbox": {
           "style": "light"
          },
          "paper_bgcolor": "white",
          "plot_bgcolor": "#E5ECF6",
          "polar": {
           "angularaxis": {
            "gridcolor": "white",
            "linecolor": "white",
            "ticks": ""
           },
           "bgcolor": "#E5ECF6",
           "radialaxis": {
            "gridcolor": "white",
            "linecolor": "white",
            "ticks": ""
           }
          },
          "scene": {
           "xaxis": {
            "backgroundcolor": "#E5ECF6",
            "gridcolor": "white",
            "gridwidth": 2,
            "linecolor": "white",
            "showbackground": true,
            "ticks": "",
            "zerolinecolor": "white"
           },
           "yaxis": {
            "backgroundcolor": "#E5ECF6",
            "gridcolor": "white",
            "gridwidth": 2,
            "linecolor": "white",
            "showbackground": true,
            "ticks": "",
            "zerolinecolor": "white"
           },
           "zaxis": {
            "backgroundcolor": "#E5ECF6",
            "gridcolor": "white",
            "gridwidth": 2,
            "linecolor": "white",
            "showbackground": true,
            "ticks": "",
            "zerolinecolor": "white"
           }
          },
          "shapedefaults": {
           "line": {
            "color": "#2a3f5f"
           }
          },
          "ternary": {
           "aaxis": {
            "gridcolor": "white",
            "linecolor": "white",
            "ticks": ""
           },
           "baxis": {
            "gridcolor": "white",
            "linecolor": "white",
            "ticks": ""
           },
           "bgcolor": "#E5ECF6",
           "caxis": {
            "gridcolor": "white",
            "linecolor": "white",
            "ticks": ""
           }
          },
          "title": {
           "x": 0.05
          },
          "xaxis": {
           "automargin": true,
           "gridcolor": "white",
           "linecolor": "white",
           "ticks": "",
           "title": {
            "standoff": 15
           },
           "zerolinecolor": "white",
           "zerolinewidth": 2
          },
          "yaxis": {
           "automargin": true,
           "gridcolor": "white",
           "linecolor": "white",
           "ticks": "",
           "title": {
            "standoff": 15
           },
           "zerolinecolor": "white",
           "zerolinewidth": 2
          }
         }
        },
        "title": {
         "text": "Climate Mitigation Amount by Sector"
        }
       }
      },
      "text/html": [
       "<div>                            <div id=\"59e2384c-2bca-42fc-93f0-4a80a24a92df\" class=\"plotly-graph-div\" style=\"height:525px; width:100%;\"></div>            <script type=\"text/javascript\">                require([\"plotly\"], function(Plotly) {                    window.PLOTLYENV=window.PLOTLYENV || {};                                    if (document.getElementById(\"59e2384c-2bca-42fc-93f0-4a80a24a92df\")) {                    Plotly.newPlot(                        \"59e2384c-2bca-42fc-93f0-4a80a24a92df\",                        [{\"branchvalues\":\"total\",\"domain\":{\"x\":[0.0,1.0],\"y\":[0.0,1.0]},\"hovertemplate\":\"labels=%{label}\\u003cbr\\u003eclim_miti_amount_2013=%{value}\\u003cbr\\u003eparent=%{parent}\\u003cbr\\u003eid=%{id}\\u003cextra\\u003e\\u003c\\u002fextra\\u003e\",\"ids\":[\"I.1.a. Education, Level Unspecified\",\"I.1.b. Basic Education\",\"I.1.c. Secondary Education\",\"I.1.d. Post-Secondary Education\",\"I.2.a. Health, General\",\"I.2.b. Basic Health\",\"I.2.c. Non-communicable diseases (NCDs)\",\"I.3. Population Policies\\u002fProgrammes & Reproductive Health\",\"I.4. Water Supply & Sanitation\",\"I.5.a. Government & Civil Society-general\",\"I.5.b. Conflict, Peace & Security\",\"I.6. Other Social Infrastructure & Services\",\"II.1. Transport & Storage\",\"II.2. Communications\",\"II.3.a. Energy Policy\",\"II.3.b. Energy generation, renewable sources\",\"II.3.c. Energy generation, non-renewable sources\",\"II.3.d. Hybrid energy plants\",\"II.3.f. Energy distribution\",\"II.4. Banking & Financial Services\",\"II.5. Business & Other Services\",\"III.1.a. Agriculture\",\"III.1.b. Forestry\",\"III.1.c. Fishing\",\"III.2.a. Industry\",\"III.2.b. Mineral Resources & Mining\",\"III.2.c. Construction\",\"III.3.a. Trade Policies & Regulations\",\"III.3.b. Tourism\",\"IV.1. General Environment Protection\",\"IV.2. Other Multisector\",\"IX. Unallocated \\u002f Unspecified\",\"VI.1. General Budget Support\",\"VI.2. Development Food Assistance\",\"VII. Action Relating to Debt\",\"VIII.1. Emergency Response\",\"VIII.2. Reconstruction Relief & Rehabilitation\",\"VIII.3. Disaster Prevention & Preparedness\"],\"labels\":[\"I.1.a. Education, Level Unspecified\",\"I.1.b. Basic Education\",\"I.1.c. Secondary Education\",\"I.1.d. Post-Secondary Education\",\"I.2.a. Health, General\",\"I.2.b. Basic Health\",\"I.2.c. Non-communicable diseases (NCDs)\",\"I.3. Population Policies\\u002fProgrammes & Reproductive Health\",\"I.4. Water Supply & Sanitation\",\"I.5.a. Government & Civil Society-general\",\"I.5.b. Conflict, Peace & Security\",\"I.6. Other Social Infrastructure & Services\",\"II.1. Transport & Storage\",\"II.2. Communications\",\"II.3.a. Energy Policy\",\"II.3.b. Energy generation, renewable sources\",\"II.3.c. Energy generation, non-renewable sources\",\"II.3.d. Hybrid energy plants\",\"II.3.f. Energy distribution\",\"II.4. Banking & Financial Services\",\"II.5. Business & Other Services\",\"III.1.a. Agriculture\",\"III.1.b. Forestry\",\"III.1.c. Fishing\",\"III.2.a. Industry\",\"III.2.b. Mineral Resources & Mining\",\"III.2.c. Construction\",\"III.3.a. Trade Policies & Regulations\",\"III.3.b. Tourism\",\"IV.1. General Environment Protection\",\"IV.2. Other Multisector\",\"IX. Unallocated \\u002f Unspecified\",\"VI.1. General Budget Support\",\"VI.2. Development Food Assistance\",\"VII. Action Relating to Debt\",\"VIII.1. Emergency Response\",\"VIII.2. Reconstruction Relief & Rehabilitation\",\"VIII.3. Disaster Prevention & Preparedness\"],\"name\":\"\",\"parents\":[\"\",\"\",\"\",\"\",\"\",\"\",\"\",\"\",\"\",\"\",\"\",\"\",\"\",\"\",\"\",\"\",\"\",\"\",\"\",\"\",\"\",\"\",\"\",\"\",\"\",\"\",\"\",\"\",\"\",\"\",\"\",\"\",\"\",\"\",\"\",\"\",\"\",\"\"],\"values\":[2.443084,0.046073,1.0785045,7.3032745,0.0245835,0.5783245,0.0,1.007634,26.2450375,25.273254,0.1232305,0.2537574999999999,3.905017,0.0,38.41865,106.2940405,8.0677155,0.0,38.826143,41.511661,5.9792315,23.4222235,30.1531505,0.5597025,0.0,0.16638,0.0,0.972454,0.057246,156.557101,38.39713,0.5759795,0.0,0.206914,0.0,0.2933065,1.6339169999999998,0.9603425],\"type\":\"sunburst\"}],                        {\"template\":{\"data\":{\"histogram2dcontour\":[{\"type\":\"histogram2dcontour\",\"colorbar\":{\"outlinewidth\":0,\"ticks\":\"\"},\"colorscale\":[[0.0,\"#0d0887\"],[0.1111111111111111,\"#46039f\"],[0.2222222222222222,\"#7201a8\"],[0.3333333333333333,\"#9c179e\"],[0.4444444444444444,\"#bd3786\"],[0.5555555555555556,\"#d8576b\"],[0.6666666666666666,\"#ed7953\"],[0.7777777777777778,\"#fb9f3a\"],[0.8888888888888888,\"#fdca26\"],[1.0,\"#f0f921\"]]}],\"choropleth\":[{\"type\":\"choropleth\",\"colorbar\":{\"outlinewidth\":0,\"ticks\":\"\"}}],\"histogram2d\":[{\"type\":\"histogram2d\",\"colorbar\":{\"outlinewidth\":0,\"ticks\":\"\"},\"colorscale\":[[0.0,\"#0d0887\"],[0.1111111111111111,\"#46039f\"],[0.2222222222222222,\"#7201a8\"],[0.3333333333333333,\"#9c179e\"],[0.4444444444444444,\"#bd3786\"],[0.5555555555555556,\"#d8576b\"],[0.6666666666666666,\"#ed7953\"],[0.7777777777777778,\"#fb9f3a\"],[0.8888888888888888,\"#fdca26\"],[1.0,\"#f0f921\"]]}],\"heatmap\":[{\"type\":\"heatmap\",\"colorbar\":{\"outlinewidth\":0,\"ticks\":\"\"},\"colorscale\":[[0.0,\"#0d0887\"],[0.1111111111111111,\"#46039f\"],[0.2222222222222222,\"#7201a8\"],[0.3333333333333333,\"#9c179e\"],[0.4444444444444444,\"#bd3786\"],[0.5555555555555556,\"#d8576b\"],[0.6666666666666666,\"#ed7953\"],[0.7777777777777778,\"#fb9f3a\"],[0.8888888888888888,\"#fdca26\"],[1.0,\"#f0f921\"]]}],\"heatmapgl\":[{\"type\":\"heatmapgl\",\"colorbar\":{\"outlinewidth\":0,\"ticks\":\"\"},\"colorscale\":[[0.0,\"#0d0887\"],[0.1111111111111111,\"#46039f\"],[0.2222222222222222,\"#7201a8\"],[0.3333333333333333,\"#9c179e\"],[0.4444444444444444,\"#bd3786\"],[0.5555555555555556,\"#d8576b\"],[0.6666666666666666,\"#ed7953\"],[0.7777777777777778,\"#fb9f3a\"],[0.8888888888888888,\"#fdca26\"],[1.0,\"#f0f921\"]]}],\"contourcarpet\":[{\"type\":\"contourcarpet\",\"colorbar\":{\"outlinewidth\":0,\"ticks\":\"\"}}],\"contour\":[{\"type\":\"contour\",\"colorbar\":{\"outlinewidth\":0,\"ticks\":\"\"},\"colorscale\":[[0.0,\"#0d0887\"],[0.1111111111111111,\"#46039f\"],[0.2222222222222222,\"#7201a8\"],[0.3333333333333333,\"#9c179e\"],[0.4444444444444444,\"#bd3786\"],[0.5555555555555556,\"#d8576b\"],[0.6666666666666666,\"#ed7953\"],[0.7777777777777778,\"#fb9f3a\"],[0.8888888888888888,\"#fdca26\"],[1.0,\"#f0f921\"]]}],\"surface\":[{\"type\":\"surface\",\"colorbar\":{\"outlinewidth\":0,\"ticks\":\"\"},\"colorscale\":[[0.0,\"#0d0887\"],[0.1111111111111111,\"#46039f\"],[0.2222222222222222,\"#7201a8\"],[0.3333333333333333,\"#9c179e\"],[0.4444444444444444,\"#bd3786\"],[0.5555555555555556,\"#d8576b\"],[0.6666666666666666,\"#ed7953\"],[0.7777777777777778,\"#fb9f3a\"],[0.8888888888888888,\"#fdca26\"],[1.0,\"#f0f921\"]]}],\"mesh3d\":[{\"type\":\"mesh3d\",\"colorbar\":{\"outlinewidth\":0,\"ticks\":\"\"}}],\"scatter\":[{\"fillpattern\":{\"fillmode\":\"overlay\",\"size\":10,\"solidity\":0.2},\"type\":\"scatter\"}],\"parcoords\":[{\"type\":\"parcoords\",\"line\":{\"colorbar\":{\"outlinewidth\":0,\"ticks\":\"\"}}}],\"scatterpolargl\":[{\"type\":\"scatterpolargl\",\"marker\":{\"colorbar\":{\"outlinewidth\":0,\"ticks\":\"\"}}}],\"bar\":[{\"error_x\":{\"color\":\"#2a3f5f\"},\"error_y\":{\"color\":\"#2a3f5f\"},\"marker\":{\"line\":{\"color\":\"#E5ECF6\",\"width\":0.5},\"pattern\":{\"fillmode\":\"overlay\",\"size\":10,\"solidity\":0.2}},\"type\":\"bar\"}],\"scattergeo\":[{\"type\":\"scattergeo\",\"marker\":{\"colorbar\":{\"outlinewidth\":0,\"ticks\":\"\"}}}],\"scatterpolar\":[{\"type\":\"scatterpolar\",\"marker\":{\"colorbar\":{\"outlinewidth\":0,\"ticks\":\"\"}}}],\"histogram\":[{\"marker\":{\"pattern\":{\"fillmode\":\"overlay\",\"size\":10,\"solidity\":0.2}},\"type\":\"histogram\"}],\"scattergl\":[{\"type\":\"scattergl\",\"marker\":{\"colorbar\":{\"outlinewidth\":0,\"ticks\":\"\"}}}],\"scatter3d\":[{\"type\":\"scatter3d\",\"line\":{\"colorbar\":{\"outlinewidth\":0,\"ticks\":\"\"}},\"marker\":{\"colorbar\":{\"outlinewidth\":0,\"ticks\":\"\"}}}],\"scattermapbox\":[{\"type\":\"scattermapbox\",\"marker\":{\"colorbar\":{\"outlinewidth\":0,\"ticks\":\"\"}}}],\"scatterternary\":[{\"type\":\"scatterternary\",\"marker\":{\"colorbar\":{\"outlinewidth\":0,\"ticks\":\"\"}}}],\"scattercarpet\":[{\"type\":\"scattercarpet\",\"marker\":{\"colorbar\":{\"outlinewidth\":0,\"ticks\":\"\"}}}],\"carpet\":[{\"aaxis\":{\"endlinecolor\":\"#2a3f5f\",\"gridcolor\":\"white\",\"linecolor\":\"white\",\"minorgridcolor\":\"white\",\"startlinecolor\":\"#2a3f5f\"},\"baxis\":{\"endlinecolor\":\"#2a3f5f\",\"gridcolor\":\"white\",\"linecolor\":\"white\",\"minorgridcolor\":\"white\",\"startlinecolor\":\"#2a3f5f\"},\"type\":\"carpet\"}],\"table\":[{\"cells\":{\"fill\":{\"color\":\"#EBF0F8\"},\"line\":{\"color\":\"white\"}},\"header\":{\"fill\":{\"color\":\"#C8D4E3\"},\"line\":{\"color\":\"white\"}},\"type\":\"table\"}],\"barpolar\":[{\"marker\":{\"line\":{\"color\":\"#E5ECF6\",\"width\":0.5},\"pattern\":{\"fillmode\":\"overlay\",\"size\":10,\"solidity\":0.2}},\"type\":\"barpolar\"}],\"pie\":[{\"automargin\":true,\"type\":\"pie\"}]},\"layout\":{\"autotypenumbers\":\"strict\",\"colorway\":[\"#636efa\",\"#EF553B\",\"#00cc96\",\"#ab63fa\",\"#FFA15A\",\"#19d3f3\",\"#FF6692\",\"#B6E880\",\"#FF97FF\",\"#FECB52\"],\"font\":{\"color\":\"#2a3f5f\"},\"hovermode\":\"closest\",\"hoverlabel\":{\"align\":\"left\"},\"paper_bgcolor\":\"white\",\"plot_bgcolor\":\"#E5ECF6\",\"polar\":{\"bgcolor\":\"#E5ECF6\",\"angularaxis\":{\"gridcolor\":\"white\",\"linecolor\":\"white\",\"ticks\":\"\"},\"radialaxis\":{\"gridcolor\":\"white\",\"linecolor\":\"white\",\"ticks\":\"\"}},\"ternary\":{\"bgcolor\":\"#E5ECF6\",\"aaxis\":{\"gridcolor\":\"white\",\"linecolor\":\"white\",\"ticks\":\"\"},\"baxis\":{\"gridcolor\":\"white\",\"linecolor\":\"white\",\"ticks\":\"\"},\"caxis\":{\"gridcolor\":\"white\",\"linecolor\":\"white\",\"ticks\":\"\"}},\"coloraxis\":{\"colorbar\":{\"outlinewidth\":0,\"ticks\":\"\"}},\"colorscale\":{\"sequential\":[[0.0,\"#0d0887\"],[0.1111111111111111,\"#46039f\"],[0.2222222222222222,\"#7201a8\"],[0.3333333333333333,\"#9c179e\"],[0.4444444444444444,\"#bd3786\"],[0.5555555555555556,\"#d8576b\"],[0.6666666666666666,\"#ed7953\"],[0.7777777777777778,\"#fb9f3a\"],[0.8888888888888888,\"#fdca26\"],[1.0,\"#f0f921\"]],\"sequentialminus\":[[0.0,\"#0d0887\"],[0.1111111111111111,\"#46039f\"],[0.2222222222222222,\"#7201a8\"],[0.3333333333333333,\"#9c179e\"],[0.4444444444444444,\"#bd3786\"],[0.5555555555555556,\"#d8576b\"],[0.6666666666666666,\"#ed7953\"],[0.7777777777777778,\"#fb9f3a\"],[0.8888888888888888,\"#fdca26\"],[1.0,\"#f0f921\"]],\"diverging\":[[0,\"#8e0152\"],[0.1,\"#c51b7d\"],[0.2,\"#de77ae\"],[0.3,\"#f1b6da\"],[0.4,\"#fde0ef\"],[0.5,\"#f7f7f7\"],[0.6,\"#e6f5d0\"],[0.7,\"#b8e186\"],[0.8,\"#7fbc41\"],[0.9,\"#4d9221\"],[1,\"#276419\"]]},\"xaxis\":{\"gridcolor\":\"white\",\"linecolor\":\"white\",\"ticks\":\"\",\"title\":{\"standoff\":15},\"zerolinecolor\":\"white\",\"automargin\":true,\"zerolinewidth\":2},\"yaxis\":{\"gridcolor\":\"white\",\"linecolor\":\"white\",\"ticks\":\"\",\"title\":{\"standoff\":15},\"zerolinecolor\":\"white\",\"automargin\":true,\"zerolinewidth\":2},\"scene\":{\"xaxis\":{\"backgroundcolor\":\"#E5ECF6\",\"gridcolor\":\"white\",\"linecolor\":\"white\",\"showbackground\":true,\"ticks\":\"\",\"zerolinecolor\":\"white\",\"gridwidth\":2},\"yaxis\":{\"backgroundcolor\":\"#E5ECF6\",\"gridcolor\":\"white\",\"linecolor\":\"white\",\"showbackground\":true,\"ticks\":\"\",\"zerolinecolor\":\"white\",\"gridwidth\":2},\"zaxis\":{\"backgroundcolor\":\"#E5ECF6\",\"gridcolor\":\"white\",\"linecolor\":\"white\",\"showbackground\":true,\"ticks\":\"\",\"zerolinecolor\":\"white\",\"gridwidth\":2}},\"shapedefaults\":{\"line\":{\"color\":\"#2a3f5f\"}},\"annotationdefaults\":{\"arrowcolor\":\"#2a3f5f\",\"arrowhead\":0,\"arrowwidth\":1},\"geo\":{\"bgcolor\":\"white\",\"landcolor\":\"#E5ECF6\",\"subunitcolor\":\"white\",\"showland\":true,\"showlakes\":true,\"lakecolor\":\"white\"},\"title\":{\"x\":0.05},\"mapbox\":{\"style\":\"light\"}}},\"legend\":{\"tracegroupgap\":0},\"title\":{\"text\":\"Climate Mitigation Amount by Sector\"}},                        {\"responsive\": true}                    ).then(function(){\n",
       "                            \n",
       "var gd = document.getElementById('59e2384c-2bca-42fc-93f0-4a80a24a92df');\n",
       "var x = new MutationObserver(function (mutations, observer) {{\n",
       "        var display = window.getComputedStyle(gd).display;\n",
       "        if (!display || display === 'none') {{\n",
       "            console.log([gd, 'removed!']);\n",
       "            Plotly.purge(gd);\n",
       "            observer.disconnect();\n",
       "        }}\n",
       "}});\n",
       "\n",
       "// Listen for the removal of the full notebook cells\n",
       "var notebookContainer = gd.closest('#notebook-container');\n",
       "if (notebookContainer) {{\n",
       "    x.observe(notebookContainer, {childList: true});\n",
       "}}\n",
       "\n",
       "// Listen for the clearing of the current output cell\n",
       "var outputEl = gd.closest('.output');\n",
       "if (outputEl) {{\n",
       "    x.observe(outputEl, {childList: true});\n",
       "}}\n",
       "\n",
       "                        })                };                });            </script>        </div>"
      ]
     },
     "metadata": {},
     "output_type": "display_data"
    }
   ],
   "source": [
    "clim_miti_fig = px.sunburst(filtered_year_df, path=['Sector'], values=f'clim_miti_amount_{year}', title='Climate Mitigation Amount by Sector')\n",
    "clim_miti_fig.show()\n"
   ]
  },
  {
   "cell_type": "markdown",
   "id": "02396960",
   "metadata": {},
   "source": [
    "## By Country"
   ]
  },
  {
   "cell_type": "code",
   "execution_count": 235,
   "id": "950fceed",
   "metadata": {},
   "outputs": [
    {
     "data": {
      "text/html": [
       "<div>\n",
       "<style scoped>\n",
       "    .dataframe tbody tr th:only-of-type {\n",
       "        vertical-align: middle;\n",
       "    }\n",
       "\n",
       "    .dataframe tbody tr th {\n",
       "        vertical-align: top;\n",
       "    }\n",
       "\n",
       "    .dataframe thead th {\n",
       "        text-align: right;\n",
       "    }\n",
       "</style>\n",
       "<table border=\"1\" class=\"dataframe\">\n",
       "  <thead>\n",
       "    <tr style=\"text-align: right;\">\n",
       "      <th></th>\n",
       "      <th>Recipient Name</th>\n",
       "      <th>Amount</th>\n",
       "      <th>Climate Mitigation</th>\n",
       "      <th>Climate Adaptation</th>\n",
       "      <th>Sector</th>\n",
       "      <th>clim_rel</th>\n",
       "      <th>clim_rel_amount</th>\n",
       "      <th>clim_adapt_amount</th>\n",
       "      <th>clim_miti_amount</th>\n",
       "    </tr>\n",
       "  </thead>\n",
       "  <tbody>\n",
       "    <tr>\n",
       "      <th>276</th>\n",
       "      <td>Egypt</td>\n",
       "      <td>0.807941</td>\n",
       "      <td>0.0</td>\n",
       "      <td>0.0</td>\n",
       "      <td>IV.1. General Environment Protection</td>\n",
       "      <td>0.0</td>\n",
       "      <td>0.000000</td>\n",
       "      <td>0.0</td>\n",
       "      <td>0.000000</td>\n",
       "    </tr>\n",
       "    <tr>\n",
       "      <th>277</th>\n",
       "      <td>Egypt</td>\n",
       "      <td>0.041383</td>\n",
       "      <td>0.0</td>\n",
       "      <td>0.0</td>\n",
       "      <td>IV.1. General Environment Protection</td>\n",
       "      <td>0.0</td>\n",
       "      <td>0.000000</td>\n",
       "      <td>0.0</td>\n",
       "      <td>0.000000</td>\n",
       "    </tr>\n",
       "    <tr>\n",
       "      <th>278</th>\n",
       "      <td>Egypt</td>\n",
       "      <td>2.600523</td>\n",
       "      <td>1.0</td>\n",
       "      <td>0.0</td>\n",
       "      <td>IV.1. General Environment Protection</td>\n",
       "      <td>0.5</td>\n",
       "      <td>1.300261</td>\n",
       "      <td>0.0</td>\n",
       "      <td>1.300261</td>\n",
       "    </tr>\n",
       "    <tr>\n",
       "      <th>280</th>\n",
       "      <td>Egypt</td>\n",
       "      <td>0.217925</td>\n",
       "      <td>0.0</td>\n",
       "      <td>0.0</td>\n",
       "      <td>IV.2. Other Multisector</td>\n",
       "      <td>0.0</td>\n",
       "      <td>0.000000</td>\n",
       "      <td>0.0</td>\n",
       "      <td>0.000000</td>\n",
       "    </tr>\n",
       "    <tr>\n",
       "      <th>317</th>\n",
       "      <td>Egypt</td>\n",
       "      <td>0.021100</td>\n",
       "      <td>0.0</td>\n",
       "      <td>0.0</td>\n",
       "      <td>IV.2. Other Multisector</td>\n",
       "      <td>0.0</td>\n",
       "      <td>0.000000</td>\n",
       "      <td>0.0</td>\n",
       "      <td>0.000000</td>\n",
       "    </tr>\n",
       "    <tr>\n",
       "      <th>...</th>\n",
       "      <td>...</td>\n",
       "      <td>...</td>\n",
       "      <td>...</td>\n",
       "      <td>...</td>\n",
       "      <td>...</td>\n",
       "      <td>...</td>\n",
       "      <td>...</td>\n",
       "      <td>...</td>\n",
       "      <td>...</td>\n",
       "    </tr>\n",
       "    <tr>\n",
       "      <th>12164</th>\n",
       "      <td>Syrian Arab Republic</td>\n",
       "      <td>0.011091</td>\n",
       "      <td>0.0</td>\n",
       "      <td>0.0</td>\n",
       "      <td>IV.2. Other Multisector</td>\n",
       "      <td>0.0</td>\n",
       "      <td>0.000000</td>\n",
       "      <td>0.0</td>\n",
       "      <td>0.000000</td>\n",
       "    </tr>\n",
       "    <tr>\n",
       "      <th>12165</th>\n",
       "      <td>West Bank and Gaza Strip</td>\n",
       "      <td>0.055108</td>\n",
       "      <td>0.0</td>\n",
       "      <td>0.0</td>\n",
       "      <td>IV.2. Other Multisector</td>\n",
       "      <td>0.0</td>\n",
       "      <td>0.000000</td>\n",
       "      <td>0.0</td>\n",
       "      <td>0.000000</td>\n",
       "    </tr>\n",
       "    <tr>\n",
       "      <th>12173</th>\n",
       "      <td>Yemen</td>\n",
       "      <td>0.010539</td>\n",
       "      <td>0.0</td>\n",
       "      <td>0.0</td>\n",
       "      <td>IV.2. Other Multisector</td>\n",
       "      <td>0.0</td>\n",
       "      <td>0.000000</td>\n",
       "      <td>0.0</td>\n",
       "      <td>0.000000</td>\n",
       "    </tr>\n",
       "    <tr>\n",
       "      <th>12174</th>\n",
       "      <td>Middle East, regional</td>\n",
       "      <td>0.029859</td>\n",
       "      <td>0.0</td>\n",
       "      <td>0.0</td>\n",
       "      <td>IV.2. Other Multisector</td>\n",
       "      <td>0.0</td>\n",
       "      <td>0.000000</td>\n",
       "      <td>0.0</td>\n",
       "      <td>0.000000</td>\n",
       "    </tr>\n",
       "    <tr>\n",
       "      <th>12175</th>\n",
       "      <td>South America, regional</td>\n",
       "      <td>0.094353</td>\n",
       "      <td>0.0</td>\n",
       "      <td>0.0</td>\n",
       "      <td>IV.2. Other Multisector</td>\n",
       "      <td>0.0</td>\n",
       "      <td>0.000000</td>\n",
       "      <td>0.0</td>\n",
       "      <td>0.000000</td>\n",
       "    </tr>\n",
       "  </tbody>\n",
       "</table>\n",
       "<p>5968 rows × 9 columns</p>\n",
       "</div>"
      ],
      "text/plain": [
       "                 Recipient Name    Amount  Climate Mitigation  \\\n",
       "276                       Egypt  0.807941                 0.0   \n",
       "277                       Egypt  0.041383                 0.0   \n",
       "278                       Egypt  2.600523                 1.0   \n",
       "280                       Egypt  0.217925                 0.0   \n",
       "317                       Egypt  0.021100                 0.0   \n",
       "...                         ...       ...                 ...   \n",
       "12164      Syrian Arab Republic  0.011091                 0.0   \n",
       "12165  West Bank and Gaza Strip  0.055108                 0.0   \n",
       "12173                     Yemen  0.010539                 0.0   \n",
       "12174     Middle East, regional  0.029859                 0.0   \n",
       "12175   South America, regional  0.094353                 0.0   \n",
       "\n",
       "       Climate Adaptation                                Sector  clim_rel  \\\n",
       "276                   0.0  IV.1. General Environment Protection       0.0   \n",
       "277                   0.0  IV.1. General Environment Protection       0.0   \n",
       "278                   0.0  IV.1. General Environment Protection       0.5   \n",
       "280                   0.0               IV.2. Other Multisector       0.0   \n",
       "317                   0.0               IV.2. Other Multisector       0.0   \n",
       "...                   ...                                   ...       ...   \n",
       "12164                 0.0               IV.2. Other Multisector       0.0   \n",
       "12165                 0.0               IV.2. Other Multisector       0.0   \n",
       "12173                 0.0               IV.2. Other Multisector       0.0   \n",
       "12174                 0.0               IV.2. Other Multisector       0.0   \n",
       "12175                 0.0               IV.2. Other Multisector       0.0   \n",
       "\n",
       "       clim_rel_amount  clim_adapt_amount  clim_miti_amount  \n",
       "276           0.000000                0.0          0.000000  \n",
       "277           0.000000                0.0          0.000000  \n",
       "278           1.300261                0.0          1.300261  \n",
       "280           0.000000                0.0          0.000000  \n",
       "317           0.000000                0.0          0.000000  \n",
       "...                ...                ...               ...  \n",
       "12164         0.000000                0.0          0.000000  \n",
       "12165         0.000000                0.0          0.000000  \n",
       "12173         0.000000                0.0          0.000000  \n",
       "12174         0.000000                0.0          0.000000  \n",
       "12175         0.000000                0.0          0.000000  \n",
       "\n",
       "[5968 rows x 9 columns]"
      ]
     },
     "execution_count": 235,
     "metadata": {},
     "output_type": "execute_result"
    }
   ],
   "source": [
    "use_df"
   ]
  },
  {
   "cell_type": "code",
   "execution_count": 249,
   "id": "996d155b",
   "metadata": {},
   "outputs": [],
   "source": [
    "def determine_value(row):\n",
    "    if 2.0 in row[['Climate Adaptation', 'Climate Mitigation']].values:\n",
    "        return 1\n",
    "    elif row['Climate Adaptation'] == 1.0 and row['Climate Mitigation'] == 1.0:\n",
    "        return 1\n",
    "    elif 1.0 in row[['Climate Adaptation', 'Climate Mitigation']].values:\n",
    "        return 0.5\n",
    "    else:\n",
    "        return 0\n",
    "\n",
    "# final_dict = dictionary_df.copy()    \n",
    "processed_grouped_dfs = []\n",
    "\n",
    "    \n",
    "for year, df in dictionary_df.items():\n",
    "    \n",
    "    # Data Cleaning\n",
    "    use_df = df[['Recipient Name', 'Amount', 'Climate Mitigation', 'Climate Adaptation', 'Sector']]\n",
    "    use_df['Climate Adaptation'] = use_df['Climate Adaptation'].fillna(0)\n",
    "    use_df['Climate Mitigation'] = use_df['Climate Mitigation'].fillna(0)\n",
    "    \n",
    "    # Applying analysis Rules\n",
    "    \n",
    "    use_df['clim_rel'] = use_df.apply(determine_value, axis=1)\n",
    "    \n",
    "    use_df['clim_rel_amount'] = use_df['Amount'] * use_df['clim_rel']\n",
    "    use_df['clim_adapt_amount'] = use_df['Amount'] * (use_df['Climate Adaptation'] / 2)\n",
    "    use_df['clim_miti_amount'] = use_df['Amount'] * (use_df['Climate Mitigation'] / 2)\n",
    "    \n",
    "    \n",
    "    # Grouping by Country and calculating\n",
    "    \n",
    "    grouped_df = use_df.groupby(['Sector', 'Recipient Name']).sum()[['Amount','clim_rel_amount', 'clim_adapt_amount', 'clim_miti_amount']]\n",
    "    \n",
    "    grouped_df['non_miti_adapt'] =grouped_df['Amount'] - (grouped_df['clim_miti_amount'] + grouped_df['clim_adapt_amount'])\n",
    "    grouped_df['non_clim'] =grouped_df['Amount'] - grouped_df['clim_rel_amount']\n",
    "    \n",
    "        \n",
    "    grouped_df = grouped_df.rename(columns= {\n",
    "        'Amount': f\"amount_{year}\",\n",
    "        'non_miti_adapt': f\"non_miti_adapt_{year}\",\n",
    "        'clim_rel_amount': f\"clim_rel_amount_{year}\",\n",
    "        'non_clim': f\"non_clim_{year}\",\n",
    "        'clim_adapt_amount': f\"clim_adapt_amount_{year}\",\n",
    "        'clim_miti_amount': f\"clim_miti_amount_{year}\"\n",
    "    })\n",
    "    \n",
    "    # Merging DF\n",
    "    \n",
    "    processed_grouped_dfs.append(grouped_df)\n",
    "    \n",
    "\n"
   ]
  },
  {
   "cell_type": "code",
   "execution_count": 251,
   "id": "469de8ae",
   "metadata": {},
   "outputs": [
    {
     "data": {
      "text/html": [
       "<div>\n",
       "<style scoped>\n",
       "    .dataframe tbody tr th:only-of-type {\n",
       "        vertical-align: middle;\n",
       "    }\n",
       "\n",
       "    .dataframe tbody tr th {\n",
       "        vertical-align: top;\n",
       "    }\n",
       "\n",
       "    .dataframe thead th {\n",
       "        text-align: right;\n",
       "    }\n",
       "</style>\n",
       "<table border=\"1\" class=\"dataframe\">\n",
       "  <thead>\n",
       "    <tr style=\"text-align: right;\">\n",
       "      <th></th>\n",
       "      <th></th>\n",
       "      <th>amount_2013</th>\n",
       "      <th>clim_rel_amount_2013</th>\n",
       "      <th>clim_adapt_amount_2013</th>\n",
       "      <th>clim_miti_amount_2013</th>\n",
       "      <th>non_miti_adapt_2013</th>\n",
       "      <th>non_clim_2013</th>\n",
       "    </tr>\n",
       "    <tr>\n",
       "      <th>Sector</th>\n",
       "      <th>Recipient Name</th>\n",
       "      <th></th>\n",
       "      <th></th>\n",
       "      <th></th>\n",
       "      <th></th>\n",
       "      <th></th>\n",
       "      <th></th>\n",
       "    </tr>\n",
       "  </thead>\n",
       "  <tbody>\n",
       "    <tr>\n",
       "      <th rowspan=\"5\" valign=\"top\">I.1.a. Education, Level Unspecified</th>\n",
       "      <th>Afghanistan</th>\n",
       "      <td>0.020691</td>\n",
       "      <td>0.000000</td>\n",
       "      <td>0.000000</td>\n",
       "      <td>0.000000</td>\n",
       "      <td>0.020691</td>\n",
       "      <td>0.020691</td>\n",
       "    </tr>\n",
       "    <tr>\n",
       "      <th>Africa, regional</th>\n",
       "      <td>2.571572</td>\n",
       "      <td>0.000000</td>\n",
       "      <td>0.000000</td>\n",
       "      <td>0.000000</td>\n",
       "      <td>2.571572</td>\n",
       "      <td>2.571572</td>\n",
       "    </tr>\n",
       "    <tr>\n",
       "      <th>America, regional</th>\n",
       "      <td>2.482967</td>\n",
       "      <td>0.000000</td>\n",
       "      <td>0.000000</td>\n",
       "      <td>0.000000</td>\n",
       "      <td>2.482967</td>\n",
       "      <td>2.482967</td>\n",
       "    </tr>\n",
       "    <tr>\n",
       "      <th>Asia, regional</th>\n",
       "      <td>4.524518</td>\n",
       "      <td>2.262259</td>\n",
       "      <td>2.262259</td>\n",
       "      <td>0.000000</td>\n",
       "      <td>2.262259</td>\n",
       "      <td>2.262259</td>\n",
       "    </tr>\n",
       "    <tr>\n",
       "      <th>Belarus</th>\n",
       "      <td>0.015519</td>\n",
       "      <td>0.000000</td>\n",
       "      <td>0.000000</td>\n",
       "      <td>0.000000</td>\n",
       "      <td>0.015519</td>\n",
       "      <td>0.015519</td>\n",
       "    </tr>\n",
       "    <tr>\n",
       "      <th>...</th>\n",
       "      <th>...</th>\n",
       "      <td>...</td>\n",
       "      <td>...</td>\n",
       "      <td>...</td>\n",
       "      <td>...</td>\n",
       "      <td>...</td>\n",
       "      <td>...</td>\n",
       "    </tr>\n",
       "    <tr>\n",
       "      <th rowspan=\"5\" valign=\"top\">VIII.3. Disaster Prevention &amp; Preparedness</th>\n",
       "      <th>Pakistan</th>\n",
       "      <td>0.758688</td>\n",
       "      <td>0.758688</td>\n",
       "      <td>0.379344</td>\n",
       "      <td>0.379344</td>\n",
       "      <td>0.000000</td>\n",
       "      <td>0.000000</td>\n",
       "    </tr>\n",
       "    <tr>\n",
       "      <th>Philippines</th>\n",
       "      <td>0.187683</td>\n",
       "      <td>0.090172</td>\n",
       "      <td>0.090172</td>\n",
       "      <td>0.000000</td>\n",
       "      <td>0.097512</td>\n",
       "      <td>0.097512</td>\n",
       "    </tr>\n",
       "    <tr>\n",
       "      <th>Somalia</th>\n",
       "      <td>0.758685</td>\n",
       "      <td>0.758685</td>\n",
       "      <td>0.758685</td>\n",
       "      <td>0.000000</td>\n",
       "      <td>0.000000</td>\n",
       "      <td>0.000000</td>\n",
       "    </tr>\n",
       "    <tr>\n",
       "      <th>West Bank and Gaza Strip</th>\n",
       "      <td>0.386239</td>\n",
       "      <td>0.193119</td>\n",
       "      <td>0.193119</td>\n",
       "      <td>0.000000</td>\n",
       "      <td>0.193119</td>\n",
       "      <td>0.193119</td>\n",
       "    </tr>\n",
       "    <tr>\n",
       "      <th>Yemen</th>\n",
       "      <td>0.178599</td>\n",
       "      <td>0.000000</td>\n",
       "      <td>0.000000</td>\n",
       "      <td>0.000000</td>\n",
       "      <td>0.178599</td>\n",
       "      <td>0.178599</td>\n",
       "    </tr>\n",
       "  </tbody>\n",
       "</table>\n",
       "<p>1393 rows × 6 columns</p>\n",
       "</div>"
      ],
      "text/plain": [
       "                                                                     amount_2013  \\\n",
       "Sector                                     Recipient Name                          \n",
       "I.1.a. Education, Level Unspecified        Afghanistan                  0.020691   \n",
       "                                           Africa, regional             2.571572   \n",
       "                                           America, regional            2.482967   \n",
       "                                           Asia, regional               4.524518   \n",
       "                                           Belarus                      0.015519   \n",
       "...                                                                          ...   \n",
       "VIII.3. Disaster Prevention & Preparedness Pakistan                     0.758688   \n",
       "                                           Philippines                  0.187683   \n",
       "                                           Somalia                      0.758685   \n",
       "                                           West Bank and Gaza Strip     0.386239   \n",
       "                                           Yemen                        0.178599   \n",
       "\n",
       "                                                                     clim_rel_amount_2013  \\\n",
       "Sector                                     Recipient Name                                   \n",
       "I.1.a. Education, Level Unspecified        Afghanistan                           0.000000   \n",
       "                                           Africa, regional                      0.000000   \n",
       "                                           America, regional                     0.000000   \n",
       "                                           Asia, regional                        2.262259   \n",
       "                                           Belarus                               0.000000   \n",
       "...                                                                                   ...   \n",
       "VIII.3. Disaster Prevention & Preparedness Pakistan                              0.758688   \n",
       "                                           Philippines                           0.090172   \n",
       "                                           Somalia                               0.758685   \n",
       "                                           West Bank and Gaza Strip              0.193119   \n",
       "                                           Yemen                                 0.000000   \n",
       "\n",
       "                                                                     clim_adapt_amount_2013  \\\n",
       "Sector                                     Recipient Name                                     \n",
       "I.1.a. Education, Level Unspecified        Afghanistan                             0.000000   \n",
       "                                           Africa, regional                        0.000000   \n",
       "                                           America, regional                       0.000000   \n",
       "                                           Asia, regional                          2.262259   \n",
       "                                           Belarus                                 0.000000   \n",
       "...                                                                                     ...   \n",
       "VIII.3. Disaster Prevention & Preparedness Pakistan                                0.379344   \n",
       "                                           Philippines                             0.090172   \n",
       "                                           Somalia                                 0.758685   \n",
       "                                           West Bank and Gaza Strip                0.193119   \n",
       "                                           Yemen                                   0.000000   \n",
       "\n",
       "                                                                     clim_miti_amount_2013  \\\n",
       "Sector                                     Recipient Name                                    \n",
       "I.1.a. Education, Level Unspecified        Afghanistan                            0.000000   \n",
       "                                           Africa, regional                       0.000000   \n",
       "                                           America, regional                      0.000000   \n",
       "                                           Asia, regional                         0.000000   \n",
       "                                           Belarus                                0.000000   \n",
       "...                                                                                    ...   \n",
       "VIII.3. Disaster Prevention & Preparedness Pakistan                               0.379344   \n",
       "                                           Philippines                            0.000000   \n",
       "                                           Somalia                                0.000000   \n",
       "                                           West Bank and Gaza Strip               0.000000   \n",
       "                                           Yemen                                  0.000000   \n",
       "\n",
       "                                                                     non_miti_adapt_2013  \\\n",
       "Sector                                     Recipient Name                                  \n",
       "I.1.a. Education, Level Unspecified        Afghanistan                          0.020691   \n",
       "                                           Africa, regional                     2.571572   \n",
       "                                           America, regional                    2.482967   \n",
       "                                           Asia, regional                       2.262259   \n",
       "                                           Belarus                              0.015519   \n",
       "...                                                                                  ...   \n",
       "VIII.3. Disaster Prevention & Preparedness Pakistan                             0.000000   \n",
       "                                           Philippines                          0.097512   \n",
       "                                           Somalia                              0.000000   \n",
       "                                           West Bank and Gaza Strip             0.193119   \n",
       "                                           Yemen                                0.178599   \n",
       "\n",
       "                                                                     non_clim_2013  \n",
       "Sector                                     Recipient Name                           \n",
       "I.1.a. Education, Level Unspecified        Afghanistan                    0.020691  \n",
       "                                           Africa, regional               2.571572  \n",
       "                                           America, regional              2.482967  \n",
       "                                           Asia, regional                 2.262259  \n",
       "                                           Belarus                        0.015519  \n",
       "...                                                                            ...  \n",
       "VIII.3. Disaster Prevention & Preparedness Pakistan                       0.000000  \n",
       "                                           Philippines                    0.097512  \n",
       "                                           Somalia                        0.000000  \n",
       "                                           West Bank and Gaza Strip       0.193119  \n",
       "                                           Yemen                          0.178599  \n",
       "\n",
       "[1393 rows x 6 columns]"
      ]
     },
     "execution_count": 251,
     "metadata": {},
     "output_type": "execute_result"
    }
   ],
   "source": [
    "processed_grouped_dfs[0]"
   ]
  },
  {
   "cell_type": "code",
   "execution_count": 252,
   "id": "1987c233",
   "metadata": {},
   "outputs": [],
   "source": [
    "df_merged = reduce(lambda left, right: pd.merge(left, right, on=['Sector', 'Recipient Name'], how='outer'), processed_grouped_dfs)\n"
   ]
  },
  {
   "cell_type": "code",
   "execution_count": 255,
   "id": "5498b382",
   "metadata": {},
   "outputs": [],
   "source": [
    "df_merged.to_csv('../upload_data/country_sector_analysis.csv')\n",
    "\n",
    "df_merged = pd.read_csv('../upload_data/country_sector_analysis.csv')"
   ]
  },
  {
   "cell_type": "code",
   "execution_count": 257,
   "id": "f7bf9c43",
   "metadata": {},
   "outputs": [],
   "source": [
    "year = 2013\n",
    "country = 'Afghanistan'\n",
    "\n",
    "selected_year = [col for col in df_merged.columns if col.endswith(f'{year}')]\n",
    "selected_year.append('Sector')\n",
    "df_merged = df_merged[df_merged['Recipient Name'] == country]\n",
    "filtered_year_df = df_merged[selected_year]"
   ]
  },
  {
   "cell_type": "code",
   "execution_count": 258,
   "id": "faab52ab",
   "metadata": {},
   "outputs": [
    {
     "data": {
      "text/html": [
       "<div>\n",
       "<style scoped>\n",
       "    .dataframe tbody tr th:only-of-type {\n",
       "        vertical-align: middle;\n",
       "    }\n",
       "\n",
       "    .dataframe tbody tr th {\n",
       "        vertical-align: top;\n",
       "    }\n",
       "\n",
       "    .dataframe thead th {\n",
       "        text-align: right;\n",
       "    }\n",
       "</style>\n",
       "<table border=\"1\" class=\"dataframe\">\n",
       "  <thead>\n",
       "    <tr style=\"text-align: right;\">\n",
       "      <th></th>\n",
       "      <th>amount_2013</th>\n",
       "      <th>clim_rel_amount_2013</th>\n",
       "      <th>clim_adapt_amount_2013</th>\n",
       "      <th>clim_miti_amount_2013</th>\n",
       "      <th>non_miti_adapt_2013</th>\n",
       "      <th>non_clim_2013</th>\n",
       "      <th>Sector</th>\n",
       "    </tr>\n",
       "  </thead>\n",
       "  <tbody>\n",
       "    <tr>\n",
       "      <th>0</th>\n",
       "      <td>0.020691</td>\n",
       "      <td>0.000000</td>\n",
       "      <td>0.000000</td>\n",
       "      <td>0.000000</td>\n",
       "      <td>0.020691</td>\n",
       "      <td>0.020691</td>\n",
       "      <td>I.1.a. Education, Level Unspecified</td>\n",
       "    </tr>\n",
       "    <tr>\n",
       "      <th>48</th>\n",
       "      <td>35.795844</td>\n",
       "      <td>0.000000</td>\n",
       "      <td>0.000000</td>\n",
       "      <td>0.000000</td>\n",
       "      <td>35.795844</td>\n",
       "      <td>35.795844</td>\n",
       "      <td>I.1.b. Basic Education</td>\n",
       "    </tr>\n",
       "    <tr>\n",
       "      <th>116</th>\n",
       "      <td>22.151253</td>\n",
       "      <td>1.888354</td>\n",
       "      <td>0.944177</td>\n",
       "      <td>0.944177</td>\n",
       "      <td>20.262899</td>\n",
       "      <td>20.262899</td>\n",
       "      <td>I.1.c. Secondary Education</td>\n",
       "    </tr>\n",
       "    <tr>\n",
       "      <th>221</th>\n",
       "      <td>1.293674</td>\n",
       "      <td>0.000000</td>\n",
       "      <td>0.000000</td>\n",
       "      <td>0.000000</td>\n",
       "      <td>1.293674</td>\n",
       "      <td>1.293674</td>\n",
       "      <td>I.2.a. Health, General</td>\n",
       "    </tr>\n",
       "    <tr>\n",
       "      <th>267</th>\n",
       "      <td>0.904807</td>\n",
       "      <td>0.000000</td>\n",
       "      <td>0.000000</td>\n",
       "      <td>0.000000</td>\n",
       "      <td>0.904807</td>\n",
       "      <td>0.904807</td>\n",
       "      <td>I.2.b. Basic Health</td>\n",
       "    </tr>\n",
       "    <tr>\n",
       "      <th>322</th>\n",
       "      <td>0.693010</td>\n",
       "      <td>0.000000</td>\n",
       "      <td>0.000000</td>\n",
       "      <td>0.000000</td>\n",
       "      <td>0.693010</td>\n",
       "      <td>0.693010</td>\n",
       "      <td>I.3. Population Policies/Programmes &amp; Reproduc...</td>\n",
       "    </tr>\n",
       "    <tr>\n",
       "      <th>383</th>\n",
       "      <td>22.726831</td>\n",
       "      <td>3.212090</td>\n",
       "      <td>3.212090</td>\n",
       "      <td>0.000000</td>\n",
       "      <td>19.514740</td>\n",
       "      <td>19.514740</td>\n",
       "      <td>I.4. Water Supply &amp; Sanitation</td>\n",
       "    </tr>\n",
       "    <tr>\n",
       "      <th>456</th>\n",
       "      <td>54.185554</td>\n",
       "      <td>0.000000</td>\n",
       "      <td>0.000000</td>\n",
       "      <td>0.000000</td>\n",
       "      <td>54.185554</td>\n",
       "      <td>54.185554</td>\n",
       "      <td>I.5.a. Government &amp; Civil Society-general</td>\n",
       "    </tr>\n",
       "    <tr>\n",
       "      <th>562</th>\n",
       "      <td>13.003176</td>\n",
       "      <td>0.000000</td>\n",
       "      <td>0.000000</td>\n",
       "      <td>0.000000</td>\n",
       "      <td>13.003176</td>\n",
       "      <td>13.003176</td>\n",
       "      <td>I.5.b. Conflict, Peace &amp; Security</td>\n",
       "    </tr>\n",
       "    <tr>\n",
       "      <th>687</th>\n",
       "      <td>8.093760</td>\n",
       "      <td>0.000000</td>\n",
       "      <td>0.000000</td>\n",
       "      <td>0.000000</td>\n",
       "      <td>8.093760</td>\n",
       "      <td>8.093760</td>\n",
       "      <td>II.1. Transport &amp; Storage</td>\n",
       "    </tr>\n",
       "    <tr>\n",
       "      <th>734</th>\n",
       "      <td>8.407350</td>\n",
       "      <td>7.862638</td>\n",
       "      <td>0.000000</td>\n",
       "      <td>7.862638</td>\n",
       "      <td>0.544713</td>\n",
       "      <td>0.544713</td>\n",
       "      <td>II.3.b. Energy generation, renewable sources</td>\n",
       "    </tr>\n",
       "    <tr>\n",
       "      <th>779</th>\n",
       "      <td>5.081792</td>\n",
       "      <td>0.000000</td>\n",
       "      <td>0.000000</td>\n",
       "      <td>0.000000</td>\n",
       "      <td>5.081792</td>\n",
       "      <td>5.081792</td>\n",
       "      <td>II.3.f. Energy distribution</td>\n",
       "    </tr>\n",
       "    <tr>\n",
       "      <th>924</th>\n",
       "      <td>3.597174</td>\n",
       "      <td>1.798587</td>\n",
       "      <td>1.757204</td>\n",
       "      <td>0.041383</td>\n",
       "      <td>1.798587</td>\n",
       "      <td>1.798587</td>\n",
       "      <td>III.1.a. Agriculture</td>\n",
       "    </tr>\n",
       "    <tr>\n",
       "      <th>1041</th>\n",
       "      <td>7.722966</td>\n",
       "      <td>0.000000</td>\n",
       "      <td>0.000000</td>\n",
       "      <td>0.000000</td>\n",
       "      <td>7.722966</td>\n",
       "      <td>7.722966</td>\n",
       "      <td>III.2.a. Industry</td>\n",
       "    </tr>\n",
       "    <tr>\n",
       "      <th>1066</th>\n",
       "      <td>0.304045</td>\n",
       "      <td>0.000000</td>\n",
       "      <td>0.000000</td>\n",
       "      <td>0.000000</td>\n",
       "      <td>0.304045</td>\n",
       "      <td>0.304045</td>\n",
       "      <td>III.2.b. Mineral Resources &amp; Mining</td>\n",
       "    </tr>\n",
       "    <tr>\n",
       "      <th>1076</th>\n",
       "      <td>0.057363</td>\n",
       "      <td>0.000000</td>\n",
       "      <td>0.000000</td>\n",
       "      <td>0.000000</td>\n",
       "      <td>0.057363</td>\n",
       "      <td>0.057363</td>\n",
       "      <td>III.3.a. Trade Policies &amp; Regulations</td>\n",
       "    </tr>\n",
       "    <tr>\n",
       "      <th>1167</th>\n",
       "      <td>29.462229</td>\n",
       "      <td>4.120642</td>\n",
       "      <td>0.058861</td>\n",
       "      <td>4.061781</td>\n",
       "      <td>25.341587</td>\n",
       "      <td>25.341587</td>\n",
       "      <td>IV.2. Other Multisector</td>\n",
       "    </tr>\n",
       "    <tr>\n",
       "      <th>1290</th>\n",
       "      <td>1.565779</td>\n",
       "      <td>0.000000</td>\n",
       "      <td>0.000000</td>\n",
       "      <td>0.000000</td>\n",
       "      <td>1.565779</td>\n",
       "      <td>1.565779</td>\n",
       "      <td>VI.2. Development Food Assistance</td>\n",
       "    </tr>\n",
       "    <tr>\n",
       "      <th>1321</th>\n",
       "      <td>0.769243</td>\n",
       "      <td>0.172021</td>\n",
       "      <td>0.172021</td>\n",
       "      <td>0.000000</td>\n",
       "      <td>0.597222</td>\n",
       "      <td>0.597222</td>\n",
       "      <td>VIII.1. Emergency Response</td>\n",
       "    </tr>\n",
       "    <tr>\n",
       "      <th>1342</th>\n",
       "      <td>14.041556</td>\n",
       "      <td>0.000000</td>\n",
       "      <td>0.000000</td>\n",
       "      <td>0.000000</td>\n",
       "      <td>14.041556</td>\n",
       "      <td>14.041556</td>\n",
       "      <td>VIII.2. Reconstruction Relief &amp; Rehabilitation</td>\n",
       "    </tr>\n",
       "    <tr>\n",
       "      <th>1479</th>\n",
       "      <td>NaN</td>\n",
       "      <td>NaN</td>\n",
       "      <td>NaN</td>\n",
       "      <td>NaN</td>\n",
       "      <td>NaN</td>\n",
       "      <td>NaN</td>\n",
       "      <td>II.4. Banking &amp; Financial Services</td>\n",
       "    </tr>\n",
       "    <tr>\n",
       "      <th>1488</th>\n",
       "      <td>NaN</td>\n",
       "      <td>NaN</td>\n",
       "      <td>NaN</td>\n",
       "      <td>NaN</td>\n",
       "      <td>NaN</td>\n",
       "      <td>NaN</td>\n",
       "      <td>II.5. Business &amp; Other Services</td>\n",
       "    </tr>\n",
       "    <tr>\n",
       "      <th>1621</th>\n",
       "      <td>NaN</td>\n",
       "      <td>NaN</td>\n",
       "      <td>NaN</td>\n",
       "      <td>NaN</td>\n",
       "      <td>NaN</td>\n",
       "      <td>NaN</td>\n",
       "      <td>II.3.a. Energy Policy</td>\n",
       "    </tr>\n",
       "    <tr>\n",
       "      <th>1768</th>\n",
       "      <td>NaN</td>\n",
       "      <td>NaN</td>\n",
       "      <td>NaN</td>\n",
       "      <td>NaN</td>\n",
       "      <td>NaN</td>\n",
       "      <td>NaN</td>\n",
       "      <td>IX. Unallocated / Unspecified</td>\n",
       "    </tr>\n",
       "    <tr>\n",
       "      <th>1894</th>\n",
       "      <td>NaN</td>\n",
       "      <td>NaN</td>\n",
       "      <td>NaN</td>\n",
       "      <td>NaN</td>\n",
       "      <td>NaN</td>\n",
       "      <td>NaN</td>\n",
       "      <td>II.2. Communications</td>\n",
       "    </tr>\n",
       "    <tr>\n",
       "      <th>2006</th>\n",
       "      <td>NaN</td>\n",
       "      <td>NaN</td>\n",
       "      <td>NaN</td>\n",
       "      <td>NaN</td>\n",
       "      <td>NaN</td>\n",
       "      <td>NaN</td>\n",
       "      <td>III.1.b. Forestry</td>\n",
       "    </tr>\n",
       "    <tr>\n",
       "      <th>2139</th>\n",
       "      <td>NaN</td>\n",
       "      <td>NaN</td>\n",
       "      <td>NaN</td>\n",
       "      <td>NaN</td>\n",
       "      <td>NaN</td>\n",
       "      <td>NaN</td>\n",
       "      <td>I.6. Other Social Infrastructure &amp; Services</td>\n",
       "    </tr>\n",
       "  </tbody>\n",
       "</table>\n",
       "</div>"
      ],
      "text/plain": [
       "      amount_2013  clim_rel_amount_2013  clim_adapt_amount_2013  \\\n",
       "0        0.020691              0.000000                0.000000   \n",
       "48      35.795844              0.000000                0.000000   \n",
       "116     22.151253              1.888354                0.944177   \n",
       "221      1.293674              0.000000                0.000000   \n",
       "267      0.904807              0.000000                0.000000   \n",
       "322      0.693010              0.000000                0.000000   \n",
       "383     22.726831              3.212090                3.212090   \n",
       "456     54.185554              0.000000                0.000000   \n",
       "562     13.003176              0.000000                0.000000   \n",
       "687      8.093760              0.000000                0.000000   \n",
       "734      8.407350              7.862638                0.000000   \n",
       "779      5.081792              0.000000                0.000000   \n",
       "924      3.597174              1.798587                1.757204   \n",
       "1041     7.722966              0.000000                0.000000   \n",
       "1066     0.304045              0.000000                0.000000   \n",
       "1076     0.057363              0.000000                0.000000   \n",
       "1167    29.462229              4.120642                0.058861   \n",
       "1290     1.565779              0.000000                0.000000   \n",
       "1321     0.769243              0.172021                0.172021   \n",
       "1342    14.041556              0.000000                0.000000   \n",
       "1479          NaN                   NaN                     NaN   \n",
       "1488          NaN                   NaN                     NaN   \n",
       "1621          NaN                   NaN                     NaN   \n",
       "1768          NaN                   NaN                     NaN   \n",
       "1894          NaN                   NaN                     NaN   \n",
       "2006          NaN                   NaN                     NaN   \n",
       "2139          NaN                   NaN                     NaN   \n",
       "\n",
       "      clim_miti_amount_2013  non_miti_adapt_2013  non_clim_2013  \\\n",
       "0                  0.000000             0.020691       0.020691   \n",
       "48                 0.000000            35.795844      35.795844   \n",
       "116                0.944177            20.262899      20.262899   \n",
       "221                0.000000             1.293674       1.293674   \n",
       "267                0.000000             0.904807       0.904807   \n",
       "322                0.000000             0.693010       0.693010   \n",
       "383                0.000000            19.514740      19.514740   \n",
       "456                0.000000            54.185554      54.185554   \n",
       "562                0.000000            13.003176      13.003176   \n",
       "687                0.000000             8.093760       8.093760   \n",
       "734                7.862638             0.544713       0.544713   \n",
       "779                0.000000             5.081792       5.081792   \n",
       "924                0.041383             1.798587       1.798587   \n",
       "1041               0.000000             7.722966       7.722966   \n",
       "1066               0.000000             0.304045       0.304045   \n",
       "1076               0.000000             0.057363       0.057363   \n",
       "1167               4.061781            25.341587      25.341587   \n",
       "1290               0.000000             1.565779       1.565779   \n",
       "1321               0.000000             0.597222       0.597222   \n",
       "1342               0.000000            14.041556      14.041556   \n",
       "1479                    NaN                  NaN            NaN   \n",
       "1488                    NaN                  NaN            NaN   \n",
       "1621                    NaN                  NaN            NaN   \n",
       "1768                    NaN                  NaN            NaN   \n",
       "1894                    NaN                  NaN            NaN   \n",
       "2006                    NaN                  NaN            NaN   \n",
       "2139                    NaN                  NaN            NaN   \n",
       "\n",
       "                                                 Sector  \n",
       "0                   I.1.a. Education, Level Unspecified  \n",
       "48                               I.1.b. Basic Education  \n",
       "116                          I.1.c. Secondary Education  \n",
       "221                              I.2.a. Health, General  \n",
       "267                                 I.2.b. Basic Health  \n",
       "322   I.3. Population Policies/Programmes & Reproduc...  \n",
       "383                      I.4. Water Supply & Sanitation  \n",
       "456           I.5.a. Government & Civil Society-general  \n",
       "562                   I.5.b. Conflict, Peace & Security  \n",
       "687                           II.1. Transport & Storage  \n",
       "734        II.3.b. Energy generation, renewable sources  \n",
       "779                         II.3.f. Energy distribution  \n",
       "924                                III.1.a. Agriculture  \n",
       "1041                                  III.2.a. Industry  \n",
       "1066                III.2.b. Mineral Resources & Mining  \n",
       "1076              III.3.a. Trade Policies & Regulations  \n",
       "1167                            IV.2. Other Multisector  \n",
       "1290                  VI.2. Development Food Assistance  \n",
       "1321                         VIII.1. Emergency Response  \n",
       "1342     VIII.2. Reconstruction Relief & Rehabilitation  \n",
       "1479                 II.4. Banking & Financial Services  \n",
       "1488                    II.5. Business & Other Services  \n",
       "1621                              II.3.a. Energy Policy  \n",
       "1768                      IX. Unallocated / Unspecified  \n",
       "1894                               II.2. Communications  \n",
       "2006                                  III.1.b. Forestry  \n",
       "2139        I.6. Other Social Infrastructure & Services  "
      ]
     },
     "execution_count": 258,
     "metadata": {},
     "output_type": "execute_result"
    }
   ],
   "source": [
    "filtered_year_df"
   ]
  },
  {
   "cell_type": "code",
   "execution_count": null,
   "id": "e4192492",
   "metadata": {},
   "outputs": [],
   "source": []
  },
  {
   "cell_type": "code",
   "execution_count": null,
   "id": "0306b709",
   "metadata": {},
   "outputs": [],
   "source": []
  },
  {
   "cell_type": "code",
   "execution_count": null,
   "id": "1866ef96",
   "metadata": {},
   "outputs": [],
   "source": []
  },
  {
   "cell_type": "code",
   "execution_count": null,
   "id": "110d8a3c",
   "metadata": {},
   "outputs": [],
   "source": []
  },
  {
   "cell_type": "code",
   "execution_count": null,
   "id": "cf016fb1",
   "metadata": {},
   "outputs": [],
   "source": []
  },
  {
   "cell_type": "code",
   "execution_count": null,
   "id": "62531b3c",
   "metadata": {},
   "outputs": [],
   "source": []
  },
  {
   "cell_type": "code",
   "execution_count": null,
   "id": "f0f6252a",
   "metadata": {},
   "outputs": [],
   "source": []
  },
  {
   "cell_type": "code",
   "execution_count": null,
   "id": "c51c06b3",
   "metadata": {},
   "outputs": [],
   "source": []
  },
  {
   "cell_type": "code",
   "execution_count": null,
   "id": "189b6203",
   "metadata": {},
   "outputs": [],
   "source": []
  },
  {
   "cell_type": "code",
   "execution_count": null,
   "id": "c2db320a",
   "metadata": {},
   "outputs": [],
   "source": []
  },
  {
   "cell_type": "code",
   "execution_count": null,
   "id": "a5985da9",
   "metadata": {},
   "outputs": [],
   "source": []
  },
  {
   "cell_type": "code",
   "execution_count": null,
   "id": "e8bbdab9",
   "metadata": {},
   "outputs": [],
   "source": []
  },
  {
   "cell_type": "code",
   "execution_count": 9,
   "id": "4de03de1",
   "metadata": {},
   "outputs": [
    {
     "data": {
      "text/html": [
       "<div>\n",
       "<style scoped>\n",
       "    .dataframe tbody tr th:only-of-type {\n",
       "        vertical-align: middle;\n",
       "    }\n",
       "\n",
       "    .dataframe tbody tr th {\n",
       "        vertical-align: top;\n",
       "    }\n",
       "\n",
       "    .dataframe thead th {\n",
       "        text-align: right;\n",
       "    }\n",
       "</style>\n",
       "<table border=\"1\" class=\"dataframe\">\n",
       "  <thead>\n",
       "    <tr style=\"text-align: right;\">\n",
       "      <th></th>\n",
       "      <th>Sector</th>\n",
       "      <th>SECTOR</th>\n",
       "    </tr>\n",
       "  </thead>\n",
       "  <tbody>\n",
       "    <tr>\n",
       "      <th>0</th>\n",
       "      <td>IV.1. General Environment Protection</td>\n",
       "      <td>41010</td>\n",
       "    </tr>\n",
       "    <tr>\n",
       "      <th>1</th>\n",
       "      <td>IV.1. General Environment Protection</td>\n",
       "      <td>41020</td>\n",
       "    </tr>\n",
       "    <tr>\n",
       "      <th>2</th>\n",
       "      <td>IV.2. Other Multisector</td>\n",
       "      <td>43010</td>\n",
       "    </tr>\n",
       "    <tr>\n",
       "      <th>3</th>\n",
       "      <td>IV.2. Other Multisector</td>\n",
       "      <td>43010</td>\n",
       "    </tr>\n",
       "    <tr>\n",
       "      <th>4</th>\n",
       "      <td>IV.2. Other Multisector</td>\n",
       "      <td>43030</td>\n",
       "    </tr>\n",
       "    <tr>\n",
       "      <th>...</th>\n",
       "      <td>...</td>\n",
       "      <td>...</td>\n",
       "    </tr>\n",
       "    <tr>\n",
       "      <th>12596</th>\n",
       "      <td>I.1.b. Basic Education</td>\n",
       "      <td>11230</td>\n",
       "    </tr>\n",
       "    <tr>\n",
       "      <th>12598</th>\n",
       "      <td>IV.2. Other Multisector</td>\n",
       "      <td>43010</td>\n",
       "    </tr>\n",
       "    <tr>\n",
       "      <th>12601</th>\n",
       "      <td>IV.2. Other Multisector</td>\n",
       "      <td>43010</td>\n",
       "    </tr>\n",
       "    <tr>\n",
       "      <th>12611</th>\n",
       "      <td>I.5.a. Government &amp; Civil Society-general</td>\n",
       "      <td>15110</td>\n",
       "    </tr>\n",
       "    <tr>\n",
       "      <th>12630</th>\n",
       "      <td>IV.2. Other Multisector</td>\n",
       "      <td>43010</td>\n",
       "    </tr>\n",
       "  </tbody>\n",
       "</table>\n",
       "<p>6570 rows × 2 columns</p>\n",
       "</div>"
      ],
      "text/plain": [
       "                                          Sector  SECTOR\n",
       "0           IV.1. General Environment Protection   41010\n",
       "1           IV.1. General Environment Protection   41020\n",
       "2                        IV.2. Other Multisector   43010\n",
       "3                        IV.2. Other Multisector   43010\n",
       "4                        IV.2. Other Multisector   43030\n",
       "...                                          ...     ...\n",
       "12596                     I.1.b. Basic Education   11230\n",
       "12598                    IV.2. Other Multisector   43010\n",
       "12601                    IV.2. Other Multisector   43010\n",
       "12611  I.5.a. Government & Civil Society-general   15110\n",
       "12630                    IV.2. Other Multisector   43010\n",
       "\n",
       "[6570 rows x 2 columns]"
      ]
     },
     "execution_count": 9,
     "metadata": {},
     "output_type": "execute_result"
    }
   ],
   "source": [
    "dictionary_df['2015'][['Sector', 'SECTOR']]"
   ]
  }
 ],
 "metadata": {
  "kernelspec": {
   "display_name": "Python 3 (ipykernel)",
   "language": "python",
   "name": "python3"
  },
  "language_info": {
   "codemirror_mode": {
    "name": "ipython",
    "version": 3
   },
   "file_extension": ".py",
   "mimetype": "text/x-python",
   "name": "python",
   "nbconvert_exporter": "python",
   "pygments_lexer": "ipython3",
   "version": "3.10.6"
  },
  "toc": {
   "base_numbering": 1,
   "nav_menu": {},
   "number_sections": true,
   "sideBar": true,
   "skip_h1_title": false,
   "title_cell": "Table of Contents",
   "title_sidebar": "Contents",
   "toc_cell": false,
   "toc_position": {},
   "toc_section_display": true,
   "toc_window_display": false
  },
  "varInspector": {
   "cols": {
    "lenName": 16,
    "lenType": 16,
    "lenVar": 40
   },
   "kernels_config": {
    "python": {
     "delete_cmd_postfix": "",
     "delete_cmd_prefix": "del ",
     "library": "var_list.py",
     "varRefreshCmd": "print(var_dic_list())"
    },
    "r": {
     "delete_cmd_postfix": ") ",
     "delete_cmd_prefix": "rm(",
     "library": "var_list.r",
     "varRefreshCmd": "cat(var_dic_list()) "
    }
   },
   "types_to_exclude": [
    "module",
    "function",
    "builtin_function_or_method",
    "instance",
    "_Feature"
   ],
   "window_display": false
  }
 },
 "nbformat": 4,
 "nbformat_minor": 5
}
